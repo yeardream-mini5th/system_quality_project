{
  "nbformat": 4,
  "nbformat_minor": 0,
  "metadata": {
    "colab": {
      "name": "ensemble_voting_Implementation.ipynb",
      "provenance": [],
      "collapsed_sections": []
    },
    "kernelspec": {
      "name": "python3",
      "display_name": "Python 3"
    },
    "language_info": {
      "name": "python"
    }
  },
  "cells": [
    {
      "cell_type": "code",
      "execution_count": 6,
      "metadata": {
        "id": "75RpVLmJElaS"
      },
      "outputs": [],
      "source": [
        "# 모듈 import\n",
        "import pandas as pd\n",
        "import numpy as np\n",
        "\n",
        "from sklearn.ensemble import VotingClassifier\n",
        "from sklearn.linear_model import LogisticRegression\n",
        "from sklearn.neighbors import KNeighborsClassifier\n",
        "from sklearn.datasets import load_breast_cancer\n",
        "from sklearn.model_selection import train_test_split\n",
        "from sklearn.metrics import accuracy_score\n",
        "from sklearn.metrics import accuracy_score\n",
        "from tqdm import tqdm\n",
        "\n",
        "import warnings\n",
        "warnings.filterwarnings('ignore')"
      ]
    },
    {
      "cell_type": "code",
      "source": [
        "# path 지정\n",
        "base_path = \"/content/drive/MyDrive/Colab Notebooks/data/235687_시스템 품질 변화로 인한 사용자 불편 예지 AI 경진대회_data/convert/\"\n",
        "save_path = \"/content/drive/MyDrive/Colab Notebooks/data/235687_시스템 품질 변화로 인한 사용자 불편 예지 AI 경진대회_data/result/\""
      ],
      "metadata": {
        "id": "rOYxG1wIE-Hd"
      },
      "execution_count": 3,
      "outputs": []
    },
    {
      "cell_type": "code",
      "source": [
        "# train data 불러오기\n",
        "train_quality = pd.read_csv(base_path+'train_quality_data_.csv')\n",
        "train_problem = pd.read_csv(base_path+'train_problem_data_.csv')\n",
        "train_error = pd.read_csv(base_path+'train_err_data_.csv')\n",
        "test_quality = pd.read_csv(base_path+'test_quality_data_.csv')\n",
        "test_error = pd.read_csv(base_path+'test_err_data_.csv')"
      ],
      "metadata": {
        "id": "T5i3Kn-MaFva"
      },
      "execution_count": 5,
      "outputs": []
    },
    {
      "cell_type": "code",
      "source": [
        "# train_error\n",
        "id_error = train_error[['user_id', 'errtype']].values\n",
        "error = np.zeros((15000,42))\n",
        "\n",
        "for person_idx, err in tqdm(id_error):\n",
        "    # person_idx -10000 위치에 person_idx, errtype에 해당하는 error값을 +1\n",
        "    error[person_idx - 10000, err - 1] += 1"
      ],
      "metadata": {
        "colab": {
          "base_uri": "https://localhost:8080/"
        },
        "id": "TAKRkKorac-n",
        "outputId": "9b1a8302-fe5f-4654-dd22-bac793541cff"
      },
      "execution_count": 7,
      "outputs": [
        {
          "output_type": "stream",
          "name": "stderr",
          "text": [
            "100%|██████████| 16554663/16554663 [00:47<00:00, 351706.37it/s]\n"
          ]
        }
      ]
    },
    {
      "cell_type": "code",
      "source": [
        "train_df = pd.DataFrame(error)"
      ],
      "metadata": {
        "id": "YLE-lOxzafzn"
      },
      "execution_count": 8,
      "outputs": []
    },
    {
      "cell_type": "code",
      "source": [
        "# train_problem\n",
        "problem = np.zeros(15000)\n",
        "problem[train_problem.user_id.unique()-10000] = 1"
      ],
      "metadata": {
        "id": "X5F5KY21aiPl"
      },
      "execution_count": 9,
      "outputs": []
    },
    {
      "cell_type": "code",
      "source": [
        "target = pd.DataFrame(problem)"
      ],
      "metadata": {
        "id": "vwLR0xMlamK4"
      },
      "execution_count": 10,
      "outputs": []
    },
    {
      "cell_type": "code",
      "source": [
        "lr_clf = LogisticRegression()\n",
        "knn_clf = KNeighborsClassifier(n_neighbors=8)\n",
        "\n",
        "vo_clf = VotingClassifier(estimators=[('LR', lr_clf), ('KNN', knn_clf)], voting='soft')\n",
        "# train validation 분리\n",
        "X_train, X_val, y_train, y_val = train_test_split(train_df,target,test_size=0.2, random_state=42)\n",
        "\n",
        "vo_clf.fit(X_train, y_train)\n",
        "pred = vo_clf.predict(X_val)\n",
        "print(f'보팅 분류기 정확도: {np.round(accuracy_score(y_val, pred), 4)}')\n",
        "\n",
        "classifiers = [lr_clf, knn_clf]\n",
        "for classifier in classifiers:\n",
        "    classifier.fit(X_train, y_train)\n",
        "    pred = classifier.predict(X_val)\n",
        "    class_name = classifier.__class__.__name__\n",
        "    print('{0} 정확도: {1:.4f}'.format(class_name, accuracy_score(y_val, pred)))"
      ],
      "metadata": {
        "colab": {
          "base_uri": "https://localhost:8080/"
        },
        "id": "-LXijk_faHEt",
        "outputId": "503e00b0-32e6-4595-94e6-eb1be3cf0eae"
      },
      "execution_count": 13,
      "outputs": [
        {
          "output_type": "stream",
          "name": "stdout",
          "text": [
            "보팅 분류기 정확도: 0.585\n",
            "LogisticRegression 정확도: 0.5690\n",
            "KNeighborsClassifier 정확도: 0.5840\n"
          ]
        }
      ]
    }
  ]
}