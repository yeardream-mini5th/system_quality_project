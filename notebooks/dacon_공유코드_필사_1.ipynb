{
  "nbformat": 4,
  "nbformat_minor": 0,
  "metadata": {
    "colab": {
      "name": "dacon_공유코드_필사_1.ipynb",
      "provenance": [],
      "collapsed_sections": []
    },
    "kernelspec": {
      "name": "python3",
      "display_name": "Python 3"
    },
    "language_info": {
      "name": "python"
    }
  },
  "cells": [
    {
      "cell_type": "markdown",
      "source": [
        "# 전체적인 데이터 이해\n",
        "# EDA 목차\n",
        "\n",
        "- index\n",
        "    1. 패키지 불러오기\n",
        "    2. 데이터 불러오기\n",
        "    3. 데이터 정보\n",
        "        - 3-1. 데이터 소개\n",
        "        - 3-2. 결측치 확인\n",
        "        - 3-3. 데이터 기본 전처리\n",
        "        - 3-3. 이상치 확인\n",
        "    4. 불만 제기 시간 확인\n",
        "        - 4-1. 고객들의 시간별 불만 제기\n",
        "    5. Err Data 관계 해석\n",
        "        - 5-1. Errtype\n",
        "        - 5-2. Errcode\n",
        "        - 5-3. Fwver\n",
        "        - 5-4. Model\n",
        "    6. Quality Data 수치 해석\n",
        "        - 6-1. Quality 값\n",
        "        - 6-2. Fwver\n",
        "    7. Err Data와 Quality Data 관계 해석\n",
        "    8. 결과 정리"
      ],
      "metadata": {
        "id": "le2-fKSLlEPE"
      }
    },
    {
      "cell_type": "markdown",
      "source": [
        "## 1. 패키지 불러오기"
      ],
      "metadata": {
        "id": "du6PTKTollu0"
      }
    },
    {
      "cell_type": "code",
      "execution_count": 51,
      "metadata": {
        "id": "hJZM4ogTk9SB"
      },
      "outputs": [],
      "source": [
        "import os\n",
        "import random \n",
        "import datetime as dt\n",
        "import numpy as np\n",
        "import pandas as pd\n",
        "\n",
        "from tqdm import tqdm"
      ]
    },
    {
      "cell_type": "code",
      "source": [
        "import warnings\n",
        "warnings.filterwarnings(action='ignore')"
      ],
      "metadata": {
        "id": "T-TFblBPlr9L"
      },
      "execution_count": 52,
      "outputs": []
    },
    {
      "cell_type": "code",
      "source": [
        "# dataframe 보여줄 범위 설정\n",
        "\n",
        "pd.options.display.max_columns=1000\n",
        "pd.options.display.max_rows=200\n",
        "pd.options.display.float_format = '{:.5f}'.format"
      ],
      "metadata": {
        "id": "aWziaGd8mE6t"
      },
      "execution_count": 53,
      "outputs": []
    },
    {
      "cell_type": "markdown",
      "source": [
        "## 2. 데이터 불러오기"
      ],
      "metadata": {
        "id": "UN-g_5p_mf2o"
      }
    },
    {
      "cell_type": "code",
      "source": [
        "load_path = '/content/drive/MyDrive/Colab Notebooks/data/235687_시스템 품질 변화로 인한 사용자 불편 예지 AI 경진대회_data/'\n",
        "save_path = '/content/drive/MyDrive/Colab Notebooks/data/235687_시스템 품질 변화로 인한 사용자 불편 예지 AI 경진대회_data/result/'"
      ],
      "metadata": {
        "id": "8Qw7e61lmaeK"
      },
      "execution_count": 54,
      "outputs": []
    },
    {
      "cell_type": "code",
      "source": [
        "train_err = pd.read_csv(load_path + 'train_err_data.csv')\n",
        "train_qual = pd.read_csv(load_path + 'train_quality_data.csv')\n",
        "train_prob = pd.read_csv(load_path + 'train_problem_data.csv')"
      ],
      "metadata": {
        "id": "GjBK5pp6n9fs"
      },
      "execution_count": 55,
      "outputs": []
    },
    {
      "cell_type": "code",
      "source": [
        "test_err = pd.read_csv(load_path + 'test_err_data.csv')\n",
        "test_qual = pd.read_csv(load_path + 'test_quality_data.csv')"
      ],
      "metadata": {
        "id": "BrlD8KlNoTRQ"
      },
      "execution_count": 56,
      "outputs": []
    },
    {
      "cell_type": "markdown",
      "source": [
        "## 3.데이터 정보\n",
        "### 3-1 데이터 소개\n",
        "- Error Data는 사람들이 에러를 접한 시간을 기준으로 **어떤 Model과 Fwver를 사용했는지와 어떤 Errtype과 Errcode를 접했는지**에 대한 내용입니다.  \n",
        "  \n",
        "- 변수는 총 6개이며 1600만개의 관측치가 user_id를 기준으로 시계열 데이터로 나와있습니다.  \n",
        "    - user_id : 사용자 고유 ID\n",
        "    - time : 에러가 발생한 시간\n",
        "    - model : 에러가 발생한 모델명\n",
        "    - fwver : 에러가 발생한 펌웨어 버전\n",
        "    - errtype : 발생한 에러 타입\n",
        "    - errcode : 발생한 에러 코드"
      ],
      "metadata": {
        "id": "UxcQopqzojyN"
      }
    },
    {
      "cell_type": "code",
      "source": [
        "train_err.info()"
      ],
      "metadata": {
        "colab": {
          "base_uri": "https://localhost:8080/"
        },
        "id": "3vOPcr0-oia3",
        "outputId": "414bbe15-0de6-4217-faec-22fb79c08493"
      },
      "execution_count": 57,
      "outputs": [
        {
          "output_type": "stream",
          "name": "stdout",
          "text": [
            "<class 'pandas.core.frame.DataFrame'>\n",
            "RangeIndex: 16554663 entries, 0 to 16554662\n",
            "Data columns (total 6 columns):\n",
            " #   Column    Dtype \n",
            "---  ------    ----- \n",
            " 0   user_id   int64 \n",
            " 1   time      int64 \n",
            " 2   model_nm  object\n",
            " 3   fwver     object\n",
            " 4   errtype   int64 \n",
            " 5   errcode   object\n",
            "dtypes: int64(3), object(3)\n",
            "memory usage: 757.8+ MB\n"
          ]
        }
      ]
    },
    {
      "cell_type": "code",
      "source": [
        "test_err.info()"
      ],
      "metadata": {
        "colab": {
          "base_uri": "https://localhost:8080/"
        },
        "id": "WFBwr2RUp80Q",
        "outputId": "f89e83f8-ddf8-44f1-deef-fa85cc48cc87"
      },
      "execution_count": 58,
      "outputs": [
        {
          "output_type": "stream",
          "name": "stdout",
          "text": [
            "<class 'pandas.core.frame.DataFrame'>\n",
            "RangeIndex: 16532648 entries, 0 to 16532647\n",
            "Data columns (total 6 columns):\n",
            " #   Column    Dtype \n",
            "---  ------    ----- \n",
            " 0   user_id   int64 \n",
            " 1   time      int64 \n",
            " 2   model_nm  object\n",
            " 3   fwver     object\n",
            " 4   errtype   int64 \n",
            " 5   errcode   object\n",
            "dtypes: int64(3), object(3)\n",
            "memory usage: 756.8+ MB\n"
          ]
        }
      ]
    },
    {
      "cell_type": "markdown",
      "source": [
        "- quality data의 경우 사용자가 시스템을 사용하던 중 문제가 발생하면 **측정 가능한 지표**들을 문제발생시점부터 **2시간 단위로 수집**한 내용입니다.\n",
        "    - user_id : 사용자 고유 ID\n",
        "    - time : 퀄리티가 수집되기 시작한 시간\n",
        "    - fwver : 퀄리티 수집 시작 시점 기준의 펌웨어 버전\n",
        "    - quality : 에러 퀄리티 수치 (0~12, 총 13개 컬럼)"
      ],
      "metadata": {
        "id": "FYzy8F-kqDiJ"
      }
    },
    {
      "cell_type": "code",
      "source": [
        "train_qual.info()"
      ],
      "metadata": {
        "colab": {
          "base_uri": "https://localhost:8080/"
        },
        "id": "7UiLQOMhqB9g",
        "outputId": "5e121b99-ec6c-445d-cfd1-2fbf8ab6c43b"
      },
      "execution_count": 59,
      "outputs": [
        {
          "output_type": "stream",
          "name": "stdout",
          "text": [
            "<class 'pandas.core.frame.DataFrame'>\n",
            "RangeIndex: 828624 entries, 0 to 828623\n",
            "Data columns (total 16 columns):\n",
            " #   Column      Non-Null Count   Dtype  \n",
            "---  ------      --------------   -----  \n",
            " 0   time        828624 non-null  int64  \n",
            " 1   user_id     828624 non-null  int64  \n",
            " 2   fwver       788544 non-null  object \n",
            " 3   quality_0   684192 non-null  float64\n",
            " 4   quality_1   828624 non-null  int64  \n",
            " 5   quality_2   788511 non-null  float64\n",
            " 6   quality_3   828624 non-null  int64  \n",
            " 7   quality_4   828624 non-null  int64  \n",
            " 8   quality_5   828604 non-null  object \n",
            " 9   quality_6   828624 non-null  int64  \n",
            " 10  quality_7   828624 non-null  object \n",
            " 11  quality_8   828624 non-null  object \n",
            " 12  quality_9   828624 non-null  object \n",
            " 13  quality_10  828624 non-null  object \n",
            " 14  quality_11  828624 non-null  int64  \n",
            " 15  quality_12  828624 non-null  int64  \n",
            "dtypes: float64(2), int64(8), object(6)\n",
            "memory usage: 101.2+ MB\n"
          ]
        }
      ]
    },
    {
      "cell_type": "code",
      "source": [
        "test_qual.info()"
      ],
      "metadata": {
        "colab": {
          "base_uri": "https://localhost:8080/"
        },
        "id": "COY15f-MqjNL",
        "outputId": "64bd80b3-c627-405f-91b4-3f21d47ed4ef"
      },
      "execution_count": 60,
      "outputs": [
        {
          "output_type": "stream",
          "name": "stdout",
          "text": [
            "<class 'pandas.core.frame.DataFrame'>\n",
            "RangeIndex: 747972 entries, 0 to 747971\n",
            "Data columns (total 16 columns):\n",
            " #   Column      Non-Null Count   Dtype  \n",
            "---  ------      --------------   -----  \n",
            " 0   time        747972 non-null  int64  \n",
            " 1   user_id     747972 non-null  int64  \n",
            " 2   fwver       725208 non-null  object \n",
            " 3   quality_0   641388 non-null  float64\n",
            " 4   quality_1   747961 non-null  object \n",
            " 5   quality_2   726857 non-null  float64\n",
            " 6   quality_3   747972 non-null  int64  \n",
            " 7   quality_4   747972 non-null  int64  \n",
            " 8   quality_5   747928 non-null  object \n",
            " 9   quality_6   747972 non-null  int64  \n",
            " 10  quality_7   747972 non-null  object \n",
            " 11  quality_8   747972 non-null  object \n",
            " 12  quality_9   747972 non-null  object \n",
            " 13  quality_10  747972 non-null  object \n",
            " 14  quality_11  747972 non-null  int64  \n",
            " 15  quality_12  747972 non-null  int64  \n",
            "dtypes: float64(2), int64(7), object(7)\n",
            "memory usage: 91.3+ MB\n"
          ]
        }
      ]
    },
    {
      "cell_type": "markdown",
      "source": [
        "- problem data는 불만을 제기한 사람들에 대한 데이터입니다.\n",
        "    - user_id : 불만을 제기한 유저 ID\n",
        "    - time : 불만 점수 시간\n",
        "    - <u>**한 사용자가 불만을 여러번 제기할 수 있음**<u/>\n",
        "\n"
      ],
      "metadata": {
        "id": "CuFKxykGqncW"
      }
    },
    {
      "cell_type": "code",
      "source": [
        "train_prob.info()"
      ],
      "metadata": {
        "id": "bOrbPwfkqkyy",
        "colab": {
          "base_uri": "https://localhost:8080/"
        },
        "outputId": "0f380a8b-8985-48f9-9e41-f40abdb2c36d"
      },
      "execution_count": 61,
      "outputs": [
        {
          "output_type": "stream",
          "name": "stdout",
          "text": [
            "<class 'pandas.core.frame.DataFrame'>\n",
            "RangeIndex: 5429 entries, 0 to 5428\n",
            "Data columns (total 2 columns):\n",
            " #   Column   Non-Null Count  Dtype\n",
            "---  ------   --------------  -----\n",
            " 0   user_id  5429 non-null   int64\n",
            " 1   time     5429 non-null   int64\n",
            "dtypes: int64(2)\n",
            "memory usage: 85.0 KB\n"
          ]
        }
      ]
    },
    {
      "cell_type": "markdown",
      "source": [
        "### 3-2. 결측치 확인\n",
        "1. train_err_data - missing value  \n",
        "    - errcode 결측치 존재(1개)"
      ],
      "metadata": {
        "id": "tUq7dzfju-kl"
      }
    },
    {
      "cell_type": "code",
      "source": [
        "train_err.isnull().sum()"
      ],
      "metadata": {
        "colab": {
          "base_uri": "https://localhost:8080/"
        },
        "id": "77Ff6bbou8_Z",
        "outputId": "127dd3ca-c300-4d97-8198-719b5ea8c074"
      },
      "execution_count": 62,
      "outputs": [
        {
          "output_type": "execute_result",
          "data": {
            "text/plain": [
              "user_id     0\n",
              "time        0\n",
              "model_nm    0\n",
              "fwver       0\n",
              "errtype     0\n",
              "errcode     1\n",
              "dtype: int64"
            ]
          },
          "metadata": {},
          "execution_count": 62
        }
      ]
    },
    {
      "cell_type": "code",
      "source": [
        "train_err[train_err['errcode'].isnull()]"
      ],
      "metadata": {
        "colab": {
          "base_uri": "https://localhost:8080/",
          "height": 81
        },
        "id": "r9CW49xsvYQC",
        "outputId": "ef43e943-9ccd-4d7d-8ed0-4240edd1bd00"
      },
      "execution_count": 63,
      "outputs": [
        {
          "output_type": "execute_result",
          "data": {
            "text/plain": [
              "         user_id            time model_nm       fwver  errtype errcode\n",
              "3825744    13639  20201121191718  model_2  04.33.1261        5     NaN"
            ],
            "text/html": [
              "\n",
              "  <div id=\"df-ff8d0e9a-5d54-482a-9c31-7c6cc237d931\">\n",
              "    <div class=\"colab-df-container\">\n",
              "      <div>\n",
              "<style scoped>\n",
              "    .dataframe tbody tr th:only-of-type {\n",
              "        vertical-align: middle;\n",
              "    }\n",
              "\n",
              "    .dataframe tbody tr th {\n",
              "        vertical-align: top;\n",
              "    }\n",
              "\n",
              "    .dataframe thead th {\n",
              "        text-align: right;\n",
              "    }\n",
              "</style>\n",
              "<table border=\"1\" class=\"dataframe\">\n",
              "  <thead>\n",
              "    <tr style=\"text-align: right;\">\n",
              "      <th></th>\n",
              "      <th>user_id</th>\n",
              "      <th>time</th>\n",
              "      <th>model_nm</th>\n",
              "      <th>fwver</th>\n",
              "      <th>errtype</th>\n",
              "      <th>errcode</th>\n",
              "    </tr>\n",
              "  </thead>\n",
              "  <tbody>\n",
              "    <tr>\n",
              "      <th>3825744</th>\n",
              "      <td>13639</td>\n",
              "      <td>20201121191718</td>\n",
              "      <td>model_2</td>\n",
              "      <td>04.33.1261</td>\n",
              "      <td>5</td>\n",
              "      <td>NaN</td>\n",
              "    </tr>\n",
              "  </tbody>\n",
              "</table>\n",
              "</div>\n",
              "      <button class=\"colab-df-convert\" onclick=\"convertToInteractive('df-ff8d0e9a-5d54-482a-9c31-7c6cc237d931')\"\n",
              "              title=\"Convert this dataframe to an interactive table.\"\n",
              "              style=\"display:none;\">\n",
              "        \n",
              "  <svg xmlns=\"http://www.w3.org/2000/svg\" height=\"24px\"viewBox=\"0 0 24 24\"\n",
              "       width=\"24px\">\n",
              "    <path d=\"M0 0h24v24H0V0z\" fill=\"none\"/>\n",
              "    <path d=\"M18.56 5.44l.94 2.06.94-2.06 2.06-.94-2.06-.94-.94-2.06-.94 2.06-2.06.94zm-11 1L8.5 8.5l.94-2.06 2.06-.94-2.06-.94L8.5 2.5l-.94 2.06-2.06.94zm10 10l.94 2.06.94-2.06 2.06-.94-2.06-.94-.94-2.06-.94 2.06-2.06.94z\"/><path d=\"M17.41 7.96l-1.37-1.37c-.4-.4-.92-.59-1.43-.59-.52 0-1.04.2-1.43.59L10.3 9.45l-7.72 7.72c-.78.78-.78 2.05 0 2.83L4 21.41c.39.39.9.59 1.41.59.51 0 1.02-.2 1.41-.59l7.78-7.78 2.81-2.81c.8-.78.8-2.07 0-2.86zM5.41 20L4 18.59l7.72-7.72 1.47 1.35L5.41 20z\"/>\n",
              "  </svg>\n",
              "      </button>\n",
              "      \n",
              "  <style>\n",
              "    .colab-df-container {\n",
              "      display:flex;\n",
              "      flex-wrap:wrap;\n",
              "      gap: 12px;\n",
              "    }\n",
              "\n",
              "    .colab-df-convert {\n",
              "      background-color: #E8F0FE;\n",
              "      border: none;\n",
              "      border-radius: 50%;\n",
              "      cursor: pointer;\n",
              "      display: none;\n",
              "      fill: #1967D2;\n",
              "      height: 32px;\n",
              "      padding: 0 0 0 0;\n",
              "      width: 32px;\n",
              "    }\n",
              "\n",
              "    .colab-df-convert:hover {\n",
              "      background-color: #E2EBFA;\n",
              "      box-shadow: 0px 1px 2px rgba(60, 64, 67, 0.3), 0px 1px 3px 1px rgba(60, 64, 67, 0.15);\n",
              "      fill: #174EA6;\n",
              "    }\n",
              "\n",
              "    [theme=dark] .colab-df-convert {\n",
              "      background-color: #3B4455;\n",
              "      fill: #D2E3FC;\n",
              "    }\n",
              "\n",
              "    [theme=dark] .colab-df-convert:hover {\n",
              "      background-color: #434B5C;\n",
              "      box-shadow: 0px 1px 3px 1px rgba(0, 0, 0, 0.15);\n",
              "      filter: drop-shadow(0px 1px 2px rgba(0, 0, 0, 0.3));\n",
              "      fill: #FFFFFF;\n",
              "    }\n",
              "  </style>\n",
              "\n",
              "      <script>\n",
              "        const buttonEl =\n",
              "          document.querySelector('#df-ff8d0e9a-5d54-482a-9c31-7c6cc237d931 button.colab-df-convert');\n",
              "        buttonEl.style.display =\n",
              "          google.colab.kernel.accessAllowed ? 'block' : 'none';\n",
              "\n",
              "        async function convertToInteractive(key) {\n",
              "          const element = document.querySelector('#df-ff8d0e9a-5d54-482a-9c31-7c6cc237d931');\n",
              "          const dataTable =\n",
              "            await google.colab.kernel.invokeFunction('convertToInteractive',\n",
              "                                                     [key], {});\n",
              "          if (!dataTable) return;\n",
              "\n",
              "          const docLinkHtml = 'Like what you see? Visit the ' +\n",
              "            '<a target=\"_blank\" href=https://colab.research.google.com/notebooks/data_table.ipynb>data table notebook</a>'\n",
              "            + ' to learn more about interactive tables.';\n",
              "          element.innerHTML = '';\n",
              "          dataTable['output_type'] = 'display_data';\n",
              "          await google.colab.output.renderOutput(dataTable, element);\n",
              "          const docLink = document.createElement('div');\n",
              "          docLink.innerHTML = docLinkHtml;\n",
              "          element.appendChild(docLink);\n",
              "        }\n",
              "      </script>\n",
              "    </div>\n",
              "  </div>\n",
              "  "
            ]
          },
          "metadata": {},
          "execution_count": 63
        }
      ]
    },
    {
      "cell_type": "markdown",
      "source": [
        "- 기록된 user_id와 time, model_nm, fwver, errtype이 같다면 errcode도 같을거라는 예상으로 결측치를 채웁니다."
      ],
      "metadata": {
        "id": "hT98XdNmvwkF"
      }
    },
    {
      "cell_type": "code",
      "source": [
        "# tre = train_err.iloc[:4000000, :].copy() # tre라는 변수를 만들어 train_err data에서 400만개의 데이터만 뽑아 복사하고\n",
        "# tre_missing = tre.groupby(['user_id','time','fwver','errtype'])['errcode'].unique().to_frame() # user_id, time, fwver, errtype으로 묶어 errcode가 unique한 값들로 tre_missing이라는 dataframe을 생성"
      ],
      "metadata": {
        "id": "Mk8099x6xWut"
      },
      "execution_count": 64,
      "outputs": []
    },
    {
      "cell_type": "code",
      "source": [
        "tre_missing"
      ],
      "metadata": {
        "colab": {
          "base_uri": "https://localhost:8080/",
          "height": 455
        },
        "id": "PSUqyeR15ASk",
        "outputId": "785d3e86-83c1-40b7-a5cb-901b8dd9b8d9"
      },
      "execution_count": 65,
      "outputs": [
        {
          "output_type": "execute_result",
          "data": {
            "text/plain": [
              "                                                        errcode\n",
              "user_id time           fwver      errtype                      \n",
              "10000   20201101025616 05.15.2138 15                        [1]\n",
              "        20201101030309 05.15.2138 11                        [1]\n",
              "                                  12                        [1]\n",
              "        20201101050514 05.15.2138 16                        [1]\n",
              "        20201101050515 05.15.2138 4                         [0]\n",
              "...                                                         ...\n",
              "13797   20201107213342 04.16.3553 22                        [1]\n",
              "        20201107213347 04.16.3553 23       [connection timeout]\n",
              "        20201107213405 04.16.3553 23       [connection timeout]\n",
              "        20201107213413 04.16.3553 22                        [1]\n",
              "        20201107213419 04.16.3553 23       [connection timeout]\n",
              "\n",
              "[3695057 rows x 1 columns]"
            ],
            "text/html": [
              "\n",
              "  <div id=\"df-76892d7e-063d-4045-8b8a-2c9291422973\">\n",
              "    <div class=\"colab-df-container\">\n",
              "      <div>\n",
              "<style scoped>\n",
              "    .dataframe tbody tr th:only-of-type {\n",
              "        vertical-align: middle;\n",
              "    }\n",
              "\n",
              "    .dataframe tbody tr th {\n",
              "        vertical-align: top;\n",
              "    }\n",
              "\n",
              "    .dataframe thead th {\n",
              "        text-align: right;\n",
              "    }\n",
              "</style>\n",
              "<table border=\"1\" class=\"dataframe\">\n",
              "  <thead>\n",
              "    <tr style=\"text-align: right;\">\n",
              "      <th></th>\n",
              "      <th></th>\n",
              "      <th></th>\n",
              "      <th></th>\n",
              "      <th>errcode</th>\n",
              "    </tr>\n",
              "    <tr>\n",
              "      <th>user_id</th>\n",
              "      <th>time</th>\n",
              "      <th>fwver</th>\n",
              "      <th>errtype</th>\n",
              "      <th></th>\n",
              "    </tr>\n",
              "  </thead>\n",
              "  <tbody>\n",
              "    <tr>\n",
              "      <th rowspan=\"5\" valign=\"top\">10000</th>\n",
              "      <th>20201101025616</th>\n",
              "      <th>05.15.2138</th>\n",
              "      <th>15</th>\n",
              "      <td>[1]</td>\n",
              "    </tr>\n",
              "    <tr>\n",
              "      <th rowspan=\"2\" valign=\"top\">20201101030309</th>\n",
              "      <th rowspan=\"2\" valign=\"top\">05.15.2138</th>\n",
              "      <th>11</th>\n",
              "      <td>[1]</td>\n",
              "    </tr>\n",
              "    <tr>\n",
              "      <th>12</th>\n",
              "      <td>[1]</td>\n",
              "    </tr>\n",
              "    <tr>\n",
              "      <th>20201101050514</th>\n",
              "      <th>05.15.2138</th>\n",
              "      <th>16</th>\n",
              "      <td>[1]</td>\n",
              "    </tr>\n",
              "    <tr>\n",
              "      <th>20201101050515</th>\n",
              "      <th>05.15.2138</th>\n",
              "      <th>4</th>\n",
              "      <td>[0]</td>\n",
              "    </tr>\n",
              "    <tr>\n",
              "      <th>...</th>\n",
              "      <th>...</th>\n",
              "      <th>...</th>\n",
              "      <th>...</th>\n",
              "      <td>...</td>\n",
              "    </tr>\n",
              "    <tr>\n",
              "      <th rowspan=\"5\" valign=\"top\">13797</th>\n",
              "      <th>20201107213342</th>\n",
              "      <th>04.16.3553</th>\n",
              "      <th>22</th>\n",
              "      <td>[1]</td>\n",
              "    </tr>\n",
              "    <tr>\n",
              "      <th>20201107213347</th>\n",
              "      <th>04.16.3553</th>\n",
              "      <th>23</th>\n",
              "      <td>[connection timeout]</td>\n",
              "    </tr>\n",
              "    <tr>\n",
              "      <th>20201107213405</th>\n",
              "      <th>04.16.3553</th>\n",
              "      <th>23</th>\n",
              "      <td>[connection timeout]</td>\n",
              "    </tr>\n",
              "    <tr>\n",
              "      <th>20201107213413</th>\n",
              "      <th>04.16.3553</th>\n",
              "      <th>22</th>\n",
              "      <td>[1]</td>\n",
              "    </tr>\n",
              "    <tr>\n",
              "      <th>20201107213419</th>\n",
              "      <th>04.16.3553</th>\n",
              "      <th>23</th>\n",
              "      <td>[connection timeout]</td>\n",
              "    </tr>\n",
              "  </tbody>\n",
              "</table>\n",
              "<p>3695057 rows × 1 columns</p>\n",
              "</div>\n",
              "      <button class=\"colab-df-convert\" onclick=\"convertToInteractive('df-76892d7e-063d-4045-8b8a-2c9291422973')\"\n",
              "              title=\"Convert this dataframe to an interactive table.\"\n",
              "              style=\"display:none;\">\n",
              "        \n",
              "  <svg xmlns=\"http://www.w3.org/2000/svg\" height=\"24px\"viewBox=\"0 0 24 24\"\n",
              "       width=\"24px\">\n",
              "    <path d=\"M0 0h24v24H0V0z\" fill=\"none\"/>\n",
              "    <path d=\"M18.56 5.44l.94 2.06.94-2.06 2.06-.94-2.06-.94-.94-2.06-.94 2.06-2.06.94zm-11 1L8.5 8.5l.94-2.06 2.06-.94-2.06-.94L8.5 2.5l-.94 2.06-2.06.94zm10 10l.94 2.06.94-2.06 2.06-.94-2.06-.94-.94-2.06-.94 2.06-2.06.94z\"/><path d=\"M17.41 7.96l-1.37-1.37c-.4-.4-.92-.59-1.43-.59-.52 0-1.04.2-1.43.59L10.3 9.45l-7.72 7.72c-.78.78-.78 2.05 0 2.83L4 21.41c.39.39.9.59 1.41.59.51 0 1.02-.2 1.41-.59l7.78-7.78 2.81-2.81c.8-.78.8-2.07 0-2.86zM5.41 20L4 18.59l7.72-7.72 1.47 1.35L5.41 20z\"/>\n",
              "  </svg>\n",
              "      </button>\n",
              "      \n",
              "  <style>\n",
              "    .colab-df-container {\n",
              "      display:flex;\n",
              "      flex-wrap:wrap;\n",
              "      gap: 12px;\n",
              "    }\n",
              "\n",
              "    .colab-df-convert {\n",
              "      background-color: #E8F0FE;\n",
              "      border: none;\n",
              "      border-radius: 50%;\n",
              "      cursor: pointer;\n",
              "      display: none;\n",
              "      fill: #1967D2;\n",
              "      height: 32px;\n",
              "      padding: 0 0 0 0;\n",
              "      width: 32px;\n",
              "    }\n",
              "\n",
              "    .colab-df-convert:hover {\n",
              "      background-color: #E2EBFA;\n",
              "      box-shadow: 0px 1px 2px rgba(60, 64, 67, 0.3), 0px 1px 3px 1px rgba(60, 64, 67, 0.15);\n",
              "      fill: #174EA6;\n",
              "    }\n",
              "\n",
              "    [theme=dark] .colab-df-convert {\n",
              "      background-color: #3B4455;\n",
              "      fill: #D2E3FC;\n",
              "    }\n",
              "\n",
              "    [theme=dark] .colab-df-convert:hover {\n",
              "      background-color: #434B5C;\n",
              "      box-shadow: 0px 1px 3px 1px rgba(0, 0, 0, 0.15);\n",
              "      filter: drop-shadow(0px 1px 2px rgba(0, 0, 0, 0.3));\n",
              "      fill: #FFFFFF;\n",
              "    }\n",
              "  </style>\n",
              "\n",
              "      <script>\n",
              "        const buttonEl =\n",
              "          document.querySelector('#df-76892d7e-063d-4045-8b8a-2c9291422973 button.colab-df-convert');\n",
              "        buttonEl.style.display =\n",
              "          google.colab.kernel.accessAllowed ? 'block' : 'none';\n",
              "\n",
              "        async function convertToInteractive(key) {\n",
              "          const element = document.querySelector('#df-76892d7e-063d-4045-8b8a-2c9291422973');\n",
              "          const dataTable =\n",
              "            await google.colab.kernel.invokeFunction('convertToInteractive',\n",
              "                                                     [key], {});\n",
              "          if (!dataTable) return;\n",
              "\n",
              "          const docLinkHtml = 'Like what you see? Visit the ' +\n",
              "            '<a target=\"_blank\" href=https://colab.research.google.com/notebooks/data_table.ipynb>data table notebook</a>'\n",
              "            + ' to learn more about interactive tables.';\n",
              "          element.innerHTML = '';\n",
              "          dataTable['output_type'] = 'display_data';\n",
              "          await google.colab.output.renderOutput(dataTable, element);\n",
              "          const docLink = document.createElement('div');\n",
              "          docLink.innerHTML = docLinkHtml;\n",
              "          element.appendChild(docLink);\n",
              "        }\n",
              "      </script>\n",
              "    </div>\n",
              "  </div>\n",
              "  "
            ]
          },
          "metadata": {},
          "execution_count": 65
        }
      ]
    },
    {
      "cell_type": "code",
      "source": [
        "tre_missing['errcode']"
      ],
      "metadata": {
        "colab": {
          "base_uri": "https://localhost:8080/"
        },
        "id": "lefNSZPo6SWO",
        "outputId": "2caa7245-f323-48a1-cec7-f9d2e02f88cd"
      },
      "execution_count": 66,
      "outputs": [
        {
          "output_type": "execute_result",
          "data": {
            "text/plain": [
              "user_id  time            fwver       errtype\n",
              "10000    20201101025616  05.15.2138  15                          [1]\n",
              "         20201101030309  05.15.2138  11                          [1]\n",
              "                                     12                          [1]\n",
              "         20201101050514  05.15.2138  16                          [1]\n",
              "         20201101050515  05.15.2138  4                           [0]\n",
              "                                                        ...         \n",
              "13797    20201107213342  04.16.3553  22                          [1]\n",
              "         20201107213347  04.16.3553  23         [connection timeout]\n",
              "         20201107213405  04.16.3553  23         [connection timeout]\n",
              "         20201107213413  04.16.3553  22                          [1]\n",
              "         20201107213419  04.16.3553  23         [connection timeout]\n",
              "Name: errcode, Length: 3695057, dtype: object"
            ]
          },
          "metadata": {},
          "execution_count": 66
        }
      ]
    },
    {
      "cell_type": "code",
      "source": [
        "# tre_missing['errcode'] = tre_missing['errcode'].apply(lambda x : len(x)) # errcode 컬럼 값을 바꿈\n",
        "\n",
        "# ltwo = len(tre_missing[tre_missing['errcode'] != 1]) # errcode 컬럼의 값이 1이 아닌 것들 (동일한 특성을 갖는 row안에 다른 errcode)\n",
        "# lone = len(tre_missing[tre_missing['errcode'] == 1]) # errcode 컬럼의 값이 1인 것들 (동일한 특성을 갖는 row안에 같은 errcode)\n",
        "# print(\"동일한 특성을 갖는 Row안에 다른 ErrorCode가 발생할 확률 : %.3f%%\"%(ltwo/lone * 100))"
      ],
      "metadata": {
        "id": "Tl2tZNpovrI4"
      },
      "execution_count": 67,
      "outputs": []
    },
    {
      "cell_type": "code",
      "source": [
        "tre_missing"
      ],
      "metadata": {
        "colab": {
          "base_uri": "https://localhost:8080/",
          "height": 455
        },
        "id": "Sh3Vn0XY2wsj",
        "outputId": "41a5d337-dcf5-4f15-ff1e-6fe17c67d615"
      },
      "execution_count": 68,
      "outputs": [
        {
          "output_type": "execute_result",
          "data": {
            "text/plain": [
              "                                                        errcode\n",
              "user_id time           fwver      errtype                      \n",
              "10000   20201101025616 05.15.2138 15                        [1]\n",
              "        20201101030309 05.15.2138 11                        [1]\n",
              "                                  12                        [1]\n",
              "        20201101050514 05.15.2138 16                        [1]\n",
              "        20201101050515 05.15.2138 4                         [0]\n",
              "...                                                         ...\n",
              "13797   20201107213342 04.16.3553 22                        [1]\n",
              "        20201107213347 04.16.3553 23       [connection timeout]\n",
              "        20201107213405 04.16.3553 23       [connection timeout]\n",
              "        20201107213413 04.16.3553 22                        [1]\n",
              "        20201107213419 04.16.3553 23       [connection timeout]\n",
              "\n",
              "[3695057 rows x 1 columns]"
            ],
            "text/html": [
              "\n",
              "  <div id=\"df-3886da66-f625-469b-9fd0-a3533af16e86\">\n",
              "    <div class=\"colab-df-container\">\n",
              "      <div>\n",
              "<style scoped>\n",
              "    .dataframe tbody tr th:only-of-type {\n",
              "        vertical-align: middle;\n",
              "    }\n",
              "\n",
              "    .dataframe tbody tr th {\n",
              "        vertical-align: top;\n",
              "    }\n",
              "\n",
              "    .dataframe thead th {\n",
              "        text-align: right;\n",
              "    }\n",
              "</style>\n",
              "<table border=\"1\" class=\"dataframe\">\n",
              "  <thead>\n",
              "    <tr style=\"text-align: right;\">\n",
              "      <th></th>\n",
              "      <th></th>\n",
              "      <th></th>\n",
              "      <th></th>\n",
              "      <th>errcode</th>\n",
              "    </tr>\n",
              "    <tr>\n",
              "      <th>user_id</th>\n",
              "      <th>time</th>\n",
              "      <th>fwver</th>\n",
              "      <th>errtype</th>\n",
              "      <th></th>\n",
              "    </tr>\n",
              "  </thead>\n",
              "  <tbody>\n",
              "    <tr>\n",
              "      <th rowspan=\"5\" valign=\"top\">10000</th>\n",
              "      <th>20201101025616</th>\n",
              "      <th>05.15.2138</th>\n",
              "      <th>15</th>\n",
              "      <td>[1]</td>\n",
              "    </tr>\n",
              "    <tr>\n",
              "      <th rowspan=\"2\" valign=\"top\">20201101030309</th>\n",
              "      <th rowspan=\"2\" valign=\"top\">05.15.2138</th>\n",
              "      <th>11</th>\n",
              "      <td>[1]</td>\n",
              "    </tr>\n",
              "    <tr>\n",
              "      <th>12</th>\n",
              "      <td>[1]</td>\n",
              "    </tr>\n",
              "    <tr>\n",
              "      <th>20201101050514</th>\n",
              "      <th>05.15.2138</th>\n",
              "      <th>16</th>\n",
              "      <td>[1]</td>\n",
              "    </tr>\n",
              "    <tr>\n",
              "      <th>20201101050515</th>\n",
              "      <th>05.15.2138</th>\n",
              "      <th>4</th>\n",
              "      <td>[0]</td>\n",
              "    </tr>\n",
              "    <tr>\n",
              "      <th>...</th>\n",
              "      <th>...</th>\n",
              "      <th>...</th>\n",
              "      <th>...</th>\n",
              "      <td>...</td>\n",
              "    </tr>\n",
              "    <tr>\n",
              "      <th rowspan=\"5\" valign=\"top\">13797</th>\n",
              "      <th>20201107213342</th>\n",
              "      <th>04.16.3553</th>\n",
              "      <th>22</th>\n",
              "      <td>[1]</td>\n",
              "    </tr>\n",
              "    <tr>\n",
              "      <th>20201107213347</th>\n",
              "      <th>04.16.3553</th>\n",
              "      <th>23</th>\n",
              "      <td>[connection timeout]</td>\n",
              "    </tr>\n",
              "    <tr>\n",
              "      <th>20201107213405</th>\n",
              "      <th>04.16.3553</th>\n",
              "      <th>23</th>\n",
              "      <td>[connection timeout]</td>\n",
              "    </tr>\n",
              "    <tr>\n",
              "      <th>20201107213413</th>\n",
              "      <th>04.16.3553</th>\n",
              "      <th>22</th>\n",
              "      <td>[1]</td>\n",
              "    </tr>\n",
              "    <tr>\n",
              "      <th>20201107213419</th>\n",
              "      <th>04.16.3553</th>\n",
              "      <th>23</th>\n",
              "      <td>[connection timeout]</td>\n",
              "    </tr>\n",
              "  </tbody>\n",
              "</table>\n",
              "<p>3695057 rows × 1 columns</p>\n",
              "</div>\n",
              "      <button class=\"colab-df-convert\" onclick=\"convertToInteractive('df-3886da66-f625-469b-9fd0-a3533af16e86')\"\n",
              "              title=\"Convert this dataframe to an interactive table.\"\n",
              "              style=\"display:none;\">\n",
              "        \n",
              "  <svg xmlns=\"http://www.w3.org/2000/svg\" height=\"24px\"viewBox=\"0 0 24 24\"\n",
              "       width=\"24px\">\n",
              "    <path d=\"M0 0h24v24H0V0z\" fill=\"none\"/>\n",
              "    <path d=\"M18.56 5.44l.94 2.06.94-2.06 2.06-.94-2.06-.94-.94-2.06-.94 2.06-2.06.94zm-11 1L8.5 8.5l.94-2.06 2.06-.94-2.06-.94L8.5 2.5l-.94 2.06-2.06.94zm10 10l.94 2.06.94-2.06 2.06-.94-2.06-.94-.94-2.06-.94 2.06-2.06.94z\"/><path d=\"M17.41 7.96l-1.37-1.37c-.4-.4-.92-.59-1.43-.59-.52 0-1.04.2-1.43.59L10.3 9.45l-7.72 7.72c-.78.78-.78 2.05 0 2.83L4 21.41c.39.39.9.59 1.41.59.51 0 1.02-.2 1.41-.59l7.78-7.78 2.81-2.81c.8-.78.8-2.07 0-2.86zM5.41 20L4 18.59l7.72-7.72 1.47 1.35L5.41 20z\"/>\n",
              "  </svg>\n",
              "      </button>\n",
              "      \n",
              "  <style>\n",
              "    .colab-df-container {\n",
              "      display:flex;\n",
              "      flex-wrap:wrap;\n",
              "      gap: 12px;\n",
              "    }\n",
              "\n",
              "    .colab-df-convert {\n",
              "      background-color: #E8F0FE;\n",
              "      border: none;\n",
              "      border-radius: 50%;\n",
              "      cursor: pointer;\n",
              "      display: none;\n",
              "      fill: #1967D2;\n",
              "      height: 32px;\n",
              "      padding: 0 0 0 0;\n",
              "      width: 32px;\n",
              "    }\n",
              "\n",
              "    .colab-df-convert:hover {\n",
              "      background-color: #E2EBFA;\n",
              "      box-shadow: 0px 1px 2px rgba(60, 64, 67, 0.3), 0px 1px 3px 1px rgba(60, 64, 67, 0.15);\n",
              "      fill: #174EA6;\n",
              "    }\n",
              "\n",
              "    [theme=dark] .colab-df-convert {\n",
              "      background-color: #3B4455;\n",
              "      fill: #D2E3FC;\n",
              "    }\n",
              "\n",
              "    [theme=dark] .colab-df-convert:hover {\n",
              "      background-color: #434B5C;\n",
              "      box-shadow: 0px 1px 3px 1px rgba(0, 0, 0, 0.15);\n",
              "      filter: drop-shadow(0px 1px 2px rgba(0, 0, 0, 0.3));\n",
              "      fill: #FFFFFF;\n",
              "    }\n",
              "  </style>\n",
              "\n",
              "      <script>\n",
              "        const buttonEl =\n",
              "          document.querySelector('#df-3886da66-f625-469b-9fd0-a3533af16e86 button.colab-df-convert');\n",
              "        buttonEl.style.display =\n",
              "          google.colab.kernel.accessAllowed ? 'block' : 'none';\n",
              "\n",
              "        async function convertToInteractive(key) {\n",
              "          const element = document.querySelector('#df-3886da66-f625-469b-9fd0-a3533af16e86');\n",
              "          const dataTable =\n",
              "            await google.colab.kernel.invokeFunction('convertToInteractive',\n",
              "                                                     [key], {});\n",
              "          if (!dataTable) return;\n",
              "\n",
              "          const docLinkHtml = 'Like what you see? Visit the ' +\n",
              "            '<a target=\"_blank\" href=https://colab.research.google.com/notebooks/data_table.ipynb>data table notebook</a>'\n",
              "            + ' to learn more about interactive tables.';\n",
              "          element.innerHTML = '';\n",
              "          dataTable['output_type'] = 'display_data';\n",
              "          await google.colab.output.renderOutput(dataTable, element);\n",
              "          const docLink = document.createElement('div');\n",
              "          docLink.innerHTML = docLinkHtml;\n",
              "          element.appendChild(docLink);\n",
              "        }\n",
              "      </script>\n",
              "    </div>\n",
              "  </div>\n",
              "  "
            ]
          },
          "metadata": {},
          "execution_count": 68
        }
      ]
    },
    {
      "cell_type": "code",
      "source": [
        "tre_missing['errcode'].unique()"
      ],
      "metadata": {
        "colab": {
          "base_uri": "https://localhost:8080/",
          "height": 390
        },
        "id": "VXrIiuDY1zvg",
        "outputId": "b0751169-6ab8-4148-e2b5-f8b7ac619cce"
      },
      "execution_count": 69,
      "outputs": [
        {
          "output_type": "error",
          "ename": "TypeError",
          "evalue": "ignored",
          "traceback": [
            "\u001b[0;31m---------------------------------------------------------------------------\u001b[0m",
            "\u001b[0;31mTypeError\u001b[0m                                 Traceback (most recent call last)",
            "\u001b[0;32m<ipython-input-69-b65e8adb0862>\u001b[0m in \u001b[0;36m<module>\u001b[0;34m()\u001b[0m\n\u001b[0;32m----> 1\u001b[0;31m \u001b[0mtre_missing\u001b[0m\u001b[0;34m[\u001b[0m\u001b[0;34m'errcode'\u001b[0m\u001b[0;34m]\u001b[0m\u001b[0;34m.\u001b[0m\u001b[0munique\u001b[0m\u001b[0;34m(\u001b[0m\u001b[0;34m)\u001b[0m\u001b[0;34m\u001b[0m\u001b[0;34m\u001b[0m\u001b[0m\n\u001b[0m",
            "\u001b[0;32m/usr/local/lib/python3.7/dist-packages/pandas/core/series.py\u001b[0m in \u001b[0;36munique\u001b[0;34m(self)\u001b[0m\n\u001b[1;32m   2037\u001b[0m         \u001b[0mCategories\u001b[0m \u001b[0;34m(\u001b[0m\u001b[0;36m3\u001b[0m\u001b[0;34m,\u001b[0m \u001b[0mobject\u001b[0m\u001b[0;34m)\u001b[0m\u001b[0;34m:\u001b[0m \u001b[0;34m[\u001b[0m\u001b[0;34m'a'\u001b[0m \u001b[0;34m<\u001b[0m \u001b[0;34m'b'\u001b[0m \u001b[0;34m<\u001b[0m \u001b[0;34m'c'\u001b[0m\u001b[0;34m]\u001b[0m\u001b[0;34m\u001b[0m\u001b[0;34m\u001b[0m\u001b[0m\n\u001b[1;32m   2038\u001b[0m         \"\"\"\n\u001b[0;32m-> 2039\u001b[0;31m         \u001b[0;32mreturn\u001b[0m \u001b[0msuper\u001b[0m\u001b[0;34m(\u001b[0m\u001b[0;34m)\u001b[0m\u001b[0;34m.\u001b[0m\u001b[0munique\u001b[0m\u001b[0;34m(\u001b[0m\u001b[0;34m)\u001b[0m\u001b[0;34m\u001b[0m\u001b[0;34m\u001b[0m\u001b[0m\n\u001b[0m\u001b[1;32m   2040\u001b[0m \u001b[0;34m\u001b[0m\u001b[0m\n\u001b[1;32m   2041\u001b[0m     \u001b[0;34m@\u001b[0m\u001b[0moverload\u001b[0m\u001b[0;34m\u001b[0m\u001b[0;34m\u001b[0m\u001b[0m\n",
            "\u001b[0;32m/usr/local/lib/python3.7/dist-packages/pandas/core/base.py\u001b[0m in \u001b[0;36munique\u001b[0;34m(self)\u001b[0m\n\u001b[1;32m    977\u001b[0m                     \u001b[0mresult\u001b[0m \u001b[0;34m=\u001b[0m \u001b[0mnp\u001b[0m\u001b[0;34m.\u001b[0m\u001b[0masarray\u001b[0m\u001b[0;34m(\u001b[0m\u001b[0mresult\u001b[0m\u001b[0;34m)\u001b[0m\u001b[0;34m\u001b[0m\u001b[0;34m\u001b[0m\u001b[0m\n\u001b[1;32m    978\u001b[0m         \u001b[0;32melse\u001b[0m\u001b[0;34m:\u001b[0m\u001b[0;34m\u001b[0m\u001b[0;34m\u001b[0m\u001b[0m\n\u001b[0;32m--> 979\u001b[0;31m             \u001b[0mresult\u001b[0m \u001b[0;34m=\u001b[0m \u001b[0munique1d\u001b[0m\u001b[0;34m(\u001b[0m\u001b[0mvalues\u001b[0m\u001b[0;34m)\u001b[0m\u001b[0;34m\u001b[0m\u001b[0;34m\u001b[0m\u001b[0m\n\u001b[0m\u001b[1;32m    980\u001b[0m \u001b[0;34m\u001b[0m\u001b[0m\n\u001b[1;32m    981\u001b[0m         \u001b[0;32mreturn\u001b[0m \u001b[0mresult\u001b[0m\u001b[0;34m\u001b[0m\u001b[0;34m\u001b[0m\u001b[0m\n",
            "\u001b[0;32m/usr/local/lib/python3.7/dist-packages/pandas/core/algorithms.py\u001b[0m in \u001b[0;36munique\u001b[0;34m(values)\u001b[0m\n\u001b[1;32m    429\u001b[0m \u001b[0;34m\u001b[0m\u001b[0m\n\u001b[1;32m    430\u001b[0m     \u001b[0mtable\u001b[0m \u001b[0;34m=\u001b[0m \u001b[0mhtable\u001b[0m\u001b[0;34m(\u001b[0m\u001b[0mlen\u001b[0m\u001b[0;34m(\u001b[0m\u001b[0mvalues\u001b[0m\u001b[0;34m)\u001b[0m\u001b[0;34m)\u001b[0m\u001b[0;34m\u001b[0m\u001b[0;34m\u001b[0m\u001b[0m\n\u001b[0;32m--> 431\u001b[0;31m     \u001b[0muniques\u001b[0m \u001b[0;34m=\u001b[0m \u001b[0mtable\u001b[0m\u001b[0;34m.\u001b[0m\u001b[0munique\u001b[0m\u001b[0;34m(\u001b[0m\u001b[0mvalues\u001b[0m\u001b[0;34m)\u001b[0m\u001b[0;34m\u001b[0m\u001b[0;34m\u001b[0m\u001b[0m\n\u001b[0m\u001b[1;32m    432\u001b[0m     \u001b[0muniques\u001b[0m \u001b[0;34m=\u001b[0m \u001b[0m_reconstruct_data\u001b[0m\u001b[0;34m(\u001b[0m\u001b[0muniques\u001b[0m\u001b[0;34m,\u001b[0m \u001b[0moriginal\u001b[0m\u001b[0;34m.\u001b[0m\u001b[0mdtype\u001b[0m\u001b[0;34m,\u001b[0m \u001b[0moriginal\u001b[0m\u001b[0;34m)\u001b[0m\u001b[0;34m\u001b[0m\u001b[0;34m\u001b[0m\u001b[0m\n\u001b[1;32m    433\u001b[0m     \u001b[0;32mreturn\u001b[0m \u001b[0muniques\u001b[0m\u001b[0;34m\u001b[0m\u001b[0;34m\u001b[0m\u001b[0m\n",
            "\u001b[0;32mpandas/_libs/hashtable_class_helper.pxi\u001b[0m in \u001b[0;36mpandas._libs.hashtable.PyObjectHashTable.unique\u001b[0;34m()\u001b[0m\n",
            "\u001b[0;32mpandas/_libs/hashtable_class_helper.pxi\u001b[0m in \u001b[0;36mpandas._libs.hashtable.PyObjectHashTable._unique\u001b[0;34m()\u001b[0m\n",
            "\u001b[0;31mTypeError\u001b[0m: unhashable type: 'numpy.ndarray'"
          ]
        }
      ]
    },
    {
      "cell_type": "code",
      "source": [
        "ltwo"
      ],
      "metadata": {
        "id": "c0x_D3BL2ASp"
      },
      "execution_count": null,
      "outputs": []
    },
    {
      "cell_type": "code",
      "source": [
        "lone"
      ],
      "metadata": {
        "id": "1SNuMPbo2EG6"
      },
      "execution_count": null,
      "outputs": []
    },
    {
      "cell_type": "code",
      "source": [
        "train_err[(train_err['user_id'] == 13639)&(train_err['fwver']=='04.33.1261')&(train_err['errtype']==5)&(train_err['time']==20201121191718)]"
      ],
      "metadata": {
        "colab": {
          "base_uri": "https://localhost:8080/",
          "height": 112
        },
        "id": "sEqdsZwR5Ehx",
        "outputId": "c6100d44-6f56-480f-c7a7-69f9082b9c7d"
      },
      "execution_count": 70,
      "outputs": [
        {
          "output_type": "execute_result",
          "data": {
            "text/plain": [
              "         user_id            time model_nm       fwver  errtype errcode\n",
              "3825744    13639  20201121191718  model_2  04.33.1261        5     NaN\n",
              "3825745    13639  20201121191718  model_2  04.33.1261        5   40013"
            ],
            "text/html": [
              "\n",
              "  <div id=\"df-ef9d75c9-f077-407e-97bd-b2b48b2a7e71\">\n",
              "    <div class=\"colab-df-container\">\n",
              "      <div>\n",
              "<style scoped>\n",
              "    .dataframe tbody tr th:only-of-type {\n",
              "        vertical-align: middle;\n",
              "    }\n",
              "\n",
              "    .dataframe tbody tr th {\n",
              "        vertical-align: top;\n",
              "    }\n",
              "\n",
              "    .dataframe thead th {\n",
              "        text-align: right;\n",
              "    }\n",
              "</style>\n",
              "<table border=\"1\" class=\"dataframe\">\n",
              "  <thead>\n",
              "    <tr style=\"text-align: right;\">\n",
              "      <th></th>\n",
              "      <th>user_id</th>\n",
              "      <th>time</th>\n",
              "      <th>model_nm</th>\n",
              "      <th>fwver</th>\n",
              "      <th>errtype</th>\n",
              "      <th>errcode</th>\n",
              "    </tr>\n",
              "  </thead>\n",
              "  <tbody>\n",
              "    <tr>\n",
              "      <th>3825744</th>\n",
              "      <td>13639</td>\n",
              "      <td>20201121191718</td>\n",
              "      <td>model_2</td>\n",
              "      <td>04.33.1261</td>\n",
              "      <td>5</td>\n",
              "      <td>NaN</td>\n",
              "    </tr>\n",
              "    <tr>\n",
              "      <th>3825745</th>\n",
              "      <td>13639</td>\n",
              "      <td>20201121191718</td>\n",
              "      <td>model_2</td>\n",
              "      <td>04.33.1261</td>\n",
              "      <td>5</td>\n",
              "      <td>40013</td>\n",
              "    </tr>\n",
              "  </tbody>\n",
              "</table>\n",
              "</div>\n",
              "      <button class=\"colab-df-convert\" onclick=\"convertToInteractive('df-ef9d75c9-f077-407e-97bd-b2b48b2a7e71')\"\n",
              "              title=\"Convert this dataframe to an interactive table.\"\n",
              "              style=\"display:none;\">\n",
              "        \n",
              "  <svg xmlns=\"http://www.w3.org/2000/svg\" height=\"24px\"viewBox=\"0 0 24 24\"\n",
              "       width=\"24px\">\n",
              "    <path d=\"M0 0h24v24H0V0z\" fill=\"none\"/>\n",
              "    <path d=\"M18.56 5.44l.94 2.06.94-2.06 2.06-.94-2.06-.94-.94-2.06-.94 2.06-2.06.94zm-11 1L8.5 8.5l.94-2.06 2.06-.94-2.06-.94L8.5 2.5l-.94 2.06-2.06.94zm10 10l.94 2.06.94-2.06 2.06-.94-2.06-.94-.94-2.06-.94 2.06-2.06.94z\"/><path d=\"M17.41 7.96l-1.37-1.37c-.4-.4-.92-.59-1.43-.59-.52 0-1.04.2-1.43.59L10.3 9.45l-7.72 7.72c-.78.78-.78 2.05 0 2.83L4 21.41c.39.39.9.59 1.41.59.51 0 1.02-.2 1.41-.59l7.78-7.78 2.81-2.81c.8-.78.8-2.07 0-2.86zM5.41 20L4 18.59l7.72-7.72 1.47 1.35L5.41 20z\"/>\n",
              "  </svg>\n",
              "      </button>\n",
              "      \n",
              "  <style>\n",
              "    .colab-df-container {\n",
              "      display:flex;\n",
              "      flex-wrap:wrap;\n",
              "      gap: 12px;\n",
              "    }\n",
              "\n",
              "    .colab-df-convert {\n",
              "      background-color: #E8F0FE;\n",
              "      border: none;\n",
              "      border-radius: 50%;\n",
              "      cursor: pointer;\n",
              "      display: none;\n",
              "      fill: #1967D2;\n",
              "      height: 32px;\n",
              "      padding: 0 0 0 0;\n",
              "      width: 32px;\n",
              "    }\n",
              "\n",
              "    .colab-df-convert:hover {\n",
              "      background-color: #E2EBFA;\n",
              "      box-shadow: 0px 1px 2px rgba(60, 64, 67, 0.3), 0px 1px 3px 1px rgba(60, 64, 67, 0.15);\n",
              "      fill: #174EA6;\n",
              "    }\n",
              "\n",
              "    [theme=dark] .colab-df-convert {\n",
              "      background-color: #3B4455;\n",
              "      fill: #D2E3FC;\n",
              "    }\n",
              "\n",
              "    [theme=dark] .colab-df-convert:hover {\n",
              "      background-color: #434B5C;\n",
              "      box-shadow: 0px 1px 3px 1px rgba(0, 0, 0, 0.15);\n",
              "      filter: drop-shadow(0px 1px 2px rgba(0, 0, 0, 0.3));\n",
              "      fill: #FFFFFF;\n",
              "    }\n",
              "  </style>\n",
              "\n",
              "      <script>\n",
              "        const buttonEl =\n",
              "          document.querySelector('#df-ef9d75c9-f077-407e-97bd-b2b48b2a7e71 button.colab-df-convert');\n",
              "        buttonEl.style.display =\n",
              "          google.colab.kernel.accessAllowed ? 'block' : 'none';\n",
              "\n",
              "        async function convertToInteractive(key) {\n",
              "          const element = document.querySelector('#df-ef9d75c9-f077-407e-97bd-b2b48b2a7e71');\n",
              "          const dataTable =\n",
              "            await google.colab.kernel.invokeFunction('convertToInteractive',\n",
              "                                                     [key], {});\n",
              "          if (!dataTable) return;\n",
              "\n",
              "          const docLinkHtml = 'Like what you see? Visit the ' +\n",
              "            '<a target=\"_blank\" href=https://colab.research.google.com/notebooks/data_table.ipynb>data table notebook</a>'\n",
              "            + ' to learn more about interactive tables.';\n",
              "          element.innerHTML = '';\n",
              "          dataTable['output_type'] = 'display_data';\n",
              "          await google.colab.output.renderOutput(dataTable, element);\n",
              "          const docLink = document.createElement('div');\n",
              "          docLink.innerHTML = docLinkHtml;\n",
              "          element.appendChild(docLink);\n",
              "        }\n",
              "      </script>\n",
              "    </div>\n",
              "  </div>\n",
              "  "
            ]
          },
          "metadata": {},
          "execution_count": 70
        }
      ]
    },
    {
      "cell_type": "markdown",
      "source": [
        "user_id가 13639이고, fwver은 04.33.1261이며 errtype은 5, 에러발생시간은 2020년 11월 21일 19시 17분 18초인 데이터의 비어있는 errcode를 같은 조건의 행에 있는 errcode로 대체"
      ],
      "metadata": {
        "id": "my6wKrVQ7TtA"
      }
    },
    {
      "cell_type": "code",
      "source": [
        "train_err['errcode'] = train_err['errcode'].fillna('40013')"
      ],
      "metadata": {
        "id": "g0Yid1t_7SAa"
      },
      "execution_count": 71,
      "outputs": []
    },
    {
      "cell_type": "code",
      "source": [
        "train_err.isna().sum()"
      ],
      "metadata": {
        "colab": {
          "base_uri": "https://localhost:8080/"
        },
        "id": "y3qmHhuq72vn",
        "outputId": "efb06fb5-6720-4bfd-c881-00ec1a27cee0"
      },
      "execution_count": 72,
      "outputs": [
        {
          "output_type": "execute_result",
          "data": {
            "text/plain": [
              "user_id     0\n",
              "time        0\n",
              "model_nm    0\n",
              "fwver       0\n",
              "errtype     0\n",
              "errcode     0\n",
              "dtype: int64"
            ]
          },
          "metadata": {},
          "execution_count": 72
        }
      ]
    },
    {
      "cell_type": "markdown",
      "source": [
        "2. train_quality_data missing value\n",
        "    - fwver 결측치 존재\n",
        "    - quality_0, quality_2, quality_5 결측치 존재\n"
      ],
      "metadata": {
        "id": "N9hZE96T8Cxw"
      }
    },
    {
      "cell_type": "code",
      "source": [
        "train_qual.isnull().sum()"
      ],
      "metadata": {
        "colab": {
          "base_uri": "https://localhost:8080/"
        },
        "id": "_QoggZol79K6",
        "outputId": "316ebaac-aadf-4679-aa97-69f5764bc5c9"
      },
      "execution_count": 73,
      "outputs": [
        {
          "output_type": "execute_result",
          "data": {
            "text/plain": [
              "time               0\n",
              "user_id            0\n",
              "fwver          40080\n",
              "quality_0     144432\n",
              "quality_1          0\n",
              "quality_2      40113\n",
              "quality_3          0\n",
              "quality_4          0\n",
              "quality_5         20\n",
              "quality_6          0\n",
              "quality_7          0\n",
              "quality_8          0\n",
              "quality_9          0\n",
              "quality_10         0\n",
              "quality_11         0\n",
              "quality_12         0\n",
              "dtype: int64"
            ]
          },
          "metadata": {},
          "execution_count": 73
        }
      ]
    },
    {
      "cell_type": "code",
      "source": [
        "# NaN 값일 경우의 quality가 측정된 기간\n",
        "train_qual[train_qual['fwver'].isnull()].groupby('user_id')['time'].unique().to_frame()['time'].str.len().mean()"
      ],
      "metadata": {
        "colab": {
          "base_uri": "https://localhost:8080/"
        },
        "id": "xmfd5mId8wzE",
        "outputId": "7a7f7332-b40c-4faa-99af-8086ea41f3b7"
      },
      "execution_count": 74,
      "outputs": [
        {
          "output_type": "execute_result",
          "data": {
            "text/plain": [
              "55.45762711864407"
            ]
          },
          "metadata": {},
          "execution_count": 74
        }
      ]
    },
    {
      "cell_type": "code",
      "source": [
        "# NaN 값이 아닐 경우 quality가 측정된 기간\n",
        "train_qual[~train_qual['fwver'].isnull()].groupby('user_id')['time'].unique().to_frame()['time'].str.len().mean()"
      ],
      "metadata": {
        "colab": {
          "base_uri": "https://localhost:8080/"
        },
        "id": "gFmugSef8wtm",
        "outputId": "26848423-c805-4d04-ef2a-d37cc59f9c85"
      },
      "execution_count": 75,
      "outputs": [
        {
          "output_type": "execute_result",
          "data": {
            "text/plain": [
              "7.9863813229571985"
            ]
          },
          "metadata": {},
          "execution_count": 75
        }
      ]
    },
    {
      "cell_type": "code",
      "source": [
        "fwms_idx = train_qual[train_qual['fwver'].isnull()].index\n",
        "train_qual = train_qual.drop(fwms_idx)"
      ],
      "metadata": {
        "id": "3M-lLXh3-6Wl"
      },
      "execution_count": 77,
      "outputs": []
    },
    {
      "cell_type": "markdown",
      "source": [
        "- quality_0, quality_2, quality_5 결측치 제거"
      ],
      "metadata": {
        "id": "8RP2WXYCRUVY"
      }
    },
    {
      "cell_type": "code",
      "source": [
        "for i in train_qual.columns[3:]:\n",
        "    train_qual[i] = train_qual[i].fillna(train_qual[i].mode(0)[0])"
      ],
      "metadata": {
        "id": "lAG-Rs9q8wrB"
      },
      "execution_count": 78,
      "outputs": []
    },
    {
      "cell_type": "markdown",
      "source": [
        "- NaN 값을 갖는 경우 quality가 지속적으로 오랜기간 측정됨\n",
        "- 반대로, NaN값을 갖지 않는 경우 상대적으로 적은기간 측정됨\n",
        "- 따라서, NaN값을 갖는 경우 이상치에 해당 -> 해당 결측치 제거"
      ],
      "metadata": {
        "id": "5XJG5TK_8ZYI"
      }
    },
    {
      "cell_type": "markdown",
      "source": [
        "3. test_error_data-missing value"
      ],
      "metadata": {
        "id": "dihwHnxJR4qK"
      }
    },
    {
      "cell_type": "code",
      "source": [
        "test_err.isnull().sum()"
      ],
      "metadata": {
        "colab": {
          "base_uri": "https://localhost:8080/"
        },
        "id": "_uGjgSKo8wli",
        "outputId": "b6f2510e-3bf2-4274-86e8-882ca266cabb"
      },
      "execution_count": 80,
      "outputs": [
        {
          "output_type": "execute_result",
          "data": {
            "text/plain": [
              "user_id     0\n",
              "time        0\n",
              "model_nm    0\n",
              "fwver       0\n",
              "errtype     0\n",
              "errcode     4\n",
              "dtype: int64"
            ]
          },
          "metadata": {},
          "execution_count": 80
        }
      ]
    },
    {
      "cell_type": "code",
      "source": [
        "test_err[test_err['errcode'].isnull()]"
      ],
      "metadata": {
        "colab": {
          "base_uri": "https://localhost:8080/",
          "height": 175
        },
        "id": "t9Ni9KgG8XBX",
        "outputId": "2173f163-4b36-4b79-e59c-c80b688558e4"
      },
      "execution_count": 81,
      "outputs": [
        {
          "output_type": "execute_result",
          "data": {
            "text/plain": [
              "          user_id            time model_nm       fwver  errtype errcode\n",
              "937967      30820  20201115044317  model_2  04.33.1261        5     NaN\n",
              "4038892     33681  20201103110259  model_2  04.33.1185        5     NaN\n",
              "9486881     38991  20201127213838  model_2  04.33.1261        5     NaN\n",
              "10425473    39894  20201128144712  model_1  04.16.3553        5     NaN"
            ],
            "text/html": [
              "\n",
              "  <div id=\"df-011cf596-17a1-4258-9353-64636ef6a8a1\">\n",
              "    <div class=\"colab-df-container\">\n",
              "      <div>\n",
              "<style scoped>\n",
              "    .dataframe tbody tr th:only-of-type {\n",
              "        vertical-align: middle;\n",
              "    }\n",
              "\n",
              "    .dataframe tbody tr th {\n",
              "        vertical-align: top;\n",
              "    }\n",
              "\n",
              "    .dataframe thead th {\n",
              "        text-align: right;\n",
              "    }\n",
              "</style>\n",
              "<table border=\"1\" class=\"dataframe\">\n",
              "  <thead>\n",
              "    <tr style=\"text-align: right;\">\n",
              "      <th></th>\n",
              "      <th>user_id</th>\n",
              "      <th>time</th>\n",
              "      <th>model_nm</th>\n",
              "      <th>fwver</th>\n",
              "      <th>errtype</th>\n",
              "      <th>errcode</th>\n",
              "    </tr>\n",
              "  </thead>\n",
              "  <tbody>\n",
              "    <tr>\n",
              "      <th>937967</th>\n",
              "      <td>30820</td>\n",
              "      <td>20201115044317</td>\n",
              "      <td>model_2</td>\n",
              "      <td>04.33.1261</td>\n",
              "      <td>5</td>\n",
              "      <td>NaN</td>\n",
              "    </tr>\n",
              "    <tr>\n",
              "      <th>4038892</th>\n",
              "      <td>33681</td>\n",
              "      <td>20201103110259</td>\n",
              "      <td>model_2</td>\n",
              "      <td>04.33.1185</td>\n",
              "      <td>5</td>\n",
              "      <td>NaN</td>\n",
              "    </tr>\n",
              "    <tr>\n",
              "      <th>9486881</th>\n",
              "      <td>38991</td>\n",
              "      <td>20201127213838</td>\n",
              "      <td>model_2</td>\n",
              "      <td>04.33.1261</td>\n",
              "      <td>5</td>\n",
              "      <td>NaN</td>\n",
              "    </tr>\n",
              "    <tr>\n",
              "      <th>10425473</th>\n",
              "      <td>39894</td>\n",
              "      <td>20201128144712</td>\n",
              "      <td>model_1</td>\n",
              "      <td>04.16.3553</td>\n",
              "      <td>5</td>\n",
              "      <td>NaN</td>\n",
              "    </tr>\n",
              "  </tbody>\n",
              "</table>\n",
              "</div>\n",
              "      <button class=\"colab-df-convert\" onclick=\"convertToInteractive('df-011cf596-17a1-4258-9353-64636ef6a8a1')\"\n",
              "              title=\"Convert this dataframe to an interactive table.\"\n",
              "              style=\"display:none;\">\n",
              "        \n",
              "  <svg xmlns=\"http://www.w3.org/2000/svg\" height=\"24px\"viewBox=\"0 0 24 24\"\n",
              "       width=\"24px\">\n",
              "    <path d=\"M0 0h24v24H0V0z\" fill=\"none\"/>\n",
              "    <path d=\"M18.56 5.44l.94 2.06.94-2.06 2.06-.94-2.06-.94-.94-2.06-.94 2.06-2.06.94zm-11 1L8.5 8.5l.94-2.06 2.06-.94-2.06-.94L8.5 2.5l-.94 2.06-2.06.94zm10 10l.94 2.06.94-2.06 2.06-.94-2.06-.94-.94-2.06-.94 2.06-2.06.94z\"/><path d=\"M17.41 7.96l-1.37-1.37c-.4-.4-.92-.59-1.43-.59-.52 0-1.04.2-1.43.59L10.3 9.45l-7.72 7.72c-.78.78-.78 2.05 0 2.83L4 21.41c.39.39.9.59 1.41.59.51 0 1.02-.2 1.41-.59l7.78-7.78 2.81-2.81c.8-.78.8-2.07 0-2.86zM5.41 20L4 18.59l7.72-7.72 1.47 1.35L5.41 20z\"/>\n",
              "  </svg>\n",
              "      </button>\n",
              "      \n",
              "  <style>\n",
              "    .colab-df-container {\n",
              "      display:flex;\n",
              "      flex-wrap:wrap;\n",
              "      gap: 12px;\n",
              "    }\n",
              "\n",
              "    .colab-df-convert {\n",
              "      background-color: #E8F0FE;\n",
              "      border: none;\n",
              "      border-radius: 50%;\n",
              "      cursor: pointer;\n",
              "      display: none;\n",
              "      fill: #1967D2;\n",
              "      height: 32px;\n",
              "      padding: 0 0 0 0;\n",
              "      width: 32px;\n",
              "    }\n",
              "\n",
              "    .colab-df-convert:hover {\n",
              "      background-color: #E2EBFA;\n",
              "      box-shadow: 0px 1px 2px rgba(60, 64, 67, 0.3), 0px 1px 3px 1px rgba(60, 64, 67, 0.15);\n",
              "      fill: #174EA6;\n",
              "    }\n",
              "\n",
              "    [theme=dark] .colab-df-convert {\n",
              "      background-color: #3B4455;\n",
              "      fill: #D2E3FC;\n",
              "    }\n",
              "\n",
              "    [theme=dark] .colab-df-convert:hover {\n",
              "      background-color: #434B5C;\n",
              "      box-shadow: 0px 1px 3px 1px rgba(0, 0, 0, 0.15);\n",
              "      filter: drop-shadow(0px 1px 2px rgba(0, 0, 0, 0.3));\n",
              "      fill: #FFFFFF;\n",
              "    }\n",
              "  </style>\n",
              "\n",
              "      <script>\n",
              "        const buttonEl =\n",
              "          document.querySelector('#df-011cf596-17a1-4258-9353-64636ef6a8a1 button.colab-df-convert');\n",
              "        buttonEl.style.display =\n",
              "          google.colab.kernel.accessAllowed ? 'block' : 'none';\n",
              "\n",
              "        async function convertToInteractive(key) {\n",
              "          const element = document.querySelector('#df-011cf596-17a1-4258-9353-64636ef6a8a1');\n",
              "          const dataTable =\n",
              "            await google.colab.kernel.invokeFunction('convertToInteractive',\n",
              "                                                     [key], {});\n",
              "          if (!dataTable) return;\n",
              "\n",
              "          const docLinkHtml = 'Like what you see? Visit the ' +\n",
              "            '<a target=\"_blank\" href=https://colab.research.google.com/notebooks/data_table.ipynb>data table notebook</a>'\n",
              "            + ' to learn more about interactive tables.';\n",
              "          element.innerHTML = '';\n",
              "          dataTable['output_type'] = 'display_data';\n",
              "          await google.colab.output.renderOutput(dataTable, element);\n",
              "          const docLink = document.createElement('div');\n",
              "          docLink.innerHTML = docLinkHtml;\n",
              "          element.appendChild(docLink);\n",
              "        }\n",
              "      </script>\n",
              "    </div>\n",
              "  </div>\n",
              "  "
            ]
          },
          "metadata": {},
          "execution_count": 81
        }
      ]
    },
    {
      "cell_type": "markdown",
      "source": [
        "위에서 train data를 처리할 때 처럼 동일한 특성을 갖을 row라면 같은 에러코드를 가질 확률이 높음"
      ],
      "metadata": {
        "id": "sKjKKGbGSxEc"
      }
    },
    {
      "cell_type": "code",
      "source": [
        "te = test_err.iloc[:4000000,:].copy()\n",
        "te_missing = te.groupby(['user_id','time','fwver','errtype'])['errcode'].unique().to_frame()\n",
        "te_missing['errcode'] = te_missing['errcode'].apply(lambda x : len(x))\n",
        "\n",
        "ltwo = len(te_missing[te_missing['errcode']!=1])\n",
        "lone = len(te_missing[te_missing['errcode']==1])\n",
        "print(\"동일한 특성을 갖는 Row안에 다른 ErrorCode가 발생할 확률 : %.3f%%\"%(ltwo/lone * 100))"
      ],
      "metadata": {
        "colab": {
          "base_uri": "https://localhost:8080/"
        },
        "id": "TYjKfxjfStXX",
        "outputId": "8f4b178c-9c19-483e-b2db-334fb3cf2446"
      },
      "execution_count": 83,
      "outputs": [
        {
          "output_type": "stream",
          "name": "stdout",
          "text": [
            "동일한 특성을 갖는 Row안에 다른 ErrorCode가 발생할 확률 : 0.054%\n"
          ]
        }
      ]
    },
    {
      "cell_type": "markdown",
      "source": [
        "- 따라서 동일한 에러 코드로 결측치 교체"
      ],
      "metadata": {
        "id": "4LR5o4NuT22A"
      }
    },
    {
      "cell_type": "code",
      "source": [
        "test_err.iloc[937967,5] = '40053'"
      ],
      "metadata": {
        "id": "t0TFPjcMTyDq"
      },
      "execution_count": 84,
      "outputs": []
    },
    {
      "cell_type": "code",
      "source": [
        "test_err.iloc[4038892,5] = '40053'"
      ],
      "metadata": {
        "id": "e5On30OeUAHT"
      },
      "execution_count": 85,
      "outputs": []
    },
    {
      "cell_type": "code",
      "source": [
        "test_err.iloc[9486881,5] = '40053'"
      ],
      "metadata": {
        "id": "ciBZfTPXUFWL"
      },
      "execution_count": 86,
      "outputs": []
    },
    {
      "cell_type": "code",
      "source": [
        "test_err.iloc[10425473,5] = '-1010'"
      ],
      "metadata": {
        "id": "SSBlR9O5ULpC"
      },
      "execution_count": 88,
      "outputs": []
    },
    {
      "cell_type": "markdown",
      "source": [
        "- train_err의 user는 15000명인데 test_err의 user는 14999명이므로 임의의 user를 1명 추가해줍니다.(최빈값으로 대체)"
      ],
      "metadata": {
        "id": "vZ9W8VcSUTih"
      }
    },
    {
      "cell_type": "code",
      "source": [
        "missing_value = pd.Series([43262, train_err.time.mode()[0], train_err.model_nm.mode()[0],\n",
        "                train_err.fwver.mode()[0], train_err.errtype.mode()[0],\n",
        "                train_err.errcode.mode()[0]], index = test_err.columns)"
      ],
      "metadata": {
        "id": "Cv0AJ-2yUgQW"
      },
      "execution_count": 89,
      "outputs": []
    },
    {
      "cell_type": "code",
      "source": [
        "test_err = test_err.append(missing_value, ignore_index = True)"
      ],
      "metadata": {
        "id": "5E98g_KmVAoG"
      },
      "execution_count": 90,
      "outputs": []
    },
    {
      "cell_type": "markdown",
      "source": [
        "4. test_quality_data-missing value\n",
        "    - fwver 결측치 존재\n",
        "    - quality_0, quality_1, quality_2, quality_5 결측치 존재"
      ],
      "metadata": {
        "id": "CdRD-JQnVZ0V"
      }
    },
    {
      "cell_type": "code",
      "source": [
        "test_qual.isnull().sum()"
      ],
      "metadata": {
        "colab": {
          "base_uri": "https://localhost:8080/"
        },
        "id": "kLJ3cg91VHRj",
        "outputId": "f31a1148-2c4d-4bc6-edff-55124cfe1f06"
      },
      "execution_count": 91,
      "outputs": [
        {
          "output_type": "execute_result",
          "data": {
            "text/plain": [
              "time               0\n",
              "user_id            0\n",
              "fwver          22764\n",
              "quality_0     106584\n",
              "quality_1         11\n",
              "quality_2      21115\n",
              "quality_3          0\n",
              "quality_4          0\n",
              "quality_5         44\n",
              "quality_6          0\n",
              "quality_7          0\n",
              "quality_8          0\n",
              "quality_9          0\n",
              "quality_10         0\n",
              "quality_11         0\n",
              "quality_12         0\n",
              "dtype: int64"
            ]
          },
          "metadata": {},
          "execution_count": 91
        }
      ]
    },
    {
      "cell_type": "code",
      "source": [
        "# NaN 값일 경우의 quality가 측정된 기간\n",
        "test_qual[test_qual['fwver'].isnull()].groupby('user_id')['time'].unique().to_frame()['time'].str.len().mean()"
      ],
      "metadata": {
        "colab": {
          "base_uri": "https://localhost:8080/"
        },
        "id": "H1VfxaB3VsHr",
        "outputId": "502d8d17-2065-48ad-cf25-4d3da23e99a6"
      },
      "execution_count": 92,
      "outputs": [
        {
          "output_type": "execute_result",
          "data": {
            "text/plain": [
              "36.627450980392155"
            ]
          },
          "metadata": {},
          "execution_count": 92
        }
      ]
    },
    {
      "cell_type": "code",
      "source": [
        "# NaN 값이 아닐 경우의 quality가 측정된 기간\n",
        "test_qual[~test_qual['fwver'].isnull()].groupby('user_id')['time'].unique().to_frame()['time'].str.len().mean()"
      ],
      "metadata": {
        "colab": {
          "base_uri": "https://localhost:8080/"
        },
        "id": "e2QvS15zV4cB",
        "outputId": "21dfdaaf-da14-489b-b090-70787a7e2c83"
      },
      "execution_count": 93,
      "outputs": [
        {
          "output_type": "execute_result",
          "data": {
            "text/plain": [
              "7.348095875410634"
            ]
          },
          "metadata": {},
          "execution_count": 93
        }
      ]
    },
    {
      "cell_type": "code",
      "source": [
        "fwms_idx = test_qual[test_qual['fwver'].isnull()].index\n",
        "test_qual = test_qual.drop(fwms_idx)"
      ],
      "metadata": {
        "id": "Wv43Adc7WSiU"
      },
      "execution_count": 94,
      "outputs": []
    },
    {
      "cell_type": "markdown",
      "source": [
        "- quality_0, quality_1, quality_2, quality_5 결측치 제거"
      ],
      "metadata": {
        "id": "ByQQ9JO9XNkE"
      }
    },
    {
      "cell_type": "code",
      "source": [
        "for i in test_qual.columns[3:]:\n",
        "    test_qual[i] = test_qual[i].fillna(test_qual[i].mode(0)[0])"
      ],
      "metadata": {
        "id": "CVmr02n0XRgr"
      },
      "execution_count": 95,
      "outputs": []
    },
    {
      "cell_type": "markdown",
      "source": [
        "- 결측치가 제대로 제거(또는 대체)되었는지 확인"
      ],
      "metadata": {
        "id": "kn50QlhtXizr"
      }
    },
    {
      "cell_type": "code",
      "source": [
        "print(train_err.isnull().sum().sum(), end=\", \")\n",
        "print(test_err.isnull().sum().sum(), end=\", \")\n",
        "print(train_qual.isnull().sum().sum(), end=\", \")\n",
        "print(test_qual.isnull().sum().sum())"
      ],
      "metadata": {
        "colab": {
          "base_uri": "https://localhost:8080/"
        },
        "id": "fgKG32KAXntv",
        "outputId": "e1083dc6-2ce7-46d0-f7ab-afb4c7f44406"
      },
      "execution_count": 96,
      "outputs": [
        {
          "output_type": "stream",
          "name": "stdout",
          "text": [
            "0, 0, 0, 0\n"
          ]
        }
      ]
    },
    {
      "cell_type": "markdown",
      "source": [
        "- NaN 값을 갖는 경우 quality가 지속적으로 오랜기간 측정됨\n",
        "- 반대로, NaN값을 갖지 않는 경우 상대적으로 적은기간 측정됨\n",
        "- 따라서, NaN값을 갖는 경우 이상치에 해당 -> 해당 결측치 제거"
      ],
      "metadata": {
        "id": "ClrPxi0OWQIe"
      }
    },
    {
      "cell_type": "markdown",
      "source": [
        "### 3-3. 데이터 기본 전처리\n",
        "1. 변수 타입 통일\n",
        "    - time 변수의 타입을 int에서 datetime으로 변경"
      ],
      "metadata": {
        "id": "pN43ceF_X5m0"
      }
    },
    {
      "cell_type": "code",
      "source": [
        "# time 변수 타입 변경 이전 데이터 저장\n",
        "train_err.to_csv(save_path + \"train_err_data.csv\", index=False)\n",
        "train_qual.to_csv(save_path + \"train_quality_data.csv\", index=False)\n",
        "train_prob.to_csv(save_path + \"train_problem_data.csv\", index=False)\n",
        "\n",
        "test_err.to_csv(save_path + \"test_err_data.csv\", index=False)\n",
        "test_qual.to_csv(save_path + \"test_quality_data.csv\", index=False)"
      ],
      "metadata": {
        "id": "RU52BFT5WMhC"
      },
      "execution_count": 97,
      "outputs": []
    },
    {
      "cell_type": "code",
      "source": [
        "def make_datetime(x): # datetime 데이터로 변환\n",
        "    x = str(x)\n",
        "    year = int(x[:4])\n",
        "    month = int(x[4:6])\n",
        "    day = int(x[6:8])\n",
        "    hour = int(x[8:10])\n",
        "    minute = int(x[10:12])\n",
        "    sec = int(x[12:])\n",
        "    return dt.datetime(year, month, day, hour, minute, sec)"
      ],
      "metadata": {
        "id": "dA6JAS3IYxXk"
      },
      "execution_count": 98,
      "outputs": []
    },
    {
      "cell_type": "code",
      "source": [
        "train_err.time = train_err.time.apply(lambda x : make_datetime(x))"
      ],
      "metadata": {
        "id": "W8QKZM4oZYei"
      },
      "execution_count": 99,
      "outputs": []
    },
    {
      "cell_type": "code",
      "source": [
        "train_qual = train_qual.sort_values(['user_id','time']).reset_index(drop=True)\n",
        "train_qual.time = train_qual.time.apply(lambda x : make_datetime(x))"
      ],
      "metadata": {
        "id": "iaCccoejZduu"
      },
      "execution_count": 100,
      "outputs": []
    },
    {
      "cell_type": "code",
      "source": [
        "train_prob = train_prob.sort_values(['user_id','time']).reset_index(drop=True)\n",
        "train_prob.time = train_prob.time.apply(lambda x : make_datetime(x))"
      ],
      "metadata": {
        "id": "sMQyXj8eZt4b"
      },
      "execution_count": 101,
      "outputs": []
    },
    {
      "cell_type": "code",
      "source": [
        "test_err.time = test_err.time.apply(lambda x : make_datetime(x))"
      ],
      "metadata": {
        "id": "NRONh70IaB1C"
      },
      "execution_count": 102,
      "outputs": []
    },
    {
      "cell_type": "code",
      "source": [
        "test_qual.time = test_qual.time.apply(lambda x : make_datetime(x))"
      ],
      "metadata": {
        "id": "6AKfMRCgaIGT"
      },
      "execution_count": 103,
      "outputs": []
    },
    {
      "cell_type": "code",
      "source": [
        "train_qual"
      ],
      "metadata": {
        "colab": {
          "base_uri": "https://localhost:8080/",
          "height": 835
        },
        "id": "s0vjqRZ_aOc1",
        "outputId": "17911b0c-91a2-4528-cfdd-ca104ebcd3d0"
      },
      "execution_count": 104,
      "outputs": [
        {
          "output_type": "execute_result",
          "data": {
            "text/plain": [
              "                      time  user_id       fwver  quality_0  quality_1  \\\n",
              "0      2020-11-29 09:00:00    10000  05.15.2138    0.00000          0   \n",
              "1      2020-11-29 09:00:00    10000  05.15.2138    0.00000          0   \n",
              "2      2020-11-29 09:00:00    10000  05.15.2138    0.00000          0   \n",
              "3      2020-11-29 09:00:00    10000  05.15.2138    0.00000          0   \n",
              "4      2020-11-29 09:00:00    10000  05.15.2138    0.00000          0   \n",
              "...                    ...      ...         ...        ...        ...   \n",
              "788539 2020-11-24 03:30:00    24997  04.22.1778    0.00000          0   \n",
              "788540 2020-11-24 03:30:00    24997  04.22.1778    0.00000          0   \n",
              "788541 2020-11-24 03:30:00    24997  04.22.1778    0.00000          0   \n",
              "788542 2020-11-24 03:30:00    24997  04.22.1778    0.00000          0   \n",
              "788543 2020-11-24 03:30:00    24997  04.22.1778    0.00000          0   \n",
              "\n",
              "        quality_2  quality_3  quality_4 quality_5  quality_6 quality_7  \\\n",
              "0         0.00000          0          0         0          0         0   \n",
              "1         0.00000          0          0         0          0         0   \n",
              "2         0.00000          0          0         0          0         0   \n",
              "3         0.00000          0          0         0          0         0   \n",
              "4         0.00000          0          0         0          0         0   \n",
              "...           ...        ...        ...       ...        ...       ...   \n",
              "788539    0.00000          0          0         1          0         0   \n",
              "788540    0.00000          0          0         0          0         0   \n",
              "788541    0.00000          0          0         3          0         0   \n",
              "788542    0.00000          0          0         0          0         0   \n",
              "788543    0.00000          0          0         9          0         0   \n",
              "\n",
              "       quality_8 quality_9 quality_10  quality_11  quality_12  \n",
              "0              0         0          4           0           0  \n",
              "1              0         0          4           0           0  \n",
              "2              0         0          4           0           0  \n",
              "3              0         0          4           0           0  \n",
              "4              0         0          4           0           0  \n",
              "...          ...       ...        ...         ...         ...  \n",
              "788539         0         0         17           0           0  \n",
              "788540         0         0         17           0           0  \n",
              "788541         0         0         17           0           0  \n",
              "788542         0         0         17           0           0  \n",
              "788543         0         0         17           0           0  \n",
              "\n",
              "[788544 rows x 16 columns]"
            ],
            "text/html": [
              "\n",
              "  <div id=\"df-eb3793b4-17b6-40e8-806b-70e4ed4103f0\">\n",
              "    <div class=\"colab-df-container\">\n",
              "      <div>\n",
              "<style scoped>\n",
              "    .dataframe tbody tr th:only-of-type {\n",
              "        vertical-align: middle;\n",
              "    }\n",
              "\n",
              "    .dataframe tbody tr th {\n",
              "        vertical-align: top;\n",
              "    }\n",
              "\n",
              "    .dataframe thead th {\n",
              "        text-align: right;\n",
              "    }\n",
              "</style>\n",
              "<table border=\"1\" class=\"dataframe\">\n",
              "  <thead>\n",
              "    <tr style=\"text-align: right;\">\n",
              "      <th></th>\n",
              "      <th>time</th>\n",
              "      <th>user_id</th>\n",
              "      <th>fwver</th>\n",
              "      <th>quality_0</th>\n",
              "      <th>quality_1</th>\n",
              "      <th>quality_2</th>\n",
              "      <th>quality_3</th>\n",
              "      <th>quality_4</th>\n",
              "      <th>quality_5</th>\n",
              "      <th>quality_6</th>\n",
              "      <th>quality_7</th>\n",
              "      <th>quality_8</th>\n",
              "      <th>quality_9</th>\n",
              "      <th>quality_10</th>\n",
              "      <th>quality_11</th>\n",
              "      <th>quality_12</th>\n",
              "    </tr>\n",
              "  </thead>\n",
              "  <tbody>\n",
              "    <tr>\n",
              "      <th>0</th>\n",
              "      <td>2020-11-29 09:00:00</td>\n",
              "      <td>10000</td>\n",
              "      <td>05.15.2138</td>\n",
              "      <td>0.00000</td>\n",
              "      <td>0</td>\n",
              "      <td>0.00000</td>\n",
              "      <td>0</td>\n",
              "      <td>0</td>\n",
              "      <td>0</td>\n",
              "      <td>0</td>\n",
              "      <td>0</td>\n",
              "      <td>0</td>\n",
              "      <td>0</td>\n",
              "      <td>4</td>\n",
              "      <td>0</td>\n",
              "      <td>0</td>\n",
              "    </tr>\n",
              "    <tr>\n",
              "      <th>1</th>\n",
              "      <td>2020-11-29 09:00:00</td>\n",
              "      <td>10000</td>\n",
              "      <td>05.15.2138</td>\n",
              "      <td>0.00000</td>\n",
              "      <td>0</td>\n",
              "      <td>0.00000</td>\n",
              "      <td>0</td>\n",
              "      <td>0</td>\n",
              "      <td>0</td>\n",
              "      <td>0</td>\n",
              "      <td>0</td>\n",
              "      <td>0</td>\n",
              "      <td>0</td>\n",
              "      <td>4</td>\n",
              "      <td>0</td>\n",
              "      <td>0</td>\n",
              "    </tr>\n",
              "    <tr>\n",
              "      <th>2</th>\n",
              "      <td>2020-11-29 09:00:00</td>\n",
              "      <td>10000</td>\n",
              "      <td>05.15.2138</td>\n",
              "      <td>0.00000</td>\n",
              "      <td>0</td>\n",
              "      <td>0.00000</td>\n",
              "      <td>0</td>\n",
              "      <td>0</td>\n",
              "      <td>0</td>\n",
              "      <td>0</td>\n",
              "      <td>0</td>\n",
              "      <td>0</td>\n",
              "      <td>0</td>\n",
              "      <td>4</td>\n",
              "      <td>0</td>\n",
              "      <td>0</td>\n",
              "    </tr>\n",
              "    <tr>\n",
              "      <th>3</th>\n",
              "      <td>2020-11-29 09:00:00</td>\n",
              "      <td>10000</td>\n",
              "      <td>05.15.2138</td>\n",
              "      <td>0.00000</td>\n",
              "      <td>0</td>\n",
              "      <td>0.00000</td>\n",
              "      <td>0</td>\n",
              "      <td>0</td>\n",
              "      <td>0</td>\n",
              "      <td>0</td>\n",
              "      <td>0</td>\n",
              "      <td>0</td>\n",
              "      <td>0</td>\n",
              "      <td>4</td>\n",
              "      <td>0</td>\n",
              "      <td>0</td>\n",
              "    </tr>\n",
              "    <tr>\n",
              "      <th>4</th>\n",
              "      <td>2020-11-29 09:00:00</td>\n",
              "      <td>10000</td>\n",
              "      <td>05.15.2138</td>\n",
              "      <td>0.00000</td>\n",
              "      <td>0</td>\n",
              "      <td>0.00000</td>\n",
              "      <td>0</td>\n",
              "      <td>0</td>\n",
              "      <td>0</td>\n",
              "      <td>0</td>\n",
              "      <td>0</td>\n",
              "      <td>0</td>\n",
              "      <td>0</td>\n",
              "      <td>4</td>\n",
              "      <td>0</td>\n",
              "      <td>0</td>\n",
              "    </tr>\n",
              "    <tr>\n",
              "      <th>...</th>\n",
              "      <td>...</td>\n",
              "      <td>...</td>\n",
              "      <td>...</td>\n",
              "      <td>...</td>\n",
              "      <td>...</td>\n",
              "      <td>...</td>\n",
              "      <td>...</td>\n",
              "      <td>...</td>\n",
              "      <td>...</td>\n",
              "      <td>...</td>\n",
              "      <td>...</td>\n",
              "      <td>...</td>\n",
              "      <td>...</td>\n",
              "      <td>...</td>\n",
              "      <td>...</td>\n",
              "      <td>...</td>\n",
              "    </tr>\n",
              "    <tr>\n",
              "      <th>788539</th>\n",
              "      <td>2020-11-24 03:30:00</td>\n",
              "      <td>24997</td>\n",
              "      <td>04.22.1778</td>\n",
              "      <td>0.00000</td>\n",
              "      <td>0</td>\n",
              "      <td>0.00000</td>\n",
              "      <td>0</td>\n",
              "      <td>0</td>\n",
              "      <td>1</td>\n",
              "      <td>0</td>\n",
              "      <td>0</td>\n",
              "      <td>0</td>\n",
              "      <td>0</td>\n",
              "      <td>17</td>\n",
              "      <td>0</td>\n",
              "      <td>0</td>\n",
              "    </tr>\n",
              "    <tr>\n",
              "      <th>788540</th>\n",
              "      <td>2020-11-24 03:30:00</td>\n",
              "      <td>24997</td>\n",
              "      <td>04.22.1778</td>\n",
              "      <td>0.00000</td>\n",
              "      <td>0</td>\n",
              "      <td>0.00000</td>\n",
              "      <td>0</td>\n",
              "      <td>0</td>\n",
              "      <td>0</td>\n",
              "      <td>0</td>\n",
              "      <td>0</td>\n",
              "      <td>0</td>\n",
              "      <td>0</td>\n",
              "      <td>17</td>\n",
              "      <td>0</td>\n",
              "      <td>0</td>\n",
              "    </tr>\n",
              "    <tr>\n",
              "      <th>788541</th>\n",
              "      <td>2020-11-24 03:30:00</td>\n",
              "      <td>24997</td>\n",
              "      <td>04.22.1778</td>\n",
              "      <td>0.00000</td>\n",
              "      <td>0</td>\n",
              "      <td>0.00000</td>\n",
              "      <td>0</td>\n",
              "      <td>0</td>\n",
              "      <td>3</td>\n",
              "      <td>0</td>\n",
              "      <td>0</td>\n",
              "      <td>0</td>\n",
              "      <td>0</td>\n",
              "      <td>17</td>\n",
              "      <td>0</td>\n",
              "      <td>0</td>\n",
              "    </tr>\n",
              "    <tr>\n",
              "      <th>788542</th>\n",
              "      <td>2020-11-24 03:30:00</td>\n",
              "      <td>24997</td>\n",
              "      <td>04.22.1778</td>\n",
              "      <td>0.00000</td>\n",
              "      <td>0</td>\n",
              "      <td>0.00000</td>\n",
              "      <td>0</td>\n",
              "      <td>0</td>\n",
              "      <td>0</td>\n",
              "      <td>0</td>\n",
              "      <td>0</td>\n",
              "      <td>0</td>\n",
              "      <td>0</td>\n",
              "      <td>17</td>\n",
              "      <td>0</td>\n",
              "      <td>0</td>\n",
              "    </tr>\n",
              "    <tr>\n",
              "      <th>788543</th>\n",
              "      <td>2020-11-24 03:30:00</td>\n",
              "      <td>24997</td>\n",
              "      <td>04.22.1778</td>\n",
              "      <td>0.00000</td>\n",
              "      <td>0</td>\n",
              "      <td>0.00000</td>\n",
              "      <td>0</td>\n",
              "      <td>0</td>\n",
              "      <td>9</td>\n",
              "      <td>0</td>\n",
              "      <td>0</td>\n",
              "      <td>0</td>\n",
              "      <td>0</td>\n",
              "      <td>17</td>\n",
              "      <td>0</td>\n",
              "      <td>0</td>\n",
              "    </tr>\n",
              "  </tbody>\n",
              "</table>\n",
              "<p>788544 rows × 16 columns</p>\n",
              "</div>\n",
              "      <button class=\"colab-df-convert\" onclick=\"convertToInteractive('df-eb3793b4-17b6-40e8-806b-70e4ed4103f0')\"\n",
              "              title=\"Convert this dataframe to an interactive table.\"\n",
              "              style=\"display:none;\">\n",
              "        \n",
              "  <svg xmlns=\"http://www.w3.org/2000/svg\" height=\"24px\"viewBox=\"0 0 24 24\"\n",
              "       width=\"24px\">\n",
              "    <path d=\"M0 0h24v24H0V0z\" fill=\"none\"/>\n",
              "    <path d=\"M18.56 5.44l.94 2.06.94-2.06 2.06-.94-2.06-.94-.94-2.06-.94 2.06-2.06.94zm-11 1L8.5 8.5l.94-2.06 2.06-.94-2.06-.94L8.5 2.5l-.94 2.06-2.06.94zm10 10l.94 2.06.94-2.06 2.06-.94-2.06-.94-.94-2.06-.94 2.06-2.06.94z\"/><path d=\"M17.41 7.96l-1.37-1.37c-.4-.4-.92-.59-1.43-.59-.52 0-1.04.2-1.43.59L10.3 9.45l-7.72 7.72c-.78.78-.78 2.05 0 2.83L4 21.41c.39.39.9.59 1.41.59.51 0 1.02-.2 1.41-.59l7.78-7.78 2.81-2.81c.8-.78.8-2.07 0-2.86zM5.41 20L4 18.59l7.72-7.72 1.47 1.35L5.41 20z\"/>\n",
              "  </svg>\n",
              "      </button>\n",
              "      \n",
              "  <style>\n",
              "    .colab-df-container {\n",
              "      display:flex;\n",
              "      flex-wrap:wrap;\n",
              "      gap: 12px;\n",
              "    }\n",
              "\n",
              "    .colab-df-convert {\n",
              "      background-color: #E8F0FE;\n",
              "      border: none;\n",
              "      border-radius: 50%;\n",
              "      cursor: pointer;\n",
              "      display: none;\n",
              "      fill: #1967D2;\n",
              "      height: 32px;\n",
              "      padding: 0 0 0 0;\n",
              "      width: 32px;\n",
              "    }\n",
              "\n",
              "    .colab-df-convert:hover {\n",
              "      background-color: #E2EBFA;\n",
              "      box-shadow: 0px 1px 2px rgba(60, 64, 67, 0.3), 0px 1px 3px 1px rgba(60, 64, 67, 0.15);\n",
              "      fill: #174EA6;\n",
              "    }\n",
              "\n",
              "    [theme=dark] .colab-df-convert {\n",
              "      background-color: #3B4455;\n",
              "      fill: #D2E3FC;\n",
              "    }\n",
              "\n",
              "    [theme=dark] .colab-df-convert:hover {\n",
              "      background-color: #434B5C;\n",
              "      box-shadow: 0px 1px 3px 1px rgba(0, 0, 0, 0.15);\n",
              "      filter: drop-shadow(0px 1px 2px rgba(0, 0, 0, 0.3));\n",
              "      fill: #FFFFFF;\n",
              "    }\n",
              "  </style>\n",
              "\n",
              "      <script>\n",
              "        const buttonEl =\n",
              "          document.querySelector('#df-eb3793b4-17b6-40e8-806b-70e4ed4103f0 button.colab-df-convert');\n",
              "        buttonEl.style.display =\n",
              "          google.colab.kernel.accessAllowed ? 'block' : 'none';\n",
              "\n",
              "        async function convertToInteractive(key) {\n",
              "          const element = document.querySelector('#df-eb3793b4-17b6-40e8-806b-70e4ed4103f0');\n",
              "          const dataTable =\n",
              "            await google.colab.kernel.invokeFunction('convertToInteractive',\n",
              "                                                     [key], {});\n",
              "          if (!dataTable) return;\n",
              "\n",
              "          const docLinkHtml = 'Like what you see? Visit the ' +\n",
              "            '<a target=\"_blank\" href=https://colab.research.google.com/notebooks/data_table.ipynb>data table notebook</a>'\n",
              "            + ' to learn more about interactive tables.';\n",
              "          element.innerHTML = '';\n",
              "          dataTable['output_type'] = 'display_data';\n",
              "          await google.colab.output.renderOutput(dataTable, element);\n",
              "          const docLink = document.createElement('div');\n",
              "          docLink.innerHTML = docLinkHtml;\n",
              "          element.appendChild(docLink);\n",
              "        }\n",
              "      </script>\n",
              "    </div>\n",
              "  </div>\n",
              "  "
            ]
          },
          "metadata": {},
          "execution_count": 104
        }
      ]
    },
    {
      "cell_type": "markdown",
      "source": [
        "- quality 변수의 타입을 object(또는 float)에서 int로 변경"
      ],
      "metadata": {
        "id": "wKq1-yVkaRXx"
      }
    },
    {
      "cell_type": "code",
      "source": [
        "def str2int(x):\n",
        "    if type(x) == str:\n",
        "        x = x.replace(\",\",\"\")\n",
        "        x = int(x)\n",
        "        return x\n",
        "    else:\n",
        "        x = int(x)\n",
        "        return x"
      ],
      "metadata": {
        "id": "DDE2eFVuaP-v"
      },
      "execution_count": 105,
      "outputs": []
    },
    {
      "cell_type": "code",
      "source": [
        "for i in train_qual.columns[3:]:\n",
        "    train_qual[i] = train_qual[i].apply(lambda x :str2int(x))"
      ],
      "metadata": {
        "id": "phd0uuAQamuD"
      },
      "execution_count": 106,
      "outputs": []
    },
    {
      "cell_type": "code",
      "source": [
        "for i in test_qual.columns[3:]:\n",
        "    test_qual[i] = test_qual[i].apply(lambda x : str2int(x))"
      ],
      "metadata": {
        "id": "9CHhYPDuaw95"
      },
      "execution_count": 107,
      "outputs": []
    },
    {
      "cell_type": "markdown",
      "source": [
        "## 3-4. 이상치 확인\n",
        "1. fwver의 이상치 확인\n",
        "    - 펌웨어 버전의 운용 기간이 **비정상적으로 짧은 것**들이 존재하였음  \n",
        "        -> 해당 펌웨어 버전을 사용한 유전는 펌웨어 버전당 한 명뿐이었음  \n",
        "        -> 따라서, 이러한 버전을 사용한 유저는 이상치에 속한다고 보고 데이터를 확인하였음"
      ],
      "metadata": {
        "id": "JEboFdeJa6X_"
      }
    },
    {
      "cell_type": "code",
      "source": [
        "temp = train_err[['time','fwver']].groupby('fwver').time.unique() # train_err_data에 time과 fwver 컬럼을 가져와 fwver를 기준으로 묶고 time이 unique한 것들을 temp라는 변수에 담음\n",
        "df = pd.DataFrame(columns = ['fwver','start','end']) # 새로운 dataframe 생성\n",
        "for i in range(len(temp)):\n",
        "    temp.values[i].sort() # temp에 담긴 값들을 정렬\n",
        "    df = df.append(pd.Series([temp.index[i], temp.values[i][0], temp.values[i][-1]], index=df.columns),\n",
        "                   ignore_index = True) # 펌웨어 운용의 시작날짜와 끝난날짜를 df에 담음"
      ],
      "metadata": {
        "id": "rhP-GZlpa5RP"
      },
      "execution_count": 112,
      "outputs": []
    },
    {
      "cell_type": "code",
      "source": [
        "def find_abnormal(x): # x를 살펴본 기간 차이\n",
        "    for fwver, st, ed in tqdm(df.values):\n",
        "        if((ed - st).days < x):\n",
        "            user = train_err[train_err['fwver']==fwver].user_id.unique()"
      ],
      "metadata": {
        "id": "IOBbHWoHb7e6"
      },
      "execution_count": 113,
      "outputs": []
    },
    {
      "cell_type": "code",
      "source": [
        "find_abnormal(3) # fwver : 펌웨어 버전 # per_num : 사용한 유저의 수 # id : 사용한 유저의 id"
      ],
      "metadata": {
        "colab": {
          "base_uri": "https://localhost:8080/"
        },
        "id": "QNPLfBEzg1mH",
        "outputId": "6ca2b669-be85-4631-91fd-a073130f4b5c"
      },
      "execution_count": 114,
      "outputs": [
        {
          "output_type": "stream",
          "name": "stderr",
          "text": [
            "100%|██████████| 37/37 [00:04<00:00,  8.71it/s]\n"
          ]
        }
      ]
    },
    {
      "cell_type": "markdown",
      "source": [
        "- 18142번 유저는 약 3분동안 혼자 05.15.2090 버전을 사용하였음 → 퀄리티값에 이상이 없음, 에러 로그 존재함 → 불만 제기 안함\n",
        "- 19831번 유저는 하루~이틀동안 혼자 04.22.1656 버전을 사용하였음 → 퀄리티값에 이상이 있음, 에러 로그 존재함 → 불만 제기\n",
        "- 24279번 유저는 약 18분동안 혼자 05.15.2092 버전을 사용하였음 → 퀄리티값에 이상이 없음, 에러 로그 존재함 → 불만 제기\n",
        "\n"
      ],
      "metadata": {
        "id": "TDg6usoFhIvu"
      }
    },
    {
      "cell_type": "code",
      "source": [
        "abnormal_lst = [18142, 19831, 24279]\n",
        "display(train_prob[train_prob['user_id'].isin(abnormal_lst)]) # 해당 유저들이 불만을 제기했는지 확인\n",
        "# display(train_qual[train_qual['user_id'].isin(abnormal_lst)]) # 해당 유저들의 quality 값에 이상이 있는지 확인\n",
        "# display(train_err[train_err['user_id'].isin(abnormal_lst)][:50]) # 해당 유저의 error data 확인"
      ],
      "metadata": {
        "colab": {
          "base_uri": "https://localhost:8080/",
          "height": 112
        },
        "id": "_eGWTEKHhCQ2",
        "outputId": "0b708b48-0f98-4e5a-b63b-8d99fef1b07c"
      },
      "execution_count": 116,
      "outputs": [
        {
          "output_type": "display_data",
          "data": {
            "text/plain": [
              "      user_id                time\n",
              "3499    19831 2020-11-23 11:00:00\n",
              "5180    24279 2020-11-13 11:00:00"
            ],
            "text/html": [
              "\n",
              "  <div id=\"df-0c6954d3-6c12-47ca-b1e8-d3105ed5ad64\">\n",
              "    <div class=\"colab-df-container\">\n",
              "      <div>\n",
              "<style scoped>\n",
              "    .dataframe tbody tr th:only-of-type {\n",
              "        vertical-align: middle;\n",
              "    }\n",
              "\n",
              "    .dataframe tbody tr th {\n",
              "        vertical-align: top;\n",
              "    }\n",
              "\n",
              "    .dataframe thead th {\n",
              "        text-align: right;\n",
              "    }\n",
              "</style>\n",
              "<table border=\"1\" class=\"dataframe\">\n",
              "  <thead>\n",
              "    <tr style=\"text-align: right;\">\n",
              "      <th></th>\n",
              "      <th>user_id</th>\n",
              "      <th>time</th>\n",
              "    </tr>\n",
              "  </thead>\n",
              "  <tbody>\n",
              "    <tr>\n",
              "      <th>3499</th>\n",
              "      <td>19831</td>\n",
              "      <td>2020-11-23 11:00:00</td>\n",
              "    </tr>\n",
              "    <tr>\n",
              "      <th>5180</th>\n",
              "      <td>24279</td>\n",
              "      <td>2020-11-13 11:00:00</td>\n",
              "    </tr>\n",
              "  </tbody>\n",
              "</table>\n",
              "</div>\n",
              "      <button class=\"colab-df-convert\" onclick=\"convertToInteractive('df-0c6954d3-6c12-47ca-b1e8-d3105ed5ad64')\"\n",
              "              title=\"Convert this dataframe to an interactive table.\"\n",
              "              style=\"display:none;\">\n",
              "        \n",
              "  <svg xmlns=\"http://www.w3.org/2000/svg\" height=\"24px\"viewBox=\"0 0 24 24\"\n",
              "       width=\"24px\">\n",
              "    <path d=\"M0 0h24v24H0V0z\" fill=\"none\"/>\n",
              "    <path d=\"M18.56 5.44l.94 2.06.94-2.06 2.06-.94-2.06-.94-.94-2.06-.94 2.06-2.06.94zm-11 1L8.5 8.5l.94-2.06 2.06-.94-2.06-.94L8.5 2.5l-.94 2.06-2.06.94zm10 10l.94 2.06.94-2.06 2.06-.94-2.06-.94-.94-2.06-.94 2.06-2.06.94z\"/><path d=\"M17.41 7.96l-1.37-1.37c-.4-.4-.92-.59-1.43-.59-.52 0-1.04.2-1.43.59L10.3 9.45l-7.72 7.72c-.78.78-.78 2.05 0 2.83L4 21.41c.39.39.9.59 1.41.59.51 0 1.02-.2 1.41-.59l7.78-7.78 2.81-2.81c.8-.78.8-2.07 0-2.86zM5.41 20L4 18.59l7.72-7.72 1.47 1.35L5.41 20z\"/>\n",
              "  </svg>\n",
              "      </button>\n",
              "      \n",
              "  <style>\n",
              "    .colab-df-container {\n",
              "      display:flex;\n",
              "      flex-wrap:wrap;\n",
              "      gap: 12px;\n",
              "    }\n",
              "\n",
              "    .colab-df-convert {\n",
              "      background-color: #E8F0FE;\n",
              "      border: none;\n",
              "      border-radius: 50%;\n",
              "      cursor: pointer;\n",
              "      display: none;\n",
              "      fill: #1967D2;\n",
              "      height: 32px;\n",
              "      padding: 0 0 0 0;\n",
              "      width: 32px;\n",
              "    }\n",
              "\n",
              "    .colab-df-convert:hover {\n",
              "      background-color: #E2EBFA;\n",
              "      box-shadow: 0px 1px 2px rgba(60, 64, 67, 0.3), 0px 1px 3px 1px rgba(60, 64, 67, 0.15);\n",
              "      fill: #174EA6;\n",
              "    }\n",
              "\n",
              "    [theme=dark] .colab-df-convert {\n",
              "      background-color: #3B4455;\n",
              "      fill: #D2E3FC;\n",
              "    }\n",
              "\n",
              "    [theme=dark] .colab-df-convert:hover {\n",
              "      background-color: #434B5C;\n",
              "      box-shadow: 0px 1px 3px 1px rgba(0, 0, 0, 0.15);\n",
              "      filter: drop-shadow(0px 1px 2px rgba(0, 0, 0, 0.3));\n",
              "      fill: #FFFFFF;\n",
              "    }\n",
              "  </style>\n",
              "\n",
              "      <script>\n",
              "        const buttonEl =\n",
              "          document.querySelector('#df-0c6954d3-6c12-47ca-b1e8-d3105ed5ad64 button.colab-df-convert');\n",
              "        buttonEl.style.display =\n",
              "          google.colab.kernel.accessAllowed ? 'block' : 'none';\n",
              "\n",
              "        async function convertToInteractive(key) {\n",
              "          const element = document.querySelector('#df-0c6954d3-6c12-47ca-b1e8-d3105ed5ad64');\n",
              "          const dataTable =\n",
              "            await google.colab.kernel.invokeFunction('convertToInteractive',\n",
              "                                                     [key], {});\n",
              "          if (!dataTable) return;\n",
              "\n",
              "          const docLinkHtml = 'Like what you see? Visit the ' +\n",
              "            '<a target=\"_blank\" href=https://colab.research.google.com/notebooks/data_table.ipynb>data table notebook</a>'\n",
              "            + ' to learn more about interactive tables.';\n",
              "          element.innerHTML = '';\n",
              "          dataTable['output_type'] = 'display_data';\n",
              "          await google.colab.output.renderOutput(dataTable, element);\n",
              "          const docLink = document.createElement('div');\n",
              "          docLink.innerHTML = docLinkHtml;\n",
              "          element.appendChild(docLink);\n",
              "        }\n",
              "      </script>\n",
              "    </div>\n",
              "  </div>\n",
              "  "
            ]
          },
          "metadata": {}
        }
      ]
    },
    {
      "cell_type": "markdown",
      "source": [
        "24279번 유저는 이상치라고 생각할 수 있다.  \n",
        "(추후 분석을 통해 이상치임을 더 확실하게 알 수 있다. 따라서 추후 분석 이전에는 제거하지 않는다.)"
      ],
      "metadata": {
        "id": "3E9BFWp2iE3Y"
      }
    },
    {
      "cell_type": "markdown",
      "source": [
        "2. error log 이상치 확인\n",
        "    - 에러 로그양이 적음에도 불만을 제기한 사람들이 존재"
      ],
      "metadata": {
        "id": "BO9Wl3D4iXMl"
      }
    },
    {
      "cell_type": "code",
      "source": [
        "log_lst = list(train_err.groupby('user_id')['errtype'].count().to_frame().sort_values(by='errtype').reset_index().user_id.unique())[:100] # 에러 로그양이 가장 적은 유저 100명\n",
        "\n",
        "print(len(train_prob[train_prob['user_id'].isin(log_lst)])) # 에러 로그가 적은 유저 100명 중, 불만을 제기한 유저\n",
        "print(list(train_prob[train_prob['user_id'].isin(log_lst)].user_id.unique())) # 에러 로그가 적은 유저 100명의 리스트"
      ],
      "metadata": {
        "colab": {
          "base_uri": "https://localhost:8080/"
        },
        "id": "eh8t90JfiBgK",
        "outputId": "47fc5883-774b-4841-c33d-94ccc017612f"
      },
      "execution_count": 118,
      "outputs": [
        {
          "output_type": "stream",
          "name": "stdout",
          "text": [
            "5\n",
            "[12623, 16980, 20271, 20300, 21040]\n"
          ]
        }
      ]
    },
    {
      "cell_type": "markdown",
      "source": [
        "- 위 5명의 error data & quality data를 살펴봄"
      ],
      "metadata": {
        "id": "yjjByN5ujUP4"
      }
    },
    {
      "cell_type": "code",
      "source": [
        "display(train_err[train_err['user_id'] == 16980])\n",
        "display(train_qual[train_qual['user_id'] == 16980])\n",
        "print(\"\\n\")\n",
        "display(train_err[train_err['user_id'] == 20271])\n",
        "display(train_qual[train_qual['user_id'] == 20271])\n",
        "print(\"\\n\")\n",
        "display(train_err[train_err['user_id'] == 12623])\n",
        "display(train_qual[train_qual['user_id'] == 12623])\n",
        "print(\"\\n\")\n",
        "display(train_err[train_err['user_id'] == 21040])\n",
        "display(train_qual[train_qual['user_id'] == 21040])\n",
        "print(\"\\n\")\n",
        "display(train_err[train_err['user_id'] == 20300])\n",
        "display(train_qual[train_qual['user_id'] == 20300])\n",
        "print(\"\\n\")"
      ],
      "metadata": {
        "colab": {
          "base_uri": "https://localhost:8080/",
          "height": 916
        },
        "id": "UZ4OuBwhjO3M",
        "outputId": "f4f92d79-e9db-4881-9f9b-ccdb435ccb48"
      },
      "execution_count": 119,
      "outputs": [
        {
          "output_type": "display_data",
          "data": {
            "text/plain": [
              "         user_id                time model_nm fwver  errtype  errcode\n",
              "7787926    16980 2020-11-17 22:44:56  model_6    10        5  S-61001\n",
              "7787927    16980 2020-11-17 22:44:59  model_6    10        5  S-61001"
            ],
            "text/html": [
              "\n",
              "  <div id=\"df-e45ee94d-30b7-455c-a545-6b193bf20068\">\n",
              "    <div class=\"colab-df-container\">\n",
              "      <div>\n",
              "<style scoped>\n",
              "    .dataframe tbody tr th:only-of-type {\n",
              "        vertical-align: middle;\n",
              "    }\n",
              "\n",
              "    .dataframe tbody tr th {\n",
              "        vertical-align: top;\n",
              "    }\n",
              "\n",
              "    .dataframe thead th {\n",
              "        text-align: right;\n",
              "    }\n",
              "</style>\n",
              "<table border=\"1\" class=\"dataframe\">\n",
              "  <thead>\n",
              "    <tr style=\"text-align: right;\">\n",
              "      <th></th>\n",
              "      <th>user_id</th>\n",
              "      <th>time</th>\n",
              "      <th>model_nm</th>\n",
              "      <th>fwver</th>\n",
              "      <th>errtype</th>\n",
              "      <th>errcode</th>\n",
              "    </tr>\n",
              "  </thead>\n",
              "  <tbody>\n",
              "    <tr>\n",
              "      <th>7787926</th>\n",
              "      <td>16980</td>\n",
              "      <td>2020-11-17 22:44:56</td>\n",
              "      <td>model_6</td>\n",
              "      <td>10</td>\n",
              "      <td>5</td>\n",
              "      <td>S-61001</td>\n",
              "    </tr>\n",
              "    <tr>\n",
              "      <th>7787927</th>\n",
              "      <td>16980</td>\n",
              "      <td>2020-11-17 22:44:59</td>\n",
              "      <td>model_6</td>\n",
              "      <td>10</td>\n",
              "      <td>5</td>\n",
              "      <td>S-61001</td>\n",
              "    </tr>\n",
              "  </tbody>\n",
              "</table>\n",
              "</div>\n",
              "      <button class=\"colab-df-convert\" onclick=\"convertToInteractive('df-e45ee94d-30b7-455c-a545-6b193bf20068')\"\n",
              "              title=\"Convert this dataframe to an interactive table.\"\n",
              "              style=\"display:none;\">\n",
              "        \n",
              "  <svg xmlns=\"http://www.w3.org/2000/svg\" height=\"24px\"viewBox=\"0 0 24 24\"\n",
              "       width=\"24px\">\n",
              "    <path d=\"M0 0h24v24H0V0z\" fill=\"none\"/>\n",
              "    <path d=\"M18.56 5.44l.94 2.06.94-2.06 2.06-.94-2.06-.94-.94-2.06-.94 2.06-2.06.94zm-11 1L8.5 8.5l.94-2.06 2.06-.94-2.06-.94L8.5 2.5l-.94 2.06-2.06.94zm10 10l.94 2.06.94-2.06 2.06-.94-2.06-.94-.94-2.06-.94 2.06-2.06.94z\"/><path d=\"M17.41 7.96l-1.37-1.37c-.4-.4-.92-.59-1.43-.59-.52 0-1.04.2-1.43.59L10.3 9.45l-7.72 7.72c-.78.78-.78 2.05 0 2.83L4 21.41c.39.39.9.59 1.41.59.51 0 1.02-.2 1.41-.59l7.78-7.78 2.81-2.81c.8-.78.8-2.07 0-2.86zM5.41 20L4 18.59l7.72-7.72 1.47 1.35L5.41 20z\"/>\n",
              "  </svg>\n",
              "      </button>\n",
              "      \n",
              "  <style>\n",
              "    .colab-df-container {\n",
              "      display:flex;\n",
              "      flex-wrap:wrap;\n",
              "      gap: 12px;\n",
              "    }\n",
              "\n",
              "    .colab-df-convert {\n",
              "      background-color: #E8F0FE;\n",
              "      border: none;\n",
              "      border-radius: 50%;\n",
              "      cursor: pointer;\n",
              "      display: none;\n",
              "      fill: #1967D2;\n",
              "      height: 32px;\n",
              "      padding: 0 0 0 0;\n",
              "      width: 32px;\n",
              "    }\n",
              "\n",
              "    .colab-df-convert:hover {\n",
              "      background-color: #E2EBFA;\n",
              "      box-shadow: 0px 1px 2px rgba(60, 64, 67, 0.3), 0px 1px 3px 1px rgba(60, 64, 67, 0.15);\n",
              "      fill: #174EA6;\n",
              "    }\n",
              "\n",
              "    [theme=dark] .colab-df-convert {\n",
              "      background-color: #3B4455;\n",
              "      fill: #D2E3FC;\n",
              "    }\n",
              "\n",
              "    [theme=dark] .colab-df-convert:hover {\n",
              "      background-color: #434B5C;\n",
              "      box-shadow: 0px 1px 3px 1px rgba(0, 0, 0, 0.15);\n",
              "      filter: drop-shadow(0px 1px 2px rgba(0, 0, 0, 0.3));\n",
              "      fill: #FFFFFF;\n",
              "    }\n",
              "  </style>\n",
              "\n",
              "      <script>\n",
              "        const buttonEl =\n",
              "          document.querySelector('#df-e45ee94d-30b7-455c-a545-6b193bf20068 button.colab-df-convert');\n",
              "        buttonEl.style.display =\n",
              "          google.colab.kernel.accessAllowed ? 'block' : 'none';\n",
              "\n",
              "        async function convertToInteractive(key) {\n",
              "          const element = document.querySelector('#df-e45ee94d-30b7-455c-a545-6b193bf20068');\n",
              "          const dataTable =\n",
              "            await google.colab.kernel.invokeFunction('convertToInteractive',\n",
              "                                                     [key], {});\n",
              "          if (!dataTable) return;\n",
              "\n",
              "          const docLinkHtml = 'Like what you see? Visit the ' +\n",
              "            '<a target=\"_blank\" href=https://colab.research.google.com/notebooks/data_table.ipynb>data table notebook</a>'\n",
              "            + ' to learn more about interactive tables.';\n",
              "          element.innerHTML = '';\n",
              "          dataTable['output_type'] = 'display_data';\n",
              "          await google.colab.output.renderOutput(dataTable, element);\n",
              "          const docLink = document.createElement('div');\n",
              "          docLink.innerHTML = docLinkHtml;\n",
              "          element.appendChild(docLink);\n",
              "        }\n",
              "      </script>\n",
              "    </div>\n",
              "  </div>\n",
              "  "
            ]
          },
          "metadata": {}
        },
        {
          "output_type": "display_data",
          "data": {
            "text/plain": [
              "Empty DataFrame\n",
              "Columns: [time, user_id, fwver, quality_0, quality_1, quality_2, quality_3, quality_4, quality_5, quality_6, quality_7, quality_8, quality_9, quality_10, quality_11, quality_12]\n",
              "Index: []"
            ],
            "text/html": [
              "\n",
              "  <div id=\"df-02293739-4ee6-40ff-9c3f-cea6af4df290\">\n",
              "    <div class=\"colab-df-container\">\n",
              "      <div>\n",
              "<style scoped>\n",
              "    .dataframe tbody tr th:only-of-type {\n",
              "        vertical-align: middle;\n",
              "    }\n",
              "\n",
              "    .dataframe tbody tr th {\n",
              "        vertical-align: top;\n",
              "    }\n",
              "\n",
              "    .dataframe thead th {\n",
              "        text-align: right;\n",
              "    }\n",
              "</style>\n",
              "<table border=\"1\" class=\"dataframe\">\n",
              "  <thead>\n",
              "    <tr style=\"text-align: right;\">\n",
              "      <th></th>\n",
              "      <th>time</th>\n",
              "      <th>user_id</th>\n",
              "      <th>fwver</th>\n",
              "      <th>quality_0</th>\n",
              "      <th>quality_1</th>\n",
              "      <th>quality_2</th>\n",
              "      <th>quality_3</th>\n",
              "      <th>quality_4</th>\n",
              "      <th>quality_5</th>\n",
              "      <th>quality_6</th>\n",
              "      <th>quality_7</th>\n",
              "      <th>quality_8</th>\n",
              "      <th>quality_9</th>\n",
              "      <th>quality_10</th>\n",
              "      <th>quality_11</th>\n",
              "      <th>quality_12</th>\n",
              "    </tr>\n",
              "  </thead>\n",
              "  <tbody>\n",
              "  </tbody>\n",
              "</table>\n",
              "</div>\n",
              "      <button class=\"colab-df-convert\" onclick=\"convertToInteractive('df-02293739-4ee6-40ff-9c3f-cea6af4df290')\"\n",
              "              title=\"Convert this dataframe to an interactive table.\"\n",
              "              style=\"display:none;\">\n",
              "        \n",
              "  <svg xmlns=\"http://www.w3.org/2000/svg\" height=\"24px\"viewBox=\"0 0 24 24\"\n",
              "       width=\"24px\">\n",
              "    <path d=\"M0 0h24v24H0V0z\" fill=\"none\"/>\n",
              "    <path d=\"M18.56 5.44l.94 2.06.94-2.06 2.06-.94-2.06-.94-.94-2.06-.94 2.06-2.06.94zm-11 1L8.5 8.5l.94-2.06 2.06-.94-2.06-.94L8.5 2.5l-.94 2.06-2.06.94zm10 10l.94 2.06.94-2.06 2.06-.94-2.06-.94-.94-2.06-.94 2.06-2.06.94z\"/><path d=\"M17.41 7.96l-1.37-1.37c-.4-.4-.92-.59-1.43-.59-.52 0-1.04.2-1.43.59L10.3 9.45l-7.72 7.72c-.78.78-.78 2.05 0 2.83L4 21.41c.39.39.9.59 1.41.59.51 0 1.02-.2 1.41-.59l7.78-7.78 2.81-2.81c.8-.78.8-2.07 0-2.86zM5.41 20L4 18.59l7.72-7.72 1.47 1.35L5.41 20z\"/>\n",
              "  </svg>\n",
              "      </button>\n",
              "      \n",
              "  <style>\n",
              "    .colab-df-container {\n",
              "      display:flex;\n",
              "      flex-wrap:wrap;\n",
              "      gap: 12px;\n",
              "    }\n",
              "\n",
              "    .colab-df-convert {\n",
              "      background-color: #E8F0FE;\n",
              "      border: none;\n",
              "      border-radius: 50%;\n",
              "      cursor: pointer;\n",
              "      display: none;\n",
              "      fill: #1967D2;\n",
              "      height: 32px;\n",
              "      padding: 0 0 0 0;\n",
              "      width: 32px;\n",
              "    }\n",
              "\n",
              "    .colab-df-convert:hover {\n",
              "      background-color: #E2EBFA;\n",
              "      box-shadow: 0px 1px 2px rgba(60, 64, 67, 0.3), 0px 1px 3px 1px rgba(60, 64, 67, 0.15);\n",
              "      fill: #174EA6;\n",
              "    }\n",
              "\n",
              "    [theme=dark] .colab-df-convert {\n",
              "      background-color: #3B4455;\n",
              "      fill: #D2E3FC;\n",
              "    }\n",
              "\n",
              "    [theme=dark] .colab-df-convert:hover {\n",
              "      background-color: #434B5C;\n",
              "      box-shadow: 0px 1px 3px 1px rgba(0, 0, 0, 0.15);\n",
              "      filter: drop-shadow(0px 1px 2px rgba(0, 0, 0, 0.3));\n",
              "      fill: #FFFFFF;\n",
              "    }\n",
              "  </style>\n",
              "\n",
              "      <script>\n",
              "        const buttonEl =\n",
              "          document.querySelector('#df-02293739-4ee6-40ff-9c3f-cea6af4df290 button.colab-df-convert');\n",
              "        buttonEl.style.display =\n",
              "          google.colab.kernel.accessAllowed ? 'block' : 'none';\n",
              "\n",
              "        async function convertToInteractive(key) {\n",
              "          const element = document.querySelector('#df-02293739-4ee6-40ff-9c3f-cea6af4df290');\n",
              "          const dataTable =\n",
              "            await google.colab.kernel.invokeFunction('convertToInteractive',\n",
              "                                                     [key], {});\n",
              "          if (!dataTable) return;\n",
              "\n",
              "          const docLinkHtml = 'Like what you see? Visit the ' +\n",
              "            '<a target=\"_blank\" href=https://colab.research.google.com/notebooks/data_table.ipynb>data table notebook</a>'\n",
              "            + ' to learn more about interactive tables.';\n",
              "          element.innerHTML = '';\n",
              "          dataTable['output_type'] = 'display_data';\n",
              "          await google.colab.output.renderOutput(dataTable, element);\n",
              "          const docLink = document.createElement('div');\n",
              "          docLink.innerHTML = docLinkHtml;\n",
              "          element.appendChild(docLink);\n",
              "        }\n",
              "      </script>\n",
              "    </div>\n",
              "  </div>\n",
              "  "
            ]
          },
          "metadata": {}
        },
        {
          "output_type": "stream",
          "name": "stdout",
          "text": [
            "\n",
            "\n"
          ]
        },
        {
          "output_type": "display_data",
          "data": {
            "text/plain": [
              "          user_id                time model_nm fwver  errtype  errcode\n",
              "11112255    20271 2020-11-04 22:11:48  model_6    10        5  S-61001\n",
              "11112256    20271 2020-11-05 21:53:00  model_6    10        5  S-61001"
            ],
            "text/html": [
              "\n",
              "  <div id=\"df-93d4d41a-2f7f-4475-bc90-f517b4bed145\">\n",
              "    <div class=\"colab-df-container\">\n",
              "      <div>\n",
              "<style scoped>\n",
              "    .dataframe tbody tr th:only-of-type {\n",
              "        vertical-align: middle;\n",
              "    }\n",
              "\n",
              "    .dataframe tbody tr th {\n",
              "        vertical-align: top;\n",
              "    }\n",
              "\n",
              "    .dataframe thead th {\n",
              "        text-align: right;\n",
              "    }\n",
              "</style>\n",
              "<table border=\"1\" class=\"dataframe\">\n",
              "  <thead>\n",
              "    <tr style=\"text-align: right;\">\n",
              "      <th></th>\n",
              "      <th>user_id</th>\n",
              "      <th>time</th>\n",
              "      <th>model_nm</th>\n",
              "      <th>fwver</th>\n",
              "      <th>errtype</th>\n",
              "      <th>errcode</th>\n",
              "    </tr>\n",
              "  </thead>\n",
              "  <tbody>\n",
              "    <tr>\n",
              "      <th>11112255</th>\n",
              "      <td>20271</td>\n",
              "      <td>2020-11-04 22:11:48</td>\n",
              "      <td>model_6</td>\n",
              "      <td>10</td>\n",
              "      <td>5</td>\n",
              "      <td>S-61001</td>\n",
              "    </tr>\n",
              "    <tr>\n",
              "      <th>11112256</th>\n",
              "      <td>20271</td>\n",
              "      <td>2020-11-05 21:53:00</td>\n",
              "      <td>model_6</td>\n",
              "      <td>10</td>\n",
              "      <td>5</td>\n",
              "      <td>S-61001</td>\n",
              "    </tr>\n",
              "  </tbody>\n",
              "</table>\n",
              "</div>\n",
              "      <button class=\"colab-df-convert\" onclick=\"convertToInteractive('df-93d4d41a-2f7f-4475-bc90-f517b4bed145')\"\n",
              "              title=\"Convert this dataframe to an interactive table.\"\n",
              "              style=\"display:none;\">\n",
              "        \n",
              "  <svg xmlns=\"http://www.w3.org/2000/svg\" height=\"24px\"viewBox=\"0 0 24 24\"\n",
              "       width=\"24px\">\n",
              "    <path d=\"M0 0h24v24H0V0z\" fill=\"none\"/>\n",
              "    <path d=\"M18.56 5.44l.94 2.06.94-2.06 2.06-.94-2.06-.94-.94-2.06-.94 2.06-2.06.94zm-11 1L8.5 8.5l.94-2.06 2.06-.94-2.06-.94L8.5 2.5l-.94 2.06-2.06.94zm10 10l.94 2.06.94-2.06 2.06-.94-2.06-.94-.94-2.06-.94 2.06-2.06.94z\"/><path d=\"M17.41 7.96l-1.37-1.37c-.4-.4-.92-.59-1.43-.59-.52 0-1.04.2-1.43.59L10.3 9.45l-7.72 7.72c-.78.78-.78 2.05 0 2.83L4 21.41c.39.39.9.59 1.41.59.51 0 1.02-.2 1.41-.59l7.78-7.78 2.81-2.81c.8-.78.8-2.07 0-2.86zM5.41 20L4 18.59l7.72-7.72 1.47 1.35L5.41 20z\"/>\n",
              "  </svg>\n",
              "      </button>\n",
              "      \n",
              "  <style>\n",
              "    .colab-df-container {\n",
              "      display:flex;\n",
              "      flex-wrap:wrap;\n",
              "      gap: 12px;\n",
              "    }\n",
              "\n",
              "    .colab-df-convert {\n",
              "      background-color: #E8F0FE;\n",
              "      border: none;\n",
              "      border-radius: 50%;\n",
              "      cursor: pointer;\n",
              "      display: none;\n",
              "      fill: #1967D2;\n",
              "      height: 32px;\n",
              "      padding: 0 0 0 0;\n",
              "      width: 32px;\n",
              "    }\n",
              "\n",
              "    .colab-df-convert:hover {\n",
              "      background-color: #E2EBFA;\n",
              "      box-shadow: 0px 1px 2px rgba(60, 64, 67, 0.3), 0px 1px 3px 1px rgba(60, 64, 67, 0.15);\n",
              "      fill: #174EA6;\n",
              "    }\n",
              "\n",
              "    [theme=dark] .colab-df-convert {\n",
              "      background-color: #3B4455;\n",
              "      fill: #D2E3FC;\n",
              "    }\n",
              "\n",
              "    [theme=dark] .colab-df-convert:hover {\n",
              "      background-color: #434B5C;\n",
              "      box-shadow: 0px 1px 3px 1px rgba(0, 0, 0, 0.15);\n",
              "      filter: drop-shadow(0px 1px 2px rgba(0, 0, 0, 0.3));\n",
              "      fill: #FFFFFF;\n",
              "    }\n",
              "  </style>\n",
              "\n",
              "      <script>\n",
              "        const buttonEl =\n",
              "          document.querySelector('#df-93d4d41a-2f7f-4475-bc90-f517b4bed145 button.colab-df-convert');\n",
              "        buttonEl.style.display =\n",
              "          google.colab.kernel.accessAllowed ? 'block' : 'none';\n",
              "\n",
              "        async function convertToInteractive(key) {\n",
              "          const element = document.querySelector('#df-93d4d41a-2f7f-4475-bc90-f517b4bed145');\n",
              "          const dataTable =\n",
              "            await google.colab.kernel.invokeFunction('convertToInteractive',\n",
              "                                                     [key], {});\n",
              "          if (!dataTable) return;\n",
              "\n",
              "          const docLinkHtml = 'Like what you see? Visit the ' +\n",
              "            '<a target=\"_blank\" href=https://colab.research.google.com/notebooks/data_table.ipynb>data table notebook</a>'\n",
              "            + ' to learn more about interactive tables.';\n",
              "          element.innerHTML = '';\n",
              "          dataTable['output_type'] = 'display_data';\n",
              "          await google.colab.output.renderOutput(dataTable, element);\n",
              "          const docLink = document.createElement('div');\n",
              "          docLink.innerHTML = docLinkHtml;\n",
              "          element.appendChild(docLink);\n",
              "        }\n",
              "      </script>\n",
              "    </div>\n",
              "  </div>\n",
              "  "
            ]
          },
          "metadata": {}
        },
        {
          "output_type": "display_data",
          "data": {
            "text/plain": [
              "Empty DataFrame\n",
              "Columns: [time, user_id, fwver, quality_0, quality_1, quality_2, quality_3, quality_4, quality_5, quality_6, quality_7, quality_8, quality_9, quality_10, quality_11, quality_12]\n",
              "Index: []"
            ],
            "text/html": [
              "\n",
              "  <div id=\"df-41c1ceda-56c9-46d7-a362-df0f579364ab\">\n",
              "    <div class=\"colab-df-container\">\n",
              "      <div>\n",
              "<style scoped>\n",
              "    .dataframe tbody tr th:only-of-type {\n",
              "        vertical-align: middle;\n",
              "    }\n",
              "\n",
              "    .dataframe tbody tr th {\n",
              "        vertical-align: top;\n",
              "    }\n",
              "\n",
              "    .dataframe thead th {\n",
              "        text-align: right;\n",
              "    }\n",
              "</style>\n",
              "<table border=\"1\" class=\"dataframe\">\n",
              "  <thead>\n",
              "    <tr style=\"text-align: right;\">\n",
              "      <th></th>\n",
              "      <th>time</th>\n",
              "      <th>user_id</th>\n",
              "      <th>fwver</th>\n",
              "      <th>quality_0</th>\n",
              "      <th>quality_1</th>\n",
              "      <th>quality_2</th>\n",
              "      <th>quality_3</th>\n",
              "      <th>quality_4</th>\n",
              "      <th>quality_5</th>\n",
              "      <th>quality_6</th>\n",
              "      <th>quality_7</th>\n",
              "      <th>quality_8</th>\n",
              "      <th>quality_9</th>\n",
              "      <th>quality_10</th>\n",
              "      <th>quality_11</th>\n",
              "      <th>quality_12</th>\n",
              "    </tr>\n",
              "  </thead>\n",
              "  <tbody>\n",
              "  </tbody>\n",
              "</table>\n",
              "</div>\n",
              "      <button class=\"colab-df-convert\" onclick=\"convertToInteractive('df-41c1ceda-56c9-46d7-a362-df0f579364ab')\"\n",
              "              title=\"Convert this dataframe to an interactive table.\"\n",
              "              style=\"display:none;\">\n",
              "        \n",
              "  <svg xmlns=\"http://www.w3.org/2000/svg\" height=\"24px\"viewBox=\"0 0 24 24\"\n",
              "       width=\"24px\">\n",
              "    <path d=\"M0 0h24v24H0V0z\" fill=\"none\"/>\n",
              "    <path d=\"M18.56 5.44l.94 2.06.94-2.06 2.06-.94-2.06-.94-.94-2.06-.94 2.06-2.06.94zm-11 1L8.5 8.5l.94-2.06 2.06-.94-2.06-.94L8.5 2.5l-.94 2.06-2.06.94zm10 10l.94 2.06.94-2.06 2.06-.94-2.06-.94-.94-2.06-.94 2.06-2.06.94z\"/><path d=\"M17.41 7.96l-1.37-1.37c-.4-.4-.92-.59-1.43-.59-.52 0-1.04.2-1.43.59L10.3 9.45l-7.72 7.72c-.78.78-.78 2.05 0 2.83L4 21.41c.39.39.9.59 1.41.59.51 0 1.02-.2 1.41-.59l7.78-7.78 2.81-2.81c.8-.78.8-2.07 0-2.86zM5.41 20L4 18.59l7.72-7.72 1.47 1.35L5.41 20z\"/>\n",
              "  </svg>\n",
              "      </button>\n",
              "      \n",
              "  <style>\n",
              "    .colab-df-container {\n",
              "      display:flex;\n",
              "      flex-wrap:wrap;\n",
              "      gap: 12px;\n",
              "    }\n",
              "\n",
              "    .colab-df-convert {\n",
              "      background-color: #E8F0FE;\n",
              "      border: none;\n",
              "      border-radius: 50%;\n",
              "      cursor: pointer;\n",
              "      display: none;\n",
              "      fill: #1967D2;\n",
              "      height: 32px;\n",
              "      padding: 0 0 0 0;\n",
              "      width: 32px;\n",
              "    }\n",
              "\n",
              "    .colab-df-convert:hover {\n",
              "      background-color: #E2EBFA;\n",
              "      box-shadow: 0px 1px 2px rgba(60, 64, 67, 0.3), 0px 1px 3px 1px rgba(60, 64, 67, 0.15);\n",
              "      fill: #174EA6;\n",
              "    }\n",
              "\n",
              "    [theme=dark] .colab-df-convert {\n",
              "      background-color: #3B4455;\n",
              "      fill: #D2E3FC;\n",
              "    }\n",
              "\n",
              "    [theme=dark] .colab-df-convert:hover {\n",
              "      background-color: #434B5C;\n",
              "      box-shadow: 0px 1px 3px 1px rgba(0, 0, 0, 0.15);\n",
              "      filter: drop-shadow(0px 1px 2px rgba(0, 0, 0, 0.3));\n",
              "      fill: #FFFFFF;\n",
              "    }\n",
              "  </style>\n",
              "\n",
              "      <script>\n",
              "        const buttonEl =\n",
              "          document.querySelector('#df-41c1ceda-56c9-46d7-a362-df0f579364ab button.colab-df-convert');\n",
              "        buttonEl.style.display =\n",
              "          google.colab.kernel.accessAllowed ? 'block' : 'none';\n",
              "\n",
              "        async function convertToInteractive(key) {\n",
              "          const element = document.querySelector('#df-41c1ceda-56c9-46d7-a362-df0f579364ab');\n",
              "          const dataTable =\n",
              "            await google.colab.kernel.invokeFunction('convertToInteractive',\n",
              "                                                     [key], {});\n",
              "          if (!dataTable) return;\n",
              "\n",
              "          const docLinkHtml = 'Like what you see? Visit the ' +\n",
              "            '<a target=\"_blank\" href=https://colab.research.google.com/notebooks/data_table.ipynb>data table notebook</a>'\n",
              "            + ' to learn more about interactive tables.';\n",
              "          element.innerHTML = '';\n",
              "          dataTable['output_type'] = 'display_data';\n",
              "          await google.colab.output.renderOutput(dataTable, element);\n",
              "          const docLink = document.createElement('div');\n",
              "          docLink.innerHTML = docLinkHtml;\n",
              "          element.appendChild(docLink);\n",
              "        }\n",
              "      </script>\n",
              "    </div>\n",
              "  </div>\n",
              "  "
            ]
          },
          "metadata": {}
        },
        {
          "output_type": "stream",
          "name": "stdout",
          "text": [
            "\n",
            "\n"
          ]
        },
        {
          "output_type": "display_data",
          "data": {
            "text/plain": [
              "         user_id                time model_nm fwver  errtype  errcode\n",
              "2750266    12623 2020-11-04 21:12:52  model_6    10        5  S-61001\n",
              "2750267    12623 2020-11-04 21:13:52  model_6    10        5  S-61001"
            ],
            "text/html": [
              "\n",
              "  <div id=\"df-2a472b0c-ba79-4cc9-92ab-bf7212a40eb1\">\n",
              "    <div class=\"colab-df-container\">\n",
              "      <div>\n",
              "<style scoped>\n",
              "    .dataframe tbody tr th:only-of-type {\n",
              "        vertical-align: middle;\n",
              "    }\n",
              "\n",
              "    .dataframe tbody tr th {\n",
              "        vertical-align: top;\n",
              "    }\n",
              "\n",
              "    .dataframe thead th {\n",
              "        text-align: right;\n",
              "    }\n",
              "</style>\n",
              "<table border=\"1\" class=\"dataframe\">\n",
              "  <thead>\n",
              "    <tr style=\"text-align: right;\">\n",
              "      <th></th>\n",
              "      <th>user_id</th>\n",
              "      <th>time</th>\n",
              "      <th>model_nm</th>\n",
              "      <th>fwver</th>\n",
              "      <th>errtype</th>\n",
              "      <th>errcode</th>\n",
              "    </tr>\n",
              "  </thead>\n",
              "  <tbody>\n",
              "    <tr>\n",
              "      <th>2750266</th>\n",
              "      <td>12623</td>\n",
              "      <td>2020-11-04 21:12:52</td>\n",
              "      <td>model_6</td>\n",
              "      <td>10</td>\n",
              "      <td>5</td>\n",
              "      <td>S-61001</td>\n",
              "    </tr>\n",
              "    <tr>\n",
              "      <th>2750267</th>\n",
              "      <td>12623</td>\n",
              "      <td>2020-11-04 21:13:52</td>\n",
              "      <td>model_6</td>\n",
              "      <td>10</td>\n",
              "      <td>5</td>\n",
              "      <td>S-61001</td>\n",
              "    </tr>\n",
              "  </tbody>\n",
              "</table>\n",
              "</div>\n",
              "      <button class=\"colab-df-convert\" onclick=\"convertToInteractive('df-2a472b0c-ba79-4cc9-92ab-bf7212a40eb1')\"\n",
              "              title=\"Convert this dataframe to an interactive table.\"\n",
              "              style=\"display:none;\">\n",
              "        \n",
              "  <svg xmlns=\"http://www.w3.org/2000/svg\" height=\"24px\"viewBox=\"0 0 24 24\"\n",
              "       width=\"24px\">\n",
              "    <path d=\"M0 0h24v24H0V0z\" fill=\"none\"/>\n",
              "    <path d=\"M18.56 5.44l.94 2.06.94-2.06 2.06-.94-2.06-.94-.94-2.06-.94 2.06-2.06.94zm-11 1L8.5 8.5l.94-2.06 2.06-.94-2.06-.94L8.5 2.5l-.94 2.06-2.06.94zm10 10l.94 2.06.94-2.06 2.06-.94-2.06-.94-.94-2.06-.94 2.06-2.06.94z\"/><path d=\"M17.41 7.96l-1.37-1.37c-.4-.4-.92-.59-1.43-.59-.52 0-1.04.2-1.43.59L10.3 9.45l-7.72 7.72c-.78.78-.78 2.05 0 2.83L4 21.41c.39.39.9.59 1.41.59.51 0 1.02-.2 1.41-.59l7.78-7.78 2.81-2.81c.8-.78.8-2.07 0-2.86zM5.41 20L4 18.59l7.72-7.72 1.47 1.35L5.41 20z\"/>\n",
              "  </svg>\n",
              "      </button>\n",
              "      \n",
              "  <style>\n",
              "    .colab-df-container {\n",
              "      display:flex;\n",
              "      flex-wrap:wrap;\n",
              "      gap: 12px;\n",
              "    }\n",
              "\n",
              "    .colab-df-convert {\n",
              "      background-color: #E8F0FE;\n",
              "      border: none;\n",
              "      border-radius: 50%;\n",
              "      cursor: pointer;\n",
              "      display: none;\n",
              "      fill: #1967D2;\n",
              "      height: 32px;\n",
              "      padding: 0 0 0 0;\n",
              "      width: 32px;\n",
              "    }\n",
              "\n",
              "    .colab-df-convert:hover {\n",
              "      background-color: #E2EBFA;\n",
              "      box-shadow: 0px 1px 2px rgba(60, 64, 67, 0.3), 0px 1px 3px 1px rgba(60, 64, 67, 0.15);\n",
              "      fill: #174EA6;\n",
              "    }\n",
              "\n",
              "    [theme=dark] .colab-df-convert {\n",
              "      background-color: #3B4455;\n",
              "      fill: #D2E3FC;\n",
              "    }\n",
              "\n",
              "    [theme=dark] .colab-df-convert:hover {\n",
              "      background-color: #434B5C;\n",
              "      box-shadow: 0px 1px 3px 1px rgba(0, 0, 0, 0.15);\n",
              "      filter: drop-shadow(0px 1px 2px rgba(0, 0, 0, 0.3));\n",
              "      fill: #FFFFFF;\n",
              "    }\n",
              "  </style>\n",
              "\n",
              "      <script>\n",
              "        const buttonEl =\n",
              "          document.querySelector('#df-2a472b0c-ba79-4cc9-92ab-bf7212a40eb1 button.colab-df-convert');\n",
              "        buttonEl.style.display =\n",
              "          google.colab.kernel.accessAllowed ? 'block' : 'none';\n",
              "\n",
              "        async function convertToInteractive(key) {\n",
              "          const element = document.querySelector('#df-2a472b0c-ba79-4cc9-92ab-bf7212a40eb1');\n",
              "          const dataTable =\n",
              "            await google.colab.kernel.invokeFunction('convertToInteractive',\n",
              "                                                     [key], {});\n",
              "          if (!dataTable) return;\n",
              "\n",
              "          const docLinkHtml = 'Like what you see? Visit the ' +\n",
              "            '<a target=\"_blank\" href=https://colab.research.google.com/notebooks/data_table.ipynb>data table notebook</a>'\n",
              "            + ' to learn more about interactive tables.';\n",
              "          element.innerHTML = '';\n",
              "          dataTable['output_type'] = 'display_data';\n",
              "          await google.colab.output.renderOutput(dataTable, element);\n",
              "          const docLink = document.createElement('div');\n",
              "          docLink.innerHTML = docLinkHtml;\n",
              "          element.appendChild(docLink);\n",
              "        }\n",
              "      </script>\n",
              "    </div>\n",
              "  </div>\n",
              "  "
            ]
          },
          "metadata": {}
        },
        {
          "output_type": "display_data",
          "data": {
            "text/plain": [
              "Empty DataFrame\n",
              "Columns: [time, user_id, fwver, quality_0, quality_1, quality_2, quality_3, quality_4, quality_5, quality_6, quality_7, quality_8, quality_9, quality_10, quality_11, quality_12]\n",
              "Index: []"
            ],
            "text/html": [
              "\n",
              "  <div id=\"df-f51275a7-c439-4eb0-923f-4c65fe348756\">\n",
              "    <div class=\"colab-df-container\">\n",
              "      <div>\n",
              "<style scoped>\n",
              "    .dataframe tbody tr th:only-of-type {\n",
              "        vertical-align: middle;\n",
              "    }\n",
              "\n",
              "    .dataframe tbody tr th {\n",
              "        vertical-align: top;\n",
              "    }\n",
              "\n",
              "    .dataframe thead th {\n",
              "        text-align: right;\n",
              "    }\n",
              "</style>\n",
              "<table border=\"1\" class=\"dataframe\">\n",
              "  <thead>\n",
              "    <tr style=\"text-align: right;\">\n",
              "      <th></th>\n",
              "      <th>time</th>\n",
              "      <th>user_id</th>\n",
              "      <th>fwver</th>\n",
              "      <th>quality_0</th>\n",
              "      <th>quality_1</th>\n",
              "      <th>quality_2</th>\n",
              "      <th>quality_3</th>\n",
              "      <th>quality_4</th>\n",
              "      <th>quality_5</th>\n",
              "      <th>quality_6</th>\n",
              "      <th>quality_7</th>\n",
              "      <th>quality_8</th>\n",
              "      <th>quality_9</th>\n",
              "      <th>quality_10</th>\n",
              "      <th>quality_11</th>\n",
              "      <th>quality_12</th>\n",
              "    </tr>\n",
              "  </thead>\n",
              "  <tbody>\n",
              "  </tbody>\n",
              "</table>\n",
              "</div>\n",
              "      <button class=\"colab-df-convert\" onclick=\"convertToInteractive('df-f51275a7-c439-4eb0-923f-4c65fe348756')\"\n",
              "              title=\"Convert this dataframe to an interactive table.\"\n",
              "              style=\"display:none;\">\n",
              "        \n",
              "  <svg xmlns=\"http://www.w3.org/2000/svg\" height=\"24px\"viewBox=\"0 0 24 24\"\n",
              "       width=\"24px\">\n",
              "    <path d=\"M0 0h24v24H0V0z\" fill=\"none\"/>\n",
              "    <path d=\"M18.56 5.44l.94 2.06.94-2.06 2.06-.94-2.06-.94-.94-2.06-.94 2.06-2.06.94zm-11 1L8.5 8.5l.94-2.06 2.06-.94-2.06-.94L8.5 2.5l-.94 2.06-2.06.94zm10 10l.94 2.06.94-2.06 2.06-.94-2.06-.94-.94-2.06-.94 2.06-2.06.94z\"/><path d=\"M17.41 7.96l-1.37-1.37c-.4-.4-.92-.59-1.43-.59-.52 0-1.04.2-1.43.59L10.3 9.45l-7.72 7.72c-.78.78-.78 2.05 0 2.83L4 21.41c.39.39.9.59 1.41.59.51 0 1.02-.2 1.41-.59l7.78-7.78 2.81-2.81c.8-.78.8-2.07 0-2.86zM5.41 20L4 18.59l7.72-7.72 1.47 1.35L5.41 20z\"/>\n",
              "  </svg>\n",
              "      </button>\n",
              "      \n",
              "  <style>\n",
              "    .colab-df-container {\n",
              "      display:flex;\n",
              "      flex-wrap:wrap;\n",
              "      gap: 12px;\n",
              "    }\n",
              "\n",
              "    .colab-df-convert {\n",
              "      background-color: #E8F0FE;\n",
              "      border: none;\n",
              "      border-radius: 50%;\n",
              "      cursor: pointer;\n",
              "      display: none;\n",
              "      fill: #1967D2;\n",
              "      height: 32px;\n",
              "      padding: 0 0 0 0;\n",
              "      width: 32px;\n",
              "    }\n",
              "\n",
              "    .colab-df-convert:hover {\n",
              "      background-color: #E2EBFA;\n",
              "      box-shadow: 0px 1px 2px rgba(60, 64, 67, 0.3), 0px 1px 3px 1px rgba(60, 64, 67, 0.15);\n",
              "      fill: #174EA6;\n",
              "    }\n",
              "\n",
              "    [theme=dark] .colab-df-convert {\n",
              "      background-color: #3B4455;\n",
              "      fill: #D2E3FC;\n",
              "    }\n",
              "\n",
              "    [theme=dark] .colab-df-convert:hover {\n",
              "      background-color: #434B5C;\n",
              "      box-shadow: 0px 1px 3px 1px rgba(0, 0, 0, 0.15);\n",
              "      filter: drop-shadow(0px 1px 2px rgba(0, 0, 0, 0.3));\n",
              "      fill: #FFFFFF;\n",
              "    }\n",
              "  </style>\n",
              "\n",
              "      <script>\n",
              "        const buttonEl =\n",
              "          document.querySelector('#df-f51275a7-c439-4eb0-923f-4c65fe348756 button.colab-df-convert');\n",
              "        buttonEl.style.display =\n",
              "          google.colab.kernel.accessAllowed ? 'block' : 'none';\n",
              "\n",
              "        async function convertToInteractive(key) {\n",
              "          const element = document.querySelector('#df-f51275a7-c439-4eb0-923f-4c65fe348756');\n",
              "          const dataTable =\n",
              "            await google.colab.kernel.invokeFunction('convertToInteractive',\n",
              "                                                     [key], {});\n",
              "          if (!dataTable) return;\n",
              "\n",
              "          const docLinkHtml = 'Like what you see? Visit the ' +\n",
              "            '<a target=\"_blank\" href=https://colab.research.google.com/notebooks/data_table.ipynb>data table notebook</a>'\n",
              "            + ' to learn more about interactive tables.';\n",
              "          element.innerHTML = '';\n",
              "          dataTable['output_type'] = 'display_data';\n",
              "          await google.colab.output.renderOutput(dataTable, element);\n",
              "          const docLink = document.createElement('div');\n",
              "          docLink.innerHTML = docLinkHtml;\n",
              "          element.appendChild(docLink);\n",
              "        }\n",
              "      </script>\n",
              "    </div>\n",
              "  </div>\n",
              "  "
            ]
          },
          "metadata": {}
        },
        {
          "output_type": "stream",
          "name": "stdout",
          "text": [
            "\n",
            "\n"
          ]
        },
        {
          "output_type": "display_data",
          "data": {
            "text/plain": [
              "          user_id                time model_nm fwver  errtype  errcode\n",
              "12210417    21040 2020-11-04 22:43:14  model_6    10        5  B-A8002\n",
              "12210418    21040 2020-11-04 22:43:47  model_6    10        5  B-A8002"
            ],
            "text/html": [
              "\n",
              "  <div id=\"df-3de3468f-3363-4ad7-ac75-36903e0e6eac\">\n",
              "    <div class=\"colab-df-container\">\n",
              "      <div>\n",
              "<style scoped>\n",
              "    .dataframe tbody tr th:only-of-type {\n",
              "        vertical-align: middle;\n",
              "    }\n",
              "\n",
              "    .dataframe tbody tr th {\n",
              "        vertical-align: top;\n",
              "    }\n",
              "\n",
              "    .dataframe thead th {\n",
              "        text-align: right;\n",
              "    }\n",
              "</style>\n",
              "<table border=\"1\" class=\"dataframe\">\n",
              "  <thead>\n",
              "    <tr style=\"text-align: right;\">\n",
              "      <th></th>\n",
              "      <th>user_id</th>\n",
              "      <th>time</th>\n",
              "      <th>model_nm</th>\n",
              "      <th>fwver</th>\n",
              "      <th>errtype</th>\n",
              "      <th>errcode</th>\n",
              "    </tr>\n",
              "  </thead>\n",
              "  <tbody>\n",
              "    <tr>\n",
              "      <th>12210417</th>\n",
              "      <td>21040</td>\n",
              "      <td>2020-11-04 22:43:14</td>\n",
              "      <td>model_6</td>\n",
              "      <td>10</td>\n",
              "      <td>5</td>\n",
              "      <td>B-A8002</td>\n",
              "    </tr>\n",
              "    <tr>\n",
              "      <th>12210418</th>\n",
              "      <td>21040</td>\n",
              "      <td>2020-11-04 22:43:47</td>\n",
              "      <td>model_6</td>\n",
              "      <td>10</td>\n",
              "      <td>5</td>\n",
              "      <td>B-A8002</td>\n",
              "    </tr>\n",
              "  </tbody>\n",
              "</table>\n",
              "</div>\n",
              "      <button class=\"colab-df-convert\" onclick=\"convertToInteractive('df-3de3468f-3363-4ad7-ac75-36903e0e6eac')\"\n",
              "              title=\"Convert this dataframe to an interactive table.\"\n",
              "              style=\"display:none;\">\n",
              "        \n",
              "  <svg xmlns=\"http://www.w3.org/2000/svg\" height=\"24px\"viewBox=\"0 0 24 24\"\n",
              "       width=\"24px\">\n",
              "    <path d=\"M0 0h24v24H0V0z\" fill=\"none\"/>\n",
              "    <path d=\"M18.56 5.44l.94 2.06.94-2.06 2.06-.94-2.06-.94-.94-2.06-.94 2.06-2.06.94zm-11 1L8.5 8.5l.94-2.06 2.06-.94-2.06-.94L8.5 2.5l-.94 2.06-2.06.94zm10 10l.94 2.06.94-2.06 2.06-.94-2.06-.94-.94-2.06-.94 2.06-2.06.94z\"/><path d=\"M17.41 7.96l-1.37-1.37c-.4-.4-.92-.59-1.43-.59-.52 0-1.04.2-1.43.59L10.3 9.45l-7.72 7.72c-.78.78-.78 2.05 0 2.83L4 21.41c.39.39.9.59 1.41.59.51 0 1.02-.2 1.41-.59l7.78-7.78 2.81-2.81c.8-.78.8-2.07 0-2.86zM5.41 20L4 18.59l7.72-7.72 1.47 1.35L5.41 20z\"/>\n",
              "  </svg>\n",
              "      </button>\n",
              "      \n",
              "  <style>\n",
              "    .colab-df-container {\n",
              "      display:flex;\n",
              "      flex-wrap:wrap;\n",
              "      gap: 12px;\n",
              "    }\n",
              "\n",
              "    .colab-df-convert {\n",
              "      background-color: #E8F0FE;\n",
              "      border: none;\n",
              "      border-radius: 50%;\n",
              "      cursor: pointer;\n",
              "      display: none;\n",
              "      fill: #1967D2;\n",
              "      height: 32px;\n",
              "      padding: 0 0 0 0;\n",
              "      width: 32px;\n",
              "    }\n",
              "\n",
              "    .colab-df-convert:hover {\n",
              "      background-color: #E2EBFA;\n",
              "      box-shadow: 0px 1px 2px rgba(60, 64, 67, 0.3), 0px 1px 3px 1px rgba(60, 64, 67, 0.15);\n",
              "      fill: #174EA6;\n",
              "    }\n",
              "\n",
              "    [theme=dark] .colab-df-convert {\n",
              "      background-color: #3B4455;\n",
              "      fill: #D2E3FC;\n",
              "    }\n",
              "\n",
              "    [theme=dark] .colab-df-convert:hover {\n",
              "      background-color: #434B5C;\n",
              "      box-shadow: 0px 1px 3px 1px rgba(0, 0, 0, 0.15);\n",
              "      filter: drop-shadow(0px 1px 2px rgba(0, 0, 0, 0.3));\n",
              "      fill: #FFFFFF;\n",
              "    }\n",
              "  </style>\n",
              "\n",
              "      <script>\n",
              "        const buttonEl =\n",
              "          document.querySelector('#df-3de3468f-3363-4ad7-ac75-36903e0e6eac button.colab-df-convert');\n",
              "        buttonEl.style.display =\n",
              "          google.colab.kernel.accessAllowed ? 'block' : 'none';\n",
              "\n",
              "        async function convertToInteractive(key) {\n",
              "          const element = document.querySelector('#df-3de3468f-3363-4ad7-ac75-36903e0e6eac');\n",
              "          const dataTable =\n",
              "            await google.colab.kernel.invokeFunction('convertToInteractive',\n",
              "                                                     [key], {});\n",
              "          if (!dataTable) return;\n",
              "\n",
              "          const docLinkHtml = 'Like what you see? Visit the ' +\n",
              "            '<a target=\"_blank\" href=https://colab.research.google.com/notebooks/data_table.ipynb>data table notebook</a>'\n",
              "            + ' to learn more about interactive tables.';\n",
              "          element.innerHTML = '';\n",
              "          dataTable['output_type'] = 'display_data';\n",
              "          await google.colab.output.renderOutput(dataTable, element);\n",
              "          const docLink = document.createElement('div');\n",
              "          docLink.innerHTML = docLinkHtml;\n",
              "          element.appendChild(docLink);\n",
              "        }\n",
              "      </script>\n",
              "    </div>\n",
              "  </div>\n",
              "  "
            ]
          },
          "metadata": {}
        },
        {
          "output_type": "display_data",
          "data": {
            "text/plain": [
              "Empty DataFrame\n",
              "Columns: [time, user_id, fwver, quality_0, quality_1, quality_2, quality_3, quality_4, quality_5, quality_6, quality_7, quality_8, quality_9, quality_10, quality_11, quality_12]\n",
              "Index: []"
            ],
            "text/html": [
              "\n",
              "  <div id=\"df-65fd37b0-cd38-4492-aa44-3c539df20d93\">\n",
              "    <div class=\"colab-df-container\">\n",
              "      <div>\n",
              "<style scoped>\n",
              "    .dataframe tbody tr th:only-of-type {\n",
              "        vertical-align: middle;\n",
              "    }\n",
              "\n",
              "    .dataframe tbody tr th {\n",
              "        vertical-align: top;\n",
              "    }\n",
              "\n",
              "    .dataframe thead th {\n",
              "        text-align: right;\n",
              "    }\n",
              "</style>\n",
              "<table border=\"1\" class=\"dataframe\">\n",
              "  <thead>\n",
              "    <tr style=\"text-align: right;\">\n",
              "      <th></th>\n",
              "      <th>time</th>\n",
              "      <th>user_id</th>\n",
              "      <th>fwver</th>\n",
              "      <th>quality_0</th>\n",
              "      <th>quality_1</th>\n",
              "      <th>quality_2</th>\n",
              "      <th>quality_3</th>\n",
              "      <th>quality_4</th>\n",
              "      <th>quality_5</th>\n",
              "      <th>quality_6</th>\n",
              "      <th>quality_7</th>\n",
              "      <th>quality_8</th>\n",
              "      <th>quality_9</th>\n",
              "      <th>quality_10</th>\n",
              "      <th>quality_11</th>\n",
              "      <th>quality_12</th>\n",
              "    </tr>\n",
              "  </thead>\n",
              "  <tbody>\n",
              "  </tbody>\n",
              "</table>\n",
              "</div>\n",
              "      <button class=\"colab-df-convert\" onclick=\"convertToInteractive('df-65fd37b0-cd38-4492-aa44-3c539df20d93')\"\n",
              "              title=\"Convert this dataframe to an interactive table.\"\n",
              "              style=\"display:none;\">\n",
              "        \n",
              "  <svg xmlns=\"http://www.w3.org/2000/svg\" height=\"24px\"viewBox=\"0 0 24 24\"\n",
              "       width=\"24px\">\n",
              "    <path d=\"M0 0h24v24H0V0z\" fill=\"none\"/>\n",
              "    <path d=\"M18.56 5.44l.94 2.06.94-2.06 2.06-.94-2.06-.94-.94-2.06-.94 2.06-2.06.94zm-11 1L8.5 8.5l.94-2.06 2.06-.94-2.06-.94L8.5 2.5l-.94 2.06-2.06.94zm10 10l.94 2.06.94-2.06 2.06-.94-2.06-.94-.94-2.06-.94 2.06-2.06.94z\"/><path d=\"M17.41 7.96l-1.37-1.37c-.4-.4-.92-.59-1.43-.59-.52 0-1.04.2-1.43.59L10.3 9.45l-7.72 7.72c-.78.78-.78 2.05 0 2.83L4 21.41c.39.39.9.59 1.41.59.51 0 1.02-.2 1.41-.59l7.78-7.78 2.81-2.81c.8-.78.8-2.07 0-2.86zM5.41 20L4 18.59l7.72-7.72 1.47 1.35L5.41 20z\"/>\n",
              "  </svg>\n",
              "      </button>\n",
              "      \n",
              "  <style>\n",
              "    .colab-df-container {\n",
              "      display:flex;\n",
              "      flex-wrap:wrap;\n",
              "      gap: 12px;\n",
              "    }\n",
              "\n",
              "    .colab-df-convert {\n",
              "      background-color: #E8F0FE;\n",
              "      border: none;\n",
              "      border-radius: 50%;\n",
              "      cursor: pointer;\n",
              "      display: none;\n",
              "      fill: #1967D2;\n",
              "      height: 32px;\n",
              "      padding: 0 0 0 0;\n",
              "      width: 32px;\n",
              "    }\n",
              "\n",
              "    .colab-df-convert:hover {\n",
              "      background-color: #E2EBFA;\n",
              "      box-shadow: 0px 1px 2px rgba(60, 64, 67, 0.3), 0px 1px 3px 1px rgba(60, 64, 67, 0.15);\n",
              "      fill: #174EA6;\n",
              "    }\n",
              "\n",
              "    [theme=dark] .colab-df-convert {\n",
              "      background-color: #3B4455;\n",
              "      fill: #D2E3FC;\n",
              "    }\n",
              "\n",
              "    [theme=dark] .colab-df-convert:hover {\n",
              "      background-color: #434B5C;\n",
              "      box-shadow: 0px 1px 3px 1px rgba(0, 0, 0, 0.15);\n",
              "      filter: drop-shadow(0px 1px 2px rgba(0, 0, 0, 0.3));\n",
              "      fill: #FFFFFF;\n",
              "    }\n",
              "  </style>\n",
              "\n",
              "      <script>\n",
              "        const buttonEl =\n",
              "          document.querySelector('#df-65fd37b0-cd38-4492-aa44-3c539df20d93 button.colab-df-convert');\n",
              "        buttonEl.style.display =\n",
              "          google.colab.kernel.accessAllowed ? 'block' : 'none';\n",
              "\n",
              "        async function convertToInteractive(key) {\n",
              "          const element = document.querySelector('#df-65fd37b0-cd38-4492-aa44-3c539df20d93');\n",
              "          const dataTable =\n",
              "            await google.colab.kernel.invokeFunction('convertToInteractive',\n",
              "                                                     [key], {});\n",
              "          if (!dataTable) return;\n",
              "\n",
              "          const docLinkHtml = 'Like what you see? Visit the ' +\n",
              "            '<a target=\"_blank\" href=https://colab.research.google.com/notebooks/data_table.ipynb>data table notebook</a>'\n",
              "            + ' to learn more about interactive tables.';\n",
              "          element.innerHTML = '';\n",
              "          dataTable['output_type'] = 'display_data';\n",
              "          await google.colab.output.renderOutput(dataTable, element);\n",
              "          const docLink = document.createElement('div');\n",
              "          docLink.innerHTML = docLinkHtml;\n",
              "          element.appendChild(docLink);\n",
              "        }\n",
              "      </script>\n",
              "    </div>\n",
              "  </div>\n",
              "  "
            ]
          },
          "metadata": {}
        },
        {
          "output_type": "stream",
          "name": "stdout",
          "text": [
            "\n",
            "\n"
          ]
        },
        {
          "output_type": "display_data",
          "data": {
            "text/plain": [
              "          user_id                time model_nm       fwver  errtype errcode\n",
              "11144486    20300 2020-11-07 20:04:39  model_3  05.15.2138       26       1\n",
              "11144487    20300 2020-11-07 20:04:46  model_3  05.15.2138       12       1\n",
              "11144488    20300 2020-11-07 20:04:46  model_3  05.15.2138       11       1\n",
              "11144489    20300 2020-11-07 21:38:48  model_3  05.15.2138        4       0"
            ],
            "text/html": [
              "\n",
              "  <div id=\"df-d9648cd7-83db-4a33-a2ff-2a82ba5bf2af\">\n",
              "    <div class=\"colab-df-container\">\n",
              "      <div>\n",
              "<style scoped>\n",
              "    .dataframe tbody tr th:only-of-type {\n",
              "        vertical-align: middle;\n",
              "    }\n",
              "\n",
              "    .dataframe tbody tr th {\n",
              "        vertical-align: top;\n",
              "    }\n",
              "\n",
              "    .dataframe thead th {\n",
              "        text-align: right;\n",
              "    }\n",
              "</style>\n",
              "<table border=\"1\" class=\"dataframe\">\n",
              "  <thead>\n",
              "    <tr style=\"text-align: right;\">\n",
              "      <th></th>\n",
              "      <th>user_id</th>\n",
              "      <th>time</th>\n",
              "      <th>model_nm</th>\n",
              "      <th>fwver</th>\n",
              "      <th>errtype</th>\n",
              "      <th>errcode</th>\n",
              "    </tr>\n",
              "  </thead>\n",
              "  <tbody>\n",
              "    <tr>\n",
              "      <th>11144486</th>\n",
              "      <td>20300</td>\n",
              "      <td>2020-11-07 20:04:39</td>\n",
              "      <td>model_3</td>\n",
              "      <td>05.15.2138</td>\n",
              "      <td>26</td>\n",
              "      <td>1</td>\n",
              "    </tr>\n",
              "    <tr>\n",
              "      <th>11144487</th>\n",
              "      <td>20300</td>\n",
              "      <td>2020-11-07 20:04:46</td>\n",
              "      <td>model_3</td>\n",
              "      <td>05.15.2138</td>\n",
              "      <td>12</td>\n",
              "      <td>1</td>\n",
              "    </tr>\n",
              "    <tr>\n",
              "      <th>11144488</th>\n",
              "      <td>20300</td>\n",
              "      <td>2020-11-07 20:04:46</td>\n",
              "      <td>model_3</td>\n",
              "      <td>05.15.2138</td>\n",
              "      <td>11</td>\n",
              "      <td>1</td>\n",
              "    </tr>\n",
              "    <tr>\n",
              "      <th>11144489</th>\n",
              "      <td>20300</td>\n",
              "      <td>2020-11-07 21:38:48</td>\n",
              "      <td>model_3</td>\n",
              "      <td>05.15.2138</td>\n",
              "      <td>4</td>\n",
              "      <td>0</td>\n",
              "    </tr>\n",
              "  </tbody>\n",
              "</table>\n",
              "</div>\n",
              "      <button class=\"colab-df-convert\" onclick=\"convertToInteractive('df-d9648cd7-83db-4a33-a2ff-2a82ba5bf2af')\"\n",
              "              title=\"Convert this dataframe to an interactive table.\"\n",
              "              style=\"display:none;\">\n",
              "        \n",
              "  <svg xmlns=\"http://www.w3.org/2000/svg\" height=\"24px\"viewBox=\"0 0 24 24\"\n",
              "       width=\"24px\">\n",
              "    <path d=\"M0 0h24v24H0V0z\" fill=\"none\"/>\n",
              "    <path d=\"M18.56 5.44l.94 2.06.94-2.06 2.06-.94-2.06-.94-.94-2.06-.94 2.06-2.06.94zm-11 1L8.5 8.5l.94-2.06 2.06-.94-2.06-.94L8.5 2.5l-.94 2.06-2.06.94zm10 10l.94 2.06.94-2.06 2.06-.94-2.06-.94-.94-2.06-.94 2.06-2.06.94z\"/><path d=\"M17.41 7.96l-1.37-1.37c-.4-.4-.92-.59-1.43-.59-.52 0-1.04.2-1.43.59L10.3 9.45l-7.72 7.72c-.78.78-.78 2.05 0 2.83L4 21.41c.39.39.9.59 1.41.59.51 0 1.02-.2 1.41-.59l7.78-7.78 2.81-2.81c.8-.78.8-2.07 0-2.86zM5.41 20L4 18.59l7.72-7.72 1.47 1.35L5.41 20z\"/>\n",
              "  </svg>\n",
              "      </button>\n",
              "      \n",
              "  <style>\n",
              "    .colab-df-container {\n",
              "      display:flex;\n",
              "      flex-wrap:wrap;\n",
              "      gap: 12px;\n",
              "    }\n",
              "\n",
              "    .colab-df-convert {\n",
              "      background-color: #E8F0FE;\n",
              "      border: none;\n",
              "      border-radius: 50%;\n",
              "      cursor: pointer;\n",
              "      display: none;\n",
              "      fill: #1967D2;\n",
              "      height: 32px;\n",
              "      padding: 0 0 0 0;\n",
              "      width: 32px;\n",
              "    }\n",
              "\n",
              "    .colab-df-convert:hover {\n",
              "      background-color: #E2EBFA;\n",
              "      box-shadow: 0px 1px 2px rgba(60, 64, 67, 0.3), 0px 1px 3px 1px rgba(60, 64, 67, 0.15);\n",
              "      fill: #174EA6;\n",
              "    }\n",
              "\n",
              "    [theme=dark] .colab-df-convert {\n",
              "      background-color: #3B4455;\n",
              "      fill: #D2E3FC;\n",
              "    }\n",
              "\n",
              "    [theme=dark] .colab-df-convert:hover {\n",
              "      background-color: #434B5C;\n",
              "      box-shadow: 0px 1px 3px 1px rgba(0, 0, 0, 0.15);\n",
              "      filter: drop-shadow(0px 1px 2px rgba(0, 0, 0, 0.3));\n",
              "      fill: #FFFFFF;\n",
              "    }\n",
              "  </style>\n",
              "\n",
              "      <script>\n",
              "        const buttonEl =\n",
              "          document.querySelector('#df-d9648cd7-83db-4a33-a2ff-2a82ba5bf2af button.colab-df-convert');\n",
              "        buttonEl.style.display =\n",
              "          google.colab.kernel.accessAllowed ? 'block' : 'none';\n",
              "\n",
              "        async function convertToInteractive(key) {\n",
              "          const element = document.querySelector('#df-d9648cd7-83db-4a33-a2ff-2a82ba5bf2af');\n",
              "          const dataTable =\n",
              "            await google.colab.kernel.invokeFunction('convertToInteractive',\n",
              "                                                     [key], {});\n",
              "          if (!dataTable) return;\n",
              "\n",
              "          const docLinkHtml = 'Like what you see? Visit the ' +\n",
              "            '<a target=\"_blank\" href=https://colab.research.google.com/notebooks/data_table.ipynb>data table notebook</a>'\n",
              "            + ' to learn more about interactive tables.';\n",
              "          element.innerHTML = '';\n",
              "          dataTable['output_type'] = 'display_data';\n",
              "          await google.colab.output.renderOutput(dataTable, element);\n",
              "          const docLink = document.createElement('div');\n",
              "          docLink.innerHTML = docLinkHtml;\n",
              "          element.appendChild(docLink);\n",
              "        }\n",
              "      </script>\n",
              "    </div>\n",
              "  </div>\n",
              "  "
            ]
          },
          "metadata": {}
        },
        {
          "output_type": "display_data",
          "data": {
            "text/plain": [
              "Empty DataFrame\n",
              "Columns: [time, user_id, fwver, quality_0, quality_1, quality_2, quality_3, quality_4, quality_5, quality_6, quality_7, quality_8, quality_9, quality_10, quality_11, quality_12]\n",
              "Index: []"
            ],
            "text/html": [
              "\n",
              "  <div id=\"df-fcd856f4-6942-4b14-98f1-74e734b8c044\">\n",
              "    <div class=\"colab-df-container\">\n",
              "      <div>\n",
              "<style scoped>\n",
              "    .dataframe tbody tr th:only-of-type {\n",
              "        vertical-align: middle;\n",
              "    }\n",
              "\n",
              "    .dataframe tbody tr th {\n",
              "        vertical-align: top;\n",
              "    }\n",
              "\n",
              "    .dataframe thead th {\n",
              "        text-align: right;\n",
              "    }\n",
              "</style>\n",
              "<table border=\"1\" class=\"dataframe\">\n",
              "  <thead>\n",
              "    <tr style=\"text-align: right;\">\n",
              "      <th></th>\n",
              "      <th>time</th>\n",
              "      <th>user_id</th>\n",
              "      <th>fwver</th>\n",
              "      <th>quality_0</th>\n",
              "      <th>quality_1</th>\n",
              "      <th>quality_2</th>\n",
              "      <th>quality_3</th>\n",
              "      <th>quality_4</th>\n",
              "      <th>quality_5</th>\n",
              "      <th>quality_6</th>\n",
              "      <th>quality_7</th>\n",
              "      <th>quality_8</th>\n",
              "      <th>quality_9</th>\n",
              "      <th>quality_10</th>\n",
              "      <th>quality_11</th>\n",
              "      <th>quality_12</th>\n",
              "    </tr>\n",
              "  </thead>\n",
              "  <tbody>\n",
              "  </tbody>\n",
              "</table>\n",
              "</div>\n",
              "      <button class=\"colab-df-convert\" onclick=\"convertToInteractive('df-fcd856f4-6942-4b14-98f1-74e734b8c044')\"\n",
              "              title=\"Convert this dataframe to an interactive table.\"\n",
              "              style=\"display:none;\">\n",
              "        \n",
              "  <svg xmlns=\"http://www.w3.org/2000/svg\" height=\"24px\"viewBox=\"0 0 24 24\"\n",
              "       width=\"24px\">\n",
              "    <path d=\"M0 0h24v24H0V0z\" fill=\"none\"/>\n",
              "    <path d=\"M18.56 5.44l.94 2.06.94-2.06 2.06-.94-2.06-.94-.94-2.06-.94 2.06-2.06.94zm-11 1L8.5 8.5l.94-2.06 2.06-.94-2.06-.94L8.5 2.5l-.94 2.06-2.06.94zm10 10l.94 2.06.94-2.06 2.06-.94-2.06-.94-.94-2.06-.94 2.06-2.06.94z\"/><path d=\"M17.41 7.96l-1.37-1.37c-.4-.4-.92-.59-1.43-.59-.52 0-1.04.2-1.43.59L10.3 9.45l-7.72 7.72c-.78.78-.78 2.05 0 2.83L4 21.41c.39.39.9.59 1.41.59.51 0 1.02-.2 1.41-.59l7.78-7.78 2.81-2.81c.8-.78.8-2.07 0-2.86zM5.41 20L4 18.59l7.72-7.72 1.47 1.35L5.41 20z\"/>\n",
              "  </svg>\n",
              "      </button>\n",
              "      \n",
              "  <style>\n",
              "    .colab-df-container {\n",
              "      display:flex;\n",
              "      flex-wrap:wrap;\n",
              "      gap: 12px;\n",
              "    }\n",
              "\n",
              "    .colab-df-convert {\n",
              "      background-color: #E8F0FE;\n",
              "      border: none;\n",
              "      border-radius: 50%;\n",
              "      cursor: pointer;\n",
              "      display: none;\n",
              "      fill: #1967D2;\n",
              "      height: 32px;\n",
              "      padding: 0 0 0 0;\n",
              "      width: 32px;\n",
              "    }\n",
              "\n",
              "    .colab-df-convert:hover {\n",
              "      background-color: #E2EBFA;\n",
              "      box-shadow: 0px 1px 2px rgba(60, 64, 67, 0.3), 0px 1px 3px 1px rgba(60, 64, 67, 0.15);\n",
              "      fill: #174EA6;\n",
              "    }\n",
              "\n",
              "    [theme=dark] .colab-df-convert {\n",
              "      background-color: #3B4455;\n",
              "      fill: #D2E3FC;\n",
              "    }\n",
              "\n",
              "    [theme=dark] .colab-df-convert:hover {\n",
              "      background-color: #434B5C;\n",
              "      box-shadow: 0px 1px 3px 1px rgba(0, 0, 0, 0.15);\n",
              "      filter: drop-shadow(0px 1px 2px rgba(0, 0, 0, 0.3));\n",
              "      fill: #FFFFFF;\n",
              "    }\n",
              "  </style>\n",
              "\n",
              "      <script>\n",
              "        const buttonEl =\n",
              "          document.querySelector('#df-fcd856f4-6942-4b14-98f1-74e734b8c044 button.colab-df-convert');\n",
              "        buttonEl.style.display =\n",
              "          google.colab.kernel.accessAllowed ? 'block' : 'none';\n",
              "\n",
              "        async function convertToInteractive(key) {\n",
              "          const element = document.querySelector('#df-fcd856f4-6942-4b14-98f1-74e734b8c044');\n",
              "          const dataTable =\n",
              "            await google.colab.kernel.invokeFunction('convertToInteractive',\n",
              "                                                     [key], {});\n",
              "          if (!dataTable) return;\n",
              "\n",
              "          const docLinkHtml = 'Like what you see? Visit the ' +\n",
              "            '<a target=\"_blank\" href=https://colab.research.google.com/notebooks/data_table.ipynb>data table notebook</a>'\n",
              "            + ' to learn more about interactive tables.';\n",
              "          element.innerHTML = '';\n",
              "          dataTable['output_type'] = 'display_data';\n",
              "          await google.colab.output.renderOutput(dataTable, element);\n",
              "          const docLink = document.createElement('div');\n",
              "          docLink.innerHTML = docLinkHtml;\n",
              "          element.appendChild(docLink);\n",
              "        }\n",
              "      </script>\n",
              "    </div>\n",
              "  </div>\n",
              "  "
            ]
          },
          "metadata": {}
        },
        {
          "output_type": "stream",
          "name": "stdout",
          "text": [
            "\n",
            "\n"
          ]
        }
      ]
    },
    {
      "cell_type": "markdown",
      "source": [
        "에러 로그가 적은 유저들은 **퀄리티가 측정되지 않았다**는 공통점이 발견되었다.\n",
        "(추후 분석을 통해 이상치임을 더 확실하게 알 수 있다. 따라서 추후 분석 이전에는 제거하지 않는다.)  \n",
        "(그리고 이후 error data와 quality data간의 관계 분석에 사용할 수 있다.)"
      ],
      "metadata": {
        "id": "qHe6047yjzEy"
      }
    },
    {
      "cell_type": "markdown",
      "source": [
        "- 전처리된 데이터 저장"
      ],
      "metadata": {
        "id": "XJ5Q9FCbkOHi"
      }
    },
    {
      "cell_type": "code",
      "source": [
        "# time 변수 타입 변경 이전 + 그 외에는 전처리된(결측치, 이상치 처리) 데이터 저장\n",
        "train_err.to_csv(save_path + \"train_err_data_time.csv\", index=False)\n",
        "train_qual.to_csv(save_path + \"train_quality_data_time.csv\", index=False)\n",
        "train_prob.to_csv(save_path + \"train_problem_data_time.csv\", index=False)\n",
        "\n",
        "test_err.to_csv(save_path + \"test_err_data_time.csv\", index=False)\n",
        "test_qual.to_csv(save_path + \"test_quality_data_time.csv\", index=False)"
      ],
      "metadata": {
        "id": "6MSgBwDJkQYT"
      },
      "execution_count": 120,
      "outputs": []
    },
    {
      "cell_type": "markdown",
      "source": [
        "# 4. 불만 제기 시간 확인\n",
        "\n",
        "---\n",
        "## 4-1. 고객들이 언제, 무슨요일, 어느시간에 불만을 제기했는지 확인"
      ],
      "metadata": {
        "id": "8-0SzdW1k7qY"
      }
    },
    {
      "cell_type": "code",
      "source": [
        "# Datetime으로 Type이 변경되기 전 데이터 로드\n",
        "train_err = pd.read_csv(save_path+\"train_err_data.csv\")\n",
        "train_qual = pd.read_csv(save_path+\"train_quality_data.csv\")\n",
        "train_prob = pd.read_csv(save_path+\"train_problem_data.csv\")\n",
        "\n",
        "test_err = pd.read_csv(save_path+\"test_err_data.csv\")\n",
        "test_qual = pd.read_csv(save_path+\"test_quality_data.csv\")"
      ],
      "metadata": {
        "id": "7-APuOH3k7En"
      },
      "execution_count": 121,
      "outputs": []
    },
    {
      "cell_type": "code",
      "source": [
        "# 불만 제기 고객 확인\n",
        "problem_user = train_prob.user_id.unique()\n",
        "no_problem_ser = list(set(train_err.user_id.unique()) - set(problem_user))"
      ],
      "metadata": {
        "id": "DvNa57cqlPZM"
      },
      "execution_count": 122,
      "outputs": []
    },
    {
      "cell_type": "code",
      "source": [
        "def make_weekday(col): # 0: 월요일, 1: 화요일, 2: 수요일, 3: 목요일, 4: 금요일, 5: 토요일, 6: 일요일\n",
        "    col = str(col)\n",
        "    year = int(col[:4])\n",
        "    month = int(col[4:6])\n",
        "    day = int(col[6:8])\n",
        "    weekday = dt.datetime(year,month,day).weekday()\n",
        "\n",
        "    return weekday"
      ],
      "metadata": {
        "id": "WA_eRrFqlkk3"
      },
      "execution_count": 123,
      "outputs": []
    },
    {
      "cell_type": "code",
      "source": [
        "def make_hour(col): # 시간대별\n",
        "    col = str(col)\n",
        "    hour = int(col[8:10])\n",
        "# hour = str(hour) + \"시\"\n",
        "    return hour"
      ],
      "metadata": {
        "id": "voiDILXQmBxs"
      },
      "execution_count": 124,
      "outputs": []
    },
    {
      "cell_type": "code",
      "source": [
        "train_prob['weekday'] = train_prob.time.apply(lambda x : make_weekday(x))\n",
        "train_prob['hour'] = train_prob.time.apply(lambda x : make_hour(x))"
      ],
      "metadata": {
        "id": "2BdvrAAxmR2K"
      },
      "execution_count": 125,
      "outputs": []
    },
    {
      "cell_type": "code",
      "source": [
        "train_prob['weekday'].value_counts() # 요일별 불만제기"
      ],
      "metadata": {
        "colab": {
          "base_uri": "https://localhost:8080/"
        },
        "id": "oDvRuRv7vsmq",
        "outputId": "adef0a41-6635-4fc0-d994-99017a3966f4"
      },
      "execution_count": 126,
      "outputs": [
        {
          "output_type": "execute_result",
          "data": {
            "text/plain": [
              "0    1332\n",
              "2     868\n",
              "4     853\n",
              "1     809\n",
              "3     809\n",
              "5     431\n",
              "6     327\n",
              "Name: weekday, dtype: int64"
            ]
          },
          "metadata": {},
          "execution_count": 126
        }
      ]
    },
    {
      "cell_type": "markdown",
      "source": [
        "월 -> 수 -> 금 -> 화 -> 목 -> 토 -> 일 순"
      ],
      "metadata": {
        "id": "zijMmpdGv1Ro"
      }
    },
    {
      "cell_type": "code",
      "source": [
        "train_prob['hour'].value_counts() # 시간별 불만 제기"
      ],
      "metadata": {
        "colab": {
          "base_uri": "https://localhost:8080/"
        },
        "id": "gdugfQfLvzes",
        "outputId": "d733de59-c79d-4d97-dc34-552c67e419f6"
      },
      "execution_count": 127,
      "outputs": [
        {
          "output_type": "execute_result",
          "data": {
            "text/plain": [
              "12    627\n",
              "11    600\n",
              "13    518\n",
              "19    507\n",
              "18    492\n",
              "15    489\n",
              "16    460\n",
              "17    432\n",
              "22    233\n",
              "20    233\n",
              "14    228\n",
              "21    204\n",
              "23    175\n",
              "0     108\n",
              "1      67\n",
              "2      15\n",
              "10     14\n",
              "9       8\n",
              "5       5\n",
              "8       5\n",
              "3       4\n",
              "4       3\n",
              "7       1\n",
              "6       1\n",
              "Name: hour, dtype: int64"
            ]
          },
          "metadata": {},
          "execution_count": 127
        }
      ]
    },
    {
      "cell_type": "markdown",
      "source": [
        "점심 -> 저녁 -> 오후 -> 밤 -> 새벽 -> 아침 순"
      ],
      "metadata": {
        "id": "e3eZG-GxxBn2"
      }
    },
    {
      "cell_type": "code",
      "source": [
        "weekend = train_prob[(train_prob['weekday'] == 5) | (train_prob['weekday'] == 6)]\n",
        "weekdays = train_prob[(train_prob['weekday'] != 5) & (train_prob['weekday'] != 6)]"
      ],
      "metadata": {
        "id": "jMTTkrt2w_eb"
      },
      "execution_count": 128,
      "outputs": []
    },
    {
      "cell_type": "code",
      "source": [
        "week_ratio = len(weekend) / len(train_prob) #주말 제기 확률\n",
        "print(\"평일에 불만을 제기할 확률 : {0}%\\n주말에 불만을 제기할 확률 : {1}%\".\n",
        "      format(round((1-week_ratio)*100, 3), (week_ratio)*100, 3))"
      ],
      "metadata": {
        "colab": {
          "base_uri": "https://localhost:8080/"
        },
        "id": "VR1ThYQjxTbN",
        "outputId": "70e0e71b-48bb-4e01-d7ca-59433f043148"
      },
      "execution_count": 129,
      "outputs": [
        {
          "output_type": "stream",
          "name": "stdout",
          "text": [
            "평일에 불만을 제기할 확률 : 86.038%\n",
            "주말에 불만을 제기할 확률 : 13.962055627187327%\n"
          ]
        }
      ]
    },
    {
      "cell_type": "markdown",
      "source": [
        "- 주말보다는 평일에 불만 제기가 많음"
      ],
      "metadata": {
        "id": "TqDLTC41xImL"
      }
    },
    {
      "cell_type": "code",
      "source": [
        "weekend_open = weekend[((weekend['weekday'] != 6) >= 13)]\n",
        "weekdays_open = weekdays[((weekdays['hour'] >= 9) <= 18)]\n",
        "print(\"운영시간 중 불만 제기 확률 : {0}%\".format(round((len(weekdays_open)+ len(weekend_open)) / len(train_prob) * 100, 3)))"
      ],
      "metadata": {
        "colab": {
          "base_uri": "https://localhost:8080/"
        },
        "id": "17iU3RhexVQm",
        "outputId": "31789bb4-60a1-49ec-a6be-fd6adec92a0f"
      },
      "execution_count": 132,
      "outputs": [
        {
          "output_type": "stream",
          "name": "stdout",
          "text": [
            "운영시간 중 불만 제기 확률 : 86.038%\n"
          ]
        }
      ]
    },
    {
      "cell_type": "code",
      "source": [
        "# 다시 Datetime으로 Type이 변경된 데이터 로드\n",
        "train_err = pd.read_csv(save_path+\"train_err_data_time.csv\")\n",
        "train_qual = pd.read_csv(save_path+\"train_quality_data_time.csv\")\n",
        "train_prob = pd.read_csv(save_path+\"train_problem_data_time.csv\")\n",
        "\n",
        "test_err = pd.read_csv(save_path+\"test_err_data_time.csv\")\n",
        "test_qual = pd.read_csv(save_path+\"test_quality_data_time.csv\")"
      ],
      "metadata": {
        "id": "W3k-9_WexZuO"
      },
      "execution_count": 133,
      "outputs": []
    },
    {
      "cell_type": "markdown",
      "source": [
        "# 5. Error Data 해석\n",
        "에러가 많이 발생할수록, 불만 제기 확률이 높을 것이라는 가설을 세우고 이른 검정하기 위한 errtype 해석"
      ],
      "metadata": {
        "id": "19KJm9VDyVa2"
      }
    },
    {
      "cell_type": "markdown",
      "source": [
        "### 5-1. errtype\n",
        "1. errtype 종류에 상관없이 errtype의 수를 count"
      ],
      "metadata": {
        "id": "RcEpwzbMyfr6"
      }
    },
    {
      "cell_type": "code",
      "source": [
        "err_total = train_err.copy()\n",
        "\n",
        "id_error = err_total[['user_id','errtype']].values\n",
        "error = np.zeros(15000)"
      ],
      "metadata": {
        "id": "pUS02OMSyUmZ"
      },
      "execution_count": 134,
      "outputs": []
    },
    {
      "cell_type": "code",
      "source": [
        "for person_idx, err,  in tqdm(id_error):\n",
        "    error[person_idx-10000] += 1"
      ],
      "metadata": {
        "colab": {
          "base_uri": "https://localhost:8080/"
        },
        "id": "rF1_mfQnyqD3",
        "outputId": "7abdc04d-56dc-4cac-a51a-5a8f797754c1"
      },
      "execution_count": 135,
      "outputs": [
        {
          "output_type": "stream",
          "name": "stderr",
          "text": [
            "100%|██████████| 16554663/16554663 [00:39<00:00, 420074.91it/s]\n"
          ]
        }
      ]
    },
    {
      "cell_type": "code",
      "source": [
        "problem_user = sorted(list(train_prob.user_id.unique()))\n",
        "prob_user = [i-10000 for i in problem_user]"
      ],
      "metadata": {
        "id": "fFBdIJqjyr0j"
      },
      "execution_count": 136,
      "outputs": []
    },
    {
      "cell_type": "code",
      "source": [
        "psum = [] # 불만 제기한 사람들 각각의 Total Errtype Count\n",
        "nsum = [] # 불만 제기하지않은 사람들 각각의 Total Errtype Count\n",
        "\n",
        "for i in range(len(error)):\n",
        "    if i in prob_user:\n",
        "        psum.append(error[i])\n",
        "    else:\n",
        "        nsum.append(error[i])\n",
        "        \n",
        "print(\"불만 제기한 사람들의 Total Errtype Count의 평균은 {0}입니다.\".format(sum(psum)/len(psum)))\n",
        "print(\"불만 제기하지않은 사람들의 Total Errtype Count의 평균은 {0}입니다.\".format(sum(nsum)/len(nsum)))"
      ],
      "metadata": {
        "colab": {
          "base_uri": "https://localhost:8080/"
        },
        "id": "jO8OWmkFyuoM",
        "outputId": "945ed15c-1429-4cc7-b884-4ae6d93fd300"
      },
      "execution_count": 137,
      "outputs": [
        {
          "output_type": "stream",
          "name": "stdout",
          "text": [
            "불만 제기한 사람들의 Total Errtype Count의 평균은 1517.7562입니다.\n",
            "불만 제기하지않은 사람들의 Total Errtype Count의 평균은 896.5882입니다.\n"
          ]
        }
      ]
    },
    {
      "cell_type": "markdown",
      "source": [
        "불만제기를 한 사람은 대부분 total errtype을 많이 가지고 있었음  \n",
        "-> 따라서 errtype을 count하는 것이 유의미하다는 결론을 내리고, errtype의 평균, 최대값, 표준편차를 살펴보려함"
      ],
      "metadata": {
        "id": "u1fZowc9y1Yu"
      }
    },
    {
      "cell_type": "markdown",
      "source": [
        "2. errtype이 불만 제기에 중요한 변수임을 알았다. 그렇다면 errtype의 종류마다 영향력이 다를까?"
      ],
      "metadata": {
        "id": "rlMHEcqJzN5d"
      }
    },
    {
      "cell_type": "code",
      "source": [
        "type5_id = sorted(list(train_err[train_err['errtype'] == 17].user_id.unique()))\n",
        "print(\"Errtype 5을 가진 유저들의 수 : {}명\".format(len(type5_id)))\n",
        "print(\"Errtype 5을 가진 유저중에서 불만을 제기한 사람의 수 : {}명\".format(len(train_prob[train_prob['user_id'].isin(type5_id)].user_id.unique())))\n",
        "print(\"비율 : %.3f%%\"%(len(train_prob[train_prob['user_id'].isin(type5_id)].user_id.unique())/len(type5_id) * 100))"
      ],
      "metadata": {
        "colab": {
          "base_uri": "https://localhost:8080/"
        },
        "id": "SG7fy143ywpa",
        "outputId": "444a3048-295d-428d-ce8f-ed948d9f21c1"
      },
      "execution_count": 138,
      "outputs": [
        {
          "output_type": "stream",
          "name": "stdout",
          "text": [
            "Errtype 5을 가진 유저들의 수 : 5747명\n",
            "Errtype 5을 가진 유저중에서 불만을 제기한 사람의 수 : 2498명\n",
            "비율 : 43.466%\n"
          ]
        }
      ]
    },
    {
      "cell_type": "code",
      "source": [
        "type18_id = sorted(list(train_err[train_err['errtype'] == 18].user_id.unique()))\n",
        "print(\"Errtype 18을 가진 유저들의 수 : {}명\".format(len(type18_id)))\n",
        "print(\"Errtype 18을 가진 유저중에서 불만을 제기한 사람의 수 : {}명\".format(len(train_prob[train_prob['user_id'].isin(type18_id)].user_id.unique())))\n",
        "print(\"비율 : %.3f%%\"%(len(train_prob[train_prob['user_id'].isin(type18_id)].user_id.unique())/len(type18_id) * 100))"
      ],
      "metadata": {
        "colab": {
          "base_uri": "https://localhost:8080/"
        },
        "id": "9kaayr1_zWwm",
        "outputId": "05d51f65-9533-4465-be68-c0e48ffdd7f3"
      },
      "execution_count": 139,
      "outputs": [
        {
          "output_type": "stream",
          "name": "stdout",
          "text": [
            "Errtype 18을 가진 유저들의 수 : 1768명\n",
            "Errtype 18을 가진 유저중에서 불만을 제기한 사람의 수 : 1521명\n",
            "비율 : 86.029%\n"
          ]
        }
      ]
    },
    {
      "cell_type": "markdown",
      "source": [
        "-> 특정 errtype이 불만 제기에 큰 영향을 미침  \n",
        "-> 따라서, errtype별 count를 통한 파생변수를 살펴볼 필요가 있음"
      ],
      "metadata": {
        "id": "PuA53ruTzc1u"
      }
    },
    {
      "cell_type": "markdown",
      "source": [
        "3. errtype과 fwver&model_nm의 관계"
      ],
      "metadata": {
        "id": "0dJZzELKzsU6"
      }
    },
    {
      "cell_type": "code",
      "source": [
        "# 모델 버전마다 Errtype이 다름을 보여주는 코드\n",
        "for i in range(9):\n",
        "    nm = 'model_' + str(i)\n",
        "    print(\"모델 버전\", nm, \"→\", sorted(list(train_err[train_err['model_nm'] == nm]['errtype'].unique()))[:15])"
      ],
      "metadata": {
        "colab": {
          "base_uri": "https://localhost:8080/"
        },
        "id": "IRYt7qv2zYVw",
        "outputId": "2f94978d-7de9-48a7-b03d-9429696b373f"
      },
      "execution_count": 140,
      "outputs": [
        {
          "output_type": "stream",
          "name": "stdout",
          "text": [
            "모델 버전 model_0 → [1, 2, 4, 5, 6, 7, 8, 9, 10, 11, 12, 13, 14, 15, 16]\n",
            "모델 버전 model_1 → [1, 2, 3, 4, 5, 6, 7, 8, 9, 10, 11, 12, 13, 14, 15]\n",
            "모델 버전 model_2 → [1, 2, 4, 5, 6, 7, 8, 9, 10, 11, 12, 13, 14, 15, 16]\n",
            "모델 버전 model_3 → [1, 2, 3, 4, 5, 6, 7, 8, 9, 10, 11, 12, 13, 14, 15]\n",
            "모델 버전 model_4 → [1, 3, 4, 5, 6, 7, 8, 9, 10, 11, 12, 13, 14, 15, 16]\n",
            "모델 버전 model_5 → [2, 4, 5, 6, 7, 10, 11, 12, 13, 14, 15, 16, 17, 18, 19]\n",
            "모델 버전 model_6 → [5]\n",
            "모델 버전 model_7 → [3, 4, 5, 6, 7, 8, 10, 11, 12, 13, 14, 15, 16, 17, 18]\n",
            "모델 버전 model_8 → [2, 3, 4, 5, 6, 7, 10, 11, 12, 13, 14, 15, 16, 17, 18]\n"
          ]
        }
      ]
    },
    {
      "cell_type": "code",
      "source": [
        "# 펌웨어 버전마다 Errtype이 다름을 보여주는 코드\n",
        "so_fw = sorted(list(train_err.fwver.unique()))\n",
        "\n",
        "for i in so_fw:\n",
        "    nm = i\n",
        "    print(\"펌웨어 버전 →\", i,sorted(list(train_err[train_err['fwver'] == nm]['errtype'].unique()))[:20])"
      ],
      "metadata": {
        "colab": {
          "base_uri": "https://localhost:8080/"
        },
        "id": "QPNZzJsYzzNg",
        "outputId": "ca99415c-53f6-44f7-f2fa-51fbd0567a1c"
      },
      "execution_count": 141,
      "outputs": [
        {
          "output_type": "stream",
          "name": "stdout",
          "text": [
            "펌웨어 버전 → 03.11.1141 [1, 5, 6, 7, 14, 27, 28, 30]\n",
            "펌웨어 버전 → 03.11.1149 [1, 4, 5, 6, 7, 12, 14, 27, 28]\n",
            "펌웨어 버전 → 03.11.1167 [1, 3, 4, 5, 6, 7, 8, 9, 10, 11, 12, 13, 14, 15, 16, 17, 27, 28, 30]\n",
            "펌웨어 버전 → 04.16.2641 [3, 4, 6, 7, 11, 12, 13, 14, 15, 16, 22, 23, 26]\n",
            "펌웨어 버전 → 04.16.3345 [3, 4, 10, 11, 12, 14, 15, 16, 26]\n",
            "펌웨어 버전 → 04.16.3439 [6, 7, 11, 12, 14, 15, 16, 22, 23, 26, 27, 28, 31, 33, 34, 35, 38, 40]\n",
            "펌웨어 버전 → 04.16.3553 [1, 2, 4, 5, 6, 7, 8, 9, 10, 11, 12, 13, 14, 15, 16, 17, 18, 19, 20, 21]\n",
            "펌웨어 버전 → 04.16.3569 [5, 10, 11, 12, 15, 16, 17, 22, 23, 26, 31, 32, 33, 34, 42]\n",
            "펌웨어 버전 → 04.16.3571 [2, 5, 6, 7, 10, 11, 12, 13, 14, 15, 16, 17, 18, 19, 20, 21, 22, 23, 24, 25]\n",
            "펌웨어 버전 → 04.22.1442 [4, 5, 6, 7, 10, 11, 12, 13, 14, 15, 16, 18, 20, 22, 23, 25, 26]\n",
            "펌웨어 버전 → 04.22.1656 [4, 5, 6, 7, 11, 12, 13, 14, 15, 16, 22, 23, 26, 27, 28]\n",
            "펌웨어 버전 → 04.22.1666 [12, 13, 14, 38]\n",
            "펌웨어 버전 → 04.22.1684 [1, 4, 5, 6, 7, 10, 11, 12, 13, 14, 15, 16, 17, 18, 20, 22, 23, 25, 26, 27]\n",
            "펌웨어 버전 → 04.22.1750 [1, 2, 4, 5, 6, 7, 8, 9, 10, 11, 12, 13, 14, 15, 16, 17, 18, 19, 20, 21]\n",
            "펌웨어 버전 → 04.22.1778 [1, 2, 4, 5, 6, 7, 8, 9, 10, 11, 12, 13, 14, 15, 16, 17, 18, 19, 20, 21]\n",
            "펌웨어 버전 → 04.33.1095 [4, 5, 6, 7, 11, 12, 13, 14, 15, 16, 17, 22, 23, 26]\n",
            "펌웨어 버전 → 04.33.1125 [4, 5, 6, 7, 11, 12, 14, 15, 16, 17, 18, 20, 22, 23, 26]\n",
            "펌웨어 버전 → 04.33.1149 [1, 5, 6, 7, 10, 11, 12, 13, 14, 15, 16, 17, 18, 19, 20, 21, 22, 23, 26, 30]\n",
            "펌웨어 버전 → 04.33.1171 [7, 11, 12, 14, 15, 16, 18, 20, 26, 31, 33, 40, 41]\n",
            "펌웨어 버전 → 04.33.1185 [1, 2, 4, 5, 6, 7, 8, 9, 10, 11, 12, 13, 14, 15, 16, 17, 18, 19, 20, 21]\n",
            "펌웨어 버전 → 04.33.1261 [1, 2, 4, 5, 6, 7, 8, 9, 10, 11, 12, 13, 14, 15, 16, 17, 18, 19, 20, 21]\n",
            "펌웨어 버전 → 04.73.2237 [2, 3, 4, 5, 6, 7, 10, 11, 12, 13, 14, 15, 16, 17, 18, 20, 22, 23, 24, 25]\n",
            "펌웨어 버전 → 04.73.2571 [5, 6, 7, 11, 12, 13, 14, 15, 16, 17, 18, 19, 20, 21, 22, 23, 24, 25, 26, 31]\n",
            "펌웨어 버전 → 04.82.1684 [2, 4, 5, 6, 7, 10, 11, 12, 13, 14, 15, 16, 17, 18, 19, 20, 21, 22, 23, 24]\n",
            "펌웨어 버전 → 04.82.1730 [5, 6, 7, 10, 11, 12, 13, 14, 15, 16, 22, 23, 26, 31, 33]\n",
            "펌웨어 버전 → 04.82.1778 [2, 5, 6, 7, 10, 11, 12, 13, 14, 15, 16, 17, 22, 23, 24, 26, 27, 28, 31, 32]\n",
            "펌웨어 버전 → 05.15.2090 [3, 5, 6, 7, 10, 11, 12, 14, 26]\n",
            "펌웨어 버전 → 05.15.2092 [3, 4, 5, 6, 7, 11, 12, 13, 14, 27, 28]\n",
            "펌웨어 버전 → 05.15.2114 [4, 14, 15, 26]\n",
            "펌웨어 버전 → 05.15.2120 [3, 4, 5, 6, 7, 10, 11, 12, 13, 14, 15, 16, 24, 26, 27, 28]\n",
            "펌웨어 버전 → 05.15.2122 [4, 5, 11, 12, 15, 16, 18, 26]\n",
            "펌웨어 버전 → 05.15.2138 [1, 2, 3, 4, 5, 6, 7, 8, 9, 10, 11, 12, 13, 14, 15, 16, 17, 18, 19, 24]\n",
            "펌웨어 버전 → 05.15.3104 [3, 4, 5, 6, 7, 10, 11, 12, 13, 14, 15, 16, 26]\n",
            "펌웨어 버전 → 05.66.3237 [3, 4, 5, 6, 7, 8, 10, 11, 12, 13, 14, 15, 16, 17, 18, 19, 20, 21, 22, 23]\n",
            "펌웨어 버전 → 05.66.3571 [5, 6, 7, 10, 11, 12, 13, 14, 15, 16, 17, 22, 23, 26, 30, 31, 32, 33, 34, 35]\n",
            "펌웨어 버전 → 10 [5]\n",
            "펌웨어 버전 → 8.5.3 [5]\n"
          ]
        }
      ]
    },
    {
      "cell_type": "markdown",
      "source": [
        "### 5-2. ErrorCode\n",
        "\n",
        "1. errtype과 비슷하게 errcode도 error의 정보를 알려주는 feature임. 먼저 둘의 관계를 살펴보려함\n",
        "\n"
      ],
      "metadata": {
        "id": "8wBrzyXwz3L6"
      }
    },
    {
      "cell_type": "code",
      "source": [
        "print(sorted(list(train_err.errcode.unique())[:50], reverse = True))\n",
        "print(\"\\nErrcode의 종류 : {}개\".format(len(list(train_err.errcode.unique()))))"
      ],
      "metadata": {
        "colab": {
          "base_uri": "https://localhost:8080/"
        },
        "id": "KksiG4ucz1RH",
        "outputId": "d2b7a937-09a8-4a28-c482-6c6b9620141a"
      },
      "execution_count": 142,
      "outputs": [
        {
          "output_type": "stream",
          "name": "stdout",
          "text": [
            "['terminate by peer user', 'standby', 'connectionterminated by local host', 'connection timeout', 'connection fail to establish', 'connection fail for LMP response timout', 'active', 'V-21008', 'UNKNOWN', 'U-81009', 'S-65002', 'S-64002', 'S-61001', 'Q-64002', 'NFANDROID2', 'J-30021', 'B-A8002', '95', '94', '93', '91', '90', '89', '88', '87', '86', '85', '84', '83', '82', '81', '80', '8.0', '79', '78', '77', '700001', '6796', '6467', '6', '5738', '5507', '4893', '4', '3', '2', '14', '13', '1', '0']\n",
            "\n",
            "Errcode의 종류 : 2805개\n"
          ]
        }
      ]
    },
    {
      "cell_type": "code",
      "source": [
        "ey_ec = train_err.groupby('errtype')['errcode'].unique().to_frame()\n",
        "display(ey_ec)"
      ],
      "metadata": {
        "colab": {
          "base_uri": "https://localhost:8080/",
          "height": 1000
        },
        "id": "E7K7E2N-0G-X",
        "outputId": "a9070243-0ef3-4c7f-8478-5460491a33a4"
      },
      "execution_count": 143,
      "outputs": [
        {
          "output_type": "display_data",
          "data": {
            "text/plain": [
              "                                                   errcode\n",
              "errtype                                                   \n",
              "1        [0, P-44010, P-41011, P-41007 , P-44010 , P-41...\n",
              "2                                                   [1, 0]\n",
              "3                                                [1, 2, 0]\n",
              "4                                                   [0, 1]\n",
              "5        [B-A8002, Q-64002, S-61001, U-81009, V-21008, ...\n",
              "6                                                  [1, 14]\n",
              "7                                                  [1, 14]\n",
              "8                              [PHONE_ERR, PUBLIC_ERR, 20]\n",
              "9        [V-21002, V-21005, 1, C-14014, V-21008, C-1203...\n",
              "10                                                     [1]\n",
              "11                                                     [1]\n",
              "12                                                     [1]\n",
              "13                                                     [1]\n",
              "14                                             [1, 14, 13]\n",
              "15                                                     [1]\n",
              "16                                                     [1]\n",
              "17                                     [14, 13, 1, 21, 12]\n",
              "18                                                     [1]\n",
              "19                                                     [1]\n",
              "20                                                     [1]\n",
              "21                                                     [1]\n",
              "22                                                     [1]\n",
              "23       [standby, active, connection timeout, terminat...\n",
              "24                                                     [1]\n",
              "25       [2, scanning timeout, 1, UNKNOWN, terminate by...\n",
              "26                                                     [1]\n",
              "27                                                     [1]\n",
              "28                                                     [1]\n",
              "30                                         [4, 0, 1, 3, 2]\n",
              "31                                                  [1, 0]\n",
              "32       [80, 79, 81, 86, 84, 77, 78, 85, 90, 89, 88, 8...\n",
              "33                                               [2, 3, 1]\n",
              "34                                      [4, 1, 2, 3, 6, 5]\n",
              "35                                                     [1]\n",
              "36                                                   [8.0]\n",
              "37                                                  [0, 1]\n",
              "38       [6796, 5738, 6467, 4893, 5507, 39391, 3113, 36...\n",
              "39                                                  [1, 0]\n",
              "40                                                  [1, 0]\n",
              "41                                            [NFANDROID2]\n",
              "42                                                  [3, 2]"
            ],
            "text/html": [
              "\n",
              "  <div id=\"df-e37a285d-948b-493a-9537-cbab68acbc4b\">\n",
              "    <div class=\"colab-df-container\">\n",
              "      <div>\n",
              "<style scoped>\n",
              "    .dataframe tbody tr th:only-of-type {\n",
              "        vertical-align: middle;\n",
              "    }\n",
              "\n",
              "    .dataframe tbody tr th {\n",
              "        vertical-align: top;\n",
              "    }\n",
              "\n",
              "    .dataframe thead th {\n",
              "        text-align: right;\n",
              "    }\n",
              "</style>\n",
              "<table border=\"1\" class=\"dataframe\">\n",
              "  <thead>\n",
              "    <tr style=\"text-align: right;\">\n",
              "      <th></th>\n",
              "      <th>errcode</th>\n",
              "    </tr>\n",
              "    <tr>\n",
              "      <th>errtype</th>\n",
              "      <th></th>\n",
              "    </tr>\n",
              "  </thead>\n",
              "  <tbody>\n",
              "    <tr>\n",
              "      <th>1</th>\n",
              "      <td>[0, P-44010, P-41011, P-41007 , P-44010 , P-41...</td>\n",
              "    </tr>\n",
              "    <tr>\n",
              "      <th>2</th>\n",
              "      <td>[1, 0]</td>\n",
              "    </tr>\n",
              "    <tr>\n",
              "      <th>3</th>\n",
              "      <td>[1, 2, 0]</td>\n",
              "    </tr>\n",
              "    <tr>\n",
              "      <th>4</th>\n",
              "      <td>[0, 1]</td>\n",
              "    </tr>\n",
              "    <tr>\n",
              "      <th>5</th>\n",
              "      <td>[B-A8002, Q-64002, S-61001, U-81009, V-21008, ...</td>\n",
              "    </tr>\n",
              "    <tr>\n",
              "      <th>6</th>\n",
              "      <td>[1, 14]</td>\n",
              "    </tr>\n",
              "    <tr>\n",
              "      <th>7</th>\n",
              "      <td>[1, 14]</td>\n",
              "    </tr>\n",
              "    <tr>\n",
              "      <th>8</th>\n",
              "      <td>[PHONE_ERR, PUBLIC_ERR, 20]</td>\n",
              "    </tr>\n",
              "    <tr>\n",
              "      <th>9</th>\n",
              "      <td>[V-21002, V-21005, 1, C-14014, V-21008, C-1203...</td>\n",
              "    </tr>\n",
              "    <tr>\n",
              "      <th>10</th>\n",
              "      <td>[1]</td>\n",
              "    </tr>\n",
              "    <tr>\n",
              "      <th>11</th>\n",
              "      <td>[1]</td>\n",
              "    </tr>\n",
              "    <tr>\n",
              "      <th>12</th>\n",
              "      <td>[1]</td>\n",
              "    </tr>\n",
              "    <tr>\n",
              "      <th>13</th>\n",
              "      <td>[1]</td>\n",
              "    </tr>\n",
              "    <tr>\n",
              "      <th>14</th>\n",
              "      <td>[1, 14, 13]</td>\n",
              "    </tr>\n",
              "    <tr>\n",
              "      <th>15</th>\n",
              "      <td>[1]</td>\n",
              "    </tr>\n",
              "    <tr>\n",
              "      <th>16</th>\n",
              "      <td>[1]</td>\n",
              "    </tr>\n",
              "    <tr>\n",
              "      <th>17</th>\n",
              "      <td>[14, 13, 1, 21, 12]</td>\n",
              "    </tr>\n",
              "    <tr>\n",
              "      <th>18</th>\n",
              "      <td>[1]</td>\n",
              "    </tr>\n",
              "    <tr>\n",
              "      <th>19</th>\n",
              "      <td>[1]</td>\n",
              "    </tr>\n",
              "    <tr>\n",
              "      <th>20</th>\n",
              "      <td>[1]</td>\n",
              "    </tr>\n",
              "    <tr>\n",
              "      <th>21</th>\n",
              "      <td>[1]</td>\n",
              "    </tr>\n",
              "    <tr>\n",
              "      <th>22</th>\n",
              "      <td>[1]</td>\n",
              "    </tr>\n",
              "    <tr>\n",
              "      <th>23</th>\n",
              "      <td>[standby, active, connection timeout, terminat...</td>\n",
              "    </tr>\n",
              "    <tr>\n",
              "      <th>24</th>\n",
              "      <td>[1]</td>\n",
              "    </tr>\n",
              "    <tr>\n",
              "      <th>25</th>\n",
              "      <td>[2, scanning timeout, 1, UNKNOWN, terminate by...</td>\n",
              "    </tr>\n",
              "    <tr>\n",
              "      <th>26</th>\n",
              "      <td>[1]</td>\n",
              "    </tr>\n",
              "    <tr>\n",
              "      <th>27</th>\n",
              "      <td>[1]</td>\n",
              "    </tr>\n",
              "    <tr>\n",
              "      <th>28</th>\n",
              "      <td>[1]</td>\n",
              "    </tr>\n",
              "    <tr>\n",
              "      <th>30</th>\n",
              "      <td>[4, 0, 1, 3, 2]</td>\n",
              "    </tr>\n",
              "    <tr>\n",
              "      <th>31</th>\n",
              "      <td>[1, 0]</td>\n",
              "    </tr>\n",
              "    <tr>\n",
              "      <th>32</th>\n",
              "      <td>[80, 79, 81, 86, 84, 77, 78, 85, 90, 89, 88, 8...</td>\n",
              "    </tr>\n",
              "    <tr>\n",
              "      <th>33</th>\n",
              "      <td>[2, 3, 1]</td>\n",
              "    </tr>\n",
              "    <tr>\n",
              "      <th>34</th>\n",
              "      <td>[4, 1, 2, 3, 6, 5]</td>\n",
              "    </tr>\n",
              "    <tr>\n",
              "      <th>35</th>\n",
              "      <td>[1]</td>\n",
              "    </tr>\n",
              "    <tr>\n",
              "      <th>36</th>\n",
              "      <td>[8.0]</td>\n",
              "    </tr>\n",
              "    <tr>\n",
              "      <th>37</th>\n",
              "      <td>[0, 1]</td>\n",
              "    </tr>\n",
              "    <tr>\n",
              "      <th>38</th>\n",
              "      <td>[6796, 5738, 6467, 4893, 5507, 39391, 3113, 36...</td>\n",
              "    </tr>\n",
              "    <tr>\n",
              "      <th>39</th>\n",
              "      <td>[1, 0]</td>\n",
              "    </tr>\n",
              "    <tr>\n",
              "      <th>40</th>\n",
              "      <td>[1, 0]</td>\n",
              "    </tr>\n",
              "    <tr>\n",
              "      <th>41</th>\n",
              "      <td>[NFANDROID2]</td>\n",
              "    </tr>\n",
              "    <tr>\n",
              "      <th>42</th>\n",
              "      <td>[3, 2]</td>\n",
              "    </tr>\n",
              "  </tbody>\n",
              "</table>\n",
              "</div>\n",
              "      <button class=\"colab-df-convert\" onclick=\"convertToInteractive('df-e37a285d-948b-493a-9537-cbab68acbc4b')\"\n",
              "              title=\"Convert this dataframe to an interactive table.\"\n",
              "              style=\"display:none;\">\n",
              "        \n",
              "  <svg xmlns=\"http://www.w3.org/2000/svg\" height=\"24px\"viewBox=\"0 0 24 24\"\n",
              "       width=\"24px\">\n",
              "    <path d=\"M0 0h24v24H0V0z\" fill=\"none\"/>\n",
              "    <path d=\"M18.56 5.44l.94 2.06.94-2.06 2.06-.94-2.06-.94-.94-2.06-.94 2.06-2.06.94zm-11 1L8.5 8.5l.94-2.06 2.06-.94-2.06-.94L8.5 2.5l-.94 2.06-2.06.94zm10 10l.94 2.06.94-2.06 2.06-.94-2.06-.94-.94-2.06-.94 2.06-2.06.94z\"/><path d=\"M17.41 7.96l-1.37-1.37c-.4-.4-.92-.59-1.43-.59-.52 0-1.04.2-1.43.59L10.3 9.45l-7.72 7.72c-.78.78-.78 2.05 0 2.83L4 21.41c.39.39.9.59 1.41.59.51 0 1.02-.2 1.41-.59l7.78-7.78 2.81-2.81c.8-.78.8-2.07 0-2.86zM5.41 20L4 18.59l7.72-7.72 1.47 1.35L5.41 20z\"/>\n",
              "  </svg>\n",
              "      </button>\n",
              "      \n",
              "  <style>\n",
              "    .colab-df-container {\n",
              "      display:flex;\n",
              "      flex-wrap:wrap;\n",
              "      gap: 12px;\n",
              "    }\n",
              "\n",
              "    .colab-df-convert {\n",
              "      background-color: #E8F0FE;\n",
              "      border: none;\n",
              "      border-radius: 50%;\n",
              "      cursor: pointer;\n",
              "      display: none;\n",
              "      fill: #1967D2;\n",
              "      height: 32px;\n",
              "      padding: 0 0 0 0;\n",
              "      width: 32px;\n",
              "    }\n",
              "\n",
              "    .colab-df-convert:hover {\n",
              "      background-color: #E2EBFA;\n",
              "      box-shadow: 0px 1px 2px rgba(60, 64, 67, 0.3), 0px 1px 3px 1px rgba(60, 64, 67, 0.15);\n",
              "      fill: #174EA6;\n",
              "    }\n",
              "\n",
              "    [theme=dark] .colab-df-convert {\n",
              "      background-color: #3B4455;\n",
              "      fill: #D2E3FC;\n",
              "    }\n",
              "\n",
              "    [theme=dark] .colab-df-convert:hover {\n",
              "      background-color: #434B5C;\n",
              "      box-shadow: 0px 1px 3px 1px rgba(0, 0, 0, 0.15);\n",
              "      filter: drop-shadow(0px 1px 2px rgba(0, 0, 0, 0.3));\n",
              "      fill: #FFFFFF;\n",
              "    }\n",
              "  </style>\n",
              "\n",
              "      <script>\n",
              "        const buttonEl =\n",
              "          document.querySelector('#df-e37a285d-948b-493a-9537-cbab68acbc4b button.colab-df-convert');\n",
              "        buttonEl.style.display =\n",
              "          google.colab.kernel.accessAllowed ? 'block' : 'none';\n",
              "\n",
              "        async function convertToInteractive(key) {\n",
              "          const element = document.querySelector('#df-e37a285d-948b-493a-9537-cbab68acbc4b');\n",
              "          const dataTable =\n",
              "            await google.colab.kernel.invokeFunction('convertToInteractive',\n",
              "                                                     [key], {});\n",
              "          if (!dataTable) return;\n",
              "\n",
              "          const docLinkHtml = 'Like what you see? Visit the ' +\n",
              "            '<a target=\"_blank\" href=https://colab.research.google.com/notebooks/data_table.ipynb>data table notebook</a>'\n",
              "            + ' to learn more about interactive tables.';\n",
              "          element.innerHTML = '';\n",
              "          dataTable['output_type'] = 'display_data';\n",
              "          await google.colab.output.renderOutput(dataTable, element);\n",
              "          const docLink = document.createElement('div');\n",
              "          docLink.innerHTML = docLinkHtml;\n",
              "          element.appendChild(docLink);\n",
              "        }\n",
              "      </script>\n",
              "    </div>\n",
              "  </div>\n",
              "  "
            ]
          },
          "metadata": {}
        }
      ]
    },
    {
      "cell_type": "markdown",
      "source": [
        "-> errtype은 errcode를 군집화시킨 변수임  \n",
        "  \n",
        "2. errtype은 중요한 변수였고 errcode가 errtype에 속함.  \n",
        "그렇다면 errcode도 종류별로 불만제기에 끼치는 영향이 다를까?"
      ],
      "metadata": {
        "id": "5EMicNOQ0K-U"
      }
    },
    {
      "cell_type": "markdown",
      "source": [
        "- 먼저, Errcode의 대표적인 종류는 다음과 같다.\n",
        "    - P-41001과 같은 문자+숫자형 에러코드\n",
        "    - 1, 13, 14와 같은 두자리수 이하의 에러코드\n",
        "    - 3113, 3395와 같은 세자리수 이상의 에러코드\n",
        "    - Connection Timeout, L2CAP Connection Cancelled와 같은 문장형 에러코드"
      ],
      "metadata": {
        "id": "6v3I-Ffw0ixy"
      }
    },
    {
      "cell_type": "code",
      "source": [
        "ey_ec = ey_ec.reset_index()\n",
        "display(sorted(list(ey_ec[ey_ec['errtype'] == 1].errcode.values[0][2:8])))\n",
        "display(sorted(list(ey_ec[ey_ec['errtype'] == 5].errcode.values[0][6:12])))\n",
        "display(sorted(list(ey_ec[ey_ec['errtype'] == 14].errcode.values[0][:])))\n",
        "display(sorted(list(ey_ec[ey_ec['errtype'] == 25].errcode.values[0][3:9])))\n",
        "display(sorted(list(ey_ec[ey_ec['errtype'] == 32].errcode.values[0][3:9])))\n",
        "display(sorted(list(ey_ec[ey_ec['errtype'] == 38].errcode.values[0][3:9])))"
      ],
      "metadata": {
        "colab": {
          "base_uri": "https://localhost:8080/",
          "height": 213
        },
        "id": "ACCeIRtu0JNn",
        "outputId": "9211b00a-2b4c-4e83-9b0b-4f9de929c97d"
      },
      "execution_count": 144,
      "outputs": [
        {
          "output_type": "display_data",
          "data": {
            "text/plain": [
              "['P-41001', 'P-41007', 'P-41007 ', 'P-41011', 'P-41011 ', 'P-44010 ']"
            ]
          },
          "metadata": {}
        },
        {
          "output_type": "display_data",
          "data": {
            "text/plain": [
              "['C-11017', 'H-51042', 'J-30021', 'Q-64001', 'S-64002', 'S-65002']"
            ]
          },
          "metadata": {}
        },
        {
          "output_type": "display_data",
          "data": {
            "text/plain": [
              "['1', '13', '14']"
            ]
          },
          "metadata": {}
        },
        {
          "output_type": "display_data",
          "data": {
            "text/plain": [
              "['L2CAP connection cancelled',\n",
              " 'UNKNOWN',\n",
              " 'connection fail to establish',\n",
              " 'connection timeout',\n",
              " 'connectionterminated by local host',\n",
              " 'terminate by peer user']"
            ]
          },
          "metadata": {}
        },
        {
          "output_type": "display_data",
          "data": {
            "text/plain": [
              "['77', '78', '84', '85', '86', '90']"
            ]
          },
          "metadata": {}
        },
        {
          "output_type": "display_data",
          "data": {
            "text/plain": [
              "['3113', '3395', '3674', '39391', '4893', '5507']"
            ]
          },
          "metadata": {}
        }
      ]
    },
    {
      "cell_type": "markdown",
      "source": [
        "-> 이 중 불만제기율이 가장 높은 errcode는??"
      ],
      "metadata": {
        "id": "DMauuobQ0reh"
      }
    },
    {
      "cell_type": "code",
      "source": [
        "problem = train_prob.copy()\n",
        "p_id = sorted(problem['user_id'].unique())\n",
        "\n",
        "errin = err_total[err_total['user_id'].isin(p_id)]['errcode'].value_counts().to_dict()\n",
        "errout = err_total[~err_total['user_id'].isin(p_id)]['errcode'].value_counts().to_dict()"
      ],
      "metadata": {
        "id": "LOKrzWnL0pvG"
      },
      "execution_count": 145,
      "outputs": []
    },
    {
      "cell_type": "code",
      "source": [
        "errcode_prob = []\n",
        "most_error = []\n",
        "\n",
        "for i in errin:\n",
        "    try :\n",
        "        errcode_prob.append((i,errin[i]/(errin[i]+errout[i]),errin[i],errout[i]))\n",
        "    except :\n",
        "        errcode_prob.append((i,1,errin[i],0))\n",
        "    \n",
        "for i in errout:\n",
        "    if i in errin:\n",
        "        continue\n",
        "    errcode_prob.append((i,0,0,errout[i]))"
      ],
      "metadata": {
        "id": "nh__64x10zVC"
      },
      "execution_count": 146,
      "outputs": []
    },
    {
      "cell_type": "code",
      "source": [
        "errcode_prob.sort(key = lambda x: x[1], reverse = True)"
      ],
      "metadata": {
        "id": "OCZ4-9no00y4"
      },
      "execution_count": 147,
      "outputs": []
    },
    {
      "cell_type": "code",
      "source": [
        "most_error = []\n",
        "most_not_error = []\n",
        "\n",
        "for i in errcode_prob:\n",
        "    if i[2] >= 20 and i[3] >= 20:\n",
        "        if i[1] >= 0.75:\n",
        "            most_error.append(i[0])\n",
        "        elif i[1] <= 0.25 :\n",
        "            most_not_error.append(i[0])\n",
        "\n",
        "print(\"불만 제기 확률이 높은 에러코드 : {0}\".format(most_error))\n",
        "print(\"불만 제기 확률이 낮은 에러코드 : {0}\".format(most_not_error))"
      ],
      "metadata": {
        "colab": {
          "base_uri": "https://localhost:8080/"
        },
        "id": "aUFZsZ0m1IHX",
        "outputId": "8ed70d6e-b2a3-4c1d-a04b-58cb8f496e6d"
      },
      "execution_count": 148,
      "outputs": [
        {
          "output_type": "stream",
          "name": "stdout",
          "text": [
            "불만 제기 확률이 높은 에러코드 : ['scanning timeout', '5', '6', 'V-21008', 'terminate by peer user', 'V-21005']\n",
            "불만 제기 확률이 낮은 에러코드 : ['Q-64001', 'Q-64002', 'P-44010', 'PHONE_ERR', 'B-51049', 'H-51049']\n"
          ]
        }
      ]
    },
    {
      "cell_type": "markdown",
      "source": [
        "**특정 errcode가 불만 제기에 유의미한 영향을 미침**을 알 수 있음  \n",
        "-> 따라서 errcode와 불만제기 간의 관계를 알 수 있는 파생변수를 만들어야함"
      ],
      "metadata": {
        "id": "xlMwZxDI1KEG"
      }
    },
    {
      "cell_type": "markdown",
      "source": [
        "# 5-3. fwver\n",
        "- 먼저, Fwver의 대표적인 종류는 다음과 같다.\n",
        "    - '03'으로 시작하는 펌웨어 버전\n",
        "    - '04'으로 시작하는 펌웨어 버전\n",
        "    - '05'으로 시작하는 펌웨어 버전\n",
        "    - '10', '8.5.3' 특수한 펌웨어 버전"
      ],
      "metadata": {
        "id": "51AutxU11emb"
      }
    },
    {
      "cell_type": "code",
      "source": [
        "print(sorted(train_err.fwver.unique()))"
      ],
      "metadata": {
        "colab": {
          "base_uri": "https://localhost:8080/"
        },
        "id": "pkefVYE61JTq",
        "outputId": "f0ed076b-1eff-4cbf-c5ff-104323c755ad"
      },
      "execution_count": 149,
      "outputs": [
        {
          "output_type": "stream",
          "name": "stdout",
          "text": [
            "['03.11.1141', '03.11.1149', '03.11.1167', '04.16.2641', '04.16.3345', '04.16.3439', '04.16.3553', '04.16.3569', '04.16.3571', '04.22.1442', '04.22.1656', '04.22.1666', '04.22.1684', '04.22.1750', '04.22.1778', '04.33.1095', '04.33.1125', '04.33.1149', '04.33.1171', '04.33.1185', '04.33.1261', '04.73.2237', '04.73.2571', '04.82.1684', '04.82.1730', '04.82.1778', '05.15.2090', '05.15.2092', '05.15.2114', '05.15.2120', '05.15.2122', '05.15.2138', '05.15.3104', '05.66.3237', '05.66.3571', '10', '8.5.3']\n"
          ]
        }
      ]
    },
    {
      "cell_type": "markdown",
      "source": [
        "1. 펌웨어 버전에 따라 불만제기율이 달라질까?"
      ],
      "metadata": {
        "id": "Zs1dRqnU1ocp"
      }
    },
    {
      "cell_type": "code",
      "source": [
        "def relation_fw_complain(data): # 펌웨어 버젼과 불만 제기와의 관계\n",
        "    fwlst = list(data['fwver'].value_counts().keys())\n",
        "    result = []\n",
        "    for i in tqdm(fwlst):\n",
        "        f1 = sorted(list(data[data['fwver'] == i].user_id.unique()))\n",
        "        f2 = sorted(list(train_prob[train_prob['user_id'].isin(f1)]['user_id'].unique()))\n",
        "        if (len(f2)/len(f1) >= 0.5) and (len(f1) >= 5):\n",
        "            result.append([i, len(f2)/len(f1), f2, f1])\n",
        "    return result"
      ],
      "metadata": {
        "id": "cADi-ErV1nM9"
      },
      "execution_count": 150,
      "outputs": []
    },
    {
      "cell_type": "code",
      "source": [
        "def view_relation_fw_complain(data):\n",
        "    result = relation_fw_complain(data)\n",
        "    for i in range(len(result)):\n",
        "        fw = result[i][0]\n",
        "        fp = result[i][1] * 100\n",
        "        fww = result[i][2]\n",
        "        fwp = result[i][3]\n",
        "        print(\"펌웨어 버전 %s를 사용중인 사람들 가운데, %.2f%%는 불만을 제기하였습니다. \\n불만 제기를 한 사람의 수는 전체 %s명중 %s명입니다.\\n\"%(fw, fp, len(fwp), len(fww)))"
      ],
      "metadata": {
        "id": "EzrjBVWm1uLo"
      },
      "execution_count": 151,
      "outputs": []
    },
    {
      "cell_type": "code",
      "source": [
        "view_relation_fw_complain(train_err)"
      ],
      "metadata": {
        "colab": {
          "base_uri": "https://localhost:8080/"
        },
        "id": "JxpmjfvI1wVo",
        "outputId": "6a30c1df-2bd0-4d9b-8d85-8b85fc5c753e"
      },
      "execution_count": 152,
      "outputs": [
        {
          "output_type": "stream",
          "name": "stderr",
          "text": [
            "100%|██████████| 37/37 [00:40<00:00,  1.10s/it]"
          ]
        },
        {
          "output_type": "stream",
          "name": "stdout",
          "text": [
            "펌웨어 버전 04.16.3571를 사용중인 사람들 가운데, 58.76%는 불만을 제기하였습니다. \n",
            "불만 제기를 한 사람의 수는 전체 502명중 295명입니다.\n",
            "\n",
            "펌웨어 버전 05.66.3237를 사용중인 사람들 가운데, 52.46%는 불만을 제기하였습니다. \n",
            "불만 제기를 한 사람의 수는 전체 61명중 32명입니다.\n",
            "\n",
            "펌웨어 버전 04.82.1778를 사용중인 사람들 가운데, 50.00%는 불만을 제기하였습니다. \n",
            "불만 제기를 한 사람의 수는 전체 40명중 20명입니다.\n",
            "\n",
            "펌웨어 버전 05.66.3571를 사용중인 사람들 가운데, 53.33%는 불만을 제기하였습니다. \n",
            "불만 제기를 한 사람의 수는 전체 15명중 8명입니다.\n",
            "\n",
            "펌웨어 버전 04.33.1149를 사용중인 사람들 가운데, 70.00%는 불만을 제기하였습니다. \n",
            "불만 제기를 한 사람의 수는 전체 160명중 112명입니다.\n",
            "\n",
            "펌웨어 버전 04.73.2571를 사용중인 사람들 가운데, 66.67%는 불만을 제기하였습니다. \n",
            "불만 제기를 한 사람의 수는 전체 12명중 8명입니다.\n",
            "\n",
            "펌웨어 버전 04.33.1125를 사용중인 사람들 가운데, 66.67%는 불만을 제기하였습니다. \n",
            "불만 제기를 한 사람의 수는 전체 6명중 4명입니다.\n",
            "\n"
          ]
        },
        {
          "output_type": "stream",
          "name": "stderr",
          "text": [
            "\n"
          ]
        }
      ]
    },
    {
      "cell_type": "markdown",
      "source": [
        "**특정 펌웨어 버전이 불만제기에 영향을 미침**을 알 수 있다.\n",
        "-> 따라서 펌웨어 버전과 불만제기율 간의 관계를 알 수 있는 파생변수를 만들어야 함"
      ],
      "metadata": {
        "id": "bFlX16_Y10VT"
      }
    },
    {
      "cell_type": "code",
      "source": [
        "view_relation_fw_complain(train_qual)"
      ],
      "metadata": {
        "colab": {
          "base_uri": "https://localhost:8080/"
        },
        "id": "ifII-QRt1yme",
        "outputId": "6102b6bd-3a52-4f68-82c5-3416e240af96"
      },
      "execution_count": 153,
      "outputs": [
        {
          "output_type": "stream",
          "name": "stderr",
          "text": [
            "100%|██████████| 27/27 [00:02<00:00,  9.51it/s]"
          ]
        },
        {
          "output_type": "stream",
          "name": "stdout",
          "text": [
            "펌웨어 버전 04.22.1684를 사용중인 사람들 가운데, 59.09%는 불만을 제기하였습니다. \n",
            "불만 제기를 한 사람의 수는 전체 22명중 13명입니다.\n",
            "\n",
            "펌웨어 버전 09.17.1431를 사용중인 사람들 가운데, 96.00%는 불만을 제기하였습니다. \n",
            "불만 제기를 한 사람의 수는 전체 25명중 24명입니다.\n",
            "\n",
            "펌웨어 버전 04.16.3571를 사용중인 사람들 가운데, 63.24%는 불만을 제기하였습니다. \n",
            "불만 제기를 한 사람의 수는 전체 68명중 43명입니다.\n",
            "\n",
            "펌웨어 버전 04.82.1684를 사용중인 사람들 가운데, 54.55%는 불만을 제기하였습니다. \n",
            "불만 제기를 한 사람의 수는 전체 22명중 12명입니다.\n",
            "\n",
            "펌웨어 버전 04.33.1149를 사용중인 사람들 가운데, 70.27%는 불만을 제기하였습니다. \n",
            "불만 제기를 한 사람의 수는 전체 37명중 26명입니다.\n",
            "\n",
            "펌웨어 버전 05.66.3237를 사용중인 사람들 가운데, 75.00%는 불만을 제기하였습니다. \n",
            "불만 제기를 한 사람의 수는 전체 8명중 6명입니다.\n",
            "\n",
            "펌웨어 버전 04.82.1778를 사용중인 사람들 가운데, 61.54%는 불만을 제기하였습니다. \n",
            "불만 제기를 한 사람의 수는 전체 13명중 8명입니다.\n",
            "\n",
            "펌웨어 버전 05.66.3571를 사용중인 사람들 가운데, 60.00%는 불만을 제기하였습니다. \n",
            "불만 제기를 한 사람의 수는 전체 5명중 3명입니다.\n",
            "\n"
          ]
        },
        {
          "output_type": "stream",
          "name": "stderr",
          "text": [
            "\n"
          ]
        }
      ]
    },
    {
      "cell_type": "code",
      "source": [
        ""
      ],
      "metadata": {
        "id": "J7pRyn_h2FbW"
      },
      "execution_count": null,
      "outputs": []
    }
  ]
}