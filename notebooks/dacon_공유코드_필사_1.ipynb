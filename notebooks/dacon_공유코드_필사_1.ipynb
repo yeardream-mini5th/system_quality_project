{
  "nbformat": 4,
  "nbformat_minor": 0,
  "metadata": {
    "colab": {
      "name": "dacon_공유코드_필사_1.ipynb",
      "provenance": [],
      "collapsed_sections": []
    },
    "kernelspec": {
      "name": "python3",
      "display_name": "Python 3"
    },
    "language_info": {
      "name": "python"
    }
  },
  "cells": [
    {
      "cell_type": "markdown",
      "source": [
        "# 전체적인 데이터 이해\n",
        "# EDA 목차\n",
        "\n",
        "- index\n",
        "    1. 패키지 불러오기\n",
        "    2. 데이터 불러오기\n",
        "    3. 데이터 정보\n",
        "        - 3-1. 데이터 소개\n",
        "        - 3-2. 결측치 확인\n",
        "        - 3-3. 데이터 기본 전처리\n",
        "        - 3-3. 이상치 확인\n",
        "    4. 불만 제기 시간 확인\n",
        "        - 4-1. 고객들의 시간별 불만 제기\n",
        "    5. Err Data 관계 해석\n",
        "        - 5-1. Errtype\n",
        "        - 5-2. Errcode\n",
        "        - 5-3. Fwver\n",
        "        - 5-4. Model\n",
        "    6. Quality Data 수치 해석\n",
        "        - 6-1. Quality 값\n",
        "        - 6-2. Fwver\n",
        "    7. Err Data와 Quality Data 관계 해석\n",
        "    8. 결과 정리"
      ],
      "metadata": {
        "id": "le2-fKSLlEPE"
      }
    },
    {
      "cell_type": "markdown",
      "source": [
        "## 1. 패키지 불러오기"
      ],
      "metadata": {
        "id": "du6PTKTollu0"
      }
    },
    {
      "cell_type": "code",
      "execution_count": 1,
      "metadata": {
        "id": "hJZM4ogTk9SB"
      },
      "outputs": [],
      "source": [
        "import os\n",
        "import random \n",
        "import datetime as dt\n",
        "import numpy as np\n",
        "import pandas as pd\n",
        "\n",
        "from tqdm import tqdm"
      ]
    },
    {
      "cell_type": "code",
      "source": [
        "import warnings\n",
        "warnings.filterwarnings(action='ignore')"
      ],
      "metadata": {
        "id": "T-TFblBPlr9L"
      },
      "execution_count": 2,
      "outputs": []
    },
    {
      "cell_type": "code",
      "source": [
        "# dataframe 보여줄 범위 설정\n",
        "\n",
        "pd.options.display.max_columns=1000\n",
        "pd.options.display.max_rows=200\n",
        "pd.options.display.float_format = '{:.5f}'.format"
      ],
      "metadata": {
        "id": "aWziaGd8mE6t"
      },
      "execution_count": 3,
      "outputs": []
    },
    {
      "cell_type": "markdown",
      "source": [
        "## 2. 데이터 불러오기"
      ],
      "metadata": {
        "id": "UN-g_5p_mf2o"
      }
    },
    {
      "cell_type": "code",
      "source": [
        "load_path = '/content/drive/MyDrive/Colab Notebooks/data/235687_시스템 품질 변화로 인한 사용자 불편 예지 AI 경진대회_data/'\n",
        "save_path = '/content/drive/MyDrive/Colab Notebooks/data/235687_시스템 품질 변화로 인한 사용자 불편 예지 AI 경진대회_data/result/'"
      ],
      "metadata": {
        "id": "8Qw7e61lmaeK"
      },
      "execution_count": 4,
      "outputs": []
    },
    {
      "cell_type": "code",
      "source": [
        "train_err = pd.read_csv(load_path + 'train_err_data.csv')\n",
        "train_qual = pd.read_csv(load_path + 'train_quality_data.csv')\n",
        "train_prob = pd.read_csv(load_path + 'train_problem_data.csv')"
      ],
      "metadata": {
        "id": "GjBK5pp6n9fs"
      },
      "execution_count": 5,
      "outputs": []
    },
    {
      "cell_type": "code",
      "source": [
        "test_err = pd.read_csv(load_path + 'test_err_data.csv')\n",
        "test_qual = pd.read_csv(load_path + 'test_quality_data.csv')"
      ],
      "metadata": {
        "id": "BrlD8KlNoTRQ"
      },
      "execution_count": 6,
      "outputs": []
    },
    {
      "cell_type": "markdown",
      "source": [
        "## 3.데이터 정보\n",
        "### 3-1 데이터 소개\n",
        "- Error Data는 사람들이 에러를 접한 시간을 기준으로 **어떤 Model과 Fwver를 사용했는지와 어떤 Errtype과 Errcode를 접했는지**에 대한 내용입니다.  \n",
        "  \n",
        "- 변수는 총 6개이며 1600만개의 관측치가 user_id를 기준으로 시계열 데이터로 나와있습니다.  \n",
        "    - user_id : 사용자 고유 ID\n",
        "    - time : 에러가 발생한 시간\n",
        "    - model : 에러가 발생한 모델명\n",
        "    - fwver : 에러가 발생한 펌웨어 버전\n",
        "    - errtype : 발생한 에러 타입\n",
        "    - errcode : 발생한 에러 코드"
      ],
      "metadata": {
        "id": "UxcQopqzojyN"
      }
    },
    {
      "cell_type": "code",
      "source": [
        "train_err.info()"
      ],
      "metadata": {
        "colab": {
          "base_uri": "https://localhost:8080/"
        },
        "id": "3vOPcr0-oia3",
        "outputId": "9938727c-4e84-44e4-d485-a2084ef749b9"
      },
      "execution_count": 7,
      "outputs": [
        {
          "output_type": "stream",
          "name": "stdout",
          "text": [
            "<class 'pandas.core.frame.DataFrame'>\n",
            "RangeIndex: 16554663 entries, 0 to 16554662\n",
            "Data columns (total 6 columns):\n",
            " #   Column    Dtype \n",
            "---  ------    ----- \n",
            " 0   user_id   int64 \n",
            " 1   time      int64 \n",
            " 2   model_nm  object\n",
            " 3   fwver     object\n",
            " 4   errtype   int64 \n",
            " 5   errcode   object\n",
            "dtypes: int64(3), object(3)\n",
            "memory usage: 757.8+ MB\n"
          ]
        }
      ]
    },
    {
      "cell_type": "code",
      "source": [
        "test_err.info()"
      ],
      "metadata": {
        "colab": {
          "base_uri": "https://localhost:8080/"
        },
        "id": "WFBwr2RUp80Q",
        "outputId": "fe8f9512-2627-4813-8e7a-8645e83e35db"
      },
      "execution_count": 8,
      "outputs": [
        {
          "output_type": "stream",
          "name": "stdout",
          "text": [
            "<class 'pandas.core.frame.DataFrame'>\n",
            "RangeIndex: 16532648 entries, 0 to 16532647\n",
            "Data columns (total 6 columns):\n",
            " #   Column    Dtype \n",
            "---  ------    ----- \n",
            " 0   user_id   int64 \n",
            " 1   time      int64 \n",
            " 2   model_nm  object\n",
            " 3   fwver     object\n",
            " 4   errtype   int64 \n",
            " 5   errcode   object\n",
            "dtypes: int64(3), object(3)\n",
            "memory usage: 756.8+ MB\n"
          ]
        }
      ]
    },
    {
      "cell_type": "markdown",
      "source": [
        "- quality data의 경우 사용자가 시스템을 사용하던 중 문제가 발생하면 **측정 가능한 지표**들을 문제발생시점부터 **2시간 단위로 수집**한 내용입니다.\n",
        "    - user_id : 사용자 고유 ID\n",
        "    - time : 퀄리티가 수집되기 시작한 시간\n",
        "    - fwver : 퀄리티 수집 시작 시점 기준의 펌웨어 버전\n",
        "    - quality : 에러 퀄리티 수치 (0~12, 총 13개 컬럼)"
      ],
      "metadata": {
        "id": "FYzy8F-kqDiJ"
      }
    },
    {
      "cell_type": "code",
      "source": [
        "train_qual.info()"
      ],
      "metadata": {
        "colab": {
          "base_uri": "https://localhost:8080/"
        },
        "id": "7UiLQOMhqB9g",
        "outputId": "79823d1a-5923-4b37-b6de-c116e2e798d4"
      },
      "execution_count": 9,
      "outputs": [
        {
          "output_type": "stream",
          "name": "stdout",
          "text": [
            "<class 'pandas.core.frame.DataFrame'>\n",
            "RangeIndex: 828624 entries, 0 to 828623\n",
            "Data columns (total 16 columns):\n",
            " #   Column      Non-Null Count   Dtype  \n",
            "---  ------      --------------   -----  \n",
            " 0   time        828624 non-null  int64  \n",
            " 1   user_id     828624 non-null  int64  \n",
            " 2   fwver       788544 non-null  object \n",
            " 3   quality_0   684192 non-null  float64\n",
            " 4   quality_1   828624 non-null  int64  \n",
            " 5   quality_2   788511 non-null  float64\n",
            " 6   quality_3   828624 non-null  int64  \n",
            " 7   quality_4   828624 non-null  int64  \n",
            " 8   quality_5   828604 non-null  object \n",
            " 9   quality_6   828624 non-null  int64  \n",
            " 10  quality_7   828624 non-null  object \n",
            " 11  quality_8   828624 non-null  object \n",
            " 12  quality_9   828624 non-null  object \n",
            " 13  quality_10  828624 non-null  object \n",
            " 14  quality_11  828624 non-null  int64  \n",
            " 15  quality_12  828624 non-null  int64  \n",
            "dtypes: float64(2), int64(8), object(6)\n",
            "memory usage: 101.2+ MB\n"
          ]
        }
      ]
    },
    {
      "cell_type": "code",
      "source": [
        "test_qual.info()"
      ],
      "metadata": {
        "colab": {
          "base_uri": "https://localhost:8080/"
        },
        "id": "COY15f-MqjNL",
        "outputId": "9d49f571-e78a-4256-92f2-51bbb1613235"
      },
      "execution_count": 10,
      "outputs": [
        {
          "output_type": "stream",
          "name": "stdout",
          "text": [
            "<class 'pandas.core.frame.DataFrame'>\n",
            "RangeIndex: 747972 entries, 0 to 747971\n",
            "Data columns (total 16 columns):\n",
            " #   Column      Non-Null Count   Dtype  \n",
            "---  ------      --------------   -----  \n",
            " 0   time        747972 non-null  int64  \n",
            " 1   user_id     747972 non-null  int64  \n",
            " 2   fwver       725208 non-null  object \n",
            " 3   quality_0   641388 non-null  float64\n",
            " 4   quality_1   747961 non-null  object \n",
            " 5   quality_2   726857 non-null  float64\n",
            " 6   quality_3   747972 non-null  int64  \n",
            " 7   quality_4   747972 non-null  int64  \n",
            " 8   quality_5   747928 non-null  object \n",
            " 9   quality_6   747972 non-null  int64  \n",
            " 10  quality_7   747972 non-null  object \n",
            " 11  quality_8   747972 non-null  object \n",
            " 12  quality_9   747972 non-null  object \n",
            " 13  quality_10  747972 non-null  object \n",
            " 14  quality_11  747972 non-null  int64  \n",
            " 15  quality_12  747972 non-null  int64  \n",
            "dtypes: float64(2), int64(7), object(7)\n",
            "memory usage: 91.3+ MB\n"
          ]
        }
      ]
    },
    {
      "cell_type": "markdown",
      "source": [
        "- problem data는 불만을 제기한 사람들에 대한 데이터입니다.\n",
        "    - user_id : 불만을 제기한 유저 ID\n",
        "    - time : 불만 점수 시간\n",
        "    - <u>**한 사용자가 불만을 여러번 제기할 수 있음**<u/>\n",
        "\n"
      ],
      "metadata": {
        "id": "CuFKxykGqncW"
      }
    },
    {
      "cell_type": "code",
      "source": [
        "train_prob.info()"
      ],
      "metadata": {
        "id": "bOrbPwfkqkyy",
        "colab": {
          "base_uri": "https://localhost:8080/"
        },
        "outputId": "1cb17894-f6ae-414f-fa20-63c1d2edb946"
      },
      "execution_count": 11,
      "outputs": [
        {
          "output_type": "stream",
          "name": "stdout",
          "text": [
            "<class 'pandas.core.frame.DataFrame'>\n",
            "RangeIndex: 5429 entries, 0 to 5428\n",
            "Data columns (total 2 columns):\n",
            " #   Column   Non-Null Count  Dtype\n",
            "---  ------   --------------  -----\n",
            " 0   user_id  5429 non-null   int64\n",
            " 1   time     5429 non-null   int64\n",
            "dtypes: int64(2)\n",
            "memory usage: 85.0 KB\n"
          ]
        }
      ]
    },
    {
      "cell_type": "markdown",
      "source": [
        "### 3-2. 결측치 확인\n",
        "1. train_err_data - missing value  \n",
        "    - errcode 결측치 존재(1개)"
      ],
      "metadata": {
        "id": "tUq7dzfju-kl"
      }
    },
    {
      "cell_type": "code",
      "source": [
        "train_err.isnull().sum()"
      ],
      "metadata": {
        "colab": {
          "base_uri": "https://localhost:8080/"
        },
        "id": "77Ff6bbou8_Z",
        "outputId": "4ae7d70d-fe7c-482c-9ecf-d8a19e1c2cef"
      },
      "execution_count": 12,
      "outputs": [
        {
          "output_type": "execute_result",
          "data": {
            "text/plain": [
              "user_id     0\n",
              "time        0\n",
              "model_nm    0\n",
              "fwver       0\n",
              "errtype     0\n",
              "errcode     1\n",
              "dtype: int64"
            ]
          },
          "metadata": {},
          "execution_count": 12
        }
      ]
    },
    {
      "cell_type": "code",
      "source": [
        "train_err[train_err['errcode'].isnull()]"
      ],
      "metadata": {
        "colab": {
          "base_uri": "https://localhost:8080/",
          "height": 81
        },
        "id": "r9CW49xsvYQC",
        "outputId": "c489af68-4fd6-409b-a2ae-6232dfecca53"
      },
      "execution_count": 13,
      "outputs": [
        {
          "output_type": "execute_result",
          "data": {
            "text/plain": [
              "         user_id            time model_nm       fwver  errtype errcode\n",
              "3825744    13639  20201121191718  model_2  04.33.1261        5     NaN"
            ],
            "text/html": [
              "\n",
              "  <div id=\"df-6e78398e-366c-40b3-9228-e27f08e1b80b\">\n",
              "    <div class=\"colab-df-container\">\n",
              "      <div>\n",
              "<style scoped>\n",
              "    .dataframe tbody tr th:only-of-type {\n",
              "        vertical-align: middle;\n",
              "    }\n",
              "\n",
              "    .dataframe tbody tr th {\n",
              "        vertical-align: top;\n",
              "    }\n",
              "\n",
              "    .dataframe thead th {\n",
              "        text-align: right;\n",
              "    }\n",
              "</style>\n",
              "<table border=\"1\" class=\"dataframe\">\n",
              "  <thead>\n",
              "    <tr style=\"text-align: right;\">\n",
              "      <th></th>\n",
              "      <th>user_id</th>\n",
              "      <th>time</th>\n",
              "      <th>model_nm</th>\n",
              "      <th>fwver</th>\n",
              "      <th>errtype</th>\n",
              "      <th>errcode</th>\n",
              "    </tr>\n",
              "  </thead>\n",
              "  <tbody>\n",
              "    <tr>\n",
              "      <th>3825744</th>\n",
              "      <td>13639</td>\n",
              "      <td>20201121191718</td>\n",
              "      <td>model_2</td>\n",
              "      <td>04.33.1261</td>\n",
              "      <td>5</td>\n",
              "      <td>NaN</td>\n",
              "    </tr>\n",
              "  </tbody>\n",
              "</table>\n",
              "</div>\n",
              "      <button class=\"colab-df-convert\" onclick=\"convertToInteractive('df-6e78398e-366c-40b3-9228-e27f08e1b80b')\"\n",
              "              title=\"Convert this dataframe to an interactive table.\"\n",
              "              style=\"display:none;\">\n",
              "        \n",
              "  <svg xmlns=\"http://www.w3.org/2000/svg\" height=\"24px\"viewBox=\"0 0 24 24\"\n",
              "       width=\"24px\">\n",
              "    <path d=\"M0 0h24v24H0V0z\" fill=\"none\"/>\n",
              "    <path d=\"M18.56 5.44l.94 2.06.94-2.06 2.06-.94-2.06-.94-.94-2.06-.94 2.06-2.06.94zm-11 1L8.5 8.5l.94-2.06 2.06-.94-2.06-.94L8.5 2.5l-.94 2.06-2.06.94zm10 10l.94 2.06.94-2.06 2.06-.94-2.06-.94-.94-2.06-.94 2.06-2.06.94z\"/><path d=\"M17.41 7.96l-1.37-1.37c-.4-.4-.92-.59-1.43-.59-.52 0-1.04.2-1.43.59L10.3 9.45l-7.72 7.72c-.78.78-.78 2.05 0 2.83L4 21.41c.39.39.9.59 1.41.59.51 0 1.02-.2 1.41-.59l7.78-7.78 2.81-2.81c.8-.78.8-2.07 0-2.86zM5.41 20L4 18.59l7.72-7.72 1.47 1.35L5.41 20z\"/>\n",
              "  </svg>\n",
              "      </button>\n",
              "      \n",
              "  <style>\n",
              "    .colab-df-container {\n",
              "      display:flex;\n",
              "      flex-wrap:wrap;\n",
              "      gap: 12px;\n",
              "    }\n",
              "\n",
              "    .colab-df-convert {\n",
              "      background-color: #E8F0FE;\n",
              "      border: none;\n",
              "      border-radius: 50%;\n",
              "      cursor: pointer;\n",
              "      display: none;\n",
              "      fill: #1967D2;\n",
              "      height: 32px;\n",
              "      padding: 0 0 0 0;\n",
              "      width: 32px;\n",
              "    }\n",
              "\n",
              "    .colab-df-convert:hover {\n",
              "      background-color: #E2EBFA;\n",
              "      box-shadow: 0px 1px 2px rgba(60, 64, 67, 0.3), 0px 1px 3px 1px rgba(60, 64, 67, 0.15);\n",
              "      fill: #174EA6;\n",
              "    }\n",
              "\n",
              "    [theme=dark] .colab-df-convert {\n",
              "      background-color: #3B4455;\n",
              "      fill: #D2E3FC;\n",
              "    }\n",
              "\n",
              "    [theme=dark] .colab-df-convert:hover {\n",
              "      background-color: #434B5C;\n",
              "      box-shadow: 0px 1px 3px 1px rgba(0, 0, 0, 0.15);\n",
              "      filter: drop-shadow(0px 1px 2px rgba(0, 0, 0, 0.3));\n",
              "      fill: #FFFFFF;\n",
              "    }\n",
              "  </style>\n",
              "\n",
              "      <script>\n",
              "        const buttonEl =\n",
              "          document.querySelector('#df-6e78398e-366c-40b3-9228-e27f08e1b80b button.colab-df-convert');\n",
              "        buttonEl.style.display =\n",
              "          google.colab.kernel.accessAllowed ? 'block' : 'none';\n",
              "\n",
              "        async function convertToInteractive(key) {\n",
              "          const element = document.querySelector('#df-6e78398e-366c-40b3-9228-e27f08e1b80b');\n",
              "          const dataTable =\n",
              "            await google.colab.kernel.invokeFunction('convertToInteractive',\n",
              "                                                     [key], {});\n",
              "          if (!dataTable) return;\n",
              "\n",
              "          const docLinkHtml = 'Like what you see? Visit the ' +\n",
              "            '<a target=\"_blank\" href=https://colab.research.google.com/notebooks/data_table.ipynb>data table notebook</a>'\n",
              "            + ' to learn more about interactive tables.';\n",
              "          element.innerHTML = '';\n",
              "          dataTable['output_type'] = 'display_data';\n",
              "          await google.colab.output.renderOutput(dataTable, element);\n",
              "          const docLink = document.createElement('div');\n",
              "          docLink.innerHTML = docLinkHtml;\n",
              "          element.appendChild(docLink);\n",
              "        }\n",
              "      </script>\n",
              "    </div>\n",
              "  </div>\n",
              "  "
            ]
          },
          "metadata": {},
          "execution_count": 13
        }
      ]
    },
    {
      "cell_type": "markdown",
      "source": [
        "- 기록된 user_id와 time, model_nm, fwver, errtype이 같다면 errcode도 같을거라는 예상으로 결측치를 채웁니다."
      ],
      "metadata": {
        "id": "hT98XdNmvwkF"
      }
    },
    {
      "cell_type": "code",
      "source": [
        "# tre = train_err.iloc[:4000000, :].copy() # tre라는 변수를 만들어 train_err data에서 400만개의 데이터만 뽑아 복사하고\n",
        "# tre_missing = tre.groupby(['user_id','time','fwver','errtype'])['errcode'].unique().to_frame() # user_id, time, fwver, errtype으로 묶어 errcode가 unique한 값들로 tre_missing이라는 dataframe을 생성"
      ],
      "metadata": {
        "id": "Mk8099x6xWut"
      },
      "execution_count": 14,
      "outputs": []
    },
    {
      "cell_type": "code",
      "source": [
        "tre_missing"
      ],
      "metadata": {
        "colab": {
          "base_uri": "https://localhost:8080/",
          "height": 170
        },
        "id": "PSUqyeR15ASk",
        "outputId": "bf5a1eee-5706-4a6b-eb4f-52c0de4ee3cb"
      },
      "execution_count": 15,
      "outputs": [
        {
          "output_type": "error",
          "ename": "NameError",
          "evalue": "ignored",
          "traceback": [
            "\u001b[0;31m---------------------------------------------------------------------------\u001b[0m",
            "\u001b[0;31mNameError\u001b[0m                                 Traceback (most recent call last)",
            "\u001b[0;32m<ipython-input-15-e6e79e99c5ca>\u001b[0m in \u001b[0;36m<module>\u001b[0;34m()\u001b[0m\n\u001b[0;32m----> 1\u001b[0;31m \u001b[0mtre_missing\u001b[0m\u001b[0;34m\u001b[0m\u001b[0;34m\u001b[0m\u001b[0m\n\u001b[0m",
            "\u001b[0;31mNameError\u001b[0m: name 'tre_missing' is not defined"
          ]
        }
      ]
    },
    {
      "cell_type": "code",
      "source": [
        "tre_missing['errcode']"
      ],
      "metadata": {
        "id": "lefNSZPo6SWO"
      },
      "execution_count": null,
      "outputs": []
    },
    {
      "cell_type": "code",
      "source": [
        "# tre_missing['errcode'] = tre_missing['errcode'].apply(lambda x : len(x)) # errcode 컬럼 값을 바꿈\n",
        "\n",
        "# ltwo = len(tre_missing[tre_missing['errcode'] != 1]) # errcode 컬럼의 값이 1이 아닌 것들 (동일한 특성을 갖는 row안에 다른 errcode)\n",
        "# lone = len(tre_missing[tre_missing['errcode'] == 1]) # errcode 컬럼의 값이 1인 것들 (동일한 특성을 갖는 row안에 같은 errcode)\n",
        "# print(\"동일한 특성을 갖는 Row안에 다른 ErrorCode가 발생할 확률 : %.3f%%\"%(ltwo/lone * 100))"
      ],
      "metadata": {
        "id": "Tl2tZNpovrI4"
      },
      "execution_count": null,
      "outputs": []
    },
    {
      "cell_type": "code",
      "source": [
        "tre_missing"
      ],
      "metadata": {
        "id": "Sh3Vn0XY2wsj"
      },
      "execution_count": null,
      "outputs": []
    },
    {
      "cell_type": "code",
      "source": [
        "tre_missing['errcode'].unique()"
      ],
      "metadata": {
        "id": "VXrIiuDY1zvg"
      },
      "execution_count": null,
      "outputs": []
    },
    {
      "cell_type": "code",
      "source": [
        "ltwo"
      ],
      "metadata": {
        "id": "c0x_D3BL2ASp"
      },
      "execution_count": null,
      "outputs": []
    },
    {
      "cell_type": "code",
      "source": [
        "lone"
      ],
      "metadata": {
        "id": "1SNuMPbo2EG6"
      },
      "execution_count": null,
      "outputs": []
    },
    {
      "cell_type": "code",
      "source": [
        "train_err[(train_err['user_id'] == 13639)&(train_err['fwver']=='04.33.1261')&(train_err['errtype']==5)&(train_err['time']==20201121191718)]"
      ],
      "metadata": {
        "id": "sEqdsZwR5Ehx"
      },
      "execution_count": null,
      "outputs": []
    },
    {
      "cell_type": "markdown",
      "source": [
        "user_id가 13639이고, fwver은 04.33.1261이며 errtype은 5, 에러발생시간은 2020년 11월 21일 19시 17분 18초인 데이터의 비어있는 errcode를 같은 조건의 행에 있는 errcode로 대체"
      ],
      "metadata": {
        "id": "my6wKrVQ7TtA"
      }
    },
    {
      "cell_type": "code",
      "source": [
        "train_err['errcode'] = train_err['errcode'].fillna('40013')"
      ],
      "metadata": {
        "id": "g0Yid1t_7SAa"
      },
      "execution_count": null,
      "outputs": []
    },
    {
      "cell_type": "code",
      "source": [
        "train_err.isna().sum()"
      ],
      "metadata": {
        "id": "y3qmHhuq72vn"
      },
      "execution_count": null,
      "outputs": []
    },
    {
      "cell_type": "markdown",
      "source": [
        "2. train_quality_data missing value\n",
        "    - fwver 결측치 존재\n",
        "    - quality_0, quality_2, quality_5 결측치 존재\n"
      ],
      "metadata": {
        "id": "N9hZE96T8Cxw"
      }
    },
    {
      "cell_type": "code",
      "source": [
        "train_qual.isnull().sum()"
      ],
      "metadata": {
        "id": "_QoggZol79K6"
      },
      "execution_count": null,
      "outputs": []
    },
    {
      "cell_type": "code",
      "source": [
        "# NaN 값일 경우의 quality가 측정된 기간\n",
        "train_qual[train_qual['fwver'].isnull()].groupby('user_id')['time'].unique().to_frame()['time'].str.len().mean()"
      ],
      "metadata": {
        "colab": {
          "base_uri": "https://localhost:8080/"
        },
        "id": "xmfd5mId8wzE",
        "outputId": "124e85b7-b7de-446b-ba3a-b8afdae3dea4"
      },
      "execution_count": 16,
      "outputs": [
        {
          "output_type": "execute_result",
          "data": {
            "text/plain": [
              "55.45762711864407"
            ]
          },
          "metadata": {},
          "execution_count": 16
        }
      ]
    },
    {
      "cell_type": "code",
      "source": [
        "# NaN 값이 아닐 경우 quality가 측정된 기간\n",
        "train_qual[~train_qual['fwver'].isnull()].groupby('user_id')['time'].unique().to_frame()['time'].str.len().mean()"
      ],
      "metadata": {
        "colab": {
          "base_uri": "https://localhost:8080/"
        },
        "id": "gFmugSef8wtm",
        "outputId": "4f91668f-a2e0-4d1f-9d3a-064e61bcdf90"
      },
      "execution_count": 17,
      "outputs": [
        {
          "output_type": "execute_result",
          "data": {
            "text/plain": [
              "7.9863813229571985"
            ]
          },
          "metadata": {},
          "execution_count": 17
        }
      ]
    },
    {
      "cell_type": "code",
      "source": [
        "fwms_idx = train_qual[train_qual['fwver'].isnull()].index\n",
        "train_qual = train_qual.drop(fwms_idx)"
      ],
      "metadata": {
        "id": "3M-lLXh3-6Wl"
      },
      "execution_count": 18,
      "outputs": []
    },
    {
      "cell_type": "markdown",
      "source": [
        "- quality_0, quality_2, quality_5 결측치 제거"
      ],
      "metadata": {
        "id": "8RP2WXYCRUVY"
      }
    },
    {
      "cell_type": "code",
      "source": [
        "for i in train_qual.columns[3:]:\n",
        "    train_qual[i] = train_qual[i].fillna(train_qual[i].mode(0)[0])"
      ],
      "metadata": {
        "id": "lAG-Rs9q8wrB"
      },
      "execution_count": 19,
      "outputs": []
    },
    {
      "cell_type": "markdown",
      "source": [
        "- NaN 값을 갖는 경우 quality가 지속적으로 오랜기간 측정됨\n",
        "- 반대로, NaN값을 갖지 않는 경우 상대적으로 적은기간 측정됨\n",
        "- 따라서, NaN값을 갖는 경우 이상치에 해당 -> 해당 결측치 제거"
      ],
      "metadata": {
        "id": "5XJG5TK_8ZYI"
      }
    },
    {
      "cell_type": "markdown",
      "source": [
        "3. test_error_data-missing value"
      ],
      "metadata": {
        "id": "dihwHnxJR4qK"
      }
    },
    {
      "cell_type": "code",
      "source": [
        "test_err.isnull().sum()"
      ],
      "metadata": {
        "colab": {
          "base_uri": "https://localhost:8080/"
        },
        "id": "_uGjgSKo8wli",
        "outputId": "38134fc6-016d-4ed7-ee22-16a875533c4a"
      },
      "execution_count": 20,
      "outputs": [
        {
          "output_type": "execute_result",
          "data": {
            "text/plain": [
              "user_id     0\n",
              "time        0\n",
              "model_nm    0\n",
              "fwver       0\n",
              "errtype     0\n",
              "errcode     4\n",
              "dtype: int64"
            ]
          },
          "metadata": {},
          "execution_count": 20
        }
      ]
    },
    {
      "cell_type": "code",
      "source": [
        "test_err[test_err['errcode'].isnull()]"
      ],
      "metadata": {
        "colab": {
          "base_uri": "https://localhost:8080/",
          "height": 175
        },
        "id": "t9Ni9KgG8XBX",
        "outputId": "f552b454-0a56-40bd-db49-5d6ea5b1c564"
      },
      "execution_count": 21,
      "outputs": [
        {
          "output_type": "execute_result",
          "data": {
            "text/plain": [
              "          user_id            time model_nm       fwver  errtype errcode\n",
              "937967      30820  20201115044317  model_2  04.33.1261        5     NaN\n",
              "4038892     33681  20201103110259  model_2  04.33.1185        5     NaN\n",
              "9486881     38991  20201127213838  model_2  04.33.1261        5     NaN\n",
              "10425473    39894  20201128144712  model_1  04.16.3553        5     NaN"
            ],
            "text/html": [
              "\n",
              "  <div id=\"df-3088e6ba-709b-4eb5-96d6-358115bceed9\">\n",
              "    <div class=\"colab-df-container\">\n",
              "      <div>\n",
              "<style scoped>\n",
              "    .dataframe tbody tr th:only-of-type {\n",
              "        vertical-align: middle;\n",
              "    }\n",
              "\n",
              "    .dataframe tbody tr th {\n",
              "        vertical-align: top;\n",
              "    }\n",
              "\n",
              "    .dataframe thead th {\n",
              "        text-align: right;\n",
              "    }\n",
              "</style>\n",
              "<table border=\"1\" class=\"dataframe\">\n",
              "  <thead>\n",
              "    <tr style=\"text-align: right;\">\n",
              "      <th></th>\n",
              "      <th>user_id</th>\n",
              "      <th>time</th>\n",
              "      <th>model_nm</th>\n",
              "      <th>fwver</th>\n",
              "      <th>errtype</th>\n",
              "      <th>errcode</th>\n",
              "    </tr>\n",
              "  </thead>\n",
              "  <tbody>\n",
              "    <tr>\n",
              "      <th>937967</th>\n",
              "      <td>30820</td>\n",
              "      <td>20201115044317</td>\n",
              "      <td>model_2</td>\n",
              "      <td>04.33.1261</td>\n",
              "      <td>5</td>\n",
              "      <td>NaN</td>\n",
              "    </tr>\n",
              "    <tr>\n",
              "      <th>4038892</th>\n",
              "      <td>33681</td>\n",
              "      <td>20201103110259</td>\n",
              "      <td>model_2</td>\n",
              "      <td>04.33.1185</td>\n",
              "      <td>5</td>\n",
              "      <td>NaN</td>\n",
              "    </tr>\n",
              "    <tr>\n",
              "      <th>9486881</th>\n",
              "      <td>38991</td>\n",
              "      <td>20201127213838</td>\n",
              "      <td>model_2</td>\n",
              "      <td>04.33.1261</td>\n",
              "      <td>5</td>\n",
              "      <td>NaN</td>\n",
              "    </tr>\n",
              "    <tr>\n",
              "      <th>10425473</th>\n",
              "      <td>39894</td>\n",
              "      <td>20201128144712</td>\n",
              "      <td>model_1</td>\n",
              "      <td>04.16.3553</td>\n",
              "      <td>5</td>\n",
              "      <td>NaN</td>\n",
              "    </tr>\n",
              "  </tbody>\n",
              "</table>\n",
              "</div>\n",
              "      <button class=\"colab-df-convert\" onclick=\"convertToInteractive('df-3088e6ba-709b-4eb5-96d6-358115bceed9')\"\n",
              "              title=\"Convert this dataframe to an interactive table.\"\n",
              "              style=\"display:none;\">\n",
              "        \n",
              "  <svg xmlns=\"http://www.w3.org/2000/svg\" height=\"24px\"viewBox=\"0 0 24 24\"\n",
              "       width=\"24px\">\n",
              "    <path d=\"M0 0h24v24H0V0z\" fill=\"none\"/>\n",
              "    <path d=\"M18.56 5.44l.94 2.06.94-2.06 2.06-.94-2.06-.94-.94-2.06-.94 2.06-2.06.94zm-11 1L8.5 8.5l.94-2.06 2.06-.94-2.06-.94L8.5 2.5l-.94 2.06-2.06.94zm10 10l.94 2.06.94-2.06 2.06-.94-2.06-.94-.94-2.06-.94 2.06-2.06.94z\"/><path d=\"M17.41 7.96l-1.37-1.37c-.4-.4-.92-.59-1.43-.59-.52 0-1.04.2-1.43.59L10.3 9.45l-7.72 7.72c-.78.78-.78 2.05 0 2.83L4 21.41c.39.39.9.59 1.41.59.51 0 1.02-.2 1.41-.59l7.78-7.78 2.81-2.81c.8-.78.8-2.07 0-2.86zM5.41 20L4 18.59l7.72-7.72 1.47 1.35L5.41 20z\"/>\n",
              "  </svg>\n",
              "      </button>\n",
              "      \n",
              "  <style>\n",
              "    .colab-df-container {\n",
              "      display:flex;\n",
              "      flex-wrap:wrap;\n",
              "      gap: 12px;\n",
              "    }\n",
              "\n",
              "    .colab-df-convert {\n",
              "      background-color: #E8F0FE;\n",
              "      border: none;\n",
              "      border-radius: 50%;\n",
              "      cursor: pointer;\n",
              "      display: none;\n",
              "      fill: #1967D2;\n",
              "      height: 32px;\n",
              "      padding: 0 0 0 0;\n",
              "      width: 32px;\n",
              "    }\n",
              "\n",
              "    .colab-df-convert:hover {\n",
              "      background-color: #E2EBFA;\n",
              "      box-shadow: 0px 1px 2px rgba(60, 64, 67, 0.3), 0px 1px 3px 1px rgba(60, 64, 67, 0.15);\n",
              "      fill: #174EA6;\n",
              "    }\n",
              "\n",
              "    [theme=dark] .colab-df-convert {\n",
              "      background-color: #3B4455;\n",
              "      fill: #D2E3FC;\n",
              "    }\n",
              "\n",
              "    [theme=dark] .colab-df-convert:hover {\n",
              "      background-color: #434B5C;\n",
              "      box-shadow: 0px 1px 3px 1px rgba(0, 0, 0, 0.15);\n",
              "      filter: drop-shadow(0px 1px 2px rgba(0, 0, 0, 0.3));\n",
              "      fill: #FFFFFF;\n",
              "    }\n",
              "  </style>\n",
              "\n",
              "      <script>\n",
              "        const buttonEl =\n",
              "          document.querySelector('#df-3088e6ba-709b-4eb5-96d6-358115bceed9 button.colab-df-convert');\n",
              "        buttonEl.style.display =\n",
              "          google.colab.kernel.accessAllowed ? 'block' : 'none';\n",
              "\n",
              "        async function convertToInteractive(key) {\n",
              "          const element = document.querySelector('#df-3088e6ba-709b-4eb5-96d6-358115bceed9');\n",
              "          const dataTable =\n",
              "            await google.colab.kernel.invokeFunction('convertToInteractive',\n",
              "                                                     [key], {});\n",
              "          if (!dataTable) return;\n",
              "\n",
              "          const docLinkHtml = 'Like what you see? Visit the ' +\n",
              "            '<a target=\"_blank\" href=https://colab.research.google.com/notebooks/data_table.ipynb>data table notebook</a>'\n",
              "            + ' to learn more about interactive tables.';\n",
              "          element.innerHTML = '';\n",
              "          dataTable['output_type'] = 'display_data';\n",
              "          await google.colab.output.renderOutput(dataTable, element);\n",
              "          const docLink = document.createElement('div');\n",
              "          docLink.innerHTML = docLinkHtml;\n",
              "          element.appendChild(docLink);\n",
              "        }\n",
              "      </script>\n",
              "    </div>\n",
              "  </div>\n",
              "  "
            ]
          },
          "metadata": {},
          "execution_count": 21
        }
      ]
    },
    {
      "cell_type": "markdown",
      "source": [
        "위에서 train data를 처리할 때 처럼 동일한 특성을 갖을 row라면 같은 에러코드를 가질 확률이 높음"
      ],
      "metadata": {
        "id": "sKjKKGbGSxEc"
      }
    },
    {
      "cell_type": "code",
      "source": [
        "te = test_err.iloc[:4000000,:].copy()\n",
        "te_missing = te.groupby(['user_id','time','fwver','errtype'])['errcode'].unique().to_frame()\n",
        "te_missing['errcode'] = te_missing['errcode'].apply(lambda x : len(x))\n",
        "\n",
        "ltwo = len(te_missing[te_missing['errcode']!=1])\n",
        "lone = len(te_missing[te_missing['errcode']==1])\n",
        "print(\"동일한 특성을 갖는 Row안에 다른 ErrorCode가 발생할 확률 : %.3f%%\"%(ltwo/lone * 100))"
      ],
      "metadata": {
        "colab": {
          "base_uri": "https://localhost:8080/"
        },
        "id": "TYjKfxjfStXX",
        "outputId": "5278023d-ba0c-46db-8986-03860796c482"
      },
      "execution_count": 22,
      "outputs": [
        {
          "output_type": "stream",
          "name": "stdout",
          "text": [
            "동일한 특성을 갖는 Row안에 다른 ErrorCode가 발생할 확률 : 0.054%\n"
          ]
        }
      ]
    },
    {
      "cell_type": "markdown",
      "source": [
        "- 따라서 동일한 에러 코드로 결측치 교체"
      ],
      "metadata": {
        "id": "4LR5o4NuT22A"
      }
    },
    {
      "cell_type": "code",
      "source": [
        "test_err.iloc[937967,5] = '40053'"
      ],
      "metadata": {
        "id": "t0TFPjcMTyDq"
      },
      "execution_count": 23,
      "outputs": []
    },
    {
      "cell_type": "code",
      "source": [
        "test_err.iloc[4038892,5] = '40053'"
      ],
      "metadata": {
        "id": "e5On30OeUAHT"
      },
      "execution_count": 24,
      "outputs": []
    },
    {
      "cell_type": "code",
      "source": [
        "test_err.iloc[9486881,5] = '40053'"
      ],
      "metadata": {
        "id": "ciBZfTPXUFWL"
      },
      "execution_count": 25,
      "outputs": []
    },
    {
      "cell_type": "code",
      "source": [
        "test_err.iloc[10425473,5] = '-1010'"
      ],
      "metadata": {
        "id": "SSBlR9O5ULpC"
      },
      "execution_count": 26,
      "outputs": []
    },
    {
      "cell_type": "markdown",
      "source": [
        "- train_err의 user는 15000명인데 test_err의 user는 14999명이므로 임의의 user를 1명 추가해줍니다.(최빈값으로 대체)"
      ],
      "metadata": {
        "id": "vZ9W8VcSUTih"
      }
    },
    {
      "cell_type": "code",
      "source": [
        "missing_value = pd.Series([43262, train_err.time.mode()[0], train_err.model_nm.mode()[0],\n",
        "                train_err.fwver.mode()[0], train_err.errtype.mode()[0],\n",
        "                train_err.errcode.mode()[0]], index = test_err.columns)"
      ],
      "metadata": {
        "id": "Cv0AJ-2yUgQW"
      },
      "execution_count": 27,
      "outputs": []
    },
    {
      "cell_type": "code",
      "source": [
        "test_err = test_err.append(missing_value, ignore_index = True)"
      ],
      "metadata": {
        "id": "5E98g_KmVAoG"
      },
      "execution_count": 28,
      "outputs": []
    },
    {
      "cell_type": "markdown",
      "source": [
        "4. test_quality_data-missing value\n",
        "    - fwver 결측치 존재\n",
        "    - quality_0, quality_1, quality_2, quality_5 결측치 존재"
      ],
      "metadata": {
        "id": "CdRD-JQnVZ0V"
      }
    },
    {
      "cell_type": "code",
      "source": [
        "test_qual.isnull().sum()"
      ],
      "metadata": {
        "colab": {
          "base_uri": "https://localhost:8080/"
        },
        "id": "kLJ3cg91VHRj",
        "outputId": "8ea5648a-6b4a-4cda-ab20-9a4435b1f94c"
      },
      "execution_count": 29,
      "outputs": [
        {
          "output_type": "execute_result",
          "data": {
            "text/plain": [
              "time               0\n",
              "user_id            0\n",
              "fwver          22764\n",
              "quality_0     106584\n",
              "quality_1         11\n",
              "quality_2      21115\n",
              "quality_3          0\n",
              "quality_4          0\n",
              "quality_5         44\n",
              "quality_6          0\n",
              "quality_7          0\n",
              "quality_8          0\n",
              "quality_9          0\n",
              "quality_10         0\n",
              "quality_11         0\n",
              "quality_12         0\n",
              "dtype: int64"
            ]
          },
          "metadata": {},
          "execution_count": 29
        }
      ]
    },
    {
      "cell_type": "code",
      "source": [
        "# NaN 값일 경우의 quality가 측정된 기간\n",
        "test_qual[test_qual['fwver'].isnull()].groupby('user_id')['time'].unique().to_frame()['time'].str.len().mean()"
      ],
      "metadata": {
        "colab": {
          "base_uri": "https://localhost:8080/"
        },
        "id": "H1VfxaB3VsHr",
        "outputId": "d8924690-a144-4288-e924-d8c95d48f510"
      },
      "execution_count": 30,
      "outputs": [
        {
          "output_type": "execute_result",
          "data": {
            "text/plain": [
              "36.627450980392155"
            ]
          },
          "metadata": {},
          "execution_count": 30
        }
      ]
    },
    {
      "cell_type": "code",
      "source": [
        "# NaN 값이 아닐 경우의 quality가 측정된 기간\n",
        "test_qual[~test_qual['fwver'].isnull()].groupby('user_id')['time'].unique().to_frame()['time'].str.len().mean()"
      ],
      "metadata": {
        "colab": {
          "base_uri": "https://localhost:8080/"
        },
        "id": "e2QvS15zV4cB",
        "outputId": "fc7468b3-1f04-4725-8dbd-8bd16fd95a6b"
      },
      "execution_count": 31,
      "outputs": [
        {
          "output_type": "execute_result",
          "data": {
            "text/plain": [
              "7.348095875410634"
            ]
          },
          "metadata": {},
          "execution_count": 31
        }
      ]
    },
    {
      "cell_type": "code",
      "source": [
        "fwms_idx = test_qual[test_qual['fwver'].isnull()].index\n",
        "test_qual = test_qual.drop(fwms_idx)"
      ],
      "metadata": {
        "id": "Wv43Adc7WSiU"
      },
      "execution_count": 32,
      "outputs": []
    },
    {
      "cell_type": "markdown",
      "source": [
        "- quality_0, quality_1, quality_2, quality_5 결측치 제거"
      ],
      "metadata": {
        "id": "ByQQ9JO9XNkE"
      }
    },
    {
      "cell_type": "code",
      "source": [
        "for i in test_qual.columns[3:]:\n",
        "    test_qual[i] = test_qual[i].fillna(test_qual[i].mode(0)[0])"
      ],
      "metadata": {
        "id": "CVmr02n0XRgr"
      },
      "execution_count": 33,
      "outputs": []
    },
    {
      "cell_type": "markdown",
      "source": [
        "- 결측치가 제대로 제거(또는 대체)되었는지 확인"
      ],
      "metadata": {
        "id": "kn50QlhtXizr"
      }
    },
    {
      "cell_type": "code",
      "source": [
        "print(train_err.isnull().sum().sum(), end=\", \")\n",
        "print(test_err.isnull().sum().sum(), end=\", \")\n",
        "print(train_qual.isnull().sum().sum(), end=\", \")\n",
        "print(test_qual.isnull().sum().sum())"
      ],
      "metadata": {
        "colab": {
          "base_uri": "https://localhost:8080/"
        },
        "id": "fgKG32KAXntv",
        "outputId": "968701db-7c65-417a-b3eb-78b186bd0f5c"
      },
      "execution_count": 34,
      "outputs": [
        {
          "output_type": "stream",
          "name": "stdout",
          "text": [
            "1, 0, 0, 0\n"
          ]
        }
      ]
    },
    {
      "cell_type": "markdown",
      "source": [
        "- NaN 값을 갖는 경우 quality가 지속적으로 오랜기간 측정됨\n",
        "- 반대로, NaN값을 갖지 않는 경우 상대적으로 적은기간 측정됨\n",
        "- 따라서, NaN값을 갖는 경우 이상치에 해당 -> 해당 결측치 제거"
      ],
      "metadata": {
        "id": "ClrPxi0OWQIe"
      }
    },
    {
      "cell_type": "markdown",
      "source": [
        "### 3-3. 데이터 기본 전처리\n",
        "1. 변수 타입 통일\n",
        "    - time 변수의 타입을 int에서 datetime으로 변경"
      ],
      "metadata": {
        "id": "pN43ceF_X5m0"
      }
    },
    {
      "cell_type": "code",
      "source": [
        "# time 변수 타입 변경 이전 데이터 저장\n",
        "# train_err.to_csv(save_path + \"train_err_data.csv\", index=False)\n",
        "# train_qual.to_csv(save_path + \"train_quality_data.csv\", index=False)\n",
        "# train_prob.to_csv(save_path + \"train_problem_data.csv\", index=False)\n",
        "\n",
        "# test_err.to_csv(save_path + \"test_err_data.csv\", index=False)\n",
        "# test_qual.to_csv(save_path + \"test_quality_data.csv\", index=False)"
      ],
      "metadata": {
        "id": "RU52BFT5WMhC"
      },
      "execution_count": 35,
      "outputs": []
    },
    {
      "cell_type": "code",
      "source": [
        "def make_datetime(x): # datetime 데이터로 변환\n",
        "    x = str(x)\n",
        "    year = int(x[:4])\n",
        "    month = int(x[4:6])\n",
        "    day = int(x[6:8])\n",
        "    hour = int(x[8:10])\n",
        "    minute = int(x[10:12])\n",
        "    sec = int(x[12:])\n",
        "    return dt.datetime(year, month, day, hour, minute, sec)"
      ],
      "metadata": {
        "id": "dA6JAS3IYxXk"
      },
      "execution_count": 36,
      "outputs": []
    },
    {
      "cell_type": "code",
      "source": [
        "train_err.time = train_err.time.apply(lambda x : make_datetime(x))"
      ],
      "metadata": {
        "id": "W8QKZM4oZYei"
      },
      "execution_count": 37,
      "outputs": []
    },
    {
      "cell_type": "code",
      "source": [
        "train_qual = train_qual.sort_values(['user_id','time']).reset_index(drop=True)\n",
        "train_qual.time = train_qual.time.apply(lambda x : make_datetime(x))"
      ],
      "metadata": {
        "id": "iaCccoejZduu"
      },
      "execution_count": 38,
      "outputs": []
    },
    {
      "cell_type": "code",
      "source": [
        "train_prob = train_prob.sort_values(['user_id','time']).reset_index(drop=True)\n",
        "train_prob.time = train_prob.time.apply(lambda x : make_datetime(x))"
      ],
      "metadata": {
        "id": "sMQyXj8eZt4b"
      },
      "execution_count": 39,
      "outputs": []
    },
    {
      "cell_type": "code",
      "source": [
        "test_err.time = test_err.time.apply(lambda x : make_datetime(x))"
      ],
      "metadata": {
        "id": "NRONh70IaB1C"
      },
      "execution_count": 40,
      "outputs": []
    },
    {
      "cell_type": "code",
      "source": [
        "test_qual.time = test_qual.time.apply(lambda x : make_datetime(x))"
      ],
      "metadata": {
        "id": "6AKfMRCgaIGT"
      },
      "execution_count": 41,
      "outputs": []
    },
    {
      "cell_type": "code",
      "source": [
        "train_qual"
      ],
      "metadata": {
        "colab": {
          "base_uri": "https://localhost:8080/",
          "height": 835
        },
        "id": "s0vjqRZ_aOc1",
        "outputId": "d11f8dd8-f5da-40e8-bd09-28104db523f3"
      },
      "execution_count": 42,
      "outputs": [
        {
          "output_type": "execute_result",
          "data": {
            "text/plain": [
              "                      time  user_id       fwver  quality_0  quality_1  \\\n",
              "0      2020-11-29 09:00:00    10000  05.15.2138    0.00000          0   \n",
              "1      2020-11-29 09:00:00    10000  05.15.2138    0.00000          0   \n",
              "2      2020-11-29 09:00:00    10000  05.15.2138    0.00000          0   \n",
              "3      2020-11-29 09:00:00    10000  05.15.2138    0.00000          0   \n",
              "4      2020-11-29 09:00:00    10000  05.15.2138    0.00000          0   \n",
              "...                    ...      ...         ...        ...        ...   \n",
              "788539 2020-11-24 03:30:00    24997  04.22.1778    0.00000          0   \n",
              "788540 2020-11-24 03:30:00    24997  04.22.1778    0.00000          0   \n",
              "788541 2020-11-24 03:30:00    24997  04.22.1778    0.00000          0   \n",
              "788542 2020-11-24 03:30:00    24997  04.22.1778    0.00000          0   \n",
              "788543 2020-11-24 03:30:00    24997  04.22.1778    0.00000          0   \n",
              "\n",
              "        quality_2  quality_3  quality_4 quality_5  quality_6 quality_7  \\\n",
              "0         0.00000          0          0         0          0         0   \n",
              "1         0.00000          0          0         0          0         0   \n",
              "2         0.00000          0          0         0          0         0   \n",
              "3         0.00000          0          0         0          0         0   \n",
              "4         0.00000          0          0         0          0         0   \n",
              "...           ...        ...        ...       ...        ...       ...   \n",
              "788539    0.00000          0          0         1          0         0   \n",
              "788540    0.00000          0          0         0          0         0   \n",
              "788541    0.00000          0          0         3          0         0   \n",
              "788542    0.00000          0          0         0          0         0   \n",
              "788543    0.00000          0          0         9          0         0   \n",
              "\n",
              "       quality_8 quality_9 quality_10  quality_11  quality_12  \n",
              "0              0         0          4           0           0  \n",
              "1              0         0          4           0           0  \n",
              "2              0         0          4           0           0  \n",
              "3              0         0          4           0           0  \n",
              "4              0         0          4           0           0  \n",
              "...          ...       ...        ...         ...         ...  \n",
              "788539         0         0         17           0           0  \n",
              "788540         0         0         17           0           0  \n",
              "788541         0         0         17           0           0  \n",
              "788542         0         0         17           0           0  \n",
              "788543         0         0         17           0           0  \n",
              "\n",
              "[788544 rows x 16 columns]"
            ],
            "text/html": [
              "\n",
              "  <div id=\"df-fa77cdd0-2ccc-45be-87e6-20273bb025da\">\n",
              "    <div class=\"colab-df-container\">\n",
              "      <div>\n",
              "<style scoped>\n",
              "    .dataframe tbody tr th:only-of-type {\n",
              "        vertical-align: middle;\n",
              "    }\n",
              "\n",
              "    .dataframe tbody tr th {\n",
              "        vertical-align: top;\n",
              "    }\n",
              "\n",
              "    .dataframe thead th {\n",
              "        text-align: right;\n",
              "    }\n",
              "</style>\n",
              "<table border=\"1\" class=\"dataframe\">\n",
              "  <thead>\n",
              "    <tr style=\"text-align: right;\">\n",
              "      <th></th>\n",
              "      <th>time</th>\n",
              "      <th>user_id</th>\n",
              "      <th>fwver</th>\n",
              "      <th>quality_0</th>\n",
              "      <th>quality_1</th>\n",
              "      <th>quality_2</th>\n",
              "      <th>quality_3</th>\n",
              "      <th>quality_4</th>\n",
              "      <th>quality_5</th>\n",
              "      <th>quality_6</th>\n",
              "      <th>quality_7</th>\n",
              "      <th>quality_8</th>\n",
              "      <th>quality_9</th>\n",
              "      <th>quality_10</th>\n",
              "      <th>quality_11</th>\n",
              "      <th>quality_12</th>\n",
              "    </tr>\n",
              "  </thead>\n",
              "  <tbody>\n",
              "    <tr>\n",
              "      <th>0</th>\n",
              "      <td>2020-11-29 09:00:00</td>\n",
              "      <td>10000</td>\n",
              "      <td>05.15.2138</td>\n",
              "      <td>0.00000</td>\n",
              "      <td>0</td>\n",
              "      <td>0.00000</td>\n",
              "      <td>0</td>\n",
              "      <td>0</td>\n",
              "      <td>0</td>\n",
              "      <td>0</td>\n",
              "      <td>0</td>\n",
              "      <td>0</td>\n",
              "      <td>0</td>\n",
              "      <td>4</td>\n",
              "      <td>0</td>\n",
              "      <td>0</td>\n",
              "    </tr>\n",
              "    <tr>\n",
              "      <th>1</th>\n",
              "      <td>2020-11-29 09:00:00</td>\n",
              "      <td>10000</td>\n",
              "      <td>05.15.2138</td>\n",
              "      <td>0.00000</td>\n",
              "      <td>0</td>\n",
              "      <td>0.00000</td>\n",
              "      <td>0</td>\n",
              "      <td>0</td>\n",
              "      <td>0</td>\n",
              "      <td>0</td>\n",
              "      <td>0</td>\n",
              "      <td>0</td>\n",
              "      <td>0</td>\n",
              "      <td>4</td>\n",
              "      <td>0</td>\n",
              "      <td>0</td>\n",
              "    </tr>\n",
              "    <tr>\n",
              "      <th>2</th>\n",
              "      <td>2020-11-29 09:00:00</td>\n",
              "      <td>10000</td>\n",
              "      <td>05.15.2138</td>\n",
              "      <td>0.00000</td>\n",
              "      <td>0</td>\n",
              "      <td>0.00000</td>\n",
              "      <td>0</td>\n",
              "      <td>0</td>\n",
              "      <td>0</td>\n",
              "      <td>0</td>\n",
              "      <td>0</td>\n",
              "      <td>0</td>\n",
              "      <td>0</td>\n",
              "      <td>4</td>\n",
              "      <td>0</td>\n",
              "      <td>0</td>\n",
              "    </tr>\n",
              "    <tr>\n",
              "      <th>3</th>\n",
              "      <td>2020-11-29 09:00:00</td>\n",
              "      <td>10000</td>\n",
              "      <td>05.15.2138</td>\n",
              "      <td>0.00000</td>\n",
              "      <td>0</td>\n",
              "      <td>0.00000</td>\n",
              "      <td>0</td>\n",
              "      <td>0</td>\n",
              "      <td>0</td>\n",
              "      <td>0</td>\n",
              "      <td>0</td>\n",
              "      <td>0</td>\n",
              "      <td>0</td>\n",
              "      <td>4</td>\n",
              "      <td>0</td>\n",
              "      <td>0</td>\n",
              "    </tr>\n",
              "    <tr>\n",
              "      <th>4</th>\n",
              "      <td>2020-11-29 09:00:00</td>\n",
              "      <td>10000</td>\n",
              "      <td>05.15.2138</td>\n",
              "      <td>0.00000</td>\n",
              "      <td>0</td>\n",
              "      <td>0.00000</td>\n",
              "      <td>0</td>\n",
              "      <td>0</td>\n",
              "      <td>0</td>\n",
              "      <td>0</td>\n",
              "      <td>0</td>\n",
              "      <td>0</td>\n",
              "      <td>0</td>\n",
              "      <td>4</td>\n",
              "      <td>0</td>\n",
              "      <td>0</td>\n",
              "    </tr>\n",
              "    <tr>\n",
              "      <th>...</th>\n",
              "      <td>...</td>\n",
              "      <td>...</td>\n",
              "      <td>...</td>\n",
              "      <td>...</td>\n",
              "      <td>...</td>\n",
              "      <td>...</td>\n",
              "      <td>...</td>\n",
              "      <td>...</td>\n",
              "      <td>...</td>\n",
              "      <td>...</td>\n",
              "      <td>...</td>\n",
              "      <td>...</td>\n",
              "      <td>...</td>\n",
              "      <td>...</td>\n",
              "      <td>...</td>\n",
              "      <td>...</td>\n",
              "    </tr>\n",
              "    <tr>\n",
              "      <th>788539</th>\n",
              "      <td>2020-11-24 03:30:00</td>\n",
              "      <td>24997</td>\n",
              "      <td>04.22.1778</td>\n",
              "      <td>0.00000</td>\n",
              "      <td>0</td>\n",
              "      <td>0.00000</td>\n",
              "      <td>0</td>\n",
              "      <td>0</td>\n",
              "      <td>1</td>\n",
              "      <td>0</td>\n",
              "      <td>0</td>\n",
              "      <td>0</td>\n",
              "      <td>0</td>\n",
              "      <td>17</td>\n",
              "      <td>0</td>\n",
              "      <td>0</td>\n",
              "    </tr>\n",
              "    <tr>\n",
              "      <th>788540</th>\n",
              "      <td>2020-11-24 03:30:00</td>\n",
              "      <td>24997</td>\n",
              "      <td>04.22.1778</td>\n",
              "      <td>0.00000</td>\n",
              "      <td>0</td>\n",
              "      <td>0.00000</td>\n",
              "      <td>0</td>\n",
              "      <td>0</td>\n",
              "      <td>0</td>\n",
              "      <td>0</td>\n",
              "      <td>0</td>\n",
              "      <td>0</td>\n",
              "      <td>0</td>\n",
              "      <td>17</td>\n",
              "      <td>0</td>\n",
              "      <td>0</td>\n",
              "    </tr>\n",
              "    <tr>\n",
              "      <th>788541</th>\n",
              "      <td>2020-11-24 03:30:00</td>\n",
              "      <td>24997</td>\n",
              "      <td>04.22.1778</td>\n",
              "      <td>0.00000</td>\n",
              "      <td>0</td>\n",
              "      <td>0.00000</td>\n",
              "      <td>0</td>\n",
              "      <td>0</td>\n",
              "      <td>3</td>\n",
              "      <td>0</td>\n",
              "      <td>0</td>\n",
              "      <td>0</td>\n",
              "      <td>0</td>\n",
              "      <td>17</td>\n",
              "      <td>0</td>\n",
              "      <td>0</td>\n",
              "    </tr>\n",
              "    <tr>\n",
              "      <th>788542</th>\n",
              "      <td>2020-11-24 03:30:00</td>\n",
              "      <td>24997</td>\n",
              "      <td>04.22.1778</td>\n",
              "      <td>0.00000</td>\n",
              "      <td>0</td>\n",
              "      <td>0.00000</td>\n",
              "      <td>0</td>\n",
              "      <td>0</td>\n",
              "      <td>0</td>\n",
              "      <td>0</td>\n",
              "      <td>0</td>\n",
              "      <td>0</td>\n",
              "      <td>0</td>\n",
              "      <td>17</td>\n",
              "      <td>0</td>\n",
              "      <td>0</td>\n",
              "    </tr>\n",
              "    <tr>\n",
              "      <th>788543</th>\n",
              "      <td>2020-11-24 03:30:00</td>\n",
              "      <td>24997</td>\n",
              "      <td>04.22.1778</td>\n",
              "      <td>0.00000</td>\n",
              "      <td>0</td>\n",
              "      <td>0.00000</td>\n",
              "      <td>0</td>\n",
              "      <td>0</td>\n",
              "      <td>9</td>\n",
              "      <td>0</td>\n",
              "      <td>0</td>\n",
              "      <td>0</td>\n",
              "      <td>0</td>\n",
              "      <td>17</td>\n",
              "      <td>0</td>\n",
              "      <td>0</td>\n",
              "    </tr>\n",
              "  </tbody>\n",
              "</table>\n",
              "<p>788544 rows × 16 columns</p>\n",
              "</div>\n",
              "      <button class=\"colab-df-convert\" onclick=\"convertToInteractive('df-fa77cdd0-2ccc-45be-87e6-20273bb025da')\"\n",
              "              title=\"Convert this dataframe to an interactive table.\"\n",
              "              style=\"display:none;\">\n",
              "        \n",
              "  <svg xmlns=\"http://www.w3.org/2000/svg\" height=\"24px\"viewBox=\"0 0 24 24\"\n",
              "       width=\"24px\">\n",
              "    <path d=\"M0 0h24v24H0V0z\" fill=\"none\"/>\n",
              "    <path d=\"M18.56 5.44l.94 2.06.94-2.06 2.06-.94-2.06-.94-.94-2.06-.94 2.06-2.06.94zm-11 1L8.5 8.5l.94-2.06 2.06-.94-2.06-.94L8.5 2.5l-.94 2.06-2.06.94zm10 10l.94 2.06.94-2.06 2.06-.94-2.06-.94-.94-2.06-.94 2.06-2.06.94z\"/><path d=\"M17.41 7.96l-1.37-1.37c-.4-.4-.92-.59-1.43-.59-.52 0-1.04.2-1.43.59L10.3 9.45l-7.72 7.72c-.78.78-.78 2.05 0 2.83L4 21.41c.39.39.9.59 1.41.59.51 0 1.02-.2 1.41-.59l7.78-7.78 2.81-2.81c.8-.78.8-2.07 0-2.86zM5.41 20L4 18.59l7.72-7.72 1.47 1.35L5.41 20z\"/>\n",
              "  </svg>\n",
              "      </button>\n",
              "      \n",
              "  <style>\n",
              "    .colab-df-container {\n",
              "      display:flex;\n",
              "      flex-wrap:wrap;\n",
              "      gap: 12px;\n",
              "    }\n",
              "\n",
              "    .colab-df-convert {\n",
              "      background-color: #E8F0FE;\n",
              "      border: none;\n",
              "      border-radius: 50%;\n",
              "      cursor: pointer;\n",
              "      display: none;\n",
              "      fill: #1967D2;\n",
              "      height: 32px;\n",
              "      padding: 0 0 0 0;\n",
              "      width: 32px;\n",
              "    }\n",
              "\n",
              "    .colab-df-convert:hover {\n",
              "      background-color: #E2EBFA;\n",
              "      box-shadow: 0px 1px 2px rgba(60, 64, 67, 0.3), 0px 1px 3px 1px rgba(60, 64, 67, 0.15);\n",
              "      fill: #174EA6;\n",
              "    }\n",
              "\n",
              "    [theme=dark] .colab-df-convert {\n",
              "      background-color: #3B4455;\n",
              "      fill: #D2E3FC;\n",
              "    }\n",
              "\n",
              "    [theme=dark] .colab-df-convert:hover {\n",
              "      background-color: #434B5C;\n",
              "      box-shadow: 0px 1px 3px 1px rgba(0, 0, 0, 0.15);\n",
              "      filter: drop-shadow(0px 1px 2px rgba(0, 0, 0, 0.3));\n",
              "      fill: #FFFFFF;\n",
              "    }\n",
              "  </style>\n",
              "\n",
              "      <script>\n",
              "        const buttonEl =\n",
              "          document.querySelector('#df-fa77cdd0-2ccc-45be-87e6-20273bb025da button.colab-df-convert');\n",
              "        buttonEl.style.display =\n",
              "          google.colab.kernel.accessAllowed ? 'block' : 'none';\n",
              "\n",
              "        async function convertToInteractive(key) {\n",
              "          const element = document.querySelector('#df-fa77cdd0-2ccc-45be-87e6-20273bb025da');\n",
              "          const dataTable =\n",
              "            await google.colab.kernel.invokeFunction('convertToInteractive',\n",
              "                                                     [key], {});\n",
              "          if (!dataTable) return;\n",
              "\n",
              "          const docLinkHtml = 'Like what you see? Visit the ' +\n",
              "            '<a target=\"_blank\" href=https://colab.research.google.com/notebooks/data_table.ipynb>data table notebook</a>'\n",
              "            + ' to learn more about interactive tables.';\n",
              "          element.innerHTML = '';\n",
              "          dataTable['output_type'] = 'display_data';\n",
              "          await google.colab.output.renderOutput(dataTable, element);\n",
              "          const docLink = document.createElement('div');\n",
              "          docLink.innerHTML = docLinkHtml;\n",
              "          element.appendChild(docLink);\n",
              "        }\n",
              "      </script>\n",
              "    </div>\n",
              "  </div>\n",
              "  "
            ]
          },
          "metadata": {},
          "execution_count": 42
        }
      ]
    },
    {
      "cell_type": "markdown",
      "source": [
        "- quality 변수의 타입을 object(또는 float)에서 int로 변경"
      ],
      "metadata": {
        "id": "wKq1-yVkaRXx"
      }
    },
    {
      "cell_type": "code",
      "source": [
        "def str2int(x):\n",
        "    if type(x) == str:\n",
        "        x = x.replace(\",\",\"\")\n",
        "        x = int(x)\n",
        "        return x\n",
        "    else:\n",
        "        x = int(x)\n",
        "        return x"
      ],
      "metadata": {
        "id": "DDE2eFVuaP-v"
      },
      "execution_count": 43,
      "outputs": []
    },
    {
      "cell_type": "code",
      "source": [
        "for i in train_qual.columns[3:]:\n",
        "    train_qual[i] = train_qual[i].apply(lambda x :str2int(x))"
      ],
      "metadata": {
        "id": "phd0uuAQamuD"
      },
      "execution_count": 44,
      "outputs": []
    },
    {
      "cell_type": "code",
      "source": [
        "for i in test_qual.columns[3:]:\n",
        "    test_qual[i] = test_qual[i].apply(lambda x : str2int(x))"
      ],
      "metadata": {
        "id": "9CHhYPDuaw95"
      },
      "execution_count": 45,
      "outputs": []
    },
    {
      "cell_type": "markdown",
      "source": [
        "## 3-4. 이상치 확인\n",
        "1. fwver의 이상치 확인\n",
        "    - 펌웨어 버전의 운용 기간이 **비정상적으로 짧은 것**들이 존재하였음  \n",
        "        -> 해당 펌웨어 버전을 사용한 유전는 펌웨어 버전당 한 명뿐이었음  \n",
        "        -> 따라서, 이러한 버전을 사용한 유저는 이상치에 속한다고 보고 데이터를 확인하였음"
      ],
      "metadata": {
        "id": "JEboFdeJa6X_"
      }
    },
    {
      "cell_type": "code",
      "source": [
        "temp = train_err[['time','fwver']].groupby('fwver').time.unique() # train_err_data에 time과 fwver 컬럼을 가져와 fwver를 기준으로 묶고 time이 unique한 것들을 temp라는 변수에 담음\n",
        "df = pd.DataFrame(columns = ['fwver','start','end']) # 새로운 dataframe 생성\n",
        "for i in range(len(temp)):\n",
        "    temp.values[i].sort() # temp에 담긴 값들을 정렬\n",
        "    df = df.append(pd.Series([temp.index[i], temp.values[i][0], temp.values[i][-1]], index=df.columns),\n",
        "                   ignore_index = True) # 펌웨어 운용의 시작날짜와 끝난날짜를 df에 담음"
      ],
      "metadata": {
        "id": "rhP-GZlpa5RP"
      },
      "execution_count": 46,
      "outputs": []
    },
    {
      "cell_type": "code",
      "source": [
        "def find_abnormal(x): # x를 살펴본 기간 차이\n",
        "    for fwver, st, ed in tqdm(df.values):\n",
        "        if((ed - st).days < x):\n",
        "            user = train_err[train_err['fwver']==fwver].user_id.unique()"
      ],
      "metadata": {
        "id": "IOBbHWoHb7e6"
      },
      "execution_count": 47,
      "outputs": []
    },
    {
      "cell_type": "code",
      "source": [
        "find_abnormal(3) # fwver : 펌웨어 버전 # per_num : 사용한 유저의 수 # id : 사용한 유저의 id"
      ],
      "metadata": {
        "colab": {
          "base_uri": "https://localhost:8080/"
        },
        "id": "QNPLfBEzg1mH",
        "outputId": "8c19ccc5-a3ab-4f21-9b94-2ad0bc107aa8"
      },
      "execution_count": 48,
      "outputs": [
        {
          "output_type": "stream",
          "name": "stderr",
          "text": [
            "100%|██████████| 37/37 [00:03<00:00, 11.61it/s]\n"
          ]
        }
      ]
    },
    {
      "cell_type": "markdown",
      "source": [
        "- 18142번 유저는 약 3분동안 혼자 05.15.2090 버전을 사용하였음 → 퀄리티값에 이상이 없음, 에러 로그 존재함 → 불만 제기 안함\n",
        "- 19831번 유저는 하루~이틀동안 혼자 04.22.1656 버전을 사용하였음 → 퀄리티값에 이상이 있음, 에러 로그 존재함 → 불만 제기\n",
        "- 24279번 유저는 약 18분동안 혼자 05.15.2092 버전을 사용하였음 → 퀄리티값에 이상이 없음, 에러 로그 존재함 → 불만 제기\n",
        "\n"
      ],
      "metadata": {
        "id": "TDg6usoFhIvu"
      }
    },
    {
      "cell_type": "code",
      "source": [
        "abnormal_lst = [18142, 19831, 24279]\n",
        "display(train_prob[train_prob['user_id'].isin(abnormal_lst)]) # 해당 유저들이 불만을 제기했는지 확인\n",
        "# display(train_qual[train_qual['user_id'].isin(abnormal_lst)]) # 해당 유저들의 quality 값에 이상이 있는지 확인\n",
        "# display(train_err[train_err['user_id'].isin(abnormal_lst)][:50]) # 해당 유저의 error data 확인"
      ],
      "metadata": {
        "colab": {
          "base_uri": "https://localhost:8080/",
          "height": 112
        },
        "id": "_eGWTEKHhCQ2",
        "outputId": "703ae942-a724-4149-8efa-f2d8250ef264"
      },
      "execution_count": 49,
      "outputs": [
        {
          "output_type": "display_data",
          "data": {
            "text/plain": [
              "      user_id                time\n",
              "3499    19831 2020-11-23 11:00:00\n",
              "5180    24279 2020-11-13 11:00:00"
            ],
            "text/html": [
              "\n",
              "  <div id=\"df-a0957937-36f0-4517-a4e3-5e785b542d14\">\n",
              "    <div class=\"colab-df-container\">\n",
              "      <div>\n",
              "<style scoped>\n",
              "    .dataframe tbody tr th:only-of-type {\n",
              "        vertical-align: middle;\n",
              "    }\n",
              "\n",
              "    .dataframe tbody tr th {\n",
              "        vertical-align: top;\n",
              "    }\n",
              "\n",
              "    .dataframe thead th {\n",
              "        text-align: right;\n",
              "    }\n",
              "</style>\n",
              "<table border=\"1\" class=\"dataframe\">\n",
              "  <thead>\n",
              "    <tr style=\"text-align: right;\">\n",
              "      <th></th>\n",
              "      <th>user_id</th>\n",
              "      <th>time</th>\n",
              "    </tr>\n",
              "  </thead>\n",
              "  <tbody>\n",
              "    <tr>\n",
              "      <th>3499</th>\n",
              "      <td>19831</td>\n",
              "      <td>2020-11-23 11:00:00</td>\n",
              "    </tr>\n",
              "    <tr>\n",
              "      <th>5180</th>\n",
              "      <td>24279</td>\n",
              "      <td>2020-11-13 11:00:00</td>\n",
              "    </tr>\n",
              "  </tbody>\n",
              "</table>\n",
              "</div>\n",
              "      <button class=\"colab-df-convert\" onclick=\"convertToInteractive('df-a0957937-36f0-4517-a4e3-5e785b542d14')\"\n",
              "              title=\"Convert this dataframe to an interactive table.\"\n",
              "              style=\"display:none;\">\n",
              "        \n",
              "  <svg xmlns=\"http://www.w3.org/2000/svg\" height=\"24px\"viewBox=\"0 0 24 24\"\n",
              "       width=\"24px\">\n",
              "    <path d=\"M0 0h24v24H0V0z\" fill=\"none\"/>\n",
              "    <path d=\"M18.56 5.44l.94 2.06.94-2.06 2.06-.94-2.06-.94-.94-2.06-.94 2.06-2.06.94zm-11 1L8.5 8.5l.94-2.06 2.06-.94-2.06-.94L8.5 2.5l-.94 2.06-2.06.94zm10 10l.94 2.06.94-2.06 2.06-.94-2.06-.94-.94-2.06-.94 2.06-2.06.94z\"/><path d=\"M17.41 7.96l-1.37-1.37c-.4-.4-.92-.59-1.43-.59-.52 0-1.04.2-1.43.59L10.3 9.45l-7.72 7.72c-.78.78-.78 2.05 0 2.83L4 21.41c.39.39.9.59 1.41.59.51 0 1.02-.2 1.41-.59l7.78-7.78 2.81-2.81c.8-.78.8-2.07 0-2.86zM5.41 20L4 18.59l7.72-7.72 1.47 1.35L5.41 20z\"/>\n",
              "  </svg>\n",
              "      </button>\n",
              "      \n",
              "  <style>\n",
              "    .colab-df-container {\n",
              "      display:flex;\n",
              "      flex-wrap:wrap;\n",
              "      gap: 12px;\n",
              "    }\n",
              "\n",
              "    .colab-df-convert {\n",
              "      background-color: #E8F0FE;\n",
              "      border: none;\n",
              "      border-radius: 50%;\n",
              "      cursor: pointer;\n",
              "      display: none;\n",
              "      fill: #1967D2;\n",
              "      height: 32px;\n",
              "      padding: 0 0 0 0;\n",
              "      width: 32px;\n",
              "    }\n",
              "\n",
              "    .colab-df-convert:hover {\n",
              "      background-color: #E2EBFA;\n",
              "      box-shadow: 0px 1px 2px rgba(60, 64, 67, 0.3), 0px 1px 3px 1px rgba(60, 64, 67, 0.15);\n",
              "      fill: #174EA6;\n",
              "    }\n",
              "\n",
              "    [theme=dark] .colab-df-convert {\n",
              "      background-color: #3B4455;\n",
              "      fill: #D2E3FC;\n",
              "    }\n",
              "\n",
              "    [theme=dark] .colab-df-convert:hover {\n",
              "      background-color: #434B5C;\n",
              "      box-shadow: 0px 1px 3px 1px rgba(0, 0, 0, 0.15);\n",
              "      filter: drop-shadow(0px 1px 2px rgba(0, 0, 0, 0.3));\n",
              "      fill: #FFFFFF;\n",
              "    }\n",
              "  </style>\n",
              "\n",
              "      <script>\n",
              "        const buttonEl =\n",
              "          document.querySelector('#df-a0957937-36f0-4517-a4e3-5e785b542d14 button.colab-df-convert');\n",
              "        buttonEl.style.display =\n",
              "          google.colab.kernel.accessAllowed ? 'block' : 'none';\n",
              "\n",
              "        async function convertToInteractive(key) {\n",
              "          const element = document.querySelector('#df-a0957937-36f0-4517-a4e3-5e785b542d14');\n",
              "          const dataTable =\n",
              "            await google.colab.kernel.invokeFunction('convertToInteractive',\n",
              "                                                     [key], {});\n",
              "          if (!dataTable) return;\n",
              "\n",
              "          const docLinkHtml = 'Like what you see? Visit the ' +\n",
              "            '<a target=\"_blank\" href=https://colab.research.google.com/notebooks/data_table.ipynb>data table notebook</a>'\n",
              "            + ' to learn more about interactive tables.';\n",
              "          element.innerHTML = '';\n",
              "          dataTable['output_type'] = 'display_data';\n",
              "          await google.colab.output.renderOutput(dataTable, element);\n",
              "          const docLink = document.createElement('div');\n",
              "          docLink.innerHTML = docLinkHtml;\n",
              "          element.appendChild(docLink);\n",
              "        }\n",
              "      </script>\n",
              "    </div>\n",
              "  </div>\n",
              "  "
            ]
          },
          "metadata": {}
        }
      ]
    },
    {
      "cell_type": "markdown",
      "source": [
        "24279번 유저는 이상치라고 생각할 수 있다.  \n",
        "(추후 분석을 통해 이상치임을 더 확실하게 알 수 있다. 따라서 추후 분석 이전에는 제거하지 않는다.)"
      ],
      "metadata": {
        "id": "3E9BFWp2iE3Y"
      }
    },
    {
      "cell_type": "markdown",
      "source": [
        "2. error log 이상치 확인\n",
        "    - 에러 로그양이 적음에도 불만을 제기한 사람들이 존재"
      ],
      "metadata": {
        "id": "BO9Wl3D4iXMl"
      }
    },
    {
      "cell_type": "code",
      "source": [
        "log_lst = list(train_err.groupby('user_id')['errtype'].count().to_frame().sort_values(by='errtype').reset_index().user_id.unique())[:100] # 에러 로그양이 가장 적은 유저 100명\n",
        "\n",
        "print(len(train_prob[train_prob['user_id'].isin(log_lst)])) # 에러 로그가 적은 유저 100명 중, 불만을 제기한 유저\n",
        "print(list(train_prob[train_prob['user_id'].isin(log_lst)].user_id.unique())) # 에러 로그가 적은 유저 100명의 리스트"
      ],
      "metadata": {
        "colab": {
          "base_uri": "https://localhost:8080/"
        },
        "id": "eh8t90JfiBgK",
        "outputId": "2db06d51-0048-459a-81cc-a8896e910d3d"
      },
      "execution_count": 50,
      "outputs": [
        {
          "output_type": "stream",
          "name": "stdout",
          "text": [
            "5\n",
            "[12623, 16980, 20271, 20300, 21040]\n"
          ]
        }
      ]
    },
    {
      "cell_type": "markdown",
      "source": [
        "- 위 5명의 error data & quality data를 살펴봄"
      ],
      "metadata": {
        "id": "yjjByN5ujUP4"
      }
    },
    {
      "cell_type": "code",
      "source": [
        "display(train_err[train_err['user_id'] == 16980])\n",
        "display(train_qual[train_qual['user_id'] == 16980])\n",
        "print(\"\\n\")\n",
        "display(train_err[train_err['user_id'] == 20271])\n",
        "display(train_qual[train_qual['user_id'] == 20271])\n",
        "print(\"\\n\")\n",
        "display(train_err[train_err['user_id'] == 12623])\n",
        "display(train_qual[train_qual['user_id'] == 12623])\n",
        "print(\"\\n\")\n",
        "display(train_err[train_err['user_id'] == 21040])\n",
        "display(train_qual[train_qual['user_id'] == 21040])\n",
        "print(\"\\n\")\n",
        "display(train_err[train_err['user_id'] == 20300])\n",
        "display(train_qual[train_qual['user_id'] == 20300])\n",
        "print(\"\\n\")"
      ],
      "metadata": {
        "colab": {
          "base_uri": "https://localhost:8080/",
          "height": 916
        },
        "id": "UZ4OuBwhjO3M",
        "outputId": "2b29b62b-0552-4a65-afd6-3bdc819f662f"
      },
      "execution_count": 51,
      "outputs": [
        {
          "output_type": "display_data",
          "data": {
            "text/plain": [
              "         user_id                time model_nm fwver  errtype  errcode\n",
              "7787926    16980 2020-11-17 22:44:56  model_6    10        5  S-61001\n",
              "7787927    16980 2020-11-17 22:44:59  model_6    10        5  S-61001"
            ],
            "text/html": [
              "\n",
              "  <div id=\"df-b3d81b10-7170-4edc-bdba-a7d7d2837db1\">\n",
              "    <div class=\"colab-df-container\">\n",
              "      <div>\n",
              "<style scoped>\n",
              "    .dataframe tbody tr th:only-of-type {\n",
              "        vertical-align: middle;\n",
              "    }\n",
              "\n",
              "    .dataframe tbody tr th {\n",
              "        vertical-align: top;\n",
              "    }\n",
              "\n",
              "    .dataframe thead th {\n",
              "        text-align: right;\n",
              "    }\n",
              "</style>\n",
              "<table border=\"1\" class=\"dataframe\">\n",
              "  <thead>\n",
              "    <tr style=\"text-align: right;\">\n",
              "      <th></th>\n",
              "      <th>user_id</th>\n",
              "      <th>time</th>\n",
              "      <th>model_nm</th>\n",
              "      <th>fwver</th>\n",
              "      <th>errtype</th>\n",
              "      <th>errcode</th>\n",
              "    </tr>\n",
              "  </thead>\n",
              "  <tbody>\n",
              "    <tr>\n",
              "      <th>7787926</th>\n",
              "      <td>16980</td>\n",
              "      <td>2020-11-17 22:44:56</td>\n",
              "      <td>model_6</td>\n",
              "      <td>10</td>\n",
              "      <td>5</td>\n",
              "      <td>S-61001</td>\n",
              "    </tr>\n",
              "    <tr>\n",
              "      <th>7787927</th>\n",
              "      <td>16980</td>\n",
              "      <td>2020-11-17 22:44:59</td>\n",
              "      <td>model_6</td>\n",
              "      <td>10</td>\n",
              "      <td>5</td>\n",
              "      <td>S-61001</td>\n",
              "    </tr>\n",
              "  </tbody>\n",
              "</table>\n",
              "</div>\n",
              "      <button class=\"colab-df-convert\" onclick=\"convertToInteractive('df-b3d81b10-7170-4edc-bdba-a7d7d2837db1')\"\n",
              "              title=\"Convert this dataframe to an interactive table.\"\n",
              "              style=\"display:none;\">\n",
              "        \n",
              "  <svg xmlns=\"http://www.w3.org/2000/svg\" height=\"24px\"viewBox=\"0 0 24 24\"\n",
              "       width=\"24px\">\n",
              "    <path d=\"M0 0h24v24H0V0z\" fill=\"none\"/>\n",
              "    <path d=\"M18.56 5.44l.94 2.06.94-2.06 2.06-.94-2.06-.94-.94-2.06-.94 2.06-2.06.94zm-11 1L8.5 8.5l.94-2.06 2.06-.94-2.06-.94L8.5 2.5l-.94 2.06-2.06.94zm10 10l.94 2.06.94-2.06 2.06-.94-2.06-.94-.94-2.06-.94 2.06-2.06.94z\"/><path d=\"M17.41 7.96l-1.37-1.37c-.4-.4-.92-.59-1.43-.59-.52 0-1.04.2-1.43.59L10.3 9.45l-7.72 7.72c-.78.78-.78 2.05 0 2.83L4 21.41c.39.39.9.59 1.41.59.51 0 1.02-.2 1.41-.59l7.78-7.78 2.81-2.81c.8-.78.8-2.07 0-2.86zM5.41 20L4 18.59l7.72-7.72 1.47 1.35L5.41 20z\"/>\n",
              "  </svg>\n",
              "      </button>\n",
              "      \n",
              "  <style>\n",
              "    .colab-df-container {\n",
              "      display:flex;\n",
              "      flex-wrap:wrap;\n",
              "      gap: 12px;\n",
              "    }\n",
              "\n",
              "    .colab-df-convert {\n",
              "      background-color: #E8F0FE;\n",
              "      border: none;\n",
              "      border-radius: 50%;\n",
              "      cursor: pointer;\n",
              "      display: none;\n",
              "      fill: #1967D2;\n",
              "      height: 32px;\n",
              "      padding: 0 0 0 0;\n",
              "      width: 32px;\n",
              "    }\n",
              "\n",
              "    .colab-df-convert:hover {\n",
              "      background-color: #E2EBFA;\n",
              "      box-shadow: 0px 1px 2px rgba(60, 64, 67, 0.3), 0px 1px 3px 1px rgba(60, 64, 67, 0.15);\n",
              "      fill: #174EA6;\n",
              "    }\n",
              "\n",
              "    [theme=dark] .colab-df-convert {\n",
              "      background-color: #3B4455;\n",
              "      fill: #D2E3FC;\n",
              "    }\n",
              "\n",
              "    [theme=dark] .colab-df-convert:hover {\n",
              "      background-color: #434B5C;\n",
              "      box-shadow: 0px 1px 3px 1px rgba(0, 0, 0, 0.15);\n",
              "      filter: drop-shadow(0px 1px 2px rgba(0, 0, 0, 0.3));\n",
              "      fill: #FFFFFF;\n",
              "    }\n",
              "  </style>\n",
              "\n",
              "      <script>\n",
              "        const buttonEl =\n",
              "          document.querySelector('#df-b3d81b10-7170-4edc-bdba-a7d7d2837db1 button.colab-df-convert');\n",
              "        buttonEl.style.display =\n",
              "          google.colab.kernel.accessAllowed ? 'block' : 'none';\n",
              "\n",
              "        async function convertToInteractive(key) {\n",
              "          const element = document.querySelector('#df-b3d81b10-7170-4edc-bdba-a7d7d2837db1');\n",
              "          const dataTable =\n",
              "            await google.colab.kernel.invokeFunction('convertToInteractive',\n",
              "                                                     [key], {});\n",
              "          if (!dataTable) return;\n",
              "\n",
              "          const docLinkHtml = 'Like what you see? Visit the ' +\n",
              "            '<a target=\"_blank\" href=https://colab.research.google.com/notebooks/data_table.ipynb>data table notebook</a>'\n",
              "            + ' to learn more about interactive tables.';\n",
              "          element.innerHTML = '';\n",
              "          dataTable['output_type'] = 'display_data';\n",
              "          await google.colab.output.renderOutput(dataTable, element);\n",
              "          const docLink = document.createElement('div');\n",
              "          docLink.innerHTML = docLinkHtml;\n",
              "          element.appendChild(docLink);\n",
              "        }\n",
              "      </script>\n",
              "    </div>\n",
              "  </div>\n",
              "  "
            ]
          },
          "metadata": {}
        },
        {
          "output_type": "display_data",
          "data": {
            "text/plain": [
              "Empty DataFrame\n",
              "Columns: [time, user_id, fwver, quality_0, quality_1, quality_2, quality_3, quality_4, quality_5, quality_6, quality_7, quality_8, quality_9, quality_10, quality_11, quality_12]\n",
              "Index: []"
            ],
            "text/html": [
              "\n",
              "  <div id=\"df-a59e2704-e0c7-4eaf-859c-ebea65a04cfd\">\n",
              "    <div class=\"colab-df-container\">\n",
              "      <div>\n",
              "<style scoped>\n",
              "    .dataframe tbody tr th:only-of-type {\n",
              "        vertical-align: middle;\n",
              "    }\n",
              "\n",
              "    .dataframe tbody tr th {\n",
              "        vertical-align: top;\n",
              "    }\n",
              "\n",
              "    .dataframe thead th {\n",
              "        text-align: right;\n",
              "    }\n",
              "</style>\n",
              "<table border=\"1\" class=\"dataframe\">\n",
              "  <thead>\n",
              "    <tr style=\"text-align: right;\">\n",
              "      <th></th>\n",
              "      <th>time</th>\n",
              "      <th>user_id</th>\n",
              "      <th>fwver</th>\n",
              "      <th>quality_0</th>\n",
              "      <th>quality_1</th>\n",
              "      <th>quality_2</th>\n",
              "      <th>quality_3</th>\n",
              "      <th>quality_4</th>\n",
              "      <th>quality_5</th>\n",
              "      <th>quality_6</th>\n",
              "      <th>quality_7</th>\n",
              "      <th>quality_8</th>\n",
              "      <th>quality_9</th>\n",
              "      <th>quality_10</th>\n",
              "      <th>quality_11</th>\n",
              "      <th>quality_12</th>\n",
              "    </tr>\n",
              "  </thead>\n",
              "  <tbody>\n",
              "  </tbody>\n",
              "</table>\n",
              "</div>\n",
              "      <button class=\"colab-df-convert\" onclick=\"convertToInteractive('df-a59e2704-e0c7-4eaf-859c-ebea65a04cfd')\"\n",
              "              title=\"Convert this dataframe to an interactive table.\"\n",
              "              style=\"display:none;\">\n",
              "        \n",
              "  <svg xmlns=\"http://www.w3.org/2000/svg\" height=\"24px\"viewBox=\"0 0 24 24\"\n",
              "       width=\"24px\">\n",
              "    <path d=\"M0 0h24v24H0V0z\" fill=\"none\"/>\n",
              "    <path d=\"M18.56 5.44l.94 2.06.94-2.06 2.06-.94-2.06-.94-.94-2.06-.94 2.06-2.06.94zm-11 1L8.5 8.5l.94-2.06 2.06-.94-2.06-.94L8.5 2.5l-.94 2.06-2.06.94zm10 10l.94 2.06.94-2.06 2.06-.94-2.06-.94-.94-2.06-.94 2.06-2.06.94z\"/><path d=\"M17.41 7.96l-1.37-1.37c-.4-.4-.92-.59-1.43-.59-.52 0-1.04.2-1.43.59L10.3 9.45l-7.72 7.72c-.78.78-.78 2.05 0 2.83L4 21.41c.39.39.9.59 1.41.59.51 0 1.02-.2 1.41-.59l7.78-7.78 2.81-2.81c.8-.78.8-2.07 0-2.86zM5.41 20L4 18.59l7.72-7.72 1.47 1.35L5.41 20z\"/>\n",
              "  </svg>\n",
              "      </button>\n",
              "      \n",
              "  <style>\n",
              "    .colab-df-container {\n",
              "      display:flex;\n",
              "      flex-wrap:wrap;\n",
              "      gap: 12px;\n",
              "    }\n",
              "\n",
              "    .colab-df-convert {\n",
              "      background-color: #E8F0FE;\n",
              "      border: none;\n",
              "      border-radius: 50%;\n",
              "      cursor: pointer;\n",
              "      display: none;\n",
              "      fill: #1967D2;\n",
              "      height: 32px;\n",
              "      padding: 0 0 0 0;\n",
              "      width: 32px;\n",
              "    }\n",
              "\n",
              "    .colab-df-convert:hover {\n",
              "      background-color: #E2EBFA;\n",
              "      box-shadow: 0px 1px 2px rgba(60, 64, 67, 0.3), 0px 1px 3px 1px rgba(60, 64, 67, 0.15);\n",
              "      fill: #174EA6;\n",
              "    }\n",
              "\n",
              "    [theme=dark] .colab-df-convert {\n",
              "      background-color: #3B4455;\n",
              "      fill: #D2E3FC;\n",
              "    }\n",
              "\n",
              "    [theme=dark] .colab-df-convert:hover {\n",
              "      background-color: #434B5C;\n",
              "      box-shadow: 0px 1px 3px 1px rgba(0, 0, 0, 0.15);\n",
              "      filter: drop-shadow(0px 1px 2px rgba(0, 0, 0, 0.3));\n",
              "      fill: #FFFFFF;\n",
              "    }\n",
              "  </style>\n",
              "\n",
              "      <script>\n",
              "        const buttonEl =\n",
              "          document.querySelector('#df-a59e2704-e0c7-4eaf-859c-ebea65a04cfd button.colab-df-convert');\n",
              "        buttonEl.style.display =\n",
              "          google.colab.kernel.accessAllowed ? 'block' : 'none';\n",
              "\n",
              "        async function convertToInteractive(key) {\n",
              "          const element = document.querySelector('#df-a59e2704-e0c7-4eaf-859c-ebea65a04cfd');\n",
              "          const dataTable =\n",
              "            await google.colab.kernel.invokeFunction('convertToInteractive',\n",
              "                                                     [key], {});\n",
              "          if (!dataTable) return;\n",
              "\n",
              "          const docLinkHtml = 'Like what you see? Visit the ' +\n",
              "            '<a target=\"_blank\" href=https://colab.research.google.com/notebooks/data_table.ipynb>data table notebook</a>'\n",
              "            + ' to learn more about interactive tables.';\n",
              "          element.innerHTML = '';\n",
              "          dataTable['output_type'] = 'display_data';\n",
              "          await google.colab.output.renderOutput(dataTable, element);\n",
              "          const docLink = document.createElement('div');\n",
              "          docLink.innerHTML = docLinkHtml;\n",
              "          element.appendChild(docLink);\n",
              "        }\n",
              "      </script>\n",
              "    </div>\n",
              "  </div>\n",
              "  "
            ]
          },
          "metadata": {}
        },
        {
          "output_type": "stream",
          "name": "stdout",
          "text": [
            "\n",
            "\n"
          ]
        },
        {
          "output_type": "display_data",
          "data": {
            "text/plain": [
              "          user_id                time model_nm fwver  errtype  errcode\n",
              "11112255    20271 2020-11-04 22:11:48  model_6    10        5  S-61001\n",
              "11112256    20271 2020-11-05 21:53:00  model_6    10        5  S-61001"
            ],
            "text/html": [
              "\n",
              "  <div id=\"df-09909e41-f25a-42f8-899b-c57a7d60c8ce\">\n",
              "    <div class=\"colab-df-container\">\n",
              "      <div>\n",
              "<style scoped>\n",
              "    .dataframe tbody tr th:only-of-type {\n",
              "        vertical-align: middle;\n",
              "    }\n",
              "\n",
              "    .dataframe tbody tr th {\n",
              "        vertical-align: top;\n",
              "    }\n",
              "\n",
              "    .dataframe thead th {\n",
              "        text-align: right;\n",
              "    }\n",
              "</style>\n",
              "<table border=\"1\" class=\"dataframe\">\n",
              "  <thead>\n",
              "    <tr style=\"text-align: right;\">\n",
              "      <th></th>\n",
              "      <th>user_id</th>\n",
              "      <th>time</th>\n",
              "      <th>model_nm</th>\n",
              "      <th>fwver</th>\n",
              "      <th>errtype</th>\n",
              "      <th>errcode</th>\n",
              "    </tr>\n",
              "  </thead>\n",
              "  <tbody>\n",
              "    <tr>\n",
              "      <th>11112255</th>\n",
              "      <td>20271</td>\n",
              "      <td>2020-11-04 22:11:48</td>\n",
              "      <td>model_6</td>\n",
              "      <td>10</td>\n",
              "      <td>5</td>\n",
              "      <td>S-61001</td>\n",
              "    </tr>\n",
              "    <tr>\n",
              "      <th>11112256</th>\n",
              "      <td>20271</td>\n",
              "      <td>2020-11-05 21:53:00</td>\n",
              "      <td>model_6</td>\n",
              "      <td>10</td>\n",
              "      <td>5</td>\n",
              "      <td>S-61001</td>\n",
              "    </tr>\n",
              "  </tbody>\n",
              "</table>\n",
              "</div>\n",
              "      <button class=\"colab-df-convert\" onclick=\"convertToInteractive('df-09909e41-f25a-42f8-899b-c57a7d60c8ce')\"\n",
              "              title=\"Convert this dataframe to an interactive table.\"\n",
              "              style=\"display:none;\">\n",
              "        \n",
              "  <svg xmlns=\"http://www.w3.org/2000/svg\" height=\"24px\"viewBox=\"0 0 24 24\"\n",
              "       width=\"24px\">\n",
              "    <path d=\"M0 0h24v24H0V0z\" fill=\"none\"/>\n",
              "    <path d=\"M18.56 5.44l.94 2.06.94-2.06 2.06-.94-2.06-.94-.94-2.06-.94 2.06-2.06.94zm-11 1L8.5 8.5l.94-2.06 2.06-.94-2.06-.94L8.5 2.5l-.94 2.06-2.06.94zm10 10l.94 2.06.94-2.06 2.06-.94-2.06-.94-.94-2.06-.94 2.06-2.06.94z\"/><path d=\"M17.41 7.96l-1.37-1.37c-.4-.4-.92-.59-1.43-.59-.52 0-1.04.2-1.43.59L10.3 9.45l-7.72 7.72c-.78.78-.78 2.05 0 2.83L4 21.41c.39.39.9.59 1.41.59.51 0 1.02-.2 1.41-.59l7.78-7.78 2.81-2.81c.8-.78.8-2.07 0-2.86zM5.41 20L4 18.59l7.72-7.72 1.47 1.35L5.41 20z\"/>\n",
              "  </svg>\n",
              "      </button>\n",
              "      \n",
              "  <style>\n",
              "    .colab-df-container {\n",
              "      display:flex;\n",
              "      flex-wrap:wrap;\n",
              "      gap: 12px;\n",
              "    }\n",
              "\n",
              "    .colab-df-convert {\n",
              "      background-color: #E8F0FE;\n",
              "      border: none;\n",
              "      border-radius: 50%;\n",
              "      cursor: pointer;\n",
              "      display: none;\n",
              "      fill: #1967D2;\n",
              "      height: 32px;\n",
              "      padding: 0 0 0 0;\n",
              "      width: 32px;\n",
              "    }\n",
              "\n",
              "    .colab-df-convert:hover {\n",
              "      background-color: #E2EBFA;\n",
              "      box-shadow: 0px 1px 2px rgba(60, 64, 67, 0.3), 0px 1px 3px 1px rgba(60, 64, 67, 0.15);\n",
              "      fill: #174EA6;\n",
              "    }\n",
              "\n",
              "    [theme=dark] .colab-df-convert {\n",
              "      background-color: #3B4455;\n",
              "      fill: #D2E3FC;\n",
              "    }\n",
              "\n",
              "    [theme=dark] .colab-df-convert:hover {\n",
              "      background-color: #434B5C;\n",
              "      box-shadow: 0px 1px 3px 1px rgba(0, 0, 0, 0.15);\n",
              "      filter: drop-shadow(0px 1px 2px rgba(0, 0, 0, 0.3));\n",
              "      fill: #FFFFFF;\n",
              "    }\n",
              "  </style>\n",
              "\n",
              "      <script>\n",
              "        const buttonEl =\n",
              "          document.querySelector('#df-09909e41-f25a-42f8-899b-c57a7d60c8ce button.colab-df-convert');\n",
              "        buttonEl.style.display =\n",
              "          google.colab.kernel.accessAllowed ? 'block' : 'none';\n",
              "\n",
              "        async function convertToInteractive(key) {\n",
              "          const element = document.querySelector('#df-09909e41-f25a-42f8-899b-c57a7d60c8ce');\n",
              "          const dataTable =\n",
              "            await google.colab.kernel.invokeFunction('convertToInteractive',\n",
              "                                                     [key], {});\n",
              "          if (!dataTable) return;\n",
              "\n",
              "          const docLinkHtml = 'Like what you see? Visit the ' +\n",
              "            '<a target=\"_blank\" href=https://colab.research.google.com/notebooks/data_table.ipynb>data table notebook</a>'\n",
              "            + ' to learn more about interactive tables.';\n",
              "          element.innerHTML = '';\n",
              "          dataTable['output_type'] = 'display_data';\n",
              "          await google.colab.output.renderOutput(dataTable, element);\n",
              "          const docLink = document.createElement('div');\n",
              "          docLink.innerHTML = docLinkHtml;\n",
              "          element.appendChild(docLink);\n",
              "        }\n",
              "      </script>\n",
              "    </div>\n",
              "  </div>\n",
              "  "
            ]
          },
          "metadata": {}
        },
        {
          "output_type": "display_data",
          "data": {
            "text/plain": [
              "Empty DataFrame\n",
              "Columns: [time, user_id, fwver, quality_0, quality_1, quality_2, quality_3, quality_4, quality_5, quality_6, quality_7, quality_8, quality_9, quality_10, quality_11, quality_12]\n",
              "Index: []"
            ],
            "text/html": [
              "\n",
              "  <div id=\"df-24949bcd-c6d2-413b-9d8d-1b85e7359d9f\">\n",
              "    <div class=\"colab-df-container\">\n",
              "      <div>\n",
              "<style scoped>\n",
              "    .dataframe tbody tr th:only-of-type {\n",
              "        vertical-align: middle;\n",
              "    }\n",
              "\n",
              "    .dataframe tbody tr th {\n",
              "        vertical-align: top;\n",
              "    }\n",
              "\n",
              "    .dataframe thead th {\n",
              "        text-align: right;\n",
              "    }\n",
              "</style>\n",
              "<table border=\"1\" class=\"dataframe\">\n",
              "  <thead>\n",
              "    <tr style=\"text-align: right;\">\n",
              "      <th></th>\n",
              "      <th>time</th>\n",
              "      <th>user_id</th>\n",
              "      <th>fwver</th>\n",
              "      <th>quality_0</th>\n",
              "      <th>quality_1</th>\n",
              "      <th>quality_2</th>\n",
              "      <th>quality_3</th>\n",
              "      <th>quality_4</th>\n",
              "      <th>quality_5</th>\n",
              "      <th>quality_6</th>\n",
              "      <th>quality_7</th>\n",
              "      <th>quality_8</th>\n",
              "      <th>quality_9</th>\n",
              "      <th>quality_10</th>\n",
              "      <th>quality_11</th>\n",
              "      <th>quality_12</th>\n",
              "    </tr>\n",
              "  </thead>\n",
              "  <tbody>\n",
              "  </tbody>\n",
              "</table>\n",
              "</div>\n",
              "      <button class=\"colab-df-convert\" onclick=\"convertToInteractive('df-24949bcd-c6d2-413b-9d8d-1b85e7359d9f')\"\n",
              "              title=\"Convert this dataframe to an interactive table.\"\n",
              "              style=\"display:none;\">\n",
              "        \n",
              "  <svg xmlns=\"http://www.w3.org/2000/svg\" height=\"24px\"viewBox=\"0 0 24 24\"\n",
              "       width=\"24px\">\n",
              "    <path d=\"M0 0h24v24H0V0z\" fill=\"none\"/>\n",
              "    <path d=\"M18.56 5.44l.94 2.06.94-2.06 2.06-.94-2.06-.94-.94-2.06-.94 2.06-2.06.94zm-11 1L8.5 8.5l.94-2.06 2.06-.94-2.06-.94L8.5 2.5l-.94 2.06-2.06.94zm10 10l.94 2.06.94-2.06 2.06-.94-2.06-.94-.94-2.06-.94 2.06-2.06.94z\"/><path d=\"M17.41 7.96l-1.37-1.37c-.4-.4-.92-.59-1.43-.59-.52 0-1.04.2-1.43.59L10.3 9.45l-7.72 7.72c-.78.78-.78 2.05 0 2.83L4 21.41c.39.39.9.59 1.41.59.51 0 1.02-.2 1.41-.59l7.78-7.78 2.81-2.81c.8-.78.8-2.07 0-2.86zM5.41 20L4 18.59l7.72-7.72 1.47 1.35L5.41 20z\"/>\n",
              "  </svg>\n",
              "      </button>\n",
              "      \n",
              "  <style>\n",
              "    .colab-df-container {\n",
              "      display:flex;\n",
              "      flex-wrap:wrap;\n",
              "      gap: 12px;\n",
              "    }\n",
              "\n",
              "    .colab-df-convert {\n",
              "      background-color: #E8F0FE;\n",
              "      border: none;\n",
              "      border-radius: 50%;\n",
              "      cursor: pointer;\n",
              "      display: none;\n",
              "      fill: #1967D2;\n",
              "      height: 32px;\n",
              "      padding: 0 0 0 0;\n",
              "      width: 32px;\n",
              "    }\n",
              "\n",
              "    .colab-df-convert:hover {\n",
              "      background-color: #E2EBFA;\n",
              "      box-shadow: 0px 1px 2px rgba(60, 64, 67, 0.3), 0px 1px 3px 1px rgba(60, 64, 67, 0.15);\n",
              "      fill: #174EA6;\n",
              "    }\n",
              "\n",
              "    [theme=dark] .colab-df-convert {\n",
              "      background-color: #3B4455;\n",
              "      fill: #D2E3FC;\n",
              "    }\n",
              "\n",
              "    [theme=dark] .colab-df-convert:hover {\n",
              "      background-color: #434B5C;\n",
              "      box-shadow: 0px 1px 3px 1px rgba(0, 0, 0, 0.15);\n",
              "      filter: drop-shadow(0px 1px 2px rgba(0, 0, 0, 0.3));\n",
              "      fill: #FFFFFF;\n",
              "    }\n",
              "  </style>\n",
              "\n",
              "      <script>\n",
              "        const buttonEl =\n",
              "          document.querySelector('#df-24949bcd-c6d2-413b-9d8d-1b85e7359d9f button.colab-df-convert');\n",
              "        buttonEl.style.display =\n",
              "          google.colab.kernel.accessAllowed ? 'block' : 'none';\n",
              "\n",
              "        async function convertToInteractive(key) {\n",
              "          const element = document.querySelector('#df-24949bcd-c6d2-413b-9d8d-1b85e7359d9f');\n",
              "          const dataTable =\n",
              "            await google.colab.kernel.invokeFunction('convertToInteractive',\n",
              "                                                     [key], {});\n",
              "          if (!dataTable) return;\n",
              "\n",
              "          const docLinkHtml = 'Like what you see? Visit the ' +\n",
              "            '<a target=\"_blank\" href=https://colab.research.google.com/notebooks/data_table.ipynb>data table notebook</a>'\n",
              "            + ' to learn more about interactive tables.';\n",
              "          element.innerHTML = '';\n",
              "          dataTable['output_type'] = 'display_data';\n",
              "          await google.colab.output.renderOutput(dataTable, element);\n",
              "          const docLink = document.createElement('div');\n",
              "          docLink.innerHTML = docLinkHtml;\n",
              "          element.appendChild(docLink);\n",
              "        }\n",
              "      </script>\n",
              "    </div>\n",
              "  </div>\n",
              "  "
            ]
          },
          "metadata": {}
        },
        {
          "output_type": "stream",
          "name": "stdout",
          "text": [
            "\n",
            "\n"
          ]
        },
        {
          "output_type": "display_data",
          "data": {
            "text/plain": [
              "         user_id                time model_nm fwver  errtype  errcode\n",
              "2750266    12623 2020-11-04 21:12:52  model_6    10        5  S-61001\n",
              "2750267    12623 2020-11-04 21:13:52  model_6    10        5  S-61001"
            ],
            "text/html": [
              "\n",
              "  <div id=\"df-2b3fb697-386d-4e28-bb5c-ba9eb1150d77\">\n",
              "    <div class=\"colab-df-container\">\n",
              "      <div>\n",
              "<style scoped>\n",
              "    .dataframe tbody tr th:only-of-type {\n",
              "        vertical-align: middle;\n",
              "    }\n",
              "\n",
              "    .dataframe tbody tr th {\n",
              "        vertical-align: top;\n",
              "    }\n",
              "\n",
              "    .dataframe thead th {\n",
              "        text-align: right;\n",
              "    }\n",
              "</style>\n",
              "<table border=\"1\" class=\"dataframe\">\n",
              "  <thead>\n",
              "    <tr style=\"text-align: right;\">\n",
              "      <th></th>\n",
              "      <th>user_id</th>\n",
              "      <th>time</th>\n",
              "      <th>model_nm</th>\n",
              "      <th>fwver</th>\n",
              "      <th>errtype</th>\n",
              "      <th>errcode</th>\n",
              "    </tr>\n",
              "  </thead>\n",
              "  <tbody>\n",
              "    <tr>\n",
              "      <th>2750266</th>\n",
              "      <td>12623</td>\n",
              "      <td>2020-11-04 21:12:52</td>\n",
              "      <td>model_6</td>\n",
              "      <td>10</td>\n",
              "      <td>5</td>\n",
              "      <td>S-61001</td>\n",
              "    </tr>\n",
              "    <tr>\n",
              "      <th>2750267</th>\n",
              "      <td>12623</td>\n",
              "      <td>2020-11-04 21:13:52</td>\n",
              "      <td>model_6</td>\n",
              "      <td>10</td>\n",
              "      <td>5</td>\n",
              "      <td>S-61001</td>\n",
              "    </tr>\n",
              "  </tbody>\n",
              "</table>\n",
              "</div>\n",
              "      <button class=\"colab-df-convert\" onclick=\"convertToInteractive('df-2b3fb697-386d-4e28-bb5c-ba9eb1150d77')\"\n",
              "              title=\"Convert this dataframe to an interactive table.\"\n",
              "              style=\"display:none;\">\n",
              "        \n",
              "  <svg xmlns=\"http://www.w3.org/2000/svg\" height=\"24px\"viewBox=\"0 0 24 24\"\n",
              "       width=\"24px\">\n",
              "    <path d=\"M0 0h24v24H0V0z\" fill=\"none\"/>\n",
              "    <path d=\"M18.56 5.44l.94 2.06.94-2.06 2.06-.94-2.06-.94-.94-2.06-.94 2.06-2.06.94zm-11 1L8.5 8.5l.94-2.06 2.06-.94-2.06-.94L8.5 2.5l-.94 2.06-2.06.94zm10 10l.94 2.06.94-2.06 2.06-.94-2.06-.94-.94-2.06-.94 2.06-2.06.94z\"/><path d=\"M17.41 7.96l-1.37-1.37c-.4-.4-.92-.59-1.43-.59-.52 0-1.04.2-1.43.59L10.3 9.45l-7.72 7.72c-.78.78-.78 2.05 0 2.83L4 21.41c.39.39.9.59 1.41.59.51 0 1.02-.2 1.41-.59l7.78-7.78 2.81-2.81c.8-.78.8-2.07 0-2.86zM5.41 20L4 18.59l7.72-7.72 1.47 1.35L5.41 20z\"/>\n",
              "  </svg>\n",
              "      </button>\n",
              "      \n",
              "  <style>\n",
              "    .colab-df-container {\n",
              "      display:flex;\n",
              "      flex-wrap:wrap;\n",
              "      gap: 12px;\n",
              "    }\n",
              "\n",
              "    .colab-df-convert {\n",
              "      background-color: #E8F0FE;\n",
              "      border: none;\n",
              "      border-radius: 50%;\n",
              "      cursor: pointer;\n",
              "      display: none;\n",
              "      fill: #1967D2;\n",
              "      height: 32px;\n",
              "      padding: 0 0 0 0;\n",
              "      width: 32px;\n",
              "    }\n",
              "\n",
              "    .colab-df-convert:hover {\n",
              "      background-color: #E2EBFA;\n",
              "      box-shadow: 0px 1px 2px rgba(60, 64, 67, 0.3), 0px 1px 3px 1px rgba(60, 64, 67, 0.15);\n",
              "      fill: #174EA6;\n",
              "    }\n",
              "\n",
              "    [theme=dark] .colab-df-convert {\n",
              "      background-color: #3B4455;\n",
              "      fill: #D2E3FC;\n",
              "    }\n",
              "\n",
              "    [theme=dark] .colab-df-convert:hover {\n",
              "      background-color: #434B5C;\n",
              "      box-shadow: 0px 1px 3px 1px rgba(0, 0, 0, 0.15);\n",
              "      filter: drop-shadow(0px 1px 2px rgba(0, 0, 0, 0.3));\n",
              "      fill: #FFFFFF;\n",
              "    }\n",
              "  </style>\n",
              "\n",
              "      <script>\n",
              "        const buttonEl =\n",
              "          document.querySelector('#df-2b3fb697-386d-4e28-bb5c-ba9eb1150d77 button.colab-df-convert');\n",
              "        buttonEl.style.display =\n",
              "          google.colab.kernel.accessAllowed ? 'block' : 'none';\n",
              "\n",
              "        async function convertToInteractive(key) {\n",
              "          const element = document.querySelector('#df-2b3fb697-386d-4e28-bb5c-ba9eb1150d77');\n",
              "          const dataTable =\n",
              "            await google.colab.kernel.invokeFunction('convertToInteractive',\n",
              "                                                     [key], {});\n",
              "          if (!dataTable) return;\n",
              "\n",
              "          const docLinkHtml = 'Like what you see? Visit the ' +\n",
              "            '<a target=\"_blank\" href=https://colab.research.google.com/notebooks/data_table.ipynb>data table notebook</a>'\n",
              "            + ' to learn more about interactive tables.';\n",
              "          element.innerHTML = '';\n",
              "          dataTable['output_type'] = 'display_data';\n",
              "          await google.colab.output.renderOutput(dataTable, element);\n",
              "          const docLink = document.createElement('div');\n",
              "          docLink.innerHTML = docLinkHtml;\n",
              "          element.appendChild(docLink);\n",
              "        }\n",
              "      </script>\n",
              "    </div>\n",
              "  </div>\n",
              "  "
            ]
          },
          "metadata": {}
        },
        {
          "output_type": "display_data",
          "data": {
            "text/plain": [
              "Empty DataFrame\n",
              "Columns: [time, user_id, fwver, quality_0, quality_1, quality_2, quality_3, quality_4, quality_5, quality_6, quality_7, quality_8, quality_9, quality_10, quality_11, quality_12]\n",
              "Index: []"
            ],
            "text/html": [
              "\n",
              "  <div id=\"df-8b3a2e0b-6c8c-4aed-890c-18f8016cecf3\">\n",
              "    <div class=\"colab-df-container\">\n",
              "      <div>\n",
              "<style scoped>\n",
              "    .dataframe tbody tr th:only-of-type {\n",
              "        vertical-align: middle;\n",
              "    }\n",
              "\n",
              "    .dataframe tbody tr th {\n",
              "        vertical-align: top;\n",
              "    }\n",
              "\n",
              "    .dataframe thead th {\n",
              "        text-align: right;\n",
              "    }\n",
              "</style>\n",
              "<table border=\"1\" class=\"dataframe\">\n",
              "  <thead>\n",
              "    <tr style=\"text-align: right;\">\n",
              "      <th></th>\n",
              "      <th>time</th>\n",
              "      <th>user_id</th>\n",
              "      <th>fwver</th>\n",
              "      <th>quality_0</th>\n",
              "      <th>quality_1</th>\n",
              "      <th>quality_2</th>\n",
              "      <th>quality_3</th>\n",
              "      <th>quality_4</th>\n",
              "      <th>quality_5</th>\n",
              "      <th>quality_6</th>\n",
              "      <th>quality_7</th>\n",
              "      <th>quality_8</th>\n",
              "      <th>quality_9</th>\n",
              "      <th>quality_10</th>\n",
              "      <th>quality_11</th>\n",
              "      <th>quality_12</th>\n",
              "    </tr>\n",
              "  </thead>\n",
              "  <tbody>\n",
              "  </tbody>\n",
              "</table>\n",
              "</div>\n",
              "      <button class=\"colab-df-convert\" onclick=\"convertToInteractive('df-8b3a2e0b-6c8c-4aed-890c-18f8016cecf3')\"\n",
              "              title=\"Convert this dataframe to an interactive table.\"\n",
              "              style=\"display:none;\">\n",
              "        \n",
              "  <svg xmlns=\"http://www.w3.org/2000/svg\" height=\"24px\"viewBox=\"0 0 24 24\"\n",
              "       width=\"24px\">\n",
              "    <path d=\"M0 0h24v24H0V0z\" fill=\"none\"/>\n",
              "    <path d=\"M18.56 5.44l.94 2.06.94-2.06 2.06-.94-2.06-.94-.94-2.06-.94 2.06-2.06.94zm-11 1L8.5 8.5l.94-2.06 2.06-.94-2.06-.94L8.5 2.5l-.94 2.06-2.06.94zm10 10l.94 2.06.94-2.06 2.06-.94-2.06-.94-.94-2.06-.94 2.06-2.06.94z\"/><path d=\"M17.41 7.96l-1.37-1.37c-.4-.4-.92-.59-1.43-.59-.52 0-1.04.2-1.43.59L10.3 9.45l-7.72 7.72c-.78.78-.78 2.05 0 2.83L4 21.41c.39.39.9.59 1.41.59.51 0 1.02-.2 1.41-.59l7.78-7.78 2.81-2.81c.8-.78.8-2.07 0-2.86zM5.41 20L4 18.59l7.72-7.72 1.47 1.35L5.41 20z\"/>\n",
              "  </svg>\n",
              "      </button>\n",
              "      \n",
              "  <style>\n",
              "    .colab-df-container {\n",
              "      display:flex;\n",
              "      flex-wrap:wrap;\n",
              "      gap: 12px;\n",
              "    }\n",
              "\n",
              "    .colab-df-convert {\n",
              "      background-color: #E8F0FE;\n",
              "      border: none;\n",
              "      border-radius: 50%;\n",
              "      cursor: pointer;\n",
              "      display: none;\n",
              "      fill: #1967D2;\n",
              "      height: 32px;\n",
              "      padding: 0 0 0 0;\n",
              "      width: 32px;\n",
              "    }\n",
              "\n",
              "    .colab-df-convert:hover {\n",
              "      background-color: #E2EBFA;\n",
              "      box-shadow: 0px 1px 2px rgba(60, 64, 67, 0.3), 0px 1px 3px 1px rgba(60, 64, 67, 0.15);\n",
              "      fill: #174EA6;\n",
              "    }\n",
              "\n",
              "    [theme=dark] .colab-df-convert {\n",
              "      background-color: #3B4455;\n",
              "      fill: #D2E3FC;\n",
              "    }\n",
              "\n",
              "    [theme=dark] .colab-df-convert:hover {\n",
              "      background-color: #434B5C;\n",
              "      box-shadow: 0px 1px 3px 1px rgba(0, 0, 0, 0.15);\n",
              "      filter: drop-shadow(0px 1px 2px rgba(0, 0, 0, 0.3));\n",
              "      fill: #FFFFFF;\n",
              "    }\n",
              "  </style>\n",
              "\n",
              "      <script>\n",
              "        const buttonEl =\n",
              "          document.querySelector('#df-8b3a2e0b-6c8c-4aed-890c-18f8016cecf3 button.colab-df-convert');\n",
              "        buttonEl.style.display =\n",
              "          google.colab.kernel.accessAllowed ? 'block' : 'none';\n",
              "\n",
              "        async function convertToInteractive(key) {\n",
              "          const element = document.querySelector('#df-8b3a2e0b-6c8c-4aed-890c-18f8016cecf3');\n",
              "          const dataTable =\n",
              "            await google.colab.kernel.invokeFunction('convertToInteractive',\n",
              "                                                     [key], {});\n",
              "          if (!dataTable) return;\n",
              "\n",
              "          const docLinkHtml = 'Like what you see? Visit the ' +\n",
              "            '<a target=\"_blank\" href=https://colab.research.google.com/notebooks/data_table.ipynb>data table notebook</a>'\n",
              "            + ' to learn more about interactive tables.';\n",
              "          element.innerHTML = '';\n",
              "          dataTable['output_type'] = 'display_data';\n",
              "          await google.colab.output.renderOutput(dataTable, element);\n",
              "          const docLink = document.createElement('div');\n",
              "          docLink.innerHTML = docLinkHtml;\n",
              "          element.appendChild(docLink);\n",
              "        }\n",
              "      </script>\n",
              "    </div>\n",
              "  </div>\n",
              "  "
            ]
          },
          "metadata": {}
        },
        {
          "output_type": "stream",
          "name": "stdout",
          "text": [
            "\n",
            "\n"
          ]
        },
        {
          "output_type": "display_data",
          "data": {
            "text/plain": [
              "          user_id                time model_nm fwver  errtype  errcode\n",
              "12210417    21040 2020-11-04 22:43:14  model_6    10        5  B-A8002\n",
              "12210418    21040 2020-11-04 22:43:47  model_6    10        5  B-A8002"
            ],
            "text/html": [
              "\n",
              "  <div id=\"df-373d1a0f-bcf7-4b47-bf64-c0b39608c34b\">\n",
              "    <div class=\"colab-df-container\">\n",
              "      <div>\n",
              "<style scoped>\n",
              "    .dataframe tbody tr th:only-of-type {\n",
              "        vertical-align: middle;\n",
              "    }\n",
              "\n",
              "    .dataframe tbody tr th {\n",
              "        vertical-align: top;\n",
              "    }\n",
              "\n",
              "    .dataframe thead th {\n",
              "        text-align: right;\n",
              "    }\n",
              "</style>\n",
              "<table border=\"1\" class=\"dataframe\">\n",
              "  <thead>\n",
              "    <tr style=\"text-align: right;\">\n",
              "      <th></th>\n",
              "      <th>user_id</th>\n",
              "      <th>time</th>\n",
              "      <th>model_nm</th>\n",
              "      <th>fwver</th>\n",
              "      <th>errtype</th>\n",
              "      <th>errcode</th>\n",
              "    </tr>\n",
              "  </thead>\n",
              "  <tbody>\n",
              "    <tr>\n",
              "      <th>12210417</th>\n",
              "      <td>21040</td>\n",
              "      <td>2020-11-04 22:43:14</td>\n",
              "      <td>model_6</td>\n",
              "      <td>10</td>\n",
              "      <td>5</td>\n",
              "      <td>B-A8002</td>\n",
              "    </tr>\n",
              "    <tr>\n",
              "      <th>12210418</th>\n",
              "      <td>21040</td>\n",
              "      <td>2020-11-04 22:43:47</td>\n",
              "      <td>model_6</td>\n",
              "      <td>10</td>\n",
              "      <td>5</td>\n",
              "      <td>B-A8002</td>\n",
              "    </tr>\n",
              "  </tbody>\n",
              "</table>\n",
              "</div>\n",
              "      <button class=\"colab-df-convert\" onclick=\"convertToInteractive('df-373d1a0f-bcf7-4b47-bf64-c0b39608c34b')\"\n",
              "              title=\"Convert this dataframe to an interactive table.\"\n",
              "              style=\"display:none;\">\n",
              "        \n",
              "  <svg xmlns=\"http://www.w3.org/2000/svg\" height=\"24px\"viewBox=\"0 0 24 24\"\n",
              "       width=\"24px\">\n",
              "    <path d=\"M0 0h24v24H0V0z\" fill=\"none\"/>\n",
              "    <path d=\"M18.56 5.44l.94 2.06.94-2.06 2.06-.94-2.06-.94-.94-2.06-.94 2.06-2.06.94zm-11 1L8.5 8.5l.94-2.06 2.06-.94-2.06-.94L8.5 2.5l-.94 2.06-2.06.94zm10 10l.94 2.06.94-2.06 2.06-.94-2.06-.94-.94-2.06-.94 2.06-2.06.94z\"/><path d=\"M17.41 7.96l-1.37-1.37c-.4-.4-.92-.59-1.43-.59-.52 0-1.04.2-1.43.59L10.3 9.45l-7.72 7.72c-.78.78-.78 2.05 0 2.83L4 21.41c.39.39.9.59 1.41.59.51 0 1.02-.2 1.41-.59l7.78-7.78 2.81-2.81c.8-.78.8-2.07 0-2.86zM5.41 20L4 18.59l7.72-7.72 1.47 1.35L5.41 20z\"/>\n",
              "  </svg>\n",
              "      </button>\n",
              "      \n",
              "  <style>\n",
              "    .colab-df-container {\n",
              "      display:flex;\n",
              "      flex-wrap:wrap;\n",
              "      gap: 12px;\n",
              "    }\n",
              "\n",
              "    .colab-df-convert {\n",
              "      background-color: #E8F0FE;\n",
              "      border: none;\n",
              "      border-radius: 50%;\n",
              "      cursor: pointer;\n",
              "      display: none;\n",
              "      fill: #1967D2;\n",
              "      height: 32px;\n",
              "      padding: 0 0 0 0;\n",
              "      width: 32px;\n",
              "    }\n",
              "\n",
              "    .colab-df-convert:hover {\n",
              "      background-color: #E2EBFA;\n",
              "      box-shadow: 0px 1px 2px rgba(60, 64, 67, 0.3), 0px 1px 3px 1px rgba(60, 64, 67, 0.15);\n",
              "      fill: #174EA6;\n",
              "    }\n",
              "\n",
              "    [theme=dark] .colab-df-convert {\n",
              "      background-color: #3B4455;\n",
              "      fill: #D2E3FC;\n",
              "    }\n",
              "\n",
              "    [theme=dark] .colab-df-convert:hover {\n",
              "      background-color: #434B5C;\n",
              "      box-shadow: 0px 1px 3px 1px rgba(0, 0, 0, 0.15);\n",
              "      filter: drop-shadow(0px 1px 2px rgba(0, 0, 0, 0.3));\n",
              "      fill: #FFFFFF;\n",
              "    }\n",
              "  </style>\n",
              "\n",
              "      <script>\n",
              "        const buttonEl =\n",
              "          document.querySelector('#df-373d1a0f-bcf7-4b47-bf64-c0b39608c34b button.colab-df-convert');\n",
              "        buttonEl.style.display =\n",
              "          google.colab.kernel.accessAllowed ? 'block' : 'none';\n",
              "\n",
              "        async function convertToInteractive(key) {\n",
              "          const element = document.querySelector('#df-373d1a0f-bcf7-4b47-bf64-c0b39608c34b');\n",
              "          const dataTable =\n",
              "            await google.colab.kernel.invokeFunction('convertToInteractive',\n",
              "                                                     [key], {});\n",
              "          if (!dataTable) return;\n",
              "\n",
              "          const docLinkHtml = 'Like what you see? Visit the ' +\n",
              "            '<a target=\"_blank\" href=https://colab.research.google.com/notebooks/data_table.ipynb>data table notebook</a>'\n",
              "            + ' to learn more about interactive tables.';\n",
              "          element.innerHTML = '';\n",
              "          dataTable['output_type'] = 'display_data';\n",
              "          await google.colab.output.renderOutput(dataTable, element);\n",
              "          const docLink = document.createElement('div');\n",
              "          docLink.innerHTML = docLinkHtml;\n",
              "          element.appendChild(docLink);\n",
              "        }\n",
              "      </script>\n",
              "    </div>\n",
              "  </div>\n",
              "  "
            ]
          },
          "metadata": {}
        },
        {
          "output_type": "display_data",
          "data": {
            "text/plain": [
              "Empty DataFrame\n",
              "Columns: [time, user_id, fwver, quality_0, quality_1, quality_2, quality_3, quality_4, quality_5, quality_6, quality_7, quality_8, quality_9, quality_10, quality_11, quality_12]\n",
              "Index: []"
            ],
            "text/html": [
              "\n",
              "  <div id=\"df-60bfaf6c-3f7d-4a90-81a3-ef3ed4a06079\">\n",
              "    <div class=\"colab-df-container\">\n",
              "      <div>\n",
              "<style scoped>\n",
              "    .dataframe tbody tr th:only-of-type {\n",
              "        vertical-align: middle;\n",
              "    }\n",
              "\n",
              "    .dataframe tbody tr th {\n",
              "        vertical-align: top;\n",
              "    }\n",
              "\n",
              "    .dataframe thead th {\n",
              "        text-align: right;\n",
              "    }\n",
              "</style>\n",
              "<table border=\"1\" class=\"dataframe\">\n",
              "  <thead>\n",
              "    <tr style=\"text-align: right;\">\n",
              "      <th></th>\n",
              "      <th>time</th>\n",
              "      <th>user_id</th>\n",
              "      <th>fwver</th>\n",
              "      <th>quality_0</th>\n",
              "      <th>quality_1</th>\n",
              "      <th>quality_2</th>\n",
              "      <th>quality_3</th>\n",
              "      <th>quality_4</th>\n",
              "      <th>quality_5</th>\n",
              "      <th>quality_6</th>\n",
              "      <th>quality_7</th>\n",
              "      <th>quality_8</th>\n",
              "      <th>quality_9</th>\n",
              "      <th>quality_10</th>\n",
              "      <th>quality_11</th>\n",
              "      <th>quality_12</th>\n",
              "    </tr>\n",
              "  </thead>\n",
              "  <tbody>\n",
              "  </tbody>\n",
              "</table>\n",
              "</div>\n",
              "      <button class=\"colab-df-convert\" onclick=\"convertToInteractive('df-60bfaf6c-3f7d-4a90-81a3-ef3ed4a06079')\"\n",
              "              title=\"Convert this dataframe to an interactive table.\"\n",
              "              style=\"display:none;\">\n",
              "        \n",
              "  <svg xmlns=\"http://www.w3.org/2000/svg\" height=\"24px\"viewBox=\"0 0 24 24\"\n",
              "       width=\"24px\">\n",
              "    <path d=\"M0 0h24v24H0V0z\" fill=\"none\"/>\n",
              "    <path d=\"M18.56 5.44l.94 2.06.94-2.06 2.06-.94-2.06-.94-.94-2.06-.94 2.06-2.06.94zm-11 1L8.5 8.5l.94-2.06 2.06-.94-2.06-.94L8.5 2.5l-.94 2.06-2.06.94zm10 10l.94 2.06.94-2.06 2.06-.94-2.06-.94-.94-2.06-.94 2.06-2.06.94z\"/><path d=\"M17.41 7.96l-1.37-1.37c-.4-.4-.92-.59-1.43-.59-.52 0-1.04.2-1.43.59L10.3 9.45l-7.72 7.72c-.78.78-.78 2.05 0 2.83L4 21.41c.39.39.9.59 1.41.59.51 0 1.02-.2 1.41-.59l7.78-7.78 2.81-2.81c.8-.78.8-2.07 0-2.86zM5.41 20L4 18.59l7.72-7.72 1.47 1.35L5.41 20z\"/>\n",
              "  </svg>\n",
              "      </button>\n",
              "      \n",
              "  <style>\n",
              "    .colab-df-container {\n",
              "      display:flex;\n",
              "      flex-wrap:wrap;\n",
              "      gap: 12px;\n",
              "    }\n",
              "\n",
              "    .colab-df-convert {\n",
              "      background-color: #E8F0FE;\n",
              "      border: none;\n",
              "      border-radius: 50%;\n",
              "      cursor: pointer;\n",
              "      display: none;\n",
              "      fill: #1967D2;\n",
              "      height: 32px;\n",
              "      padding: 0 0 0 0;\n",
              "      width: 32px;\n",
              "    }\n",
              "\n",
              "    .colab-df-convert:hover {\n",
              "      background-color: #E2EBFA;\n",
              "      box-shadow: 0px 1px 2px rgba(60, 64, 67, 0.3), 0px 1px 3px 1px rgba(60, 64, 67, 0.15);\n",
              "      fill: #174EA6;\n",
              "    }\n",
              "\n",
              "    [theme=dark] .colab-df-convert {\n",
              "      background-color: #3B4455;\n",
              "      fill: #D2E3FC;\n",
              "    }\n",
              "\n",
              "    [theme=dark] .colab-df-convert:hover {\n",
              "      background-color: #434B5C;\n",
              "      box-shadow: 0px 1px 3px 1px rgba(0, 0, 0, 0.15);\n",
              "      filter: drop-shadow(0px 1px 2px rgba(0, 0, 0, 0.3));\n",
              "      fill: #FFFFFF;\n",
              "    }\n",
              "  </style>\n",
              "\n",
              "      <script>\n",
              "        const buttonEl =\n",
              "          document.querySelector('#df-60bfaf6c-3f7d-4a90-81a3-ef3ed4a06079 button.colab-df-convert');\n",
              "        buttonEl.style.display =\n",
              "          google.colab.kernel.accessAllowed ? 'block' : 'none';\n",
              "\n",
              "        async function convertToInteractive(key) {\n",
              "          const element = document.querySelector('#df-60bfaf6c-3f7d-4a90-81a3-ef3ed4a06079');\n",
              "          const dataTable =\n",
              "            await google.colab.kernel.invokeFunction('convertToInteractive',\n",
              "                                                     [key], {});\n",
              "          if (!dataTable) return;\n",
              "\n",
              "          const docLinkHtml = 'Like what you see? Visit the ' +\n",
              "            '<a target=\"_blank\" href=https://colab.research.google.com/notebooks/data_table.ipynb>data table notebook</a>'\n",
              "            + ' to learn more about interactive tables.';\n",
              "          element.innerHTML = '';\n",
              "          dataTable['output_type'] = 'display_data';\n",
              "          await google.colab.output.renderOutput(dataTable, element);\n",
              "          const docLink = document.createElement('div');\n",
              "          docLink.innerHTML = docLinkHtml;\n",
              "          element.appendChild(docLink);\n",
              "        }\n",
              "      </script>\n",
              "    </div>\n",
              "  </div>\n",
              "  "
            ]
          },
          "metadata": {}
        },
        {
          "output_type": "stream",
          "name": "stdout",
          "text": [
            "\n",
            "\n"
          ]
        },
        {
          "output_type": "display_data",
          "data": {
            "text/plain": [
              "          user_id                time model_nm       fwver  errtype errcode\n",
              "11144486    20300 2020-11-07 20:04:39  model_3  05.15.2138       26       1\n",
              "11144487    20300 2020-11-07 20:04:46  model_3  05.15.2138       12       1\n",
              "11144488    20300 2020-11-07 20:04:46  model_3  05.15.2138       11       1\n",
              "11144489    20300 2020-11-07 21:38:48  model_3  05.15.2138        4       0"
            ],
            "text/html": [
              "\n",
              "  <div id=\"df-451bf1c2-e908-4903-a5f3-6c6b83d1b327\">\n",
              "    <div class=\"colab-df-container\">\n",
              "      <div>\n",
              "<style scoped>\n",
              "    .dataframe tbody tr th:only-of-type {\n",
              "        vertical-align: middle;\n",
              "    }\n",
              "\n",
              "    .dataframe tbody tr th {\n",
              "        vertical-align: top;\n",
              "    }\n",
              "\n",
              "    .dataframe thead th {\n",
              "        text-align: right;\n",
              "    }\n",
              "</style>\n",
              "<table border=\"1\" class=\"dataframe\">\n",
              "  <thead>\n",
              "    <tr style=\"text-align: right;\">\n",
              "      <th></th>\n",
              "      <th>user_id</th>\n",
              "      <th>time</th>\n",
              "      <th>model_nm</th>\n",
              "      <th>fwver</th>\n",
              "      <th>errtype</th>\n",
              "      <th>errcode</th>\n",
              "    </tr>\n",
              "  </thead>\n",
              "  <tbody>\n",
              "    <tr>\n",
              "      <th>11144486</th>\n",
              "      <td>20300</td>\n",
              "      <td>2020-11-07 20:04:39</td>\n",
              "      <td>model_3</td>\n",
              "      <td>05.15.2138</td>\n",
              "      <td>26</td>\n",
              "      <td>1</td>\n",
              "    </tr>\n",
              "    <tr>\n",
              "      <th>11144487</th>\n",
              "      <td>20300</td>\n",
              "      <td>2020-11-07 20:04:46</td>\n",
              "      <td>model_3</td>\n",
              "      <td>05.15.2138</td>\n",
              "      <td>12</td>\n",
              "      <td>1</td>\n",
              "    </tr>\n",
              "    <tr>\n",
              "      <th>11144488</th>\n",
              "      <td>20300</td>\n",
              "      <td>2020-11-07 20:04:46</td>\n",
              "      <td>model_3</td>\n",
              "      <td>05.15.2138</td>\n",
              "      <td>11</td>\n",
              "      <td>1</td>\n",
              "    </tr>\n",
              "    <tr>\n",
              "      <th>11144489</th>\n",
              "      <td>20300</td>\n",
              "      <td>2020-11-07 21:38:48</td>\n",
              "      <td>model_3</td>\n",
              "      <td>05.15.2138</td>\n",
              "      <td>4</td>\n",
              "      <td>0</td>\n",
              "    </tr>\n",
              "  </tbody>\n",
              "</table>\n",
              "</div>\n",
              "      <button class=\"colab-df-convert\" onclick=\"convertToInteractive('df-451bf1c2-e908-4903-a5f3-6c6b83d1b327')\"\n",
              "              title=\"Convert this dataframe to an interactive table.\"\n",
              "              style=\"display:none;\">\n",
              "        \n",
              "  <svg xmlns=\"http://www.w3.org/2000/svg\" height=\"24px\"viewBox=\"0 0 24 24\"\n",
              "       width=\"24px\">\n",
              "    <path d=\"M0 0h24v24H0V0z\" fill=\"none\"/>\n",
              "    <path d=\"M18.56 5.44l.94 2.06.94-2.06 2.06-.94-2.06-.94-.94-2.06-.94 2.06-2.06.94zm-11 1L8.5 8.5l.94-2.06 2.06-.94-2.06-.94L8.5 2.5l-.94 2.06-2.06.94zm10 10l.94 2.06.94-2.06 2.06-.94-2.06-.94-.94-2.06-.94 2.06-2.06.94z\"/><path d=\"M17.41 7.96l-1.37-1.37c-.4-.4-.92-.59-1.43-.59-.52 0-1.04.2-1.43.59L10.3 9.45l-7.72 7.72c-.78.78-.78 2.05 0 2.83L4 21.41c.39.39.9.59 1.41.59.51 0 1.02-.2 1.41-.59l7.78-7.78 2.81-2.81c.8-.78.8-2.07 0-2.86zM5.41 20L4 18.59l7.72-7.72 1.47 1.35L5.41 20z\"/>\n",
              "  </svg>\n",
              "      </button>\n",
              "      \n",
              "  <style>\n",
              "    .colab-df-container {\n",
              "      display:flex;\n",
              "      flex-wrap:wrap;\n",
              "      gap: 12px;\n",
              "    }\n",
              "\n",
              "    .colab-df-convert {\n",
              "      background-color: #E8F0FE;\n",
              "      border: none;\n",
              "      border-radius: 50%;\n",
              "      cursor: pointer;\n",
              "      display: none;\n",
              "      fill: #1967D2;\n",
              "      height: 32px;\n",
              "      padding: 0 0 0 0;\n",
              "      width: 32px;\n",
              "    }\n",
              "\n",
              "    .colab-df-convert:hover {\n",
              "      background-color: #E2EBFA;\n",
              "      box-shadow: 0px 1px 2px rgba(60, 64, 67, 0.3), 0px 1px 3px 1px rgba(60, 64, 67, 0.15);\n",
              "      fill: #174EA6;\n",
              "    }\n",
              "\n",
              "    [theme=dark] .colab-df-convert {\n",
              "      background-color: #3B4455;\n",
              "      fill: #D2E3FC;\n",
              "    }\n",
              "\n",
              "    [theme=dark] .colab-df-convert:hover {\n",
              "      background-color: #434B5C;\n",
              "      box-shadow: 0px 1px 3px 1px rgba(0, 0, 0, 0.15);\n",
              "      filter: drop-shadow(0px 1px 2px rgba(0, 0, 0, 0.3));\n",
              "      fill: #FFFFFF;\n",
              "    }\n",
              "  </style>\n",
              "\n",
              "      <script>\n",
              "        const buttonEl =\n",
              "          document.querySelector('#df-451bf1c2-e908-4903-a5f3-6c6b83d1b327 button.colab-df-convert');\n",
              "        buttonEl.style.display =\n",
              "          google.colab.kernel.accessAllowed ? 'block' : 'none';\n",
              "\n",
              "        async function convertToInteractive(key) {\n",
              "          const element = document.querySelector('#df-451bf1c2-e908-4903-a5f3-6c6b83d1b327');\n",
              "          const dataTable =\n",
              "            await google.colab.kernel.invokeFunction('convertToInteractive',\n",
              "                                                     [key], {});\n",
              "          if (!dataTable) return;\n",
              "\n",
              "          const docLinkHtml = 'Like what you see? Visit the ' +\n",
              "            '<a target=\"_blank\" href=https://colab.research.google.com/notebooks/data_table.ipynb>data table notebook</a>'\n",
              "            + ' to learn more about interactive tables.';\n",
              "          element.innerHTML = '';\n",
              "          dataTable['output_type'] = 'display_data';\n",
              "          await google.colab.output.renderOutput(dataTable, element);\n",
              "          const docLink = document.createElement('div');\n",
              "          docLink.innerHTML = docLinkHtml;\n",
              "          element.appendChild(docLink);\n",
              "        }\n",
              "      </script>\n",
              "    </div>\n",
              "  </div>\n",
              "  "
            ]
          },
          "metadata": {}
        },
        {
          "output_type": "display_data",
          "data": {
            "text/plain": [
              "Empty DataFrame\n",
              "Columns: [time, user_id, fwver, quality_0, quality_1, quality_2, quality_3, quality_4, quality_5, quality_6, quality_7, quality_8, quality_9, quality_10, quality_11, quality_12]\n",
              "Index: []"
            ],
            "text/html": [
              "\n",
              "  <div id=\"df-760477e4-e7ea-492c-9ef7-c165ba1a1e2c\">\n",
              "    <div class=\"colab-df-container\">\n",
              "      <div>\n",
              "<style scoped>\n",
              "    .dataframe tbody tr th:only-of-type {\n",
              "        vertical-align: middle;\n",
              "    }\n",
              "\n",
              "    .dataframe tbody tr th {\n",
              "        vertical-align: top;\n",
              "    }\n",
              "\n",
              "    .dataframe thead th {\n",
              "        text-align: right;\n",
              "    }\n",
              "</style>\n",
              "<table border=\"1\" class=\"dataframe\">\n",
              "  <thead>\n",
              "    <tr style=\"text-align: right;\">\n",
              "      <th></th>\n",
              "      <th>time</th>\n",
              "      <th>user_id</th>\n",
              "      <th>fwver</th>\n",
              "      <th>quality_0</th>\n",
              "      <th>quality_1</th>\n",
              "      <th>quality_2</th>\n",
              "      <th>quality_3</th>\n",
              "      <th>quality_4</th>\n",
              "      <th>quality_5</th>\n",
              "      <th>quality_6</th>\n",
              "      <th>quality_7</th>\n",
              "      <th>quality_8</th>\n",
              "      <th>quality_9</th>\n",
              "      <th>quality_10</th>\n",
              "      <th>quality_11</th>\n",
              "      <th>quality_12</th>\n",
              "    </tr>\n",
              "  </thead>\n",
              "  <tbody>\n",
              "  </tbody>\n",
              "</table>\n",
              "</div>\n",
              "      <button class=\"colab-df-convert\" onclick=\"convertToInteractive('df-760477e4-e7ea-492c-9ef7-c165ba1a1e2c')\"\n",
              "              title=\"Convert this dataframe to an interactive table.\"\n",
              "              style=\"display:none;\">\n",
              "        \n",
              "  <svg xmlns=\"http://www.w3.org/2000/svg\" height=\"24px\"viewBox=\"0 0 24 24\"\n",
              "       width=\"24px\">\n",
              "    <path d=\"M0 0h24v24H0V0z\" fill=\"none\"/>\n",
              "    <path d=\"M18.56 5.44l.94 2.06.94-2.06 2.06-.94-2.06-.94-.94-2.06-.94 2.06-2.06.94zm-11 1L8.5 8.5l.94-2.06 2.06-.94-2.06-.94L8.5 2.5l-.94 2.06-2.06.94zm10 10l.94 2.06.94-2.06 2.06-.94-2.06-.94-.94-2.06-.94 2.06-2.06.94z\"/><path d=\"M17.41 7.96l-1.37-1.37c-.4-.4-.92-.59-1.43-.59-.52 0-1.04.2-1.43.59L10.3 9.45l-7.72 7.72c-.78.78-.78 2.05 0 2.83L4 21.41c.39.39.9.59 1.41.59.51 0 1.02-.2 1.41-.59l7.78-7.78 2.81-2.81c.8-.78.8-2.07 0-2.86zM5.41 20L4 18.59l7.72-7.72 1.47 1.35L5.41 20z\"/>\n",
              "  </svg>\n",
              "      </button>\n",
              "      \n",
              "  <style>\n",
              "    .colab-df-container {\n",
              "      display:flex;\n",
              "      flex-wrap:wrap;\n",
              "      gap: 12px;\n",
              "    }\n",
              "\n",
              "    .colab-df-convert {\n",
              "      background-color: #E8F0FE;\n",
              "      border: none;\n",
              "      border-radius: 50%;\n",
              "      cursor: pointer;\n",
              "      display: none;\n",
              "      fill: #1967D2;\n",
              "      height: 32px;\n",
              "      padding: 0 0 0 0;\n",
              "      width: 32px;\n",
              "    }\n",
              "\n",
              "    .colab-df-convert:hover {\n",
              "      background-color: #E2EBFA;\n",
              "      box-shadow: 0px 1px 2px rgba(60, 64, 67, 0.3), 0px 1px 3px 1px rgba(60, 64, 67, 0.15);\n",
              "      fill: #174EA6;\n",
              "    }\n",
              "\n",
              "    [theme=dark] .colab-df-convert {\n",
              "      background-color: #3B4455;\n",
              "      fill: #D2E3FC;\n",
              "    }\n",
              "\n",
              "    [theme=dark] .colab-df-convert:hover {\n",
              "      background-color: #434B5C;\n",
              "      box-shadow: 0px 1px 3px 1px rgba(0, 0, 0, 0.15);\n",
              "      filter: drop-shadow(0px 1px 2px rgba(0, 0, 0, 0.3));\n",
              "      fill: #FFFFFF;\n",
              "    }\n",
              "  </style>\n",
              "\n",
              "      <script>\n",
              "        const buttonEl =\n",
              "          document.querySelector('#df-760477e4-e7ea-492c-9ef7-c165ba1a1e2c button.colab-df-convert');\n",
              "        buttonEl.style.display =\n",
              "          google.colab.kernel.accessAllowed ? 'block' : 'none';\n",
              "\n",
              "        async function convertToInteractive(key) {\n",
              "          const element = document.querySelector('#df-760477e4-e7ea-492c-9ef7-c165ba1a1e2c');\n",
              "          const dataTable =\n",
              "            await google.colab.kernel.invokeFunction('convertToInteractive',\n",
              "                                                     [key], {});\n",
              "          if (!dataTable) return;\n",
              "\n",
              "          const docLinkHtml = 'Like what you see? Visit the ' +\n",
              "            '<a target=\"_blank\" href=https://colab.research.google.com/notebooks/data_table.ipynb>data table notebook</a>'\n",
              "            + ' to learn more about interactive tables.';\n",
              "          element.innerHTML = '';\n",
              "          dataTable['output_type'] = 'display_data';\n",
              "          await google.colab.output.renderOutput(dataTable, element);\n",
              "          const docLink = document.createElement('div');\n",
              "          docLink.innerHTML = docLinkHtml;\n",
              "          element.appendChild(docLink);\n",
              "        }\n",
              "      </script>\n",
              "    </div>\n",
              "  </div>\n",
              "  "
            ]
          },
          "metadata": {}
        },
        {
          "output_type": "stream",
          "name": "stdout",
          "text": [
            "\n",
            "\n"
          ]
        }
      ]
    },
    {
      "cell_type": "markdown",
      "source": [
        "에러 로그가 적은 유저들은 **퀄리티가 측정되지 않았다**는 공통점이 발견되었다.\n",
        "(추후 분석을 통해 이상치임을 더 확실하게 알 수 있다. 따라서 추후 분석 이전에는 제거하지 않는다.)  \n",
        "(그리고 이후 error data와 quality data간의 관계 분석에 사용할 수 있다.)"
      ],
      "metadata": {
        "id": "qHe6047yjzEy"
      }
    },
    {
      "cell_type": "markdown",
      "source": [
        "- 전처리된 데이터 저장"
      ],
      "metadata": {
        "id": "XJ5Q9FCbkOHi"
      }
    },
    {
      "cell_type": "code",
      "source": [
        "# time 변수 타입 변경 이전 + 그 외에는 전처리된(결측치, 이상치 처리) 데이터 저장\n",
        "# train_err.to_csv(save_path + \"train_err_data_time.csv\", index=False)\n",
        "# train_qual.to_csv(save_path + \"train_quality_data_time.csv\", index=False)\n",
        "# train_prob.to_csv(save_path + \"train_problem_data_time.csv\", index=False)\n",
        "\n",
        "# test_err.to_csv(save_path + \"test_err_data_time.csv\", index=False)\n",
        "# test_qual.to_csv(save_path + \"test_quality_data_time.csv\", index=False)"
      ],
      "metadata": {
        "id": "6MSgBwDJkQYT"
      },
      "execution_count": 52,
      "outputs": []
    },
    {
      "cell_type": "markdown",
      "source": [
        "# 4. 불만 제기 시간 확인\n",
        "\n",
        "---\n",
        "## 4-1. 고객들이 언제, 무슨요일, 어느시간에 불만을 제기했는지 확인"
      ],
      "metadata": {
        "id": "8-0SzdW1k7qY"
      }
    },
    {
      "cell_type": "code",
      "source": [
        "# Datetime으로 Type이 변경되기 전 데이터 로드\n",
        "train_err = pd.read_csv(save_path+\"train_err_data.csv\")\n",
        "train_qual = pd.read_csv(save_path+\"train_quality_data.csv\")\n",
        "train_prob = pd.read_csv(save_path+\"train_problem_data.csv\")\n",
        "\n",
        "test_err = pd.read_csv(save_path+\"test_err_data.csv\")\n",
        "test_qual = pd.read_csv(save_path+\"test_quality_data.csv\")"
      ],
      "metadata": {
        "id": "7-APuOH3k7En"
      },
      "execution_count": 53,
      "outputs": []
    },
    {
      "cell_type": "code",
      "source": [
        "# 불만 제기 고객 확인\n",
        "problem_user = train_prob.user_id.unique()\n",
        "no_problem_ser = list(set(train_err.user_id.unique()) - set(problem_user))"
      ],
      "metadata": {
        "id": "DvNa57cqlPZM"
      },
      "execution_count": 54,
      "outputs": []
    },
    {
      "cell_type": "code",
      "source": [
        "def make_weekday(col): # 0: 월요일, 1: 화요일, 2: 수요일, 3: 목요일, 4: 금요일, 5: 토요일, 6: 일요일\n",
        "    col = str(col)\n",
        "    year = int(col[:4])\n",
        "    month = int(col[4:6])\n",
        "    day = int(col[6:8])\n",
        "    weekday = dt.datetime(year,month,day).weekday()\n",
        "\n",
        "    return weekday"
      ],
      "metadata": {
        "id": "WA_eRrFqlkk3"
      },
      "execution_count": 55,
      "outputs": []
    },
    {
      "cell_type": "code",
      "source": [
        "def make_hour(col): # 시간대별\n",
        "    col = str(col)\n",
        "    hour = int(col[8:10])\n",
        "# hour = str(hour) + \"시\"\n",
        "    return hour"
      ],
      "metadata": {
        "id": "voiDILXQmBxs"
      },
      "execution_count": 56,
      "outputs": []
    },
    {
      "cell_type": "code",
      "source": [
        "train_prob['weekday'] = train_prob.time.apply(lambda x : make_weekday(x))\n",
        "train_prob['hour'] = train_prob.time.apply(lambda x : make_hour(x))"
      ],
      "metadata": {
        "id": "2BdvrAAxmR2K"
      },
      "execution_count": 57,
      "outputs": []
    },
    {
      "cell_type": "code",
      "source": [
        "train_prob['weekday'].value_counts() # 요일별 불만제기"
      ],
      "metadata": {
        "colab": {
          "base_uri": "https://localhost:8080/"
        },
        "id": "oDvRuRv7vsmq",
        "outputId": "cd2018f2-3323-476a-b952-983e58c29f99"
      },
      "execution_count": 58,
      "outputs": [
        {
          "output_type": "execute_result",
          "data": {
            "text/plain": [
              "0    1332\n",
              "2     868\n",
              "4     853\n",
              "1     809\n",
              "3     809\n",
              "5     431\n",
              "6     327\n",
              "Name: weekday, dtype: int64"
            ]
          },
          "metadata": {},
          "execution_count": 58
        }
      ]
    },
    {
      "cell_type": "markdown",
      "source": [
        "월 -> 수 -> 금 -> 화 -> 목 -> 토 -> 일 순"
      ],
      "metadata": {
        "id": "zijMmpdGv1Ro"
      }
    },
    {
      "cell_type": "code",
      "source": [
        "train_prob['hour'].value_counts() # 시간별 불만 제기"
      ],
      "metadata": {
        "colab": {
          "base_uri": "https://localhost:8080/"
        },
        "id": "gdugfQfLvzes",
        "outputId": "b276aaac-7b53-47b8-8aa4-c067d08008f3"
      },
      "execution_count": 59,
      "outputs": [
        {
          "output_type": "execute_result",
          "data": {
            "text/plain": [
              "12    627\n",
              "11    600\n",
              "13    518\n",
              "19    507\n",
              "18    492\n",
              "15    489\n",
              "16    460\n",
              "17    432\n",
              "22    233\n",
              "20    233\n",
              "14    228\n",
              "21    204\n",
              "23    175\n",
              "0     108\n",
              "1      67\n",
              "2      15\n",
              "10     14\n",
              "9       8\n",
              "5       5\n",
              "8       5\n",
              "3       4\n",
              "4       3\n",
              "7       1\n",
              "6       1\n",
              "Name: hour, dtype: int64"
            ]
          },
          "metadata": {},
          "execution_count": 59
        }
      ]
    },
    {
      "cell_type": "markdown",
      "source": [
        "점심 -> 저녁 -> 오후 -> 밤 -> 새벽 -> 아침 순"
      ],
      "metadata": {
        "id": "e3eZG-GxxBn2"
      }
    },
    {
      "cell_type": "code",
      "source": [
        "weekend = train_prob[(train_prob['weekday'] == 5) | (train_prob['weekday'] == 6)]\n",
        "weekdays = train_prob[(train_prob['weekday'] != 5) & (train_prob['weekday'] != 6)]"
      ],
      "metadata": {
        "id": "jMTTkrt2w_eb"
      },
      "execution_count": 60,
      "outputs": []
    },
    {
      "cell_type": "code",
      "source": [
        "week_ratio = len(weekend) / len(train_prob) #주말 제기 확률\n",
        "print(\"평일에 불만을 제기할 확률 : {0}%\\n주말에 불만을 제기할 확률 : {1}%\".\n",
        "      format(round((1-week_ratio)*100, 3), (week_ratio)*100, 3))"
      ],
      "metadata": {
        "colab": {
          "base_uri": "https://localhost:8080/"
        },
        "id": "VR1ThYQjxTbN",
        "outputId": "bc171f19-ac14-443c-cf2c-e2aa5eee79c0"
      },
      "execution_count": 61,
      "outputs": [
        {
          "output_type": "stream",
          "name": "stdout",
          "text": [
            "평일에 불만을 제기할 확률 : 86.038%\n",
            "주말에 불만을 제기할 확률 : 13.962055627187327%\n"
          ]
        }
      ]
    },
    {
      "cell_type": "markdown",
      "source": [
        "- 주말보다는 평일에 불만 제기가 많음"
      ],
      "metadata": {
        "id": "TqDLTC41xImL"
      }
    },
    {
      "cell_type": "code",
      "source": [
        "weekend_open = weekend[((weekend['weekday'] != 6) >= 13)]\n",
        "weekdays_open = weekdays[((weekdays['hour'] >= 9) <= 18)]\n",
        "print(\"운영시간 중 불만 제기 확률 : {0}%\".format(round((len(weekdays_open)+ len(weekend_open)) / len(train_prob) * 100, 3)))"
      ],
      "metadata": {
        "colab": {
          "base_uri": "https://localhost:8080/"
        },
        "id": "17iU3RhexVQm",
        "outputId": "e8be1d60-2798-407e-f30e-3f71b854bd19"
      },
      "execution_count": 62,
      "outputs": [
        {
          "output_type": "stream",
          "name": "stdout",
          "text": [
            "운영시간 중 불만 제기 확률 : 86.038%\n"
          ]
        }
      ]
    },
    {
      "cell_type": "code",
      "source": [
        "# 다시 Datetime으로 Type이 변경된 데이터 로드\n",
        "train_err = pd.read_csv(save_path+\"train_err_data_time.csv\")\n",
        "train_qual = pd.read_csv(save_path+\"train_quality_data_time.csv\")\n",
        "train_prob = pd.read_csv(save_path+\"train_problem_data_time.csv\")\n",
        "\n",
        "test_err = pd.read_csv(save_path+\"test_err_data_time.csv\")\n",
        "test_qual = pd.read_csv(save_path+\"test_quality_data_time.csv\")"
      ],
      "metadata": {
        "id": "W3k-9_WexZuO"
      },
      "execution_count": 63,
      "outputs": []
    },
    {
      "cell_type": "markdown",
      "source": [
        "# 5. Error Data 해석\n",
        "에러가 많이 발생할수록, 불만 제기 확률이 높을 것이라는 가설을 세우고 이른 검정하기 위한 errtype 해석"
      ],
      "metadata": {
        "id": "19KJm9VDyVa2"
      }
    },
    {
      "cell_type": "markdown",
      "source": [
        "### 5-1. errtype\n",
        "1. errtype 종류에 상관없이 errtype의 수를 count"
      ],
      "metadata": {
        "id": "RcEpwzbMyfr6"
      }
    },
    {
      "cell_type": "code",
      "source": [
        "err_total = train_err.copy()\n",
        "\n",
        "id_error = err_total[['user_id','errtype']].values\n",
        "error = np.zeros(15000)"
      ],
      "metadata": {
        "id": "pUS02OMSyUmZ"
      },
      "execution_count": 64,
      "outputs": []
    },
    {
      "cell_type": "code",
      "source": [
        "for person_idx, err,  in tqdm(id_error):\n",
        "    error[person_idx-10000] += 1"
      ],
      "metadata": {
        "colab": {
          "base_uri": "https://localhost:8080/"
        },
        "id": "rF1_mfQnyqD3",
        "outputId": "e27e22e8-db8f-4520-909c-5a7db94deeae"
      },
      "execution_count": 65,
      "outputs": [
        {
          "output_type": "stream",
          "name": "stderr",
          "text": [
            "100%|██████████| 16554663/16554663 [00:38<00:00, 431335.68it/s]\n"
          ]
        }
      ]
    },
    {
      "cell_type": "code",
      "source": [
        "problem_user = sorted(list(train_prob.user_id.unique()))\n",
        "prob_user = [i-10000 for i in problem_user]"
      ],
      "metadata": {
        "id": "fFBdIJqjyr0j"
      },
      "execution_count": 66,
      "outputs": []
    },
    {
      "cell_type": "code",
      "source": [
        "psum = [] # 불만 제기한 사람들 각각의 Total Errtype Count\n",
        "nsum = [] # 불만 제기하지않은 사람들 각각의 Total Errtype Count\n",
        "\n",
        "for i in range(len(error)):\n",
        "    if i in prob_user:\n",
        "        psum.append(error[i])\n",
        "    else:\n",
        "        nsum.append(error[i])\n",
        "        \n",
        "print(\"불만 제기한 사람들의 Total Errtype Count의 평균은 {0}입니다.\".format(sum(psum)/len(psum)))\n",
        "print(\"불만 제기하지않은 사람들의 Total Errtype Count의 평균은 {0}입니다.\".format(sum(nsum)/len(nsum)))"
      ],
      "metadata": {
        "colab": {
          "base_uri": "https://localhost:8080/"
        },
        "id": "jO8OWmkFyuoM",
        "outputId": "3add9e8b-41cb-4a33-a229-f2579930b556"
      },
      "execution_count": 67,
      "outputs": [
        {
          "output_type": "stream",
          "name": "stdout",
          "text": [
            "불만 제기한 사람들의 Total Errtype Count의 평균은 1517.7562입니다.\n",
            "불만 제기하지않은 사람들의 Total Errtype Count의 평균은 896.5882입니다.\n"
          ]
        }
      ]
    },
    {
      "cell_type": "markdown",
      "source": [
        "불만제기를 한 사람은 대부분 total errtype을 많이 가지고 있었음  \n",
        "-> 따라서 errtype을 count하는 것이 유의미하다는 결론을 내리고, errtype의 평균, 최대값, 표준편차를 살펴보려함"
      ],
      "metadata": {
        "id": "u1fZowc9y1Yu"
      }
    },
    {
      "cell_type": "markdown",
      "source": [
        "2. errtype이 불만 제기에 중요한 변수임을 알았다. 그렇다면 errtype의 종류마다 영향력이 다를까?"
      ],
      "metadata": {
        "id": "rlMHEcqJzN5d"
      }
    },
    {
      "cell_type": "code",
      "source": [
        "type5_id = sorted(list(train_err[train_err['errtype'] == 17].user_id.unique()))\n",
        "print(\"Errtype 5을 가진 유저들의 수 : {}명\".format(len(type5_id)))\n",
        "print(\"Errtype 5을 가진 유저중에서 불만을 제기한 사람의 수 : {}명\".format(len(train_prob[train_prob['user_id'].isin(type5_id)].user_id.unique())))\n",
        "print(\"비율 : %.3f%%\"%(len(train_prob[train_prob['user_id'].isin(type5_id)].user_id.unique())/len(type5_id) * 100))"
      ],
      "metadata": {
        "colab": {
          "base_uri": "https://localhost:8080/"
        },
        "id": "SG7fy143ywpa",
        "outputId": "19569468-d4b7-495f-f30b-9ed4fc331d08"
      },
      "execution_count": 68,
      "outputs": [
        {
          "output_type": "stream",
          "name": "stdout",
          "text": [
            "Errtype 5을 가진 유저들의 수 : 5747명\n",
            "Errtype 5을 가진 유저중에서 불만을 제기한 사람의 수 : 2498명\n",
            "비율 : 43.466%\n"
          ]
        }
      ]
    },
    {
      "cell_type": "code",
      "source": [
        "type18_id = sorted(list(train_err[train_err['errtype'] == 18].user_id.unique()))\n",
        "print(\"Errtype 18을 가진 유저들의 수 : {}명\".format(len(type18_id)))\n",
        "print(\"Errtype 18을 가진 유저중에서 불만을 제기한 사람의 수 : {}명\".format(len(train_prob[train_prob['user_id'].isin(type18_id)].user_id.unique())))\n",
        "print(\"비율 : %.3f%%\"%(len(train_prob[train_prob['user_id'].isin(type18_id)].user_id.unique())/len(type18_id) * 100))"
      ],
      "metadata": {
        "colab": {
          "base_uri": "https://localhost:8080/"
        },
        "id": "9kaayr1_zWwm",
        "outputId": "60388e94-045f-4e4b-803c-b367c0fe3e32"
      },
      "execution_count": 69,
      "outputs": [
        {
          "output_type": "stream",
          "name": "stdout",
          "text": [
            "Errtype 18을 가진 유저들의 수 : 1768명\n",
            "Errtype 18을 가진 유저중에서 불만을 제기한 사람의 수 : 1521명\n",
            "비율 : 86.029%\n"
          ]
        }
      ]
    },
    {
      "cell_type": "markdown",
      "source": [
        "-> 특정 errtype이 불만 제기에 큰 영향을 미침  \n",
        "-> 따라서, errtype별 count를 통한 파생변수를 살펴볼 필요가 있음"
      ],
      "metadata": {
        "id": "PuA53ruTzc1u"
      }
    },
    {
      "cell_type": "markdown",
      "source": [
        "3. errtype과 fwver&model_nm의 관계"
      ],
      "metadata": {
        "id": "0dJZzELKzsU6"
      }
    },
    {
      "cell_type": "code",
      "source": [
        "# 모델 버전마다 Errtype이 다름을 보여주는 코드\n",
        "for i in range(9):\n",
        "    nm = 'model_' + str(i)\n",
        "    print(\"모델 버전\", nm, \"→\", sorted(list(train_err[train_err['model_nm'] == nm]['errtype'].unique()))[:15])"
      ],
      "metadata": {
        "colab": {
          "base_uri": "https://localhost:8080/"
        },
        "id": "IRYt7qv2zYVw",
        "outputId": "c8cbb6ed-234c-4e64-ab8d-124fcc8efdbc"
      },
      "execution_count": 70,
      "outputs": [
        {
          "output_type": "stream",
          "name": "stdout",
          "text": [
            "모델 버전 model_0 → [1, 2, 4, 5, 6, 7, 8, 9, 10, 11, 12, 13, 14, 15, 16]\n",
            "모델 버전 model_1 → [1, 2, 3, 4, 5, 6, 7, 8, 9, 10, 11, 12, 13, 14, 15]\n",
            "모델 버전 model_2 → [1, 2, 4, 5, 6, 7, 8, 9, 10, 11, 12, 13, 14, 15, 16]\n",
            "모델 버전 model_3 → [1, 2, 3, 4, 5, 6, 7, 8, 9, 10, 11, 12, 13, 14, 15]\n",
            "모델 버전 model_4 → [1, 3, 4, 5, 6, 7, 8, 9, 10, 11, 12, 13, 14, 15, 16]\n",
            "모델 버전 model_5 → [2, 4, 5, 6, 7, 10, 11, 12, 13, 14, 15, 16, 17, 18, 19]\n",
            "모델 버전 model_6 → [5]\n",
            "모델 버전 model_7 → [3, 4, 5, 6, 7, 8, 10, 11, 12, 13, 14, 15, 16, 17, 18]\n",
            "모델 버전 model_8 → [2, 3, 4, 5, 6, 7, 10, 11, 12, 13, 14, 15, 16, 17, 18]\n"
          ]
        }
      ]
    },
    {
      "cell_type": "code",
      "source": [
        "# 펌웨어 버전마다 Errtype이 다름을 보여주는 코드\n",
        "so_fw = sorted(list(train_err.fwver.unique()))\n",
        "\n",
        "for i in so_fw:\n",
        "    nm = i\n",
        "    print(\"펌웨어 버전 →\", i,sorted(list(train_err[train_err['fwver'] == nm]['errtype'].unique()))[:20])"
      ],
      "metadata": {
        "colab": {
          "base_uri": "https://localhost:8080/"
        },
        "id": "QPNZzJsYzzNg",
        "outputId": "ff1b153f-6aad-400b-c268-3be040e943e3"
      },
      "execution_count": 71,
      "outputs": [
        {
          "output_type": "stream",
          "name": "stdout",
          "text": [
            "펌웨어 버전 → 03.11.1141 [1, 5, 6, 7, 14, 27, 28, 30]\n",
            "펌웨어 버전 → 03.11.1149 [1, 4, 5, 6, 7, 12, 14, 27, 28]\n",
            "펌웨어 버전 → 03.11.1167 [1, 3, 4, 5, 6, 7, 8, 9, 10, 11, 12, 13, 14, 15, 16, 17, 27, 28, 30]\n",
            "펌웨어 버전 → 04.16.2641 [3, 4, 6, 7, 11, 12, 13, 14, 15, 16, 22, 23, 26]\n",
            "펌웨어 버전 → 04.16.3345 [3, 4, 10, 11, 12, 14, 15, 16, 26]\n",
            "펌웨어 버전 → 04.16.3439 [6, 7, 11, 12, 14, 15, 16, 22, 23, 26, 27, 28, 31, 33, 34, 35, 38, 40]\n",
            "펌웨어 버전 → 04.16.3553 [1, 2, 4, 5, 6, 7, 8, 9, 10, 11, 12, 13, 14, 15, 16, 17, 18, 19, 20, 21]\n",
            "펌웨어 버전 → 04.16.3569 [5, 10, 11, 12, 15, 16, 17, 22, 23, 26, 31, 32, 33, 34, 42]\n",
            "펌웨어 버전 → 04.16.3571 [2, 5, 6, 7, 10, 11, 12, 13, 14, 15, 16, 17, 18, 19, 20, 21, 22, 23, 24, 25]\n",
            "펌웨어 버전 → 04.22.1442 [4, 5, 6, 7, 10, 11, 12, 13, 14, 15, 16, 18, 20, 22, 23, 25, 26]\n",
            "펌웨어 버전 → 04.22.1656 [4, 5, 6, 7, 11, 12, 13, 14, 15, 16, 22, 23, 26, 27, 28]\n",
            "펌웨어 버전 → 04.22.1666 [12, 13, 14, 38]\n",
            "펌웨어 버전 → 04.22.1684 [1, 4, 5, 6, 7, 10, 11, 12, 13, 14, 15, 16, 17, 18, 20, 22, 23, 25, 26, 27]\n",
            "펌웨어 버전 → 04.22.1750 [1, 2, 4, 5, 6, 7, 8, 9, 10, 11, 12, 13, 14, 15, 16, 17, 18, 19, 20, 21]\n",
            "펌웨어 버전 → 04.22.1778 [1, 2, 4, 5, 6, 7, 8, 9, 10, 11, 12, 13, 14, 15, 16, 17, 18, 19, 20, 21]\n",
            "펌웨어 버전 → 04.33.1095 [4, 5, 6, 7, 11, 12, 13, 14, 15, 16, 17, 22, 23, 26]\n",
            "펌웨어 버전 → 04.33.1125 [4, 5, 6, 7, 11, 12, 14, 15, 16, 17, 18, 20, 22, 23, 26]\n",
            "펌웨어 버전 → 04.33.1149 [1, 5, 6, 7, 10, 11, 12, 13, 14, 15, 16, 17, 18, 19, 20, 21, 22, 23, 26, 30]\n",
            "펌웨어 버전 → 04.33.1171 [7, 11, 12, 14, 15, 16, 18, 20, 26, 31, 33, 40, 41]\n",
            "펌웨어 버전 → 04.33.1185 [1, 2, 4, 5, 6, 7, 8, 9, 10, 11, 12, 13, 14, 15, 16, 17, 18, 19, 20, 21]\n",
            "펌웨어 버전 → 04.33.1261 [1, 2, 4, 5, 6, 7, 8, 9, 10, 11, 12, 13, 14, 15, 16, 17, 18, 19, 20, 21]\n",
            "펌웨어 버전 → 04.73.2237 [2, 3, 4, 5, 6, 7, 10, 11, 12, 13, 14, 15, 16, 17, 18, 20, 22, 23, 24, 25]\n",
            "펌웨어 버전 → 04.73.2571 [5, 6, 7, 11, 12, 13, 14, 15, 16, 17, 18, 19, 20, 21, 22, 23, 24, 25, 26, 31]\n",
            "펌웨어 버전 → 04.82.1684 [2, 4, 5, 6, 7, 10, 11, 12, 13, 14, 15, 16, 17, 18, 19, 20, 21, 22, 23, 24]\n",
            "펌웨어 버전 → 04.82.1730 [5, 6, 7, 10, 11, 12, 13, 14, 15, 16, 22, 23, 26, 31, 33]\n",
            "펌웨어 버전 → 04.82.1778 [2, 5, 6, 7, 10, 11, 12, 13, 14, 15, 16, 17, 22, 23, 24, 26, 27, 28, 31, 32]\n",
            "펌웨어 버전 → 05.15.2090 [3, 5, 6, 7, 10, 11, 12, 14, 26]\n",
            "펌웨어 버전 → 05.15.2092 [3, 4, 5, 6, 7, 11, 12, 13, 14, 27, 28]\n",
            "펌웨어 버전 → 05.15.2114 [4, 14, 15, 26]\n",
            "펌웨어 버전 → 05.15.2120 [3, 4, 5, 6, 7, 10, 11, 12, 13, 14, 15, 16, 24, 26, 27, 28]\n",
            "펌웨어 버전 → 05.15.2122 [4, 5, 11, 12, 15, 16, 18, 26]\n",
            "펌웨어 버전 → 05.15.2138 [1, 2, 3, 4, 5, 6, 7, 8, 9, 10, 11, 12, 13, 14, 15, 16, 17, 18, 19, 24]\n",
            "펌웨어 버전 → 05.15.3104 [3, 4, 5, 6, 7, 10, 11, 12, 13, 14, 15, 16, 26]\n",
            "펌웨어 버전 → 05.66.3237 [3, 4, 5, 6, 7, 8, 10, 11, 12, 13, 14, 15, 16, 17, 18, 19, 20, 21, 22, 23]\n",
            "펌웨어 버전 → 05.66.3571 [5, 6, 7, 10, 11, 12, 13, 14, 15, 16, 17, 22, 23, 26, 30, 31, 32, 33, 34, 35]\n",
            "펌웨어 버전 → 10 [5]\n",
            "펌웨어 버전 → 8.5.3 [5]\n"
          ]
        }
      ]
    },
    {
      "cell_type": "markdown",
      "source": [
        "### 5-2. ErrorCode\n",
        "\n",
        "1. errtype과 비슷하게 errcode도 error의 정보를 알려주는 feature임. 먼저 둘의 관계를 살펴보려함\n",
        "\n"
      ],
      "metadata": {
        "id": "8wBrzyXwz3L6"
      }
    },
    {
      "cell_type": "code",
      "source": [
        "print(sorted(list(train_err.errcode.unique())[:50], reverse = True))\n",
        "print(\"\\nErrcode의 종류 : {}개\".format(len(list(train_err.errcode.unique()))))"
      ],
      "metadata": {
        "colab": {
          "base_uri": "https://localhost:8080/"
        },
        "id": "KksiG4ucz1RH",
        "outputId": "3ce79260-b05a-411d-c3fb-7f6f51564498"
      },
      "execution_count": 72,
      "outputs": [
        {
          "output_type": "stream",
          "name": "stdout",
          "text": [
            "['terminate by peer user', 'standby', 'connectionterminated by local host', 'connection timeout', 'connection fail to establish', 'connection fail for LMP response timout', 'active', 'V-21008', 'UNKNOWN', 'U-81009', 'S-65002', 'S-64002', 'S-61001', 'Q-64002', 'NFANDROID2', 'J-30021', 'B-A8002', '95', '94', '93', '91', '90', '89', '88', '87', '86', '85', '84', '83', '82', '81', '80', '8.0', '79', '78', '77', '700001', '6796', '6467', '6', '5738', '5507', '4893', '4', '3', '2', '14', '13', '1', '0']\n",
            "\n",
            "Errcode의 종류 : 2806개\n"
          ]
        }
      ]
    },
    {
      "cell_type": "code",
      "source": [
        "ey_ec = train_err.groupby('errtype')['errcode'].unique().to_frame()\n",
        "display(ey_ec)"
      ],
      "metadata": {
        "colab": {
          "base_uri": "https://localhost:8080/",
          "height": 1000
        },
        "id": "E7K7E2N-0G-X",
        "outputId": "468b51bd-2df5-42ed-bfe8-0d2310ebe9e6"
      },
      "execution_count": 73,
      "outputs": [
        {
          "output_type": "display_data",
          "data": {
            "text/plain": [
              "                                                   errcode\n",
              "errtype                                                   \n",
              "1        [0, P-44010, P-41011, P-41007 , P-44010 , P-41...\n",
              "2                                                   [1, 0]\n",
              "3                                                [1, 2, 0]\n",
              "4                                                   [0, 1]\n",
              "5        [B-A8002, Q-64002, S-61001, U-81009, V-21008, ...\n",
              "6                                                  [1, 14]\n",
              "7                                                  [1, 14]\n",
              "8                              [PHONE_ERR, PUBLIC_ERR, 20]\n",
              "9        [V-21002, V-21005, 1, C-14014, V-21008, C-1203...\n",
              "10                                                     [1]\n",
              "11                                                     [1]\n",
              "12                                                     [1]\n",
              "13                                                     [1]\n",
              "14                                             [1, 14, 13]\n",
              "15                                                     [1]\n",
              "16                                                     [1]\n",
              "17                                     [14, 13, 1, 21, 12]\n",
              "18                                                     [1]\n",
              "19                                                     [1]\n",
              "20                                                     [1]\n",
              "21                                                     [1]\n",
              "22                                                     [1]\n",
              "23       [standby, active, connection timeout, terminat...\n",
              "24                                                     [1]\n",
              "25       [2, scanning timeout, 1, UNKNOWN, terminate by...\n",
              "26                                                     [1]\n",
              "27                                                     [1]\n",
              "28                                                     [1]\n",
              "30                                         [4, 0, 1, 3, 2]\n",
              "31                                                  [1, 0]\n",
              "32       [80, 79, 81, 86, 84, 77, 78, 85, 90, 89, 88, 8...\n",
              "33                                               [2, 3, 1]\n",
              "34                                      [4, 1, 2, 3, 6, 5]\n",
              "35                                                     [1]\n",
              "36                                                   [8.0]\n",
              "37                                                  [0, 1]\n",
              "38       [6796, 5738, 6467, 4893, 5507, 39391, 3113, 36...\n",
              "39                                                  [1, 0]\n",
              "40                                                  [1, 0]\n",
              "41                                            [NFANDROID2]\n",
              "42                                                  [3, 2]"
            ],
            "text/html": [
              "\n",
              "  <div id=\"df-ca29f828-84f5-4328-ac49-7cb9112475e3\">\n",
              "    <div class=\"colab-df-container\">\n",
              "      <div>\n",
              "<style scoped>\n",
              "    .dataframe tbody tr th:only-of-type {\n",
              "        vertical-align: middle;\n",
              "    }\n",
              "\n",
              "    .dataframe tbody tr th {\n",
              "        vertical-align: top;\n",
              "    }\n",
              "\n",
              "    .dataframe thead th {\n",
              "        text-align: right;\n",
              "    }\n",
              "</style>\n",
              "<table border=\"1\" class=\"dataframe\">\n",
              "  <thead>\n",
              "    <tr style=\"text-align: right;\">\n",
              "      <th></th>\n",
              "      <th>errcode</th>\n",
              "    </tr>\n",
              "    <tr>\n",
              "      <th>errtype</th>\n",
              "      <th></th>\n",
              "    </tr>\n",
              "  </thead>\n",
              "  <tbody>\n",
              "    <tr>\n",
              "      <th>1</th>\n",
              "      <td>[0, P-44010, P-41011, P-41007 , P-44010 , P-41...</td>\n",
              "    </tr>\n",
              "    <tr>\n",
              "      <th>2</th>\n",
              "      <td>[1, 0]</td>\n",
              "    </tr>\n",
              "    <tr>\n",
              "      <th>3</th>\n",
              "      <td>[1, 2, 0]</td>\n",
              "    </tr>\n",
              "    <tr>\n",
              "      <th>4</th>\n",
              "      <td>[0, 1]</td>\n",
              "    </tr>\n",
              "    <tr>\n",
              "      <th>5</th>\n",
              "      <td>[B-A8002, Q-64002, S-61001, U-81009, V-21008, ...</td>\n",
              "    </tr>\n",
              "    <tr>\n",
              "      <th>6</th>\n",
              "      <td>[1, 14]</td>\n",
              "    </tr>\n",
              "    <tr>\n",
              "      <th>7</th>\n",
              "      <td>[1, 14]</td>\n",
              "    </tr>\n",
              "    <tr>\n",
              "      <th>8</th>\n",
              "      <td>[PHONE_ERR, PUBLIC_ERR, 20]</td>\n",
              "    </tr>\n",
              "    <tr>\n",
              "      <th>9</th>\n",
              "      <td>[V-21002, V-21005, 1, C-14014, V-21008, C-1203...</td>\n",
              "    </tr>\n",
              "    <tr>\n",
              "      <th>10</th>\n",
              "      <td>[1]</td>\n",
              "    </tr>\n",
              "    <tr>\n",
              "      <th>11</th>\n",
              "      <td>[1]</td>\n",
              "    </tr>\n",
              "    <tr>\n",
              "      <th>12</th>\n",
              "      <td>[1]</td>\n",
              "    </tr>\n",
              "    <tr>\n",
              "      <th>13</th>\n",
              "      <td>[1]</td>\n",
              "    </tr>\n",
              "    <tr>\n",
              "      <th>14</th>\n",
              "      <td>[1, 14, 13]</td>\n",
              "    </tr>\n",
              "    <tr>\n",
              "      <th>15</th>\n",
              "      <td>[1]</td>\n",
              "    </tr>\n",
              "    <tr>\n",
              "      <th>16</th>\n",
              "      <td>[1]</td>\n",
              "    </tr>\n",
              "    <tr>\n",
              "      <th>17</th>\n",
              "      <td>[14, 13, 1, 21, 12]</td>\n",
              "    </tr>\n",
              "    <tr>\n",
              "      <th>18</th>\n",
              "      <td>[1]</td>\n",
              "    </tr>\n",
              "    <tr>\n",
              "      <th>19</th>\n",
              "      <td>[1]</td>\n",
              "    </tr>\n",
              "    <tr>\n",
              "      <th>20</th>\n",
              "      <td>[1]</td>\n",
              "    </tr>\n",
              "    <tr>\n",
              "      <th>21</th>\n",
              "      <td>[1]</td>\n",
              "    </tr>\n",
              "    <tr>\n",
              "      <th>22</th>\n",
              "      <td>[1]</td>\n",
              "    </tr>\n",
              "    <tr>\n",
              "      <th>23</th>\n",
              "      <td>[standby, active, connection timeout, terminat...</td>\n",
              "    </tr>\n",
              "    <tr>\n",
              "      <th>24</th>\n",
              "      <td>[1]</td>\n",
              "    </tr>\n",
              "    <tr>\n",
              "      <th>25</th>\n",
              "      <td>[2, scanning timeout, 1, UNKNOWN, terminate by...</td>\n",
              "    </tr>\n",
              "    <tr>\n",
              "      <th>26</th>\n",
              "      <td>[1]</td>\n",
              "    </tr>\n",
              "    <tr>\n",
              "      <th>27</th>\n",
              "      <td>[1]</td>\n",
              "    </tr>\n",
              "    <tr>\n",
              "      <th>28</th>\n",
              "      <td>[1]</td>\n",
              "    </tr>\n",
              "    <tr>\n",
              "      <th>30</th>\n",
              "      <td>[4, 0, 1, 3, 2]</td>\n",
              "    </tr>\n",
              "    <tr>\n",
              "      <th>31</th>\n",
              "      <td>[1, 0]</td>\n",
              "    </tr>\n",
              "    <tr>\n",
              "      <th>32</th>\n",
              "      <td>[80, 79, 81, 86, 84, 77, 78, 85, 90, 89, 88, 8...</td>\n",
              "    </tr>\n",
              "    <tr>\n",
              "      <th>33</th>\n",
              "      <td>[2, 3, 1]</td>\n",
              "    </tr>\n",
              "    <tr>\n",
              "      <th>34</th>\n",
              "      <td>[4, 1, 2, 3, 6, 5]</td>\n",
              "    </tr>\n",
              "    <tr>\n",
              "      <th>35</th>\n",
              "      <td>[1]</td>\n",
              "    </tr>\n",
              "    <tr>\n",
              "      <th>36</th>\n",
              "      <td>[8.0]</td>\n",
              "    </tr>\n",
              "    <tr>\n",
              "      <th>37</th>\n",
              "      <td>[0, 1]</td>\n",
              "    </tr>\n",
              "    <tr>\n",
              "      <th>38</th>\n",
              "      <td>[6796, 5738, 6467, 4893, 5507, 39391, 3113, 36...</td>\n",
              "    </tr>\n",
              "    <tr>\n",
              "      <th>39</th>\n",
              "      <td>[1, 0]</td>\n",
              "    </tr>\n",
              "    <tr>\n",
              "      <th>40</th>\n",
              "      <td>[1, 0]</td>\n",
              "    </tr>\n",
              "    <tr>\n",
              "      <th>41</th>\n",
              "      <td>[NFANDROID2]</td>\n",
              "    </tr>\n",
              "    <tr>\n",
              "      <th>42</th>\n",
              "      <td>[3, 2]</td>\n",
              "    </tr>\n",
              "  </tbody>\n",
              "</table>\n",
              "</div>\n",
              "      <button class=\"colab-df-convert\" onclick=\"convertToInteractive('df-ca29f828-84f5-4328-ac49-7cb9112475e3')\"\n",
              "              title=\"Convert this dataframe to an interactive table.\"\n",
              "              style=\"display:none;\">\n",
              "        \n",
              "  <svg xmlns=\"http://www.w3.org/2000/svg\" height=\"24px\"viewBox=\"0 0 24 24\"\n",
              "       width=\"24px\">\n",
              "    <path d=\"M0 0h24v24H0V0z\" fill=\"none\"/>\n",
              "    <path d=\"M18.56 5.44l.94 2.06.94-2.06 2.06-.94-2.06-.94-.94-2.06-.94 2.06-2.06.94zm-11 1L8.5 8.5l.94-2.06 2.06-.94-2.06-.94L8.5 2.5l-.94 2.06-2.06.94zm10 10l.94 2.06.94-2.06 2.06-.94-2.06-.94-.94-2.06-.94 2.06-2.06.94z\"/><path d=\"M17.41 7.96l-1.37-1.37c-.4-.4-.92-.59-1.43-.59-.52 0-1.04.2-1.43.59L10.3 9.45l-7.72 7.72c-.78.78-.78 2.05 0 2.83L4 21.41c.39.39.9.59 1.41.59.51 0 1.02-.2 1.41-.59l7.78-7.78 2.81-2.81c.8-.78.8-2.07 0-2.86zM5.41 20L4 18.59l7.72-7.72 1.47 1.35L5.41 20z\"/>\n",
              "  </svg>\n",
              "      </button>\n",
              "      \n",
              "  <style>\n",
              "    .colab-df-container {\n",
              "      display:flex;\n",
              "      flex-wrap:wrap;\n",
              "      gap: 12px;\n",
              "    }\n",
              "\n",
              "    .colab-df-convert {\n",
              "      background-color: #E8F0FE;\n",
              "      border: none;\n",
              "      border-radius: 50%;\n",
              "      cursor: pointer;\n",
              "      display: none;\n",
              "      fill: #1967D2;\n",
              "      height: 32px;\n",
              "      padding: 0 0 0 0;\n",
              "      width: 32px;\n",
              "    }\n",
              "\n",
              "    .colab-df-convert:hover {\n",
              "      background-color: #E2EBFA;\n",
              "      box-shadow: 0px 1px 2px rgba(60, 64, 67, 0.3), 0px 1px 3px 1px rgba(60, 64, 67, 0.15);\n",
              "      fill: #174EA6;\n",
              "    }\n",
              "\n",
              "    [theme=dark] .colab-df-convert {\n",
              "      background-color: #3B4455;\n",
              "      fill: #D2E3FC;\n",
              "    }\n",
              "\n",
              "    [theme=dark] .colab-df-convert:hover {\n",
              "      background-color: #434B5C;\n",
              "      box-shadow: 0px 1px 3px 1px rgba(0, 0, 0, 0.15);\n",
              "      filter: drop-shadow(0px 1px 2px rgba(0, 0, 0, 0.3));\n",
              "      fill: #FFFFFF;\n",
              "    }\n",
              "  </style>\n",
              "\n",
              "      <script>\n",
              "        const buttonEl =\n",
              "          document.querySelector('#df-ca29f828-84f5-4328-ac49-7cb9112475e3 button.colab-df-convert');\n",
              "        buttonEl.style.display =\n",
              "          google.colab.kernel.accessAllowed ? 'block' : 'none';\n",
              "\n",
              "        async function convertToInteractive(key) {\n",
              "          const element = document.querySelector('#df-ca29f828-84f5-4328-ac49-7cb9112475e3');\n",
              "          const dataTable =\n",
              "            await google.colab.kernel.invokeFunction('convertToInteractive',\n",
              "                                                     [key], {});\n",
              "          if (!dataTable) return;\n",
              "\n",
              "          const docLinkHtml = 'Like what you see? Visit the ' +\n",
              "            '<a target=\"_blank\" href=https://colab.research.google.com/notebooks/data_table.ipynb>data table notebook</a>'\n",
              "            + ' to learn more about interactive tables.';\n",
              "          element.innerHTML = '';\n",
              "          dataTable['output_type'] = 'display_data';\n",
              "          await google.colab.output.renderOutput(dataTable, element);\n",
              "          const docLink = document.createElement('div');\n",
              "          docLink.innerHTML = docLinkHtml;\n",
              "          element.appendChild(docLink);\n",
              "        }\n",
              "      </script>\n",
              "    </div>\n",
              "  </div>\n",
              "  "
            ]
          },
          "metadata": {}
        }
      ]
    },
    {
      "cell_type": "markdown",
      "source": [
        "-> errtype은 errcode를 군집화시킨 변수임  \n",
        "  \n",
        "2. errtype은 중요한 변수였고 errcode가 errtype에 속함.  \n",
        "그렇다면 errcode도 종류별로 불만제기에 끼치는 영향이 다를까?"
      ],
      "metadata": {
        "id": "5EMicNOQ0K-U"
      }
    },
    {
      "cell_type": "markdown",
      "source": [
        "- 먼저, Errcode의 대표적인 종류는 다음과 같다.\n",
        "    - P-41001과 같은 문자+숫자형 에러코드\n",
        "    - 1, 13, 14와 같은 두자리수 이하의 에러코드\n",
        "    - 3113, 3395와 같은 세자리수 이상의 에러코드\n",
        "    - Connection Timeout, L2CAP Connection Cancelled와 같은 문장형 에러코드"
      ],
      "metadata": {
        "id": "6v3I-Ffw0ixy"
      }
    },
    {
      "cell_type": "code",
      "source": [
        "ey_ec = ey_ec.reset_index()\n",
        "display(sorted(list(ey_ec[ey_ec['errtype'] == 1].errcode.values[0][2:8])))\n",
        "display(sorted(list(ey_ec[ey_ec['errtype'] == 5].errcode.values[0][6:12])))\n",
        "display(sorted(list(ey_ec[ey_ec['errtype'] == 14].errcode.values[0][:])))\n",
        "display(sorted(list(ey_ec[ey_ec['errtype'] == 25].errcode.values[0][3:9])))\n",
        "display(sorted(list(ey_ec[ey_ec['errtype'] == 32].errcode.values[0][3:9])))\n",
        "display(sorted(list(ey_ec[ey_ec['errtype'] == 38].errcode.values[0][3:9])))"
      ],
      "metadata": {
        "colab": {
          "base_uri": "https://localhost:8080/",
          "height": 213
        },
        "id": "ACCeIRtu0JNn",
        "outputId": "5e679cbd-46cc-42a3-9554-2ece59af8a5b"
      },
      "execution_count": 74,
      "outputs": [
        {
          "output_type": "display_data",
          "data": {
            "text/plain": [
              "['P-41001', 'P-41007', 'P-41007 ', 'P-41011', 'P-41011 ', 'P-44010 ']"
            ]
          },
          "metadata": {}
        },
        {
          "output_type": "display_data",
          "data": {
            "text/plain": [
              "['C-11017', 'H-51042', 'J-30021', 'Q-64001', 'S-64002', 'S-65002']"
            ]
          },
          "metadata": {}
        },
        {
          "output_type": "display_data",
          "data": {
            "text/plain": [
              "['1', '13', '14']"
            ]
          },
          "metadata": {}
        },
        {
          "output_type": "display_data",
          "data": {
            "text/plain": [
              "['L2CAP connection cancelled',\n",
              " 'UNKNOWN',\n",
              " 'connection fail to establish',\n",
              " 'connection timeout',\n",
              " 'connectionterminated by local host',\n",
              " 'terminate by peer user']"
            ]
          },
          "metadata": {}
        },
        {
          "output_type": "display_data",
          "data": {
            "text/plain": [
              "['77', '78', '84', '85', '86', '90']"
            ]
          },
          "metadata": {}
        },
        {
          "output_type": "display_data",
          "data": {
            "text/plain": [
              "['3113', '3395', '3674', '39391', '4893', '5507']"
            ]
          },
          "metadata": {}
        }
      ]
    },
    {
      "cell_type": "markdown",
      "source": [
        "-> 이 중 불만제기율이 가장 높은 errcode는??"
      ],
      "metadata": {
        "id": "DMauuobQ0reh"
      }
    },
    {
      "cell_type": "code",
      "source": [
        "problem = train_prob.copy()\n",
        "p_id = sorted(problem['user_id'].unique())\n",
        "\n",
        "errin = err_total[err_total['user_id'].isin(p_id)]['errcode'].value_counts().to_dict()\n",
        "errout = err_total[~err_total['user_id'].isin(p_id)]['errcode'].value_counts().to_dict()"
      ],
      "metadata": {
        "id": "LOKrzWnL0pvG"
      },
      "execution_count": 75,
      "outputs": []
    },
    {
      "cell_type": "code",
      "source": [
        "errcode_prob = []\n",
        "most_error = []\n",
        "\n",
        "for i in errin:\n",
        "    try :\n",
        "        errcode_prob.append((i,errin[i]/(errin[i]+errout[i]),errin[i],errout[i]))\n",
        "    except :\n",
        "        errcode_prob.append((i,1,errin[i],0))\n",
        "    \n",
        "for i in errout:\n",
        "    if i in errin:\n",
        "        continue\n",
        "    errcode_prob.append((i,0,0,errout[i]))"
      ],
      "metadata": {
        "id": "nh__64x10zVC"
      },
      "execution_count": 76,
      "outputs": []
    },
    {
      "cell_type": "code",
      "source": [
        "errcode_prob.sort(key = lambda x: x[1], reverse = True)"
      ],
      "metadata": {
        "id": "OCZ4-9no00y4"
      },
      "execution_count": 77,
      "outputs": []
    },
    {
      "cell_type": "code",
      "source": [
        "most_error = []\n",
        "most_not_error = []\n",
        "\n",
        "for i in errcode_prob:\n",
        "    if i[2] >= 20 and i[3] >= 20:\n",
        "        if i[1] >= 0.75:\n",
        "            most_error.append(i[0])\n",
        "        elif i[1] <= 0.25 :\n",
        "            most_not_error.append(i[0])\n",
        "\n",
        "print(\"불만 제기 확률이 높은 에러코드 : {0}\".format(most_error))\n",
        "print(\"불만 제기 확률이 낮은 에러코드 : {0}\".format(most_not_error))"
      ],
      "metadata": {
        "colab": {
          "base_uri": "https://localhost:8080/"
        },
        "id": "aUFZsZ0m1IHX",
        "outputId": "41bbd508-17c7-4bc6-e32e-bed9396c33fc"
      },
      "execution_count": 78,
      "outputs": [
        {
          "output_type": "stream",
          "name": "stdout",
          "text": [
            "불만 제기 확률이 높은 에러코드 : ['scanning timeout', '5', '6', 'V-21008', 'terminate by peer user', 'V-21005']\n",
            "불만 제기 확률이 낮은 에러코드 : ['Q-64001', 'Q-64002', 'P-44010', 'PHONE_ERR', 'B-51049', 'H-51049']\n"
          ]
        }
      ]
    },
    {
      "cell_type": "markdown",
      "source": [
        "**특정 errcode가 불만 제기에 유의미한 영향을 미침**을 알 수 있음  \n",
        "-> 따라서 errcode와 불만제기 간의 관계를 알 수 있는 파생변수를 만들어야함"
      ],
      "metadata": {
        "id": "xlMwZxDI1KEG"
      }
    },
    {
      "cell_type": "markdown",
      "source": [
        "# 5-3. fwver\n",
        "- 먼저, Fwver의 대표적인 종류는 다음과 같다.\n",
        "    - '03'으로 시작하는 펌웨어 버전\n",
        "    - '04'으로 시작하는 펌웨어 버전\n",
        "    - '05'으로 시작하는 펌웨어 버전\n",
        "    - '10', '8.5.3' 특수한 펌웨어 버전"
      ],
      "metadata": {
        "id": "51AutxU11emb"
      }
    },
    {
      "cell_type": "code",
      "source": [
        "print(sorted(train_err.fwver.unique()))"
      ],
      "metadata": {
        "colab": {
          "base_uri": "https://localhost:8080/"
        },
        "id": "pkefVYE61JTq",
        "outputId": "4dc2e308-d5af-4851-ee15-37967418f4e1"
      },
      "execution_count": 79,
      "outputs": [
        {
          "output_type": "stream",
          "name": "stdout",
          "text": [
            "['03.11.1141', '03.11.1149', '03.11.1167', '04.16.2641', '04.16.3345', '04.16.3439', '04.16.3553', '04.16.3569', '04.16.3571', '04.22.1442', '04.22.1656', '04.22.1666', '04.22.1684', '04.22.1750', '04.22.1778', '04.33.1095', '04.33.1125', '04.33.1149', '04.33.1171', '04.33.1185', '04.33.1261', '04.73.2237', '04.73.2571', '04.82.1684', '04.82.1730', '04.82.1778', '05.15.2090', '05.15.2092', '05.15.2114', '05.15.2120', '05.15.2122', '05.15.2138', '05.15.3104', '05.66.3237', '05.66.3571', '10', '8.5.3']\n"
          ]
        }
      ]
    },
    {
      "cell_type": "markdown",
      "source": [
        "1. 펌웨어 버전에 따라 불만제기율이 달라질까?"
      ],
      "metadata": {
        "id": "Zs1dRqnU1ocp"
      }
    },
    {
      "cell_type": "code",
      "source": [
        "def relation_fw_complain(data): # 펌웨어 버젼과 불만 제기와의 관계\n",
        "    fwlst = list(data['fwver'].value_counts().keys())\n",
        "    result = []\n",
        "    for i in tqdm(fwlst):\n",
        "        f1 = sorted(list(data[data['fwver'] == i].user_id.unique()))\n",
        "        f2 = sorted(list(train_prob[train_prob['user_id'].isin(f1)]['user_id'].unique()))\n",
        "        if (len(f2)/len(f1) >= 0.5) and (len(f1) >= 5):\n",
        "            result.append([i, len(f2)/len(f1), f2, f1])\n",
        "    return result"
      ],
      "metadata": {
        "id": "cADi-ErV1nM9"
      },
      "execution_count": 80,
      "outputs": []
    },
    {
      "cell_type": "code",
      "source": [
        "def view_relation_fw_complain(data):\n",
        "    result = relation_fw_complain(data)\n",
        "    for i in range(len(result)):\n",
        "        fw = result[i][0]\n",
        "        fp = result[i][1] * 100\n",
        "        fww = result[i][2]\n",
        "        fwp = result[i][3]\n",
        "        print(\"펌웨어 버전 %s를 사용중인 사람들 가운데, %.2f%%는 불만을 제기하였습니다. \\n불만 제기를 한 사람의 수는 전체 %s명중 %s명입니다.\\n\"%(fw, fp, len(fwp), len(fww)))"
      ],
      "metadata": {
        "id": "EzrjBVWm1uLo"
      },
      "execution_count": 81,
      "outputs": []
    },
    {
      "cell_type": "code",
      "source": [
        "view_relation_fw_complain(train_err)"
      ],
      "metadata": {
        "colab": {
          "base_uri": "https://localhost:8080/"
        },
        "id": "JxpmjfvI1wVo",
        "outputId": "5ed50a6b-ff5a-413b-d211-b849da6bb827"
      },
      "execution_count": 82,
      "outputs": [
        {
          "output_type": "stream",
          "name": "stderr",
          "text": [
            "100%|██████████| 37/37 [00:39<00:00,  1.08s/it]"
          ]
        },
        {
          "output_type": "stream",
          "name": "stdout",
          "text": [
            "펌웨어 버전 04.16.3571를 사용중인 사람들 가운데, 58.76%는 불만을 제기하였습니다. \n",
            "불만 제기를 한 사람의 수는 전체 502명중 295명입니다.\n",
            "\n",
            "펌웨어 버전 05.66.3237를 사용중인 사람들 가운데, 52.46%는 불만을 제기하였습니다. \n",
            "불만 제기를 한 사람의 수는 전체 61명중 32명입니다.\n",
            "\n",
            "펌웨어 버전 04.82.1778를 사용중인 사람들 가운데, 50.00%는 불만을 제기하였습니다. \n",
            "불만 제기를 한 사람의 수는 전체 40명중 20명입니다.\n",
            "\n",
            "펌웨어 버전 05.66.3571를 사용중인 사람들 가운데, 53.33%는 불만을 제기하였습니다. \n",
            "불만 제기를 한 사람의 수는 전체 15명중 8명입니다.\n",
            "\n",
            "펌웨어 버전 04.33.1149를 사용중인 사람들 가운데, 70.00%는 불만을 제기하였습니다. \n",
            "불만 제기를 한 사람의 수는 전체 160명중 112명입니다.\n",
            "\n",
            "펌웨어 버전 04.73.2571를 사용중인 사람들 가운데, 66.67%는 불만을 제기하였습니다. \n",
            "불만 제기를 한 사람의 수는 전체 12명중 8명입니다.\n",
            "\n",
            "펌웨어 버전 04.33.1125를 사용중인 사람들 가운데, 66.67%는 불만을 제기하였습니다. \n",
            "불만 제기를 한 사람의 수는 전체 6명중 4명입니다.\n",
            "\n"
          ]
        },
        {
          "output_type": "stream",
          "name": "stderr",
          "text": [
            "\n"
          ]
        }
      ]
    },
    {
      "cell_type": "markdown",
      "source": [
        "**특정 펌웨어 버전이 불만제기에 영향을 미침**을 알 수 있다.\n",
        "-> 따라서 펌웨어 버전과 불만제기율 간의 관계를 알 수 있는 파생변수를 만들어야 함"
      ],
      "metadata": {
        "id": "bFlX16_Y10VT"
      }
    },
    {
      "cell_type": "code",
      "source": [
        "view_relation_fw_complain(train_qual)"
      ],
      "metadata": {
        "colab": {
          "base_uri": "https://localhost:8080/"
        },
        "id": "ifII-QRt1yme",
        "outputId": "eeb61443-6f22-4473-f019-39edfebf17e2"
      },
      "execution_count": 83,
      "outputs": [
        {
          "output_type": "stream",
          "name": "stderr",
          "text": [
            "100%|██████████| 27/27 [00:02<00:00, 10.24it/s]"
          ]
        },
        {
          "output_type": "stream",
          "name": "stdout",
          "text": [
            "펌웨어 버전 04.22.1684를 사용중인 사람들 가운데, 59.09%는 불만을 제기하였습니다. \n",
            "불만 제기를 한 사람의 수는 전체 22명중 13명입니다.\n",
            "\n",
            "펌웨어 버전 09.17.1431를 사용중인 사람들 가운데, 96.00%는 불만을 제기하였습니다. \n",
            "불만 제기를 한 사람의 수는 전체 25명중 24명입니다.\n",
            "\n",
            "펌웨어 버전 04.16.3571를 사용중인 사람들 가운데, 63.24%는 불만을 제기하였습니다. \n",
            "불만 제기를 한 사람의 수는 전체 68명중 43명입니다.\n",
            "\n",
            "펌웨어 버전 04.82.1684를 사용중인 사람들 가운데, 54.55%는 불만을 제기하였습니다. \n",
            "불만 제기를 한 사람의 수는 전체 22명중 12명입니다.\n",
            "\n",
            "펌웨어 버전 04.33.1149를 사용중인 사람들 가운데, 70.27%는 불만을 제기하였습니다. \n",
            "불만 제기를 한 사람의 수는 전체 37명중 26명입니다.\n",
            "\n",
            "펌웨어 버전 05.66.3237를 사용중인 사람들 가운데, 75.00%는 불만을 제기하였습니다. \n",
            "불만 제기를 한 사람의 수는 전체 8명중 6명입니다.\n",
            "\n",
            "펌웨어 버전 04.82.1778를 사용중인 사람들 가운데, 61.54%는 불만을 제기하였습니다. \n",
            "불만 제기를 한 사람의 수는 전체 13명중 8명입니다.\n",
            "\n",
            "펌웨어 버전 05.66.3571를 사용중인 사람들 가운데, 60.00%는 불만을 제기하였습니다. \n",
            "불만 제기를 한 사람의 수는 전체 5명중 3명입니다.\n",
            "\n"
          ]
        },
        {
          "output_type": "stream",
          "name": "stderr",
          "text": [
            "\n"
          ]
        }
      ]
    },
    {
      "cell_type": "markdown",
      "source": [
        "2. fwver 앞 4자리만 같고, 뒤 4자리가 다른 버전들이 존재 -> 펌웨어 버전의 업데이트가 영향을 미칠까?"
      ],
      "metadata": {
        "id": "tn0KhnyqCz3Q"
      }
    },
    {
      "cell_type": "code",
      "source": [
        "train_fw = train_err.copy()"
      ],
      "metadata": {
        "id": "J7pRyn_h2FbW"
      },
      "execution_count": 84,
      "outputs": []
    },
    {
      "cell_type": "code",
      "source": [
        "train_fw['fwver'] = train_fw['fwver'].apply(lambda x : x.replace(\".\",\"\"))\n",
        "train_fw['fwver'] = train_fw['fwver'].apply(lambda x : int(x))"
      ],
      "metadata": {
        "id": "QvpdT-evDAMY"
      },
      "execution_count": 85,
      "outputs": []
    },
    {
      "cell_type": "code",
      "source": [
        "te_uf = train_fw[['user_id', 'fwver']]\n",
        "fw_df = ~(te_uf == te_uf.shift(1))"
      ],
      "metadata": {
        "id": "pM7wPj1VDWxX"
      },
      "execution_count": 86,
      "outputs": []
    },
    {
      "cell_type": "code",
      "source": [
        "logical = (fw_df.user_id.apply(int) + fw_df.fwver.apply(int)) > 0\n",
        "tre_fw_counts = te_uf[logical]"
      ],
      "metadata": {
        "id": "9nBb9UMbDf82"
      },
      "execution_count": 88,
      "outputs": []
    },
    {
      "cell_type": "code",
      "source": [
        "user_id_2_fw = tre_fw_counts.user_id.value_counts()\n",
        "user_id_lst_2_fw = list(user_id_2_fw.loc[user_id_2_fw == 2].to_frame().index)"
      ],
      "metadata": {
        "id": "BVM2bBJmDp4A"
      },
      "execution_count": 90,
      "outputs": []
    },
    {
      "cell_type": "code",
      "source": [
        "sort_two_fw_user = train_fw.loc[train_fw.user_id.isin(user_id_lst_2_fw)].drop_duplicates(['user_id','fwver'],keep='last').drop_duplicates('user_id',keep='first').sort_values(\"time\").user_id"
      ],
      "metadata": {
        "id": "H_SbqMnnD-4D"
      },
      "execution_count": 91,
      "outputs": []
    },
    {
      "cell_type": "code",
      "source": [
        "operator1 = len(user_id_lst_2_fw)\n",
        "operator2 = len(list(train_prob[train_prob['user_id'].isin(user_id_lst_2_fw)].user_id.unique()))\n",
        "\n",
        "print(\"펌웨어 버전이 변하는 시기에 불만을 제기한 사람 {0}%\".format(round(operator2 / operator1 * 100,2)))"
      ],
      "metadata": {
        "colab": {
          "base_uri": "https://localhost:8080/"
        },
        "id": "ZZOqZZxyEbG0",
        "outputId": "22b8ca43-f665-49d9-accd-cbff8cb05308"
      },
      "execution_count": 92,
      "outputs": [
        {
          "output_type": "stream",
          "name": "stdout",
          "text": [
            "펌웨어 버전이 변하는 시기에 불만을 제기한 사람 36.45%\n"
          ]
        }
      ]
    },
    {
      "cell_type": "markdown",
      "source": [
        "**펌웨어 버전 업데이트가 불만 제기에 유의미한 영향을 미침**을 알 수 있다.  \n",
        "-> 따라서 펌웨어 버전 변화에 따른 불만 제기를 알 수 있는 파생변수를 만들어야 함을 알 수 있다."
      ],
      "metadata": {
        "id": "ChsJOTk3FAFO"
      }
    },
    {
      "cell_type": "markdown",
      "source": [
        "# 5-4 Model(모델 버전)\n",
        "- 먼저, Model의 종류는 다음과 같다ㅏ.\n",
        "    - Model_0 부터 Model_8까지 총 9가지 종류의 모델 넘버가 존재"
      ],
      "metadata": {
        "id": "HHO9QmQDFR_a"
      }
    },
    {
      "cell_type": "code",
      "source": [
        "print(sorted(list(train_err.model_nm.unique())))"
      ],
      "metadata": {
        "colab": {
          "base_uri": "https://localhost:8080/"
        },
        "id": "cBPvCwfxE-sK",
        "outputId": "80ae665e-c307-469a-be8a-da4190e85447"
      },
      "execution_count": 93,
      "outputs": [
        {
          "output_type": "stream",
          "name": "stdout",
          "text": [
            "['model_0', 'model_1', 'model_2', 'model_3', 'model_4', 'model_5', 'model_6', 'model_7', 'model_8']\n"
          ]
        }
      ]
    },
    {
      "cell_type": "markdown",
      "source": [
        "1. 모델 버전과 펌웨어 버전의 관계"
      ],
      "metadata": {
        "id": "yE2SU1nzZKRD"
      }
    },
    {
      "cell_type": "code",
      "source": [
        "display(train_err.groupby('model_nm')['fwver'].unique().to_frame().reset_index())"
      ],
      "metadata": {
        "colab": {
          "base_uri": "https://localhost:8080/",
          "height": 332
        },
        "id": "DyoSAInWY-Wj",
        "outputId": "6f03db2f-2f2f-4312-a4c7-3179cf7029ec"
      },
      "execution_count": 94,
      "outputs": [
        {
          "output_type": "display_data",
          "data": {
            "text/plain": [
              "  model_nm                                              fwver\n",
              "0  model_0  [04.22.1750, 04.22.1778, 04.22.1684, 04.22.166...\n",
              "1  model_1  [04.16.3553, 04.16.3571, 04.16.3439, 04.16.356...\n",
              "2  model_2  [04.33.1185, 04.33.1261, 04.33.1149, 04.33.117...\n",
              "3  model_3  [05.15.2138, 05.15.2120, 05.15.2090, 05.15.310...\n",
              "4  model_4               [03.11.1149, 03.11.1167, 03.11.1141]\n",
              "5  model_5               [04.82.1684, 04.82.1778, 04.82.1730]\n",
              "6  model_6                                        [10, 8.5.3]\n",
              "7  model_7                           [05.66.3237, 05.66.3571]\n",
              "8  model_8                           [04.73.2237, 04.73.2571]"
            ],
            "text/html": [
              "\n",
              "  <div id=\"df-3d865720-5cce-40ff-b965-ad7531491cfa\">\n",
              "    <div class=\"colab-df-container\">\n",
              "      <div>\n",
              "<style scoped>\n",
              "    .dataframe tbody tr th:only-of-type {\n",
              "        vertical-align: middle;\n",
              "    }\n",
              "\n",
              "    .dataframe tbody tr th {\n",
              "        vertical-align: top;\n",
              "    }\n",
              "\n",
              "    .dataframe thead th {\n",
              "        text-align: right;\n",
              "    }\n",
              "</style>\n",
              "<table border=\"1\" class=\"dataframe\">\n",
              "  <thead>\n",
              "    <tr style=\"text-align: right;\">\n",
              "      <th></th>\n",
              "      <th>model_nm</th>\n",
              "      <th>fwver</th>\n",
              "    </tr>\n",
              "  </thead>\n",
              "  <tbody>\n",
              "    <tr>\n",
              "      <th>0</th>\n",
              "      <td>model_0</td>\n",
              "      <td>[04.22.1750, 04.22.1778, 04.22.1684, 04.22.166...</td>\n",
              "    </tr>\n",
              "    <tr>\n",
              "      <th>1</th>\n",
              "      <td>model_1</td>\n",
              "      <td>[04.16.3553, 04.16.3571, 04.16.3439, 04.16.356...</td>\n",
              "    </tr>\n",
              "    <tr>\n",
              "      <th>2</th>\n",
              "      <td>model_2</td>\n",
              "      <td>[04.33.1185, 04.33.1261, 04.33.1149, 04.33.117...</td>\n",
              "    </tr>\n",
              "    <tr>\n",
              "      <th>3</th>\n",
              "      <td>model_3</td>\n",
              "      <td>[05.15.2138, 05.15.2120, 05.15.2090, 05.15.310...</td>\n",
              "    </tr>\n",
              "    <tr>\n",
              "      <th>4</th>\n",
              "      <td>model_4</td>\n",
              "      <td>[03.11.1149, 03.11.1167, 03.11.1141]</td>\n",
              "    </tr>\n",
              "    <tr>\n",
              "      <th>5</th>\n",
              "      <td>model_5</td>\n",
              "      <td>[04.82.1684, 04.82.1778, 04.82.1730]</td>\n",
              "    </tr>\n",
              "    <tr>\n",
              "      <th>6</th>\n",
              "      <td>model_6</td>\n",
              "      <td>[10, 8.5.3]</td>\n",
              "    </tr>\n",
              "    <tr>\n",
              "      <th>7</th>\n",
              "      <td>model_7</td>\n",
              "      <td>[05.66.3237, 05.66.3571]</td>\n",
              "    </tr>\n",
              "    <tr>\n",
              "      <th>8</th>\n",
              "      <td>model_8</td>\n",
              "      <td>[04.73.2237, 04.73.2571]</td>\n",
              "    </tr>\n",
              "  </tbody>\n",
              "</table>\n",
              "</div>\n",
              "      <button class=\"colab-df-convert\" onclick=\"convertToInteractive('df-3d865720-5cce-40ff-b965-ad7531491cfa')\"\n",
              "              title=\"Convert this dataframe to an interactive table.\"\n",
              "              style=\"display:none;\">\n",
              "        \n",
              "  <svg xmlns=\"http://www.w3.org/2000/svg\" height=\"24px\"viewBox=\"0 0 24 24\"\n",
              "       width=\"24px\">\n",
              "    <path d=\"M0 0h24v24H0V0z\" fill=\"none\"/>\n",
              "    <path d=\"M18.56 5.44l.94 2.06.94-2.06 2.06-.94-2.06-.94-.94-2.06-.94 2.06-2.06.94zm-11 1L8.5 8.5l.94-2.06 2.06-.94-2.06-.94L8.5 2.5l-.94 2.06-2.06.94zm10 10l.94 2.06.94-2.06 2.06-.94-2.06-.94-.94-2.06-.94 2.06-2.06.94z\"/><path d=\"M17.41 7.96l-1.37-1.37c-.4-.4-.92-.59-1.43-.59-.52 0-1.04.2-1.43.59L10.3 9.45l-7.72 7.72c-.78.78-.78 2.05 0 2.83L4 21.41c.39.39.9.59 1.41.59.51 0 1.02-.2 1.41-.59l7.78-7.78 2.81-2.81c.8-.78.8-2.07 0-2.86zM5.41 20L4 18.59l7.72-7.72 1.47 1.35L5.41 20z\"/>\n",
              "  </svg>\n",
              "      </button>\n",
              "      \n",
              "  <style>\n",
              "    .colab-df-container {\n",
              "      display:flex;\n",
              "      flex-wrap:wrap;\n",
              "      gap: 12px;\n",
              "    }\n",
              "\n",
              "    .colab-df-convert {\n",
              "      background-color: #E8F0FE;\n",
              "      border: none;\n",
              "      border-radius: 50%;\n",
              "      cursor: pointer;\n",
              "      display: none;\n",
              "      fill: #1967D2;\n",
              "      height: 32px;\n",
              "      padding: 0 0 0 0;\n",
              "      width: 32px;\n",
              "    }\n",
              "\n",
              "    .colab-df-convert:hover {\n",
              "      background-color: #E2EBFA;\n",
              "      box-shadow: 0px 1px 2px rgba(60, 64, 67, 0.3), 0px 1px 3px 1px rgba(60, 64, 67, 0.15);\n",
              "      fill: #174EA6;\n",
              "    }\n",
              "\n",
              "    [theme=dark] .colab-df-convert {\n",
              "      background-color: #3B4455;\n",
              "      fill: #D2E3FC;\n",
              "    }\n",
              "\n",
              "    [theme=dark] .colab-df-convert:hover {\n",
              "      background-color: #434B5C;\n",
              "      box-shadow: 0px 1px 3px 1px rgba(0, 0, 0, 0.15);\n",
              "      filter: drop-shadow(0px 1px 2px rgba(0, 0, 0, 0.3));\n",
              "      fill: #FFFFFF;\n",
              "    }\n",
              "  </style>\n",
              "\n",
              "      <script>\n",
              "        const buttonEl =\n",
              "          document.querySelector('#df-3d865720-5cce-40ff-b965-ad7531491cfa button.colab-df-convert');\n",
              "        buttonEl.style.display =\n",
              "          google.colab.kernel.accessAllowed ? 'block' : 'none';\n",
              "\n",
              "        async function convertToInteractive(key) {\n",
              "          const element = document.querySelector('#df-3d865720-5cce-40ff-b965-ad7531491cfa');\n",
              "          const dataTable =\n",
              "            await google.colab.kernel.invokeFunction('convertToInteractive',\n",
              "                                                     [key], {});\n",
              "          if (!dataTable) return;\n",
              "\n",
              "          const docLinkHtml = 'Like what you see? Visit the ' +\n",
              "            '<a target=\"_blank\" href=https://colab.research.google.com/notebooks/data_table.ipynb>data table notebook</a>'\n",
              "            + ' to learn more about interactive tables.';\n",
              "          element.innerHTML = '';\n",
              "          dataTable['output_type'] = 'display_data';\n",
              "          await google.colab.output.renderOutput(dataTable, element);\n",
              "          const docLink = document.createElement('div');\n",
              "          docLink.innerHTML = docLinkHtml;\n",
              "          element.appendChild(docLink);\n",
              "        }\n",
              "      </script>\n",
              "    </div>\n",
              "  </div>\n",
              "  "
            ]
          },
          "metadata": {}
        }
      ]
    },
    {
      "cell_type": "code",
      "source": [
        "# 모델마다 펌웨어 버전이 다름을 보여주는 코드\n",
        "for i in range(9):\n",
        "    nm = 'model_' + str(i)\n",
        "    print(\"모델 :\",nm, \"->\\n\", sorted(list(train_err[train_err['model_nm']==nm]['fwver'].unique())))"
      ],
      "metadata": {
        "colab": {
          "base_uri": "https://localhost:8080/"
        },
        "id": "1MhQzu9pZIft",
        "outputId": "6e281cd6-1e73-4300-d40f-a069453da286"
      },
      "execution_count": 96,
      "outputs": [
        {
          "output_type": "stream",
          "name": "stdout",
          "text": [
            "모델 : model_0 ->\n",
            " ['04.22.1442', '04.22.1656', '04.22.1666', '04.22.1684', '04.22.1750', '04.22.1778']\n",
            "모델 : model_1 ->\n",
            " ['04.16.2641', '04.16.3345', '04.16.3439', '04.16.3553', '04.16.3569', '04.16.3571']\n",
            "모델 : model_2 ->\n",
            " ['04.33.1095', '04.33.1125', '04.33.1149', '04.33.1171', '04.33.1185', '04.33.1261']\n",
            "모델 : model_3 ->\n",
            " ['05.15.2090', '05.15.2092', '05.15.2114', '05.15.2120', '05.15.2122', '05.15.2138', '05.15.3104']\n",
            "모델 : model_4 ->\n",
            " ['03.11.1141', '03.11.1149', '03.11.1167']\n",
            "모델 : model_5 ->\n",
            " ['04.82.1684', '04.82.1730', '04.82.1778']\n",
            "모델 : model_6 ->\n",
            " ['10', '8.5.3']\n",
            "모델 : model_7 ->\n",
            " ['05.66.3237', '05.66.3571']\n",
            "모델 : model_8 ->\n",
            " ['04.73.2237', '04.73.2571']\n"
          ]
        }
      ]
    },
    {
      "cell_type": "markdown",
      "source": [
        "-> 모델과 펌웨어 버전은 종속적인 관계로, 모델별 펌웨어 버전이 존제함을 알 수 있다."
      ],
      "metadata": {
        "id": "1td_HH31ZsT4"
      }
    },
    {
      "cell_type": "markdown",
      "source": [
        "2. 모델 버전 변경의 영향력"
      ],
      "metadata": {
        "id": "0R12ktsTZyiE"
      }
    },
    {
      "cell_type": "code",
      "source": [
        "train_md = train_err.copy()\n",
        "train_md['model_nm'] = train_md['model_nm'].apply(lambda x : x.replace(\"_\",\"\"))\n",
        "train_md['model_nm'] = train_md['model_nm'].apply(lambda x : str(x)[5])"
      ],
      "metadata": {
        "id": "C1fBKNZWZls9"
      },
      "execution_count": 97,
      "outputs": []
    },
    {
      "cell_type": "code",
      "source": [
        "te_uf = train_md[['user_id', 'model_nm']]\n",
        "md_df = ~(te_uf == te_uf.shift(1))"
      ],
      "metadata": {
        "id": "9QB3QqXzaKZb"
      },
      "execution_count": 98,
      "outputs": []
    },
    {
      "cell_type": "code",
      "source": [
        "logical = (md_df.user_id.apply(int) + md_df.model_nm.apply(int)) > 0\n",
        "tre_md_counts = te_uf[logical]"
      ],
      "metadata": {
        "id": "1jP9Kv0eaUpD"
      },
      "execution_count": 99,
      "outputs": []
    },
    {
      "cell_type": "code",
      "source": [
        "user_id_2_md = tre_md_counts.user_id.value_counts()\n",
        "user_id_lst_2_md = list(user_id_2_md.loc[user_id_2_md == 2].to_frame().index)"
      ],
      "metadata": {
        "id": "PwhhrCA-ao1l"
      },
      "execution_count": 101,
      "outputs": []
    },
    {
      "cell_type": "code",
      "source": [
        "sort_two_md_user = train_md.loc[train_md.user_id.isin(user_id_lst_2_md)].drop_duplicates(['user_id', 'model_nm'],keep='last').drop_duplicates('user_id',keep='first').sort_values('time').user_id"
      ],
      "metadata": {
        "id": "UC-t3Ip_auMB"
      },
      "execution_count": 103,
      "outputs": []
    },
    {
      "cell_type": "code",
      "source": [
        "operator1_m = len(user_id_lst_2_md)\n",
        "operator2_m = len(list(train_prob[train_prob['user_id'].isin(user_id_lst_2_md)].user_id.unique()))\n",
        "\n",
        "print(\"모델이 변하는 시기에 불만을 제기한 사람 {0}%\".format(round(operator2_m / operator1_m * 100,2)))"
      ],
      "metadata": {
        "colab": {
          "base_uri": "https://localhost:8080/"
        },
        "id": "-1ivjZNsbWLg",
        "outputId": "36aafe7a-f3b7-458a-be36-c5a173e8e1e5"
      },
      "execution_count": 104,
      "outputs": [
        {
          "output_type": "stream",
          "name": "stdout",
          "text": [
            "모델이 변하는 시기에 불만을 제기한 사람 91.57%\n"
          ]
        }
      ]
    },
    {
      "cell_type": "markdown",
      "source": [
        "##### 모델 버전의 변경은 불만제기에 큰 영향을 미친다\n",
        "-> 따라서 모델 버전의 변화와 불만제기 간의 관계를 알 수 있는 파생변수를 만들어야함"
      ],
      "metadata": {
        "id": "oYeFwvUkbkKM"
      }
    },
    {
      "cell_type": "markdown",
      "source": [
        "# 6. quality data 수치 분석"
      ],
      "metadata": {
        "id": "ks2JiXtNb0mz"
      }
    },
    {
      "cell_type": "code",
      "source": [
        "train_qual.iloc[:,[1,0,3,4,5,6,7,8,9,10,11,12,13,14,15]][12372:12390]"
      ],
      "metadata": {
        "colab": {
          "base_uri": "https://localhost:8080/",
          "height": 1000
        },
        "id": "2c7RwivzbikS",
        "outputId": "13f3065f-5fbb-4741-96e7-dc4263c901d8"
      },
      "execution_count": 105,
      "outputs": [
        {
          "output_type": "execute_result",
          "data": {
            "text/plain": [
              "       user_id                 time  quality_0  quality_1  quality_2  \\\n",
              "12372    10265  2020-11-08 07:50:00          0          0          0   \n",
              "12373    10265  2020-11-08 07:50:00          0          0          1   \n",
              "12374    10265  2020-11-08 07:50:00          0          0          4   \n",
              "12375    10265  2020-11-08 07:50:00          0          1         21   \n",
              "12376    10265  2020-11-08 07:50:00          0          0         54   \n",
              "12377    10265  2020-11-08 07:50:00          0          0          0   \n",
              "12378    10265  2020-11-08 07:50:00          0          0         37   \n",
              "12379    10265  2020-11-08 07:50:00          0          0          0   \n",
              "12380    10265  2020-11-08 07:50:00          0          0          0   \n",
              "12381    10265  2020-11-08 07:50:00          0          0          0   \n",
              "12382    10265  2020-11-08 07:50:00          0          0          2   \n",
              "12383    10265  2020-11-08 07:50:00          0          0          0   \n",
              "12384    10265  2020-11-08 09:50:00          0          0          0   \n",
              "12385    10265  2020-11-08 09:50:00          0          0          0   \n",
              "12386    10265  2020-11-08 09:50:00          0          0          0   \n",
              "12387    10265  2020-11-08 09:50:00          0          0          0   \n",
              "12388    10265  2020-11-08 09:50:00          0          0          0   \n",
              "12389    10265  2020-11-08 09:50:00          0          0          0   \n",
              "\n",
              "       quality_3  quality_4  quality_5  quality_6  quality_7  quality_8  \\\n",
              "12372          0          0          0          0         13          1   \n",
              "12373          0          0          4          1         13          1   \n",
              "12374          0          0         12          0         13          1   \n",
              "12375          0          0         23         12         13          1   \n",
              "12376          0          0         54          0         13          1   \n",
              "12377          0          0          0          0         13          1   \n",
              "12378          0          0         37          0         13          1   \n",
              "12379          0          0          0          0         13          1   \n",
              "12380          0          0          0          0         13          1   \n",
              "12381          0          0          0          0         13          1   \n",
              "12382          0          0          2          0         13          1   \n",
              "12383          0          0          0          0         13          1   \n",
              "12384          0          0          0          0          0          0   \n",
              "12385          0          0          0          0          0          0   \n",
              "12386          0          0          0          0          0          0   \n",
              "12387          0          0          0          0          0          0   \n",
              "12388          0          0          0          0          0          0   \n",
              "12389          0          0          0          0          0          0   \n",
              "\n",
              "       quality_9  quality_10  quality_11  quality_12  \n",
              "12372        119         132           0           2  \n",
              "12373        119         132           1           2  \n",
              "12374        119         132           1           2  \n",
              "12375        119         132           0           2  \n",
              "12376        119         132           0           2  \n",
              "12377        119         132           0           2  \n",
              "12378        119         132           0           2  \n",
              "12379        119         132           0           2  \n",
              "12380        119         132           0           2  \n",
              "12381        119         132           0           2  \n",
              "12382        119         132           0           2  \n",
              "12383        119         132           0           2  \n",
              "12384         12          28           0           0  \n",
              "12385         12          28           0           0  \n",
              "12386         12          28           0           0  \n",
              "12387         12          28           0           0  \n",
              "12388         12          28           0           0  \n",
              "12389         12          28           0           0  "
            ],
            "text/html": [
              "\n",
              "  <div id=\"df-c88d0793-4dd6-4a6a-9453-051f386bc8e9\">\n",
              "    <div class=\"colab-df-container\">\n",
              "      <div>\n",
              "<style scoped>\n",
              "    .dataframe tbody tr th:only-of-type {\n",
              "        vertical-align: middle;\n",
              "    }\n",
              "\n",
              "    .dataframe tbody tr th {\n",
              "        vertical-align: top;\n",
              "    }\n",
              "\n",
              "    .dataframe thead th {\n",
              "        text-align: right;\n",
              "    }\n",
              "</style>\n",
              "<table border=\"1\" class=\"dataframe\">\n",
              "  <thead>\n",
              "    <tr style=\"text-align: right;\">\n",
              "      <th></th>\n",
              "      <th>user_id</th>\n",
              "      <th>time</th>\n",
              "      <th>quality_0</th>\n",
              "      <th>quality_1</th>\n",
              "      <th>quality_2</th>\n",
              "      <th>quality_3</th>\n",
              "      <th>quality_4</th>\n",
              "      <th>quality_5</th>\n",
              "      <th>quality_6</th>\n",
              "      <th>quality_7</th>\n",
              "      <th>quality_8</th>\n",
              "      <th>quality_9</th>\n",
              "      <th>quality_10</th>\n",
              "      <th>quality_11</th>\n",
              "      <th>quality_12</th>\n",
              "    </tr>\n",
              "  </thead>\n",
              "  <tbody>\n",
              "    <tr>\n",
              "      <th>12372</th>\n",
              "      <td>10265</td>\n",
              "      <td>2020-11-08 07:50:00</td>\n",
              "      <td>0</td>\n",
              "      <td>0</td>\n",
              "      <td>0</td>\n",
              "      <td>0</td>\n",
              "      <td>0</td>\n",
              "      <td>0</td>\n",
              "      <td>0</td>\n",
              "      <td>13</td>\n",
              "      <td>1</td>\n",
              "      <td>119</td>\n",
              "      <td>132</td>\n",
              "      <td>0</td>\n",
              "      <td>2</td>\n",
              "    </tr>\n",
              "    <tr>\n",
              "      <th>12373</th>\n",
              "      <td>10265</td>\n",
              "      <td>2020-11-08 07:50:00</td>\n",
              "      <td>0</td>\n",
              "      <td>0</td>\n",
              "      <td>1</td>\n",
              "      <td>0</td>\n",
              "      <td>0</td>\n",
              "      <td>4</td>\n",
              "      <td>1</td>\n",
              "      <td>13</td>\n",
              "      <td>1</td>\n",
              "      <td>119</td>\n",
              "      <td>132</td>\n",
              "      <td>1</td>\n",
              "      <td>2</td>\n",
              "    </tr>\n",
              "    <tr>\n",
              "      <th>12374</th>\n",
              "      <td>10265</td>\n",
              "      <td>2020-11-08 07:50:00</td>\n",
              "      <td>0</td>\n",
              "      <td>0</td>\n",
              "      <td>4</td>\n",
              "      <td>0</td>\n",
              "      <td>0</td>\n",
              "      <td>12</td>\n",
              "      <td>0</td>\n",
              "      <td>13</td>\n",
              "      <td>1</td>\n",
              "      <td>119</td>\n",
              "      <td>132</td>\n",
              "      <td>1</td>\n",
              "      <td>2</td>\n",
              "    </tr>\n",
              "    <tr>\n",
              "      <th>12375</th>\n",
              "      <td>10265</td>\n",
              "      <td>2020-11-08 07:50:00</td>\n",
              "      <td>0</td>\n",
              "      <td>1</td>\n",
              "      <td>21</td>\n",
              "      <td>0</td>\n",
              "      <td>0</td>\n",
              "      <td>23</td>\n",
              "      <td>12</td>\n",
              "      <td>13</td>\n",
              "      <td>1</td>\n",
              "      <td>119</td>\n",
              "      <td>132</td>\n",
              "      <td>0</td>\n",
              "      <td>2</td>\n",
              "    </tr>\n",
              "    <tr>\n",
              "      <th>12376</th>\n",
              "      <td>10265</td>\n",
              "      <td>2020-11-08 07:50:00</td>\n",
              "      <td>0</td>\n",
              "      <td>0</td>\n",
              "      <td>54</td>\n",
              "      <td>0</td>\n",
              "      <td>0</td>\n",
              "      <td>54</td>\n",
              "      <td>0</td>\n",
              "      <td>13</td>\n",
              "      <td>1</td>\n",
              "      <td>119</td>\n",
              "      <td>132</td>\n",
              "      <td>0</td>\n",
              "      <td>2</td>\n",
              "    </tr>\n",
              "    <tr>\n",
              "      <th>12377</th>\n",
              "      <td>10265</td>\n",
              "      <td>2020-11-08 07:50:00</td>\n",
              "      <td>0</td>\n",
              "      <td>0</td>\n",
              "      <td>0</td>\n",
              "      <td>0</td>\n",
              "      <td>0</td>\n",
              "      <td>0</td>\n",
              "      <td>0</td>\n",
              "      <td>13</td>\n",
              "      <td>1</td>\n",
              "      <td>119</td>\n",
              "      <td>132</td>\n",
              "      <td>0</td>\n",
              "      <td>2</td>\n",
              "    </tr>\n",
              "    <tr>\n",
              "      <th>12378</th>\n",
              "      <td>10265</td>\n",
              "      <td>2020-11-08 07:50:00</td>\n",
              "      <td>0</td>\n",
              "      <td>0</td>\n",
              "      <td>37</td>\n",
              "      <td>0</td>\n",
              "      <td>0</td>\n",
              "      <td>37</td>\n",
              "      <td>0</td>\n",
              "      <td>13</td>\n",
              "      <td>1</td>\n",
              "      <td>119</td>\n",
              "      <td>132</td>\n",
              "      <td>0</td>\n",
              "      <td>2</td>\n",
              "    </tr>\n",
              "    <tr>\n",
              "      <th>12379</th>\n",
              "      <td>10265</td>\n",
              "      <td>2020-11-08 07:50:00</td>\n",
              "      <td>0</td>\n",
              "      <td>0</td>\n",
              "      <td>0</td>\n",
              "      <td>0</td>\n",
              "      <td>0</td>\n",
              "      <td>0</td>\n",
              "      <td>0</td>\n",
              "      <td>13</td>\n",
              "      <td>1</td>\n",
              "      <td>119</td>\n",
              "      <td>132</td>\n",
              "      <td>0</td>\n",
              "      <td>2</td>\n",
              "    </tr>\n",
              "    <tr>\n",
              "      <th>12380</th>\n",
              "      <td>10265</td>\n",
              "      <td>2020-11-08 07:50:00</td>\n",
              "      <td>0</td>\n",
              "      <td>0</td>\n",
              "      <td>0</td>\n",
              "      <td>0</td>\n",
              "      <td>0</td>\n",
              "      <td>0</td>\n",
              "      <td>0</td>\n",
              "      <td>13</td>\n",
              "      <td>1</td>\n",
              "      <td>119</td>\n",
              "      <td>132</td>\n",
              "      <td>0</td>\n",
              "      <td>2</td>\n",
              "    </tr>\n",
              "    <tr>\n",
              "      <th>12381</th>\n",
              "      <td>10265</td>\n",
              "      <td>2020-11-08 07:50:00</td>\n",
              "      <td>0</td>\n",
              "      <td>0</td>\n",
              "      <td>0</td>\n",
              "      <td>0</td>\n",
              "      <td>0</td>\n",
              "      <td>0</td>\n",
              "      <td>0</td>\n",
              "      <td>13</td>\n",
              "      <td>1</td>\n",
              "      <td>119</td>\n",
              "      <td>132</td>\n",
              "      <td>0</td>\n",
              "      <td>2</td>\n",
              "    </tr>\n",
              "    <tr>\n",
              "      <th>12382</th>\n",
              "      <td>10265</td>\n",
              "      <td>2020-11-08 07:50:00</td>\n",
              "      <td>0</td>\n",
              "      <td>0</td>\n",
              "      <td>2</td>\n",
              "      <td>0</td>\n",
              "      <td>0</td>\n",
              "      <td>2</td>\n",
              "      <td>0</td>\n",
              "      <td>13</td>\n",
              "      <td>1</td>\n",
              "      <td>119</td>\n",
              "      <td>132</td>\n",
              "      <td>0</td>\n",
              "      <td>2</td>\n",
              "    </tr>\n",
              "    <tr>\n",
              "      <th>12383</th>\n",
              "      <td>10265</td>\n",
              "      <td>2020-11-08 07:50:00</td>\n",
              "      <td>0</td>\n",
              "      <td>0</td>\n",
              "      <td>0</td>\n",
              "      <td>0</td>\n",
              "      <td>0</td>\n",
              "      <td>0</td>\n",
              "      <td>0</td>\n",
              "      <td>13</td>\n",
              "      <td>1</td>\n",
              "      <td>119</td>\n",
              "      <td>132</td>\n",
              "      <td>0</td>\n",
              "      <td>2</td>\n",
              "    </tr>\n",
              "    <tr>\n",
              "      <th>12384</th>\n",
              "      <td>10265</td>\n",
              "      <td>2020-11-08 09:50:00</td>\n",
              "      <td>0</td>\n",
              "      <td>0</td>\n",
              "      <td>0</td>\n",
              "      <td>0</td>\n",
              "      <td>0</td>\n",
              "      <td>0</td>\n",
              "      <td>0</td>\n",
              "      <td>0</td>\n",
              "      <td>0</td>\n",
              "      <td>12</td>\n",
              "      <td>28</td>\n",
              "      <td>0</td>\n",
              "      <td>0</td>\n",
              "    </tr>\n",
              "    <tr>\n",
              "      <th>12385</th>\n",
              "      <td>10265</td>\n",
              "      <td>2020-11-08 09:50:00</td>\n",
              "      <td>0</td>\n",
              "      <td>0</td>\n",
              "      <td>0</td>\n",
              "      <td>0</td>\n",
              "      <td>0</td>\n",
              "      <td>0</td>\n",
              "      <td>0</td>\n",
              "      <td>0</td>\n",
              "      <td>0</td>\n",
              "      <td>12</td>\n",
              "      <td>28</td>\n",
              "      <td>0</td>\n",
              "      <td>0</td>\n",
              "    </tr>\n",
              "    <tr>\n",
              "      <th>12386</th>\n",
              "      <td>10265</td>\n",
              "      <td>2020-11-08 09:50:00</td>\n",
              "      <td>0</td>\n",
              "      <td>0</td>\n",
              "      <td>0</td>\n",
              "      <td>0</td>\n",
              "      <td>0</td>\n",
              "      <td>0</td>\n",
              "      <td>0</td>\n",
              "      <td>0</td>\n",
              "      <td>0</td>\n",
              "      <td>12</td>\n",
              "      <td>28</td>\n",
              "      <td>0</td>\n",
              "      <td>0</td>\n",
              "    </tr>\n",
              "    <tr>\n",
              "      <th>12387</th>\n",
              "      <td>10265</td>\n",
              "      <td>2020-11-08 09:50:00</td>\n",
              "      <td>0</td>\n",
              "      <td>0</td>\n",
              "      <td>0</td>\n",
              "      <td>0</td>\n",
              "      <td>0</td>\n",
              "      <td>0</td>\n",
              "      <td>0</td>\n",
              "      <td>0</td>\n",
              "      <td>0</td>\n",
              "      <td>12</td>\n",
              "      <td>28</td>\n",
              "      <td>0</td>\n",
              "      <td>0</td>\n",
              "    </tr>\n",
              "    <tr>\n",
              "      <th>12388</th>\n",
              "      <td>10265</td>\n",
              "      <td>2020-11-08 09:50:00</td>\n",
              "      <td>0</td>\n",
              "      <td>0</td>\n",
              "      <td>0</td>\n",
              "      <td>0</td>\n",
              "      <td>0</td>\n",
              "      <td>0</td>\n",
              "      <td>0</td>\n",
              "      <td>0</td>\n",
              "      <td>0</td>\n",
              "      <td>12</td>\n",
              "      <td>28</td>\n",
              "      <td>0</td>\n",
              "      <td>0</td>\n",
              "    </tr>\n",
              "    <tr>\n",
              "      <th>12389</th>\n",
              "      <td>10265</td>\n",
              "      <td>2020-11-08 09:50:00</td>\n",
              "      <td>0</td>\n",
              "      <td>0</td>\n",
              "      <td>0</td>\n",
              "      <td>0</td>\n",
              "      <td>0</td>\n",
              "      <td>0</td>\n",
              "      <td>0</td>\n",
              "      <td>0</td>\n",
              "      <td>0</td>\n",
              "      <td>12</td>\n",
              "      <td>28</td>\n",
              "      <td>0</td>\n",
              "      <td>0</td>\n",
              "    </tr>\n",
              "  </tbody>\n",
              "</table>\n",
              "</div>\n",
              "      <button class=\"colab-df-convert\" onclick=\"convertToInteractive('df-c88d0793-4dd6-4a6a-9453-051f386bc8e9')\"\n",
              "              title=\"Convert this dataframe to an interactive table.\"\n",
              "              style=\"display:none;\">\n",
              "        \n",
              "  <svg xmlns=\"http://www.w3.org/2000/svg\" height=\"24px\"viewBox=\"0 0 24 24\"\n",
              "       width=\"24px\">\n",
              "    <path d=\"M0 0h24v24H0V0z\" fill=\"none\"/>\n",
              "    <path d=\"M18.56 5.44l.94 2.06.94-2.06 2.06-.94-2.06-.94-.94-2.06-.94 2.06-2.06.94zm-11 1L8.5 8.5l.94-2.06 2.06-.94-2.06-.94L8.5 2.5l-.94 2.06-2.06.94zm10 10l.94 2.06.94-2.06 2.06-.94-2.06-.94-.94-2.06-.94 2.06-2.06.94z\"/><path d=\"M17.41 7.96l-1.37-1.37c-.4-.4-.92-.59-1.43-.59-.52 0-1.04.2-1.43.59L10.3 9.45l-7.72 7.72c-.78.78-.78 2.05 0 2.83L4 21.41c.39.39.9.59 1.41.59.51 0 1.02-.2 1.41-.59l7.78-7.78 2.81-2.81c.8-.78.8-2.07 0-2.86zM5.41 20L4 18.59l7.72-7.72 1.47 1.35L5.41 20z\"/>\n",
              "  </svg>\n",
              "      </button>\n",
              "      \n",
              "  <style>\n",
              "    .colab-df-container {\n",
              "      display:flex;\n",
              "      flex-wrap:wrap;\n",
              "      gap: 12px;\n",
              "    }\n",
              "\n",
              "    .colab-df-convert {\n",
              "      background-color: #E8F0FE;\n",
              "      border: none;\n",
              "      border-radius: 50%;\n",
              "      cursor: pointer;\n",
              "      display: none;\n",
              "      fill: #1967D2;\n",
              "      height: 32px;\n",
              "      padding: 0 0 0 0;\n",
              "      width: 32px;\n",
              "    }\n",
              "\n",
              "    .colab-df-convert:hover {\n",
              "      background-color: #E2EBFA;\n",
              "      box-shadow: 0px 1px 2px rgba(60, 64, 67, 0.3), 0px 1px 3px 1px rgba(60, 64, 67, 0.15);\n",
              "      fill: #174EA6;\n",
              "    }\n",
              "\n",
              "    [theme=dark] .colab-df-convert {\n",
              "      background-color: #3B4455;\n",
              "      fill: #D2E3FC;\n",
              "    }\n",
              "\n",
              "    [theme=dark] .colab-df-convert:hover {\n",
              "      background-color: #434B5C;\n",
              "      box-shadow: 0px 1px 3px 1px rgba(0, 0, 0, 0.15);\n",
              "      filter: drop-shadow(0px 1px 2px rgba(0, 0, 0, 0.3));\n",
              "      fill: #FFFFFF;\n",
              "    }\n",
              "  </style>\n",
              "\n",
              "      <script>\n",
              "        const buttonEl =\n",
              "          document.querySelector('#df-c88d0793-4dd6-4a6a-9453-051f386bc8e9 button.colab-df-convert');\n",
              "        buttonEl.style.display =\n",
              "          google.colab.kernel.accessAllowed ? 'block' : 'none';\n",
              "\n",
              "        async function convertToInteractive(key) {\n",
              "          const element = document.querySelector('#df-c88d0793-4dd6-4a6a-9453-051f386bc8e9');\n",
              "          const dataTable =\n",
              "            await google.colab.kernel.invokeFunction('convertToInteractive',\n",
              "                                                     [key], {});\n",
              "          if (!dataTable) return;\n",
              "\n",
              "          const docLinkHtml = 'Like what you see? Visit the ' +\n",
              "            '<a target=\"_blank\" href=https://colab.research.google.com/notebooks/data_table.ipynb>data table notebook</a>'\n",
              "            + ' to learn more about interactive tables.';\n",
              "          element.innerHTML = '';\n",
              "          dataTable['output_type'] = 'display_data';\n",
              "          await google.colab.output.renderOutput(dataTable, element);\n",
              "          const docLink = document.createElement('div');\n",
              "          docLink.innerHTML = docLinkHtml;\n",
              "          element.appendChild(docLink);\n",
              "        }\n",
              "      </script>\n",
              "    </div>\n",
              "  </div>\n",
              "  "
            ]
          },
          "metadata": {},
          "execution_count": 105
        }
      ]
    },
    {
      "cell_type": "code",
      "source": [
        "train_qual.iloc[:,[1,0,3,4,5,6,7,8,9,10,11,12,13,14,15]].describe()"
      ],
      "metadata": {
        "colab": {
          "base_uri": "https://localhost:8080/",
          "height": 364
        },
        "id": "doNzMVibe3Nc",
        "outputId": "5cbf08f5-30e1-4a0d-94fc-3ab11057954b"
      },
      "execution_count": 106,
      "outputs": [
        {
          "output_type": "execute_result",
          "data": {
            "text/plain": [
              "           user_id    quality_0    quality_1    quality_2    quality_3  \\\n",
              "count 788544.00000 788544.00000 788544.00000 788544.00000 788544.00000   \n",
              "mean   17583.75951      3.59968     -0.16982      4.75090      0.00000   \n",
              "std     4400.24714    446.47710      0.69788    586.24020      0.00000   \n",
              "min    10000.00000     -1.00000     -1.00000     -1.00000      0.00000   \n",
              "25%    13695.00000      0.00000      0.00000      0.00000      0.00000   \n",
              "50%    17507.00000      0.00000      0.00000      0.00000      0.00000   \n",
              "75%    21532.50000      0.00000      0.00000      0.00000      0.00000   \n",
              "max    24997.00000 157667.00000    171.00000 191859.00000      0.00000   \n",
              "\n",
              "         quality_4    quality_5    quality_6    quality_7    quality_8  \\\n",
              "count 788544.00000 788544.00000 788544.00000 788544.00000 788544.00000   \n",
              "mean       0.00000     78.14516      2.11059     27.52441      0.15948   \n",
              "std        0.00000   2335.76090     33.45625    325.64862      5.27364   \n",
              "min        0.00000     -1.00000     -1.00000      0.00000      0.00000   \n",
              "25%        0.00000      0.00000      0.00000      0.00000      0.00000   \n",
              "50%        0.00000      0.00000      0.00000      0.00000      0.00000   \n",
              "75%        0.00000      1.00000      0.00000      0.00000      0.00000   \n",
              "max        0.00000 637385.00000    600.00000   7200.00000   1317.00000   \n",
              "\n",
              "         quality_9    quality_10   quality_11   quality_12  \n",
              "count 788544.00000  788544.00000 788544.00000 788544.00000  \n",
              "mean      59.20809     939.93923     -0.17910      0.04810  \n",
              "std     3362.65838   16934.49764      0.39630      0.30941  \n",
              "min        0.00000       0.00000     -1.00000      0.00000  \n",
              "25%        0.00000       3.00000      0.00000      0.00000  \n",
              "50%        0.00000       6.00000      0.00000      0.00000  \n",
              "75%        0.00000      41.00000      0.00000      0.00000  \n",
              "max   397424.00000 1910175.00000     14.00000     14.00000  "
            ],
            "text/html": [
              "\n",
              "  <div id=\"df-827aadac-b538-4b57-9aa4-f7acbcc36d8b\">\n",
              "    <div class=\"colab-df-container\">\n",
              "      <div>\n",
              "<style scoped>\n",
              "    .dataframe tbody tr th:only-of-type {\n",
              "        vertical-align: middle;\n",
              "    }\n",
              "\n",
              "    .dataframe tbody tr th {\n",
              "        vertical-align: top;\n",
              "    }\n",
              "\n",
              "    .dataframe thead th {\n",
              "        text-align: right;\n",
              "    }\n",
              "</style>\n",
              "<table border=\"1\" class=\"dataframe\">\n",
              "  <thead>\n",
              "    <tr style=\"text-align: right;\">\n",
              "      <th></th>\n",
              "      <th>user_id</th>\n",
              "      <th>quality_0</th>\n",
              "      <th>quality_1</th>\n",
              "      <th>quality_2</th>\n",
              "      <th>quality_3</th>\n",
              "      <th>quality_4</th>\n",
              "      <th>quality_5</th>\n",
              "      <th>quality_6</th>\n",
              "      <th>quality_7</th>\n",
              "      <th>quality_8</th>\n",
              "      <th>quality_9</th>\n",
              "      <th>quality_10</th>\n",
              "      <th>quality_11</th>\n",
              "      <th>quality_12</th>\n",
              "    </tr>\n",
              "  </thead>\n",
              "  <tbody>\n",
              "    <tr>\n",
              "      <th>count</th>\n",
              "      <td>788544.00000</td>\n",
              "      <td>788544.00000</td>\n",
              "      <td>788544.00000</td>\n",
              "      <td>788544.00000</td>\n",
              "      <td>788544.00000</td>\n",
              "      <td>788544.00000</td>\n",
              "      <td>788544.00000</td>\n",
              "      <td>788544.00000</td>\n",
              "      <td>788544.00000</td>\n",
              "      <td>788544.00000</td>\n",
              "      <td>788544.00000</td>\n",
              "      <td>788544.00000</td>\n",
              "      <td>788544.00000</td>\n",
              "      <td>788544.00000</td>\n",
              "    </tr>\n",
              "    <tr>\n",
              "      <th>mean</th>\n",
              "      <td>17583.75951</td>\n",
              "      <td>3.59968</td>\n",
              "      <td>-0.16982</td>\n",
              "      <td>4.75090</td>\n",
              "      <td>0.00000</td>\n",
              "      <td>0.00000</td>\n",
              "      <td>78.14516</td>\n",
              "      <td>2.11059</td>\n",
              "      <td>27.52441</td>\n",
              "      <td>0.15948</td>\n",
              "      <td>59.20809</td>\n",
              "      <td>939.93923</td>\n",
              "      <td>-0.17910</td>\n",
              "      <td>0.04810</td>\n",
              "    </tr>\n",
              "    <tr>\n",
              "      <th>std</th>\n",
              "      <td>4400.24714</td>\n",
              "      <td>446.47710</td>\n",
              "      <td>0.69788</td>\n",
              "      <td>586.24020</td>\n",
              "      <td>0.00000</td>\n",
              "      <td>0.00000</td>\n",
              "      <td>2335.76090</td>\n",
              "      <td>33.45625</td>\n",
              "      <td>325.64862</td>\n",
              "      <td>5.27364</td>\n",
              "      <td>3362.65838</td>\n",
              "      <td>16934.49764</td>\n",
              "      <td>0.39630</td>\n",
              "      <td>0.30941</td>\n",
              "    </tr>\n",
              "    <tr>\n",
              "      <th>min</th>\n",
              "      <td>10000.00000</td>\n",
              "      <td>-1.00000</td>\n",
              "      <td>-1.00000</td>\n",
              "      <td>-1.00000</td>\n",
              "      <td>0.00000</td>\n",
              "      <td>0.00000</td>\n",
              "      <td>-1.00000</td>\n",
              "      <td>-1.00000</td>\n",
              "      <td>0.00000</td>\n",
              "      <td>0.00000</td>\n",
              "      <td>0.00000</td>\n",
              "      <td>0.00000</td>\n",
              "      <td>-1.00000</td>\n",
              "      <td>0.00000</td>\n",
              "    </tr>\n",
              "    <tr>\n",
              "      <th>25%</th>\n",
              "      <td>13695.00000</td>\n",
              "      <td>0.00000</td>\n",
              "      <td>0.00000</td>\n",
              "      <td>0.00000</td>\n",
              "      <td>0.00000</td>\n",
              "      <td>0.00000</td>\n",
              "      <td>0.00000</td>\n",
              "      <td>0.00000</td>\n",
              "      <td>0.00000</td>\n",
              "      <td>0.00000</td>\n",
              "      <td>0.00000</td>\n",
              "      <td>3.00000</td>\n",
              "      <td>0.00000</td>\n",
              "      <td>0.00000</td>\n",
              "    </tr>\n",
              "    <tr>\n",
              "      <th>50%</th>\n",
              "      <td>17507.00000</td>\n",
              "      <td>0.00000</td>\n",
              "      <td>0.00000</td>\n",
              "      <td>0.00000</td>\n",
              "      <td>0.00000</td>\n",
              "      <td>0.00000</td>\n",
              "      <td>0.00000</td>\n",
              "      <td>0.00000</td>\n",
              "      <td>0.00000</td>\n",
              "      <td>0.00000</td>\n",
              "      <td>0.00000</td>\n",
              "      <td>6.00000</td>\n",
              "      <td>0.00000</td>\n",
              "      <td>0.00000</td>\n",
              "    </tr>\n",
              "    <tr>\n",
              "      <th>75%</th>\n",
              "      <td>21532.50000</td>\n",
              "      <td>0.00000</td>\n",
              "      <td>0.00000</td>\n",
              "      <td>0.00000</td>\n",
              "      <td>0.00000</td>\n",
              "      <td>0.00000</td>\n",
              "      <td>1.00000</td>\n",
              "      <td>0.00000</td>\n",
              "      <td>0.00000</td>\n",
              "      <td>0.00000</td>\n",
              "      <td>0.00000</td>\n",
              "      <td>41.00000</td>\n",
              "      <td>0.00000</td>\n",
              "      <td>0.00000</td>\n",
              "    </tr>\n",
              "    <tr>\n",
              "      <th>max</th>\n",
              "      <td>24997.00000</td>\n",
              "      <td>157667.00000</td>\n",
              "      <td>171.00000</td>\n",
              "      <td>191859.00000</td>\n",
              "      <td>0.00000</td>\n",
              "      <td>0.00000</td>\n",
              "      <td>637385.00000</td>\n",
              "      <td>600.00000</td>\n",
              "      <td>7200.00000</td>\n",
              "      <td>1317.00000</td>\n",
              "      <td>397424.00000</td>\n",
              "      <td>1910175.00000</td>\n",
              "      <td>14.00000</td>\n",
              "      <td>14.00000</td>\n",
              "    </tr>\n",
              "  </tbody>\n",
              "</table>\n",
              "</div>\n",
              "      <button class=\"colab-df-convert\" onclick=\"convertToInteractive('df-827aadac-b538-4b57-9aa4-f7acbcc36d8b')\"\n",
              "              title=\"Convert this dataframe to an interactive table.\"\n",
              "              style=\"display:none;\">\n",
              "        \n",
              "  <svg xmlns=\"http://www.w3.org/2000/svg\" height=\"24px\"viewBox=\"0 0 24 24\"\n",
              "       width=\"24px\">\n",
              "    <path d=\"M0 0h24v24H0V0z\" fill=\"none\"/>\n",
              "    <path d=\"M18.56 5.44l.94 2.06.94-2.06 2.06-.94-2.06-.94-.94-2.06-.94 2.06-2.06.94zm-11 1L8.5 8.5l.94-2.06 2.06-.94-2.06-.94L8.5 2.5l-.94 2.06-2.06.94zm10 10l.94 2.06.94-2.06 2.06-.94-2.06-.94-.94-2.06-.94 2.06-2.06.94z\"/><path d=\"M17.41 7.96l-1.37-1.37c-.4-.4-.92-.59-1.43-.59-.52 0-1.04.2-1.43.59L10.3 9.45l-7.72 7.72c-.78.78-.78 2.05 0 2.83L4 21.41c.39.39.9.59 1.41.59.51 0 1.02-.2 1.41-.59l7.78-7.78 2.81-2.81c.8-.78.8-2.07 0-2.86zM5.41 20L4 18.59l7.72-7.72 1.47 1.35L5.41 20z\"/>\n",
              "  </svg>\n",
              "      </button>\n",
              "      \n",
              "  <style>\n",
              "    .colab-df-container {\n",
              "      display:flex;\n",
              "      flex-wrap:wrap;\n",
              "      gap: 12px;\n",
              "    }\n",
              "\n",
              "    .colab-df-convert {\n",
              "      background-color: #E8F0FE;\n",
              "      border: none;\n",
              "      border-radius: 50%;\n",
              "      cursor: pointer;\n",
              "      display: none;\n",
              "      fill: #1967D2;\n",
              "      height: 32px;\n",
              "      padding: 0 0 0 0;\n",
              "      width: 32px;\n",
              "    }\n",
              "\n",
              "    .colab-df-convert:hover {\n",
              "      background-color: #E2EBFA;\n",
              "      box-shadow: 0px 1px 2px rgba(60, 64, 67, 0.3), 0px 1px 3px 1px rgba(60, 64, 67, 0.15);\n",
              "      fill: #174EA6;\n",
              "    }\n",
              "\n",
              "    [theme=dark] .colab-df-convert {\n",
              "      background-color: #3B4455;\n",
              "      fill: #D2E3FC;\n",
              "    }\n",
              "\n",
              "    [theme=dark] .colab-df-convert:hover {\n",
              "      background-color: #434B5C;\n",
              "      box-shadow: 0px 1px 3px 1px rgba(0, 0, 0, 0.15);\n",
              "      filter: drop-shadow(0px 1px 2px rgba(0, 0, 0, 0.3));\n",
              "      fill: #FFFFFF;\n",
              "    }\n",
              "  </style>\n",
              "\n",
              "      <script>\n",
              "        const buttonEl =\n",
              "          document.querySelector('#df-827aadac-b538-4b57-9aa4-f7acbcc36d8b button.colab-df-convert');\n",
              "        buttonEl.style.display =\n",
              "          google.colab.kernel.accessAllowed ? 'block' : 'none';\n",
              "\n",
              "        async function convertToInteractive(key) {\n",
              "          const element = document.querySelector('#df-827aadac-b538-4b57-9aa4-f7acbcc36d8b');\n",
              "          const dataTable =\n",
              "            await google.colab.kernel.invokeFunction('convertToInteractive',\n",
              "                                                     [key], {});\n",
              "          if (!dataTable) return;\n",
              "\n",
              "          const docLinkHtml = 'Like what you see? Visit the ' +\n",
              "            '<a target=\"_blank\" href=https://colab.research.google.com/notebooks/data_table.ipynb>data table notebook</a>'\n",
              "            + ' to learn more about interactive tables.';\n",
              "          element.innerHTML = '';\n",
              "          dataTable['output_type'] = 'display_data';\n",
              "          await google.colab.output.renderOutput(dataTable, element);\n",
              "          const docLink = document.createElement('div');\n",
              "          docLink.innerHTML = docLinkHtml;\n",
              "          element.appendChild(docLink);\n",
              "        }\n",
              "      </script>\n",
              "    </div>\n",
              "  </div>\n",
              "  "
            ]
          },
          "metadata": {},
          "execution_count": 106
        }
      ]
    },
    {
      "cell_type": "markdown",
      "source": [
        "# 6-1. quality 값\n",
        "1. quality는 측정가능한 지표로 만들어진 값이다. 그러나 해당 값들의 범위를 살펴보면 [0,무한대)가 아닌 [-1,무한대)이다.\n",
        "\"-1 값은 측정이 되지 못한, 알 수 없음(또는 문제 있음)을 나타내는 지표일 것이다\" 라는 가설을 세움\n",
        "-> -1값을 많이 갖고 있는 유저가 불만제기를 더 많이 하였는지 확인"
      ],
      "metadata": {
        "id": "F9Bc6QYDe58e"
      }
    },
    {
      "cell_type": "code",
      "source": [
        "# -1을 갖고 있는 유저의 수\n",
        "len(sorted(list(train_qual[train_qual['quality_0'] == -1].groupby('user_id')['quality_0'].count().to_frame().reset_index().sort_values(ascending=False, by='quality_0').user_id.unique())))"
      ],
      "metadata": {
        "colab": {
          "base_uri": "https://localhost:8080/"
        },
        "id": "hw2E4tQAe5Vs",
        "outputId": "375895fc-9164-4cc8-f41a-e425dca3aabc"
      },
      "execution_count": 107,
      "outputs": [
        {
          "output_type": "execute_result",
          "data": {
            "text/plain": [
              "5567"
            ]
          },
          "metadata": {},
          "execution_count": 107
        }
      ]
    },
    {
      "cell_type": "code",
      "source": [
        "# -1을 많이 가지고 있는 유저 상위 100명\n",
        "minus_id_top100 = list(train_qual[train_qual['quality_0'] == -1].groupby('user_id')['quality_0'].count().to_frame().reset_index().sort_values(ascending=False, by = 'quality_0').user_id.unique())[:100]"
      ],
      "metadata": {
        "id": "a1fKOJNzf9oc"
      },
      "execution_count": 111,
      "outputs": []
    },
    {
      "cell_type": "code",
      "source": [
        "# 상위 100명중, 불만을 제기한 사람의 수 : 70명 (70.0%)\n",
        "len(train_prob[train_prob['user_id'].isin(minus_id_top100)].user_id.unique())"
      ],
      "metadata": {
        "colab": {
          "base_uri": "https://localhost:8080/"
        },
        "id": "rSphlw1ige0t",
        "outputId": "df3a9985-1ba4-4959-ea5e-0dbb357b3b1f"
      },
      "execution_count": 112,
      "outputs": [
        {
          "output_type": "execute_result",
          "data": {
            "text/plain": [
              "70"
            ]
          },
          "metadata": {},
          "execution_count": 112
        }
      ]
    },
    {
      "cell_type": "code",
      "source": [
        "# -1을 많이 가지고 있는 유저 상위 900명\n",
        "minus_id_top900 = list(train_qual[train_qual['quality_0'] == -1].groupby('user_id')['quality_0'].count().to_frame(). \\\n",
        "reset_index().sort_values(ascending=False, by='quality_0').user_id.unique())[100:1000]\n",
        "\n"
      ],
      "metadata": {
        "id": "p3KvAoo9gw1Z"
      },
      "execution_count": 113,
      "outputs": []
    },
    {
      "cell_type": "code",
      "source": [
        "# 상위 900명중, 불만을 제기한 사람의 수 : 505명 (56.1%)\n",
        "len(train_prob[train_prob['user_id'].isin(minus_id_top900)].user_id.unique())"
      ],
      "metadata": {
        "colab": {
          "base_uri": "https://localhost:8080/"
        },
        "id": "ZZ9b1nQ_jCCN",
        "outputId": "6d1d390a-d539-4041-c9fc-47d313972312"
      },
      "execution_count": 114,
      "outputs": [
        {
          "output_type": "execute_result",
          "data": {
            "text/plain": [
              "505"
            ]
          },
          "metadata": {},
          "execution_count": 114
        }
      ]
    },
    {
      "cell_type": "code",
      "source": [
        "# -1을 많이 가지고 있는 유저 상위 2000명\n",
        "minus_id_top2000 = list(train_qual[train_qual['quality_0'] == -1].groupby('user_id')['quality_0'].count().to_frame(). \\\n",
        "reset_index().sort_values(ascending=False, by='quality_0').user_id.unique())[1000:3000]"
      ],
      "metadata": {
        "id": "vdUnXi3PjDzd"
      },
      "execution_count": 115,
      "outputs": []
    },
    {
      "cell_type": "code",
      "source": [
        "# 상위 2000명중, 불만을 제기한 사람의 수 : 799명 (39.9%)\n",
        "len(train_prob[train_prob['user_id'].isin(minus_id_top2000)].user_id.unique())"
      ],
      "metadata": {
        "colab": {
          "base_uri": "https://localhost:8080/"
        },
        "id": "tQO5sIZQjFsr",
        "outputId": "2b9401ce-a044-4db1-a929-393c3a2f386a"
      },
      "execution_count": 116,
      "outputs": [
        {
          "output_type": "execute_result",
          "data": {
            "text/plain": [
              "799"
            ]
          },
          "metadata": {},
          "execution_count": 116
        }
      ]
    },
    {
      "cell_type": "markdown",
      "source": [
        "##### \"-1을 더 많이 가지고 있을수록 불만을 더 많이 제기함\"\n",
        "-> 따라서 -1은 불만 제기와 관련이 있음 -> 파생변수를 만들어야함"
      ],
      "metadata": {
        "id": "Kd_iG1pljSrB"
      }
    },
    {
      "cell_type": "markdown",
      "source": [
        "2. -1 값을 카운팅 한 뒤, 해당 값들을 제외한 나머지 변수들의 수치를 해석하기 위하여 -1을 0으로 변경"
      ],
      "metadata": {
        "id": "A2yqsF3bjkyq"
      }
    },
    {
      "cell_type": "code",
      "source": [
        "for i in train_qual.columns[3:]:\n",
        "    idx = train_qual[train_qual[i] == -1].index\n",
        "    train_qual.loc[idx, i] = 0"
      ],
      "metadata": {
        "id": "qzDIsBpcjHKj"
      },
      "execution_count": 118,
      "outputs": []
    },
    {
      "cell_type": "markdown",
      "source": [
        "3. quality data 기본 수치 해석"
      ],
      "metadata": {
        "id": "moeFOG0IkBxF"
      }
    },
    {
      "cell_type": "code",
      "source": [
        "train_qual.iloc[:,3:].describe()"
      ],
      "metadata": {
        "colab": {
          "base_uri": "https://localhost:8080/",
          "height": 364
        },
        "id": "SwkWhX2jj8m5",
        "outputId": "a510a5c7-5a29-4782-e997-e706e490a81d"
      },
      "execution_count": 119,
      "outputs": [
        {
          "output_type": "execute_result",
          "data": {
            "text/plain": [
              "         quality_0    quality_1    quality_2    quality_3    quality_4  \\\n",
              "count 788544.00000 788544.00000 788544.00000 788544.00000 788544.00000   \n",
              "mean       3.76559      0.01329      4.93401      0.00000      0.00000   \n",
              "std      446.47555      0.57670    586.23853      0.00000      0.00000   \n",
              "min        0.00000      0.00000      0.00000      0.00000      0.00000   \n",
              "25%        0.00000      0.00000      0.00000      0.00000      0.00000   \n",
              "50%        0.00000      0.00000      0.00000      0.00000      0.00000   \n",
              "75%        0.00000      0.00000      0.00000      0.00000      0.00000   \n",
              "max   157667.00000    171.00000 191859.00000      0.00000      0.00000   \n",
              "\n",
              "         quality_5    quality_6    quality_7    quality_8    quality_9  \\\n",
              "count 788544.00000 788544.00000 788544.00000 788544.00000 788544.00000   \n",
              "mean      78.32827      2.29370     27.52441      0.15948     59.20809   \n",
              "std     2335.75473     33.44146    325.64862      5.27364   3362.65838   \n",
              "min        0.00000      0.00000      0.00000      0.00000      0.00000   \n",
              "25%        0.00000      0.00000      0.00000      0.00000      0.00000   \n",
              "50%        0.00000      0.00000      0.00000      0.00000      0.00000   \n",
              "75%        1.00000      0.00000      0.00000      0.00000      0.00000   \n",
              "max   637385.00000    600.00000   7200.00000   1317.00000 397424.00000   \n",
              "\n",
              "         quality_10   quality_11   quality_12  \n",
              "count  788544.00000 788544.00000 788544.00000  \n",
              "mean      939.93923      0.00401      0.04810  \n",
              "std     16934.49764      0.07747      0.30941  \n",
              "min         0.00000      0.00000      0.00000  \n",
              "25%         3.00000      0.00000      0.00000  \n",
              "50%         6.00000      0.00000      0.00000  \n",
              "75%        41.00000      0.00000      0.00000  \n",
              "max   1910175.00000     14.00000     14.00000  "
            ],
            "text/html": [
              "\n",
              "  <div id=\"df-7c6ba524-bb55-4088-8fc7-32fe88a12a61\">\n",
              "    <div class=\"colab-df-container\">\n",
              "      <div>\n",
              "<style scoped>\n",
              "    .dataframe tbody tr th:only-of-type {\n",
              "        vertical-align: middle;\n",
              "    }\n",
              "\n",
              "    .dataframe tbody tr th {\n",
              "        vertical-align: top;\n",
              "    }\n",
              "\n",
              "    .dataframe thead th {\n",
              "        text-align: right;\n",
              "    }\n",
              "</style>\n",
              "<table border=\"1\" class=\"dataframe\">\n",
              "  <thead>\n",
              "    <tr style=\"text-align: right;\">\n",
              "      <th></th>\n",
              "      <th>quality_0</th>\n",
              "      <th>quality_1</th>\n",
              "      <th>quality_2</th>\n",
              "      <th>quality_3</th>\n",
              "      <th>quality_4</th>\n",
              "      <th>quality_5</th>\n",
              "      <th>quality_6</th>\n",
              "      <th>quality_7</th>\n",
              "      <th>quality_8</th>\n",
              "      <th>quality_9</th>\n",
              "      <th>quality_10</th>\n",
              "      <th>quality_11</th>\n",
              "      <th>quality_12</th>\n",
              "    </tr>\n",
              "  </thead>\n",
              "  <tbody>\n",
              "    <tr>\n",
              "      <th>count</th>\n",
              "      <td>788544.00000</td>\n",
              "      <td>788544.00000</td>\n",
              "      <td>788544.00000</td>\n",
              "      <td>788544.00000</td>\n",
              "      <td>788544.00000</td>\n",
              "      <td>788544.00000</td>\n",
              "      <td>788544.00000</td>\n",
              "      <td>788544.00000</td>\n",
              "      <td>788544.00000</td>\n",
              "      <td>788544.00000</td>\n",
              "      <td>788544.00000</td>\n",
              "      <td>788544.00000</td>\n",
              "      <td>788544.00000</td>\n",
              "    </tr>\n",
              "    <tr>\n",
              "      <th>mean</th>\n",
              "      <td>3.76559</td>\n",
              "      <td>0.01329</td>\n",
              "      <td>4.93401</td>\n",
              "      <td>0.00000</td>\n",
              "      <td>0.00000</td>\n",
              "      <td>78.32827</td>\n",
              "      <td>2.29370</td>\n",
              "      <td>27.52441</td>\n",
              "      <td>0.15948</td>\n",
              "      <td>59.20809</td>\n",
              "      <td>939.93923</td>\n",
              "      <td>0.00401</td>\n",
              "      <td>0.04810</td>\n",
              "    </tr>\n",
              "    <tr>\n",
              "      <th>std</th>\n",
              "      <td>446.47555</td>\n",
              "      <td>0.57670</td>\n",
              "      <td>586.23853</td>\n",
              "      <td>0.00000</td>\n",
              "      <td>0.00000</td>\n",
              "      <td>2335.75473</td>\n",
              "      <td>33.44146</td>\n",
              "      <td>325.64862</td>\n",
              "      <td>5.27364</td>\n",
              "      <td>3362.65838</td>\n",
              "      <td>16934.49764</td>\n",
              "      <td>0.07747</td>\n",
              "      <td>0.30941</td>\n",
              "    </tr>\n",
              "    <tr>\n",
              "      <th>min</th>\n",
              "      <td>0.00000</td>\n",
              "      <td>0.00000</td>\n",
              "      <td>0.00000</td>\n",
              "      <td>0.00000</td>\n",
              "      <td>0.00000</td>\n",
              "      <td>0.00000</td>\n",
              "      <td>0.00000</td>\n",
              "      <td>0.00000</td>\n",
              "      <td>0.00000</td>\n",
              "      <td>0.00000</td>\n",
              "      <td>0.00000</td>\n",
              "      <td>0.00000</td>\n",
              "      <td>0.00000</td>\n",
              "    </tr>\n",
              "    <tr>\n",
              "      <th>25%</th>\n",
              "      <td>0.00000</td>\n",
              "      <td>0.00000</td>\n",
              "      <td>0.00000</td>\n",
              "      <td>0.00000</td>\n",
              "      <td>0.00000</td>\n",
              "      <td>0.00000</td>\n",
              "      <td>0.00000</td>\n",
              "      <td>0.00000</td>\n",
              "      <td>0.00000</td>\n",
              "      <td>0.00000</td>\n",
              "      <td>3.00000</td>\n",
              "      <td>0.00000</td>\n",
              "      <td>0.00000</td>\n",
              "    </tr>\n",
              "    <tr>\n",
              "      <th>50%</th>\n",
              "      <td>0.00000</td>\n",
              "      <td>0.00000</td>\n",
              "      <td>0.00000</td>\n",
              "      <td>0.00000</td>\n",
              "      <td>0.00000</td>\n",
              "      <td>0.00000</td>\n",
              "      <td>0.00000</td>\n",
              "      <td>0.00000</td>\n",
              "      <td>0.00000</td>\n",
              "      <td>0.00000</td>\n",
              "      <td>6.00000</td>\n",
              "      <td>0.00000</td>\n",
              "      <td>0.00000</td>\n",
              "    </tr>\n",
              "    <tr>\n",
              "      <th>75%</th>\n",
              "      <td>0.00000</td>\n",
              "      <td>0.00000</td>\n",
              "      <td>0.00000</td>\n",
              "      <td>0.00000</td>\n",
              "      <td>0.00000</td>\n",
              "      <td>1.00000</td>\n",
              "      <td>0.00000</td>\n",
              "      <td>0.00000</td>\n",
              "      <td>0.00000</td>\n",
              "      <td>0.00000</td>\n",
              "      <td>41.00000</td>\n",
              "      <td>0.00000</td>\n",
              "      <td>0.00000</td>\n",
              "    </tr>\n",
              "    <tr>\n",
              "      <th>max</th>\n",
              "      <td>157667.00000</td>\n",
              "      <td>171.00000</td>\n",
              "      <td>191859.00000</td>\n",
              "      <td>0.00000</td>\n",
              "      <td>0.00000</td>\n",
              "      <td>637385.00000</td>\n",
              "      <td>600.00000</td>\n",
              "      <td>7200.00000</td>\n",
              "      <td>1317.00000</td>\n",
              "      <td>397424.00000</td>\n",
              "      <td>1910175.00000</td>\n",
              "      <td>14.00000</td>\n",
              "      <td>14.00000</td>\n",
              "    </tr>\n",
              "  </tbody>\n",
              "</table>\n",
              "</div>\n",
              "      <button class=\"colab-df-convert\" onclick=\"convertToInteractive('df-7c6ba524-bb55-4088-8fc7-32fe88a12a61')\"\n",
              "              title=\"Convert this dataframe to an interactive table.\"\n",
              "              style=\"display:none;\">\n",
              "        \n",
              "  <svg xmlns=\"http://www.w3.org/2000/svg\" height=\"24px\"viewBox=\"0 0 24 24\"\n",
              "       width=\"24px\">\n",
              "    <path d=\"M0 0h24v24H0V0z\" fill=\"none\"/>\n",
              "    <path d=\"M18.56 5.44l.94 2.06.94-2.06 2.06-.94-2.06-.94-.94-2.06-.94 2.06-2.06.94zm-11 1L8.5 8.5l.94-2.06 2.06-.94-2.06-.94L8.5 2.5l-.94 2.06-2.06.94zm10 10l.94 2.06.94-2.06 2.06-.94-2.06-.94-.94-2.06-.94 2.06-2.06.94z\"/><path d=\"M17.41 7.96l-1.37-1.37c-.4-.4-.92-.59-1.43-.59-.52 0-1.04.2-1.43.59L10.3 9.45l-7.72 7.72c-.78.78-.78 2.05 0 2.83L4 21.41c.39.39.9.59 1.41.59.51 0 1.02-.2 1.41-.59l7.78-7.78 2.81-2.81c.8-.78.8-2.07 0-2.86zM5.41 20L4 18.59l7.72-7.72 1.47 1.35L5.41 20z\"/>\n",
              "  </svg>\n",
              "      </button>\n",
              "      \n",
              "  <style>\n",
              "    .colab-df-container {\n",
              "      display:flex;\n",
              "      flex-wrap:wrap;\n",
              "      gap: 12px;\n",
              "    }\n",
              "\n",
              "    .colab-df-convert {\n",
              "      background-color: #E8F0FE;\n",
              "      border: none;\n",
              "      border-radius: 50%;\n",
              "      cursor: pointer;\n",
              "      display: none;\n",
              "      fill: #1967D2;\n",
              "      height: 32px;\n",
              "      padding: 0 0 0 0;\n",
              "      width: 32px;\n",
              "    }\n",
              "\n",
              "    .colab-df-convert:hover {\n",
              "      background-color: #E2EBFA;\n",
              "      box-shadow: 0px 1px 2px rgba(60, 64, 67, 0.3), 0px 1px 3px 1px rgba(60, 64, 67, 0.15);\n",
              "      fill: #174EA6;\n",
              "    }\n",
              "\n",
              "    [theme=dark] .colab-df-convert {\n",
              "      background-color: #3B4455;\n",
              "      fill: #D2E3FC;\n",
              "    }\n",
              "\n",
              "    [theme=dark] .colab-df-convert:hover {\n",
              "      background-color: #434B5C;\n",
              "      box-shadow: 0px 1px 3px 1px rgba(0, 0, 0, 0.15);\n",
              "      filter: drop-shadow(0px 1px 2px rgba(0, 0, 0, 0.3));\n",
              "      fill: #FFFFFF;\n",
              "    }\n",
              "  </style>\n",
              "\n",
              "      <script>\n",
              "        const buttonEl =\n",
              "          document.querySelector('#df-7c6ba524-bb55-4088-8fc7-32fe88a12a61 button.colab-df-convert');\n",
              "        buttonEl.style.display =\n",
              "          google.colab.kernel.accessAllowed ? 'block' : 'none';\n",
              "\n",
              "        async function convertToInteractive(key) {\n",
              "          const element = document.querySelector('#df-7c6ba524-bb55-4088-8fc7-32fe88a12a61');\n",
              "          const dataTable =\n",
              "            await google.colab.kernel.invokeFunction('convertToInteractive',\n",
              "                                                     [key], {});\n",
              "          if (!dataTable) return;\n",
              "\n",
              "          const docLinkHtml = 'Like what you see? Visit the ' +\n",
              "            '<a target=\"_blank\" href=https://colab.research.google.com/notebooks/data_table.ipynb>data table notebook</a>'\n",
              "            + ' to learn more about interactive tables.';\n",
              "          element.innerHTML = '';\n",
              "          dataTable['output_type'] = 'display_data';\n",
              "          await google.colab.output.renderOutput(dataTable, element);\n",
              "          const docLink = document.createElement('div');\n",
              "          docLink.innerHTML = docLinkHtml;\n",
              "          element.appendChild(docLink);\n",
              "        }\n",
              "      </script>\n",
              "    </div>\n",
              "  </div>\n",
              "  "
            ]
          },
          "metadata": {},
          "execution_count": 119
        }
      ]
    },
    {
      "cell_type": "markdown",
      "source": [
        "→   Quality_3과 Quality_4는 모두 0값만을 가지고 있음을 확인  \n",
        "→   Quality_0, Quality_2, Quality_5, Quality_9, Quality_10의 분산과 최댓값이 크다는 것을 확인 : 불만 제기와의 관계 확인"
      ],
      "metadata": {
        "id": "OUuJzcINkPUA"
      }
    },
    {
      "cell_type": "code",
      "source": [
        "# Quality_2, 5, 9, 10과 불만 제기와의 관계 확인\n",
        "for i in [0, 2, 5, 9, 10]:\n",
        "    tq = train_qual.groupby('user_id')['quality_'+str(i)].max().to_frame().reset_index().sort_values(ascending=False, by='quality_'+str(i))\n",
        "    tq_id = list(tq.user_id.values)[100:900]\n",
        "    tp_id = train_prob[train_prob['user_id'].isin(tq_id)].user_id.unique()\n",
        "    print(\"퀄리티 {0}을 합한 값이 큰 상위 유저 900명 중 {1}명이 불만을 제기하였습니다.  {2}%\".format(i, len(tp_id), len(tp_id)/len(tq_id)*100))"
      ],
      "metadata": {
        "colab": {
          "base_uri": "https://localhost:8080/"
        },
        "id": "q-SZX-LWkJfo",
        "outputId": "3ea0872f-a0a8-47fb-d9c8-c276ffa40af7"
      },
      "execution_count": 120,
      "outputs": [
        {
          "output_type": "stream",
          "name": "stdout",
          "text": [
            "퀄리티 0을 합한 값이 큰 상위 유저 900명 중 290명이 불만을 제기하였습니다.  36.25%\n",
            "퀄리티 2을 합한 값이 큰 상위 유저 900명 중 284명이 불만을 제기하였습니다.  35.5%\n",
            "퀄리티 5을 합한 값이 큰 상위 유저 900명 중 375명이 불만을 제기하였습니다.  46.875%\n",
            "퀄리티 9을 합한 값이 큰 상위 유저 900명 중 282명이 불만을 제기하였습니다.  35.25%\n",
            "퀄리티 10을 합한 값이 큰 상위 유저 900명 중 401명이 불만을 제기하였습니다.  50.125%\n"
          ]
        }
      ]
    },
    {
      "cell_type": "code",
      "source": [
        "# Quality_2, 5, 9, 10과 불만 제기와의 관계 확인\n",
        "for i in [0, 2, 5, 9, 10]:\n",
        "    tq = train_qual.groupby('user_id')['quality_'+str(i)].max().to_frame().reset_index().sort_values(ascending=False, by='quality_'+str(i))\n",
        "    tq_id = list(tq.user_id.values)[:100]\n",
        "    tp_id = train_prob[train_prob['user_id'].isin(tq_id)].user_id.unique()\n",
        "    print(\"퀄리티 {0}을 합한 값이 큰 상위 유저 100명 중 {1}명이 불만을 제기하였습니다.  {2}%\".format(i, len(tp_id), len(tp_id)/len(tq_id)*100))"
      ],
      "metadata": {
        "colab": {
          "base_uri": "https://localhost:8080/"
        },
        "id": "B3x30g_nkVC9",
        "outputId": "7c93724d-3526-4cdf-f761-929c09276758"
      },
      "execution_count": 121,
      "outputs": [
        {
          "output_type": "stream",
          "name": "stdout",
          "text": [
            "퀄리티 0을 합한 값이 큰 상위 유저 100명 중 36명이 불만을 제기하였습니다.  36.0%\n",
            "퀄리티 2을 합한 값이 큰 상위 유저 100명 중 39명이 불만을 제기하였습니다.  39.0%\n",
            "퀄리티 5을 합한 값이 큰 상위 유저 100명 중 74명이 불만을 제기하였습니다.  74.0%\n",
            "퀄리티 9을 합한 값이 큰 상위 유저 100명 중 39명이 불만을 제기하였습니다.  39.0%\n",
            "퀄리티 10을 합한 값이 큰 상위 유저 100명 중 74명이 불만을 제기하였습니다.  74.0%\n"
          ]
        }
      ]
    },
    {
      "cell_type": "markdown",
      "source": [
        "→   퀄리티 합이 높을수록, 불만 제기 확률이 높아짐"
      ],
      "metadata": {
        "id": "xz4oZ8HRkYNB"
      }
    },
    {
      "cell_type": "markdown",
      "source": [
        "4. 나머지 Quality 변수들은 0부터 무한대 사이의 값을 가지고 있으므로, 이것이 시스템 품질을 측정한 하나의 값으로 가정  \n",
        "→   Quality 변수들의 간의 관계를 해석하기 위하여 Correlation을 이용  \n",
        "→   유저별 Quality값들의 합이 높은 것과 불만 제기의 관계 해석"
      ],
      "metadata": {
        "id": "vh1xJ1rRkaVe"
      }
    },
    {
      "cell_type": "code",
      "source": [
        "qual_sum = pd.DataFrame({'user_id' : np.arange(10000,25000)})\n",
        "\n",
        "for i in train_qual.columns[3:]:\n",
        "    qq = train_qual.groupby('user_id')[i].sum().to_frame().reset_index()\n",
        "    qual_sum = pd.merge(qual_sum, qq, how='left', on ='user_id')\n",
        "    qual_sum = qual_sum.fillna(0)"
      ],
      "metadata": {
        "id": "9KZ7XY5ekXRZ"
      },
      "execution_count": 122,
      "outputs": []
    },
    {
      "cell_type": "code",
      "source": [
        "qual_sum.head()"
      ],
      "metadata": {
        "colab": {
          "base_uri": "https://localhost:8080/",
          "height": 270
        },
        "id": "A-kKhHkekeYn",
        "outputId": "729e51ae-61df-4802-94bd-0bfde39bf863"
      },
      "execution_count": 123,
      "outputs": [
        {
          "output_type": "execute_result",
          "data": {
            "text/plain": [
              "   user_id  quality_0  quality_1  quality_2  quality_3  quality_4  quality_5  \\\n",
              "0    10000    0.00000    0.00000    0.00000    0.00000    0.00000   12.00000   \n",
              "1    10001    0.00000    0.00000    0.00000    0.00000    0.00000    0.00000   \n",
              "2    10002    2.00000    0.00000    1.00000    0.00000    0.00000   31.00000   \n",
              "3    10003    0.00000    0.00000    0.00000    0.00000    0.00000    0.00000   \n",
              "4    10004    0.00000    0.00000    0.00000    0.00000    0.00000    4.00000   \n",
              "\n",
              "   quality_6  quality_7  quality_8  quality_9  quality_10  quality_11  \\\n",
              "0    0.00000    0.00000    0.00000    0.00000   144.00000     0.00000   \n",
              "1    0.00000    0.00000    0.00000    0.00000     0.00000     0.00000   \n",
              "2   46.00000  552.00000    0.00000   12.00000   372.00000     0.00000   \n",
              "3    0.00000    0.00000    0.00000    0.00000     0.00000     0.00000   \n",
              "4   87.00000 1044.00000    0.00000    0.00000    48.00000     0.00000   \n",
              "\n",
              "   quality_12  \n",
              "0     0.00000  \n",
              "1     0.00000  \n",
              "2     0.00000  \n",
              "3     0.00000  \n",
              "4     0.00000  "
            ],
            "text/html": [
              "\n",
              "  <div id=\"df-948212e9-865b-4284-81ef-bab16c0135f0\">\n",
              "    <div class=\"colab-df-container\">\n",
              "      <div>\n",
              "<style scoped>\n",
              "    .dataframe tbody tr th:only-of-type {\n",
              "        vertical-align: middle;\n",
              "    }\n",
              "\n",
              "    .dataframe tbody tr th {\n",
              "        vertical-align: top;\n",
              "    }\n",
              "\n",
              "    .dataframe thead th {\n",
              "        text-align: right;\n",
              "    }\n",
              "</style>\n",
              "<table border=\"1\" class=\"dataframe\">\n",
              "  <thead>\n",
              "    <tr style=\"text-align: right;\">\n",
              "      <th></th>\n",
              "      <th>user_id</th>\n",
              "      <th>quality_0</th>\n",
              "      <th>quality_1</th>\n",
              "      <th>quality_2</th>\n",
              "      <th>quality_3</th>\n",
              "      <th>quality_4</th>\n",
              "      <th>quality_5</th>\n",
              "      <th>quality_6</th>\n",
              "      <th>quality_7</th>\n",
              "      <th>quality_8</th>\n",
              "      <th>quality_9</th>\n",
              "      <th>quality_10</th>\n",
              "      <th>quality_11</th>\n",
              "      <th>quality_12</th>\n",
              "    </tr>\n",
              "  </thead>\n",
              "  <tbody>\n",
              "    <tr>\n",
              "      <th>0</th>\n",
              "      <td>10000</td>\n",
              "      <td>0.00000</td>\n",
              "      <td>0.00000</td>\n",
              "      <td>0.00000</td>\n",
              "      <td>0.00000</td>\n",
              "      <td>0.00000</td>\n",
              "      <td>12.00000</td>\n",
              "      <td>0.00000</td>\n",
              "      <td>0.00000</td>\n",
              "      <td>0.00000</td>\n",
              "      <td>0.00000</td>\n",
              "      <td>144.00000</td>\n",
              "      <td>0.00000</td>\n",
              "      <td>0.00000</td>\n",
              "    </tr>\n",
              "    <tr>\n",
              "      <th>1</th>\n",
              "      <td>10001</td>\n",
              "      <td>0.00000</td>\n",
              "      <td>0.00000</td>\n",
              "      <td>0.00000</td>\n",
              "      <td>0.00000</td>\n",
              "      <td>0.00000</td>\n",
              "      <td>0.00000</td>\n",
              "      <td>0.00000</td>\n",
              "      <td>0.00000</td>\n",
              "      <td>0.00000</td>\n",
              "      <td>0.00000</td>\n",
              "      <td>0.00000</td>\n",
              "      <td>0.00000</td>\n",
              "      <td>0.00000</td>\n",
              "    </tr>\n",
              "    <tr>\n",
              "      <th>2</th>\n",
              "      <td>10002</td>\n",
              "      <td>2.00000</td>\n",
              "      <td>0.00000</td>\n",
              "      <td>1.00000</td>\n",
              "      <td>0.00000</td>\n",
              "      <td>0.00000</td>\n",
              "      <td>31.00000</td>\n",
              "      <td>46.00000</td>\n",
              "      <td>552.00000</td>\n",
              "      <td>0.00000</td>\n",
              "      <td>12.00000</td>\n",
              "      <td>372.00000</td>\n",
              "      <td>0.00000</td>\n",
              "      <td>0.00000</td>\n",
              "    </tr>\n",
              "    <tr>\n",
              "      <th>3</th>\n",
              "      <td>10003</td>\n",
              "      <td>0.00000</td>\n",
              "      <td>0.00000</td>\n",
              "      <td>0.00000</td>\n",
              "      <td>0.00000</td>\n",
              "      <td>0.00000</td>\n",
              "      <td>0.00000</td>\n",
              "      <td>0.00000</td>\n",
              "      <td>0.00000</td>\n",
              "      <td>0.00000</td>\n",
              "      <td>0.00000</td>\n",
              "      <td>0.00000</td>\n",
              "      <td>0.00000</td>\n",
              "      <td>0.00000</td>\n",
              "    </tr>\n",
              "    <tr>\n",
              "      <th>4</th>\n",
              "      <td>10004</td>\n",
              "      <td>0.00000</td>\n",
              "      <td>0.00000</td>\n",
              "      <td>0.00000</td>\n",
              "      <td>0.00000</td>\n",
              "      <td>0.00000</td>\n",
              "      <td>4.00000</td>\n",
              "      <td>87.00000</td>\n",
              "      <td>1044.00000</td>\n",
              "      <td>0.00000</td>\n",
              "      <td>0.00000</td>\n",
              "      <td>48.00000</td>\n",
              "      <td>0.00000</td>\n",
              "      <td>0.00000</td>\n",
              "    </tr>\n",
              "  </tbody>\n",
              "</table>\n",
              "</div>\n",
              "      <button class=\"colab-df-convert\" onclick=\"convertToInteractive('df-948212e9-865b-4284-81ef-bab16c0135f0')\"\n",
              "              title=\"Convert this dataframe to an interactive table.\"\n",
              "              style=\"display:none;\">\n",
              "        \n",
              "  <svg xmlns=\"http://www.w3.org/2000/svg\" height=\"24px\"viewBox=\"0 0 24 24\"\n",
              "       width=\"24px\">\n",
              "    <path d=\"M0 0h24v24H0V0z\" fill=\"none\"/>\n",
              "    <path d=\"M18.56 5.44l.94 2.06.94-2.06 2.06-.94-2.06-.94-.94-2.06-.94 2.06-2.06.94zm-11 1L8.5 8.5l.94-2.06 2.06-.94-2.06-.94L8.5 2.5l-.94 2.06-2.06.94zm10 10l.94 2.06.94-2.06 2.06-.94-2.06-.94-.94-2.06-.94 2.06-2.06.94z\"/><path d=\"M17.41 7.96l-1.37-1.37c-.4-.4-.92-.59-1.43-.59-.52 0-1.04.2-1.43.59L10.3 9.45l-7.72 7.72c-.78.78-.78 2.05 0 2.83L4 21.41c.39.39.9.59 1.41.59.51 0 1.02-.2 1.41-.59l7.78-7.78 2.81-2.81c.8-.78.8-2.07 0-2.86zM5.41 20L4 18.59l7.72-7.72 1.47 1.35L5.41 20z\"/>\n",
              "  </svg>\n",
              "      </button>\n",
              "      \n",
              "  <style>\n",
              "    .colab-df-container {\n",
              "      display:flex;\n",
              "      flex-wrap:wrap;\n",
              "      gap: 12px;\n",
              "    }\n",
              "\n",
              "    .colab-df-convert {\n",
              "      background-color: #E8F0FE;\n",
              "      border: none;\n",
              "      border-radius: 50%;\n",
              "      cursor: pointer;\n",
              "      display: none;\n",
              "      fill: #1967D2;\n",
              "      height: 32px;\n",
              "      padding: 0 0 0 0;\n",
              "      width: 32px;\n",
              "    }\n",
              "\n",
              "    .colab-df-convert:hover {\n",
              "      background-color: #E2EBFA;\n",
              "      box-shadow: 0px 1px 2px rgba(60, 64, 67, 0.3), 0px 1px 3px 1px rgba(60, 64, 67, 0.15);\n",
              "      fill: #174EA6;\n",
              "    }\n",
              "\n",
              "    [theme=dark] .colab-df-convert {\n",
              "      background-color: #3B4455;\n",
              "      fill: #D2E3FC;\n",
              "    }\n",
              "\n",
              "    [theme=dark] .colab-df-convert:hover {\n",
              "      background-color: #434B5C;\n",
              "      box-shadow: 0px 1px 3px 1px rgba(0, 0, 0, 0.15);\n",
              "      filter: drop-shadow(0px 1px 2px rgba(0, 0, 0, 0.3));\n",
              "      fill: #FFFFFF;\n",
              "    }\n",
              "  </style>\n",
              "\n",
              "      <script>\n",
              "        const buttonEl =\n",
              "          document.querySelector('#df-948212e9-865b-4284-81ef-bab16c0135f0 button.colab-df-convert');\n",
              "        buttonEl.style.display =\n",
              "          google.colab.kernel.accessAllowed ? 'block' : 'none';\n",
              "\n",
              "        async function convertToInteractive(key) {\n",
              "          const element = document.querySelector('#df-948212e9-865b-4284-81ef-bab16c0135f0');\n",
              "          const dataTable =\n",
              "            await google.colab.kernel.invokeFunction('convertToInteractive',\n",
              "                                                     [key], {});\n",
              "          if (!dataTable) return;\n",
              "\n",
              "          const docLinkHtml = 'Like what you see? Visit the ' +\n",
              "            '<a target=\"_blank\" href=https://colab.research.google.com/notebooks/data_table.ipynb>data table notebook</a>'\n",
              "            + ' to learn more about interactive tables.';\n",
              "          element.innerHTML = '';\n",
              "          dataTable['output_type'] = 'display_data';\n",
              "          await google.colab.output.renderOutput(dataTable, element);\n",
              "          const docLink = document.createElement('div');\n",
              "          docLink.innerHTML = docLinkHtml;\n",
              "          element.appendChild(docLink);\n",
              "        }\n",
              "      </script>\n",
              "    </div>\n",
              "  </div>\n",
              "  "
            ]
          },
          "metadata": {},
          "execution_count": 123
        }
      ]
    },
    {
      "cell_type": "code",
      "source": [
        "qual_sum.corr()"
      ],
      "metadata": {
        "colab": {
          "base_uri": "https://localhost:8080/",
          "height": 552
        },
        "id": "TjEnYaWskfnf",
        "outputId": "e0bb57e3-a35e-4852-fdaa-90c13b2a0e51"
      },
      "execution_count": 124,
      "outputs": [
        {
          "output_type": "execute_result",
          "data": {
            "text/plain": [
              "            user_id  quality_0  quality_1  quality_2  quality_3  quality_4  \\\n",
              "user_id     1.00000    0.01775    0.00618    0.01177        NaN        NaN   \n",
              "quality_0   0.01775    1.00000   -0.00106    0.88105        NaN        NaN   \n",
              "quality_1   0.00618   -0.00106    1.00000   -0.00035        NaN        NaN   \n",
              "quality_2   0.01177    0.88105   -0.00035    1.00000        NaN        NaN   \n",
              "quality_3       NaN        NaN        NaN        NaN        NaN        NaN   \n",
              "quality_4       NaN        NaN        NaN        NaN        NaN        NaN   \n",
              "quality_5  -0.00422    0.04295    0.02997    0.04433        NaN        NaN   \n",
              "quality_6  -0.00978    0.00066    0.00733    0.00107        NaN        NaN   \n",
              "quality_7  -0.00978    0.00066    0.00733    0.00107        NaN        NaN   \n",
              "quality_8   0.00618   -0.00106    1.00000   -0.00035        NaN        NaN   \n",
              "quality_9   0.01177    0.88105   -0.00035    1.00000        NaN        NaN   \n",
              "quality_10 -0.00422    0.04295    0.02997    0.04433        NaN        NaN   \n",
              "quality_11  0.00959    0.00106    0.10275    0.02326        NaN        NaN   \n",
              "quality_12  0.00959    0.00106    0.10275    0.02326        NaN        NaN   \n",
              "\n",
              "            quality_5  quality_6  quality_7  quality_8  quality_9  quality_10  \\\n",
              "user_id      -0.00422   -0.00978   -0.00978    0.00618    0.01177    -0.00422   \n",
              "quality_0     0.04295    0.00066    0.00066   -0.00106    0.88105     0.04295   \n",
              "quality_1     0.02997    0.00733    0.00733    1.00000   -0.00035     0.02997   \n",
              "quality_2     0.04433    0.00107    0.00107   -0.00035    1.00000     0.04433   \n",
              "quality_3         NaN        NaN        NaN        NaN        NaN         NaN   \n",
              "quality_4         NaN        NaN        NaN        NaN        NaN         NaN   \n",
              "quality_5     1.00000    0.01970    0.01970    0.02997    0.04433     1.00000   \n",
              "quality_6     0.01970    1.00000    1.00000    0.00733    0.00107     0.01970   \n",
              "quality_7     0.01970    1.00000    1.00000    0.00733    0.00107     0.01970   \n",
              "quality_8     0.02997    0.00733    0.00733    1.00000   -0.00035     0.02997   \n",
              "quality_9     0.04433    0.00107    0.00107   -0.00035    1.00000     0.04433   \n",
              "quality_10    1.00000    0.01970    0.01970    0.02997    0.04433     1.00000   \n",
              "quality_11    0.07244    0.00061    0.00061    0.10275    0.02326     0.07244   \n",
              "quality_12    0.07244    0.00061    0.00061    0.10275    0.02326     0.07244   \n",
              "\n",
              "            quality_11  quality_12  \n",
              "user_id        0.00959     0.00959  \n",
              "quality_0      0.00106     0.00106  \n",
              "quality_1      0.10275     0.10275  \n",
              "quality_2      0.02326     0.02326  \n",
              "quality_3          NaN         NaN  \n",
              "quality_4          NaN         NaN  \n",
              "quality_5      0.07244     0.07244  \n",
              "quality_6      0.00061     0.00061  \n",
              "quality_7      0.00061     0.00061  \n",
              "quality_8      0.10275     0.10275  \n",
              "quality_9      0.02326     0.02326  \n",
              "quality_10     0.07244     0.07244  \n",
              "quality_11     1.00000     1.00000  \n",
              "quality_12     1.00000     1.00000  "
            ],
            "text/html": [
              "\n",
              "  <div id=\"df-7b6ff8ee-648d-4c5a-a3c5-b4c1b4a63387\">\n",
              "    <div class=\"colab-df-container\">\n",
              "      <div>\n",
              "<style scoped>\n",
              "    .dataframe tbody tr th:only-of-type {\n",
              "        vertical-align: middle;\n",
              "    }\n",
              "\n",
              "    .dataframe tbody tr th {\n",
              "        vertical-align: top;\n",
              "    }\n",
              "\n",
              "    .dataframe thead th {\n",
              "        text-align: right;\n",
              "    }\n",
              "</style>\n",
              "<table border=\"1\" class=\"dataframe\">\n",
              "  <thead>\n",
              "    <tr style=\"text-align: right;\">\n",
              "      <th></th>\n",
              "      <th>user_id</th>\n",
              "      <th>quality_0</th>\n",
              "      <th>quality_1</th>\n",
              "      <th>quality_2</th>\n",
              "      <th>quality_3</th>\n",
              "      <th>quality_4</th>\n",
              "      <th>quality_5</th>\n",
              "      <th>quality_6</th>\n",
              "      <th>quality_7</th>\n",
              "      <th>quality_8</th>\n",
              "      <th>quality_9</th>\n",
              "      <th>quality_10</th>\n",
              "      <th>quality_11</th>\n",
              "      <th>quality_12</th>\n",
              "    </tr>\n",
              "  </thead>\n",
              "  <tbody>\n",
              "    <tr>\n",
              "      <th>user_id</th>\n",
              "      <td>1.00000</td>\n",
              "      <td>0.01775</td>\n",
              "      <td>0.00618</td>\n",
              "      <td>0.01177</td>\n",
              "      <td>NaN</td>\n",
              "      <td>NaN</td>\n",
              "      <td>-0.00422</td>\n",
              "      <td>-0.00978</td>\n",
              "      <td>-0.00978</td>\n",
              "      <td>0.00618</td>\n",
              "      <td>0.01177</td>\n",
              "      <td>-0.00422</td>\n",
              "      <td>0.00959</td>\n",
              "      <td>0.00959</td>\n",
              "    </tr>\n",
              "    <tr>\n",
              "      <th>quality_0</th>\n",
              "      <td>0.01775</td>\n",
              "      <td>1.00000</td>\n",
              "      <td>-0.00106</td>\n",
              "      <td>0.88105</td>\n",
              "      <td>NaN</td>\n",
              "      <td>NaN</td>\n",
              "      <td>0.04295</td>\n",
              "      <td>0.00066</td>\n",
              "      <td>0.00066</td>\n",
              "      <td>-0.00106</td>\n",
              "      <td>0.88105</td>\n",
              "      <td>0.04295</td>\n",
              "      <td>0.00106</td>\n",
              "      <td>0.00106</td>\n",
              "    </tr>\n",
              "    <tr>\n",
              "      <th>quality_1</th>\n",
              "      <td>0.00618</td>\n",
              "      <td>-0.00106</td>\n",
              "      <td>1.00000</td>\n",
              "      <td>-0.00035</td>\n",
              "      <td>NaN</td>\n",
              "      <td>NaN</td>\n",
              "      <td>0.02997</td>\n",
              "      <td>0.00733</td>\n",
              "      <td>0.00733</td>\n",
              "      <td>1.00000</td>\n",
              "      <td>-0.00035</td>\n",
              "      <td>0.02997</td>\n",
              "      <td>0.10275</td>\n",
              "      <td>0.10275</td>\n",
              "    </tr>\n",
              "    <tr>\n",
              "      <th>quality_2</th>\n",
              "      <td>0.01177</td>\n",
              "      <td>0.88105</td>\n",
              "      <td>-0.00035</td>\n",
              "      <td>1.00000</td>\n",
              "      <td>NaN</td>\n",
              "      <td>NaN</td>\n",
              "      <td>0.04433</td>\n",
              "      <td>0.00107</td>\n",
              "      <td>0.00107</td>\n",
              "      <td>-0.00035</td>\n",
              "      <td>1.00000</td>\n",
              "      <td>0.04433</td>\n",
              "      <td>0.02326</td>\n",
              "      <td>0.02326</td>\n",
              "    </tr>\n",
              "    <tr>\n",
              "      <th>quality_3</th>\n",
              "      <td>NaN</td>\n",
              "      <td>NaN</td>\n",
              "      <td>NaN</td>\n",
              "      <td>NaN</td>\n",
              "      <td>NaN</td>\n",
              "      <td>NaN</td>\n",
              "      <td>NaN</td>\n",
              "      <td>NaN</td>\n",
              "      <td>NaN</td>\n",
              "      <td>NaN</td>\n",
              "      <td>NaN</td>\n",
              "      <td>NaN</td>\n",
              "      <td>NaN</td>\n",
              "      <td>NaN</td>\n",
              "    </tr>\n",
              "    <tr>\n",
              "      <th>quality_4</th>\n",
              "      <td>NaN</td>\n",
              "      <td>NaN</td>\n",
              "      <td>NaN</td>\n",
              "      <td>NaN</td>\n",
              "      <td>NaN</td>\n",
              "      <td>NaN</td>\n",
              "      <td>NaN</td>\n",
              "      <td>NaN</td>\n",
              "      <td>NaN</td>\n",
              "      <td>NaN</td>\n",
              "      <td>NaN</td>\n",
              "      <td>NaN</td>\n",
              "      <td>NaN</td>\n",
              "      <td>NaN</td>\n",
              "    </tr>\n",
              "    <tr>\n",
              "      <th>quality_5</th>\n",
              "      <td>-0.00422</td>\n",
              "      <td>0.04295</td>\n",
              "      <td>0.02997</td>\n",
              "      <td>0.04433</td>\n",
              "      <td>NaN</td>\n",
              "      <td>NaN</td>\n",
              "      <td>1.00000</td>\n",
              "      <td>0.01970</td>\n",
              "      <td>0.01970</td>\n",
              "      <td>0.02997</td>\n",
              "      <td>0.04433</td>\n",
              "      <td>1.00000</td>\n",
              "      <td>0.07244</td>\n",
              "      <td>0.07244</td>\n",
              "    </tr>\n",
              "    <tr>\n",
              "      <th>quality_6</th>\n",
              "      <td>-0.00978</td>\n",
              "      <td>0.00066</td>\n",
              "      <td>0.00733</td>\n",
              "      <td>0.00107</td>\n",
              "      <td>NaN</td>\n",
              "      <td>NaN</td>\n",
              "      <td>0.01970</td>\n",
              "      <td>1.00000</td>\n",
              "      <td>1.00000</td>\n",
              "      <td>0.00733</td>\n",
              "      <td>0.00107</td>\n",
              "      <td>0.01970</td>\n",
              "      <td>0.00061</td>\n",
              "      <td>0.00061</td>\n",
              "    </tr>\n",
              "    <tr>\n",
              "      <th>quality_7</th>\n",
              "      <td>-0.00978</td>\n",
              "      <td>0.00066</td>\n",
              "      <td>0.00733</td>\n",
              "      <td>0.00107</td>\n",
              "      <td>NaN</td>\n",
              "      <td>NaN</td>\n",
              "      <td>0.01970</td>\n",
              "      <td>1.00000</td>\n",
              "      <td>1.00000</td>\n",
              "      <td>0.00733</td>\n",
              "      <td>0.00107</td>\n",
              "      <td>0.01970</td>\n",
              "      <td>0.00061</td>\n",
              "      <td>0.00061</td>\n",
              "    </tr>\n",
              "    <tr>\n",
              "      <th>quality_8</th>\n",
              "      <td>0.00618</td>\n",
              "      <td>-0.00106</td>\n",
              "      <td>1.00000</td>\n",
              "      <td>-0.00035</td>\n",
              "      <td>NaN</td>\n",
              "      <td>NaN</td>\n",
              "      <td>0.02997</td>\n",
              "      <td>0.00733</td>\n",
              "      <td>0.00733</td>\n",
              "      <td>1.00000</td>\n",
              "      <td>-0.00035</td>\n",
              "      <td>0.02997</td>\n",
              "      <td>0.10275</td>\n",
              "      <td>0.10275</td>\n",
              "    </tr>\n",
              "    <tr>\n",
              "      <th>quality_9</th>\n",
              "      <td>0.01177</td>\n",
              "      <td>0.88105</td>\n",
              "      <td>-0.00035</td>\n",
              "      <td>1.00000</td>\n",
              "      <td>NaN</td>\n",
              "      <td>NaN</td>\n",
              "      <td>0.04433</td>\n",
              "      <td>0.00107</td>\n",
              "      <td>0.00107</td>\n",
              "      <td>-0.00035</td>\n",
              "      <td>1.00000</td>\n",
              "      <td>0.04433</td>\n",
              "      <td>0.02326</td>\n",
              "      <td>0.02326</td>\n",
              "    </tr>\n",
              "    <tr>\n",
              "      <th>quality_10</th>\n",
              "      <td>-0.00422</td>\n",
              "      <td>0.04295</td>\n",
              "      <td>0.02997</td>\n",
              "      <td>0.04433</td>\n",
              "      <td>NaN</td>\n",
              "      <td>NaN</td>\n",
              "      <td>1.00000</td>\n",
              "      <td>0.01970</td>\n",
              "      <td>0.01970</td>\n",
              "      <td>0.02997</td>\n",
              "      <td>0.04433</td>\n",
              "      <td>1.00000</td>\n",
              "      <td>0.07244</td>\n",
              "      <td>0.07244</td>\n",
              "    </tr>\n",
              "    <tr>\n",
              "      <th>quality_11</th>\n",
              "      <td>0.00959</td>\n",
              "      <td>0.00106</td>\n",
              "      <td>0.10275</td>\n",
              "      <td>0.02326</td>\n",
              "      <td>NaN</td>\n",
              "      <td>NaN</td>\n",
              "      <td>0.07244</td>\n",
              "      <td>0.00061</td>\n",
              "      <td>0.00061</td>\n",
              "      <td>0.10275</td>\n",
              "      <td>0.02326</td>\n",
              "      <td>0.07244</td>\n",
              "      <td>1.00000</td>\n",
              "      <td>1.00000</td>\n",
              "    </tr>\n",
              "    <tr>\n",
              "      <th>quality_12</th>\n",
              "      <td>0.00959</td>\n",
              "      <td>0.00106</td>\n",
              "      <td>0.10275</td>\n",
              "      <td>0.02326</td>\n",
              "      <td>NaN</td>\n",
              "      <td>NaN</td>\n",
              "      <td>0.07244</td>\n",
              "      <td>0.00061</td>\n",
              "      <td>0.00061</td>\n",
              "      <td>0.10275</td>\n",
              "      <td>0.02326</td>\n",
              "      <td>0.07244</td>\n",
              "      <td>1.00000</td>\n",
              "      <td>1.00000</td>\n",
              "    </tr>\n",
              "  </tbody>\n",
              "</table>\n",
              "</div>\n",
              "      <button class=\"colab-df-convert\" onclick=\"convertToInteractive('df-7b6ff8ee-648d-4c5a-a3c5-b4c1b4a63387')\"\n",
              "              title=\"Convert this dataframe to an interactive table.\"\n",
              "              style=\"display:none;\">\n",
              "        \n",
              "  <svg xmlns=\"http://www.w3.org/2000/svg\" height=\"24px\"viewBox=\"0 0 24 24\"\n",
              "       width=\"24px\">\n",
              "    <path d=\"M0 0h24v24H0V0z\" fill=\"none\"/>\n",
              "    <path d=\"M18.56 5.44l.94 2.06.94-2.06 2.06-.94-2.06-.94-.94-2.06-.94 2.06-2.06.94zm-11 1L8.5 8.5l.94-2.06 2.06-.94-2.06-.94L8.5 2.5l-.94 2.06-2.06.94zm10 10l.94 2.06.94-2.06 2.06-.94-2.06-.94-.94-2.06-.94 2.06-2.06.94z\"/><path d=\"M17.41 7.96l-1.37-1.37c-.4-.4-.92-.59-1.43-.59-.52 0-1.04.2-1.43.59L10.3 9.45l-7.72 7.72c-.78.78-.78 2.05 0 2.83L4 21.41c.39.39.9.59 1.41.59.51 0 1.02-.2 1.41-.59l7.78-7.78 2.81-2.81c.8-.78.8-2.07 0-2.86zM5.41 20L4 18.59l7.72-7.72 1.47 1.35L5.41 20z\"/>\n",
              "  </svg>\n",
              "      </button>\n",
              "      \n",
              "  <style>\n",
              "    .colab-df-container {\n",
              "      display:flex;\n",
              "      flex-wrap:wrap;\n",
              "      gap: 12px;\n",
              "    }\n",
              "\n",
              "    .colab-df-convert {\n",
              "      background-color: #E8F0FE;\n",
              "      border: none;\n",
              "      border-radius: 50%;\n",
              "      cursor: pointer;\n",
              "      display: none;\n",
              "      fill: #1967D2;\n",
              "      height: 32px;\n",
              "      padding: 0 0 0 0;\n",
              "      width: 32px;\n",
              "    }\n",
              "\n",
              "    .colab-df-convert:hover {\n",
              "      background-color: #E2EBFA;\n",
              "      box-shadow: 0px 1px 2px rgba(60, 64, 67, 0.3), 0px 1px 3px 1px rgba(60, 64, 67, 0.15);\n",
              "      fill: #174EA6;\n",
              "    }\n",
              "\n",
              "    [theme=dark] .colab-df-convert {\n",
              "      background-color: #3B4455;\n",
              "      fill: #D2E3FC;\n",
              "    }\n",
              "\n",
              "    [theme=dark] .colab-df-convert:hover {\n",
              "      background-color: #434B5C;\n",
              "      box-shadow: 0px 1px 3px 1px rgba(0, 0, 0, 0.15);\n",
              "      filter: drop-shadow(0px 1px 2px rgba(0, 0, 0, 0.3));\n",
              "      fill: #FFFFFF;\n",
              "    }\n",
              "  </style>\n",
              "\n",
              "      <script>\n",
              "        const buttonEl =\n",
              "          document.querySelector('#df-7b6ff8ee-648d-4c5a-a3c5-b4c1b4a63387 button.colab-df-convert');\n",
              "        buttonEl.style.display =\n",
              "          google.colab.kernel.accessAllowed ? 'block' : 'none';\n",
              "\n",
              "        async function convertToInteractive(key) {\n",
              "          const element = document.querySelector('#df-7b6ff8ee-648d-4c5a-a3c5-b4c1b4a63387');\n",
              "          const dataTable =\n",
              "            await google.colab.kernel.invokeFunction('convertToInteractive',\n",
              "                                                     [key], {});\n",
              "          if (!dataTable) return;\n",
              "\n",
              "          const docLinkHtml = 'Like what you see? Visit the ' +\n",
              "            '<a target=\"_blank\" href=https://colab.research.google.com/notebooks/data_table.ipynb>data table notebook</a>'\n",
              "            + ' to learn more about interactive tables.';\n",
              "          element.innerHTML = '';\n",
              "          dataTable['output_type'] = 'display_data';\n",
              "          await google.colab.output.renderOutput(dataTable, element);\n",
              "          const docLink = document.createElement('div');\n",
              "          docLink.innerHTML = docLinkHtml;\n",
              "          element.appendChild(docLink);\n",
              "        }\n",
              "      </script>\n",
              "    </div>\n",
              "  </div>\n",
              "  "
            ]
          },
          "metadata": {},
          "execution_count": 124
        }
      ]
    },
    {
      "cell_type": "markdown",
      "source": [
        "→ Quality 값을 유저별로 합하여 만든 파생 변수들 중에, 완벽한 선형관계를 보이는 관계를 발견"
      ],
      "metadata": {
        "id": "EjMddmKLkhuI"
      }
    },
    {
      "cell_type": "code",
      "source": [
        "display(qual_sum.iloc[:,[2,9]][2505:2510])\n",
        "display(qual_sum.iloc[:,[3,10]][250:255])\n",
        "display(qual_sum.iloc[:,[6,11]][2505:2510])\n",
        "display(qual_sum.iloc[:,[7,8]][2505:2510])\n",
        "display(qual_sum.iloc[:,[12,13]][150:155])"
      ],
      "metadata": {
        "colab": {
          "base_uri": "https://localhost:8080/",
          "height": 963
        },
        "id": "cHF08NJ3kg03",
        "outputId": "c3e36d02-f336-4f7a-82ba-f25489e39b1a"
      },
      "execution_count": 125,
      "outputs": [
        {
          "output_type": "display_data",
          "data": {
            "text/plain": [
              "      quality_1  quality_8\n",
              "2505    4.00000   48.00000\n",
              "2506    0.00000    0.00000\n",
              "2507    0.00000    0.00000\n",
              "2508    2.00000   24.00000\n",
              "2509    0.00000    0.00000"
            ],
            "text/html": [
              "\n",
              "  <div id=\"df-7ca62d3b-9c08-4236-9c30-1d8e8100ef1d\">\n",
              "    <div class=\"colab-df-container\">\n",
              "      <div>\n",
              "<style scoped>\n",
              "    .dataframe tbody tr th:only-of-type {\n",
              "        vertical-align: middle;\n",
              "    }\n",
              "\n",
              "    .dataframe tbody tr th {\n",
              "        vertical-align: top;\n",
              "    }\n",
              "\n",
              "    .dataframe thead th {\n",
              "        text-align: right;\n",
              "    }\n",
              "</style>\n",
              "<table border=\"1\" class=\"dataframe\">\n",
              "  <thead>\n",
              "    <tr style=\"text-align: right;\">\n",
              "      <th></th>\n",
              "      <th>quality_1</th>\n",
              "      <th>quality_8</th>\n",
              "    </tr>\n",
              "  </thead>\n",
              "  <tbody>\n",
              "    <tr>\n",
              "      <th>2505</th>\n",
              "      <td>4.00000</td>\n",
              "      <td>48.00000</td>\n",
              "    </tr>\n",
              "    <tr>\n",
              "      <th>2506</th>\n",
              "      <td>0.00000</td>\n",
              "      <td>0.00000</td>\n",
              "    </tr>\n",
              "    <tr>\n",
              "      <th>2507</th>\n",
              "      <td>0.00000</td>\n",
              "      <td>0.00000</td>\n",
              "    </tr>\n",
              "    <tr>\n",
              "      <th>2508</th>\n",
              "      <td>2.00000</td>\n",
              "      <td>24.00000</td>\n",
              "    </tr>\n",
              "    <tr>\n",
              "      <th>2509</th>\n",
              "      <td>0.00000</td>\n",
              "      <td>0.00000</td>\n",
              "    </tr>\n",
              "  </tbody>\n",
              "</table>\n",
              "</div>\n",
              "      <button class=\"colab-df-convert\" onclick=\"convertToInteractive('df-7ca62d3b-9c08-4236-9c30-1d8e8100ef1d')\"\n",
              "              title=\"Convert this dataframe to an interactive table.\"\n",
              "              style=\"display:none;\">\n",
              "        \n",
              "  <svg xmlns=\"http://www.w3.org/2000/svg\" height=\"24px\"viewBox=\"0 0 24 24\"\n",
              "       width=\"24px\">\n",
              "    <path d=\"M0 0h24v24H0V0z\" fill=\"none\"/>\n",
              "    <path d=\"M18.56 5.44l.94 2.06.94-2.06 2.06-.94-2.06-.94-.94-2.06-.94 2.06-2.06.94zm-11 1L8.5 8.5l.94-2.06 2.06-.94-2.06-.94L8.5 2.5l-.94 2.06-2.06.94zm10 10l.94 2.06.94-2.06 2.06-.94-2.06-.94-.94-2.06-.94 2.06-2.06.94z\"/><path d=\"M17.41 7.96l-1.37-1.37c-.4-.4-.92-.59-1.43-.59-.52 0-1.04.2-1.43.59L10.3 9.45l-7.72 7.72c-.78.78-.78 2.05 0 2.83L4 21.41c.39.39.9.59 1.41.59.51 0 1.02-.2 1.41-.59l7.78-7.78 2.81-2.81c.8-.78.8-2.07 0-2.86zM5.41 20L4 18.59l7.72-7.72 1.47 1.35L5.41 20z\"/>\n",
              "  </svg>\n",
              "      </button>\n",
              "      \n",
              "  <style>\n",
              "    .colab-df-container {\n",
              "      display:flex;\n",
              "      flex-wrap:wrap;\n",
              "      gap: 12px;\n",
              "    }\n",
              "\n",
              "    .colab-df-convert {\n",
              "      background-color: #E8F0FE;\n",
              "      border: none;\n",
              "      border-radius: 50%;\n",
              "      cursor: pointer;\n",
              "      display: none;\n",
              "      fill: #1967D2;\n",
              "      height: 32px;\n",
              "      padding: 0 0 0 0;\n",
              "      width: 32px;\n",
              "    }\n",
              "\n",
              "    .colab-df-convert:hover {\n",
              "      background-color: #E2EBFA;\n",
              "      box-shadow: 0px 1px 2px rgba(60, 64, 67, 0.3), 0px 1px 3px 1px rgba(60, 64, 67, 0.15);\n",
              "      fill: #174EA6;\n",
              "    }\n",
              "\n",
              "    [theme=dark] .colab-df-convert {\n",
              "      background-color: #3B4455;\n",
              "      fill: #D2E3FC;\n",
              "    }\n",
              "\n",
              "    [theme=dark] .colab-df-convert:hover {\n",
              "      background-color: #434B5C;\n",
              "      box-shadow: 0px 1px 3px 1px rgba(0, 0, 0, 0.15);\n",
              "      filter: drop-shadow(0px 1px 2px rgba(0, 0, 0, 0.3));\n",
              "      fill: #FFFFFF;\n",
              "    }\n",
              "  </style>\n",
              "\n",
              "      <script>\n",
              "        const buttonEl =\n",
              "          document.querySelector('#df-7ca62d3b-9c08-4236-9c30-1d8e8100ef1d button.colab-df-convert');\n",
              "        buttonEl.style.display =\n",
              "          google.colab.kernel.accessAllowed ? 'block' : 'none';\n",
              "\n",
              "        async function convertToInteractive(key) {\n",
              "          const element = document.querySelector('#df-7ca62d3b-9c08-4236-9c30-1d8e8100ef1d');\n",
              "          const dataTable =\n",
              "            await google.colab.kernel.invokeFunction('convertToInteractive',\n",
              "                                                     [key], {});\n",
              "          if (!dataTable) return;\n",
              "\n",
              "          const docLinkHtml = 'Like what you see? Visit the ' +\n",
              "            '<a target=\"_blank\" href=https://colab.research.google.com/notebooks/data_table.ipynb>data table notebook</a>'\n",
              "            + ' to learn more about interactive tables.';\n",
              "          element.innerHTML = '';\n",
              "          dataTable['output_type'] = 'display_data';\n",
              "          await google.colab.output.renderOutput(dataTable, element);\n",
              "          const docLink = document.createElement('div');\n",
              "          docLink.innerHTML = docLinkHtml;\n",
              "          element.appendChild(docLink);\n",
              "        }\n",
              "      </script>\n",
              "    </div>\n",
              "  </div>\n",
              "  "
            ]
          },
          "metadata": {}
        },
        {
          "output_type": "display_data",
          "data": {
            "text/plain": [
              "     quality_2  quality_9\n",
              "250    0.00000    0.00000\n",
              "251   70.00000  840.00000\n",
              "252    0.00000    0.00000\n",
              "253    0.00000    0.00000\n",
              "254    0.00000    0.00000"
            ],
            "text/html": [
              "\n",
              "  <div id=\"df-22ab71b9-c6dd-423a-9540-281d8c76b2e0\">\n",
              "    <div class=\"colab-df-container\">\n",
              "      <div>\n",
              "<style scoped>\n",
              "    .dataframe tbody tr th:only-of-type {\n",
              "        vertical-align: middle;\n",
              "    }\n",
              "\n",
              "    .dataframe tbody tr th {\n",
              "        vertical-align: top;\n",
              "    }\n",
              "\n",
              "    .dataframe thead th {\n",
              "        text-align: right;\n",
              "    }\n",
              "</style>\n",
              "<table border=\"1\" class=\"dataframe\">\n",
              "  <thead>\n",
              "    <tr style=\"text-align: right;\">\n",
              "      <th></th>\n",
              "      <th>quality_2</th>\n",
              "      <th>quality_9</th>\n",
              "    </tr>\n",
              "  </thead>\n",
              "  <tbody>\n",
              "    <tr>\n",
              "      <th>250</th>\n",
              "      <td>0.00000</td>\n",
              "      <td>0.00000</td>\n",
              "    </tr>\n",
              "    <tr>\n",
              "      <th>251</th>\n",
              "      <td>70.00000</td>\n",
              "      <td>840.00000</td>\n",
              "    </tr>\n",
              "    <tr>\n",
              "      <th>252</th>\n",
              "      <td>0.00000</td>\n",
              "      <td>0.00000</td>\n",
              "    </tr>\n",
              "    <tr>\n",
              "      <th>253</th>\n",
              "      <td>0.00000</td>\n",
              "      <td>0.00000</td>\n",
              "    </tr>\n",
              "    <tr>\n",
              "      <th>254</th>\n",
              "      <td>0.00000</td>\n",
              "      <td>0.00000</td>\n",
              "    </tr>\n",
              "  </tbody>\n",
              "</table>\n",
              "</div>\n",
              "      <button class=\"colab-df-convert\" onclick=\"convertToInteractive('df-22ab71b9-c6dd-423a-9540-281d8c76b2e0')\"\n",
              "              title=\"Convert this dataframe to an interactive table.\"\n",
              "              style=\"display:none;\">\n",
              "        \n",
              "  <svg xmlns=\"http://www.w3.org/2000/svg\" height=\"24px\"viewBox=\"0 0 24 24\"\n",
              "       width=\"24px\">\n",
              "    <path d=\"M0 0h24v24H0V0z\" fill=\"none\"/>\n",
              "    <path d=\"M18.56 5.44l.94 2.06.94-2.06 2.06-.94-2.06-.94-.94-2.06-.94 2.06-2.06.94zm-11 1L8.5 8.5l.94-2.06 2.06-.94-2.06-.94L8.5 2.5l-.94 2.06-2.06.94zm10 10l.94 2.06.94-2.06 2.06-.94-2.06-.94-.94-2.06-.94 2.06-2.06.94z\"/><path d=\"M17.41 7.96l-1.37-1.37c-.4-.4-.92-.59-1.43-.59-.52 0-1.04.2-1.43.59L10.3 9.45l-7.72 7.72c-.78.78-.78 2.05 0 2.83L4 21.41c.39.39.9.59 1.41.59.51 0 1.02-.2 1.41-.59l7.78-7.78 2.81-2.81c.8-.78.8-2.07 0-2.86zM5.41 20L4 18.59l7.72-7.72 1.47 1.35L5.41 20z\"/>\n",
              "  </svg>\n",
              "      </button>\n",
              "      \n",
              "  <style>\n",
              "    .colab-df-container {\n",
              "      display:flex;\n",
              "      flex-wrap:wrap;\n",
              "      gap: 12px;\n",
              "    }\n",
              "\n",
              "    .colab-df-convert {\n",
              "      background-color: #E8F0FE;\n",
              "      border: none;\n",
              "      border-radius: 50%;\n",
              "      cursor: pointer;\n",
              "      display: none;\n",
              "      fill: #1967D2;\n",
              "      height: 32px;\n",
              "      padding: 0 0 0 0;\n",
              "      width: 32px;\n",
              "    }\n",
              "\n",
              "    .colab-df-convert:hover {\n",
              "      background-color: #E2EBFA;\n",
              "      box-shadow: 0px 1px 2px rgba(60, 64, 67, 0.3), 0px 1px 3px 1px rgba(60, 64, 67, 0.15);\n",
              "      fill: #174EA6;\n",
              "    }\n",
              "\n",
              "    [theme=dark] .colab-df-convert {\n",
              "      background-color: #3B4455;\n",
              "      fill: #D2E3FC;\n",
              "    }\n",
              "\n",
              "    [theme=dark] .colab-df-convert:hover {\n",
              "      background-color: #434B5C;\n",
              "      box-shadow: 0px 1px 3px 1px rgba(0, 0, 0, 0.15);\n",
              "      filter: drop-shadow(0px 1px 2px rgba(0, 0, 0, 0.3));\n",
              "      fill: #FFFFFF;\n",
              "    }\n",
              "  </style>\n",
              "\n",
              "      <script>\n",
              "        const buttonEl =\n",
              "          document.querySelector('#df-22ab71b9-c6dd-423a-9540-281d8c76b2e0 button.colab-df-convert');\n",
              "        buttonEl.style.display =\n",
              "          google.colab.kernel.accessAllowed ? 'block' : 'none';\n",
              "\n",
              "        async function convertToInteractive(key) {\n",
              "          const element = document.querySelector('#df-22ab71b9-c6dd-423a-9540-281d8c76b2e0');\n",
              "          const dataTable =\n",
              "            await google.colab.kernel.invokeFunction('convertToInteractive',\n",
              "                                                     [key], {});\n",
              "          if (!dataTable) return;\n",
              "\n",
              "          const docLinkHtml = 'Like what you see? Visit the ' +\n",
              "            '<a target=\"_blank\" href=https://colab.research.google.com/notebooks/data_table.ipynb>data table notebook</a>'\n",
              "            + ' to learn more about interactive tables.';\n",
              "          element.innerHTML = '';\n",
              "          dataTable['output_type'] = 'display_data';\n",
              "          await google.colab.output.renderOutput(dataTable, element);\n",
              "          const docLink = document.createElement('div');\n",
              "          docLink.innerHTML = docLinkHtml;\n",
              "          element.appendChild(docLink);\n",
              "        }\n",
              "      </script>\n",
              "    </div>\n",
              "  </div>\n",
              "  "
            ]
          },
          "metadata": {}
        },
        {
          "output_type": "display_data",
          "data": {
            "text/plain": [
              "      quality_5  quality_10\n",
              "2505   10.00000   120.00000\n",
              "2506    5.00000    60.00000\n",
              "2507    0.00000     0.00000\n",
              "2508    0.00000     0.00000\n",
              "2509    0.00000     0.00000"
            ],
            "text/html": [
              "\n",
              "  <div id=\"df-71bb7454-bb30-4da3-904c-0cc862468670\">\n",
              "    <div class=\"colab-df-container\">\n",
              "      <div>\n",
              "<style scoped>\n",
              "    .dataframe tbody tr th:only-of-type {\n",
              "        vertical-align: middle;\n",
              "    }\n",
              "\n",
              "    .dataframe tbody tr th {\n",
              "        vertical-align: top;\n",
              "    }\n",
              "\n",
              "    .dataframe thead th {\n",
              "        text-align: right;\n",
              "    }\n",
              "</style>\n",
              "<table border=\"1\" class=\"dataframe\">\n",
              "  <thead>\n",
              "    <tr style=\"text-align: right;\">\n",
              "      <th></th>\n",
              "      <th>quality_5</th>\n",
              "      <th>quality_10</th>\n",
              "    </tr>\n",
              "  </thead>\n",
              "  <tbody>\n",
              "    <tr>\n",
              "      <th>2505</th>\n",
              "      <td>10.00000</td>\n",
              "      <td>120.00000</td>\n",
              "    </tr>\n",
              "    <tr>\n",
              "      <th>2506</th>\n",
              "      <td>5.00000</td>\n",
              "      <td>60.00000</td>\n",
              "    </tr>\n",
              "    <tr>\n",
              "      <th>2507</th>\n",
              "      <td>0.00000</td>\n",
              "      <td>0.00000</td>\n",
              "    </tr>\n",
              "    <tr>\n",
              "      <th>2508</th>\n",
              "      <td>0.00000</td>\n",
              "      <td>0.00000</td>\n",
              "    </tr>\n",
              "    <tr>\n",
              "      <th>2509</th>\n",
              "      <td>0.00000</td>\n",
              "      <td>0.00000</td>\n",
              "    </tr>\n",
              "  </tbody>\n",
              "</table>\n",
              "</div>\n",
              "      <button class=\"colab-df-convert\" onclick=\"convertToInteractive('df-71bb7454-bb30-4da3-904c-0cc862468670')\"\n",
              "              title=\"Convert this dataframe to an interactive table.\"\n",
              "              style=\"display:none;\">\n",
              "        \n",
              "  <svg xmlns=\"http://www.w3.org/2000/svg\" height=\"24px\"viewBox=\"0 0 24 24\"\n",
              "       width=\"24px\">\n",
              "    <path d=\"M0 0h24v24H0V0z\" fill=\"none\"/>\n",
              "    <path d=\"M18.56 5.44l.94 2.06.94-2.06 2.06-.94-2.06-.94-.94-2.06-.94 2.06-2.06.94zm-11 1L8.5 8.5l.94-2.06 2.06-.94-2.06-.94L8.5 2.5l-.94 2.06-2.06.94zm10 10l.94 2.06.94-2.06 2.06-.94-2.06-.94-.94-2.06-.94 2.06-2.06.94z\"/><path d=\"M17.41 7.96l-1.37-1.37c-.4-.4-.92-.59-1.43-.59-.52 0-1.04.2-1.43.59L10.3 9.45l-7.72 7.72c-.78.78-.78 2.05 0 2.83L4 21.41c.39.39.9.59 1.41.59.51 0 1.02-.2 1.41-.59l7.78-7.78 2.81-2.81c.8-.78.8-2.07 0-2.86zM5.41 20L4 18.59l7.72-7.72 1.47 1.35L5.41 20z\"/>\n",
              "  </svg>\n",
              "      </button>\n",
              "      \n",
              "  <style>\n",
              "    .colab-df-container {\n",
              "      display:flex;\n",
              "      flex-wrap:wrap;\n",
              "      gap: 12px;\n",
              "    }\n",
              "\n",
              "    .colab-df-convert {\n",
              "      background-color: #E8F0FE;\n",
              "      border: none;\n",
              "      border-radius: 50%;\n",
              "      cursor: pointer;\n",
              "      display: none;\n",
              "      fill: #1967D2;\n",
              "      height: 32px;\n",
              "      padding: 0 0 0 0;\n",
              "      width: 32px;\n",
              "    }\n",
              "\n",
              "    .colab-df-convert:hover {\n",
              "      background-color: #E2EBFA;\n",
              "      box-shadow: 0px 1px 2px rgba(60, 64, 67, 0.3), 0px 1px 3px 1px rgba(60, 64, 67, 0.15);\n",
              "      fill: #174EA6;\n",
              "    }\n",
              "\n",
              "    [theme=dark] .colab-df-convert {\n",
              "      background-color: #3B4455;\n",
              "      fill: #D2E3FC;\n",
              "    }\n",
              "\n",
              "    [theme=dark] .colab-df-convert:hover {\n",
              "      background-color: #434B5C;\n",
              "      box-shadow: 0px 1px 3px 1px rgba(0, 0, 0, 0.15);\n",
              "      filter: drop-shadow(0px 1px 2px rgba(0, 0, 0, 0.3));\n",
              "      fill: #FFFFFF;\n",
              "    }\n",
              "  </style>\n",
              "\n",
              "      <script>\n",
              "        const buttonEl =\n",
              "          document.querySelector('#df-71bb7454-bb30-4da3-904c-0cc862468670 button.colab-df-convert');\n",
              "        buttonEl.style.display =\n",
              "          google.colab.kernel.accessAllowed ? 'block' : 'none';\n",
              "\n",
              "        async function convertToInteractive(key) {\n",
              "          const element = document.querySelector('#df-71bb7454-bb30-4da3-904c-0cc862468670');\n",
              "          const dataTable =\n",
              "            await google.colab.kernel.invokeFunction('convertToInteractive',\n",
              "                                                     [key], {});\n",
              "          if (!dataTable) return;\n",
              "\n",
              "          const docLinkHtml = 'Like what you see? Visit the ' +\n",
              "            '<a target=\"_blank\" href=https://colab.research.google.com/notebooks/data_table.ipynb>data table notebook</a>'\n",
              "            + ' to learn more about interactive tables.';\n",
              "          element.innerHTML = '';\n",
              "          dataTable['output_type'] = 'display_data';\n",
              "          await google.colab.output.renderOutput(dataTable, element);\n",
              "          const docLink = document.createElement('div');\n",
              "          docLink.innerHTML = docLinkHtml;\n",
              "          element.appendChild(docLink);\n",
              "        }\n",
              "      </script>\n",
              "    </div>\n",
              "  </div>\n",
              "  "
            ]
          },
          "metadata": {}
        },
        {
          "output_type": "display_data",
          "data": {
            "text/plain": [
              "      quality_6  quality_7\n",
              "2505    4.00000   48.00000\n",
              "2506    1.00000   12.00000\n",
              "2507    0.00000    0.00000\n",
              "2508    0.00000    0.00000\n",
              "2509    0.00000    0.00000"
            ],
            "text/html": [
              "\n",
              "  <div id=\"df-dc46bb13-f866-4083-ac20-94f9f2eb5e8e\">\n",
              "    <div class=\"colab-df-container\">\n",
              "      <div>\n",
              "<style scoped>\n",
              "    .dataframe tbody tr th:only-of-type {\n",
              "        vertical-align: middle;\n",
              "    }\n",
              "\n",
              "    .dataframe tbody tr th {\n",
              "        vertical-align: top;\n",
              "    }\n",
              "\n",
              "    .dataframe thead th {\n",
              "        text-align: right;\n",
              "    }\n",
              "</style>\n",
              "<table border=\"1\" class=\"dataframe\">\n",
              "  <thead>\n",
              "    <tr style=\"text-align: right;\">\n",
              "      <th></th>\n",
              "      <th>quality_6</th>\n",
              "      <th>quality_7</th>\n",
              "    </tr>\n",
              "  </thead>\n",
              "  <tbody>\n",
              "    <tr>\n",
              "      <th>2505</th>\n",
              "      <td>4.00000</td>\n",
              "      <td>48.00000</td>\n",
              "    </tr>\n",
              "    <tr>\n",
              "      <th>2506</th>\n",
              "      <td>1.00000</td>\n",
              "      <td>12.00000</td>\n",
              "    </tr>\n",
              "    <tr>\n",
              "      <th>2507</th>\n",
              "      <td>0.00000</td>\n",
              "      <td>0.00000</td>\n",
              "    </tr>\n",
              "    <tr>\n",
              "      <th>2508</th>\n",
              "      <td>0.00000</td>\n",
              "      <td>0.00000</td>\n",
              "    </tr>\n",
              "    <tr>\n",
              "      <th>2509</th>\n",
              "      <td>0.00000</td>\n",
              "      <td>0.00000</td>\n",
              "    </tr>\n",
              "  </tbody>\n",
              "</table>\n",
              "</div>\n",
              "      <button class=\"colab-df-convert\" onclick=\"convertToInteractive('df-dc46bb13-f866-4083-ac20-94f9f2eb5e8e')\"\n",
              "              title=\"Convert this dataframe to an interactive table.\"\n",
              "              style=\"display:none;\">\n",
              "        \n",
              "  <svg xmlns=\"http://www.w3.org/2000/svg\" height=\"24px\"viewBox=\"0 0 24 24\"\n",
              "       width=\"24px\">\n",
              "    <path d=\"M0 0h24v24H0V0z\" fill=\"none\"/>\n",
              "    <path d=\"M18.56 5.44l.94 2.06.94-2.06 2.06-.94-2.06-.94-.94-2.06-.94 2.06-2.06.94zm-11 1L8.5 8.5l.94-2.06 2.06-.94-2.06-.94L8.5 2.5l-.94 2.06-2.06.94zm10 10l.94 2.06.94-2.06 2.06-.94-2.06-.94-.94-2.06-.94 2.06-2.06.94z\"/><path d=\"M17.41 7.96l-1.37-1.37c-.4-.4-.92-.59-1.43-.59-.52 0-1.04.2-1.43.59L10.3 9.45l-7.72 7.72c-.78.78-.78 2.05 0 2.83L4 21.41c.39.39.9.59 1.41.59.51 0 1.02-.2 1.41-.59l7.78-7.78 2.81-2.81c.8-.78.8-2.07 0-2.86zM5.41 20L4 18.59l7.72-7.72 1.47 1.35L5.41 20z\"/>\n",
              "  </svg>\n",
              "      </button>\n",
              "      \n",
              "  <style>\n",
              "    .colab-df-container {\n",
              "      display:flex;\n",
              "      flex-wrap:wrap;\n",
              "      gap: 12px;\n",
              "    }\n",
              "\n",
              "    .colab-df-convert {\n",
              "      background-color: #E8F0FE;\n",
              "      border: none;\n",
              "      border-radius: 50%;\n",
              "      cursor: pointer;\n",
              "      display: none;\n",
              "      fill: #1967D2;\n",
              "      height: 32px;\n",
              "      padding: 0 0 0 0;\n",
              "      width: 32px;\n",
              "    }\n",
              "\n",
              "    .colab-df-convert:hover {\n",
              "      background-color: #E2EBFA;\n",
              "      box-shadow: 0px 1px 2px rgba(60, 64, 67, 0.3), 0px 1px 3px 1px rgba(60, 64, 67, 0.15);\n",
              "      fill: #174EA6;\n",
              "    }\n",
              "\n",
              "    [theme=dark] .colab-df-convert {\n",
              "      background-color: #3B4455;\n",
              "      fill: #D2E3FC;\n",
              "    }\n",
              "\n",
              "    [theme=dark] .colab-df-convert:hover {\n",
              "      background-color: #434B5C;\n",
              "      box-shadow: 0px 1px 3px 1px rgba(0, 0, 0, 0.15);\n",
              "      filter: drop-shadow(0px 1px 2px rgba(0, 0, 0, 0.3));\n",
              "      fill: #FFFFFF;\n",
              "    }\n",
              "  </style>\n",
              "\n",
              "      <script>\n",
              "        const buttonEl =\n",
              "          document.querySelector('#df-dc46bb13-f866-4083-ac20-94f9f2eb5e8e button.colab-df-convert');\n",
              "        buttonEl.style.display =\n",
              "          google.colab.kernel.accessAllowed ? 'block' : 'none';\n",
              "\n",
              "        async function convertToInteractive(key) {\n",
              "          const element = document.querySelector('#df-dc46bb13-f866-4083-ac20-94f9f2eb5e8e');\n",
              "          const dataTable =\n",
              "            await google.colab.kernel.invokeFunction('convertToInteractive',\n",
              "                                                     [key], {});\n",
              "          if (!dataTable) return;\n",
              "\n",
              "          const docLinkHtml = 'Like what you see? Visit the ' +\n",
              "            '<a target=\"_blank\" href=https://colab.research.google.com/notebooks/data_table.ipynb>data table notebook</a>'\n",
              "            + ' to learn more about interactive tables.';\n",
              "          element.innerHTML = '';\n",
              "          dataTable['output_type'] = 'display_data';\n",
              "          await google.colab.output.renderOutput(dataTable, element);\n",
              "          const docLink = document.createElement('div');\n",
              "          docLink.innerHTML = docLinkHtml;\n",
              "          element.appendChild(docLink);\n",
              "        }\n",
              "      </script>\n",
              "    </div>\n",
              "  </div>\n",
              "  "
            ]
          },
          "metadata": {}
        },
        {
          "output_type": "display_data",
          "data": {
            "text/plain": [
              "     quality_11  quality_12\n",
              "150     1.00000    12.00000\n",
              "151     0.00000     0.00000\n",
              "152     0.00000     0.00000\n",
              "153     0.00000     0.00000\n",
              "154     0.00000     0.00000"
            ],
            "text/html": [
              "\n",
              "  <div id=\"df-f2e839f0-01fb-49ee-b442-6ae485e9e054\">\n",
              "    <div class=\"colab-df-container\">\n",
              "      <div>\n",
              "<style scoped>\n",
              "    .dataframe tbody tr th:only-of-type {\n",
              "        vertical-align: middle;\n",
              "    }\n",
              "\n",
              "    .dataframe tbody tr th {\n",
              "        vertical-align: top;\n",
              "    }\n",
              "\n",
              "    .dataframe thead th {\n",
              "        text-align: right;\n",
              "    }\n",
              "</style>\n",
              "<table border=\"1\" class=\"dataframe\">\n",
              "  <thead>\n",
              "    <tr style=\"text-align: right;\">\n",
              "      <th></th>\n",
              "      <th>quality_11</th>\n",
              "      <th>quality_12</th>\n",
              "    </tr>\n",
              "  </thead>\n",
              "  <tbody>\n",
              "    <tr>\n",
              "      <th>150</th>\n",
              "      <td>1.00000</td>\n",
              "      <td>12.00000</td>\n",
              "    </tr>\n",
              "    <tr>\n",
              "      <th>151</th>\n",
              "      <td>0.00000</td>\n",
              "      <td>0.00000</td>\n",
              "    </tr>\n",
              "    <tr>\n",
              "      <th>152</th>\n",
              "      <td>0.00000</td>\n",
              "      <td>0.00000</td>\n",
              "    </tr>\n",
              "    <tr>\n",
              "      <th>153</th>\n",
              "      <td>0.00000</td>\n",
              "      <td>0.00000</td>\n",
              "    </tr>\n",
              "    <tr>\n",
              "      <th>154</th>\n",
              "      <td>0.00000</td>\n",
              "      <td>0.00000</td>\n",
              "    </tr>\n",
              "  </tbody>\n",
              "</table>\n",
              "</div>\n",
              "      <button class=\"colab-df-convert\" onclick=\"convertToInteractive('df-f2e839f0-01fb-49ee-b442-6ae485e9e054')\"\n",
              "              title=\"Convert this dataframe to an interactive table.\"\n",
              "              style=\"display:none;\">\n",
              "        \n",
              "  <svg xmlns=\"http://www.w3.org/2000/svg\" height=\"24px\"viewBox=\"0 0 24 24\"\n",
              "       width=\"24px\">\n",
              "    <path d=\"M0 0h24v24H0V0z\" fill=\"none\"/>\n",
              "    <path d=\"M18.56 5.44l.94 2.06.94-2.06 2.06-.94-2.06-.94-.94-2.06-.94 2.06-2.06.94zm-11 1L8.5 8.5l.94-2.06 2.06-.94-2.06-.94L8.5 2.5l-.94 2.06-2.06.94zm10 10l.94 2.06.94-2.06 2.06-.94-2.06-.94-.94-2.06-.94 2.06-2.06.94z\"/><path d=\"M17.41 7.96l-1.37-1.37c-.4-.4-.92-.59-1.43-.59-.52 0-1.04.2-1.43.59L10.3 9.45l-7.72 7.72c-.78.78-.78 2.05 0 2.83L4 21.41c.39.39.9.59 1.41.59.51 0 1.02-.2 1.41-.59l7.78-7.78 2.81-2.81c.8-.78.8-2.07 0-2.86zM5.41 20L4 18.59l7.72-7.72 1.47 1.35L5.41 20z\"/>\n",
              "  </svg>\n",
              "      </button>\n",
              "      \n",
              "  <style>\n",
              "    .colab-df-container {\n",
              "      display:flex;\n",
              "      flex-wrap:wrap;\n",
              "      gap: 12px;\n",
              "    }\n",
              "\n",
              "    .colab-df-convert {\n",
              "      background-color: #E8F0FE;\n",
              "      border: none;\n",
              "      border-radius: 50%;\n",
              "      cursor: pointer;\n",
              "      display: none;\n",
              "      fill: #1967D2;\n",
              "      height: 32px;\n",
              "      padding: 0 0 0 0;\n",
              "      width: 32px;\n",
              "    }\n",
              "\n",
              "    .colab-df-convert:hover {\n",
              "      background-color: #E2EBFA;\n",
              "      box-shadow: 0px 1px 2px rgba(60, 64, 67, 0.3), 0px 1px 3px 1px rgba(60, 64, 67, 0.15);\n",
              "      fill: #174EA6;\n",
              "    }\n",
              "\n",
              "    [theme=dark] .colab-df-convert {\n",
              "      background-color: #3B4455;\n",
              "      fill: #D2E3FC;\n",
              "    }\n",
              "\n",
              "    [theme=dark] .colab-df-convert:hover {\n",
              "      background-color: #434B5C;\n",
              "      box-shadow: 0px 1px 3px 1px rgba(0, 0, 0, 0.15);\n",
              "      filter: drop-shadow(0px 1px 2px rgba(0, 0, 0, 0.3));\n",
              "      fill: #FFFFFF;\n",
              "    }\n",
              "  </style>\n",
              "\n",
              "      <script>\n",
              "        const buttonEl =\n",
              "          document.querySelector('#df-f2e839f0-01fb-49ee-b442-6ae485e9e054 button.colab-df-convert');\n",
              "        buttonEl.style.display =\n",
              "          google.colab.kernel.accessAllowed ? 'block' : 'none';\n",
              "\n",
              "        async function convertToInteractive(key) {\n",
              "          const element = document.querySelector('#df-f2e839f0-01fb-49ee-b442-6ae485e9e054');\n",
              "          const dataTable =\n",
              "            await google.colab.kernel.invokeFunction('convertToInteractive',\n",
              "                                                     [key], {});\n",
              "          if (!dataTable) return;\n",
              "\n",
              "          const docLinkHtml = 'Like what you see? Visit the ' +\n",
              "            '<a target=\"_blank\" href=https://colab.research.google.com/notebooks/data_table.ipynb>data table notebook</a>'\n",
              "            + ' to learn more about interactive tables.';\n",
              "          element.innerHTML = '';\n",
              "          dataTable['output_type'] = 'display_data';\n",
              "          await google.colab.output.renderOutput(dataTable, element);\n",
              "          const docLink = document.createElement('div');\n",
              "          docLink.innerHTML = docLinkHtml;\n",
              "          element.appendChild(docLink);\n",
              "        }\n",
              "      </script>\n",
              "    </div>\n",
              "  </div>\n",
              "  "
            ]
          },
          "metadata": {}
        }
      ]
    },
    {
      "cell_type": "code",
      "source": [
        ""
      ],
      "metadata": {
        "id": "Q2ZhdqhOklsL"
      },
      "execution_count": null,
      "outputs": []
    }
  ]
}