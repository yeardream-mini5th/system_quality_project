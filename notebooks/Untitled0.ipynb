{
  "nbformat": 4,
  "nbformat_minor": 0,
  "metadata": {
    "colab": {
      "name": "Untitled0.ipynb",
      "provenance": [],
      "collapsed_sections": [],
      "mount_file_id": "1ZVbrBlk1Wen-ESJl0oMldB_qGa0WFMEr",
      "authorship_tag": "ABX9TyN34SATwnP519bYptb0DYwC",
      "include_colab_link": true
    },
    "kernelspec": {
      "name": "python3",
      "display_name": "Python 3"
    },
    "language_info": {
      "name": "python"
    }
  },
  "cells": [
    {
      "cell_type": "markdown",
      "metadata": {
        "id": "view-in-github",
        "colab_type": "text"
      },
      "source": [
        "<a href=\"https://colab.research.google.com/github/viscoss/system_quality_project/blob/main/notebooks/Untitled0.ipynb\" target=\"_parent\"><img src=\"https://colab.research.google.com/assets/colab-badge.svg\" alt=\"Open In Colab\"/></a>"
      ]
    },
    {
      "cell_type": "code",
      "execution_count": 95,
      "metadata": {
        "id": "nOeQKbz7pSS-"
      },
      "outputs": [],
      "source": [
        "import pandas as pd\n",
        "import matplotlib.pyplot as plt\n",
        "import os\n",
        "import seaborn as sns\n",
        "import numpy as np"
      ]
    },
    {
      "cell_type": "code",
      "source": [
        "import warnings\n",
        "warnings.filterwarnings(action='ignore')"
      ],
      "metadata": {
        "id": "RShm4zPjppe3"
      },
      "execution_count": 96,
      "outputs": []
    },
    {
      "cell_type": "code",
      "source": [
        "train_err = pd.read_csv('/content/drive/MyDrive/Colab Notebooks/235687_시스템 품질 변화로 인한 사용자 불편 예지 AI 경진대회_data/train_err_data.csv')\n",
        "train_qual = pd.read_csv('/content/drive/MyDrive/Colab Notebooks/235687_시스템 품질 변화로 인한 사용자 불편 예지 AI 경진대회_data/train_quality_data.csv')\n",
        "train_prob = pd.read_csv('/content/drive/MyDrive/Colab Notebooks/235687_시스템 품질 변화로 인한 사용자 불편 예지 AI 경진대회_data/train_problem_data.csv')"
      ],
      "metadata": {
        "id": "iSWgi7frpput"
      },
      "execution_count": 97,
      "outputs": []
    },
    {
      "cell_type": "code",
      "source": [
        "test_err = pd.read_csv('/content/drive/MyDrive/Colab Notebooks/235687_시스템 품질 변화로 인한 사용자 불편 예지 AI 경진대회_data/test_err_data.csv')\n",
        "test_qual = pd.read_csv('/content/drive/MyDrive/Colab Notebooks/235687_시스템 품질 변화로 인한 사용자 불편 예지 AI 경진대회_data/test_quality_data.csv')"
      ],
      "metadata": {
        "id": "9pNGjzjCr0m0"
      },
      "execution_count": 98,
      "outputs": []
    },
    {
      "cell_type": "code",
      "source": [
        "# 영수 조장님께서 코드를 구현해주신 덕분에 올릴 수 있게 되었습니다. 감사합니다. (_ _)\n",
        "# train_err의 user_id 컬럼과 train_prod의 user_id 컬럼의 상관성을 알아보려 했습니다.\n",
        "\n",
        "\n",
        "train_err['user_id'].value_counts()"
      ],
      "metadata": {
        "colab": {
          "base_uri": "https://localhost:8080/"
        },
        "id": "mA1n3RfbHrVG",
        "outputId": "ade09da1-b1ae-4e0a-9ca3-d05446dc52d3"
      },
      "execution_count": 99,
      "outputs": [
        {
          "output_type": "execute_result",
          "data": {
            "text/plain": [
              "24934    222186\n",
              "20546    195538\n",
              "15570    175730\n",
              "20352     83680\n",
              "11041     66093\n",
              "          ...  \n",
              "20099         1\n",
              "21960         1\n",
              "21076         1\n",
              "20618         1\n",
              "13525         1\n",
              "Name: user_id, Length: 15000, dtype: int64"
            ]
          },
          "metadata": {},
          "execution_count": 99
        }
      ]
    },
    {
      "cell_type": "code",
      "source": [
        "# 그래서 train_prob의 user_id 중 불만접수 횟수가 2회 이상인 user_id를 알아보았습니다. \n",
        "\n",
        "train_prob['user_id'].value_counts() > 1"
      ],
      "metadata": {
        "colab": {
          "base_uri": "https://localhost:8080/"
        },
        "id": "sYTAcPm7JHsp",
        "outputId": "a77f8792-d145-414d-f450-e7a4d16ab208"
      },
      "execution_count": 101,
      "outputs": [
        {
          "output_type": "execute_result",
          "data": {
            "text/plain": [
              "24407     True\n",
              "11016     True\n",
              "11528     True\n",
              "15134     True\n",
              "24138     True\n",
              "         ...  \n",
              "15539    False\n",
              "23882    False\n",
              "19729    False\n",
              "22203    False\n",
              "18822    False\n",
              "Name: user_id, Length: 5000, dtype: bool"
            ]
          },
          "metadata": {},
          "execution_count": 101
        }
      ]
    },
    {
      "cell_type": "code",
      "source": [
        "# 최다 불만접수는 5회였습니다.  \n",
        "tmp1 = train_prob['user_id'].value_counts()[train_prob['user_id'].value_counts() > 1]"
      ],
      "metadata": {
        "id": "nTpvBcoXHwkh"
      },
      "execution_count": 102,
      "outputs": []
    },
    {
      "cell_type": "code",
      "source": [
        "\n",
        "tmp1"
      ],
      "metadata": {
        "colab": {
          "base_uri": "https://localhost:8080/"
        },
        "id": "vkgBrElgKtDe",
        "outputId": "eb3a6ba6-caaf-4a9b-df47-7fcf2f717e37"
      },
      "execution_count": 78,
      "outputs": [
        {
          "output_type": "execute_result",
          "data": {
            "text/plain": [
              "24407    5\n",
              "11016    4\n",
              "11528    4\n",
              "15134    4\n",
              "24138    4\n",
              "        ..\n",
              "16220    2\n",
              "11202    2\n",
              "18561    2\n",
              "20609    2\n",
              "23944    2\n",
              "Name: user_id, Length: 375, dtype: int64"
            ]
          },
          "metadata": {},
          "execution_count": 78
        }
      ]
    },
    {
      "cell_type": "code",
      "source": [
        "tmp2 = train_err['user_id'].value_counts()[train_err['user_id'].value_counts() > 1]"
      ],
      "metadata": {
        "id": "ob-s73XXJ-M_"
      },
      "execution_count": 75,
      "outputs": []
    },
    {
      "cell_type": "code",
      "source": [
        "corr = train_qual.corr()\n",
        "cmap = sns.color_palette(\"Blues\")\n",
        "f, ax = plt.subplots(figsize=(10, 7))\n",
        "sns.heatmap(corr, cmap=cmap)"
      ],
      "metadata": {
        "colab": {
          "base_uri": "https://localhost:8080/",
          "height": 493
        },
        "id": "3jwWmInYLf-P",
        "outputId": "cb905fa5-a542-49bd-bdb9-7076ce23ed81"
      },
      "execution_count": 103,
      "outputs": [
        {
          "output_type": "execute_result",
          "data": {
            "text/plain": [
              "<matplotlib.axes._subplots.AxesSubplot at 0x7ff30298c650>"
            ]
          },
          "metadata": {},
          "execution_count": 103
        },
        {
          "output_type": "display_data",
          "data": {
            "text/plain": [
              "<Figure size 720x504 with 2 Axes>"
            ],
            "image/png": "[encoded data removed]"
          },
          "metadata": {
            "needs_background": "light"
          }
        }
      ]
    },
    {
      "cell_type": "code",
      "source": [
        "\n",
        "err_merge = pd.merge(tmp1, tmp2, left_index=True, right_index=True, how='left')"
      ],
      "metadata": {
        "id": "dUtZQAIpKTrk"
      },
      "execution_count": 104,
      "outputs": []
    },
    {
      "cell_type": "code",
      "source": [
        "# 에러의 발생 수와 신고 횟수는 비례하지 않았습니다. \n",
        "err_merge"
      ],
      "metadata": {
        "colab": {
          "base_uri": "https://localhost:8080/",
          "height": 424
        },
        "id": "sd6em5LgMD68",
        "outputId": "2b99b12a-a01f-4538-f3a4-83b90651e085"
      },
      "execution_count": 84,
      "outputs": [
        {
          "output_type": "execute_result",
          "data": {
            "text/plain": [
              "       user_id_x  user_id_y\n",
              "24407          5       1910\n",
              "11016          4        607\n",
              "11528          4        544\n",
              "15134          4       1201\n",
              "24138          4        564\n",
              "...          ...        ...\n",
              "16220          2       2602\n",
              "11202          2        771\n",
              "18561          2       1322\n",
              "20609          2        798\n",
              "23944          2        550\n",
              "\n",
              "[375 rows x 2 columns]"
            ],
            "text/html": [
              "\n",
              "  <div id=\"df-156f3290-6e37-49d2-83bd-93151b42d731\">\n",
              "    <div class=\"colab-df-container\">\n",
              "      <div>\n",
              "<style scoped>\n",
              "    .dataframe tbody tr th:only-of-type {\n",
              "        vertical-align: middle;\n",
              "    }\n",
              "\n",
              "    .dataframe tbody tr th {\n",
              "        vertical-align: top;\n",
              "    }\n",
              "\n",
              "    .dataframe thead th {\n",
              "        text-align: right;\n",
              "    }\n",
              "</style>\n",
              "<table border=\"1\" class=\"dataframe\">\n",
              "  <thead>\n",
              "    <tr style=\"text-align: right;\">\n",
              "      <th></th>\n",
              "      <th>user_id_x</th>\n",
              "      <th>user_id_y</th>\n",
              "    </tr>\n",
              "  </thead>\n",
              "  <tbody>\n",
              "    <tr>\n",
              "      <th>24407</th>\n",
              "      <td>5</td>\n",
              "      <td>1910</td>\n",
              "    </tr>\n",
              "    <tr>\n",
              "      <th>11016</th>\n",
              "      <td>4</td>\n",
              "      <td>607</td>\n",
              "    </tr>\n",
              "    <tr>\n",
              "      <th>11528</th>\n",
              "      <td>4</td>\n",
              "      <td>544</td>\n",
              "    </tr>\n",
              "    <tr>\n",
              "      <th>15134</th>\n",
              "      <td>4</td>\n",
              "      <td>1201</td>\n",
              "    </tr>\n",
              "    <tr>\n",
              "      <th>24138</th>\n",
              "      <td>4</td>\n",
              "      <td>564</td>\n",
              "    </tr>\n",
              "    <tr>\n",
              "      <th>...</th>\n",
              "      <td>...</td>\n",
              "      <td>...</td>\n",
              "    </tr>\n",
              "    <tr>\n",
              "      <th>16220</th>\n",
              "      <td>2</td>\n",
              "      <td>2602</td>\n",
              "    </tr>\n",
              "    <tr>\n",
              "      <th>11202</th>\n",
              "      <td>2</td>\n",
              "      <td>771</td>\n",
              "    </tr>\n",
              "    <tr>\n",
              "      <th>18561</th>\n",
              "      <td>2</td>\n",
              "      <td>1322</td>\n",
              "    </tr>\n",
              "    <tr>\n",
              "      <th>20609</th>\n",
              "      <td>2</td>\n",
              "      <td>798</td>\n",
              "    </tr>\n",
              "    <tr>\n",
              "      <th>23944</th>\n",
              "      <td>2</td>\n",
              "      <td>550</td>\n",
              "    </tr>\n",
              "  </tbody>\n",
              "</table>\n",
              "<p>375 rows × 2 columns</p>\n",
              "</div>\n",
              "      <button class=\"colab-df-convert\" onclick=\"convertToInteractive('df-156f3290-6e37-49d2-83bd-93151b42d731')\"\n",
              "              title=\"Convert this dataframe to an interactive table.\"\n",
              "              style=\"display:none;\">\n",
              "        \n",
              "  <svg xmlns=\"http://www.w3.org/2000/svg\" height=\"24px\"viewBox=\"0 0 24 24\"\n",
              "       width=\"24px\">\n",
              "    <path d=\"M0 0h24v24H0V0z\" fill=\"none\"/>\n",
              "    <path d=\"M18.56 5.44l.94 2.06.94-2.06 2.06-.94-2.06-.94-.94-2.06-.94 2.06-2.06.94zm-11 1L8.5 8.5l.94-2.06 2.06-.94-2.06-.94L8.5 2.5l-.94 2.06-2.06.94zm10 10l.94 2.06.94-2.06 2.06-.94-2.06-.94-.94-2.06-.94 2.06-2.06.94z\"/><path d=\"M17.41 7.96l-1.37-1.37c-.4-.4-.92-.59-1.43-.59-.52 0-1.04.2-1.43.59L10.3 9.45l-7.72 7.72c-.78.78-.78 2.05 0 2.83L4 21.41c.39.39.9.59 1.41.59.51 0 1.02-.2 1.41-.59l7.78-7.78 2.81-2.81c.8-.78.8-2.07 0-2.86zM5.41 20L4 18.59l7.72-7.72 1.47 1.35L5.41 20z\"/>\n",
              "  </svg>\n",
              "      </button>\n",
              "      \n",
              "  <style>\n",
              "    .colab-df-container {\n",
              "      display:flex;\n",
              "      flex-wrap:wrap;\n",
              "      gap: 12px;\n",
              "    }\n",
              "\n",
              "    .colab-df-convert {\n",
              "      background-color: #E8F0FE;\n",
              "      border: none;\n",
              "      border-radius: 50%;\n",
              "      cursor: pointer;\n",
              "      display: none;\n",
              "      fill: #1967D2;\n",
              "      height: 32px;\n",
              "      padding: 0 0 0 0;\n",
              "      width: 32px;\n",
              "    }\n",
              "\n",
              "    .colab-df-convert:hover {\n",
              "      background-color: #E2EBFA;\n",
              "      box-shadow: 0px 1px 2px rgba(60, 64, 67, 0.3), 0px 1px 3px 1px rgba(60, 64, 67, 0.15);\n",
              "      fill: #174EA6;\n",
              "    }\n",
              "\n",
              "    [theme=dark] .colab-df-convert {\n",
              "      background-color: #3B4455;\n",
              "      fill: #D2E3FC;\n",
              "    }\n",
              "\n",
              "    [theme=dark] .colab-df-convert:hover {\n",
              "      background-color: #434B5C;\n",
              "      box-shadow: 0px 1px 3px 1px rgba(0, 0, 0, 0.15);\n",
              "      filter: drop-shadow(0px 1px 2px rgba(0, 0, 0, 0.3));\n",
              "      fill: #FFFFFF;\n",
              "    }\n",
              "  </style>\n",
              "\n",
              "      <script>\n",
              "        const buttonEl =\n",
              "          document.querySelector('#df-156f3290-6e37-49d2-83bd-93151b42d731 button.colab-df-convert');\n",
              "        buttonEl.style.display =\n",
              "          google.colab.kernel.accessAllowed ? 'block' : 'none';\n",
              "\n",
              "        async function convertToInteractive(key) {\n",
              "          const element = document.querySelector('#df-156f3290-6e37-49d2-83bd-93151b42d731');\n",
              "          const dataTable =\n",
              "            await google.colab.kernel.invokeFunction('convertToInteractive',\n",
              "                                                     [key], {});\n",
              "          if (!dataTable) return;\n",
              "\n",
              "          const docLinkHtml = 'Like what you see? Visit the ' +\n",
              "            '<a target=\"_blank\" href=https://colab.research.google.com/notebooks/data_table.ipynb>data table notebook</a>'\n",
              "            + ' to learn more about interactive tables.';\n",
              "          element.innerHTML = '';\n",
              "          dataTable['output_type'] = 'display_data';\n",
              "          await google.colab.output.renderOutput(dataTable, element);\n",
              "          const docLink = document.createElement('div');\n",
              "          docLink.innerHTML = docLinkHtml;\n",
              "          element.appendChild(docLink);\n",
              "        }\n",
              "      </script>\n",
              "    </div>\n",
              "  </div>\n",
              "  "
            ]
          },
          "metadata": {},
          "execution_count": 84
        }
      ]
    },
    {
      "cell_type": "code",
      "source": [
        "err_corr = err_merge.corr()\n",
        "sns.heatmap(err_corr)"
      ],
      "metadata": {
        "colab": {
          "base_uri": "https://localhost:8080/",
          "height": 288
        },
        "id": "lfdXVDy-Ls4a",
        "outputId": "41c23392-f5ce-4c8f-dd5c-293c901f2c74"
      },
      "execution_count": 83,
      "outputs": [
        {
          "output_type": "execute_result",
          "data": {
            "text/plain": [
              "<matplotlib.axes._subplots.AxesSubplot at 0x7ff30294e750>"
            ]
          },
          "metadata": {},
          "execution_count": 83
        },
        {
          "output_type": "display_data",
          "data": {
            "text/plain": [
              "<Figure size 432x288 with 2 Axes>"
            ],
            "image/png": "[encoded data removed]"
          },
          "metadata": {
            "needs_background": "light"
          }
        }
      ]
    },
    {
      "cell_type": "code",
      "source": [
        "sns.scatterplot(x='user_id_x',y='user_id_y',data=err_merge)  \n",
        "# 175000번의 에러에 3회만을 접수한 아웃라이어가 존재합니다. 제거하는게 맞지 않을까 합니다. "
      ],
      "metadata": {
        "colab": {
          "base_uri": "https://localhost:8080/",
          "height": 298
        },
        "id": "hd0aUrrBL6PA",
        "outputId": "82f09c6f-414b-4a0f-df61-3f9ed3248869"
      },
      "execution_count": 85,
      "outputs": [
        {
          "output_type": "execute_result",
          "data": {
            "text/plain": [
              "<matplotlib.axes._subplots.AxesSubplot at 0x7ff302869ad0>"
            ]
          },
          "metadata": {},
          "execution_count": 85
        },
        {
          "output_type": "display_data",
          "data": {
            "text/plain": [
              "<Figure size 432x288 with 1 Axes>"
            ],
            "image/png": "[encoded data removed]"
          },
          "metadata": {
            "needs_background": "light"
          }
        }
      ]
    },
    {
      "cell_type": "code",
      "source": [
        "err_merge = err_merge[~(err_merge['user_id_y'] > 150000)]"
      ],
      "metadata": {
        "id": "nrRBz1IOMcgE"
      },
      "execution_count": 92,
      "outputs": []
    },
    {
      "cell_type": "code",
      "source": [
        "# 아웃라이어를 제거해보았습니다.\n",
        "# 결론1. 175000번의 에러가 나온 데이터는 지우는게 맞지 않을까요?\n",
        "# 결론2. 에러 횟수와 불만접수 수는 비례하지 않습니다. \n",
        "sns.scatterplot(x='user_id_x',y='user_id_y',data=err_merge)\n"
      ],
      "metadata": {
        "colab": {
          "base_uri": "https://localhost:8080/",
          "height": 298
        },
        "id": "7fKtRGNbMqa7",
        "outputId": "d49459ec-4b9a-4346-cc00-9e4b6cfb861e"
      },
      "execution_count": 93,
      "outputs": [
        {
          "output_type": "execute_result",
          "data": {
            "text/plain": [
              "<matplotlib.axes._subplots.AxesSubplot at 0x7ff2fbd68350>"
            ]
          },
          "metadata": {},
          "execution_count": 93
        },
        {
          "output_type": "display_data",
          "data": {
            "text/plain": [
              "<Figure size 432x288 with 1 Axes>"
            ],
            "image/png": "[encoded data removed]"
          },
          "metadata": {
            "needs_background": "light"
          }
        }
      ]
    }
  ]
}