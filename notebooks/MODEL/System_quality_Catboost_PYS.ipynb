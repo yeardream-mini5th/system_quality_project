{
  "nbformat": 4,
  "nbformat_minor": 0,
  "metadata": {
    "colab": {
      "name": "System_quality_Catboost.ipynb",
      "provenance": []
    },
    "kernelspec": {
      "name": "python3",
      "display_name": "Python 3"
    },
    "language_info": {
      "name": "python"
    }
  },
  "cells": [
    {
      "cell_type": "markdown",
      "source": [
        "# 시스템 품질 변화로 인한 사용자 불편 예지 AI 경진대회\n",
        "\n",
        "https://dacon.io/competitions/official/235687/overview/description"
      ],
      "metadata": {
        "id": "I3IO3BLnZDHo"
      }
    },
    {
      "cell_type": "markdown",
      "source": [
        "## 1. Library Import & Data 불러오기"
      ],
      "metadata": {
        "id": "aqT4GXy0ZlkA"
      }
    },
    {
      "cell_type": "code",
      "source": [
        "!pip install catboost"
      ],
      "metadata": {
        "colab": {
          "base_uri": "https://localhost:8080/"
        },
        "id": "G7b0lSpZaU0n",
        "outputId": "fda5ad12-b85c-4814-d6d1-d53b1573155a"
      },
      "execution_count": null,
      "outputs": [
        {
          "output_type": "stream",
          "name": "stdout",
          "text": [
            "Looking in indexes: https://pypi.org/simple, https://us-python.pkg.dev/colab-wheels/public/simple/\n",
            "Collecting catboost\n",
            "  Downloading catboost-1.0.6-cp37-none-manylinux1_x86_64.whl (76.6 MB)\n",
            "\u001b[K     |████████████████████████████████| 76.6 MB 77 kB/s \n",
            "\u001b[?25hRequirement already satisfied: pandas>=0.24.0 in /usr/local/lib/python3.7/dist-packages (from catboost) (1.3.5)\n",
            "Requirement already satisfied: matplotlib in /usr/local/lib/python3.7/dist-packages (from catboost) (3.2.2)\n",
            "Requirement already satisfied: numpy>=1.16.0 in /usr/local/lib/python3.7/dist-packages (from catboost) (1.21.6)\n",
            "Requirement already satisfied: graphviz in /usr/local/lib/python3.7/dist-packages (from catboost) (0.10.1)\n",
            "Requirement already satisfied: six in /usr/local/lib/python3.7/dist-packages (from catboost) (1.15.0)\n",
            "Requirement already satisfied: scipy in /usr/local/lib/python3.7/dist-packages (from catboost) (1.4.1)\n",
            "Requirement already satisfied: plotly in /usr/local/lib/python3.7/dist-packages (from catboost) (5.5.0)\n",
            "Requirement already satisfied: python-dateutil>=2.7.3 in /usr/local/lib/python3.7/dist-packages (from pandas>=0.24.0->catboost) (2.8.2)\n",
            "Requirement already satisfied: pytz>=2017.3 in /usr/local/lib/python3.7/dist-packages (from pandas>=0.24.0->catboost) (2022.1)\n",
            "Requirement already satisfied: pyparsing!=2.0.4,!=2.1.2,!=2.1.6,>=2.0.1 in /usr/local/lib/python3.7/dist-packages (from matplotlib->catboost) (3.0.9)\n",
            "Requirement already satisfied: kiwisolver>=1.0.1 in /usr/local/lib/python3.7/dist-packages (from matplotlib->catboost) (1.4.2)\n",
            "Requirement already satisfied: cycler>=0.10 in /usr/local/lib/python3.7/dist-packages (from matplotlib->catboost) (0.11.0)\n",
            "Requirement already satisfied: typing-extensions in /usr/local/lib/python3.7/dist-packages (from kiwisolver>=1.0.1->matplotlib->catboost) (4.2.0)\n",
            "Requirement already satisfied: tenacity>=6.2.0 in /usr/local/lib/python3.7/dist-packages (from plotly->catboost) (8.0.1)\n",
            "Installing collected packages: catboost\n",
            "Successfully installed catboost-1.0.6\n"
          ]
        }
      ]
    },
    {
      "cell_type": "code",
      "source": [
        "!pip install lightgbm"
      ],
      "metadata": {
        "colab": {
          "base_uri": "https://localhost:8080/"
        },
        "id": "f9IaqprIahKC",
        "outputId": "47a9bb5a-98d1-4d40-836c-2e590510075a"
      },
      "execution_count": null,
      "outputs": [
        {
          "output_type": "stream",
          "name": "stdout",
          "text": [
            "Looking in indexes: https://pypi.org/simple, https://us-python.pkg.dev/colab-wheels/public/simple/\n",
            "Requirement already satisfied: lightgbm in /usr/local/lib/python3.7/dist-packages (2.2.3)\n",
            "Requirement already satisfied: scipy in /usr/local/lib/python3.7/dist-packages (from lightgbm) (1.4.1)\n",
            "Requirement already satisfied: scikit-learn in /usr/local/lib/python3.7/dist-packages (from lightgbm) (1.0.2)\n",
            "Requirement already satisfied: numpy in /usr/local/lib/python3.7/dist-packages (from lightgbm) (1.21.6)\n",
            "Requirement already satisfied: threadpoolctl>=2.0.0 in /usr/local/lib/python3.7/dist-packages (from scikit-learn->lightgbm) (3.1.0)\n",
            "Requirement already satisfied: joblib>=0.11 in /usr/local/lib/python3.7/dist-packages (from scikit-learn->lightgbm) (1.1.0)\n"
          ]
        }
      ]
    },
    {
      "cell_type": "code",
      "source": [
        "import pandas as pd\n",
        "import numpy as np\n",
        "import matplotlib.pyplot as plt\n",
        "import seaborn as sns\n",
        "import catboost as cb\n",
        "import lightgbm as lgb\n",
        "from tqdm import tqdm"
      ],
      "metadata": {
        "id": "a6My3I7fZ0z9"
      },
      "execution_count": null,
      "outputs": []
    },
    {
      "cell_type": "code",
      "source": [
        "PATH = '/content/drive/MyDrive/project/data/system_quality_customer_complain_data/'\n",
        "train_err  = pd.read_csv(PATH+'train_err_data_.csv')\n",
        "id_error = train_err[['user_id','errtype']].values\n",
        "# 불만을 제기한 사람 타겟값 생성\n",
        "train_prob = pd.read_csv(PATH+'train_problem_data_.csv')"
      ],
      "metadata": {
        "colab": {
          "base_uri": "https://localhost:8080/"
        },
        "id": "3ASyz14Ca-NQ",
        "outputId": "e1cfc258-874b-46d2-fff7-917dac502bb7"
      },
      "execution_count": null,
      "outputs": [
        {
          "output_type": "execute_result",
          "data": {
            "text/plain": [
              "array([10000,    15])"
            ]
          },
          "metadata": {},
          "execution_count": 15
        }
      ]
    },
    {
      "cell_type": "markdown",
      "source": [
        "## 2. 학습 데이터 생성"
      ],
      "metadata": {
        "id": "D3KwNILYZqwq"
      }
    },
    {
      "cell_type": "markdown",
      "source": [
        "### 2_1 train_df 생성"
      ],
      "metadata": {
        "id": "VKIN9WwNmnlP"
      }
    },
    {
      "cell_type": "code",
      "source": [
        "#error 0으로 이루어진 데이터셋 생성\n",
        "error = np.zeros((15000,42)) # 15000개 user_id, 41가지(maxnum 42) errtype \n",
        "\n",
        "for person_idx, err in tqdm(id_error):\n",
        "    # (person_idx - 10000)에 해당하는 행에, 열 기준 errtype 값의 -1 에 해당하는 위치에 error값을 +1\n",
        "    error[person_idx - 10000,err - 1] += 1\n",
        "error "
      ],
      "metadata": {
        "colab": {
          "base_uri": "https://localhost:8080/"
        },
        "id": "biePiAKYlGRl",
        "outputId": "47c998e3-cb58-44fb-a421-01888634ed9f"
      },
      "execution_count": null,
      "outputs": [
        {
          "output_type": "stream",
          "name": "stderr",
          "text": [
            "100%|██████████| 16554663/16554663 [00:45<00:00, 361337.77it/s]\n"
          ]
        },
        {
          "output_type": "execute_result",
          "data": {
            "text/plain": [
              "array([[  0.,   0.,   8., ...,   0.,   0.,   0.],\n",
              "       [  0.,   0.,   0., ..., 113.,  56.,   1.],\n",
              "       [  0.,   0.,   2., ...,   0.,   0.,   0.],\n",
              "       ...,\n",
              "       [  0.,   0.,   0., ...,  58.,   8.,   5.],\n",
              "       [  0.,   0.,   0., ...,   6.,   0.,   0.],\n",
              "       [  0.,   0.,   4., ...,   0.,   0.,   0.]])"
            ]
          },
          "metadata": {},
          "execution_count": 17
        }
      ]
    },
    {
      "cell_type": "code",
      "source": [
        "train_df = pd.DataFrame(error)\n",
        "train_df"
      ],
      "metadata": {
        "colab": {
          "base_uri": "https://localhost:8080/",
          "height": 424
        },
        "id": "P9boSDuYmIOu",
        "outputId": "40e26a09-2623-4921-ec23-ee05290be2e4"
      },
      "execution_count": null,
      "outputs": [
        {
          "output_type": "execute_result",
          "data": {
            "text/plain": [
              "        0    1    2      3     4    5    6    7    8    9   ...    32    33  \\\n",
              "0      0.0  0.0  8.0  104.0   0.0  1.0  1.0  0.0  0.0  7.0  ...   0.0   0.0   \n",
              "1      0.0  0.0  0.0    0.0  53.0  1.0  1.0  0.0  0.0  0.0  ...  10.0  18.0   \n",
              "2      0.0  0.0  2.0  132.0   1.0  2.0  1.0  0.0  0.0  1.0  ...   0.0   0.0   \n",
              "3      0.0  0.0  0.0    0.0   2.0  1.0  1.0  0.0  0.0  0.0  ...   8.0   0.0   \n",
              "4      0.0  0.0  0.0    1.0   0.0  3.0  4.0  0.0  0.0  0.0  ...  16.0   0.0   \n",
              "...    ...  ...  ...    ...   ...  ...  ...  ...  ...  ...  ...   ...   ...   \n",
              "14995  0.0  0.0  0.0    0.0   2.0  5.0  5.0  0.0  0.0  0.0  ...   5.0   0.0   \n",
              "14996  0.0  0.0  0.0    0.0   0.0  0.0  0.0  0.0  0.0  0.0  ...   0.0   0.0   \n",
              "14997  0.0  0.0  0.0    1.0   8.0  1.0  1.0  0.0  0.0  0.0  ...  16.0  17.0   \n",
              "14998  0.0  0.0  0.0    0.0   0.0  0.0  0.0  0.0  0.0  0.0  ...  15.0  12.0   \n",
              "14999  0.0  0.0  4.0  192.0   7.0  5.0  4.0  0.0  0.0  0.0  ...   0.0   0.0   \n",
              "\n",
              "        34   35   36   37   38     39    40   41  \n",
              "0      0.0  0.0  0.0  0.0  0.0    0.0   0.0  0.0  \n",
              "1      0.0  1.0  1.0  0.0  0.0  113.0  56.0  1.0  \n",
              "2      0.0  0.0  0.0  0.0  0.0    0.0   0.0  0.0  \n",
              "3      0.0  1.0  1.0  2.0  0.0   17.0   1.0  0.0  \n",
              "4      0.0  1.0  1.0  0.0  0.0    4.0   0.0  2.0  \n",
              "...    ...  ...  ...  ...  ...    ...   ...  ...  \n",
              "14995  0.0  0.0  0.0  0.0  0.0    9.0   7.0  4.0  \n",
              "14996  0.0  0.0  0.0  0.0  0.0    0.0   0.0  0.0  \n",
              "14997  0.0  1.0  1.0  0.0  0.0   58.0   8.0  5.0  \n",
              "14998  0.0  1.0  1.0  0.0  0.0    6.0   0.0  0.0  \n",
              "14999  0.0  0.0  0.0  0.0  0.0    0.0   0.0  0.0  \n",
              "\n",
              "[15000 rows x 42 columns]"
            ],
            "text/html": [
              "\n",
              "  <div id=\"df-402d0918-aa1e-4479-a762-b5fb6d6d43b4\">\n",
              "    <div class=\"colab-df-container\">\n",
              "      <div>\n",
              "<style scoped>\n",
              "    .dataframe tbody tr th:only-of-type {\n",
              "        vertical-align: middle;\n",
              "    }\n",
              "\n",
              "    .dataframe tbody tr th {\n",
              "        vertical-align: top;\n",
              "    }\n",
              "\n",
              "    .dataframe thead th {\n",
              "        text-align: right;\n",
              "    }\n",
              "</style>\n",
              "<table border=\"1\" class=\"dataframe\">\n",
              "  <thead>\n",
              "    <tr style=\"text-align: right;\">\n",
              "      <th></th>\n",
              "      <th>0</th>\n",
              "      <th>1</th>\n",
              "      <th>2</th>\n",
              "      <th>3</th>\n",
              "      <th>4</th>\n",
              "      <th>5</th>\n",
              "      <th>6</th>\n",
              "      <th>7</th>\n",
              "      <th>8</th>\n",
              "      <th>9</th>\n",
              "      <th>...</th>\n",
              "      <th>32</th>\n",
              "      <th>33</th>\n",
              "      <th>34</th>\n",
              "      <th>35</th>\n",
              "      <th>36</th>\n",
              "      <th>37</th>\n",
              "      <th>38</th>\n",
              "      <th>39</th>\n",
              "      <th>40</th>\n",
              "      <th>41</th>\n",
              "    </tr>\n",
              "  </thead>\n",
              "  <tbody>\n",
              "    <tr>\n",
              "      <th>0</th>\n",
              "      <td>0.0</td>\n",
              "      <td>0.0</td>\n",
              "      <td>8.0</td>\n",
              "      <td>104.0</td>\n",
              "      <td>0.0</td>\n",
              "      <td>1.0</td>\n",
              "      <td>1.0</td>\n",
              "      <td>0.0</td>\n",
              "      <td>0.0</td>\n",
              "      <td>7.0</td>\n",
              "      <td>...</td>\n",
              "      <td>0.0</td>\n",
              "      <td>0.0</td>\n",
              "      <td>0.0</td>\n",
              "      <td>0.0</td>\n",
              "      <td>0.0</td>\n",
              "      <td>0.0</td>\n",
              "      <td>0.0</td>\n",
              "      <td>0.0</td>\n",
              "      <td>0.0</td>\n",
              "      <td>0.0</td>\n",
              "    </tr>\n",
              "    <tr>\n",
              "      <th>1</th>\n",
              "      <td>0.0</td>\n",
              "      <td>0.0</td>\n",
              "      <td>0.0</td>\n",
              "      <td>0.0</td>\n",
              "      <td>53.0</td>\n",
              "      <td>1.0</td>\n",
              "      <td>1.0</td>\n",
              "      <td>0.0</td>\n",
              "      <td>0.0</td>\n",
              "      <td>0.0</td>\n",
              "      <td>...</td>\n",
              "      <td>10.0</td>\n",
              "      <td>18.0</td>\n",
              "      <td>0.0</td>\n",
              "      <td>1.0</td>\n",
              "      <td>1.0</td>\n",
              "      <td>0.0</td>\n",
              "      <td>0.0</td>\n",
              "      <td>113.0</td>\n",
              "      <td>56.0</td>\n",
              "      <td>1.0</td>\n",
              "    </tr>\n",
              "    <tr>\n",
              "      <th>2</th>\n",
              "      <td>0.0</td>\n",
              "      <td>0.0</td>\n",
              "      <td>2.0</td>\n",
              "      <td>132.0</td>\n",
              "      <td>1.0</td>\n",
              "      <td>2.0</td>\n",
              "      <td>1.0</td>\n",
              "      <td>0.0</td>\n",
              "      <td>0.0</td>\n",
              "      <td>1.0</td>\n",
              "      <td>...</td>\n",
              "      <td>0.0</td>\n",
              "      <td>0.0</td>\n",
              "      <td>0.0</td>\n",
              "      <td>0.0</td>\n",
              "      <td>0.0</td>\n",
              "      <td>0.0</td>\n",
              "      <td>0.0</td>\n",
              "      <td>0.0</td>\n",
              "      <td>0.0</td>\n",
              "      <td>0.0</td>\n",
              "    </tr>\n",
              "    <tr>\n",
              "      <th>3</th>\n",
              "      <td>0.0</td>\n",
              "      <td>0.0</td>\n",
              "      <td>0.0</td>\n",
              "      <td>0.0</td>\n",
              "      <td>2.0</td>\n",
              "      <td>1.0</td>\n",
              "      <td>1.0</td>\n",
              "      <td>0.0</td>\n",
              "      <td>0.0</td>\n",
              "      <td>0.0</td>\n",
              "      <td>...</td>\n",
              "      <td>8.0</td>\n",
              "      <td>0.0</td>\n",
              "      <td>0.0</td>\n",
              "      <td>1.0</td>\n",
              "      <td>1.0</td>\n",
              "      <td>2.0</td>\n",
              "      <td>0.0</td>\n",
              "      <td>17.0</td>\n",
              "      <td>1.0</td>\n",
              "      <td>0.0</td>\n",
              "    </tr>\n",
              "    <tr>\n",
              "      <th>4</th>\n",
              "      <td>0.0</td>\n",
              "      <td>0.0</td>\n",
              "      <td>0.0</td>\n",
              "      <td>1.0</td>\n",
              "      <td>0.0</td>\n",
              "      <td>3.0</td>\n",
              "      <td>4.0</td>\n",
              "      <td>0.0</td>\n",
              "      <td>0.0</td>\n",
              "      <td>0.0</td>\n",
              "      <td>...</td>\n",
              "      <td>16.0</td>\n",
              "      <td>0.0</td>\n",
              "      <td>0.0</td>\n",
              "      <td>1.0</td>\n",
              "      <td>1.0</td>\n",
              "      <td>0.0</td>\n",
              "      <td>0.0</td>\n",
              "      <td>4.0</td>\n",
              "      <td>0.0</td>\n",
              "      <td>2.0</td>\n",
              "    </tr>\n",
              "    <tr>\n",
              "      <th>...</th>\n",
              "      <td>...</td>\n",
              "      <td>...</td>\n",
              "      <td>...</td>\n",
              "      <td>...</td>\n",
              "      <td>...</td>\n",
              "      <td>...</td>\n",
              "      <td>...</td>\n",
              "      <td>...</td>\n",
              "      <td>...</td>\n",
              "      <td>...</td>\n",
              "      <td>...</td>\n",
              "      <td>...</td>\n",
              "      <td>...</td>\n",
              "      <td>...</td>\n",
              "      <td>...</td>\n",
              "      <td>...</td>\n",
              "      <td>...</td>\n",
              "      <td>...</td>\n",
              "      <td>...</td>\n",
              "      <td>...</td>\n",
              "      <td>...</td>\n",
              "    </tr>\n",
              "    <tr>\n",
              "      <th>14995</th>\n",
              "      <td>0.0</td>\n",
              "      <td>0.0</td>\n",
              "      <td>0.0</td>\n",
              "      <td>0.0</td>\n",
              "      <td>2.0</td>\n",
              "      <td>5.0</td>\n",
              "      <td>5.0</td>\n",
              "      <td>0.0</td>\n",
              "      <td>0.0</td>\n",
              "      <td>0.0</td>\n",
              "      <td>...</td>\n",
              "      <td>5.0</td>\n",
              "      <td>0.0</td>\n",
              "      <td>0.0</td>\n",
              "      <td>0.0</td>\n",
              "      <td>0.0</td>\n",
              "      <td>0.0</td>\n",
              "      <td>0.0</td>\n",
              "      <td>9.0</td>\n",
              "      <td>7.0</td>\n",
              "      <td>4.0</td>\n",
              "    </tr>\n",
              "    <tr>\n",
              "      <th>14996</th>\n",
              "      <td>0.0</td>\n",
              "      <td>0.0</td>\n",
              "      <td>0.0</td>\n",
              "      <td>0.0</td>\n",
              "      <td>0.0</td>\n",
              "      <td>0.0</td>\n",
              "      <td>0.0</td>\n",
              "      <td>0.0</td>\n",
              "      <td>0.0</td>\n",
              "      <td>0.0</td>\n",
              "      <td>...</td>\n",
              "      <td>0.0</td>\n",
              "      <td>0.0</td>\n",
              "      <td>0.0</td>\n",
              "      <td>0.0</td>\n",
              "      <td>0.0</td>\n",
              "      <td>0.0</td>\n",
              "      <td>0.0</td>\n",
              "      <td>0.0</td>\n",
              "      <td>0.0</td>\n",
              "      <td>0.0</td>\n",
              "    </tr>\n",
              "    <tr>\n",
              "      <th>14997</th>\n",
              "      <td>0.0</td>\n",
              "      <td>0.0</td>\n",
              "      <td>0.0</td>\n",
              "      <td>1.0</td>\n",
              "      <td>8.0</td>\n",
              "      <td>1.0</td>\n",
              "      <td>1.0</td>\n",
              "      <td>0.0</td>\n",
              "      <td>0.0</td>\n",
              "      <td>0.0</td>\n",
              "      <td>...</td>\n",
              "      <td>16.0</td>\n",
              "      <td>17.0</td>\n",
              "      <td>0.0</td>\n",
              "      <td>1.0</td>\n",
              "      <td>1.0</td>\n",
              "      <td>0.0</td>\n",
              "      <td>0.0</td>\n",
              "      <td>58.0</td>\n",
              "      <td>8.0</td>\n",
              "      <td>5.0</td>\n",
              "    </tr>\n",
              "    <tr>\n",
              "      <th>14998</th>\n",
              "      <td>0.0</td>\n",
              "      <td>0.0</td>\n",
              "      <td>0.0</td>\n",
              "      <td>0.0</td>\n",
              "      <td>0.0</td>\n",
              "      <td>0.0</td>\n",
              "      <td>0.0</td>\n",
              "      <td>0.0</td>\n",
              "      <td>0.0</td>\n",
              "      <td>0.0</td>\n",
              "      <td>...</td>\n",
              "      <td>15.0</td>\n",
              "      <td>12.0</td>\n",
              "      <td>0.0</td>\n",
              "      <td>1.0</td>\n",
              "      <td>1.0</td>\n",
              "      <td>0.0</td>\n",
              "      <td>0.0</td>\n",
              "      <td>6.0</td>\n",
              "      <td>0.0</td>\n",
              "      <td>0.0</td>\n",
              "    </tr>\n",
              "    <tr>\n",
              "      <th>14999</th>\n",
              "      <td>0.0</td>\n",
              "      <td>0.0</td>\n",
              "      <td>4.0</td>\n",
              "      <td>192.0</td>\n",
              "      <td>7.0</td>\n",
              "      <td>5.0</td>\n",
              "      <td>4.0</td>\n",
              "      <td>0.0</td>\n",
              "      <td>0.0</td>\n",
              "      <td>0.0</td>\n",
              "      <td>...</td>\n",
              "      <td>0.0</td>\n",
              "      <td>0.0</td>\n",
              "      <td>0.0</td>\n",
              "      <td>0.0</td>\n",
              "      <td>0.0</td>\n",
              "      <td>0.0</td>\n",
              "      <td>0.0</td>\n",
              "      <td>0.0</td>\n",
              "      <td>0.0</td>\n",
              "      <td>0.0</td>\n",
              "    </tr>\n",
              "  </tbody>\n",
              "</table>\n",
              "<p>15000 rows × 42 columns</p>\n",
              "</div>\n",
              "      <button class=\"colab-df-convert\" onclick=\"convertToInteractive('df-402d0918-aa1e-4479-a762-b5fb6d6d43b4')\"\n",
              "              title=\"Convert this dataframe to an interactive table.\"\n",
              "              style=\"display:none;\">\n",
              "        \n",
              "  <svg xmlns=\"http://www.w3.org/2000/svg\" height=\"24px\"viewBox=\"0 0 24 24\"\n",
              "       width=\"24px\">\n",
              "    <path d=\"M0 0h24v24H0V0z\" fill=\"none\"/>\n",
              "    <path d=\"M18.56 5.44l.94 2.06.94-2.06 2.06-.94-2.06-.94-.94-2.06-.94 2.06-2.06.94zm-11 1L8.5 8.5l.94-2.06 2.06-.94-2.06-.94L8.5 2.5l-.94 2.06-2.06.94zm10 10l.94 2.06.94-2.06 2.06-.94-2.06-.94-.94-2.06-.94 2.06-2.06.94z\"/><path d=\"M17.41 7.96l-1.37-1.37c-.4-.4-.92-.59-1.43-.59-.52 0-1.04.2-1.43.59L10.3 9.45l-7.72 7.72c-.78.78-.78 2.05 0 2.83L4 21.41c.39.39.9.59 1.41.59.51 0 1.02-.2 1.41-.59l7.78-7.78 2.81-2.81c.8-.78.8-2.07 0-2.86zM5.41 20L4 18.59l7.72-7.72 1.47 1.35L5.41 20z\"/>\n",
              "  </svg>\n",
              "      </button>\n",
              "      \n",
              "  <style>\n",
              "    .colab-df-container {\n",
              "      display:flex;\n",
              "      flex-wrap:wrap;\n",
              "      gap: 12px;\n",
              "    }\n",
              "\n",
              "    .colab-df-convert {\n",
              "      background-color: #E8F0FE;\n",
              "      border: none;\n",
              "      border-radius: 50%;\n",
              "      cursor: pointer;\n",
              "      display: none;\n",
              "      fill: #1967D2;\n",
              "      height: 32px;\n",
              "      padding: 0 0 0 0;\n",
              "      width: 32px;\n",
              "    }\n",
              "\n",
              "    .colab-df-convert:hover {\n",
              "      background-color: #E2EBFA;\n",
              "      box-shadow: 0px 1px 2px rgba(60, 64, 67, 0.3), 0px 1px 3px 1px rgba(60, 64, 67, 0.15);\n",
              "      fill: #174EA6;\n",
              "    }\n",
              "\n",
              "    [theme=dark] .colab-df-convert {\n",
              "      background-color: #3B4455;\n",
              "      fill: #D2E3FC;\n",
              "    }\n",
              "\n",
              "    [theme=dark] .colab-df-convert:hover {\n",
              "      background-color: #434B5C;\n",
              "      box-shadow: 0px 1px 3px 1px rgba(0, 0, 0, 0.15);\n",
              "      filter: drop-shadow(0px 1px 2px rgba(0, 0, 0, 0.3));\n",
              "      fill: #FFFFFF;\n",
              "    }\n",
              "  </style>\n",
              "\n",
              "      <script>\n",
              "        const buttonEl =\n",
              "          document.querySelector('#df-402d0918-aa1e-4479-a762-b5fb6d6d43b4 button.colab-df-convert');\n",
              "        buttonEl.style.display =\n",
              "          google.colab.kernel.accessAllowed ? 'block' : 'none';\n",
              "\n",
              "        async function convertToInteractive(key) {\n",
              "          const element = document.querySelector('#df-402d0918-aa1e-4479-a762-b5fb6d6d43b4');\n",
              "          const dataTable =\n",
              "            await google.colab.kernel.invokeFunction('convertToInteractive',\n",
              "                                                     [key], {});\n",
              "          if (!dataTable) return;\n",
              "\n",
              "          const docLinkHtml = 'Like what you see? Visit the ' +\n",
              "            '<a target=\"_blank\" href=https://colab.research.google.com/notebooks/data_table.ipynb>data table notebook</a>'\n",
              "            + ' to learn more about interactive tables.';\n",
              "          element.innerHTML = '';\n",
              "          dataTable['output_type'] = 'display_data';\n",
              "          await google.colab.output.renderOutput(dataTable, element);\n",
              "          const docLink = document.createElement('div');\n",
              "          docLink.innerHTML = docLinkHtml;\n",
              "          element.appendChild(docLink);\n",
              "        }\n",
              "      </script>\n",
              "    </div>\n",
              "  </div>\n",
              "  "
            ]
          },
          "metadata": {},
          "execution_count": 20
        }
      ]
    },
    {
      "cell_type": "markdown",
      "source": [
        "### 2_2 target 생성"
      ],
      "metadata": {
        "id": "P9B1_GJrnhZz"
      }
    },
    {
      "cell_type": "code",
      "source": [
        "# 0 으로 이루어진 열 생성\n",
        "problem = np.zeros(15000)\n",
        "# user_id 각각에 10000 빼서 저장\n",
        "user_ids = train_prob['user_id'].unique() - 10000\n",
        "# probelm[유저id번호] 에 1 저장\n",
        "problem[user_ids] = 1\n",
        "\n",
        "display(problem, user_ids, sum(problem))"
      ],
      "metadata": {
        "colab": {
          "base_uri": "https://localhost:8080/",
          "height": 71
        },
        "id": "dN20G89TmSky",
        "outputId": "d117f093-b6fb-4ba0-df28-454846fdea9a"
      },
      "execution_count": null,
      "outputs": [
        {
          "output_type": "display_data",
          "data": {
            "text/plain": [
              "array([0., 1., 0., ..., 1., 1., 0.])"
            ]
          },
          "metadata": {}
        },
        {
          "output_type": "display_data",
          "data": {
            "text/plain": [
              "array([ 9224, 13664,  5166, ...,  9114, 11505,  8822])"
            ]
          },
          "metadata": {}
        },
        {
          "output_type": "display_data",
          "data": {
            "text/plain": [
              "5000.0"
            ]
          },
          "metadata": {}
        }
      ]
    },
    {
      "cell_type": "code",
      "source": [
        "target = pd.DataFrame(problem)\n",
        "target"
      ],
      "metadata": {
        "colab": {
          "base_uri": "https://localhost:8080/",
          "height": 424
        },
        "id": "LNTPEZnXo40m",
        "outputId": "855c43f6-2778-44e6-99e4-a8b104509e4a"
      },
      "execution_count": null,
      "outputs": [
        {
          "output_type": "execute_result",
          "data": {
            "text/plain": [
              "         0\n",
              "0      0.0\n",
              "1      1.0\n",
              "2      0.0\n",
              "3      0.0\n",
              "4      1.0\n",
              "...    ...\n",
              "14995  0.0\n",
              "14996  0.0\n",
              "14997  1.0\n",
              "14998  1.0\n",
              "14999  0.0\n",
              "\n",
              "[15000 rows x 1 columns]"
            ],
            "text/html": [
              "\n",
              "  <div id=\"df-80f17241-7c00-488e-90ff-f0198c22235f\">\n",
              "    <div class=\"colab-df-container\">\n",
              "      <div>\n",
              "<style scoped>\n",
              "    .dataframe tbody tr th:only-of-type {\n",
              "        vertical-align: middle;\n",
              "    }\n",
              "\n",
              "    .dataframe tbody tr th {\n",
              "        vertical-align: top;\n",
              "    }\n",
              "\n",
              "    .dataframe thead th {\n",
              "        text-align: right;\n",
              "    }\n",
              "</style>\n",
              "<table border=\"1\" class=\"dataframe\">\n",
              "  <thead>\n",
              "    <tr style=\"text-align: right;\">\n",
              "      <th></th>\n",
              "      <th>0</th>\n",
              "    </tr>\n",
              "  </thead>\n",
              "  <tbody>\n",
              "    <tr>\n",
              "      <th>0</th>\n",
              "      <td>0.0</td>\n",
              "    </tr>\n",
              "    <tr>\n",
              "      <th>1</th>\n",
              "      <td>1.0</td>\n",
              "    </tr>\n",
              "    <tr>\n",
              "      <th>2</th>\n",
              "      <td>0.0</td>\n",
              "    </tr>\n",
              "    <tr>\n",
              "      <th>3</th>\n",
              "      <td>0.0</td>\n",
              "    </tr>\n",
              "    <tr>\n",
              "      <th>4</th>\n",
              "      <td>1.0</td>\n",
              "    </tr>\n",
              "    <tr>\n",
              "      <th>...</th>\n",
              "      <td>...</td>\n",
              "    </tr>\n",
              "    <tr>\n",
              "      <th>14995</th>\n",
              "      <td>0.0</td>\n",
              "    </tr>\n",
              "    <tr>\n",
              "      <th>14996</th>\n",
              "      <td>0.0</td>\n",
              "    </tr>\n",
              "    <tr>\n",
              "      <th>14997</th>\n",
              "      <td>1.0</td>\n",
              "    </tr>\n",
              "    <tr>\n",
              "      <th>14998</th>\n",
              "      <td>1.0</td>\n",
              "    </tr>\n",
              "    <tr>\n",
              "      <th>14999</th>\n",
              "      <td>0.0</td>\n",
              "    </tr>\n",
              "  </tbody>\n",
              "</table>\n",
              "<p>15000 rows × 1 columns</p>\n",
              "</div>\n",
              "      <button class=\"colab-df-convert\" onclick=\"convertToInteractive('df-80f17241-7c00-488e-90ff-f0198c22235f')\"\n",
              "              title=\"Convert this dataframe to an interactive table.\"\n",
              "              style=\"display:none;\">\n",
              "        \n",
              "  <svg xmlns=\"http://www.w3.org/2000/svg\" height=\"24px\"viewBox=\"0 0 24 24\"\n",
              "       width=\"24px\">\n",
              "    <path d=\"M0 0h24v24H0V0z\" fill=\"none\"/>\n",
              "    <path d=\"M18.56 5.44l.94 2.06.94-2.06 2.06-.94-2.06-.94-.94-2.06-.94 2.06-2.06.94zm-11 1L8.5 8.5l.94-2.06 2.06-.94-2.06-.94L8.5 2.5l-.94 2.06-2.06.94zm10 10l.94 2.06.94-2.06 2.06-.94-2.06-.94-.94-2.06-.94 2.06-2.06.94z\"/><path d=\"M17.41 7.96l-1.37-1.37c-.4-.4-.92-.59-1.43-.59-.52 0-1.04.2-1.43.59L10.3 9.45l-7.72 7.72c-.78.78-.78 2.05 0 2.83L4 21.41c.39.39.9.59 1.41.59.51 0 1.02-.2 1.41-.59l7.78-7.78 2.81-2.81c.8-.78.8-2.07 0-2.86zM5.41 20L4 18.59l7.72-7.72 1.47 1.35L5.41 20z\"/>\n",
              "  </svg>\n",
              "      </button>\n",
              "      \n",
              "  <style>\n",
              "    .colab-df-container {\n",
              "      display:flex;\n",
              "      flex-wrap:wrap;\n",
              "      gap: 12px;\n",
              "    }\n",
              "\n",
              "    .colab-df-convert {\n",
              "      background-color: #E8F0FE;\n",
              "      border: none;\n",
              "      border-radius: 50%;\n",
              "      cursor: pointer;\n",
              "      display: none;\n",
              "      fill: #1967D2;\n",
              "      height: 32px;\n",
              "      padding: 0 0 0 0;\n",
              "      width: 32px;\n",
              "    }\n",
              "\n",
              "    .colab-df-convert:hover {\n",
              "      background-color: #E2EBFA;\n",
              "      box-shadow: 0px 1px 2px rgba(60, 64, 67, 0.3), 0px 1px 3px 1px rgba(60, 64, 67, 0.15);\n",
              "      fill: #174EA6;\n",
              "    }\n",
              "\n",
              "    [theme=dark] .colab-df-convert {\n",
              "      background-color: #3B4455;\n",
              "      fill: #D2E3FC;\n",
              "    }\n",
              "\n",
              "    [theme=dark] .colab-df-convert:hover {\n",
              "      background-color: #434B5C;\n",
              "      box-shadow: 0px 1px 3px 1px rgba(0, 0, 0, 0.15);\n",
              "      filter: drop-shadow(0px 1px 2px rgba(0, 0, 0, 0.3));\n",
              "      fill: #FFFFFF;\n",
              "    }\n",
              "  </style>\n",
              "\n",
              "      <script>\n",
              "        const buttonEl =\n",
              "          document.querySelector('#df-80f17241-7c00-488e-90ff-f0198c22235f button.colab-df-convert');\n",
              "        buttonEl.style.display =\n",
              "          google.colab.kernel.accessAllowed ? 'block' : 'none';\n",
              "\n",
              "        async function convertToInteractive(key) {\n",
              "          const element = document.querySelector('#df-80f17241-7c00-488e-90ff-f0198c22235f');\n",
              "          const dataTable =\n",
              "            await google.colab.kernel.invokeFunction('convertToInteractive',\n",
              "                                                     [key], {});\n",
              "          if (!dataTable) return;\n",
              "\n",
              "          const docLinkHtml = 'Like what you see? Visit the ' +\n",
              "            '<a target=\"_blank\" href=https://colab.research.google.com/notebooks/data_table.ipynb>data table notebook</a>'\n",
              "            + ' to learn more about interactive tables.';\n",
              "          element.innerHTML = '';\n",
              "          dataTable['output_type'] = 'display_data';\n",
              "          await google.colab.output.renderOutput(dataTable, element);\n",
              "          const docLink = document.createElement('div');\n",
              "          docLink.innerHTML = docLinkHtml;\n",
              "          element.appendChild(docLink);\n",
              "        }\n",
              "      </script>\n",
              "    </div>\n",
              "  </div>\n",
              "  "
            ]
          },
          "metadata": {},
          "execution_count": 29
        }
      ]
    },
    {
      "cell_type": "markdown",
      "source": [
        "## 3. CatBoost 훈련\n"
      ],
      "metadata": {
        "id": "g3NSMcsgZuJF"
      }
    },
    {
      "cell_type": "code",
      "source": [
        "from sklearn.model_selection import train_test_split\n",
        "from sklearn.metrics import confusion_matrix, accuracy_score, precision_score, recall_score ,f1_score, roc_auc_score, classification_report"
      ],
      "metadata": {
        "id": "A9NhaNLpHK6r"
      },
      "execution_count": null,
      "outputs": []
    },
    {
      "cell_type": "code",
      "source": [
        "def get_eval(y_test, y_pred):\n",
        "    confusion = confusion_matrix(y_test,y_pred)\n",
        "    accuracy = accuracy_score(y_test, y_pred)\n",
        "    precision = precision_score(y_test, y_pred)\n",
        "    recall = recall_score(y_test, y_pred)\n",
        "    F1 = f1_score(y_test, y_pred)\n",
        "    AUC = roc_auc_score(y_test, y_pred)\n",
        "    print('오차행렬:\\n', confusion)\n",
        "    print(f'\\n정확도:: {accuracy:.4f}')\n",
        "    print(f'정밀도: {precision:.4f}')\n",
        "    print(f'재현율: {recall:.4f}')\n",
        "    print(f'F1: {F1:.4f}')\n",
        "    print(f'AUC: {AUC:.4f}')\n",
        "    print(classification_report(y_test, y_pred))\n",
        "\n"
      ],
      "metadata": {
        "id": "cbsVvT_GHI8p"
      },
      "execution_count": null,
      "outputs": []
    },
    {
      "cell_type": "code",
      "source": [
        "# train validation 분리\n",
        "X_train, X_val, y_train, y_val = train_test_split(train_df,target,test_size=0.2, random_state=42)\n",
        "X_train.shape,X_val.shape,y_train.shape,y_val.shape"
      ],
      "metadata": {
        "colab": {
          "base_uri": "https://localhost:8080/"
        },
        "id": "FpMR8Xb1z7kZ",
        "outputId": "60546824-422d-4c31-86d4-94bb4e2a2ae2"
      },
      "execution_count": null,
      "outputs": [
        {
          "output_type": "execute_result",
          "data": {
            "text/plain": [
              "((12000, 42), (3000, 42), (12000, 1), (3000, 1))"
            ]
          },
          "metadata": {},
          "execution_count": 84
        }
      ]
    },
    {
      "cell_type": "code",
      "source": [
        "y_train"
      ],
      "metadata": {
        "colab": {
          "base_uri": "https://localhost:8080/",
          "height": 424
        },
        "id": "VT_xasma6kjY",
        "outputId": "004c8488-25b5-4771-92fa-77470728199f"
      },
      "execution_count": null,
      "outputs": [
        {
          "output_type": "execute_result",
          "data": {
            "text/plain": [
              "         0\n",
              "9839   0.0\n",
              "9680   0.0\n",
              "7093   0.0\n",
              "11293  0.0\n",
              "820    0.0\n",
              "...    ...\n",
              "5191   1.0\n",
              "13418  1.0\n",
              "5390   1.0\n",
              "860    1.0\n",
              "7270   1.0\n",
              "\n",
              "[12000 rows x 1 columns]"
            ],
            "text/html": [
              "\n",
              "  <div id=\"df-1f8f6bde-7aeb-479e-9eed-3b7f461af0cf\">\n",
              "    <div class=\"colab-df-container\">\n",
              "      <div>\n",
              "<style scoped>\n",
              "    .dataframe tbody tr th:only-of-type {\n",
              "        vertical-align: middle;\n",
              "    }\n",
              "\n",
              "    .dataframe tbody tr th {\n",
              "        vertical-align: top;\n",
              "    }\n",
              "\n",
              "    .dataframe thead th {\n",
              "        text-align: right;\n",
              "    }\n",
              "</style>\n",
              "<table border=\"1\" class=\"dataframe\">\n",
              "  <thead>\n",
              "    <tr style=\"text-align: right;\">\n",
              "      <th></th>\n",
              "      <th>0</th>\n",
              "    </tr>\n",
              "  </thead>\n",
              "  <tbody>\n",
              "    <tr>\n",
              "      <th>9839</th>\n",
              "      <td>0.0</td>\n",
              "    </tr>\n",
              "    <tr>\n",
              "      <th>9680</th>\n",
              "      <td>0.0</td>\n",
              "    </tr>\n",
              "    <tr>\n",
              "      <th>7093</th>\n",
              "      <td>0.0</td>\n",
              "    </tr>\n",
              "    <tr>\n",
              "      <th>11293</th>\n",
              "      <td>0.0</td>\n",
              "    </tr>\n",
              "    <tr>\n",
              "      <th>820</th>\n",
              "      <td>0.0</td>\n",
              "    </tr>\n",
              "    <tr>\n",
              "      <th>...</th>\n",
              "      <td>...</td>\n",
              "    </tr>\n",
              "    <tr>\n",
              "      <th>5191</th>\n",
              "      <td>1.0</td>\n",
              "    </tr>\n",
              "    <tr>\n",
              "      <th>13418</th>\n",
              "      <td>1.0</td>\n",
              "    </tr>\n",
              "    <tr>\n",
              "      <th>5390</th>\n",
              "      <td>1.0</td>\n",
              "    </tr>\n",
              "    <tr>\n",
              "      <th>860</th>\n",
              "      <td>1.0</td>\n",
              "    </tr>\n",
              "    <tr>\n",
              "      <th>7270</th>\n",
              "      <td>1.0</td>\n",
              "    </tr>\n",
              "  </tbody>\n",
              "</table>\n",
              "<p>12000 rows × 1 columns</p>\n",
              "</div>\n",
              "      <button class=\"colab-df-convert\" onclick=\"convertToInteractive('df-1f8f6bde-7aeb-479e-9eed-3b7f461af0cf')\"\n",
              "              title=\"Convert this dataframe to an interactive table.\"\n",
              "              style=\"display:none;\">\n",
              "        \n",
              "  <svg xmlns=\"http://www.w3.org/2000/svg\" height=\"24px\"viewBox=\"0 0 24 24\"\n",
              "       width=\"24px\">\n",
              "    <path d=\"M0 0h24v24H0V0z\" fill=\"none\"/>\n",
              "    <path d=\"M18.56 5.44l.94 2.06.94-2.06 2.06-.94-2.06-.94-.94-2.06-.94 2.06-2.06.94zm-11 1L8.5 8.5l.94-2.06 2.06-.94-2.06-.94L8.5 2.5l-.94 2.06-2.06.94zm10 10l.94 2.06.94-2.06 2.06-.94-2.06-.94-.94-2.06-.94 2.06-2.06.94z\"/><path d=\"M17.41 7.96l-1.37-1.37c-.4-.4-.92-.59-1.43-.59-.52 0-1.04.2-1.43.59L10.3 9.45l-7.72 7.72c-.78.78-.78 2.05 0 2.83L4 21.41c.39.39.9.59 1.41.59.51 0 1.02-.2 1.41-.59l7.78-7.78 2.81-2.81c.8-.78.8-2.07 0-2.86zM5.41 20L4 18.59l7.72-7.72 1.47 1.35L5.41 20z\"/>\n",
              "  </svg>\n",
              "      </button>\n",
              "      \n",
              "  <style>\n",
              "    .colab-df-container {\n",
              "      display:flex;\n",
              "      flex-wrap:wrap;\n",
              "      gap: 12px;\n",
              "    }\n",
              "\n",
              "    .colab-df-convert {\n",
              "      background-color: #E8F0FE;\n",
              "      border: none;\n",
              "      border-radius: 50%;\n",
              "      cursor: pointer;\n",
              "      display: none;\n",
              "      fill: #1967D2;\n",
              "      height: 32px;\n",
              "      padding: 0 0 0 0;\n",
              "      width: 32px;\n",
              "    }\n",
              "\n",
              "    .colab-df-convert:hover {\n",
              "      background-color: #E2EBFA;\n",
              "      box-shadow: 0px 1px 2px rgba(60, 64, 67, 0.3), 0px 1px 3px 1px rgba(60, 64, 67, 0.15);\n",
              "      fill: #174EA6;\n",
              "    }\n",
              "\n",
              "    [theme=dark] .colab-df-convert {\n",
              "      background-color: #3B4455;\n",
              "      fill: #D2E3FC;\n",
              "    }\n",
              "\n",
              "    [theme=dark] .colab-df-convert:hover {\n",
              "      background-color: #434B5C;\n",
              "      box-shadow: 0px 1px 3px 1px rgba(0, 0, 0, 0.15);\n",
              "      filter: drop-shadow(0px 1px 2px rgba(0, 0, 0, 0.3));\n",
              "      fill: #FFFFFF;\n",
              "    }\n",
              "  </style>\n",
              "\n",
              "      <script>\n",
              "        const buttonEl =\n",
              "          document.querySelector('#df-1f8f6bde-7aeb-479e-9eed-3b7f461af0cf button.colab-df-convert');\n",
              "        buttonEl.style.display =\n",
              "          google.colab.kernel.accessAllowed ? 'block' : 'none';\n",
              "\n",
              "        async function convertToInteractive(key) {\n",
              "          const element = document.querySelector('#df-1f8f6bde-7aeb-479e-9eed-3b7f461af0cf');\n",
              "          const dataTable =\n",
              "            await google.colab.kernel.invokeFunction('convertToInteractive',\n",
              "                                                     [key], {});\n",
              "          if (!dataTable) return;\n",
              "\n",
              "          const docLinkHtml = 'Like what you see? Visit the ' +\n",
              "            '<a target=\"_blank\" href=https://colab.research.google.com/notebooks/data_table.ipynb>data table notebook</a>'\n",
              "            + ' to learn more about interactive tables.';\n",
              "          element.innerHTML = '';\n",
              "          dataTable['output_type'] = 'display_data';\n",
              "          await google.colab.output.renderOutput(dataTable, element);\n",
              "          const docLink = document.createElement('div');\n",
              "          docLink.innerHTML = docLinkHtml;\n",
              "          element.appendChild(docLink);\n",
              "        }\n",
              "      </script>\n",
              "    </div>\n",
              "  </div>\n",
              "  "
            ]
          },
          "metadata": {},
          "execution_count": 85
        }
      ]
    },
    {
      "cell_type": "markdown",
      "source": [
        "#### 3.1 첫번째 기본훈련"
      ],
      "metadata": {
        "id": "NuD7aXM9-JyH"
      }
    },
    {
      "cell_type": "code",
      "source": [
        ""
      ],
      "metadata": {
        "id": "WUJ638wlIkXg"
      },
      "execution_count": null,
      "outputs": []
    },
    {
      "cell_type": "code",
      "source": [
        "model = cb.CatBoostClassifier(iterations=2,\n",
        "                           learning_rate=0.01,\n",
        "                           max_depth=10,\n",
        "                           early_stopping_rounds=3\n",
        "                           )\n",
        "cb_model = model.fit(X_train,y_train)"
      ],
      "metadata": {
        "colab": {
          "base_uri": "https://localhost:8080/"
        },
        "id": "AscX_JKU6MHN",
        "outputId": "566fc9cd-036a-4214-f2c1-e0d2da92b3f6"
      },
      "execution_count": null,
      "outputs": [
        {
          "output_type": "stream",
          "name": "stdout",
          "text": [
            "0:\tlearn: 0.6886158\ttotal: 117ms\tremaining: 117ms\n",
            "1:\tlearn: 0.6840796\ttotal: 245ms\tremaining: 0us\n"
          ]
        }
      ]
    },
    {
      "cell_type": "code",
      "source": [
        "# Validation 데이터셋 예상\n",
        "pred = cb_model.predict(X_val)"
      ],
      "metadata": {
        "id": "ZP-bLUB39g1J"
      },
      "execution_count": null,
      "outputs": []
    },
    {
      "cell_type": "code",
      "source": [
        "get_eval(y_val,pred)"
      ],
      "metadata": {
        "colab": {
          "base_uri": "https://localhost:8080/"
        },
        "id": "cS-PB1oFHjQf",
        "outputId": "c612419b-3af4-43be-c562-f684a6181f37"
      },
      "execution_count": null,
      "outputs": [
        {
          "output_type": "stream",
          "name": "stdout",
          "text": [
            "오차행렬:\n",
            " [[1564   69]\n",
            " [ 865  502]]\n",
            "\n",
            "정확도:: 0.6887\n",
            "정밀도: 0.8792\n",
            "재현율: 0.3672\n",
            "F1: 0.5181\n",
            "AUC: 0.6625\n",
            "              precision    recall  f1-score   support\n",
            "\n",
            "         0.0       0.64      0.96      0.77      1633\n",
            "         1.0       0.88      0.37      0.52      1367\n",
            "\n",
            "    accuracy                           0.69      3000\n",
            "   macro avg       0.76      0.66      0.64      3000\n",
            "weighted avg       0.75      0.69      0.66      3000\n",
            "\n"
          ]
        }
      ]
    },
    {
      "cell_type": "markdown",
      "source": [
        "#### 3.2 두번째 훈련세트"
      ],
      "metadata": {
        "id": "9N1E4vLO9tWc"
      }
    },
    {
      "cell_type": "code",
      "source": [
        "model2 = cb.CatBoostClassifier(iterations=30,\n",
        "                           learning_rate=0.01,\n",
        "                           max_depth=10,\n",
        "                           early_stopping_rounds=3\n",
        "                           )\n",
        "cb_model2 = model2.fit(X_train,y_train)\n",
        "# Validation 데이터셋 예상\n",
        "pred2 = cb_model2.predict(X_val)\n"
      ],
      "metadata": {
        "id": "U7iNysdp-VOC"
      },
      "execution_count": null,
      "outputs": []
    },
    {
      "cell_type": "code",
      "source": [
        "get_eval(y_val,pred2)"
      ],
      "metadata": {
        "colab": {
          "base_uri": "https://localhost:8080/"
        },
        "id": "wtSCrD2ZIeT7",
        "outputId": "6f1d9a9d-8b4e-4b2b-f938-ff3c37943a08"
      },
      "execution_count": null,
      "outputs": [
        {
          "output_type": "stream",
          "name": "stdout",
          "text": [
            "오차행렬:\n",
            " [[1579   54]\n",
            " [ 888  479]]\n",
            "\n",
            "정확도:: 0.6860\n",
            "정밀도: 0.8987\n",
            "재현율: 0.3504\n",
            "F1: 0.5042\n",
            "AUC: 0.6587\n",
            "              precision    recall  f1-score   support\n",
            "\n",
            "         0.0       0.64      0.97      0.77      1633\n",
            "         1.0       0.90      0.35      0.50      1367\n",
            "\n",
            "    accuracy                           0.69      3000\n",
            "   macro avg       0.77      0.66      0.64      3000\n",
            "weighted avg       0.76      0.69      0.65      3000\n",
            "\n"
          ]
        }
      ]
    },
    {
      "cell_type": "markdown",
      "source": [
        "#### 3.3 세번째 훈련세트"
      ],
      "metadata": {
        "id": "eE9iFU1jjYoO"
      }
    },
    {
      "cell_type": "code",
      "source": [
        "model3 = cb.CatBoostClassifier(iterations=20,\n",
        "                           learning_rate=0.1,\n",
        "                           max_depth=10,\n",
        "                           early_stopping_rounds=3\n",
        "                           )\n",
        "cb_model3 = model3.fit(X_train,y_train)\n",
        "# Validation 데이터셋 예상\n",
        "pred5 = cb_model3.predict_proba(X_val,y_val)"
      ],
      "metadata": {
        "colab": {
          "base_uri": "https://localhost:8080/",
          "height": 821
        },
        "id": "pY406uFzjfQ9",
        "outputId": "26376491-0b74-4b43-e030-50061b67706a"
      },
      "execution_count": null,
      "outputs": [
        {
          "output_type": "stream",
          "name": "stdout",
          "text": [
            "0:\tlearn: 0.6505000\ttotal: 148ms\tremaining: 2.8s\n",
            "1:\tlearn: 0.6153801\ttotal: 293ms\tremaining: 2.64s\n",
            "2:\tlearn: 0.5881039\ttotal: 442ms\tremaining: 2.5s\n",
            "3:\tlearn: 0.5660749\ttotal: 598ms\tremaining: 2.39s\n",
            "4:\tlearn: 0.5457978\ttotal: 752ms\tremaining: 2.25s\n",
            "5:\tlearn: 0.5331155\ttotal: 879ms\tremaining: 2.05s\n",
            "6:\tlearn: 0.5206175\ttotal: 976ms\tremaining: 1.81s\n",
            "7:\tlearn: 0.5095166\ttotal: 1.1s\tremaining: 1.65s\n",
            "8:\tlearn: 0.5012893\ttotal: 1.26s\tremaining: 1.54s\n",
            "9:\tlearn: 0.4935748\ttotal: 1.43s\tremaining: 1.43s\n",
            "10:\tlearn: 0.4869934\ttotal: 1.55s\tremaining: 1.26s\n",
            "11:\tlearn: 0.4814076\ttotal: 1.7s\tremaining: 1.13s\n",
            "12:\tlearn: 0.4750337\ttotal: 1.84s\tremaining: 992ms\n",
            "13:\tlearn: 0.4704678\ttotal: 2s\tremaining: 859ms\n",
            "14:\tlearn: 0.4659291\ttotal: 2.15s\tremaining: 715ms\n",
            "15:\tlearn: 0.4623204\ttotal: 2.3s\tremaining: 576ms\n",
            "16:\tlearn: 0.4590786\ttotal: 2.46s\tremaining: 435ms\n",
            "17:\tlearn: 0.4565556\ttotal: 2.6s\tremaining: 289ms\n",
            "18:\tlearn: 0.4551197\ttotal: 2.75s\tremaining: 145ms\n",
            "19:\tlearn: 0.4524473\ttotal: 2.9s\tremaining: 0us\n"
          ]
        },
        {
          "output_type": "error",
          "ename": "TypeError",
          "evalue": "ignored",
          "traceback": [
            "\u001b[0;31m---------------------------------------------------------------------------\u001b[0m",
            "\u001b[0;31mTypeError\u001b[0m                                 Traceback (most recent call last)",
            "\u001b[0;32m<ipython-input-156-d6b7da21311e>\u001b[0m in \u001b[0;36m<module>\u001b[0;34m()\u001b[0m\n\u001b[1;32m      6\u001b[0m \u001b[0mcb_model3\u001b[0m \u001b[0;34m=\u001b[0m \u001b[0mmodel3\u001b[0m\u001b[0;34m.\u001b[0m\u001b[0mfit\u001b[0m\u001b[0;34m(\u001b[0m\u001b[0mX_train\u001b[0m\u001b[0;34m,\u001b[0m\u001b[0my_train\u001b[0m\u001b[0;34m)\u001b[0m\u001b[0;34m\u001b[0m\u001b[0;34m\u001b[0m\u001b[0m\n\u001b[1;32m      7\u001b[0m \u001b[0;31m# Validation 데이터셋 예상\u001b[0m\u001b[0;34m\u001b[0m\u001b[0;34m\u001b[0m\u001b[0;34m\u001b[0m\u001b[0m\n\u001b[0;32m----> 8\u001b[0;31m \u001b[0mpred5\u001b[0m \u001b[0;34m=\u001b[0m \u001b[0mcb_model3\u001b[0m\u001b[0;34m.\u001b[0m\u001b[0mpredict_proba\u001b[0m\u001b[0;34m(\u001b[0m\u001b[0mX_val\u001b[0m\u001b[0;34m,\u001b[0m\u001b[0my_val\u001b[0m\u001b[0;34m)\u001b[0m\u001b[0;34m\u001b[0m\u001b[0;34m\u001b[0m\u001b[0m\n\u001b[0m",
            "\u001b[0;32m/usr/local/lib/python3.7/dist-packages/catboost/core.py\u001b[0m in \u001b[0;36mpredict_proba\u001b[0;34m(self, X, ntree_start, ntree_end, thread_count, verbose, task_type)\u001b[0m\n\u001b[1;32m   5099\u001b[0m                 \u001b[0;32mwith\u001b[0m \u001b[0mprobability\u001b[0m \u001b[0;32mfor\u001b[0m \u001b[0mevery\u001b[0m \u001b[0;32mclass\u001b[0m \u001b[0;32mfor\u001b[0m \u001b[0meach\u001b[0m \u001b[0mobject\u001b[0m\u001b[0;34m.\u001b[0m\u001b[0;34m\u001b[0m\u001b[0;34m\u001b[0m\u001b[0m\n\u001b[1;32m   5100\u001b[0m         \"\"\"\n\u001b[0;32m-> 5101\u001b[0;31m         \u001b[0;32mreturn\u001b[0m \u001b[0mself\u001b[0m\u001b[0;34m.\u001b[0m\u001b[0m_predict\u001b[0m\u001b[0;34m(\u001b[0m\u001b[0mX\u001b[0m\u001b[0;34m,\u001b[0m \u001b[0;34m'Probability'\u001b[0m\u001b[0;34m,\u001b[0m \u001b[0mntree_start\u001b[0m\u001b[0;34m,\u001b[0m \u001b[0mntree_end\u001b[0m\u001b[0;34m,\u001b[0m \u001b[0mthread_count\u001b[0m\u001b[0;34m,\u001b[0m \u001b[0mverbose\u001b[0m\u001b[0;34m,\u001b[0m \u001b[0;34m'predict_proba'\u001b[0m\u001b[0;34m,\u001b[0m \u001b[0mtask_type\u001b[0m\u001b[0;34m)\u001b[0m\u001b[0;34m\u001b[0m\u001b[0;34m\u001b[0m\u001b[0m\n\u001b[0m\u001b[1;32m   5102\u001b[0m \u001b[0;34m\u001b[0m\u001b[0m\n\u001b[1;32m   5103\u001b[0m \u001b[0;34m\u001b[0m\u001b[0m\n",
            "\u001b[0;32m/usr/local/lib/python3.7/dist-packages/catboost/core.py\u001b[0m in \u001b[0;36m_predict\u001b[0;34m(self, data, prediction_type, ntree_start, ntree_end, thread_count, verbose, parent_method_name, task_type)\u001b[0m\n\u001b[1;32m   2459\u001b[0m         \u001b[0mself\u001b[0m\u001b[0;34m.\u001b[0m\u001b[0m_validate_prediction_type\u001b[0m\u001b[0;34m(\u001b[0m\u001b[0mprediction_type\u001b[0m\u001b[0;34m)\u001b[0m\u001b[0;34m\u001b[0m\u001b[0;34m\u001b[0m\u001b[0m\n\u001b[1;32m   2460\u001b[0m \u001b[0;34m\u001b[0m\u001b[0m\n\u001b[0;32m-> 2461\u001b[0;31m         \u001b[0mpredictions\u001b[0m \u001b[0;34m=\u001b[0m \u001b[0mself\u001b[0m\u001b[0;34m.\u001b[0m\u001b[0m_base_predict\u001b[0m\u001b[0;34m(\u001b[0m\u001b[0mdata\u001b[0m\u001b[0;34m,\u001b[0m \u001b[0mprediction_type\u001b[0m\u001b[0;34m,\u001b[0m \u001b[0mntree_start\u001b[0m\u001b[0;34m,\u001b[0m \u001b[0mntree_end\u001b[0m\u001b[0;34m,\u001b[0m \u001b[0mthread_count\u001b[0m\u001b[0;34m,\u001b[0m \u001b[0mverbose\u001b[0m\u001b[0;34m,\u001b[0m \u001b[0mtask_type\u001b[0m\u001b[0;34m)\u001b[0m\u001b[0;34m\u001b[0m\u001b[0;34m\u001b[0m\u001b[0m\n\u001b[0m\u001b[1;32m   2462\u001b[0m         \u001b[0;32mreturn\u001b[0m \u001b[0mpredictions\u001b[0m\u001b[0;34m[\u001b[0m\u001b[0;36m0\u001b[0m\u001b[0;34m]\u001b[0m \u001b[0;32mif\u001b[0m \u001b[0mdata_is_single_object\u001b[0m \u001b[0;32melse\u001b[0m \u001b[0mpredictions\u001b[0m\u001b[0;34m\u001b[0m\u001b[0;34m\u001b[0m\u001b[0m\n\u001b[1;32m   2463\u001b[0m \u001b[0;34m\u001b[0m\u001b[0m\n",
            "\u001b[0;32m/usr/local/lib/python3.7/dist-packages/catboost/core.py\u001b[0m in \u001b[0;36m_base_predict\u001b[0;34m(self, pool, prediction_type, ntree_start, ntree_end, thread_count, verbose, task_type)\u001b[0m\n\u001b[1;32m   1755\u001b[0m \u001b[0;34m\u001b[0m\u001b[0m\n\u001b[1;32m   1756\u001b[0m     \u001b[0;32mdef\u001b[0m \u001b[0m_base_predict\u001b[0m\u001b[0;34m(\u001b[0m\u001b[0mself\u001b[0m\u001b[0;34m,\u001b[0m \u001b[0mpool\u001b[0m\u001b[0;34m,\u001b[0m \u001b[0mprediction_type\u001b[0m\u001b[0;34m,\u001b[0m \u001b[0mntree_start\u001b[0m\u001b[0;34m,\u001b[0m \u001b[0mntree_end\u001b[0m\u001b[0;34m,\u001b[0m \u001b[0mthread_count\u001b[0m\u001b[0;34m,\u001b[0m \u001b[0mverbose\u001b[0m\u001b[0;34m,\u001b[0m \u001b[0mtask_type\u001b[0m\u001b[0;34m)\u001b[0m\u001b[0;34m:\u001b[0m\u001b[0;34m\u001b[0m\u001b[0;34m\u001b[0m\u001b[0m\n\u001b[0;32m-> 1757\u001b[0;31m         \u001b[0;32mreturn\u001b[0m \u001b[0mself\u001b[0m\u001b[0;34m.\u001b[0m\u001b[0m_object\u001b[0m\u001b[0;34m.\u001b[0m\u001b[0m_base_predict\u001b[0m\u001b[0;34m(\u001b[0m\u001b[0mpool\u001b[0m\u001b[0;34m,\u001b[0m \u001b[0mprediction_type\u001b[0m\u001b[0;34m,\u001b[0m \u001b[0mntree_start\u001b[0m\u001b[0;34m,\u001b[0m \u001b[0mntree_end\u001b[0m\u001b[0;34m,\u001b[0m \u001b[0mthread_count\u001b[0m\u001b[0;34m,\u001b[0m \u001b[0mverbose\u001b[0m\u001b[0;34m,\u001b[0m \u001b[0mtask_type\u001b[0m\u001b[0;34m)\u001b[0m\u001b[0;34m\u001b[0m\u001b[0;34m\u001b[0m\u001b[0m\n\u001b[0m\u001b[1;32m   1758\u001b[0m \u001b[0;34m\u001b[0m\u001b[0m\n\u001b[1;32m   1759\u001b[0m     \u001b[0;32mdef\u001b[0m \u001b[0m_base_virtual_ensembles_predict\u001b[0m\u001b[0;34m(\u001b[0m\u001b[0mself\u001b[0m\u001b[0;34m,\u001b[0m \u001b[0mpool\u001b[0m\u001b[0;34m,\u001b[0m \u001b[0mprediction_type\u001b[0m\u001b[0;34m,\u001b[0m \u001b[0mntree_end\u001b[0m\u001b[0;34m,\u001b[0m \u001b[0mvirtual_ensembles_count\u001b[0m\u001b[0;34m,\u001b[0m \u001b[0mthread_count\u001b[0m\u001b[0;34m,\u001b[0m \u001b[0mverbose\u001b[0m\u001b[0;34m)\u001b[0m\u001b[0;34m:\u001b[0m\u001b[0;34m\u001b[0m\u001b[0;34m\u001b[0m\u001b[0m\n",
            "\u001b[0;32m_catboost.pyx\u001b[0m in \u001b[0;36m_catboost._CatBoost._base_predict\u001b[0;34m()\u001b[0m\n",
            "\u001b[0;31mTypeError\u001b[0m: an integer is required"
          ]
        }
      ]
    },
    {
      "cell_type": "code",
      "source": [
        "get_eval(y_val,pred5)"
      ],
      "metadata": {
        "colab": {
          "base_uri": "https://localhost:8080/"
        },
        "id": "_xRvlJi2jhU8",
        "outputId": "db1c85c7-6f7a-4b44-c813-cfcd13a64e0e"
      },
      "execution_count": null,
      "outputs": [
        {
          "output_type": "stream",
          "name": "stdout",
          "text": [
            "오차행렬:\n",
            " [[1632    1]\n",
            " [1307   60]]\n",
            "\n",
            "정확도:: 0.5640\n",
            "정밀도: 0.9836\n",
            "재현율: 0.0439\n",
            "F1: 0.0840\n",
            "AUC: 0.5216\n",
            "              precision    recall  f1-score   support\n",
            "\n",
            "         0.0       0.56      1.00      0.71      1633\n",
            "         1.0       0.98      0.04      0.08      1367\n",
            "\n",
            "    accuracy                           0.56      3000\n",
            "   macro avg       0.77      0.52      0.40      3000\n",
            "weighted avg       0.75      0.56      0.43      3000\n",
            "\n"
          ]
        }
      ]
    },
    {
      "cell_type": "markdown",
      "source": [
        "#### 3.4 네번째 훈련세트"
      ],
      "metadata": {
        "id": "eTk7A2K1JB2B"
      }
    },
    {
      "cell_type": "markdown",
      "source": [
        "코드 방식 변화\n",
        "\n",
        "pools, params 방식으로 훈련 input\n"
      ],
      "metadata": {
        "id": "Vkg0OQpsJGEM"
      }
    },
    {
      "cell_type": "code",
      "source": [
        "cb_dtrain = cb.Pool(data=X_train, label = y_train)\n",
        "cb_deval = cb.Pool(data=X_val, label = y_val)\n",
        "cb_param = {\n",
        "    'max_depth':10, # 트리 깊이\n",
        "    'learning_rate': 0.01, # 학습률\n",
        "    'n_estimators': 100, # 트리 생성 갯수\n",
        "    'eval_metric' : 'Accuracy', # 평가 척도\n",
        "    'loss_function': 'MultiClass' # 손실 함수\n",
        "}\n",
        "cb_model3 = cb.CatBoostClassifier(iterations=30,\n",
        "                           learning_rate=1,\n",
        "                           depth=2,\n",
        "                           loss_function='MultiClass')\n",
        "\n",
        "model3 = cb_model3.fit(cb_dtrain)\n",
        "pred_proba3 = model3.predict_proba(cb_deval)"
      ],
      "metadata": {
        "colab": {
          "base_uri": "https://localhost:8080/"
        },
        "id": "wEaK4EV0I4EB",
        "outputId": "8b1efaf9-d815-4971-d08a-6c58c21ca2bb"
      },
      "execution_count": null,
      "outputs": [
        {
          "output_type": "stream",
          "name": "stdout",
          "text": [
            "0:\tlearn: 0.5251073\ttotal: 13.5ms\tremaining: 391ms\n",
            "1:\tlearn: 0.5034400\ttotal: 28.8ms\tremaining: 403ms\n",
            "2:\tlearn: 0.4964993\ttotal: 46.2ms\tremaining: 416ms\n",
            "3:\tlearn: 0.4904056\ttotal: 64.7ms\tremaining: 420ms\n",
            "4:\tlearn: 0.4890739\ttotal: 83.5ms\tremaining: 417ms\n",
            "5:\tlearn: 0.4814115\ttotal: 100ms\tremaining: 401ms\n",
            "6:\tlearn: 0.4803820\ttotal: 118ms\tremaining: 386ms\n",
            "7:\tlearn: 0.4797385\ttotal: 137ms\tremaining: 378ms\n",
            "8:\tlearn: 0.4774377\ttotal: 156ms\tremaining: 364ms\n",
            "9:\tlearn: 0.4757923\ttotal: 172ms\tremaining: 344ms\n",
            "10:\tlearn: 0.4746199\ttotal: 192ms\tremaining: 331ms\n",
            "11:\tlearn: 0.4741125\ttotal: 214ms\tremaining: 320ms\n",
            "12:\tlearn: 0.4729151\ttotal: 233ms\tremaining: 305ms\n",
            "13:\tlearn: 0.4725505\ttotal: 250ms\tremaining: 286ms\n",
            "14:\tlearn: 0.4722845\ttotal: 263ms\tremaining: 263ms\n",
            "15:\tlearn: 0.4717416\ttotal: 269ms\tremaining: 235ms\n",
            "16:\tlearn: 0.4702004\ttotal: 277ms\tremaining: 212ms\n",
            "17:\tlearn: 0.4694432\ttotal: 283ms\tremaining: 189ms\n",
            "18:\tlearn: 0.4692262\ttotal: 289ms\tremaining: 167ms\n",
            "19:\tlearn: 0.4686717\ttotal: 297ms\tremaining: 148ms\n",
            "20:\tlearn: 0.4680263\ttotal: 303ms\tremaining: 130ms\n",
            "21:\tlearn: 0.4658314\ttotal: 311ms\tremaining: 113ms\n",
            "22:\tlearn: 0.4652765\ttotal: 320ms\tremaining: 97.4ms\n",
            "23:\tlearn: 0.4647160\ttotal: 335ms\tremaining: 83.7ms\n",
            "24:\tlearn: 0.4642132\ttotal: 359ms\tremaining: 71.8ms\n",
            "25:\tlearn: 0.4638704\ttotal: 376ms\tremaining: 57.8ms\n",
            "26:\tlearn: 0.4635126\ttotal: 384ms\tremaining: 42.7ms\n",
            "27:\tlearn: 0.4633850\ttotal: 390ms\tremaining: 27.9ms\n",
            "28:\tlearn: 0.4632725\ttotal: 397ms\tremaining: 13.7ms\n",
            "29:\tlearn: 0.4630270\ttotal: 413ms\tremaining: 0us\n"
          ]
        }
      ]
    },
    {
      "cell_type": "code",
      "source": [
        "pred_proba3"
      ],
      "metadata": {
        "colab": {
          "base_uri": "https://localhost:8080/"
        },
        "id": "dTgxjF7bncTm",
        "outputId": "3506021b-99fe-4669-dc98-2b9246b3f042"
      },
      "execution_count": null,
      "outputs": [
        {
          "output_type": "execute_result",
          "data": {
            "text/plain": [
              "array([[0.57912439, 0.42087561],\n",
              "       [0.81987101, 0.18012899],\n",
              "       [0.27897879, 0.72102121],\n",
              "       ...,\n",
              "       [0.69191134, 0.30808866],\n",
              "       [0.92416394, 0.07583606],\n",
              "       [0.91411438, 0.08588562]])"
            ]
          },
          "metadata": {},
          "execution_count": 162
        }
      ]
    },
    {
      "cell_type": "code",
      "source": [
        "model_pred3 = cb_model3.predict(X_val) \n",
        "# get_eval(y_val,pred3)\n",
        "pred3 = np.argmax(model_pred3, axis =1)"
      ],
      "metadata": {
        "id": "dvjrFEgULo6F"
      },
      "execution_count": null,
      "outputs": []
    },
    {
      "cell_type": "code",
      "source": [
        "display(model_pred3, pred3)"
      ],
      "metadata": {
        "colab": {
          "base_uri": "https://localhost:8080/",
          "height": 160
        },
        "id": "Qj0aQkKcNNxQ",
        "outputId": "5a6b744c-54f7-440c-a1ab-0393d805051d"
      },
      "execution_count": null,
      "outputs": [
        {
          "output_type": "display_data",
          "data": {
            "text/plain": [
              "array([[ 0.17720876, -0.17720876],\n",
              "       [ 0.43551616, -0.43551616],\n",
              "       [-0.0535972 ,  0.0535972 ],\n",
              "       ...,\n",
              "       [ 0.32245047, -0.32245047],\n",
              "       [ 0.4916471 , -0.4916471 ],\n",
              "       [ 0.52719757, -0.52719757]])"
            ]
          },
          "metadata": {}
        },
        {
          "output_type": "display_data",
          "data": {
            "text/plain": [
              "array([0, 0, 1, ..., 0, 0, 0])"
            ]
          },
          "metadata": {}
        }
      ]
    },
    {
      "cell_type": "code",
      "source": [
        "get_eval(y_val,pred3)"
      ],
      "metadata": {
        "colab": {
          "base_uri": "https://localhost:8080/"
        },
        "id": "VQq0JVy9N0hQ",
        "outputId": "0d171cb4-a6d1-4639-81b8-6321653d0ab7"
      },
      "execution_count": null,
      "outputs": [
        {
          "output_type": "stream",
          "name": "stdout",
          "text": [
            "오차행렬:\n",
            " [[1580   53]\n",
            " [ 872  495]]\n",
            "\n",
            "정확도:: 0.6917\n",
            "정밀도: 0.9033\n",
            "재현율: 0.3621\n",
            "F1: 0.5170\n",
            "AUC: 0.6648\n",
            "              precision    recall  f1-score   support\n",
            "\n",
            "         0.0       0.64      0.97      0.77      1633\n",
            "         1.0       0.90      0.36      0.52      1367\n",
            "\n",
            "    accuracy                           0.69      3000\n",
            "   macro avg       0.77      0.66      0.65      3000\n",
            "weighted avg       0.76      0.69      0.66      3000\n",
            "\n"
          ]
        }
      ]
    },
    {
      "cell_type": "code",
      "source": [
        "threshold = 0.4\n",
        "pred4 = np.argmax(np.where(model_pred3 >= threshold , 1, 0),axis = 1)\n",
        "pred4"
      ],
      "metadata": {
        "colab": {
          "base_uri": "https://localhost:8080/"
        },
        "id": "WvTX8PQbPalW",
        "outputId": "05a9cf65-2c5f-4813-9546-ea9c5f4ed8d6"
      },
      "execution_count": null,
      "outputs": [
        {
          "output_type": "execute_result",
          "data": {
            "text/plain": [
              "array([0, 0, 0, ..., 0, 0, 0])"
            ]
          },
          "metadata": {},
          "execution_count": 137
        }
      ]
    },
    {
      "cell_type": "code",
      "source": [
        "get_eval(y_val,pred4)"
      ],
      "metadata": {
        "colab": {
          "base_uri": "https://localhost:8080/"
        },
        "id": "AO4XJUtyQP9c",
        "outputId": "5801165b-e3ec-46ea-e07d-00365cf320af"
      },
      "execution_count": null,
      "outputs": [
        {
          "output_type": "stream",
          "name": "stdout",
          "text": [
            "오차행렬:\n",
            " [[1613   20]\n",
            " [1134  233]]\n",
            "\n",
            "정확도:: 0.6153\n",
            "정밀도: 0.9209\n",
            "재현율: 0.1704\n",
            "F1: 0.2877\n",
            "AUC: 0.5791\n",
            "              precision    recall  f1-score   support\n",
            "\n",
            "         0.0       0.59      0.99      0.74      1633\n",
            "         1.0       0.92      0.17      0.29      1367\n",
            "\n",
            "    accuracy                           0.62      3000\n",
            "   macro avg       0.75      0.58      0.51      3000\n",
            "weighted avg       0.74      0.62      0.53      3000\n",
            "\n"
          ]
        }
      ]
    },
    {
      "cell_type": "code",
      "source": [
        "pred_proba3[:,1:]"
      ],
      "metadata": {
        "colab": {
          "base_uri": "https://localhost:8080/"
        },
        "id": "OcBEuiF9pF0H",
        "outputId": "cbcfc500-1440-48b4-a43f-2bebe247ce87"
      },
      "execution_count": null,
      "outputs": [
        {
          "output_type": "execute_result",
          "data": {
            "text/plain": [
              "array([[0.42087561],\n",
              "       [0.18012899],\n",
              "       [0.72102121],\n",
              "       ...,\n",
              "       [0.30808866],\n",
              "       [0.07583606],\n",
              "       [0.08588562]])"
            ]
          },
          "metadata": {},
          "execution_count": 169
        }
      ]
    },
    {
      "cell_type": "code",
      "source": [
        "np.where(pred_proba3[:,1] >= 0.4 , 1, 0)"
      ],
      "metadata": {
        "colab": {
          "base_uri": "https://localhost:8080/"
        },
        "id": "lxPZY9EGrTP8",
        "outputId": "b6191269-9e3b-44fc-eae9-22b77c0c48d2"
      },
      "execution_count": null,
      "outputs": [
        {
          "output_type": "execute_result",
          "data": {
            "text/plain": [
              "array([1, 0, 1, ..., 0, 0, 0])"
            ]
          },
          "metadata": {},
          "execution_count": 173
        }
      ]
    },
    {
      "cell_type": "code",
      "source": [
        "thresholds = [0, 0.01,0.05, 0.08, 0.1, 0.2, 0.3, 0.4, 0.5, 0.6, 0.7, 0.8]\n",
        "for i in thresholds:\n",
        "    print(i)\n",
        "    temp_pred = np.where(pred_proba3[:,1] >= i , 1, 0)\n",
        "    get_eval(y_val,temp_pred)"
      ],
      "metadata": {
        "colab": {
          "base_uri": "https://localhost:8080/"
        },
        "id": "r3IN9dulaHIO",
        "outputId": "66012041-a6fd-4602-c778-8575510872a7"
      },
      "execution_count": null,
      "outputs": [
        {
          "output_type": "stream",
          "name": "stdout",
          "text": [
            "0\n",
            "오차행렬:\n",
            " [[   0 1633]\n",
            " [   0 1367]]\n",
            "\n",
            "정확도:: 0.4557\n",
            "정밀도: 0.4557\n",
            "재현율: 1.0000\n",
            "F1: 0.6261\n",
            "AUC: 0.5000\n",
            "              precision    recall  f1-score   support\n",
            "\n",
            "         0.0       0.00      0.00      0.00      1633\n",
            "         1.0       0.46      1.00      0.63      1367\n",
            "\n",
            "    accuracy                           0.46      3000\n",
            "   macro avg       0.23      0.50      0.31      3000\n",
            "weighted avg       0.21      0.46      0.29      3000\n",
            "\n",
            "0.01\n",
            "오차행렬:\n",
            " [[   0 1633]\n",
            " [   0 1367]]\n",
            "\n",
            "정확도:: 0.4557\n",
            "정밀도: 0.4557\n",
            "재현율: 1.0000\n",
            "F1: 0.6261\n",
            "AUC: 0.5000\n",
            "              precision    recall  f1-score   support\n",
            "\n",
            "         0.0       0.00      0.00      0.00      1633\n",
            "         1.0       0.46      1.00      0.63      1367\n",
            "\n",
            "    accuracy                           0.46      3000\n",
            "   macro avg       0.23      0.50      0.31      3000\n",
            "weighted avg       0.21      0.46      0.29      3000\n",
            "\n",
            "0.05\n",
            "오차행렬:\n",
            " [[  89 1544]\n",
            " [   9 1358]]\n",
            "\n",
            "정확도:: 0.4823\n",
            "정밀도: 0.4680\n",
            "재현율: 0.9934\n",
            "F1: 0.6362\n",
            "AUC: 0.5240\n",
            "              precision    recall  f1-score   support\n",
            "\n",
            "         0.0       0.91      0.05      0.10      1633\n",
            "         1.0       0.47      0.99      0.64      1367\n",
            "\n",
            "    accuracy                           0.48      3000\n",
            "   macro avg       0.69      0.52      0.37      3000\n",
            "weighted avg       0.71      0.48      0.35      3000\n",
            "\n",
            "0.08\n",
            "오차행렬:\n",
            " [[ 220 1413]\n",
            " [  34 1333]]\n",
            "\n",
            "정확도:: 0.5177\n",
            "정밀도: 0.4854\n",
            "재현율: 0.9751\n",
            "F1: 0.6482\n",
            "AUC: 0.5549\n",
            "              precision    recall  f1-score   support\n",
            "\n",
            "         0.0       0.87      0.13      0.23      1633\n",
            "         1.0       0.49      0.98      0.65      1367\n",
            "\n",
            "    accuracy                           0.52      3000\n",
            "   macro avg       0.68      0.55      0.44      3000\n",
            "weighted avg       0.69      0.52      0.42      3000\n",
            "\n",
            "0.1\n"
          ]
        },
        {
          "output_type": "stream",
          "name": "stderr",
          "text": [
            "/usr/local/lib/python3.7/dist-packages/sklearn/metrics/_classification.py:1318: UndefinedMetricWarning: Precision and F-score are ill-defined and being set to 0.0 in labels with no predicted samples. Use `zero_division` parameter to control this behavior.\n",
            "  _warn_prf(average, modifier, msg_start, len(result))\n",
            "/usr/local/lib/python3.7/dist-packages/sklearn/metrics/_classification.py:1318: UndefinedMetricWarning: Precision and F-score are ill-defined and being set to 0.0 in labels with no predicted samples. Use `zero_division` parameter to control this behavior.\n",
            "  _warn_prf(average, modifier, msg_start, len(result))\n",
            "/usr/local/lib/python3.7/dist-packages/sklearn/metrics/_classification.py:1318: UndefinedMetricWarning: Precision and F-score are ill-defined and being set to 0.0 in labels with no predicted samples. Use `zero_division` parameter to control this behavior.\n",
            "  _warn_prf(average, modifier, msg_start, len(result))\n",
            "/usr/local/lib/python3.7/dist-packages/sklearn/metrics/_classification.py:1318: UndefinedMetricWarning: Precision and F-score are ill-defined and being set to 0.0 in labels with no predicted samples. Use `zero_division` parameter to control this behavior.\n",
            "  _warn_prf(average, modifier, msg_start, len(result))\n",
            "/usr/local/lib/python3.7/dist-packages/sklearn/metrics/_classification.py:1318: UndefinedMetricWarning: Precision and F-score are ill-defined and being set to 0.0 in labels with no predicted samples. Use `zero_division` parameter to control this behavior.\n",
            "  _warn_prf(average, modifier, msg_start, len(result))\n",
            "/usr/local/lib/python3.7/dist-packages/sklearn/metrics/_classification.py:1318: UndefinedMetricWarning: Precision and F-score are ill-defined and being set to 0.0 in labels with no predicted samples. Use `zero_division` parameter to control this behavior.\n",
            "  _warn_prf(average, modifier, msg_start, len(result))\n"
          ]
        },
        {
          "output_type": "stream",
          "name": "stdout",
          "text": [
            "오차행렬:\n",
            " [[ 329 1304]\n",
            " [  62 1305]]\n",
            "\n",
            "정확도:: 0.5447\n",
            "정밀도: 0.5002\n",
            "재현율: 0.9546\n",
            "F1: 0.6564\n",
            "AUC: 0.5781\n",
            "              precision    recall  f1-score   support\n",
            "\n",
            "         0.0       0.84      0.20      0.33      1633\n",
            "         1.0       0.50      0.95      0.66      1367\n",
            "\n",
            "    accuracy                           0.54      3000\n",
            "   macro avg       0.67      0.58      0.49      3000\n",
            "weighted avg       0.69      0.54      0.48      3000\n",
            "\n",
            "0.2\n",
            "오차행렬:\n",
            " [[ 975  658]\n",
            " [ 291 1076]]\n",
            "\n",
            "정확도:: 0.6837\n",
            "정밀도: 0.6205\n",
            "재현율: 0.7871\n",
            "F1: 0.6940\n",
            "AUC: 0.6921\n",
            "              precision    recall  f1-score   support\n",
            "\n",
            "         0.0       0.77      0.60      0.67      1633\n",
            "         1.0       0.62      0.79      0.69      1367\n",
            "\n",
            "    accuracy                           0.68      3000\n",
            "   macro avg       0.70      0.69      0.68      3000\n",
            "weighted avg       0.70      0.68      0.68      3000\n",
            "\n",
            "0.3\n",
            "오차행렬:\n",
            " [[1317  316]\n",
            " [ 495  872]]\n",
            "\n",
            "정확도:: 0.7297\n",
            "정밀도: 0.7340\n",
            "재현율: 0.6379\n",
            "F1: 0.6826\n",
            "AUC: 0.7222\n",
            "              precision    recall  f1-score   support\n",
            "\n",
            "         0.0       0.73      0.81      0.76      1633\n",
            "         1.0       0.73      0.64      0.68      1367\n",
            "\n",
            "    accuracy                           0.73      3000\n",
            "   macro avg       0.73      0.72      0.72      3000\n",
            "weighted avg       0.73      0.73      0.73      3000\n",
            "\n",
            "0.4\n",
            "오차행렬:\n",
            " [[1448  185]\n",
            " [ 635  732]]\n",
            "\n",
            "정확도:: 0.7267\n",
            "정밀도: 0.7983\n",
            "재현율: 0.5355\n",
            "F1: 0.6410\n",
            "AUC: 0.7111\n",
            "              precision    recall  f1-score   support\n",
            "\n",
            "         0.0       0.70      0.89      0.78      1633\n",
            "         1.0       0.80      0.54      0.64      1367\n",
            "\n",
            "    accuracy                           0.73      3000\n",
            "   macro avg       0.75      0.71      0.71      3000\n",
            "weighted avg       0.74      0.73      0.72      3000\n",
            "\n",
            "0.5\n",
            "오차행렬:\n",
            " [[1531  102]\n",
            " [ 743  624]]\n",
            "\n",
            "정확도:: 0.7183\n",
            "정밀도: 0.8595\n",
            "재현율: 0.4565\n",
            "F1: 0.5963\n",
            "AUC: 0.6970\n",
            "              precision    recall  f1-score   support\n",
            "\n",
            "         0.0       0.67      0.94      0.78      1633\n",
            "         1.0       0.86      0.46      0.60      1367\n",
            "\n",
            "    accuracy                           0.72      3000\n",
            "   macro avg       0.77      0.70      0.69      3000\n",
            "weighted avg       0.76      0.72      0.70      3000\n",
            "\n",
            "0.6\n",
            "오차행렬:\n",
            " [[1566   67]\n",
            " [ 841  526]]\n",
            "\n",
            "정확도:: 0.6973\n",
            "정밀도: 0.8870\n",
            "재현율: 0.3848\n",
            "F1: 0.5367\n",
            "AUC: 0.6719\n",
            "              precision    recall  f1-score   support\n",
            "\n",
            "         0.0       0.65      0.96      0.78      1633\n",
            "         1.0       0.89      0.38      0.54      1367\n",
            "\n",
            "    accuracy                           0.70      3000\n",
            "   macro avg       0.77      0.67      0.66      3000\n",
            "weighted avg       0.76      0.70      0.67      3000\n",
            "\n",
            "0.7\n",
            "오차행렬:\n",
            " [[1587   46]\n",
            " [ 925  442]]\n",
            "\n",
            "정확도:: 0.6763\n",
            "정밀도: 0.9057\n",
            "재현율: 0.3233\n",
            "F1: 0.4765\n",
            "AUC: 0.6476\n",
            "              precision    recall  f1-score   support\n",
            "\n",
            "         0.0       0.63      0.97      0.77      1633\n",
            "         1.0       0.91      0.32      0.48      1367\n",
            "\n",
            "    accuracy                           0.68      3000\n",
            "   macro avg       0.77      0.65      0.62      3000\n",
            "weighted avg       0.76      0.68      0.63      3000\n",
            "\n",
            "0.8\n",
            "오차행렬:\n",
            " [[1604   29]\n",
            " [1005  362]]\n",
            "\n",
            "정확도:: 0.6553\n",
            "정밀도: 0.9258\n",
            "재현율: 0.2648\n",
            "F1: 0.4118\n",
            "AUC: 0.6235\n",
            "              precision    recall  f1-score   support\n",
            "\n",
            "         0.0       0.61      0.98      0.76      1633\n",
            "         1.0       0.93      0.26      0.41      1367\n",
            "\n",
            "    accuracy                           0.66      3000\n",
            "   macro avg       0.77      0.62      0.58      3000\n",
            "weighted avg       0.76      0.66      0.60      3000\n",
            "\n"
          ]
        }
      ]
    },
    {
      "cell_type": "code",
      "source": [
        ""
      ],
      "metadata": {
        "id": "UfhUI2Erqzp6"
      },
      "execution_count": null,
      "outputs": []
    }
  ]
}