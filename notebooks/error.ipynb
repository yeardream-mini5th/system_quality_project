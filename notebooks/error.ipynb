{
 "cells": [
  {
   "cell_type": "markdown",
   "id": "1abb8cda-a8b3-4664-9f4c-63411d5d7469",
   "metadata": {},
   "source": [
    "   - 학습 데이터 (user_id : 10000 ~ 24999, 15000명)\n",
    "\n",
    "\n",
    "\t\t\t- train_err_data.csv : 시스템에 발생한 에러 로그\n",
    "\n",
    "\t\t\t- train_quality_data.csv : 시스템 퀄리티 로그\n",
    "\n",
    "\t\t\t- train_problem_data.csv : 사용자 불만 및 불만이 접수된 시간\n",
    "\n",
    "\n",
    "   - 테스트 데이터(user_id : 30000 ~ 44998, 14999명)\n",
    "\n",
    "\n",
    "\t\t\t- test_err_data.csv : 시스템에 발생한 에러 로그\n",
    "\n",
    "\t\t\t- test_quality_data.csv : 시스템 퀄리티 로그\n",
    "\n",
    "\t\t\t- sample_submission.csv : 사용자 불만 확률(0~1) (제출용)"
   ]
  },
  {
   "cell_type": "markdown",
   "id": "72bcae7e-9280-4035-a676-121321a8b662",
   "metadata": {
    "tags": []
   },
   "source": [
    "## 사용할 Module & Data 불러오기 "
   ]
  },
  {
   "cell_type": "code",
   "execution_count": 1,
   "id": "73c297c9-42c2-4173-84d4-892afef240b8",
   "metadata": {},
   "outputs": [],
   "source": [
    "import pandas as pd\n",
    "import numpy as np\n",
    "import datetime as dt\n",
    "import matplotlib.pyplot as plt\n",
    "from tqdm import tqdm\n",
    "import gc\n",
    "import random\n",
    "import lightgbm as lgb\n",
    "import re\n",
    "import seaborn as sns\n",
    "from sklearn.metrics import *\n",
    "from sklearn.model_selection import KFold\n",
    "import missingno as msno\n",
    "import warnings\n",
    "warnings.filterwarnings(action='ignore')"
   ]
  },
  {
   "cell_type": "code",
   "execution_count": 15,
   "id": "ead4ae8c-e088-4a43-968f-4424a71ab4e1",
   "metadata": {},
   "outputs": [],
   "source": [
    "PATH = '../data/'\n",
    "train_err =pd.read_csv('../data/train_err.csv')\n",
    "train_problem =pd.read_csv('../data/train_problem.csv')\n",
    "train_quality =pd.read_csv('../data/train_quality.csv')\n",
    "test_err = pd.read_csv('../data/test_err.csv')\n",
    "test_quality = pd.read_csv('../data/test_quality.csv')\n",
    "\n",
    "\n",
    "# err data 는 user_id 15000 명의 대한것이다"
   ]
  },
  {
   "cell_type": "markdown",
   "id": "2988eab7-2a77-4db3-be89-dc9793e11b65",
   "metadata": {
    "tags": []
   },
   "source": [
    "### time datetime으로 바꾸기"
   ]
  },
  {
   "cell_type": "code",
   "execution_count": 3,
   "id": "22652e26-7e19-411e-a342-f522e72a1da1",
   "metadata": {},
   "outputs": [],
   "source": [
    "# time 을 datetime 타입으로 바꾸고 바뀐지 확인\n",
    "# train_err.info()\n",
    "# test_err.info()\n",
    "# test_quality.info()\n",
    "# train_quality.info()\n",
    "# train_problem.info()\n",
    "# train_problem.time = train_problem.time.map(make_datetime)\n",
    "# train_quality.time = train_quality.time.map(make_datetime)\n",
    "# test_quality.time = test_quality.time.map(make_datetime)"
   ]
  },
  {
   "cell_type": "code",
   "execution_count": 14,
   "id": "07386882-d492-4aa2-a952-b102f60821ee",
   "metadata": {},
   "outputs": [],
   "source": [
    "# 바꾼 csv 저장\n",
    "\n",
    "# train_quality.to_csv('../data/train_quality.csv')\n",
    "# train_problem.to_csv('../data/train_problem.csv')\n",
    "# test_quality.to_csv('../data/test_quality.csv')\n"
   ]
  },
  {
   "cell_type": "code",
   "execution_count": 16,
   "id": "7b08bc09-8970-4c4a-ac8b-b62f8147a94c",
   "metadata": {},
   "outputs": [],
   "source": [
    "# time 을 datetime 타입으로 바꾸고 바뀐지 확인\n",
    "train_quality.time = pd.to_datetime(train_quality.time)\n",
    "test_err.time = pd.to_datetime(test_err.time)\n",
    "train_problem.time = pd.to_datetime( train_problem.time)\n",
    "train_err.time = pd.to_datetime(train_err.time)\n",
    "test_quality.time = pd.to_datetime(test_quality.time)\n"
   ]
  },
  {
   "cell_type": "code",
   "execution_count": 17,
   "id": "55cd4682-267f-47fd-99f0-c8d87cec7529",
   "metadata": {},
   "outputs": [],
   "source": [
    "# pd.to_datetime(train_err_df.time)\n",
    "# pd.set_option('display.max_rows)\n",
    "# pandas display 할때 보여주는 최대 로우수와 컬럼수 지정  \n",
    "pd.options.display.max_rows = 70\n",
    "pd.options.display.max_columns = 30"
   ]
  },
  {
   "cell_type": "code",
   "execution_count": null,
   "id": "4f803652-c83e-4d69-8c31-7ca4b0c1761d",
   "metadata": {},
   "outputs": [],
   "source": [
    "def make_datetime(x):\n",
    "    x = str(x)\n",
    "    year = int(x[:4])\n",
    "    month = int(x[4:6])\n",
    "    day = int(x[6:8])\n",
    "    hour = int(x[8:10])\n",
    "    mim = int(x[10:12])\n",
    "    sec = int(x[12:])\n",
    "    return dt.datetime(year,month,day,hour,mim,sec)\n",
    "# make_datetime(20201101025616)\n",
    "# train_err_df['time']= train_err_df.time.map(make_datetime)"
   ]
  },
  {
   "cell_type": "code",
   "execution_count": null,
   "id": "814b8696-16ee-47c1-8da9-13e2f431655a",
   "metadata": {},
   "outputs": [],
   "source": [
    "dt.MINYEAR\n",
    "dt.MAXYEAR\n"
   ]
  },
  {
   "cell_type": "markdown",
   "id": "5e559463-5f78-4fca-870e-8dbea0485c05",
   "metadata": {
    "tags": []
   },
   "source": [
    "## EDA"
   ]
  },
  {
   "cell_type": "markdown",
   "id": "27d54052-4cab-4143-91d7-efcbc1a93c25",
   "metadata": {
    "jp-MarkdownHeadingCollapsed": true,
    "tags": []
   },
   "source": [
    "- 불만접수를 err 데이터의 있는 모든 유저 가 불만접수를 했는지 확인"
   ]
  },
  {
   "cell_type": "code",
   "execution_count": null,
   "id": "a28cf480-62a2-4ecb-892b-ee5596ccc6a7",
   "metadata": {},
   "outputs": [],
   "source": [
    "train_err_df.user_id.value_counts()\n",
    "train_problem_df.user_id.value_counts()\n",
    "train_quality_df.user_id.value_counts()\n",
    "#quality user_id 8281\n",
    "#problem user_id 5000\n",
    "#err user_id     15000\n",
    "#에러가 발생한 모든 유저가 불만 접수를 한것이 아님\n",
    "# 그러면 특정 유저"
   ]
  },
  {
   "cell_type": "markdown",
   "id": "fe97898e-e195-4df1-8829-34af3191751d",
   "metadata": {
    "jp-MarkdownHeadingCollapsed": true,
    "tags": []
   },
   "source": [
    "### 0609 한것"
   ]
  },
  {
   "cell_type": "code",
   "execution_count": null,
   "id": "9f54c7ac-98e4-4159-a065-4e727f26b792",
   "metadata": {},
   "outputs": [],
   "source": []
  },
  {
   "cell_type": "code",
   "execution_count": null,
   "id": "583ff7b0-8d26-42fa-8bfa-2660ec8d83de",
   "metadata": {},
   "outputs": [],
   "source": [
    "train_quality_df.info() \n",
    "train_problem_df.info()\n",
    "train_err_df.info()"
   ]
  },
  {
   "cell_type": "code",
   "execution_count": null,
   "id": "6e3fef2a-117c-4dab-b62a-25d3f4a12022",
   "metadata": {
    "tags": []
   },
   "outputs": [],
   "source": [
    "null_columns = train_quality_df.columns[train_quality_df.isnull().sum() > 0].to_list()\n",
    "# 이거 왜 되지 ;; 여러개 의 행의 빈값 있는 것만 찾으려했는데 조건식 만들기가 힘드네 \n",
    "for column in null_columns:\n",
    "    display(train_quality_df[train_quality_df[column].isnull()])"
   ]
  },
  {
   "cell_type": "code",
   "execution_count": null,
   "id": "7511df59-6519-4715-82e6-f82bf0187727",
   "metadata": {},
   "outputs": [],
   "source": [
    "train_err_df.set_index(['user_id','errtype','model_nm']).loc[10000,'errcode']"
   ]
  },
  {
   "cell_type": "code",
   "execution_count": null,
   "id": "0264fc62-d0d2-4d0c-af33-5a8a814783cc",
   "metadata": {},
   "outputs": [],
   "source": [
    "np.sort(train_err_df.errtype.unique())\n",
    "# 29제외 1부터 42까지 41가지 존재한다."
   ]
  },
  {
   "cell_type": "code",
   "execution_count": null,
   "id": "6fe0d9ed-6271-4985-94e5-1bfda7338c79",
   "metadata": {},
   "outputs": [],
   "source": [
    "id_error = train_err_df[['user_id','errtype']].values\n",
    "id_error"
   ]
  },
  {
   "cell_type": "code",
   "execution_count": null,
   "id": "ac81a794-e1c9-472d-9c14-1ebe11f29c06",
   "metadata": {},
   "outputs": [],
   "source": [
    "sns.heatmap(train_err_df.isnull(), cbar=False)"
   ]
  },
  {
   "cell_type": "code",
   "execution_count": null,
   "id": "ebe4ee23-5400-4192-a950-78488719d04b",
   "metadata": {},
   "outputs": [],
   "source": [
    "msno.matrix(train_err_df)"
   ]
  },
  {
   "cell_type": "code",
   "execution_count": null,
   "id": "cf891dc7-5d06-4eff-a0ff-6a9a261fd272",
   "metadata": {},
   "outputs": [],
   "source": [
    "train_quality_df[train_quality_df.user_id == 10693]"
   ]
  },
  {
   "cell_type": "code",
   "execution_count": null,
   "id": "4dad4043-7951-40f6-82d1-21087f06d914",
   "metadata": {},
   "outputs": [],
   "source": [
    "train_err_df[train_err_df.user_id == 10693]\n",
    "# user_id 10693 은 model_6 만 사용했는지는 모르지만 error 이것만떳어 fwver 이 10 이라고 error 데이터에서는 보이는 그러면\n",
    "# error 가 발생하고 quality 를 2시간동안 10분마다 수집하니까  근데 보면 20일에 발생한 에러는 없어 에러를 거의 2 분 3분마다 발생시키는데 \n",
    "# 무슨 에러인지 모르겠네 어차피 이건 model_6 fwver 10에 대한 에러들이야"
   ]
  },
  {
   "cell_type": "code",
   "execution_count": null,
   "id": "b988d1cd-6a4e-43c2-be6a-45854163121b",
   "metadata": {},
   "outputs": [],
   "source": [
    "%%time\n",
    "# quailty 에서 fwver 가 nan인게 뭐뭐가 있는지 fwver 가 빈것들은 다 퀄리티 0 과 2가 비어있는지 봐보자\n",
    "train_quality_df.loc[train_quality_df.fwver.isnull(),['quality_0','quality_2']].notnull().sum()\n",
    "# 다 비어 있다 그러면 모델이 같은지 한번 봐보자\n",
    "null_qual_0_1 = train_quality_df.loc[train_quality_df.fwver.isnull(),'user_id'].unique() # 개수는 59개\n",
    "\n",
    "def isin_null_0_1(x):\n",
    "    if x in null_qual_0_1:\n",
    "        return True\n",
    "    else:\n",
    "        return False\n",
    "null_0_1 = train_err_df[train_err_df.user_id.map(isin_null_0_1)]\n",
    "'''\n",
    "model_6    1639\n",
    "model_0    1630\n",
    "model_2     783\n",
    "model_3      43\n",
    "'''\n",
    "null_0_1[null_0_1.model_nm == \"model_6\"].fwver.value_counts()\n",
    "#array(['model_6', 'model_3', 'model_0', 'model_2'], dtype=object)"
   ]
  },
  {
   "cell_type": "code",
   "execution_count": null,
   "id": "98ecee83-2fe2-4b2b-9144-c40c07739138",
   "metadata": {},
   "outputs": [],
   "source": [
    "# model 종류가 몇가지나 있나 한번 봐보자 \n",
    "train_err_df.model_nm.value_counts()\n",
    "# 빈것들의 에러코드는 같은지 or model 이 같은지 \n",
    "# 퀄리티 별 숫자가 같은지 로봐보자 "
   ]
  },
  {
   "cell_type": "code",
   "execution_count": null,
   "id": "9f2c30af-9ea7-4719-a7a1-1efba142a84c",
   "metadata": {},
   "outputs": [],
   "source": [
    "train_quality_df[train_quality_df.columns[3:]].iloc[:,0].value_counts(normalize=True)"
   ]
  },
  {
   "cell_type": "code",
   "execution_count": null,
   "id": "200468a3-3122-47af-ad7b-69b5b5b3cd36",
   "metadata": {},
   "outputs": [],
   "source": [
    "# null_0_1.errtype.value_counts()\n",
    "# model_nm 과 error 타입을 연결시키는건 좀 힘들고\n",
    "# user_id 별로 무슨 error type 이나 error code에 대한 불만을 많이 썻는지\n",
    "# 그 에러들의 퀄리티 점수 분포는 어떻게 되는지 로 보면 될거같은데\n",
    "# 결측 치 채우기는 다음에 위에꺼 부터\n",
    "plt.figure(figsize =(10,5))\n",
    "train_problem_df.user_id.value_counts().hist()\n",
    "# plt.ylim(0,100)\n",
    "plt.show()\n",
    "# 대부분 의 고객이 불만은 한번 표시 했다"
   ]
  },
  {
   "cell_type": "markdown",
   "id": "79d2814a-10c9-4eab-9171-8c5fa6de1412",
   "metadata": {
    "jp-MarkdownHeadingCollapsed": true,
    "tags": []
   },
   "source": [
    "### 0610"
   ]
  },
  {
   "cell_type": "code",
   "execution_count": null,
   "id": "d84b9024-2142-4246-b0ad-d9bdaff865f9",
   "metadata": {},
   "outputs": [],
   "source": [
    "train_err.info()\n",
    "train_problem_df.info()\n",
    "train_quality_df.info()"
   ]
  },
  {
   "cell_type": "code",
   "execution_count": null,
   "id": "60407342-69c1-4f39-b6cf-f57792005a8e",
   "metadata": {},
   "outputs": [],
   "source": [
    "#중복값 확인해서 똑같은걸 처리해준다\n",
    "#왜냐 왜냐 음 왜일까 수학적으로 가중치를 더주게 될거라는 느낌은 무엇을 보고 느낀걸까 아마 그럴거라고 듣기만해서 일텐데 \n",
    "#오차를 구하는 방식에서 똑같은 것만 있다면 우린 loss를 줄이는 방식인가 ? lgbm 이 어떤식으로 작동했던건지 기억이 안나서 잘안돼네\n",
    "\n",
    "# train_err_df # 16553663row\n",
    "# train_err= train_err_df.drop_duplicates(keep= 'last', ignore_index = True)\n",
    "# train_problem_df.duplicated().sum()# 중복값 불만접수 데이터에는 없고\n",
    "\n",
    "# 어 그러면 2시간 동안 한번씩 찍힌다고 했는데 한번만 찍힌것도 있나\n",
    "# train_quality_df[train_quality_df.time.duplicated(keep=False)]\n",
    "# 확인 결과 없고 당연하네\n",
    "\n",
    "# dup_user = train_quality_df.loc[:,'user_id'].unique()\n",
    "# dup_user # 처음 중복되는 값을 여기도 확인하려했었는데 반복된다고했고 time 을 에러가 뜬순간으로 처리해놔서 구별이 되게했구나 아아아아아 분 초를 없앴어\n",
    "# 분초를 진짜 없앴는지 봐보자\n",
    "#train_err # 일단 에러는 시분초 다 세세히 적혀있어\n",
    "\n",
    "# train_quality_df.time.map(lambda x: x.minute).value_counts()\n",
    "# quality는\n",
    "'''\n",
    "20    151224\n",
    "0     145920\n",
    "10    140652\n",
    "30    133896\n",
    "50    131316\n",
    "40    125616\n",
    "'''\n",
    "# train_quality_df.time.map(lambda x: x.second).value_counts()\n",
    "#0    828624 초는 다없애고 분은 10분 단위에 맞춰서 한거같다 하나하나 비교해야되는데 능력부족\n",
    "\n",
    "# train_quality_df[train_quality_df['user_id'] ==dup_user[2]]\n",
    "# 이건 에러가 뜨고 quality_0~12 가 점수가 같은지 같은에러에는 같은지 봐볼라고했다 \n",
    "# 에러가 같은건 같은 시간대에 같은 user_id fwver 으로 같은 에러라고 판단했고\n",
    "# 거의 같은 양상을 보이지만 완전히 같지 않기에 항상 quality가 똑같다고 볼수없다 에러가 안떳는데도 퀄리티가 찍히는 데이터는 아닌거같은데 확인은 해봐야겠고\n",
    "\n",
    "\n",
    "\n",
    "\n",
    "\n",
    "\n",
    "# 품질 이 양수와 음수를 보고 품질이 음수일때 불만 접수를 하는지 \n",
    "# 아 근데 에러가 떳을때 quality log 를 찍는단 말이야 그러면 그래도 의미 있을거같애\n",
    "# 모델이 뭔지를 안다면 안찍히는것은 기능 유추를 해볼수 있을텐데 그것도 모르겠고\n",
    "# LG 는 가전제품 생산하는 회사야 그러면 log 를 찍을수있는건가 ? 당연한건가 품질로그를?\n",
    "\n",
    "# 불만을 표한 error 가 무엇일까 그걸 찾고 그 순간에 퀄리티 점수 는 ? ㅇㅋ 이걸로 간다 \n",
    "# merge_df = pd.merge(train_problem_df,train_err , on = 'user_id')\n",
    "# merge_df[merge_df['user_id'] == 19224][:100]\n",
    "# 19224 \t2020-11-02 20:00:00\n",
    "\n",
    "# outlier 여부 확인도 해야겠네\n",
    "# quality 유저별 펌웨어별 그리고 시간별 평균 합  분산 ? ㅇ\n",
    "train_err.to_csv('train_err.csv' , index = False)"
   ]
  },
  {
   "cell_type": "code",
   "execution_count": null,
   "id": "e0fba57c-d766-40c9-ba7e-41f2ce11dafb",
   "metadata": {},
   "outputs": [],
   "source": [
    "train_errtype = np.sort(train_err.errtype.unique())\n",
    "train_errtype\n",
    "test_errtype = np.sort(test_err.errtype.unique())\n",
    "test_errtype == train_errtype"
   ]
  },
  {
   "cell_type": "code",
   "execution_count": null,
   "id": "9b45ed21-f4d6-4293-b0e6-9205d9e5dea3",
   "metadata": {},
   "outputs": [],
   "source": [
    "train_user_id_max= 14999\n",
    "train_user_id_min= 10000\n",
    "train_user_id_num= 15000\n",
    "\n",
    "labels = np.zeros(train_user_id_num)\n",
    "# print(labels.dtype)\n",
    "labels[train_problem_df.user_id.unique()-10000] = 1\n",
    "labels = labels.astype('int16')\n",
    "\n",
    "def labeling(x):\n",
    "    return labels[x -10000]\n",
    "\n",
    "train_err['problem'] = train_err.user_id.map(labeling)\n",
    "train_err\n",
    "train_quality_df['problem']= train_quality_df.user_id.map(labeling)\n",
    "train_quality_df\n",
    "# 각 user_id 보고 거기다 라벨 붙이기 "
   ]
  },
  {
   "cell_type": "code",
   "execution_count": null,
   "id": "bee23854-88a3-4242-8680-1c7b66124a75",
   "metadata": {},
   "outputs": [],
   "source": [
    "# re_number = re.compile(\"\\d\")\n",
    "# re_number.search('6a')\n",
    "# 확실히 에러 가 뜬다고 다 적은게 아니다 결측값이 있다 \n",
    "# 없어 불리 할수밖에없다 \n",
    "# 합쳐져 사용하고싶다 빈게 많을것이다 맞냐 틀리냐 \n",
    "# 빈것을 어떻게 합쳐서 쓰냐 하면\n",
    "# train Err 랑 problem 만쓴거 보다 성능이 안좋다 그러면 \n",
    "# 여러개 시간별로 다양한 데이터가 있다 그러면 어떻게 사용할것이냐 ?\n",
    "# 이데이터에 대해서 얼마나 이해하고있는지 고민해보고 \n",
    "# 왜 이문제를 선택했는지 \n",
    "# 시간 차이 테스트 랑 트레인 \n",
    "# 시간차이를 봐봐야돼 퀄리티랑 에러도 보고 그렇게 다봐봐야돼\n",
    "# 원하는 데이터 타입의 컬럼만 뽑기\n",
    "# train_quality_df.select_dtypes('object')\n",
    "\n",
    "fig, axs = plt.subplots(1,3, figsize = (21,7))\n",
    "\n",
    "sns.heatmap(train_err.corr(), ax= axs[0], annot = True)\n",
    "sns.heatmap(train_problem_df.corr(), ax= axs[1], annot = True)\n",
    "sns.heatmap(train_quality_df.corr(), ax= axs[2], annot = True)"
   ]
  },
  {
   "cell_type": "code",
   "execution_count": null,
   "id": "d5535c1d-c94f-4ff6-8944-027cadb5df94",
   "metadata": {},
   "outputs": [],
   "source": [
    "train_quality_df.corr().iloc[:,2:]\n",
    "# 영향을 끼친다를 어떻게 판단하는지 영향이 있다 느껴지면 그걸 어떻게 활용하는지 모르겠다\n",
    "train_quality_df.describe()\n",
    "train_quality_df.info()"
   ]
  },
  {
   "cell_type": "code",
   "execution_count": null,
   "id": "85b0ed0d-a7f6-420c-ade9-d29af67b960c",
   "metadata": {},
   "outputs": [],
   "source": [
    "# train_quality_df['quality_5'].apply(lambda x :  0 if type(x) != str and math.isnan(x)   else int(x.replace(',','')) )\n",
    "# train_quality_df[train_quality_df.iloc[:,8].isna()]\n",
    "# type(train_quality_df.loc[58907].loc['quality_5'])\n",
    "train_quality_df.select_dtypes('object').iloc[:,2].apply(lambda x :  0 if (type(x) != str and math.isnan(x)) int(x.replace(',','')) elif type(x) == str else x)"
   ]
  },
  {
   "cell_type": "code",
   "execution_count": null,
   "id": "1c2f7aca-c059-48dd-8746-b4b5437dbd62",
   "metadata": {},
   "outputs": [],
   "source": [
    "import math\n",
    "import numpy as np"
   ]
  },
  {
   "cell_type": "code",
   "execution_count": null,
   "id": "66f548ac-a407-428a-aee2-d2599ce317b5",
   "metadata": {},
   "outputs": [],
   "source": [
    "# %%time\n",
    "\n",
    "# b = math.nan\n",
    "# print(np.isnan(b))\n",
    "\n",
    "# a = np.nan\n",
    "# print(np.isnan(a))\n",
    "\n",
    "# (lambda x : 0.0 if math.isnan(x) else x)(train_quality_df.loc[58907].loc['quality_5'])\n",
    "# train_quality_df.loc[58907].loc['quality_5']\n",
    "type('str') == str"
   ]
  },
  {
   "cell_type": "code",
   "execution_count": null,
   "id": "adcba693-bb6a-4f35-9e16-2bca4fb6a68e",
   "metadata": {},
   "outputs": [],
   "source": [
    "%%time\n",
    "\n",
    "b = math.nan\n",
    "print(math.isnan(b))\n",
    "\n",
    "a = np.nan\n",
    "print(math.isnan(0.1))\n",
    "\n"
   ]
  },
  {
   "cell_type": "code",
   "execution_count": null,
   "id": "374fd9aa-00b4-4801-9523-350c6fc34c79",
   "metadata": {},
   "outputs": [],
   "source": []
  },
  {
   "cell_type": "markdown",
   "id": "b0ecac75-a0e4-40d8-8946-faaacab3be93",
   "metadata": {
    "tags": []
   },
   "source": [
    "## Data Preprocessing"
   ]
  },
  {
   "cell_type": "markdown",
   "id": "debbe5d1-91b3-49c4-9499-01055482c869",
   "metadata": {},
   "source": [
    "### 초기 Errtype만을 이용하여 데이터를 학습시키기는 것으로 시작\n",
    "- label 은 problem set 이 불만 접수를 한 유저 이다\n",
    "  시계열 데이터인 이 데이터에서 시간 에 대한 활용은 아직 못하였기때문에 시간은 사용하지않음\n",
    "  그러므로 problem 의 존재하는 user_id 불만접수 유저 label = 1로 지정 나머지는 0 \n",
    "\n",
    "- user_id 별로 errtype 별 발생 횟수만을 학습 데이터로 전처리하여 학습시킨다"
   ]
  },
  {
   "cell_type": "code",
   "execution_count": 18,
   "id": "5623141c-4348-4de3-afac-6d300caff240",
   "metadata": {},
   "outputs": [],
   "source": [
    "# train_err_data 의 유저 아이디는 15000명이고 10000~24999이기 때문에\n",
    "# 더 연산이 빠르게 ndarray를 새로만들어서 0을 user_id 10000으로 해서 레이블을 붙인다\n",
    "def make_label(df):\n",
    "    problem = np.zeros(15000)\n",
    "    problem[df.user_id -10000] = 1\n",
    "    return problem\n",
    "# np.zeros(15000)\n",
    "# train_problem[train_problem.user_id==10001]\n",
    "\n",
    "problem = make_label(train_problem)\n",
    "train_y = problem"
   ]
  },
  {
   "cell_type": "code",
   "execution_count": 19,
   "id": "3101c747-0ec7-4fc3-9735-f667762653d9",
   "metadata": {},
   "outputs": [
    {
     "name": "stderr",
     "output_type": "stream",
     "text": [
      "100%|███████████████████████████| 15368002/15368002 [00:23<00:00, 661353.41it/s]\n"
     ]
    },
    {
     "data": {
      "text/plain": [
       "(array([[  0.,   0.,   8., ...,   0.,   0.,   0.],\n",
       "        [  0.,   0.,   0., ..., 113.,  56.,   1.],\n",
       "        [  0.,   0.,   2., ...,   0.,   0.,   0.],\n",
       "        ...,\n",
       "        [  0.,   0.,   0., ...,  58.,   7.,   5.],\n",
       "        [  0.,   0.,   0., ...,   6.,   0.,   0.],\n",
       "        [  0.,   0.,   4., ...,   0.,   0.,   0.]]),\n",
       " array([[  0.,   0.,   8., ...,   0.,   0.,   0.],\n",
       "        [  0.,   0.,   0., ..., 113.,  56.,   1.],\n",
       "        [  0.,   0.,   2., ...,   0.,   0.,   0.],\n",
       "        ...,\n",
       "        [  0.,   0.,   0., ...,  58.,   7.,   5.],\n",
       "        [  0.,   0.,   0., ...,   6.,   0.,   0.],\n",
       "        [  0.,   0.,   4., ...,   0.,   0.,   0.]]))"
      ]
     },
     "execution_count": 19,
     "metadata": {},
     "output_type": "execute_result"
    }
   ],
   "source": [
    "# len(np.sort(train_err.errtype.unique())) # 이전 EDA에서도 봤지만 1~42 중 29가 빠진 41개의 errtype이 있다\n",
    "user_errtype = np.zeros((15000,41))\n",
    "user_errtype2= np.zeros((15000,42))\n",
    "# user_errtype.shape\n",
    "\n",
    "for user_id , type_num in tqdm(train_err[['user_id','errtype']].values):\n",
    "    if type_num > 28:\n",
    "        user_errtype[user_id-10000,type_num-2] += 1\n",
    "    else:\n",
    "        user_errtype[user_id-10000,type_num-1] += 1\n",
    "    user_errtype2[user_id-10000,type_num-1] += 1\n",
    "user_errtype , user_errtype2\n",
    "# train_err[['user_id','errtype']].values\n",
    "# user_errtype[10000-10000,30-2] += 1\n",
    "# user_errtype[0,29]\n"
   ]
  },
  {
   "cell_type": "code",
   "execution_count": null,
   "id": "2faff78a-8e62-42cb-aa24-d74d83f4d096",
   "metadata": {},
   "outputs": [],
   "source": [
    "# print(user_errtype2[0,2].sum())\n",
    "# train_err[(train_err.errtype == 3) & (train_err.user_id == 10000)]\n",
    "train_x = user_errtype2\n",
    "print(train_x.shape)\n",
    "print(train_y.shape)"
   ]
  },
  {
   "cell_type": "code",
   "execution_count": 22,
   "id": "1e8d18a7-89b9-4f23-b272-7862f4aaa6ef",
   "metadata": {},
   "outputs": [
    {
     "data": {
      "text/html": [
       "<div>\n",
       "<style scoped>\n",
       "    .dataframe tbody tr th:only-of-type {\n",
       "        vertical-align: middle;\n",
       "    }\n",
       "\n",
       "    .dataframe tbody tr th {\n",
       "        vertical-align: top;\n",
       "    }\n",
       "\n",
       "    .dataframe thead th {\n",
       "        text-align: right;\n",
       "    }\n",
       "</style>\n",
       "<table border=\"1\" class=\"dataframe\">\n",
       "  <thead>\n",
       "    <tr style=\"text-align: right;\">\n",
       "      <th></th>\n",
       "      <th>0</th>\n",
       "    </tr>\n",
       "  </thead>\n",
       "  <tbody>\n",
       "    <tr>\n",
       "      <th>0</th>\n",
       "      <td>0.0</td>\n",
       "    </tr>\n",
       "    <tr>\n",
       "      <th>1</th>\n",
       "      <td>1.0</td>\n",
       "    </tr>\n",
       "    <tr>\n",
       "      <th>2</th>\n",
       "      <td>0.0</td>\n",
       "    </tr>\n",
       "    <tr>\n",
       "      <th>3</th>\n",
       "      <td>0.0</td>\n",
       "    </tr>\n",
       "    <tr>\n",
       "      <th>4</th>\n",
       "      <td>1.0</td>\n",
       "    </tr>\n",
       "    <tr>\n",
       "      <th>...</th>\n",
       "      <td>...</td>\n",
       "    </tr>\n",
       "    <tr>\n",
       "      <th>14995</th>\n",
       "      <td>0.0</td>\n",
       "    </tr>\n",
       "    <tr>\n",
       "      <th>14996</th>\n",
       "      <td>0.0</td>\n",
       "    </tr>\n",
       "    <tr>\n",
       "      <th>14997</th>\n",
       "      <td>1.0</td>\n",
       "    </tr>\n",
       "    <tr>\n",
       "      <th>14998</th>\n",
       "      <td>1.0</td>\n",
       "    </tr>\n",
       "    <tr>\n",
       "      <th>14999</th>\n",
       "      <td>0.0</td>\n",
       "    </tr>\n",
       "  </tbody>\n",
       "</table>\n",
       "<p>15000 rows × 1 columns</p>\n",
       "</div>"
      ],
      "text/plain": [
       "         0\n",
       "0      0.0\n",
       "1      1.0\n",
       "2      0.0\n",
       "3      0.0\n",
       "4      1.0\n",
       "...    ...\n",
       "14995  0.0\n",
       "14996  0.0\n",
       "14997  1.0\n",
       "14998  1.0\n",
       "14999  0.0\n",
       "\n",
       "[15000 rows x 1 columns]"
      ]
     },
     "execution_count": 22,
     "metadata": {},
     "output_type": "execute_result"
    }
   ],
   "source": [
    "# train_data = pd.DataFrame(user_errtype2)\n",
    "# train_data2 = pd.DataFrame(user_errtype)\n",
    "# train_label = pd.Series(train_y)\n",
    "\n",
    "# train_data.to_csv('../data/train_data.csv', index= False)\n",
    "# train_data2.to_csv('../data/train_data2.csv', index= False)\n",
    "# train_label.to_csv('../data/label.csv', index= False)\n",
    "PATH = '../data/'\n",
    "train_x = pd.read_csv(PATH+'train_data.csv')\n",
    "train_y = pd.read_csv(PATH+'label.csv')\n",
    "train_y"
   ]
  },
  {
   "cell_type": "markdown",
   "id": "d5e9c5d3-0b08-4d91-b566-766ccbf8109b",
   "metadata": {
    "tags": []
   },
   "source": [
    "## Modeling & Training"
   ]
  },
  {
   "cell_type": "markdown",
   "id": "73447bfb-a5ef-4995-b1ed-aa68b30061d8",
   "metadata": {
    "jp-MarkdownHeadingCollapsed": true,
    "tags": []
   },
   "source": [
    "### LightBGM"
   ]
  },
  {
   "cell_type": "code",
   "execution_count": null,
   "id": "9caa38cd-fd52-420a-936f-c1462c310b17",
   "metadata": {},
   "outputs": [],
   "source": [
    "def f_pr_auc(probas_pred, y_true):\n",
    "    labels = y_true.get_label()\n",
    "    p ,r , _ = precision_recall_curve(labels, probas_pred)\n",
    "    score = auc(r,p)\n",
    "    return \"pr_auc\", score, True\n"
   ]
  },
  {
   "cell_type": "code",
   "execution_count": null,
   "id": "56bd4d3f-5e73-43f9-8546-3192dbf43854",
   "metadata": {},
   "outputs": [],
   "source": [
    "models = []\n",
    "recalls = []\n",
    "precisions = []\n",
    "auc_scores = []\n",
    "threshold = 0.5\n",
    "# parameter 설정\n",
    "params= {'boosting_type' : 'gbdt',\n",
    "         'objective' : 'binary',\n",
    "         'metric' : 'auc',\n",
    "         'seed':1015\n",
    "        }\n",
    "\n",
    "k_fold = KFold(n_splits=5, shuffle=True, random_state = 42)\n",
    "# 5 fold cross validation\n",
    "for train_idx, val_idx in k_fold.split(train_x):\n",
    "    \n",
    "    #split train, validation set\n",
    "    X = train_x[train_idx]\n",
    "    y = train_y[train_idx]\n",
    "    valid_x = train_x[val_idx]\n",
    "    valid_y = train_y[val_idx]\n",
    "    \n",
    "    d_train = lgb.Dataset(X,y)\n",
    "    d_val = lgb.Dataset(valid_x, valid_y)\n",
    "    \n",
    "    # run training\n",
    "    model = lgb.train(\n",
    "        params,\n",
    "        train_set = d_train , \n",
    "        num_boost_round = 1000, # num_trees 와 똑같이 보면된다\n",
    "        valid_sets = d_val, \n",
    "        feval = f_pr_auc,  #customized evaluation function\n",
    "        # verbose_eval = 20 ,\n",
    "        early_stopping_rounds = 3\n",
    "    )\n",
    "    \n",
    "    # cal valid prediction\n",
    "    \n",
    "    valid_prob = model.predict(valid_x)\n",
    "    valid_pred = np.where(valid_prob > threshold,1,0)\n",
    "    \n",
    "    # cal scores\n",
    "    \n",
    "    recall = recall_score( valid_y, valid_pred)\n",
    "    precision = precision_score(valid_y, valid_pred)\n",
    "    auc_score = roc_auc_score(valid_y, valid_prob)\n",
    "    \n",
    "    # append scores\n",
    "    models.append(model)\n",
    "    recalls.append(recall)\n",
    "    precisions.append(precision)\n",
    "    auc_scores.append(auc_score)\n",
    "    \n",
    "    print('='*38)"
   ]
  },
  {
   "cell_type": "code",
   "execution_count": null,
   "id": "068e6ee5-3aeb-4573-8ec8-f69458a267ce",
   "metadata": {},
   "outputs": [],
   "source": [
    "# def funcSample():\n",
    "#     print('sample')\n",
    "# callable(funcSample)\n"
   ]
  },
  {
   "cell_type": "markdown",
   "id": "5d31e22a-8747-4300-bd8a-50a0a7d59948",
   "metadata": {},
   "source": [
    "### Xgboost"
   ]
  },
  {
   "cell_type": "code",
   "execution_count": 26,
   "id": "bb6cf73b-88f6-477a-a89c-457eda4e17f5",
   "metadata": {},
   "outputs": [],
   "source": [
    "import xgboost as xgb\n",
    "from sklearn.model_selection import train_test_split"
   ]
  },
  {
   "cell_type": "code",
   "execution_count": 34,
   "id": "e7b53f3e-7da8-426b-b254-14824fa660dc",
   "metadata": {},
   "outputs": [
    {
     "data": {
      "text/plain": [
       "((4500, 42), (4500, 1))"
      ]
     },
     "execution_count": 34,
     "metadata": {},
     "output_type": "execute_result"
    }
   ],
   "source": [
    "X_train, X_val , y_train ,y_val = train_test_split(\n",
    "    train_x, train_y, test_size = 0.3 , random_state= 42)\n",
    "\n",
    "# xgb.DMatrix(train_x,train_y)\n",
    "X_train.shape , y_train.shape\n",
    "X_val.shape , y_val.shape"
   ]
  },
  {
   "cell_type": "code",
   "execution_count": 39,
   "id": "259071a0-800a-4057-b9b1-9dbb1566a1e3",
   "metadata": {},
   "outputs": [],
   "source": [
    "d_train = xgb.DMatrix(X_train,y_train)\n",
    "d_val = xgb.DMatrix(X_val, y_val)\n",
    "# xgb_model = xgb.XGBClassifier(silent=0)\n",
    "# print(xgb.XGBClassifier())"
   ]
  },
  {
   "cell_type": "code",
   "execution_count": 41,
   "id": "140b9fd7-53fc-41d7-ac1d-ad189a4a4e87",
   "metadata": {},
   "outputs": [
    {
     "name": "stdout",
     "output_type": "stream",
     "text": [
      "[17:10:35] WARNING: /Users/runner/miniforge3/conda-bld/xgboost-split_1645117899018/work/src/learner.cc:576: \n",
      "Parameters: { \"silent\" } might not be used.\n",
      "\n",
      "  This could be a false alarm, with some parameters getting used by language bindings but\n",
      "  then being mistakenly passed down to XGBoost core, or some parameter actually being used\n",
      "  but getting flagged wrongly here. Please open an issue if you find any such cases.\n",
      "\n",
      "\n",
      "[0]\ttrain-rmse:0.45174\teval-rmse:0.45495\n",
      "[1]\ttrain-rmse:0.42356\teval-rmse:0.42984\n",
      "[2]\ttrain-rmse:0.40669\teval-rmse:0.41593\n",
      "[3]\ttrain-rmse:0.39585\teval-rmse:0.40770\n",
      "[4]\ttrain-rmse:0.38874\teval-rmse:0.40346\n",
      "[5]\ttrain-rmse:0.38262\teval-rmse:0.40056\n",
      "[6]\ttrain-rmse:0.37889\teval-rmse:0.39918\n",
      "[7]\ttrain-rmse:0.37541\teval-rmse:0.39893\n",
      "[8]\ttrain-rmse:0.37186\teval-rmse:0.39940\n",
      "[9]\ttrain-rmse:0.36894\teval-rmse:0.39910\n",
      "[10]\ttrain-rmse:0.36681\teval-rmse:0.39859\n",
      "[11]\ttrain-rmse:0.36365\teval-rmse:0.39904\n",
      "[12]\ttrain-rmse:0.36236\teval-rmse:0.39906\n",
      "[13]\ttrain-rmse:0.36011\teval-rmse:0.39889\n",
      "[14]\ttrain-rmse:0.35885\teval-rmse:0.39893\n",
      "[15]\ttrain-rmse:0.35789\teval-rmse:0.39887\n",
      "[16]\ttrain-rmse:0.35503\teval-rmse:0.39892\n",
      "[17]\ttrain-rmse:0.35239\teval-rmse:0.39924\n",
      "[18]\ttrain-rmse:0.35036\teval-rmse:0.39955\n",
      "[19]\ttrain-rmse:0.34910\teval-rmse:0.39907\n",
      "[20]\ttrain-rmse:0.34822\teval-rmse:0.39932\n",
      "[21]\ttrain-rmse:0.34486\teval-rmse:0.39932\n",
      "[22]\ttrain-rmse:0.34290\teval-rmse:0.39944\n",
      "[23]\ttrain-rmse:0.34162\teval-rmse:0.39991\n",
      "[24]\ttrain-rmse:0.34035\teval-rmse:0.40013\n",
      "[25]\ttrain-rmse:0.33807\teval-rmse:0.40033\n",
      "[26]\ttrain-rmse:0.33743\teval-rmse:0.40010\n",
      "[27]\ttrain-rmse:0.33713\teval-rmse:0.40033\n",
      "[28]\ttrain-rmse:0.33580\teval-rmse:0.40064\n",
      "[29]\ttrain-rmse:0.33454\teval-rmse:0.40042\n",
      "[30]\ttrain-rmse:0.33281\teval-rmse:0.40070\n",
      "[31]\ttrain-rmse:0.33205\teval-rmse:0.40082\n",
      "[32]\ttrain-rmse:0.33048\teval-rmse:0.40120\n",
      "[33]\ttrain-rmse:0.32842\teval-rmse:0.40129\n",
      "[34]\ttrain-rmse:0.32752\teval-rmse:0.40170\n",
      "[35]\ttrain-rmse:0.32665\teval-rmse:0.40196\n",
      "[36]\ttrain-rmse:0.32466\teval-rmse:0.40224\n",
      "[37]\ttrain-rmse:0.32413\teval-rmse:0.40202\n",
      "[38]\ttrain-rmse:0.32211\teval-rmse:0.40232\n",
      "[39]\ttrain-rmse:0.32080\teval-rmse:0.40229\n",
      "[40]\ttrain-rmse:0.31837\teval-rmse:0.40245\n",
      "[41]\ttrain-rmse:0.31666\teval-rmse:0.40249\n",
      "[42]\ttrain-rmse:0.31605\teval-rmse:0.40229\n",
      "[43]\ttrain-rmse:0.31581\teval-rmse:0.40250\n",
      "[44]\ttrain-rmse:0.31394\teval-rmse:0.40303\n",
      "[45]\ttrain-rmse:0.31127\teval-rmse:0.40340\n",
      "[46]\ttrain-rmse:0.30947\teval-rmse:0.40340\n",
      "[47]\ttrain-rmse:0.30840\teval-rmse:0.40350\n",
      "[48]\ttrain-rmse:0.30791\teval-rmse:0.40357\n",
      "[49]\ttrain-rmse:0.30776\teval-rmse:0.40357\n",
      "[50]\ttrain-rmse:0.30661\teval-rmse:0.40363\n",
      "[51]\ttrain-rmse:0.30522\teval-rmse:0.40359\n",
      "[52]\ttrain-rmse:0.30379\teval-rmse:0.40399\n",
      "[53]\ttrain-rmse:0.30252\teval-rmse:0.40410\n",
      "[54]\ttrain-rmse:0.30179\teval-rmse:0.40430\n",
      "[55]\ttrain-rmse:0.30112\teval-rmse:0.40466\n",
      "[56]\ttrain-rmse:0.30091\teval-rmse:0.40472\n",
      "[57]\ttrain-rmse:0.30008\teval-rmse:0.40487\n",
      "[58]\ttrain-rmse:0.29955\teval-rmse:0.40504\n",
      "[59]\ttrain-rmse:0.29879\teval-rmse:0.40513\n",
      "[60]\ttrain-rmse:0.29863\teval-rmse:0.40522\n",
      "[61]\ttrain-rmse:0.29698\teval-rmse:0.40520\n",
      "[62]\ttrain-rmse:0.29586\teval-rmse:0.40534\n",
      "[63]\ttrain-rmse:0.29371\teval-rmse:0.40528\n",
      "[64]\ttrain-rmse:0.29263\teval-rmse:0.40555\n",
      "[65]\ttrain-rmse:0.29139\teval-rmse:0.40570\n",
      "[66]\ttrain-rmse:0.28905\teval-rmse:0.40590\n",
      "[67]\ttrain-rmse:0.28751\teval-rmse:0.40622\n",
      "[68]\ttrain-rmse:0.28709\teval-rmse:0.40623\n",
      "[69]\ttrain-rmse:0.28676\teval-rmse:0.40627\n",
      "[70]\ttrain-rmse:0.28634\teval-rmse:0.40649\n",
      "[71]\ttrain-rmse:0.28532\teval-rmse:0.40677\n",
      "[72]\ttrain-rmse:0.28337\teval-rmse:0.40736\n",
      "[73]\ttrain-rmse:0.28246\teval-rmse:0.40740\n",
      "[74]\ttrain-rmse:0.28193\teval-rmse:0.40725\n",
      "[75]\ttrain-rmse:0.28165\teval-rmse:0.40730\n",
      "[76]\ttrain-rmse:0.28035\teval-rmse:0.40763\n",
      "[77]\ttrain-rmse:0.27833\teval-rmse:0.40758\n",
      "[78]\ttrain-rmse:0.27611\teval-rmse:0.40781\n",
      "[79]\ttrain-rmse:0.27525\teval-rmse:0.40782\n",
      "[80]\ttrain-rmse:0.27509\teval-rmse:0.40783\n",
      "[81]\ttrain-rmse:0.27396\teval-rmse:0.40787\n",
      "[82]\ttrain-rmse:0.27310\teval-rmse:0.40795\n",
      "[83]\ttrain-rmse:0.27293\teval-rmse:0.40805\n",
      "[84]\ttrain-rmse:0.27259\teval-rmse:0.40810\n",
      "[85]\ttrain-rmse:0.27107\teval-rmse:0.40819\n",
      "[86]\ttrain-rmse:0.27032\teval-rmse:0.40822\n",
      "[87]\ttrain-rmse:0.26897\teval-rmse:0.40824\n",
      "[88]\ttrain-rmse:0.26859\teval-rmse:0.40835\n",
      "[89]\ttrain-rmse:0.26839\teval-rmse:0.40838\n",
      "[90]\ttrain-rmse:0.26809\teval-rmse:0.40833\n",
      "[91]\ttrain-rmse:0.26791\teval-rmse:0.40841\n",
      "[92]\ttrain-rmse:0.26738\teval-rmse:0.40848\n",
      "[93]\ttrain-rmse:0.26687\teval-rmse:0.40856\n",
      "[94]\ttrain-rmse:0.26599\teval-rmse:0.40878\n",
      "[95]\ttrain-rmse:0.26373\teval-rmse:0.40921\n",
      "[96]\ttrain-rmse:0.26306\teval-rmse:0.40940\n",
      "[97]\ttrain-rmse:0.26227\teval-rmse:0.40952\n",
      "[98]\ttrain-rmse:0.26090\teval-rmse:0.41005\n",
      "[99]\ttrain-rmse:0.25999\teval-rmse:0.41031\n",
      "[100]\ttrain-rmse:0.25850\teval-rmse:0.41029\n",
      "[101]\ttrain-rmse:0.25704\teval-rmse:0.41019\n",
      "[102]\ttrain-rmse:0.25677\teval-rmse:0.41009\n",
      "[103]\ttrain-rmse:0.25578\teval-rmse:0.41008\n",
      "[104]\ttrain-rmse:0.25519\teval-rmse:0.41027\n",
      "[105]\ttrain-rmse:0.25373\teval-rmse:0.41034\n",
      "[106]\ttrain-rmse:0.25231\teval-rmse:0.41059\n",
      "[107]\ttrain-rmse:0.25066\teval-rmse:0.41084\n",
      "[108]\ttrain-rmse:0.24990\teval-rmse:0.41086\n",
      "[109]\ttrain-rmse:0.24892\teval-rmse:0.41101\n",
      "[110]\ttrain-rmse:0.24842\teval-rmse:0.41104\n"
     ]
    },
    {
     "data": {
      "text/plain": [
       "<xgboost.core.Booster at 0x284ba5eb0>"
      ]
     },
     "execution_count": 41,
     "metadata": {},
     "output_type": "execute_result"
    }
   ],
   "source": [
    "params = {\n",
    "    'booster' :'gbtree',\n",
    "    'silent' : 0,\n",
    "    'nthread': 10\n",
    "}\n",
    "xgb_model = xgb.train(params =params , dtrain = d_train, num_boost_round = 400,\n",
    "         early_stopping_rounds= 100, evals = [(d_train,'train'),(d_val,'eval')])\n",
    "# print(\"훈련 세트 정확도 : {:.3f}\".format(xgb_model.score(X_train, y_train)))\n",
    "# print(\"validation 세트 정확도 : {:.3f}\".format(xgb_model.score(X_val, y_val)))\n",
    "xgb_model\n"
   ]
  },
  {
   "cell_type": "markdown",
   "id": "7a8ecaaa-a039-4b9b-a2b6-9d7d80bbf1ca",
   "metadata": {
    "tags": []
   },
   "source": [
    "\n",
    "## Test & measure performance"
   ]
  },
  {
   "cell_type": "markdown",
   "id": "3caf63a5-c80a-4c2c-b9c4-ef404727022f",
   "metadata": {},
   "source": [
    "### 교차검증 점수 확인\n"
   ]
  },
  {
   "cell_type": "code",
   "execution_count": null,
   "id": "1dea7474-5cf4-4ad0-a148-7d27bbe724d6",
   "metadata": {},
   "outputs": [],
   "source": [
    "print(np.mean(auc_scores))"
   ]
  },
  {
   "cell_type": "markdown",
   "id": "c475e7eb-c424-4331-80d0-b8a023f57762",
   "metadata": {
    "tags": []
   },
   "source": [
    "## 제출 파일 만들기\n"
   ]
  },
  {
   "cell_type": "code",
   "execution_count": null,
   "id": "053ef7b7-a991-48d2-aa05-ce661dce33da",
   "metadata": {},
   "outputs": [],
   "source": [
    "test_user_id_max = 44998\n",
    "test_user_id_min = 30000\n",
    "test_user_number = 14999"
   ]
  },
  {
   "cell_type": "code",
   "execution_count": null,
   "id": "0d5bbc95-935b-499d-b461-01545c1e6fed",
   "metadata": {},
   "outputs": [],
   "source": [
    "id_error = test_err[['user_id','errtype']].values\n",
    "test_x = np.zeros((test_user_number,42))\n",
    "for person_idx, err in tqdm(id_error):\n",
    "    # person_idx - test_user_id_min 위치에 person_idx, errtype에 해당하는 error값을 +1\n",
    "    test_x[person_idx - test_user_id_min,err - 1] += 1\n",
    "test_x = test_x.reshape(test_x.shape[0],-1)\n",
    "print(test_x.shape)"
   ]
  },
  {
   "cell_type": "code",
   "execution_count": null,
   "id": "7128d42f-9c73-4733-a4fb-489a6e8681b0",
   "metadata": {},
   "outputs": [],
   "source": [
    "pred_y_list = []\n",
    "for model in models:\n",
    "    pred_y = model.predict(test_x)\n",
    "    pred_y_list.append(pred_y.reshape(-1,1))\n",
    "    \n",
    "pred_ensemble = np.mean(pred_y_list, axis = 0)"
   ]
  },
  {
   "cell_type": "code",
   "execution_count": null,
   "id": "a5b40c03-b58d-4c64-8692-43e6351f6d44",
   "metadata": {},
   "outputs": [],
   "source": [
    "pred_ensemble"
   ]
  },
  {
   "cell_type": "code",
   "execution_count": null,
   "id": "03c87b82-cc2b-4ede-9b1f-71e897113626",
   "metadata": {},
   "outputs": [],
   "source": [
    "sample_submssion = pd.read_csv('../data/sample_submission.csv')\n",
    "\n",
    "sample_submssion['problem'] = pred_ensemble.reshape(-1)\n",
    "\n",
    "sample_submssion.to_csv(\"../data/dacon_baseline.csv\", index = False)\n",
    "sample_submssion"
   ]
  },
  {
   "cell_type": "code",
   "execution_count": null,
   "id": "9b3a3aa7-16be-41eb-83f6-1c6ff6195f77",
   "metadata": {},
   "outputs": [],
   "source": []
  }
 ],
 "metadata": {
  "kernelspec": {
   "display_name": "Python 3 (ipykernel)",
   "language": "python",
   "name": "python3"
  },
  "language_info": {
   "codemirror_mode": {
    "name": "ipython",
    "version": 3
   },
   "file_extension": ".py",
   "mimetype": "text/x-python",
   "name": "python",
   "nbconvert_exporter": "python",
   "pygments_lexer": "ipython3",
   "version": "3.9.13"
  }
 },
 "nbformat": 4,
 "nbformat_minor": 5
}
