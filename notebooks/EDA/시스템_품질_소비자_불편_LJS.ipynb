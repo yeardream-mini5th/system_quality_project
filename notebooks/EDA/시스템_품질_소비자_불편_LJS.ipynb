{
  "nbformat": 4,
  "nbformat_minor": 0,
  "metadata": {
    "colab": {
      "name": "시스템_품질_소비자_불편_LJS.ipynb",
      "provenance": [],
      "collapsed_sections": [
        "83xB3YY_pJWr",
        "v00T_sTkzpiZ",
        "camWOrM677fv"
      ],
      "toc_visible": true
    },
    "kernelspec": {
      "name": "python3",
      "display_name": "Python 3"
    },
    "language_info": {
      "name": "python"
    }
  },
  "cells": [
    {
      "cell_type": "markdown",
      "source": [
        "## 소개\n",
        "### 1.배경\n",
        "#### 다양한 장비/서비스에서 일어나는 시스템 데이터를 통해 사용자의 불편을 예지하기 위해 ‘시스템 데이터’와 ‘사용자 불편 발생 데이터’를 분석하여 불편을 느낀 사용자와 불편 요인들을 찾아주세요.\n",
        "### 2.목적\n",
        "#### 데이터를 통해 사용자가 불편을 느끼는 원인 분석"
      ],
      "metadata": {
        "id": "83xB3YY_pJWr"
      }
    },
    {
      "cell_type": "markdown",
      "source": [
        "분류/회귀 중 어떤 문제인지 햇갈렸는데, 0과 1사이의 확률을 예측하여 발생 할지, 말지를 예측하는 **분류** 문제였습니다."
      ],
      "metadata": {
        "id": "viA2UfWytnDn"
      }
    },
    {
      "cell_type": "markdown",
      "source": [
        "## 데이터셋에 대한 설명\n",
        "\n",
        "### 학습 데이터 (user_id : 10000 ~ 24999, 15000명)\n",
        "\n",
        "\n",
        "\t\t\ttrain_quality_data.csv : 시스템 퀄리티 로그\n",
        "\n",
        "\t\t\ttrain_problem_data.csv : 사용자 불만 및 불만이 접수된 시간\n",
        "\n",
        "\t\t\ttrain_err_data.csv : 시스템에 발생한 에러 로그\n",
        "\n",
        "\n",
        "\n",
        "### 테스트 데이터(user_id : 30000 ~ 44998, 14999명)\n",
        "\n",
        "\n",
        "\t\t\ttest_quality_data.csv : 시스템 퀄리티 로그\n",
        "\n",
        "\t\t\ttest_err_data.csv : 시스템에 발생한 에러 로그\n",
        "\n",
        "\t\t\tsample_submission.csv : 사용자 불만 확률(0~1) (제출용)"
      ],
      "metadata": {
        "id": "MGgqXYLDpy3J"
      }
    },
    {
      "cell_type": "markdown",
      "source": [
        "## 컬럼별 설명\n",
        "#### train_quality_data\n",
        "- time : 로그발생시간 \n",
        "- user_id : 사용자ID\n",
        "- fwver : 펌웨어버전\n",
        "- quality_0 ~ quality_12 : 번호가 매겨진 각 퀄리티  \n",
        "---\n",
        "#### train_problem_data\n",
        "- user_id : 사용자ID\n",
        "- time : 불만접수시간\n",
        "---\n",
        "#### train_err_data\n",
        "- user_id : 사용자ID\n",
        "- time : 로그발생시간\n",
        "- model_nm : 모델명\n",
        "- fwver : 펌웨어버전\n",
        "- errtype : 에러타입\n",
        "- errcode : 에러코드\n",
        "---\n"
      ],
      "metadata": {
        "id": "A4vaylrmw0p_"
      }
    },
    {
      "cell_type": "markdown",
      "source": [
        "# EDA"
      ],
      "metadata": {
        "id": "gxrKrdsouX2l"
      }
    },
    {
      "cell_type": "code",
      "execution_count": null,
      "metadata": {
        "id": "a082cJyZnyim"
      },
      "outputs": [],
      "source": [
        "# 기본 모듈 import\n",
        "import numpy as np\n",
        "import pandas as pd\n",
        "import matplotlib.pyplot as plt\n",
        "import seaborn as sns "
      ]
    },
    {
      "cell_type": "code",
      "source": [
        "# path 지정\n",
        "base_path = \"/content/drive/MyDrive/Colab Notebooks/data/235687_시스템 품질 변화로 인한 사용자 불편 예지 AI 경진대회_data/convert/\"\n",
        "save_path = \"/content/drive/MyDrive/Colab Notebooks/data/235687_시스템 품질 변화로 인한 사용자 불편 예지 AI 경진대회_data/result/\""
      ],
      "metadata": {
        "id": "MpxYVfLJoC2D"
      },
      "execution_count": null,
      "outputs": []
    },
    {
      "cell_type": "code",
      "source": [
        "# train data 불러오기\n",
        "train_quality = pd.read_csv(base_path+'train_quality_data_.csv')\n",
        "train_problem = pd.read_csv(base_path+'train_problem_data_.csv')\n",
        "train_error = pd.read_csv(base_path+'train_err_data_.csv')\n",
        "test_quality = pd.read_csv(base_path+'test_quality_data_.csv')\n",
        "test_error = pd.read_csv(base_path+'test_err_data_.csv')"
      ],
      "metadata": {
        "colab": {
          "base_uri": "https://localhost:8080/"
        },
        "id": "XC-pf5gOoZBS",
        "outputId": "b93c4e98-7711-4808-fa53-308b1c7a4d99"
      },
      "execution_count": null,
      "outputs": [
        {
          "output_type": "stream",
          "name": "stderr",
          "text": [
            "/usr/local/lib/python3.7/dist-packages/IPython/core/interactiveshell.py:2882: DtypeWarning: Columns (11,12,13) have mixed types.Specify dtype option on import or set low_memory=False.\n",
            "  exec(code_obj, self.user_global_ns, self.user_ns)\n",
            "/usr/local/lib/python3.7/dist-packages/IPython/core/interactiveshell.py:2882: DtypeWarning: Columns (5,12,13) have mixed types.Specify dtype option on import or set low_memory=False.\n",
            "  exec(code_obj, self.user_global_ns, self.user_ns)\n"
          ]
        }
      ]
    },
    {
      "cell_type": "markdown",
      "source": [
        "### csv 파일은 전부 time column을 to_datetime 처리한 파일입니다."
      ],
      "metadata": {
        "id": "kl8qibG2J0aF"
      }
    },
    {
      "cell_type": "markdown",
      "source": [
        "### Train Data 파일이 3개??\n",
        "![KakaoTalk_Photo_2022-06-08-19-02-52.jpeg](data:image/jpeg;base64,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)    왜????"
      ],
      "metadata": {
        "id": "n8nvr5Qwwwnb"
      }
    },
    {
      "cell_type": "markdown",
      "source": [
        "## quaulity data 확인해보기"
      ],
      "metadata": {
        "id": "psH1Q5XbyVTd"
      }
    },
    {
      "cell_type": "code",
      "source": [
        "train_quality.info()"
      ],
      "metadata": {
        "colab": {
          "base_uri": "https://localhost:8080/"
        },
        "id": "Wb4opV3Ro27P",
        "outputId": "a7d180fa-c8ae-4bc8-9cbd-416126e54039"
      },
      "execution_count": null,
      "outputs": [
        {
          "output_type": "stream",
          "name": "stdout",
          "text": [
            "<class 'pandas.core.frame.DataFrame'>\n",
            "RangeIndex: 828624 entries, 0 to 828623\n",
            "Data columns (total 17 columns):\n",
            " #   Column      Non-Null Count   Dtype  \n",
            "---  ------      --------------   -----  \n",
            " 0   Unnamed: 0  828624 non-null  int64  \n",
            " 1   time        828624 non-null  object \n",
            " 2   user_id     828624 non-null  int64  \n",
            " 3   fwver       788544 non-null  object \n",
            " 4   quality_0   684192 non-null  float64\n",
            " 5   quality_1   828624 non-null  int64  \n",
            " 6   quality_2   788511 non-null  float64\n",
            " 7   quality_3   828624 non-null  int64  \n",
            " 8   quality_4   828624 non-null  int64  \n",
            " 9   quality_5   828604 non-null  object \n",
            " 10  quality_6   828624 non-null  int64  \n",
            " 11  quality_7   828624 non-null  object \n",
            " 12  quality_8   828624 non-null  object \n",
            " 13  quality_9   828624 non-null  object \n",
            " 14  quality_10  828624 non-null  object \n",
            " 15  quality_11  828624 non-null  int64  \n",
            " 16  quality_12  828624 non-null  int64  \n",
            "dtypes: float64(2), int64(8), object(7)\n",
            "memory usage: 107.5+ MB\n"
          ]
        }
      ]
    },
    {
      "cell_type": "markdown",
      "source": [
        "### 총 828624행"
      ],
      "metadata": {
        "id": "ovZiFX4ZwqyP"
      }
    },
    {
      "cell_type": "markdown",
      "source": [
        "#### quality에서 전처리 해줘야할 컬럼\n",
        "fwver : 05.15.2138 과 같이 되어있음 (object)  \n",
        "quality_5, 7,8,9,10 : object"
      ],
      "metadata": {
        "id": "v00T_sTkzpiZ"
      }
    },
    {
      "cell_type": "code",
      "source": [
        "train_quality.head(10)"
      ],
      "metadata": {
        "colab": {
          "base_uri": "https://localhost:8080/",
          "height": 323
        },
        "id": "l5FPISazozAf",
        "outputId": "2a45813c-dae3-457d-d06b-0934d133fdef"
      },
      "execution_count": null,
      "outputs": [
        {
          "output_type": "execute_result",
          "data": {
            "text/plain": [
              "   Unnamed: 0                 time  user_id       fwver  quality_0  quality_1  \\\n",
              "0           0  2020-11-29 09:00:00    10000  05.15.2138        0.0          0   \n",
              "1           1  2020-11-29 09:00:00    10000  05.15.2138        0.0          0   \n",
              "2           2  2020-11-29 09:00:00    10000  05.15.2138        0.0          0   \n",
              "3           3  2020-11-29 09:00:00    10000  05.15.2138        0.0          0   \n",
              "4           4  2020-11-29 09:00:00    10000  05.15.2138        0.0          0   \n",
              "5           5  2020-11-29 09:00:00    10000  05.15.2138        0.0          0   \n",
              "6           6  2020-11-29 09:00:00    10000  05.15.2138        0.0          0   \n",
              "7           7  2020-11-29 09:00:00    10000  05.15.2138        0.0          0   \n",
              "8           8  2020-11-29 09:00:00    10000  05.15.2138        0.0          0   \n",
              "9           9  2020-11-29 09:00:00    10000  05.15.2138        0.0          0   \n",
              "\n",
              "   quality_2  quality_3  quality_4 quality_5  quality_6 quality_7 quality_8  \\\n",
              "0        0.0          0          0         0          0         0         0   \n",
              "1        0.0          0          0         0          0         0         0   \n",
              "2        0.0          0          0         0          0         0         0   \n",
              "3        0.0          0          0         0          0         0         0   \n",
              "4        0.0          0          0         0          0         0         0   \n",
              "5        0.0          0          0         0          0         0         0   \n",
              "6        0.0          0          0         4          0         0         0   \n",
              "7        0.0          0          0         0          0         0         0   \n",
              "8        0.0          0          0         0          0         0         0   \n",
              "9        0.0          0          0         0          0         0         0   \n",
              "\n",
              "  quality_9 quality_10  quality_11  quality_12  \n",
              "0         0          4           0           0  \n",
              "1         0          4           0           0  \n",
              "2         0          4           0           0  \n",
              "3         0          4           0           0  \n",
              "4         0          4           0           0  \n",
              "5         0          4           0           0  \n",
              "6         0          4           0           0  \n",
              "7         0          4           0           0  \n",
              "8         0          4           0           0  \n",
              "9         0          4           0           0  "
            ],
            "text/html": [
              "\n",
              "  <div id=\"df-c48d9746-7754-48b4-9f5a-85ad1bb764c9\">\n",
              "    <div class=\"colab-df-container\">\n",
              "      <div>\n",
              "<style scoped>\n",
              "    .dataframe tbody tr th:only-of-type {\n",
              "        vertical-align: middle;\n",
              "    }\n",
              "\n",
              "    .dataframe tbody tr th {\n",
              "        vertical-align: top;\n",
              "    }\n",
              "\n",
              "    .dataframe thead th {\n",
              "        text-align: right;\n",
              "    }\n",
              "</style>\n",
              "<table border=\"1\" class=\"dataframe\">\n",
              "  <thead>\n",
              "    <tr style=\"text-align: right;\">\n",
              "      <th></th>\n",
              "      <th>Unnamed: 0</th>\n",
              "      <th>time</th>\n",
              "      <th>user_id</th>\n",
              "      <th>fwver</th>\n",
              "      <th>quality_0</th>\n",
              "      <th>quality_1</th>\n",
              "      <th>quality_2</th>\n",
              "      <th>quality_3</th>\n",
              "      <th>quality_4</th>\n",
              "      <th>quality_5</th>\n",
              "      <th>quality_6</th>\n",
              "      <th>quality_7</th>\n",
              "      <th>quality_8</th>\n",
              "      <th>quality_9</th>\n",
              "      <th>quality_10</th>\n",
              "      <th>quality_11</th>\n",
              "      <th>quality_12</th>\n",
              "    </tr>\n",
              "  </thead>\n",
              "  <tbody>\n",
              "    <tr>\n",
              "      <th>0</th>\n",
              "      <td>0</td>\n",
              "      <td>2020-11-29 09:00:00</td>\n",
              "      <td>10000</td>\n",
              "      <td>05.15.2138</td>\n",
              "      <td>0.0</td>\n",
              "      <td>0</td>\n",
              "      <td>0.0</td>\n",
              "      <td>0</td>\n",
              "      <td>0</td>\n",
              "      <td>0</td>\n",
              "      <td>0</td>\n",
              "      <td>0</td>\n",
              "      <td>0</td>\n",
              "      <td>0</td>\n",
              "      <td>4</td>\n",
              "      <td>0</td>\n",
              "      <td>0</td>\n",
              "    </tr>\n",
              "    <tr>\n",
              "      <th>1</th>\n",
              "      <td>1</td>\n",
              "      <td>2020-11-29 09:00:00</td>\n",
              "      <td>10000</td>\n",
              "      <td>05.15.2138</td>\n",
              "      <td>0.0</td>\n",
              "      <td>0</td>\n",
              "      <td>0.0</td>\n",
              "      <td>0</td>\n",
              "      <td>0</td>\n",
              "      <td>0</td>\n",
              "      <td>0</td>\n",
              "      <td>0</td>\n",
              "      <td>0</td>\n",
              "      <td>0</td>\n",
              "      <td>4</td>\n",
              "      <td>0</td>\n",
              "      <td>0</td>\n",
              "    </tr>\n",
              "    <tr>\n",
              "      <th>2</th>\n",
              "      <td>2</td>\n",
              "      <td>2020-11-29 09:00:00</td>\n",
              "      <td>10000</td>\n",
              "      <td>05.15.2138</td>\n",
              "      <td>0.0</td>\n",
              "      <td>0</td>\n",
              "      <td>0.0</td>\n",
              "      <td>0</td>\n",
              "      <td>0</td>\n",
              "      <td>0</td>\n",
              "      <td>0</td>\n",
              "      <td>0</td>\n",
              "      <td>0</td>\n",
              "      <td>0</td>\n",
              "      <td>4</td>\n",
              "      <td>0</td>\n",
              "      <td>0</td>\n",
              "    </tr>\n",
              "    <tr>\n",
              "      <th>3</th>\n",
              "      <td>3</td>\n",
              "      <td>2020-11-29 09:00:00</td>\n",
              "      <td>10000</td>\n",
              "      <td>05.15.2138</td>\n",
              "      <td>0.0</td>\n",
              "      <td>0</td>\n",
              "      <td>0.0</td>\n",
              "      <td>0</td>\n",
              "      <td>0</td>\n",
              "      <td>0</td>\n",
              "      <td>0</td>\n",
              "      <td>0</td>\n",
              "      <td>0</td>\n",
              "      <td>0</td>\n",
              "      <td>4</td>\n",
              "      <td>0</td>\n",
              "      <td>0</td>\n",
              "    </tr>\n",
              "    <tr>\n",
              "      <th>4</th>\n",
              "      <td>4</td>\n",
              "      <td>2020-11-29 09:00:00</td>\n",
              "      <td>10000</td>\n",
              "      <td>05.15.2138</td>\n",
              "      <td>0.0</td>\n",
              "      <td>0</td>\n",
              "      <td>0.0</td>\n",
              "      <td>0</td>\n",
              "      <td>0</td>\n",
              "      <td>0</td>\n",
              "      <td>0</td>\n",
              "      <td>0</td>\n",
              "      <td>0</td>\n",
              "      <td>0</td>\n",
              "      <td>4</td>\n",
              "      <td>0</td>\n",
              "      <td>0</td>\n",
              "    </tr>\n",
              "    <tr>\n",
              "      <th>5</th>\n",
              "      <td>5</td>\n",
              "      <td>2020-11-29 09:00:00</td>\n",
              "      <td>10000</td>\n",
              "      <td>05.15.2138</td>\n",
              "      <td>0.0</td>\n",
              "      <td>0</td>\n",
              "      <td>0.0</td>\n",
              "      <td>0</td>\n",
              "      <td>0</td>\n",
              "      <td>0</td>\n",
              "      <td>0</td>\n",
              "      <td>0</td>\n",
              "      <td>0</td>\n",
              "      <td>0</td>\n",
              "      <td>4</td>\n",
              "      <td>0</td>\n",
              "      <td>0</td>\n",
              "    </tr>\n",
              "    <tr>\n",
              "      <th>6</th>\n",
              "      <td>6</td>\n",
              "      <td>2020-11-29 09:00:00</td>\n",
              "      <td>10000</td>\n",
              "      <td>05.15.2138</td>\n",
              "      <td>0.0</td>\n",
              "      <td>0</td>\n",
              "      <td>0.0</td>\n",
              "      <td>0</td>\n",
              "      <td>0</td>\n",
              "      <td>4</td>\n",
              "      <td>0</td>\n",
              "      <td>0</td>\n",
              "      <td>0</td>\n",
              "      <td>0</td>\n",
              "      <td>4</td>\n",
              "      <td>0</td>\n",
              "      <td>0</td>\n",
              "    </tr>\n",
              "    <tr>\n",
              "      <th>7</th>\n",
              "      <td>7</td>\n",
              "      <td>2020-11-29 09:00:00</td>\n",
              "      <td>10000</td>\n",
              "      <td>05.15.2138</td>\n",
              "      <td>0.0</td>\n",
              "      <td>0</td>\n",
              "      <td>0.0</td>\n",
              "      <td>0</td>\n",
              "      <td>0</td>\n",
              "      <td>0</td>\n",
              "      <td>0</td>\n",
              "      <td>0</td>\n",
              "      <td>0</td>\n",
              "      <td>0</td>\n",
              "      <td>4</td>\n",
              "      <td>0</td>\n",
              "      <td>0</td>\n",
              "    </tr>\n",
              "    <tr>\n",
              "      <th>8</th>\n",
              "      <td>8</td>\n",
              "      <td>2020-11-29 09:00:00</td>\n",
              "      <td>10000</td>\n",
              "      <td>05.15.2138</td>\n",
              "      <td>0.0</td>\n",
              "      <td>0</td>\n",
              "      <td>0.0</td>\n",
              "      <td>0</td>\n",
              "      <td>0</td>\n",
              "      <td>0</td>\n",
              "      <td>0</td>\n",
              "      <td>0</td>\n",
              "      <td>0</td>\n",
              "      <td>0</td>\n",
              "      <td>4</td>\n",
              "      <td>0</td>\n",
              "      <td>0</td>\n",
              "    </tr>\n",
              "    <tr>\n",
              "      <th>9</th>\n",
              "      <td>9</td>\n",
              "      <td>2020-11-29 09:00:00</td>\n",
              "      <td>10000</td>\n",
              "      <td>05.15.2138</td>\n",
              "      <td>0.0</td>\n",
              "      <td>0</td>\n",
              "      <td>0.0</td>\n",
              "      <td>0</td>\n",
              "      <td>0</td>\n",
              "      <td>0</td>\n",
              "      <td>0</td>\n",
              "      <td>0</td>\n",
              "      <td>0</td>\n",
              "      <td>0</td>\n",
              "      <td>4</td>\n",
              "      <td>0</td>\n",
              "      <td>0</td>\n",
              "    </tr>\n",
              "  </tbody>\n",
              "</table>\n",
              "</div>\n",
              "      <button class=\"colab-df-convert\" onclick=\"convertToInteractive('df-c48d9746-7754-48b4-9f5a-85ad1bb764c9')\"\n",
              "              title=\"Convert this dataframe to an interactive table.\"\n",
              "              style=\"display:none;\">\n",
              "        \n",
              "  <svg xmlns=\"http://www.w3.org/2000/svg\" height=\"24px\"viewBox=\"0 0 24 24\"\n",
              "       width=\"24px\">\n",
              "    <path d=\"M0 0h24v24H0V0z\" fill=\"none\"/>\n",
              "    <path d=\"M18.56 5.44l.94 2.06.94-2.06 2.06-.94-2.06-.94-.94-2.06-.94 2.06-2.06.94zm-11 1L8.5 8.5l.94-2.06 2.06-.94-2.06-.94L8.5 2.5l-.94 2.06-2.06.94zm10 10l.94 2.06.94-2.06 2.06-.94-2.06-.94-.94-2.06-.94 2.06-2.06.94z\"/><path d=\"M17.41 7.96l-1.37-1.37c-.4-.4-.92-.59-1.43-.59-.52 0-1.04.2-1.43.59L10.3 9.45l-7.72 7.72c-.78.78-.78 2.05 0 2.83L4 21.41c.39.39.9.59 1.41.59.51 0 1.02-.2 1.41-.59l7.78-7.78 2.81-2.81c.8-.78.8-2.07 0-2.86zM5.41 20L4 18.59l7.72-7.72 1.47 1.35L5.41 20z\"/>\n",
              "  </svg>\n",
              "      </button>\n",
              "      \n",
              "  <style>\n",
              "    .colab-df-container {\n",
              "      display:flex;\n",
              "      flex-wrap:wrap;\n",
              "      gap: 12px;\n",
              "    }\n",
              "\n",
              "    .colab-df-convert {\n",
              "      background-color: #E8F0FE;\n",
              "      border: none;\n",
              "      border-radius: 50%;\n",
              "      cursor: pointer;\n",
              "      display: none;\n",
              "      fill: #1967D2;\n",
              "      height: 32px;\n",
              "      padding: 0 0 0 0;\n",
              "      width: 32px;\n",
              "    }\n",
              "\n",
              "    .colab-df-convert:hover {\n",
              "      background-color: #E2EBFA;\n",
              "      box-shadow: 0px 1px 2px rgba(60, 64, 67, 0.3), 0px 1px 3px 1px rgba(60, 64, 67, 0.15);\n",
              "      fill: #174EA6;\n",
              "    }\n",
              "\n",
              "    [theme=dark] .colab-df-convert {\n",
              "      background-color: #3B4455;\n",
              "      fill: #D2E3FC;\n",
              "    }\n",
              "\n",
              "    [theme=dark] .colab-df-convert:hover {\n",
              "      background-color: #434B5C;\n",
              "      box-shadow: 0px 1px 3px 1px rgba(0, 0, 0, 0.15);\n",
              "      filter: drop-shadow(0px 1px 2px rgba(0, 0, 0, 0.3));\n",
              "      fill: #FFFFFF;\n",
              "    }\n",
              "  </style>\n",
              "\n",
              "      <script>\n",
              "        const buttonEl =\n",
              "          document.querySelector('#df-c48d9746-7754-48b4-9f5a-85ad1bb764c9 button.colab-df-convert');\n",
              "        buttonEl.style.display =\n",
              "          google.colab.kernel.accessAllowed ? 'block' : 'none';\n",
              "\n",
              "        async function convertToInteractive(key) {\n",
              "          const element = document.querySelector('#df-c48d9746-7754-48b4-9f5a-85ad1bb764c9');\n",
              "          const dataTable =\n",
              "            await google.colab.kernel.invokeFunction('convertToInteractive',\n",
              "                                                     [key], {});\n",
              "          if (!dataTable) return;\n",
              "\n",
              "          const docLinkHtml = 'Like what you see? Visit the ' +\n",
              "            '<a target=\"_blank\" href=https://colab.research.google.com/notebooks/data_table.ipynb>data table notebook</a>'\n",
              "            + ' to learn more about interactive tables.';\n",
              "          element.innerHTML = '';\n",
              "          dataTable['output_type'] = 'display_data';\n",
              "          await google.colab.output.renderOutput(dataTable, element);\n",
              "          const docLink = document.createElement('div');\n",
              "          docLink.innerHTML = docLinkHtml;\n",
              "          element.appendChild(docLink);\n",
              "        }\n",
              "      </script>\n",
              "    </div>\n",
              "  </div>\n",
              "  "
            ]
          },
          "metadata": {},
          "execution_count": 5
        }
      ]
    },
    {
      "cell_type": "code",
      "source": [
        "train_quality[:24]"
      ],
      "metadata": {
        "colab": {
          "base_uri": "https://localhost:8080/",
          "height": 802
        },
        "id": "7cbn0EkRAzz3",
        "outputId": "3bd68d7c-09ba-4338-c7a4-ccbd5fc048c2"
      },
      "execution_count": null,
      "outputs": [
        {
          "output_type": "execute_result",
          "data": {
            "text/plain": [
              "    Unnamed: 0                 time  user_id       fwver  quality_0  \\\n",
              "0            0  2020-11-29 09:00:00    10000  05.15.2138        0.0   \n",
              "1            1  2020-11-29 09:00:00    10000  05.15.2138        0.0   \n",
              "2            2  2020-11-29 09:00:00    10000  05.15.2138        0.0   \n",
              "3            3  2020-11-29 09:00:00    10000  05.15.2138        0.0   \n",
              "4            4  2020-11-29 09:00:00    10000  05.15.2138        0.0   \n",
              "5            5  2020-11-29 09:00:00    10000  05.15.2138        0.0   \n",
              "6            6  2020-11-29 09:00:00    10000  05.15.2138        0.0   \n",
              "7            7  2020-11-29 09:00:00    10000  05.15.2138        0.0   \n",
              "8            8  2020-11-29 09:00:00    10000  05.15.2138        0.0   \n",
              "9            9  2020-11-29 09:00:00    10000  05.15.2138        0.0   \n",
              "10          10  2020-11-29 09:00:00    10000  05.15.2138        0.0   \n",
              "11          11  2020-11-29 09:00:00    10000  05.15.2138        0.0   \n",
              "12          12  2020-11-30 21:00:00    10000  05.15.2138        0.0   \n",
              "13          13  2020-11-30 21:00:00    10000  05.15.2138        0.0   \n",
              "14          14  2020-11-30 21:00:00    10000  05.15.2138        0.0   \n",
              "15          15  2020-11-30 21:00:00    10000  05.15.2138        0.0   \n",
              "16          16  2020-11-30 21:00:00    10000  05.15.2138        0.0   \n",
              "17          17  2020-11-30 21:00:00    10000  05.15.2138        0.0   \n",
              "18          18  2020-11-30 21:00:00    10000  05.15.2138        0.0   \n",
              "19          19  2020-11-30 21:00:00    10000  05.15.2138        0.0   \n",
              "20          20  2020-11-30 21:00:00    10000  05.15.2138        0.0   \n",
              "21          21  2020-11-30 21:00:00    10000  05.15.2138        0.0   \n",
              "22          22  2020-11-30 21:00:00    10000  05.15.2138        0.0   \n",
              "23          23  2020-11-30 21:00:00    10000  05.15.2138        0.0   \n",
              "\n",
              "    quality_1  quality_2  quality_3  quality_4 quality_5  quality_6 quality_7  \\\n",
              "0           0        0.0          0          0         0          0         0   \n",
              "1           0        0.0          0          0         0          0         0   \n",
              "2           0        0.0          0          0         0          0         0   \n",
              "3           0        0.0          0          0         0          0         0   \n",
              "4           0        0.0          0          0         0          0         0   \n",
              "5           0        0.0          0          0         0          0         0   \n",
              "6           0        0.0          0          0         4          0         0   \n",
              "7           0        0.0          0          0         0          0         0   \n",
              "8           0        0.0          0          0         0          0         0   \n",
              "9           0        0.0          0          0         0          0         0   \n",
              "10          0        0.0          0          0         0          0         0   \n",
              "11          0        0.0          0          0         0          0         0   \n",
              "12          0        0.0          0          0         0          0         0   \n",
              "13          0        0.0          0          0         0          0         0   \n",
              "14          0        0.0          0          0         0          0         0   \n",
              "15          0        0.0          0          0         0          0         0   \n",
              "16          0        0.0          0          0         0          0         0   \n",
              "17          0        0.0          0          0         0          0         0   \n",
              "18          0        0.0          0          0         0          0         0   \n",
              "19          0        0.0          0          0         0          0         0   \n",
              "20          0        0.0          0          0         0          0         0   \n",
              "21          0        0.0          0          0         0          0         0   \n",
              "22          0        0.0          0          0         8          0         0   \n",
              "23          0        0.0          0          0         0          0         0   \n",
              "\n",
              "   quality_8 quality_9 quality_10  quality_11  quality_12  \n",
              "0          0         0          4           0           0  \n",
              "1          0         0          4           0           0  \n",
              "2          0         0          4           0           0  \n",
              "3          0         0          4           0           0  \n",
              "4          0         0          4           0           0  \n",
              "5          0         0          4           0           0  \n",
              "6          0         0          4           0           0  \n",
              "7          0         0          4           0           0  \n",
              "8          0         0          4           0           0  \n",
              "9          0         0          4           0           0  \n",
              "10         0         0          4           0           0  \n",
              "11         0         0          4           0           0  \n",
              "12         0         0          8           0           0  \n",
              "13         0         0          8           0           0  \n",
              "14         0         0          8           0           0  \n",
              "15         0         0          8           0           0  \n",
              "16         0         0          8           0           0  \n",
              "17         0         0          8           0           0  \n",
              "18         0         0          8           0           0  \n",
              "19         0         0          8           0           0  \n",
              "20         0         0          8           0           0  \n",
              "21         0         0          8           0           0  \n",
              "22         0         0          8           0           0  \n",
              "23         0         0          8           0           0  "
            ],
            "text/html": [
              "\n",
              "  <div id=\"df-99140cc7-e106-47a8-896b-4b6cec7b824b\">\n",
              "    <div class=\"colab-df-container\">\n",
              "      <div>\n",
              "<style scoped>\n",
              "    .dataframe tbody tr th:only-of-type {\n",
              "        vertical-align: middle;\n",
              "    }\n",
              "\n",
              "    .dataframe tbody tr th {\n",
              "        vertical-align: top;\n",
              "    }\n",
              "\n",
              "    .dataframe thead th {\n",
              "        text-align: right;\n",
              "    }\n",
              "</style>\n",
              "<table border=\"1\" class=\"dataframe\">\n",
              "  <thead>\n",
              "    <tr style=\"text-align: right;\">\n",
              "      <th></th>\n",
              "      <th>Unnamed: 0</th>\n",
              "      <th>time</th>\n",
              "      <th>user_id</th>\n",
              "      <th>fwver</th>\n",
              "      <th>quality_0</th>\n",
              "      <th>quality_1</th>\n",
              "      <th>quality_2</th>\n",
              "      <th>quality_3</th>\n",
              "      <th>quality_4</th>\n",
              "      <th>quality_5</th>\n",
              "      <th>quality_6</th>\n",
              "      <th>quality_7</th>\n",
              "      <th>quality_8</th>\n",
              "      <th>quality_9</th>\n",
              "      <th>quality_10</th>\n",
              "      <th>quality_11</th>\n",
              "      <th>quality_12</th>\n",
              "    </tr>\n",
              "  </thead>\n",
              "  <tbody>\n",
              "    <tr>\n",
              "      <th>0</th>\n",
              "      <td>0</td>\n",
              "      <td>2020-11-29 09:00:00</td>\n",
              "      <td>10000</td>\n",
              "      <td>05.15.2138</td>\n",
              "      <td>0.0</td>\n",
              "      <td>0</td>\n",
              "      <td>0.0</td>\n",
              "      <td>0</td>\n",
              "      <td>0</td>\n",
              "      <td>0</td>\n",
              "      <td>0</td>\n",
              "      <td>0</td>\n",
              "      <td>0</td>\n",
              "      <td>0</td>\n",
              "      <td>4</td>\n",
              "      <td>0</td>\n",
              "      <td>0</td>\n",
              "    </tr>\n",
              "    <tr>\n",
              "      <th>1</th>\n",
              "      <td>1</td>\n",
              "      <td>2020-11-29 09:00:00</td>\n",
              "      <td>10000</td>\n",
              "      <td>05.15.2138</td>\n",
              "      <td>0.0</td>\n",
              "      <td>0</td>\n",
              "      <td>0.0</td>\n",
              "      <td>0</td>\n",
              "      <td>0</td>\n",
              "      <td>0</td>\n",
              "      <td>0</td>\n",
              "      <td>0</td>\n",
              "      <td>0</td>\n",
              "      <td>0</td>\n",
              "      <td>4</td>\n",
              "      <td>0</td>\n",
              "      <td>0</td>\n",
              "    </tr>\n",
              "    <tr>\n",
              "      <th>2</th>\n",
              "      <td>2</td>\n",
              "      <td>2020-11-29 09:00:00</td>\n",
              "      <td>10000</td>\n",
              "      <td>05.15.2138</td>\n",
              "      <td>0.0</td>\n",
              "      <td>0</td>\n",
              "      <td>0.0</td>\n",
              "      <td>0</td>\n",
              "      <td>0</td>\n",
              "      <td>0</td>\n",
              "      <td>0</td>\n",
              "      <td>0</td>\n",
              "      <td>0</td>\n",
              "      <td>0</td>\n",
              "      <td>4</td>\n",
              "      <td>0</td>\n",
              "      <td>0</td>\n",
              "    </tr>\n",
              "    <tr>\n",
              "      <th>3</th>\n",
              "      <td>3</td>\n",
              "      <td>2020-11-29 09:00:00</td>\n",
              "      <td>10000</td>\n",
              "      <td>05.15.2138</td>\n",
              "      <td>0.0</td>\n",
              "      <td>0</td>\n",
              "      <td>0.0</td>\n",
              "      <td>0</td>\n",
              "      <td>0</td>\n",
              "      <td>0</td>\n",
              "      <td>0</td>\n",
              "      <td>0</td>\n",
              "      <td>0</td>\n",
              "      <td>0</td>\n",
              "      <td>4</td>\n",
              "      <td>0</td>\n",
              "      <td>0</td>\n",
              "    </tr>\n",
              "    <tr>\n",
              "      <th>4</th>\n",
              "      <td>4</td>\n",
              "      <td>2020-11-29 09:00:00</td>\n",
              "      <td>10000</td>\n",
              "      <td>05.15.2138</td>\n",
              "      <td>0.0</td>\n",
              "      <td>0</td>\n",
              "      <td>0.0</td>\n",
              "      <td>0</td>\n",
              "      <td>0</td>\n",
              "      <td>0</td>\n",
              "      <td>0</td>\n",
              "      <td>0</td>\n",
              "      <td>0</td>\n",
              "      <td>0</td>\n",
              "      <td>4</td>\n",
              "      <td>0</td>\n",
              "      <td>0</td>\n",
              "    </tr>\n",
              "    <tr>\n",
              "      <th>5</th>\n",
              "      <td>5</td>\n",
              "      <td>2020-11-29 09:00:00</td>\n",
              "      <td>10000</td>\n",
              "      <td>05.15.2138</td>\n",
              "      <td>0.0</td>\n",
              "      <td>0</td>\n",
              "      <td>0.0</td>\n",
              "      <td>0</td>\n",
              "      <td>0</td>\n",
              "      <td>0</td>\n",
              "      <td>0</td>\n",
              "      <td>0</td>\n",
              "      <td>0</td>\n",
              "      <td>0</td>\n",
              "      <td>4</td>\n",
              "      <td>0</td>\n",
              "      <td>0</td>\n",
              "    </tr>\n",
              "    <tr>\n",
              "      <th>6</th>\n",
              "      <td>6</td>\n",
              "      <td>2020-11-29 09:00:00</td>\n",
              "      <td>10000</td>\n",
              "      <td>05.15.2138</td>\n",
              "      <td>0.0</td>\n",
              "      <td>0</td>\n",
              "      <td>0.0</td>\n",
              "      <td>0</td>\n",
              "      <td>0</td>\n",
              "      <td>4</td>\n",
              "      <td>0</td>\n",
              "      <td>0</td>\n",
              "      <td>0</td>\n",
              "      <td>0</td>\n",
              "      <td>4</td>\n",
              "      <td>0</td>\n",
              "      <td>0</td>\n",
              "    </tr>\n",
              "    <tr>\n",
              "      <th>7</th>\n",
              "      <td>7</td>\n",
              "      <td>2020-11-29 09:00:00</td>\n",
              "      <td>10000</td>\n",
              "      <td>05.15.2138</td>\n",
              "      <td>0.0</td>\n",
              "      <td>0</td>\n",
              "      <td>0.0</td>\n",
              "      <td>0</td>\n",
              "      <td>0</td>\n",
              "      <td>0</td>\n",
              "      <td>0</td>\n",
              "      <td>0</td>\n",
              "      <td>0</td>\n",
              "      <td>0</td>\n",
              "      <td>4</td>\n",
              "      <td>0</td>\n",
              "      <td>0</td>\n",
              "    </tr>\n",
              "    <tr>\n",
              "      <th>8</th>\n",
              "      <td>8</td>\n",
              "      <td>2020-11-29 09:00:00</td>\n",
              "      <td>10000</td>\n",
              "      <td>05.15.2138</td>\n",
              "      <td>0.0</td>\n",
              "      <td>0</td>\n",
              "      <td>0.0</td>\n",
              "      <td>0</td>\n",
              "      <td>0</td>\n",
              "      <td>0</td>\n",
              "      <td>0</td>\n",
              "      <td>0</td>\n",
              "      <td>0</td>\n",
              "      <td>0</td>\n",
              "      <td>4</td>\n",
              "      <td>0</td>\n",
              "      <td>0</td>\n",
              "    </tr>\n",
              "    <tr>\n",
              "      <th>9</th>\n",
              "      <td>9</td>\n",
              "      <td>2020-11-29 09:00:00</td>\n",
              "      <td>10000</td>\n",
              "      <td>05.15.2138</td>\n",
              "      <td>0.0</td>\n",
              "      <td>0</td>\n",
              "      <td>0.0</td>\n",
              "      <td>0</td>\n",
              "      <td>0</td>\n",
              "      <td>0</td>\n",
              "      <td>0</td>\n",
              "      <td>0</td>\n",
              "      <td>0</td>\n",
              "      <td>0</td>\n",
              "      <td>4</td>\n",
              "      <td>0</td>\n",
              "      <td>0</td>\n",
              "    </tr>\n",
              "    <tr>\n",
              "      <th>10</th>\n",
              "      <td>10</td>\n",
              "      <td>2020-11-29 09:00:00</td>\n",
              "      <td>10000</td>\n",
              "      <td>05.15.2138</td>\n",
              "      <td>0.0</td>\n",
              "      <td>0</td>\n",
              "      <td>0.0</td>\n",
              "      <td>0</td>\n",
              "      <td>0</td>\n",
              "      <td>0</td>\n",
              "      <td>0</td>\n",
              "      <td>0</td>\n",
              "      <td>0</td>\n",
              "      <td>0</td>\n",
              "      <td>4</td>\n",
              "      <td>0</td>\n",
              "      <td>0</td>\n",
              "    </tr>\n",
              "    <tr>\n",
              "      <th>11</th>\n",
              "      <td>11</td>\n",
              "      <td>2020-11-29 09:00:00</td>\n",
              "      <td>10000</td>\n",
              "      <td>05.15.2138</td>\n",
              "      <td>0.0</td>\n",
              "      <td>0</td>\n",
              "      <td>0.0</td>\n",
              "      <td>0</td>\n",
              "      <td>0</td>\n",
              "      <td>0</td>\n",
              "      <td>0</td>\n",
              "      <td>0</td>\n",
              "      <td>0</td>\n",
              "      <td>0</td>\n",
              "      <td>4</td>\n",
              "      <td>0</td>\n",
              "      <td>0</td>\n",
              "    </tr>\n",
              "    <tr>\n",
              "      <th>12</th>\n",
              "      <td>12</td>\n",
              "      <td>2020-11-30 21:00:00</td>\n",
              "      <td>10000</td>\n",
              "      <td>05.15.2138</td>\n",
              "      <td>0.0</td>\n",
              "      <td>0</td>\n",
              "      <td>0.0</td>\n",
              "      <td>0</td>\n",
              "      <td>0</td>\n",
              "      <td>0</td>\n",
              "      <td>0</td>\n",
              "      <td>0</td>\n",
              "      <td>0</td>\n",
              "      <td>0</td>\n",
              "      <td>8</td>\n",
              "      <td>0</td>\n",
              "      <td>0</td>\n",
              "    </tr>\n",
              "    <tr>\n",
              "      <th>13</th>\n",
              "      <td>13</td>\n",
              "      <td>2020-11-30 21:00:00</td>\n",
              "      <td>10000</td>\n",
              "      <td>05.15.2138</td>\n",
              "      <td>0.0</td>\n",
              "      <td>0</td>\n",
              "      <td>0.0</td>\n",
              "      <td>0</td>\n",
              "      <td>0</td>\n",
              "      <td>0</td>\n",
              "      <td>0</td>\n",
              "      <td>0</td>\n",
              "      <td>0</td>\n",
              "      <td>0</td>\n",
              "      <td>8</td>\n",
              "      <td>0</td>\n",
              "      <td>0</td>\n",
              "    </tr>\n",
              "    <tr>\n",
              "      <th>14</th>\n",
              "      <td>14</td>\n",
              "      <td>2020-11-30 21:00:00</td>\n",
              "      <td>10000</td>\n",
              "      <td>05.15.2138</td>\n",
              "      <td>0.0</td>\n",
              "      <td>0</td>\n",
              "      <td>0.0</td>\n",
              "      <td>0</td>\n",
              "      <td>0</td>\n",
              "      <td>0</td>\n",
              "      <td>0</td>\n",
              "      <td>0</td>\n",
              "      <td>0</td>\n",
              "      <td>0</td>\n",
              "      <td>8</td>\n",
              "      <td>0</td>\n",
              "      <td>0</td>\n",
              "    </tr>\n",
              "    <tr>\n",
              "      <th>15</th>\n",
              "      <td>15</td>\n",
              "      <td>2020-11-30 21:00:00</td>\n",
              "      <td>10000</td>\n",
              "      <td>05.15.2138</td>\n",
              "      <td>0.0</td>\n",
              "      <td>0</td>\n",
              "      <td>0.0</td>\n",
              "      <td>0</td>\n",
              "      <td>0</td>\n",
              "      <td>0</td>\n",
              "      <td>0</td>\n",
              "      <td>0</td>\n",
              "      <td>0</td>\n",
              "      <td>0</td>\n",
              "      <td>8</td>\n",
              "      <td>0</td>\n",
              "      <td>0</td>\n",
              "    </tr>\n",
              "    <tr>\n",
              "      <th>16</th>\n",
              "      <td>16</td>\n",
              "      <td>2020-11-30 21:00:00</td>\n",
              "      <td>10000</td>\n",
              "      <td>05.15.2138</td>\n",
              "      <td>0.0</td>\n",
              "      <td>0</td>\n",
              "      <td>0.0</td>\n",
              "      <td>0</td>\n",
              "      <td>0</td>\n",
              "      <td>0</td>\n",
              "      <td>0</td>\n",
              "      <td>0</td>\n",
              "      <td>0</td>\n",
              "      <td>0</td>\n",
              "      <td>8</td>\n",
              "      <td>0</td>\n",
              "      <td>0</td>\n",
              "    </tr>\n",
              "    <tr>\n",
              "      <th>17</th>\n",
              "      <td>17</td>\n",
              "      <td>2020-11-30 21:00:00</td>\n",
              "      <td>10000</td>\n",
              "      <td>05.15.2138</td>\n",
              "      <td>0.0</td>\n",
              "      <td>0</td>\n",
              "      <td>0.0</td>\n",
              "      <td>0</td>\n",
              "      <td>0</td>\n",
              "      <td>0</td>\n",
              "      <td>0</td>\n",
              "      <td>0</td>\n",
              "      <td>0</td>\n",
              "      <td>0</td>\n",
              "      <td>8</td>\n",
              "      <td>0</td>\n",
              "      <td>0</td>\n",
              "    </tr>\n",
              "    <tr>\n",
              "      <th>18</th>\n",
              "      <td>18</td>\n",
              "      <td>2020-11-30 21:00:00</td>\n",
              "      <td>10000</td>\n",
              "      <td>05.15.2138</td>\n",
              "      <td>0.0</td>\n",
              "      <td>0</td>\n",
              "      <td>0.0</td>\n",
              "      <td>0</td>\n",
              "      <td>0</td>\n",
              "      <td>0</td>\n",
              "      <td>0</td>\n",
              "      <td>0</td>\n",
              "      <td>0</td>\n",
              "      <td>0</td>\n",
              "      <td>8</td>\n",
              "      <td>0</td>\n",
              "      <td>0</td>\n",
              "    </tr>\n",
              "    <tr>\n",
              "      <th>19</th>\n",
              "      <td>19</td>\n",
              "      <td>2020-11-30 21:00:00</td>\n",
              "      <td>10000</td>\n",
              "      <td>05.15.2138</td>\n",
              "      <td>0.0</td>\n",
              "      <td>0</td>\n",
              "      <td>0.0</td>\n",
              "      <td>0</td>\n",
              "      <td>0</td>\n",
              "      <td>0</td>\n",
              "      <td>0</td>\n",
              "      <td>0</td>\n",
              "      <td>0</td>\n",
              "      <td>0</td>\n",
              "      <td>8</td>\n",
              "      <td>0</td>\n",
              "      <td>0</td>\n",
              "    </tr>\n",
              "    <tr>\n",
              "      <th>20</th>\n",
              "      <td>20</td>\n",
              "      <td>2020-11-30 21:00:00</td>\n",
              "      <td>10000</td>\n",
              "      <td>05.15.2138</td>\n",
              "      <td>0.0</td>\n",
              "      <td>0</td>\n",
              "      <td>0.0</td>\n",
              "      <td>0</td>\n",
              "      <td>0</td>\n",
              "      <td>0</td>\n",
              "      <td>0</td>\n",
              "      <td>0</td>\n",
              "      <td>0</td>\n",
              "      <td>0</td>\n",
              "      <td>8</td>\n",
              "      <td>0</td>\n",
              "      <td>0</td>\n",
              "    </tr>\n",
              "    <tr>\n",
              "      <th>21</th>\n",
              "      <td>21</td>\n",
              "      <td>2020-11-30 21:00:00</td>\n",
              "      <td>10000</td>\n",
              "      <td>05.15.2138</td>\n",
              "      <td>0.0</td>\n",
              "      <td>0</td>\n",
              "      <td>0.0</td>\n",
              "      <td>0</td>\n",
              "      <td>0</td>\n",
              "      <td>0</td>\n",
              "      <td>0</td>\n",
              "      <td>0</td>\n",
              "      <td>0</td>\n",
              "      <td>0</td>\n",
              "      <td>8</td>\n",
              "      <td>0</td>\n",
              "      <td>0</td>\n",
              "    </tr>\n",
              "    <tr>\n",
              "      <th>22</th>\n",
              "      <td>22</td>\n",
              "      <td>2020-11-30 21:00:00</td>\n",
              "      <td>10000</td>\n",
              "      <td>05.15.2138</td>\n",
              "      <td>0.0</td>\n",
              "      <td>0</td>\n",
              "      <td>0.0</td>\n",
              "      <td>0</td>\n",
              "      <td>0</td>\n",
              "      <td>8</td>\n",
              "      <td>0</td>\n",
              "      <td>0</td>\n",
              "      <td>0</td>\n",
              "      <td>0</td>\n",
              "      <td>8</td>\n",
              "      <td>0</td>\n",
              "      <td>0</td>\n",
              "    </tr>\n",
              "    <tr>\n",
              "      <th>23</th>\n",
              "      <td>23</td>\n",
              "      <td>2020-11-30 21:00:00</td>\n",
              "      <td>10000</td>\n",
              "      <td>05.15.2138</td>\n",
              "      <td>0.0</td>\n",
              "      <td>0</td>\n",
              "      <td>0.0</td>\n",
              "      <td>0</td>\n",
              "      <td>0</td>\n",
              "      <td>0</td>\n",
              "      <td>0</td>\n",
              "      <td>0</td>\n",
              "      <td>0</td>\n",
              "      <td>0</td>\n",
              "      <td>8</td>\n",
              "      <td>0</td>\n",
              "      <td>0</td>\n",
              "    </tr>\n",
              "  </tbody>\n",
              "</table>\n",
              "</div>\n",
              "      <button class=\"colab-df-convert\" onclick=\"convertToInteractive('df-99140cc7-e106-47a8-896b-4b6cec7b824b')\"\n",
              "              title=\"Convert this dataframe to an interactive table.\"\n",
              "              style=\"display:none;\">\n",
              "        \n",
              "  <svg xmlns=\"http://www.w3.org/2000/svg\" height=\"24px\"viewBox=\"0 0 24 24\"\n",
              "       width=\"24px\">\n",
              "    <path d=\"M0 0h24v24H0V0z\" fill=\"none\"/>\n",
              "    <path d=\"M18.56 5.44l.94 2.06.94-2.06 2.06-.94-2.06-.94-.94-2.06-.94 2.06-2.06.94zm-11 1L8.5 8.5l.94-2.06 2.06-.94-2.06-.94L8.5 2.5l-.94 2.06-2.06.94zm10 10l.94 2.06.94-2.06 2.06-.94-2.06-.94-.94-2.06-.94 2.06-2.06.94z\"/><path d=\"M17.41 7.96l-1.37-1.37c-.4-.4-.92-.59-1.43-.59-.52 0-1.04.2-1.43.59L10.3 9.45l-7.72 7.72c-.78.78-.78 2.05 0 2.83L4 21.41c.39.39.9.59 1.41.59.51 0 1.02-.2 1.41-.59l7.78-7.78 2.81-2.81c.8-.78.8-2.07 0-2.86zM5.41 20L4 18.59l7.72-7.72 1.47 1.35L5.41 20z\"/>\n",
              "  </svg>\n",
              "      </button>\n",
              "      \n",
              "  <style>\n",
              "    .colab-df-container {\n",
              "      display:flex;\n",
              "      flex-wrap:wrap;\n",
              "      gap: 12px;\n",
              "    }\n",
              "\n",
              "    .colab-df-convert {\n",
              "      background-color: #E8F0FE;\n",
              "      border: none;\n",
              "      border-radius: 50%;\n",
              "      cursor: pointer;\n",
              "      display: none;\n",
              "      fill: #1967D2;\n",
              "      height: 32px;\n",
              "      padding: 0 0 0 0;\n",
              "      width: 32px;\n",
              "    }\n",
              "\n",
              "    .colab-df-convert:hover {\n",
              "      background-color: #E2EBFA;\n",
              "      box-shadow: 0px 1px 2px rgba(60, 64, 67, 0.3), 0px 1px 3px 1px rgba(60, 64, 67, 0.15);\n",
              "      fill: #174EA6;\n",
              "    }\n",
              "\n",
              "    [theme=dark] .colab-df-convert {\n",
              "      background-color: #3B4455;\n",
              "      fill: #D2E3FC;\n",
              "    }\n",
              "\n",
              "    [theme=dark] .colab-df-convert:hover {\n",
              "      background-color: #434B5C;\n",
              "      box-shadow: 0px 1px 3px 1px rgba(0, 0, 0, 0.15);\n",
              "      filter: drop-shadow(0px 1px 2px rgba(0, 0, 0, 0.3));\n",
              "      fill: #FFFFFF;\n",
              "    }\n",
              "  </style>\n",
              "\n",
              "      <script>\n",
              "        const buttonEl =\n",
              "          document.querySelector('#df-99140cc7-e106-47a8-896b-4b6cec7b824b button.colab-df-convert');\n",
              "        buttonEl.style.display =\n",
              "          google.colab.kernel.accessAllowed ? 'block' : 'none';\n",
              "\n",
              "        async function convertToInteractive(key) {\n",
              "          const element = document.querySelector('#df-99140cc7-e106-47a8-896b-4b6cec7b824b');\n",
              "          const dataTable =\n",
              "            await google.colab.kernel.invokeFunction('convertToInteractive',\n",
              "                                                     [key], {});\n",
              "          if (!dataTable) return;\n",
              "\n",
              "          const docLinkHtml = 'Like what you see? Visit the ' +\n",
              "            '<a target=\"_blank\" href=https://colab.research.google.com/notebooks/data_table.ipynb>data table notebook</a>'\n",
              "            + ' to learn more about interactive tables.';\n",
              "          element.innerHTML = '';\n",
              "          dataTable['output_type'] = 'display_data';\n",
              "          await google.colab.output.renderOutput(dataTable, element);\n",
              "          const docLink = document.createElement('div');\n",
              "          docLink.innerHTML = docLinkHtml;\n",
              "          element.appendChild(docLink);\n",
              "        }\n",
              "      </script>\n",
              "    </div>\n",
              "  </div>\n",
              "  "
            ]
          },
          "metadata": {},
          "execution_count": 70
        }
      ]
    },
    {
      "cell_type": "code",
      "source": [
        "train_quality.time.max()"
      ],
      "metadata": {
        "colab": {
          "base_uri": "https://localhost:8080/",
          "height": 36
        },
        "id": "ecvjANCfKm-h",
        "outputId": "3051fe3c-a0b5-429f-9909-cd1ec6102a30"
      },
      "execution_count": null,
      "outputs": [
        {
          "output_type": "execute_result",
          "data": {
            "text/plain": [
              "'2020-11-30 23:40:00'"
            ],
            "application/vnd.google.colaboratory.intrinsic+json": {
              "type": "string"
            }
          },
          "metadata": {},
          "execution_count": 6
        }
      ]
    },
    {
      "cell_type": "code",
      "source": [
        "train_quality.time.min()"
      ],
      "metadata": {
        "colab": {
          "base_uri": "https://localhost:8080/",
          "height": 36
        },
        "id": "oLvFVn25KrUe",
        "outputId": "51920443-4f31-4cc2-e4f7-a9d8a95dd53e"
      },
      "execution_count": null,
      "outputs": [
        {
          "output_type": "execute_result",
          "data": {
            "text/plain": [
              "'2020-10-31 23:50:00'"
            ],
            "application/vnd.google.colaboratory.intrinsic+json": {
              "type": "string"
            }
          },
          "metadata": {},
          "execution_count": 7
        }
      ]
    },
    {
      "cell_type": "markdown",
      "source": [
        "### quaulity data는 과거로부터의 2020년10월31일 23시50분부터  2020년 11월29일 09시00분 까지의 데이터가 들어있습니다."
      ],
      "metadata": {
        "id": "qs9vRj4exWWT"
      }
    },
    {
      "cell_type": "code",
      "source": [
        "train_quality[\"fwver\"].nunique()"
      ],
      "metadata": {
        "colab": {
          "base_uri": "https://localhost:8080/"
        },
        "id": "WEGD4PmWz_OI",
        "outputId": "c3de48a9-67a3-41a9-83ea-b5f33fe7e0c1"
      },
      "execution_count": null,
      "outputs": [
        {
          "output_type": "execute_result",
          "data": {
            "text/plain": [
              "27"
            ]
          },
          "metadata": {},
          "execution_count": 8
        }
      ]
    },
    {
      "cell_type": "code",
      "source": [
        "train_quality[\"user_id\"].nunique()"
      ],
      "metadata": {
        "colab": {
          "base_uri": "https://localhost:8080/"
        },
        "id": "cMBBgxTGweWI",
        "outputId": "61bd70d7-fd9c-4f49-8d0d-498365faf9cc"
      },
      "execution_count": null,
      "outputs": [
        {
          "output_type": "execute_result",
          "data": {
            "text/plain": [
              "8281"
            ]
          },
          "metadata": {},
          "execution_count": 9
        }
      ]
    },
    {
      "cell_type": "markdown",
      "source": [
        "### 펌웨어는 27번 업데이트 되었으며 집계된 고객은 8281명입니다."
      ],
      "metadata": {
        "id": "KZre6DkgyDBc"
      }
    },
    {
      "cell_type": "code",
      "source": [
        "# 결측치 확인\n",
        "train_quality.isnull().sum()"
      ],
      "metadata": {
        "colab": {
          "base_uri": "https://localhost:8080/"
        },
        "id": "VcoHGhWopYYp",
        "outputId": "60b69dee-1a49-4655-931a-903407579b09"
      },
      "execution_count": null,
      "outputs": [
        {
          "output_type": "execute_result",
          "data": {
            "text/plain": [
              "Unnamed: 0         0\n",
              "time               0\n",
              "user_id            0\n",
              "fwver          40080\n",
              "quality_0     144432\n",
              "quality_1          0\n",
              "quality_2      40113\n",
              "quality_3          0\n",
              "quality_4          0\n",
              "quality_5         20\n",
              "quality_6          0\n",
              "quality_7          0\n",
              "quality_8          0\n",
              "quality_9          0\n",
              "quality_10         0\n",
              "quality_11         0\n",
              "quality_12         0\n",
              "dtype: int64"
            ]
          },
          "metadata": {},
          "execution_count": 10
        }
      ]
    },
    {
      "cell_type": "markdown",
      "source": [
        "결측치를 어떻게 처리할지는 조원들과 조금 더 얘기를 해볼예정입니다."
      ],
      "metadata": {
        "id": "xtC9bxTMK-0m"
      }
    },
    {
      "cell_type": "code",
      "source": [
        "# 시간별 \bquality 시각화 (전체)\n",
        "plt.figure(figsize=(28,6))\n",
        "ax = sns.countplot(data=train_quality, x='time', palette=\"Set2\", order=train_problem[\"time\"])"
      ],
      "metadata": {
        "colab": {
          "base_uri": "https://localhost:8080/",
          "height": 274
        },
        "id": "oARZQslbfQoc",
        "outputId": "d90e3ce3-5063-4a8e-f278-92e853866c73"
      },
      "execution_count": null,
      "outputs": [
        {
          "output_type": "display_data",
          "data": {
            "text/plain": [
              "<Figure size 2016x432 with 1 Axes>"
            ],
            "image/png": "[encoded data removed]"
          },
          "metadata": {
            "needs_background": "light"
          }
        }
      ]
    },
    {
      "cell_type": "code",
      "source": [
        "# 시간별 \bquality 시각화 (상위 10개)\n",
        "plt.figure(figsize=(28,8))\n",
        "ax = sns.countplot(data=train_quality, x='time', palette=\"Set2\", order=train_quality[\"time\"].value_counts().index[:10])"
      ],
      "metadata": {
        "colab": {
          "base_uri": "https://localhost:8080/",
          "height": 363
        },
        "id": "m8oZ5DJeZDlJ",
        "outputId": "6e4437a3-4dc3-4245-f8f0-ece237e17287"
      },
      "execution_count": null,
      "outputs": [
        {
          "output_type": "display_data",
          "data": {
            "text/plain": [
              "<Figure size 2016x576 with 1 Axes>"
            ],
            "image/png": "[encoded data removed]"
          },
          "metadata": {
            "needs_background": "light"
          }
        }
      ]
    },
    {
      "cell_type": "markdown",
      "source": [
        "quality 로그의 경우 11월10일에 가장 많이 발생했습니다."
      ],
      "metadata": {
        "id": "LisVT06NZgx4"
      }
    },
    {
      "cell_type": "markdown",
      "source": [
        "## problem data 확인해보기"
      ],
      "metadata": {
        "id": "Yj_RyVgwyeIi"
      }
    },
    {
      "cell_type": "code",
      "source": [
        "train_problem.info()"
      ],
      "metadata": {
        "colab": {
          "base_uri": "https://localhost:8080/"
        },
        "id": "2JuYE_gbo6X0",
        "outputId": "69b49244-f8ee-4bcc-c896-6240754dcb98"
      },
      "execution_count": null,
      "outputs": [
        {
          "output_type": "stream",
          "name": "stdout",
          "text": [
            "<class 'pandas.core.frame.DataFrame'>\n",
            "RangeIndex: 5429 entries, 0 to 5428\n",
            "Data columns (total 3 columns):\n",
            " #   Column      Non-Null Count  Dtype \n",
            "---  ------      --------------  ----- \n",
            " 0   Unnamed: 0  5429 non-null   int64 \n",
            " 1   user_id     5429 non-null   int64 \n",
            " 2   time        5429 non-null   object\n",
            "dtypes: int64(2), object(1)\n",
            "memory usage: 127.4+ KB\n"
          ]
        }
      ]
    },
    {
      "cell_type": "code",
      "source": [
        "train_problem.head(10)"
      ],
      "metadata": {
        "colab": {
          "base_uri": "https://localhost:8080/",
          "height": 363
        },
        "id": "gdJjapO6o6Ve",
        "outputId": "83385142-8660-4efc-f30d-00549c57e889"
      },
      "execution_count": null,
      "outputs": [
        {
          "output_type": "execute_result",
          "data": {
            "text/plain": [
              "   Unnamed: 0  user_id                 time\n",
              "0           0    19224  2020-11-02 20:00:00\n",
              "1           1    23664  2020-11-16 14:00:00\n",
              "2           2    15166  2020-11-14 13:00:00\n",
              "3           3    12590  2020-11-08 21:00:00\n",
              "4           4    15932  2020-11-03 21:00:00\n",
              "5           5    16852  2020-11-19 15:00:00\n",
              "6           6    23427  2020-11-21 11:00:00\n",
              "7           7    13507  2020-11-11 16:00:00\n",
              "8           8    11274  2020-11-18 12:00:00\n",
              "9           9    20610  2020-11-27 23:00:00"
            ],
            "text/html": [
              "\n",
              "  <div id=\"df-2e3ee4eb-0779-4f2e-86c1-c829ccbc3b13\">\n",
              "    <div class=\"colab-df-container\">\n",
              "      <div>\n",
              "<style scoped>\n",
              "    .dataframe tbody tr th:only-of-type {\n",
              "        vertical-align: middle;\n",
              "    }\n",
              "\n",
              "    .dataframe tbody tr th {\n",
              "        vertical-align: top;\n",
              "    }\n",
              "\n",
              "    .dataframe thead th {\n",
              "        text-align: right;\n",
              "    }\n",
              "</style>\n",
              "<table border=\"1\" class=\"dataframe\">\n",
              "  <thead>\n",
              "    <tr style=\"text-align: right;\">\n",
              "      <th></th>\n",
              "      <th>Unnamed: 0</th>\n",
              "      <th>user_id</th>\n",
              "      <th>time</th>\n",
              "    </tr>\n",
              "  </thead>\n",
              "  <tbody>\n",
              "    <tr>\n",
              "      <th>0</th>\n",
              "      <td>0</td>\n",
              "      <td>19224</td>\n",
              "      <td>2020-11-02 20:00:00</td>\n",
              "    </tr>\n",
              "    <tr>\n",
              "      <th>1</th>\n",
              "      <td>1</td>\n",
              "      <td>23664</td>\n",
              "      <td>2020-11-16 14:00:00</td>\n",
              "    </tr>\n",
              "    <tr>\n",
              "      <th>2</th>\n",
              "      <td>2</td>\n",
              "      <td>15166</td>\n",
              "      <td>2020-11-14 13:00:00</td>\n",
              "    </tr>\n",
              "    <tr>\n",
              "      <th>3</th>\n",
              "      <td>3</td>\n",
              "      <td>12590</td>\n",
              "      <td>2020-11-08 21:00:00</td>\n",
              "    </tr>\n",
              "    <tr>\n",
              "      <th>4</th>\n",
              "      <td>4</td>\n",
              "      <td>15932</td>\n",
              "      <td>2020-11-03 21:00:00</td>\n",
              "    </tr>\n",
              "    <tr>\n",
              "      <th>5</th>\n",
              "      <td>5</td>\n",
              "      <td>16852</td>\n",
              "      <td>2020-11-19 15:00:00</td>\n",
              "    </tr>\n",
              "    <tr>\n",
              "      <th>6</th>\n",
              "      <td>6</td>\n",
              "      <td>23427</td>\n",
              "      <td>2020-11-21 11:00:00</td>\n",
              "    </tr>\n",
              "    <tr>\n",
              "      <th>7</th>\n",
              "      <td>7</td>\n",
              "      <td>13507</td>\n",
              "      <td>2020-11-11 16:00:00</td>\n",
              "    </tr>\n",
              "    <tr>\n",
              "      <th>8</th>\n",
              "      <td>8</td>\n",
              "      <td>11274</td>\n",
              "      <td>2020-11-18 12:00:00</td>\n",
              "    </tr>\n",
              "    <tr>\n",
              "      <th>9</th>\n",
              "      <td>9</td>\n",
              "      <td>20610</td>\n",
              "      <td>2020-11-27 23:00:00</td>\n",
              "    </tr>\n",
              "  </tbody>\n",
              "</table>\n",
              "</div>\n",
              "      <button class=\"colab-df-convert\" onclick=\"convertToInteractive('df-2e3ee4eb-0779-4f2e-86c1-c829ccbc3b13')\"\n",
              "              title=\"Convert this dataframe to an interactive table.\"\n",
              "              style=\"display:none;\">\n",
              "        \n",
              "  <svg xmlns=\"http://www.w3.org/2000/svg\" height=\"24px\"viewBox=\"0 0 24 24\"\n",
              "       width=\"24px\">\n",
              "    <path d=\"M0 0h24v24H0V0z\" fill=\"none\"/>\n",
              "    <path d=\"M18.56 5.44l.94 2.06.94-2.06 2.06-.94-2.06-.94-.94-2.06-.94 2.06-2.06.94zm-11 1L8.5 8.5l.94-2.06 2.06-.94-2.06-.94L8.5 2.5l-.94 2.06-2.06.94zm10 10l.94 2.06.94-2.06 2.06-.94-2.06-.94-.94-2.06-.94 2.06-2.06.94z\"/><path d=\"M17.41 7.96l-1.37-1.37c-.4-.4-.92-.59-1.43-.59-.52 0-1.04.2-1.43.59L10.3 9.45l-7.72 7.72c-.78.78-.78 2.05 0 2.83L4 21.41c.39.39.9.59 1.41.59.51 0 1.02-.2 1.41-.59l7.78-7.78 2.81-2.81c.8-.78.8-2.07 0-2.86zM5.41 20L4 18.59l7.72-7.72 1.47 1.35L5.41 20z\"/>\n",
              "  </svg>\n",
              "      </button>\n",
              "      \n",
              "  <style>\n",
              "    .colab-df-container {\n",
              "      display:flex;\n",
              "      flex-wrap:wrap;\n",
              "      gap: 12px;\n",
              "    }\n",
              "\n",
              "    .colab-df-convert {\n",
              "      background-color: #E8F0FE;\n",
              "      border: none;\n",
              "      border-radius: 50%;\n",
              "      cursor: pointer;\n",
              "      display: none;\n",
              "      fill: #1967D2;\n",
              "      height: 32px;\n",
              "      padding: 0 0 0 0;\n",
              "      width: 32px;\n",
              "    }\n",
              "\n",
              "    .colab-df-convert:hover {\n",
              "      background-color: #E2EBFA;\n",
              "      box-shadow: 0px 1px 2px rgba(60, 64, 67, 0.3), 0px 1px 3px 1px rgba(60, 64, 67, 0.15);\n",
              "      fill: #174EA6;\n",
              "    }\n",
              "\n",
              "    [theme=dark] .colab-df-convert {\n",
              "      background-color: #3B4455;\n",
              "      fill: #D2E3FC;\n",
              "    }\n",
              "\n",
              "    [theme=dark] .colab-df-convert:hover {\n",
              "      background-color: #434B5C;\n",
              "      box-shadow: 0px 1px 3px 1px rgba(0, 0, 0, 0.15);\n",
              "      filter: drop-shadow(0px 1px 2px rgba(0, 0, 0, 0.3));\n",
              "      fill: #FFFFFF;\n",
              "    }\n",
              "  </style>\n",
              "\n",
              "      <script>\n",
              "        const buttonEl =\n",
              "          document.querySelector('#df-2e3ee4eb-0779-4f2e-86c1-c829ccbc3b13 button.colab-df-convert');\n",
              "        buttonEl.style.display =\n",
              "          google.colab.kernel.accessAllowed ? 'block' : 'none';\n",
              "\n",
              "        async function convertToInteractive(key) {\n",
              "          const element = document.querySelector('#df-2e3ee4eb-0779-4f2e-86c1-c829ccbc3b13');\n",
              "          const dataTable =\n",
              "            await google.colab.kernel.invokeFunction('convertToInteractive',\n",
              "                                                     [key], {});\n",
              "          if (!dataTable) return;\n",
              "\n",
              "          const docLinkHtml = 'Like what you see? Visit the ' +\n",
              "            '<a target=\"_blank\" href=https://colab.research.google.com/notebooks/data_table.ipynb>data table notebook</a>'\n",
              "            + ' to learn more about interactive tables.';\n",
              "          element.innerHTML = '';\n",
              "          dataTable['output_type'] = 'display_data';\n",
              "          await google.colab.output.renderOutput(dataTable, element);\n",
              "          const docLink = document.createElement('div');\n",
              "          docLink.innerHTML = docLinkHtml;\n",
              "          element.appendChild(docLink);\n",
              "        }\n",
              "      </script>\n",
              "    </div>\n",
              "  </div>\n",
              "  "
            ]
          },
          "metadata": {},
          "execution_count": 12
        }
      ]
    },
    {
      "cell_type": "code",
      "source": [
        "train_problem[\"user_id\"].nunique()"
      ],
      "metadata": {
        "colab": {
          "base_uri": "https://localhost:8080/"
        },
        "id": "r5KgxPRZy6bg",
        "outputId": "18ebbaba-088e-4943-c58e-b69214d3da75"
      },
      "execution_count": null,
      "outputs": [
        {
          "output_type": "execute_result",
          "data": {
            "text/plain": [
              "5000"
            ]
          },
          "metadata": {},
          "execution_count": 13
        }
      ]
    },
    {
      "cell_type": "code",
      "source": [
        "train_problem[\"time\"].nunique()"
      ],
      "metadata": {
        "colab": {
          "base_uri": "https://localhost:8080/"
        },
        "id": "qWxMl7KezI5U",
        "outputId": "b7a07580-0d37-40e9-8bf2-4441d0fafef9"
      },
      "execution_count": null,
      "outputs": [
        {
          "output_type": "execute_result",
          "data": {
            "text/plain": [
              "488"
            ]
          },
          "metadata": {},
          "execution_count": 14
        }
      ]
    },
    {
      "cell_type": "code",
      "source": [
        "train_problem.time.max()"
      ],
      "metadata": {
        "colab": {
          "base_uri": "https://localhost:8080/",
          "height": 36
        },
        "id": "CV1o3SSszNy3",
        "outputId": "54219bf7-b373-49e2-a689-18c7a12c052d"
      },
      "execution_count": null,
      "outputs": [
        {
          "output_type": "execute_result",
          "data": {
            "text/plain": [
              "'2020-11-30 23:00:00'"
            ],
            "application/vnd.google.colaboratory.intrinsic+json": {
              "type": "string"
            }
          },
          "metadata": {},
          "execution_count": 15
        }
      ]
    },
    {
      "cell_type": "code",
      "source": [
        "train_problem.time.min()"
      ],
      "metadata": {
        "colab": {
          "base_uri": "https://localhost:8080/",
          "height": 36
        },
        "id": "kgGk5vG5zRRw",
        "outputId": "ca8bb7dd-bca5-487d-aa2f-443d0d172e72"
      },
      "execution_count": null,
      "outputs": [
        {
          "output_type": "execute_result",
          "data": {
            "text/plain": [
              "'2020-11-01 00:00:00'"
            ],
            "application/vnd.google.colaboratory.intrinsic+json": {
              "type": "string"
            }
          },
          "metadata": {},
          "execution_count": 16
        }
      ]
    },
    {
      "cell_type": "markdown",
      "source": [
        "### 불만접수를 한 고객은 5000명이며, problem data는 2020년 11월01일 00시00분 부터 2020년 11월30일 23시00분 까지의 데이터가 들어있습니다."
      ],
      "metadata": {
        "id": "ZNNPwJWszU30"
      }
    },
    {
      "cell_type": "code",
      "source": [
        "# 결측치 확인\n",
        "train_problem.isnull().sum()"
      ],
      "metadata": {
        "colab": {
          "base_uri": "https://localhost:8080/"
        },
        "id": "nKzZgc4ope1Z",
        "outputId": "d57d8aac-df3f-40d1-8a5f-fb097c2c9cc2"
      },
      "execution_count": null,
      "outputs": [
        {
          "output_type": "execute_result",
          "data": {
            "text/plain": [
              "Unnamed: 0    0\n",
              "user_id       0\n",
              "time          0\n",
              "dtype: int64"
            ]
          },
          "metadata": {},
          "execution_count": 17
        }
      ]
    },
    {
      "cell_type": "markdown",
      "source": [
        "결측치 없음."
      ],
      "metadata": {
        "id": "EKUQRCPFLbcq"
      }
    },
    {
      "cell_type": "code",
      "source": [
        "train_problem.user_id.max()    "
      ],
      "metadata": {
        "colab": {
          "base_uri": "https://localhost:8080/"
        },
        "id": "jA-1FifOBlFg",
        "outputId": "53c31a14-40ed-44eb-ab25-c4ffb3c660be"
      },
      "execution_count": null,
      "outputs": [
        {
          "output_type": "execute_result",
          "data": {
            "text/plain": [
              "24998"
            ]
          },
          "metadata": {},
          "execution_count": 74
        }
      ]
    },
    {
      "cell_type": "code",
      "source": [
        "train_quality.user_id.max()"
      ],
      "metadata": {
        "id": "e87ptPZMCZ_d",
        "outputId": "641bd409-8eeb-4606-8a47-fb31ade2b2f6",
        "colab": {
          "base_uri": "https://localhost:8080/"
        }
      },
      "execution_count": null,
      "outputs": [
        {
          "output_type": "execute_result",
          "data": {
            "text/plain": [
              "24997"
            ]
          },
          "metadata": {},
          "execution_count": 75
        }
      ]
    },
    {
      "cell_type": "code",
      "source": [
        "# 시간별 불만접수 시각화 (전체)\n",
        "plt.figure(figsize=(28,8))\n",
        "ax = sns.countplot(data=train_problem, x='time', palette=\"Set2\", order=train_problem[\"time\"])"
      ],
      "metadata": {
        "colab": {
          "base_uri": "https://localhost:8080/",
          "height": 350
        },
        "id": "Yf64Vpltfj8r",
        "outputId": "18cfd2d8-8c21-4e8b-aa34-d702bfc99f8b"
      },
      "execution_count": null,
      "outputs": [
        {
          "output_type": "display_data",
          "data": {
            "text/plain": [
              "<Figure size 2016x576 with 1 Axes>"
            ],
            "image/png": "[encoded data removed]"
          },
          "metadata": {
            "needs_background": "light"
          }
        }
      ]
    },
    {
      "cell_type": "code",
      "source": [
        "# 시간별 불만접수 시각화 (상위 10개)\n",
        "plt.figure(figsize=(28,8))\n",
        "ax = sns.countplot(data=train_problem, x='time', palette=\"Set2\", order=train_problem[\"time\"].value_counts().index[:10])"
      ],
      "metadata": {
        "colab": {
          "base_uri": "https://localhost:8080/",
          "height": 365
        },
        "id": "_dhTK32XWm2h",
        "outputId": "eac6f16d-bbe9-47c3-b8c8-eede8f7d0215"
      },
      "execution_count": null,
      "outputs": [
        {
          "output_type": "display_data",
          "data": {
            "text/plain": [
              "<Figure size 2016x576 with 1 Axes>"
            ],
            "image/png": "[encoded data removed]"
          },
          "metadata": {
            "needs_background": "light"
          }
        }
      ]
    },
    {
      "cell_type": "code",
      "source": [
        "# 시간별 불만접수 시각화 (상위 10~20개)\n",
        "plt.figure(figsize=(28,8))\n",
        "ax = sns.countplot(data=train_problem, x='time', palette=\"Set2\", order=train_problem[\"time\"].value_counts().index[10:20])"
      ],
      "metadata": {
        "colab": {
          "base_uri": "https://localhost:8080/",
          "height": 365
        },
        "id": "GrIKqofHZ48y",
        "outputId": "99eb1958-d4b8-462f-ec38-a51fd281e54e"
      },
      "execution_count": null,
      "outputs": [
        {
          "output_type": "display_data",
          "data": {
            "text/plain": [
              "<Figure size 2016x576 with 1 Axes>"
            ],
            "image/png": "[encoded data removed]"
          },
          "metadata": {
            "needs_background": "light"
          }
        }
      ]
    },
    {
      "cell_type": "markdown",
      "source": [
        "불만접수의 경우 11월30일에 가장 많이 발생하기는 했지만 어떤 날짜가 뚜렷하게 가장 많다고 하기는 어려울거 같습니다."
      ],
      "metadata": {
        "id": "wAPPP1boZyNB"
      }
    },
    {
      "cell_type": "markdown",
      "source": [
        "## error data 확인해보기"
      ],
      "metadata": {
        "id": "eW01kbl0z5V1"
      }
    },
    {
      "cell_type": "code",
      "source": [
        "train_error.info()"
      ],
      "metadata": {
        "colab": {
          "base_uri": "https://localhost:8080/"
        },
        "id": "j7yRtmsPo6S4",
        "outputId": "97c80326-1a3e-4958-95b7-8b99a4a95155"
      },
      "execution_count": null,
      "outputs": [
        {
          "output_type": "stream",
          "name": "stdout",
          "text": [
            "<class 'pandas.core.frame.DataFrame'>\n",
            "RangeIndex: 16554663 entries, 0 to 16554662\n",
            "Data columns (total 7 columns):\n",
            " #   Column      Dtype \n",
            "---  ------      ----- \n",
            " 0   Unnamed: 0  int64 \n",
            " 1   user_id     int64 \n",
            " 2   time        object\n",
            " 3   model_nm    object\n",
            " 4   fwver       object\n",
            " 5   errtype     int64 \n",
            " 6   errcode     object\n",
            "dtypes: int64(3), object(4)\n",
            "memory usage: 884.1+ MB\n"
          ]
        }
      ]
    },
    {
      "cell_type": "code",
      "source": [
        "train_error.head(10)"
      ],
      "metadata": {
        "colab": {
          "base_uri": "https://localhost:8080/"
        },
        "id": "vHHhb_q0o6Hs",
        "outputId": "3088e3c0-dcda-47b2-af84-dc954e7b2fb2"
      },
      "execution_count": null,
      "outputs": [
        {
          "output_type": "execute_result",
          "data": {
            "text/plain": [
              "   Unnamed: 0  user_id                 time model_nm       fwver  errtype  \\\n",
              "0           0    10000  2020-11-01 02:56:16  model_3  05.15.2138       15   \n",
              "1           1    10000  2020-11-01 03:03:09  model_3  05.15.2138       12   \n",
              "2           2    10000  2020-11-01 03:03:09  model_3  05.15.2138       11   \n",
              "3           3    10000  2020-11-01 05:05:14  model_3  05.15.2138       16   \n",
              "4           4    10000  2020-11-01 05:05:15  model_3  05.15.2138        4   \n",
              "5           5    10000  2020-11-01 05:05:16  model_3  05.15.2138       26   \n",
              "6           6    10000  2020-11-01 05:05:22  model_3  05.15.2138        4   \n",
              "7           7    10000  2020-11-01 06:09:03  model_3  05.15.2138       15   \n",
              "8           8    10000  2020-11-01 17:47:54  model_3  05.15.2138       16   \n",
              "9           9    10000  2020-11-01 17:47:56  model_3  05.15.2138        4   \n",
              "\n",
              "  errcode  \n",
              "0       1  \n",
              "1       1  \n",
              "2       1  \n",
              "3       1  \n",
              "4       0  \n",
              "5       1  \n",
              "6       0  \n",
              "7       1  \n",
              "8       1  \n",
              "9       0  "
            ],
            "text/html": [
              "\n",
              "  <div id=\"df-e9bf5ca8-f02f-40f5-a23f-5d928db10517\">\n",
              "    <div class=\"colab-df-container\">\n",
              "      <div>\n",
              "<style scoped>\n",
              "    .dataframe tbody tr th:only-of-type {\n",
              "        vertical-align: middle;\n",
              "    }\n",
              "\n",
              "    .dataframe tbody tr th {\n",
              "        vertical-align: top;\n",
              "    }\n",
              "\n",
              "    .dataframe thead th {\n",
              "        text-align: right;\n",
              "    }\n",
              "</style>\n",
              "<table border=\"1\" class=\"dataframe\">\n",
              "  <thead>\n",
              "    <tr style=\"text-align: right;\">\n",
              "      <th></th>\n",
              "      <th>Unnamed: 0</th>\n",
              "      <th>user_id</th>\n",
              "      <th>time</th>\n",
              "      <th>model_nm</th>\n",
              "      <th>fwver</th>\n",
              "      <th>errtype</th>\n",
              "      <th>errcode</th>\n",
              "    </tr>\n",
              "  </thead>\n",
              "  <tbody>\n",
              "    <tr>\n",
              "      <th>0</th>\n",
              "      <td>0</td>\n",
              "      <td>10000</td>\n",
              "      <td>2020-11-01 02:56:16</td>\n",
              "      <td>model_3</td>\n",
              "      <td>05.15.2138</td>\n",
              "      <td>15</td>\n",
              "      <td>1</td>\n",
              "    </tr>\n",
              "    <tr>\n",
              "      <th>1</th>\n",
              "      <td>1</td>\n",
              "      <td>10000</td>\n",
              "      <td>2020-11-01 03:03:09</td>\n",
              "      <td>model_3</td>\n",
              "      <td>05.15.2138</td>\n",
              "      <td>12</td>\n",
              "      <td>1</td>\n",
              "    </tr>\n",
              "    <tr>\n",
              "      <th>2</th>\n",
              "      <td>2</td>\n",
              "      <td>10000</td>\n",
              "      <td>2020-11-01 03:03:09</td>\n",
              "      <td>model_3</td>\n",
              "      <td>05.15.2138</td>\n",
              "      <td>11</td>\n",
              "      <td>1</td>\n",
              "    </tr>\n",
              "    <tr>\n",
              "      <th>3</th>\n",
              "      <td>3</td>\n",
              "      <td>10000</td>\n",
              "      <td>2020-11-01 05:05:14</td>\n",
              "      <td>model_3</td>\n",
              "      <td>05.15.2138</td>\n",
              "      <td>16</td>\n",
              "      <td>1</td>\n",
              "    </tr>\n",
              "    <tr>\n",
              "      <th>4</th>\n",
              "      <td>4</td>\n",
              "      <td>10000</td>\n",
              "      <td>2020-11-01 05:05:15</td>\n",
              "      <td>model_3</td>\n",
              "      <td>05.15.2138</td>\n",
              "      <td>4</td>\n",
              "      <td>0</td>\n",
              "    </tr>\n",
              "    <tr>\n",
              "      <th>5</th>\n",
              "      <td>5</td>\n",
              "      <td>10000</td>\n",
              "      <td>2020-11-01 05:05:16</td>\n",
              "      <td>model_3</td>\n",
              "      <td>05.15.2138</td>\n",
              "      <td>26</td>\n",
              "      <td>1</td>\n",
              "    </tr>\n",
              "    <tr>\n",
              "      <th>6</th>\n",
              "      <td>6</td>\n",
              "      <td>10000</td>\n",
              "      <td>2020-11-01 05:05:22</td>\n",
              "      <td>model_3</td>\n",
              "      <td>05.15.2138</td>\n",
              "      <td>4</td>\n",
              "      <td>0</td>\n",
              "    </tr>\n",
              "    <tr>\n",
              "      <th>7</th>\n",
              "      <td>7</td>\n",
              "      <td>10000</td>\n",
              "      <td>2020-11-01 06:09:03</td>\n",
              "      <td>model_3</td>\n",
              "      <td>05.15.2138</td>\n",
              "      <td>15</td>\n",
              "      <td>1</td>\n",
              "    </tr>\n",
              "    <tr>\n",
              "      <th>8</th>\n",
              "      <td>8</td>\n",
              "      <td>10000</td>\n",
              "      <td>2020-11-01 17:47:54</td>\n",
              "      <td>model_3</td>\n",
              "      <td>05.15.2138</td>\n",
              "      <td>16</td>\n",
              "      <td>1</td>\n",
              "    </tr>\n",
              "    <tr>\n",
              "      <th>9</th>\n",
              "      <td>9</td>\n",
              "      <td>10000</td>\n",
              "      <td>2020-11-01 17:47:56</td>\n",
              "      <td>model_3</td>\n",
              "      <td>05.15.2138</td>\n",
              "      <td>4</td>\n",
              "      <td>0</td>\n",
              "    </tr>\n",
              "  </tbody>\n",
              "</table>\n",
              "</div>\n",
              "      <button class=\"colab-df-convert\" onclick=\"convertToInteractive('df-e9bf5ca8-f02f-40f5-a23f-5d928db10517')\"\n",
              "              title=\"Convert this dataframe to an interactive table.\"\n",
              "              style=\"display:none;\">\n",
              "        \n",
              "  <svg xmlns=\"http://www.w3.org/2000/svg\" height=\"24px\"viewBox=\"0 0 24 24\"\n",
              "       width=\"24px\">\n",
              "    <path d=\"M0 0h24v24H0V0z\" fill=\"none\"/>\n",
              "    <path d=\"M18.56 5.44l.94 2.06.94-2.06 2.06-.94-2.06-.94-.94-2.06-.94 2.06-2.06.94zm-11 1L8.5 8.5l.94-2.06 2.06-.94-2.06-.94L8.5 2.5l-.94 2.06-2.06.94zm10 10l.94 2.06.94-2.06 2.06-.94-2.06-.94-.94-2.06-.94 2.06-2.06.94z\"/><path d=\"M17.41 7.96l-1.37-1.37c-.4-.4-.92-.59-1.43-.59-.52 0-1.04.2-1.43.59L10.3 9.45l-7.72 7.72c-.78.78-.78 2.05 0 2.83L4 21.41c.39.39.9.59 1.41.59.51 0 1.02-.2 1.41-.59l7.78-7.78 2.81-2.81c.8-.78.8-2.07 0-2.86zM5.41 20L4 18.59l7.72-7.72 1.47 1.35L5.41 20z\"/>\n",
              "  </svg>\n",
              "      </button>\n",
              "      \n",
              "  <style>\n",
              "    .colab-df-container {\n",
              "      display:flex;\n",
              "      flex-wrap:wrap;\n",
              "      gap: 12px;\n",
              "    }\n",
              "\n",
              "    .colab-df-convert {\n",
              "      background-color: #E8F0FE;\n",
              "      border: none;\n",
              "      border-radius: 50%;\n",
              "      cursor: pointer;\n",
              "      display: none;\n",
              "      fill: #1967D2;\n",
              "      height: 32px;\n",
              "      padding: 0 0 0 0;\n",
              "      width: 32px;\n",
              "    }\n",
              "\n",
              "    .colab-df-convert:hover {\n",
              "      background-color: #E2EBFA;\n",
              "      box-shadow: 0px 1px 2px rgba(60, 64, 67, 0.3), 0px 1px 3px 1px rgba(60, 64, 67, 0.15);\n",
              "      fill: #174EA6;\n",
              "    }\n",
              "\n",
              "    [theme=dark] .colab-df-convert {\n",
              "      background-color: #3B4455;\n",
              "      fill: #D2E3FC;\n",
              "    }\n",
              "\n",
              "    [theme=dark] .colab-df-convert:hover {\n",
              "      background-color: #434B5C;\n",
              "      box-shadow: 0px 1px 3px 1px rgba(0, 0, 0, 0.15);\n",
              "      filter: drop-shadow(0px 1px 2px rgba(0, 0, 0, 0.3));\n",
              "      fill: #FFFFFF;\n",
              "    }\n",
              "  </style>\n",
              "\n",
              "      <script>\n",
              "        const buttonEl =\n",
              "          document.querySelector('#df-e9bf5ca8-f02f-40f5-a23f-5d928db10517 button.colab-df-convert');\n",
              "        buttonEl.style.display =\n",
              "          google.colab.kernel.accessAllowed ? 'block' : 'none';\n",
              "\n",
              "        async function convertToInteractive(key) {\n",
              "          const element = document.querySelector('#df-e9bf5ca8-f02f-40f5-a23f-5d928db10517');\n",
              "          const dataTable =\n",
              "            await google.colab.kernel.invokeFunction('convertToInteractive',\n",
              "                                                     [key], {});\n",
              "          if (!dataTable) return;\n",
              "\n",
              "          const docLinkHtml = 'Like what you see? Visit the ' +\n",
              "            '<a target=\"_blank\" href=https://colab.research.google.com/notebooks/data_table.ipynb>data table notebook</a>'\n",
              "            + ' to learn more about interactive tables.';\n",
              "          element.innerHTML = '';\n",
              "          dataTable['output_type'] = 'display_data';\n",
              "          await google.colab.output.renderOutput(dataTable, element);\n",
              "          const docLink = document.createElement('div');\n",
              "          docLink.innerHTML = docLinkHtml;\n",
              "          element.appendChild(docLink);\n",
              "        }\n",
              "      </script>\n",
              "    </div>\n",
              "  </div>\n",
              "  "
            ]
          },
          "metadata": {},
          "execution_count": 19
        }
      ]
    },
    {
      "cell_type": "code",
      "source": [
        "train_error.tail(10)"
      ],
      "metadata": {
        "colab": {
          "base_uri": "https://localhost:8080/"
        },
        "id": "LH4tfw5g0H5R",
        "outputId": "9ff55265-d03a-468c-84c8-dc9ce912aa3b"
      },
      "execution_count": null,
      "outputs": [
        {
          "output_type": "execute_result",
          "data": {
            "text/plain": [
              "          Unnamed: 0  user_id                 time model_nm       fwver  \\\n",
              "16554653    16554653    24999  2020-11-30 07:47:11  model_3  05.15.2138   \n",
              "16554654    16554654    24999  2020-11-30 14:21:05  model_3  05.15.2138   \n",
              "16554655    16554655    24999  2020-11-30 16:15:10  model_3  05.15.2138   \n",
              "16554656    16554656    24999  2020-11-30 16:15:11  model_3  05.15.2138   \n",
              "16554657    16554657    24999  2020-11-30 16:15:17  model_3  05.15.2138   \n",
              "16554658    16554658    24999  2020-11-30 16:30:51  model_3  05.15.2138   \n",
              "16554659    16554659    24999  2020-11-30 17:26:25  model_3  05.15.2138   \n",
              "16554660    16554660    24999  2020-11-30 17:26:25  model_3  05.15.2138   \n",
              "16554661    16554661    24999  2020-11-30 17:26:31  model_3  05.15.2138   \n",
              "16554662    16554662    24999  2020-11-30 21:06:25  model_3  05.15.2138   \n",
              "\n",
              "          errtype errcode  \n",
              "16554653        4       0  \n",
              "16554654       15       1  \n",
              "16554655       16       1  \n",
              "16554656        4       0  \n",
              "16554657        4       0  \n",
              "16554658       15       1  \n",
              "16554659       16       1  \n",
              "16554660        4       0  \n",
              "16554661        4       0  \n",
              "16554662       15       1  "
            ],
            "text/html": [
              "\n",
              "  <div id=\"df-d6b365f7-f461-4be9-b031-5ea6065553cc\">\n",
              "    <div class=\"colab-df-container\">\n",
              "      <div>\n",
              "<style scoped>\n",
              "    .dataframe tbody tr th:only-of-type {\n",
              "        vertical-align: middle;\n",
              "    }\n",
              "\n",
              "    .dataframe tbody tr th {\n",
              "        vertical-align: top;\n",
              "    }\n",
              "\n",
              "    .dataframe thead th {\n",
              "        text-align: right;\n",
              "    }\n",
              "</style>\n",
              "<table border=\"1\" class=\"dataframe\">\n",
              "  <thead>\n",
              "    <tr style=\"text-align: right;\">\n",
              "      <th></th>\n",
              "      <th>Unnamed: 0</th>\n",
              "      <th>user_id</th>\n",
              "      <th>time</th>\n",
              "      <th>model_nm</th>\n",
              "      <th>fwver</th>\n",
              "      <th>errtype</th>\n",
              "      <th>errcode</th>\n",
              "    </tr>\n",
              "  </thead>\n",
              "  <tbody>\n",
              "    <tr>\n",
              "      <th>16554653</th>\n",
              "      <td>16554653</td>\n",
              "      <td>24999</td>\n",
              "      <td>2020-11-30 07:47:11</td>\n",
              "      <td>model_3</td>\n",
              "      <td>05.15.2138</td>\n",
              "      <td>4</td>\n",
              "      <td>0</td>\n",
              "    </tr>\n",
              "    <tr>\n",
              "      <th>16554654</th>\n",
              "      <td>16554654</td>\n",
              "      <td>24999</td>\n",
              "      <td>2020-11-30 14:21:05</td>\n",
              "      <td>model_3</td>\n",
              "      <td>05.15.2138</td>\n",
              "      <td>15</td>\n",
              "      <td>1</td>\n",
              "    </tr>\n",
              "    <tr>\n",
              "      <th>16554655</th>\n",
              "      <td>16554655</td>\n",
              "      <td>24999</td>\n",
              "      <td>2020-11-30 16:15:10</td>\n",
              "      <td>model_3</td>\n",
              "      <td>05.15.2138</td>\n",
              "      <td>16</td>\n",
              "      <td>1</td>\n",
              "    </tr>\n",
              "    <tr>\n",
              "      <th>16554656</th>\n",
              "      <td>16554656</td>\n",
              "      <td>24999</td>\n",
              "      <td>2020-11-30 16:15:11</td>\n",
              "      <td>model_3</td>\n",
              "      <td>05.15.2138</td>\n",
              "      <td>4</td>\n",
              "      <td>0</td>\n",
              "    </tr>\n",
              "    <tr>\n",
              "      <th>16554657</th>\n",
              "      <td>16554657</td>\n",
              "      <td>24999</td>\n",
              "      <td>2020-11-30 16:15:17</td>\n",
              "      <td>model_3</td>\n",
              "      <td>05.15.2138</td>\n",
              "      <td>4</td>\n",
              "      <td>0</td>\n",
              "    </tr>\n",
              "    <tr>\n",
              "      <th>16554658</th>\n",
              "      <td>16554658</td>\n",
              "      <td>24999</td>\n",
              "      <td>2020-11-30 16:30:51</td>\n",
              "      <td>model_3</td>\n",
              "      <td>05.15.2138</td>\n",
              "      <td>15</td>\n",
              "      <td>1</td>\n",
              "    </tr>\n",
              "    <tr>\n",
              "      <th>16554659</th>\n",
              "      <td>16554659</td>\n",
              "      <td>24999</td>\n",
              "      <td>2020-11-30 17:26:25</td>\n",
              "      <td>model_3</td>\n",
              "      <td>05.15.2138</td>\n",
              "      <td>16</td>\n",
              "      <td>1</td>\n",
              "    </tr>\n",
              "    <tr>\n",
              "      <th>16554660</th>\n",
              "      <td>16554660</td>\n",
              "      <td>24999</td>\n",
              "      <td>2020-11-30 17:26:25</td>\n",
              "      <td>model_3</td>\n",
              "      <td>05.15.2138</td>\n",
              "      <td>4</td>\n",
              "      <td>0</td>\n",
              "    </tr>\n",
              "    <tr>\n",
              "      <th>16554661</th>\n",
              "      <td>16554661</td>\n",
              "      <td>24999</td>\n",
              "      <td>2020-11-30 17:26:31</td>\n",
              "      <td>model_3</td>\n",
              "      <td>05.15.2138</td>\n",
              "      <td>4</td>\n",
              "      <td>0</td>\n",
              "    </tr>\n",
              "    <tr>\n",
              "      <th>16554662</th>\n",
              "      <td>16554662</td>\n",
              "      <td>24999</td>\n",
              "      <td>2020-11-30 21:06:25</td>\n",
              "      <td>model_3</td>\n",
              "      <td>05.15.2138</td>\n",
              "      <td>15</td>\n",
              "      <td>1</td>\n",
              "    </tr>\n",
              "  </tbody>\n",
              "</table>\n",
              "</div>\n",
              "      <button class=\"colab-df-convert\" onclick=\"convertToInteractive('df-d6b365f7-f461-4be9-b031-5ea6065553cc')\"\n",
              "              title=\"Convert this dataframe to an interactive table.\"\n",
              "              style=\"display:none;\">\n",
              "        \n",
              "  <svg xmlns=\"http://www.w3.org/2000/svg\" height=\"24px\"viewBox=\"0 0 24 24\"\n",
              "       width=\"24px\">\n",
              "    <path d=\"M0 0h24v24H0V0z\" fill=\"none\"/>\n",
              "    <path d=\"M18.56 5.44l.94 2.06.94-2.06 2.06-.94-2.06-.94-.94-2.06-.94 2.06-2.06.94zm-11 1L8.5 8.5l.94-2.06 2.06-.94-2.06-.94L8.5 2.5l-.94 2.06-2.06.94zm10 10l.94 2.06.94-2.06 2.06-.94-2.06-.94-.94-2.06-.94 2.06-2.06.94z\"/><path d=\"M17.41 7.96l-1.37-1.37c-.4-.4-.92-.59-1.43-.59-.52 0-1.04.2-1.43.59L10.3 9.45l-7.72 7.72c-.78.78-.78 2.05 0 2.83L4 21.41c.39.39.9.59 1.41.59.51 0 1.02-.2 1.41-.59l7.78-7.78 2.81-2.81c.8-.78.8-2.07 0-2.86zM5.41 20L4 18.59l7.72-7.72 1.47 1.35L5.41 20z\"/>\n",
              "  </svg>\n",
              "      </button>\n",
              "      \n",
              "  <style>\n",
              "    .colab-df-container {\n",
              "      display:flex;\n",
              "      flex-wrap:wrap;\n",
              "      gap: 12px;\n",
              "    }\n",
              "\n",
              "    .colab-df-convert {\n",
              "      background-color: #E8F0FE;\n",
              "      border: none;\n",
              "      border-radius: 50%;\n",
              "      cursor: pointer;\n",
              "      display: none;\n",
              "      fill: #1967D2;\n",
              "      height: 32px;\n",
              "      padding: 0 0 0 0;\n",
              "      width: 32px;\n",
              "    }\n",
              "\n",
              "    .colab-df-convert:hover {\n",
              "      background-color: #E2EBFA;\n",
              "      box-shadow: 0px 1px 2px rgba(60, 64, 67, 0.3), 0px 1px 3px 1px rgba(60, 64, 67, 0.15);\n",
              "      fill: #174EA6;\n",
              "    }\n",
              "\n",
              "    [theme=dark] .colab-df-convert {\n",
              "      background-color: #3B4455;\n",
              "      fill: #D2E3FC;\n",
              "    }\n",
              "\n",
              "    [theme=dark] .colab-df-convert:hover {\n",
              "      background-color: #434B5C;\n",
              "      box-shadow: 0px 1px 3px 1px rgba(0, 0, 0, 0.15);\n",
              "      filter: drop-shadow(0px 1px 2px rgba(0, 0, 0, 0.3));\n",
              "      fill: #FFFFFF;\n",
              "    }\n",
              "  </style>\n",
              "\n",
              "      <script>\n",
              "        const buttonEl =\n",
              "          document.querySelector('#df-d6b365f7-f461-4be9-b031-5ea6065553cc button.colab-df-convert');\n",
              "        buttonEl.style.display =\n",
              "          google.colab.kernel.accessAllowed ? 'block' : 'none';\n",
              "\n",
              "        async function convertToInteractive(key) {\n",
              "          const element = document.querySelector('#df-d6b365f7-f461-4be9-b031-5ea6065553cc');\n",
              "          const dataTable =\n",
              "            await google.colab.kernel.invokeFunction('convertToInteractive',\n",
              "                                                     [key], {});\n",
              "          if (!dataTable) return;\n",
              "\n",
              "          const docLinkHtml = 'Like what you see? Visit the ' +\n",
              "            '<a target=\"_blank\" href=https://colab.research.google.com/notebooks/data_table.ipynb>data table notebook</a>'\n",
              "            + ' to learn more about interactive tables.';\n",
              "          element.innerHTML = '';\n",
              "          dataTable['output_type'] = 'display_data';\n",
              "          await google.colab.output.renderOutput(dataTable, element);\n",
              "          const docLink = document.createElement('div');\n",
              "          docLink.innerHTML = docLinkHtml;\n",
              "          element.appendChild(docLink);\n",
              "        }\n",
              "      </script>\n",
              "    </div>\n",
              "  </div>\n",
              "  "
            ]
          },
          "metadata": {},
          "execution_count": 20
        }
      ]
    },
    {
      "cell_type": "code",
      "source": [
        "train_error[\"user_id\"].nunique()"
      ],
      "metadata": {
        "colab": {
          "base_uri": "https://localhost:8080/"
        },
        "id": "ohYeviQ50-P2",
        "outputId": "96241482-6be9-453b-fe0b-3fce0750c93e"
      },
      "execution_count": null,
      "outputs": [
        {
          "output_type": "execute_result",
          "data": {
            "text/plain": [
              "15000"
            ]
          },
          "metadata": {},
          "execution_count": 21
        }
      ]
    },
    {
      "cell_type": "code",
      "source": [
        "train_error[\"time\"].max()"
      ],
      "metadata": {
        "colab": {
          "base_uri": "https://localhost:8080/"
        },
        "id": "ebYSkGgx0-NP",
        "outputId": "e8c4a6d5-01d5-40a9-c945-acf986411ad3"
      },
      "execution_count": null,
      "outputs": [
        {
          "output_type": "execute_result",
          "data": {
            "text/plain": [
              "'2020-12-02 18:51:52'"
            ],
            "application/vnd.google.colaboratory.intrinsic+json": {
              "type": "string"
            }
          },
          "metadata": {},
          "execution_count": 22
        }
      ]
    },
    {
      "cell_type": "code",
      "source": [
        "train_error[\"time\"].min()"
      ],
      "metadata": {
        "colab": {
          "base_uri": "https://localhost:8080/"
        },
        "id": "M4VsnJYk0-Kq",
        "outputId": "bda4069e-3754-4157-9437-ed2fc9ee0a9c"
      },
      "execution_count": null,
      "outputs": [
        {
          "output_type": "execute_result",
          "data": {
            "text/plain": [
              "'2020-10-31 23:59:59'"
            ],
            "application/vnd.google.colaboratory.intrinsic+json": {
              "type": "string"
            }
          },
          "metadata": {},
          "execution_count": 23
        }
      ]
    },
    {
      "cell_type": "code",
      "source": [
        "train_error[\"model_nm\"].nunique()"
      ],
      "metadata": {
        "colab": {
          "base_uri": "https://localhost:8080/"
        },
        "id": "Hf6USQ3T1Lkf",
        "outputId": "412b1dcf-5df1-417a-b0c1-7b0733682de5"
      },
      "execution_count": null,
      "outputs": [
        {
          "output_type": "execute_result",
          "data": {
            "text/plain": [
              "9"
            ]
          },
          "metadata": {},
          "execution_count": 24
        }
      ]
    },
    {
      "cell_type": "code",
      "source": [
        "train_error[\"fwver\"].nunique()"
      ],
      "metadata": {
        "colab": {
          "base_uri": "https://localhost:8080/"
        },
        "id": "7AIiK0be1LZS",
        "outputId": "c07a4510-9643-48cf-ff2b-72ba3e5361b0"
      },
      "execution_count": null,
      "outputs": [
        {
          "output_type": "execute_result",
          "data": {
            "text/plain": [
              "37"
            ]
          },
          "metadata": {},
          "execution_count": 25
        }
      ]
    },
    {
      "cell_type": "code",
      "source": [
        "train_error[\"errtype\"].nunique()"
      ],
      "metadata": {
        "colab": {
          "base_uri": "https://localhost:8080/"
        },
        "id": "5NluK8lQ1TGf",
        "outputId": "54c5ec6e-2d6b-4a89-eebe-44d399f65800"
      },
      "execution_count": null,
      "outputs": [
        {
          "output_type": "execute_result",
          "data": {
            "text/plain": [
              "41"
            ]
          },
          "metadata": {},
          "execution_count": 26
        }
      ]
    },
    {
      "cell_type": "code",
      "source": [
        "train_error[\"errcode\"].nunique()"
      ],
      "metadata": {
        "colab": {
          "base_uri": "https://localhost:8080/"
        },
        "id": "vDKw0UH_1TlP",
        "outputId": "1a7eac52-d4a7-439c-9f72-dc63dcafaf5a"
      },
      "execution_count": null,
      "outputs": [
        {
          "output_type": "execute_result",
          "data": {
            "text/plain": [
              "2805"
            ]
          },
          "metadata": {},
          "execution_count": 27
        }
      ]
    },
    {
      "cell_type": "markdown",
      "source": [
        "### error 발생을 경험한 고객은 15000명이며 error data는 2020년 10월31일 23시59분59초 부터 2020년 12월02일 18시51분52초 까지의 데이터입니다.  \n",
        "### error가 발생한 model은 9개이고, 펌웨어는 37번 업데이트 되었으며, 발생한 error의 type은 41가지, errcode는 2805가지입니다."
      ],
      "metadata": {
        "id": "XgHqR8vU1lJL"
      }
    },
    {
      "cell_type": "code",
      "source": [
        "# 결측치 확인\n",
        "train_error.isnull().sum()"
      ],
      "metadata": {
        "colab": {
          "base_uri": "https://localhost:8080/"
        },
        "id": "nEFtK40NpCTQ",
        "outputId": "22c91c3c-9191-478a-9151-e104d230a8cd"
      },
      "execution_count": null,
      "outputs": [
        {
          "output_type": "execute_result",
          "data": {
            "text/plain": [
              "Unnamed: 0    0\n",
              "user_id       0\n",
              "time          0\n",
              "model_nm      0\n",
              "fwver         0\n",
              "errtype       0\n",
              "errcode       1\n",
              "dtype: int64"
            ]
          },
          "metadata": {},
          "execution_count": 28
        }
      ]
    },
    {
      "cell_type": "code",
      "source": [
        "# 시간별 에러발생 시각화 (전체)\n",
        "plt.figure(figsize=(28,8))\n",
        "ax = sns.countplot(data=train_error, x='time', palette=\"Set2\", order=train_problem[\"time\"])"
      ],
      "metadata": {
        "colab": {
          "base_uri": "https://localhost:8080/",
          "height": 350
        },
        "id": "3FLWD8hPf1YR",
        "outputId": "788ce901-9995-4b42-97a8-f4f69a5e0652"
      },
      "execution_count": null,
      "outputs": [
        {
          "output_type": "display_data",
          "data": {
            "text/plain": [
              "<Figure size 2016x576 with 1 Axes>"
            ],
            "image/png": "[encoded data removed]"
          },
          "metadata": {
            "needs_background": "light"
          }
        }
      ]
    },
    {
      "cell_type": "code",
      "source": [
        "# 시간별 에러발생 시각화 (상위 10개)\n",
        "plt.figure(figsize=(28,8))\n",
        "ax = sns.countplot(data=train_error, x='time', palette=\"Set2\", order=train_error[\"time\"].value_counts().index[:10])"
      ],
      "metadata": {
        "colab": {
          "base_uri": "https://localhost:8080/",
          "height": 363
        },
        "id": "DUPbT4pNXZ-Z",
        "outputId": "74561b55-3fc0-43fc-a026-5cf9c7032102"
      },
      "execution_count": null,
      "outputs": [
        {
          "output_type": "display_data",
          "data": {
            "text/plain": [
              "<Figure size 2016x576 with 1 Axes>"
            ],
            "image/png": "[encoded data removed]"
          },
          "metadata": {
            "needs_background": "light"
          }
        }
      ]
    },
    {
      "cell_type": "code",
      "source": [
        "# 시간별 에러발생 시각화 (상위 10~20개)\n",
        "plt.figure(figsize=(28,8))\n",
        "ax = sns.countplot(data=train_error, x='time', palette=\"Set2\", order=train_error[\"time\"].value_counts().index[10:20])"
      ],
      "metadata": {
        "colab": {
          "base_uri": "https://localhost:8080/",
          "height": 363
        },
        "id": "vuQw-u0SaZsH",
        "outputId": "e2749adf-d73e-424d-838a-ab46ce4622b4"
      },
      "execution_count": null,
      "outputs": [
        {
          "output_type": "display_data",
          "data": {
            "text/plain": [
              "<Figure size 2016x576 with 1 Axes>"
            ],
            "image/png": "[encoded data removed]"
          },
          "metadata": {
            "needs_background": "light"
          }
        }
      ]
    },
    {
      "cell_type": "markdown",
      "source": [
        "error 로그의 경우 11월 08일과 07일에 가장 많이 발생했습니다."
      ],
      "metadata": {
        "id": "MvnlJ4ECadgC"
      }
    },
    {
      "cell_type": "markdown",
      "source": [
        "### quality data\n"
      ],
      "metadata": {
        "id": "mVmbEsovJfNu"
      }
    },
    {
      "cell_type": "code",
      "source": [
        "# quality 로그\n",
        "new_train_quality = train_quality[['time','user_id']].drop_duplicates().reset_index(drop=True)"
      ],
      "metadata": {
        "id": "5uqauPrW5h4k"
      },
      "execution_count": null,
      "outputs": []
    },
    {
      "cell_type": "code",
      "source": [
        "new_train_quality.head()"
      ],
      "metadata": {
        "colab": {
          "base_uri": "https://localhost:8080/",
          "height": 206
        },
        "id": "6wuMhyLa7vKI",
        "outputId": "3be8d2f5-e550-41b2-ed9b-614404bf26ae"
      },
      "execution_count": null,
      "outputs": [
        {
          "output_type": "execute_result",
          "data": {
            "text/plain": [
              "                  time  user_id\n",
              "0  2020-11-29 09:00:00    10000\n",
              "1  2020-11-30 21:00:00    10000\n",
              "2  2020-11-04 11:00:00    10002\n",
              "3  2020-11-06 01:00:00    10002\n",
              "4  2020-11-11 01:00:00    10002"
            ],
            "text/html": [
              "\n",
              "  <div id=\"df-7c37f847-e51e-44a3-a1d4-354fd5d5757f\">\n",
              "    <div class=\"colab-df-container\">\n",
              "      <div>\n",
              "<style scoped>\n",
              "    .dataframe tbody tr th:only-of-type {\n",
              "        vertical-align: middle;\n",
              "    }\n",
              "\n",
              "    .dataframe tbody tr th {\n",
              "        vertical-align: top;\n",
              "    }\n",
              "\n",
              "    .dataframe thead th {\n",
              "        text-align: right;\n",
              "    }\n",
              "</style>\n",
              "<table border=\"1\" class=\"dataframe\">\n",
              "  <thead>\n",
              "    <tr style=\"text-align: right;\">\n",
              "      <th></th>\n",
              "      <th>time</th>\n",
              "      <th>user_id</th>\n",
              "    </tr>\n",
              "  </thead>\n",
              "  <tbody>\n",
              "    <tr>\n",
              "      <th>0</th>\n",
              "      <td>2020-11-29 09:00:00</td>\n",
              "      <td>10000</td>\n",
              "    </tr>\n",
              "    <tr>\n",
              "      <th>1</th>\n",
              "      <td>2020-11-30 21:00:00</td>\n",
              "      <td>10000</td>\n",
              "    </tr>\n",
              "    <tr>\n",
              "      <th>2</th>\n",
              "      <td>2020-11-04 11:00:00</td>\n",
              "      <td>10002</td>\n",
              "    </tr>\n",
              "    <tr>\n",
              "      <th>3</th>\n",
              "      <td>2020-11-06 01:00:00</td>\n",
              "      <td>10002</td>\n",
              "    </tr>\n",
              "    <tr>\n",
              "      <th>4</th>\n",
              "      <td>2020-11-11 01:00:00</td>\n",
              "      <td>10002</td>\n",
              "    </tr>\n",
              "  </tbody>\n",
              "</table>\n",
              "</div>\n",
              "      <button class=\"colab-df-convert\" onclick=\"convertToInteractive('df-7c37f847-e51e-44a3-a1d4-354fd5d5757f')\"\n",
              "              title=\"Convert this dataframe to an interactive table.\"\n",
              "              style=\"display:none;\">\n",
              "        \n",
              "  <svg xmlns=\"http://www.w3.org/2000/svg\" height=\"24px\"viewBox=\"0 0 24 24\"\n",
              "       width=\"24px\">\n",
              "    <path d=\"M0 0h24v24H0V0z\" fill=\"none\"/>\n",
              "    <path d=\"M18.56 5.44l.94 2.06.94-2.06 2.06-.94-2.06-.94-.94-2.06-.94 2.06-2.06.94zm-11 1L8.5 8.5l.94-2.06 2.06-.94-2.06-.94L8.5 2.5l-.94 2.06-2.06.94zm10 10l.94 2.06.94-2.06 2.06-.94-2.06-.94-.94-2.06-.94 2.06-2.06.94z\"/><path d=\"M17.41 7.96l-1.37-1.37c-.4-.4-.92-.59-1.43-.59-.52 0-1.04.2-1.43.59L10.3 9.45l-7.72 7.72c-.78.78-.78 2.05 0 2.83L4 21.41c.39.39.9.59 1.41.59.51 0 1.02-.2 1.41-.59l7.78-7.78 2.81-2.81c.8-.78.8-2.07 0-2.86zM5.41 20L4 18.59l7.72-7.72 1.47 1.35L5.41 20z\"/>\n",
              "  </svg>\n",
              "      </button>\n",
              "      \n",
              "  <style>\n",
              "    .colab-df-container {\n",
              "      display:flex;\n",
              "      flex-wrap:wrap;\n",
              "      gap: 12px;\n",
              "    }\n",
              "\n",
              "    .colab-df-convert {\n",
              "      background-color: #E8F0FE;\n",
              "      border: none;\n",
              "      border-radius: 50%;\n",
              "      cursor: pointer;\n",
              "      display: none;\n",
              "      fill: #1967D2;\n",
              "      height: 32px;\n",
              "      padding: 0 0 0 0;\n",
              "      width: 32px;\n",
              "    }\n",
              "\n",
              "    .colab-df-convert:hover {\n",
              "      background-color: #E2EBFA;\n",
              "      box-shadow: 0px 1px 2px rgba(60, 64, 67, 0.3), 0px 1px 3px 1px rgba(60, 64, 67, 0.15);\n",
              "      fill: #174EA6;\n",
              "    }\n",
              "\n",
              "    [theme=dark] .colab-df-convert {\n",
              "      background-color: #3B4455;\n",
              "      fill: #D2E3FC;\n",
              "    }\n",
              "\n",
              "    [theme=dark] .colab-df-convert:hover {\n",
              "      background-color: #434B5C;\n",
              "      box-shadow: 0px 1px 3px 1px rgba(0, 0, 0, 0.15);\n",
              "      filter: drop-shadow(0px 1px 2px rgba(0, 0, 0, 0.3));\n",
              "      fill: #FFFFFF;\n",
              "    }\n",
              "  </style>\n",
              "\n",
              "      <script>\n",
              "        const buttonEl =\n",
              "          document.querySelector('#df-7c37f847-e51e-44a3-a1d4-354fd5d5757f button.colab-df-convert');\n",
              "        buttonEl.style.display =\n",
              "          google.colab.kernel.accessAllowed ? 'block' : 'none';\n",
              "\n",
              "        async function convertToInteractive(key) {\n",
              "          const element = document.querySelector('#df-7c37f847-e51e-44a3-a1d4-354fd5d5757f');\n",
              "          const dataTable =\n",
              "            await google.colab.kernel.invokeFunction('convertToInteractive',\n",
              "                                                     [key], {});\n",
              "          if (!dataTable) return;\n",
              "\n",
              "          const docLinkHtml = 'Like what you see? Visit the ' +\n",
              "            '<a target=\"_blank\" href=https://colab.research.google.com/notebooks/data_table.ipynb>data table notebook</a>'\n",
              "            + ' to learn more about interactive tables.';\n",
              "          element.innerHTML = '';\n",
              "          dataTable['output_type'] = 'display_data';\n",
              "          await google.colab.output.renderOutput(dataTable, element);\n",
              "          const docLink = document.createElement('div');\n",
              "          docLink.innerHTML = docLinkHtml;\n",
              "          element.appendChild(docLink);\n",
              "        }\n",
              "      </script>\n",
              "    </div>\n",
              "  </div>\n",
              "  "
            ]
          },
          "metadata": {},
          "execution_count": 30
        }
      ]
    },
    {
      "cell_type": "markdown",
      "source": [
        "### problem data"
      ],
      "metadata": {
        "id": "mUzZ2D4hJZu8"
      }
    },
    {
      "cell_type": "code",
      "source": [
        "# problem 로그\n",
        "problem_user = train_problem.user_id.unique()\n",
        "new_problem_user = list(set(train_error.user_id.unique()) - set(problem_user))"
      ],
      "metadata": {
        "id": "DgqpxEKu47Q7"
      },
      "execution_count": null,
      "outputs": []
    },
    {
      "cell_type": "code",
      "source": [
        "train_problem.head()"
      ],
      "metadata": {
        "colab": {
          "base_uri": "https://localhost:8080/",
          "height": 206
        },
        "id": "EPBFNDT07vQH",
        "outputId": "ed4b9d57-91a1-4f0d-d1ad-0ebe5ca3ae06"
      },
      "execution_count": null,
      "outputs": [
        {
          "output_type": "execute_result",
          "data": {
            "text/plain": [
              "   Unnamed: 0  user_id                 time\n",
              "0           0    19224  2020-11-02 20:00:00\n",
              "1           1    23664  2020-11-16 14:00:00\n",
              "2           2    15166  2020-11-14 13:00:00\n",
              "3           3    12590  2020-11-08 21:00:00\n",
              "4           4    15932  2020-11-03 21:00:00"
            ],
            "text/html": [
              "\n",
              "  <div id=\"df-f9cffc5c-c8ce-4d5e-8f31-04ebf10d4e8c\">\n",
              "    <div class=\"colab-df-container\">\n",
              "      <div>\n",
              "<style scoped>\n",
              "    .dataframe tbody tr th:only-of-type {\n",
              "        vertical-align: middle;\n",
              "    }\n",
              "\n",
              "    .dataframe tbody tr th {\n",
              "        vertical-align: top;\n",
              "    }\n",
              "\n",
              "    .dataframe thead th {\n",
              "        text-align: right;\n",
              "    }\n",
              "</style>\n",
              "<table border=\"1\" class=\"dataframe\">\n",
              "  <thead>\n",
              "    <tr style=\"text-align: right;\">\n",
              "      <th></th>\n",
              "      <th>Unnamed: 0</th>\n",
              "      <th>user_id</th>\n",
              "      <th>time</th>\n",
              "    </tr>\n",
              "  </thead>\n",
              "  <tbody>\n",
              "    <tr>\n",
              "      <th>0</th>\n",
              "      <td>0</td>\n",
              "      <td>19224</td>\n",
              "      <td>2020-11-02 20:00:00</td>\n",
              "    </tr>\n",
              "    <tr>\n",
              "      <th>1</th>\n",
              "      <td>1</td>\n",
              "      <td>23664</td>\n",
              "      <td>2020-11-16 14:00:00</td>\n",
              "    </tr>\n",
              "    <tr>\n",
              "      <th>2</th>\n",
              "      <td>2</td>\n",
              "      <td>15166</td>\n",
              "      <td>2020-11-14 13:00:00</td>\n",
              "    </tr>\n",
              "    <tr>\n",
              "      <th>3</th>\n",
              "      <td>3</td>\n",
              "      <td>12590</td>\n",
              "      <td>2020-11-08 21:00:00</td>\n",
              "    </tr>\n",
              "    <tr>\n",
              "      <th>4</th>\n",
              "      <td>4</td>\n",
              "      <td>15932</td>\n",
              "      <td>2020-11-03 21:00:00</td>\n",
              "    </tr>\n",
              "  </tbody>\n",
              "</table>\n",
              "</div>\n",
              "      <button class=\"colab-df-convert\" onclick=\"convertToInteractive('df-f9cffc5c-c8ce-4d5e-8f31-04ebf10d4e8c')\"\n",
              "              title=\"Convert this dataframe to an interactive table.\"\n",
              "              style=\"display:none;\">\n",
              "        \n",
              "  <svg xmlns=\"http://www.w3.org/2000/svg\" height=\"24px\"viewBox=\"0 0 24 24\"\n",
              "       width=\"24px\">\n",
              "    <path d=\"M0 0h24v24H0V0z\" fill=\"none\"/>\n",
              "    <path d=\"M18.56 5.44l.94 2.06.94-2.06 2.06-.94-2.06-.94-.94-2.06-.94 2.06-2.06.94zm-11 1L8.5 8.5l.94-2.06 2.06-.94-2.06-.94L8.5 2.5l-.94 2.06-2.06.94zm10 10l.94 2.06.94-2.06 2.06-.94-2.06-.94-.94-2.06-.94 2.06-2.06.94z\"/><path d=\"M17.41 7.96l-1.37-1.37c-.4-.4-.92-.59-1.43-.59-.52 0-1.04.2-1.43.59L10.3 9.45l-7.72 7.72c-.78.78-.78 2.05 0 2.83L4 21.41c.39.39.9.59 1.41.59.51 0 1.02-.2 1.41-.59l7.78-7.78 2.81-2.81c.8-.78.8-2.07 0-2.86zM5.41 20L4 18.59l7.72-7.72 1.47 1.35L5.41 20z\"/>\n",
              "  </svg>\n",
              "      </button>\n",
              "      \n",
              "  <style>\n",
              "    .colab-df-container {\n",
              "      display:flex;\n",
              "      flex-wrap:wrap;\n",
              "      gap: 12px;\n",
              "    }\n",
              "\n",
              "    .colab-df-convert {\n",
              "      background-color: #E8F0FE;\n",
              "      border: none;\n",
              "      border-radius: 50%;\n",
              "      cursor: pointer;\n",
              "      display: none;\n",
              "      fill: #1967D2;\n",
              "      height: 32px;\n",
              "      padding: 0 0 0 0;\n",
              "      width: 32px;\n",
              "    }\n",
              "\n",
              "    .colab-df-convert:hover {\n",
              "      background-color: #E2EBFA;\n",
              "      box-shadow: 0px 1px 2px rgba(60, 64, 67, 0.3), 0px 1px 3px 1px rgba(60, 64, 67, 0.15);\n",
              "      fill: #174EA6;\n",
              "    }\n",
              "\n",
              "    [theme=dark] .colab-df-convert {\n",
              "      background-color: #3B4455;\n",
              "      fill: #D2E3FC;\n",
              "    }\n",
              "\n",
              "    [theme=dark] .colab-df-convert:hover {\n",
              "      background-color: #434B5C;\n",
              "      box-shadow: 0px 1px 3px 1px rgba(0, 0, 0, 0.15);\n",
              "      filter: drop-shadow(0px 1px 2px rgba(0, 0, 0, 0.3));\n",
              "      fill: #FFFFFF;\n",
              "    }\n",
              "  </style>\n",
              "\n",
              "      <script>\n",
              "        const buttonEl =\n",
              "          document.querySelector('#df-f9cffc5c-c8ce-4d5e-8f31-04ebf10d4e8c button.colab-df-convert');\n",
              "        buttonEl.style.display =\n",
              "          google.colab.kernel.accessAllowed ? 'block' : 'none';\n",
              "\n",
              "        async function convertToInteractive(key) {\n",
              "          const element = document.querySelector('#df-f9cffc5c-c8ce-4d5e-8f31-04ebf10d4e8c');\n",
              "          const dataTable =\n",
              "            await google.colab.kernel.invokeFunction('convertToInteractive',\n",
              "                                                     [key], {});\n",
              "          if (!dataTable) return;\n",
              "\n",
              "          const docLinkHtml = 'Like what you see? Visit the ' +\n",
              "            '<a target=\"_blank\" href=https://colab.research.google.com/notebooks/data_table.ipynb>data table notebook</a>'\n",
              "            + ' to learn more about interactive tables.';\n",
              "          element.innerHTML = '';\n",
              "          dataTable['output_type'] = 'display_data';\n",
              "          await google.colab.output.renderOutput(dataTable, element);\n",
              "          const docLink = document.createElement('div');\n",
              "          docLink.innerHTML = docLinkHtml;\n",
              "          element.appendChild(docLink);\n",
              "        }\n",
              "      </script>\n",
              "    </div>\n",
              "  </div>\n",
              "  "
            ]
          },
          "metadata": {},
          "execution_count": 32
        }
      ]
    },
    {
      "cell_type": "markdown",
      "source": [
        "### error data\n"
      ],
      "metadata": {
        "id": "IOJR5juCIyOk"
      }
    },
    {
      "cell_type": "code",
      "source": [
        "train_error.head()"
      ],
      "metadata": {
        "colab": {
          "base_uri": "https://localhost:8080/",
          "height": 206
        },
        "id": "MjeDSKq27vTe",
        "outputId": "28e628f6-4118-4dab-e50c-17f174a4820a"
      },
      "execution_count": null,
      "outputs": [
        {
          "output_type": "execute_result",
          "data": {
            "text/plain": [
              "   Unnamed: 0  user_id                 time model_nm       fwver  errtype  \\\n",
              "0           0    10000  2020-11-01 02:56:16  model_3  05.15.2138       15   \n",
              "1           1    10000  2020-11-01 03:03:09  model_3  05.15.2138       12   \n",
              "2           2    10000  2020-11-01 03:03:09  model_3  05.15.2138       11   \n",
              "3           3    10000  2020-11-01 05:05:14  model_3  05.15.2138       16   \n",
              "4           4    10000  2020-11-01 05:05:15  model_3  05.15.2138        4   \n",
              "\n",
              "  errcode  \n",
              "0       1  \n",
              "1       1  \n",
              "2       1  \n",
              "3       1  \n",
              "4       0  "
            ],
            "text/html": [
              "\n",
              "  <div id=\"df-ea2d477f-111b-4844-84c7-19eaa4063a49\">\n",
              "    <div class=\"colab-df-container\">\n",
              "      <div>\n",
              "<style scoped>\n",
              "    .dataframe tbody tr th:only-of-type {\n",
              "        vertical-align: middle;\n",
              "    }\n",
              "\n",
              "    .dataframe tbody tr th {\n",
              "        vertical-align: top;\n",
              "    }\n",
              "\n",
              "    .dataframe thead th {\n",
              "        text-align: right;\n",
              "    }\n",
              "</style>\n",
              "<table border=\"1\" class=\"dataframe\">\n",
              "  <thead>\n",
              "    <tr style=\"text-align: right;\">\n",
              "      <th></th>\n",
              "      <th>Unnamed: 0</th>\n",
              "      <th>user_id</th>\n",
              "      <th>time</th>\n",
              "      <th>model_nm</th>\n",
              "      <th>fwver</th>\n",
              "      <th>errtype</th>\n",
              "      <th>errcode</th>\n",
              "    </tr>\n",
              "  </thead>\n",
              "  <tbody>\n",
              "    <tr>\n",
              "      <th>0</th>\n",
              "      <td>0</td>\n",
              "      <td>10000</td>\n",
              "      <td>2020-11-01 02:56:16</td>\n",
              "      <td>model_3</td>\n",
              "      <td>05.15.2138</td>\n",
              "      <td>15</td>\n",
              "      <td>1</td>\n",
              "    </tr>\n",
              "    <tr>\n",
              "      <th>1</th>\n",
              "      <td>1</td>\n",
              "      <td>10000</td>\n",
              "      <td>2020-11-01 03:03:09</td>\n",
              "      <td>model_3</td>\n",
              "      <td>05.15.2138</td>\n",
              "      <td>12</td>\n",
              "      <td>1</td>\n",
              "    </tr>\n",
              "    <tr>\n",
              "      <th>2</th>\n",
              "      <td>2</td>\n",
              "      <td>10000</td>\n",
              "      <td>2020-11-01 03:03:09</td>\n",
              "      <td>model_3</td>\n",
              "      <td>05.15.2138</td>\n",
              "      <td>11</td>\n",
              "      <td>1</td>\n",
              "    </tr>\n",
              "    <tr>\n",
              "      <th>3</th>\n",
              "      <td>3</td>\n",
              "      <td>10000</td>\n",
              "      <td>2020-11-01 05:05:14</td>\n",
              "      <td>model_3</td>\n",
              "      <td>05.15.2138</td>\n",
              "      <td>16</td>\n",
              "      <td>1</td>\n",
              "    </tr>\n",
              "    <tr>\n",
              "      <th>4</th>\n",
              "      <td>4</td>\n",
              "      <td>10000</td>\n",
              "      <td>2020-11-01 05:05:15</td>\n",
              "      <td>model_3</td>\n",
              "      <td>05.15.2138</td>\n",
              "      <td>4</td>\n",
              "      <td>0</td>\n",
              "    </tr>\n",
              "  </tbody>\n",
              "</table>\n",
              "</div>\n",
              "      <button class=\"colab-df-convert\" onclick=\"convertToInteractive('df-ea2d477f-111b-4844-84c7-19eaa4063a49')\"\n",
              "              title=\"Convert this dataframe to an interactive table.\"\n",
              "              style=\"display:none;\">\n",
              "        \n",
              "  <svg xmlns=\"http://www.w3.org/2000/svg\" height=\"24px\"viewBox=\"0 0 24 24\"\n",
              "       width=\"24px\">\n",
              "    <path d=\"M0 0h24v24H0V0z\" fill=\"none\"/>\n",
              "    <path d=\"M18.56 5.44l.94 2.06.94-2.06 2.06-.94-2.06-.94-.94-2.06-.94 2.06-2.06.94zm-11 1L8.5 8.5l.94-2.06 2.06-.94-2.06-.94L8.5 2.5l-.94 2.06-2.06.94zm10 10l.94 2.06.94-2.06 2.06-.94-2.06-.94-.94-2.06-.94 2.06-2.06.94z\"/><path d=\"M17.41 7.96l-1.37-1.37c-.4-.4-.92-.59-1.43-.59-.52 0-1.04.2-1.43.59L10.3 9.45l-7.72 7.72c-.78.78-.78 2.05 0 2.83L4 21.41c.39.39.9.59 1.41.59.51 0 1.02-.2 1.41-.59l7.78-7.78 2.81-2.81c.8-.78.8-2.07 0-2.86zM5.41 20L4 18.59l7.72-7.72 1.47 1.35L5.41 20z\"/>\n",
              "  </svg>\n",
              "      </button>\n",
              "      \n",
              "  <style>\n",
              "    .colab-df-container {\n",
              "      display:flex;\n",
              "      flex-wrap:wrap;\n",
              "      gap: 12px;\n",
              "    }\n",
              "\n",
              "    .colab-df-convert {\n",
              "      background-color: #E8F0FE;\n",
              "      border: none;\n",
              "      border-radius: 50%;\n",
              "      cursor: pointer;\n",
              "      display: none;\n",
              "      fill: #1967D2;\n",
              "      height: 32px;\n",
              "      padding: 0 0 0 0;\n",
              "      width: 32px;\n",
              "    }\n",
              "\n",
              "    .colab-df-convert:hover {\n",
              "      background-color: #E2EBFA;\n",
              "      box-shadow: 0px 1px 2px rgba(60, 64, 67, 0.3), 0px 1px 3px 1px rgba(60, 64, 67, 0.15);\n",
              "      fill: #174EA6;\n",
              "    }\n",
              "\n",
              "    [theme=dark] .colab-df-convert {\n",
              "      background-color: #3B4455;\n",
              "      fill: #D2E3FC;\n",
              "    }\n",
              "\n",
              "    [theme=dark] .colab-df-convert:hover {\n",
              "      background-color: #434B5C;\n",
              "      box-shadow: 0px 1px 3px 1px rgba(0, 0, 0, 0.15);\n",
              "      filter: drop-shadow(0px 1px 2px rgba(0, 0, 0, 0.3));\n",
              "      fill: #FFFFFF;\n",
              "    }\n",
              "  </style>\n",
              "\n",
              "      <script>\n",
              "        const buttonEl =\n",
              "          document.querySelector('#df-ea2d477f-111b-4844-84c7-19eaa4063a49 button.colab-df-convert');\n",
              "        buttonEl.style.display =\n",
              "          google.colab.kernel.accessAllowed ? 'block' : 'none';\n",
              "\n",
              "        async function convertToInteractive(key) {\n",
              "          const element = document.querySelector('#df-ea2d477f-111b-4844-84c7-19eaa4063a49');\n",
              "          const dataTable =\n",
              "            await google.colab.kernel.invokeFunction('convertToInteractive',\n",
              "                                                     [key], {});\n",
              "          if (!dataTable) return;\n",
              "\n",
              "          const docLinkHtml = 'Like what you see? Visit the ' +\n",
              "            '<a target=\"_blank\" href=https://colab.research.google.com/notebooks/data_table.ipynb>data table notebook</a>'\n",
              "            + ' to learn more about interactive tables.';\n",
              "          element.innerHTML = '';\n",
              "          dataTable['output_type'] = 'display_data';\n",
              "          await google.colab.output.renderOutput(dataTable, element);\n",
              "          const docLink = document.createElement('div');\n",
              "          docLink.innerHTML = docLinkHtml;\n",
              "          element.appendChild(docLink);\n",
              "        }\n",
              "      </script>\n",
              "    </div>\n",
              "  </div>\n",
              "  "
            ]
          },
          "metadata": {},
          "execution_count": 33
        }
      ]
    },
    {
      "cell_type": "code",
      "source": [
        "train_error.model_nm.unique()"
      ],
      "metadata": {
        "colab": {
          "base_uri": "https://localhost:8080/"
        },
        "id": "h06W_XZVuF5B",
        "outputId": "b47f8faf-6285-40e5-d937-438e27fbd7e5"
      },
      "execution_count": null,
      "outputs": [
        {
          "output_type": "execute_result",
          "data": {
            "text/plain": [
              "array(['model_3', 'model_2', 'model_0', 'model_1', 'model_7', 'model_4',\n",
              "       'model_5', 'model_8', 'model_6'], dtype=object)"
            ]
          },
          "metadata": {},
          "execution_count": 34
        }
      ]
    },
    {
      "cell_type": "markdown",
      "source": [
        "### 시각화 (데이터프레임 새로 생성 전)"
      ],
      "metadata": {
        "id": "6lKcv2TUG0wY"
      }
    },
    {
      "cell_type": "code",
      "source": [
        "# 모델별 에러발생 시각화\n",
        "plt.figure(figsize=(18,8))\n",
        "ax = sns.countplot(data=train_error, x='model_nm', palette=\"Set2\", order=train_error[\"model_nm\"].value_counts().index)\n",
        "for p in ax.patches:\n",
        "    height = int(round(p.get_height(), 0))\n",
        "    ax.text(p.get_x() + p.get_width() / 2.,y=height+0.01,s= height, ha = 'center', size = 12)\n",
        "plt.show()"
      ],
      "metadata": {
        "colab": {
          "base_uri": "https://localhost:8080/",
          "height": 510
        },
        "id": "0k6085CN0lrG",
        "outputId": "3ac3032d-b6c6-463e-8e75-820db15e1443"
      },
      "execution_count": null,
      "outputs": [
        {
          "output_type": "display_data",
          "data": {
            "text/plain": [
              "<Figure size 1296x576 with 1 Axes>"
            ],
            "image/png": "[encoded data removed]"
          },
          "metadata": {
            "needs_background": "light"
          }
        }
      ]
    },
    {
      "cell_type": "code",
      "source": [
        "# 펌웨어버전별 에러발생량 시각화\n",
        "plt.figure(figsize=(14,14))\n",
        "ax = sns.countplot(data=train_error, y='fwver', palette=\"Set2\", order=train_error[\"fwver\"].value_counts().index)"
      ],
      "metadata": {
        "colab": {
          "base_uri": "https://localhost:8080/",
          "height": 823
        },
        "id": "WaZgGLb95Hl0",
        "outputId": "e0bb56bc-abf4-4c5b-9830-41c2da737c0d"
      },
      "execution_count": null,
      "outputs": [
        {
          "output_type": "display_data",
          "data": {
            "text/plain": [
              "<Figure size 1008x1008 with 1 Axes>"
            ],
            "image/png": "[encoded data removed]"
          },
          "metadata": {
            "needs_background": "light"
          }
        }
      ]
    },
    {
      "cell_type": "code",
      "source": [
        "# 에러타입별 발생량 시각화\n",
        "plt.figure(figsize=(14,14))\n",
        "ax = sns.countplot(data=train_error, x='errtype', palette=\"Set2\", order=train_error[\"errtype\"].value_counts().index)"
      ],
      "metadata": {
        "colab": {
          "base_uri": "https://localhost:8080/",
          "height": 834
        },
        "id": "dxdGPjPI7Mk7",
        "outputId": "a7db31d3-2950-4ace-ad69-a0c207a2cbfb"
      },
      "execution_count": null,
      "outputs": [
        {
          "output_type": "display_data",
          "data": {
            "text/plain": [
              "<Figure size 1008x1008 with 1 Axes>"
            ],
            "image/png": "[encoded data removed]"
          },
          "metadata": {
            "needs_background": "light"
          }
        }
      ]
    },
    {
      "cell_type": "code",
      "source": [
        "test_error.head()"
      ],
      "metadata": {
        "colab": {
          "base_uri": "https://localhost:8080/",
          "height": 206
        },
        "id": "6yPqPfkG8Bgo",
        "outputId": "cdb83abc-9342-4043-e742-9fcdd704049c"
      },
      "execution_count": null,
      "outputs": [
        {
          "output_type": "execute_result",
          "data": {
            "text/plain": [
              "   Unnamed: 0  user_id                 time model_nm       fwver  errtype  \\\n",
              "0           0    30000  2020-11-01 03:02:27  model_1  04.16.3553       31   \n",
              "1           1    30000  2020-11-01 03:02:27  model_1  04.16.3553       33   \n",
              "2           2    30000  2020-11-01 03:02:28  model_1  04.16.3553       15   \n",
              "3           3    30000  2020-11-01 03:02:56  model_1  04.16.3553       22   \n",
              "4           4    30000  2020-11-01 03:03:00  model_1  04.16.3553       11   \n",
              "\n",
              "  errcode  \n",
              "0       1  \n",
              "1       2  \n",
              "2       1  \n",
              "3       1  \n",
              "4       1  "
            ],
            "text/html": [
              "\n",
              "  <div id=\"df-ce06ea57-8bfc-4357-951f-2ed2cd616c2a\">\n",
              "    <div class=\"colab-df-container\">\n",
              "      <div>\n",
              "<style scoped>\n",
              "    .dataframe tbody tr th:only-of-type {\n",
              "        vertical-align: middle;\n",
              "    }\n",
              "\n",
              "    .dataframe tbody tr th {\n",
              "        vertical-align: top;\n",
              "    }\n",
              "\n",
              "    .dataframe thead th {\n",
              "        text-align: right;\n",
              "    }\n",
              "</style>\n",
              "<table border=\"1\" class=\"dataframe\">\n",
              "  <thead>\n",
              "    <tr style=\"text-align: right;\">\n",
              "      <th></th>\n",
              "      <th>Unnamed: 0</th>\n",
              "      <th>user_id</th>\n",
              "      <th>time</th>\n",
              "      <th>model_nm</th>\n",
              "      <th>fwver</th>\n",
              "      <th>errtype</th>\n",
              "      <th>errcode</th>\n",
              "    </tr>\n",
              "  </thead>\n",
              "  <tbody>\n",
              "    <tr>\n",
              "      <th>0</th>\n",
              "      <td>0</td>\n",
              "      <td>30000</td>\n",
              "      <td>2020-11-01 03:02:27</td>\n",
              "      <td>model_1</td>\n",
              "      <td>04.16.3553</td>\n",
              "      <td>31</td>\n",
              "      <td>1</td>\n",
              "    </tr>\n",
              "    <tr>\n",
              "      <th>1</th>\n",
              "      <td>1</td>\n",
              "      <td>30000</td>\n",
              "      <td>2020-11-01 03:02:27</td>\n",
              "      <td>model_1</td>\n",
              "      <td>04.16.3553</td>\n",
              "      <td>33</td>\n",
              "      <td>2</td>\n",
              "    </tr>\n",
              "    <tr>\n",
              "      <th>2</th>\n",
              "      <td>2</td>\n",
              "      <td>30000</td>\n",
              "      <td>2020-11-01 03:02:28</td>\n",
              "      <td>model_1</td>\n",
              "      <td>04.16.3553</td>\n",
              "      <td>15</td>\n",
              "      <td>1</td>\n",
              "    </tr>\n",
              "    <tr>\n",
              "      <th>3</th>\n",
              "      <td>3</td>\n",
              "      <td>30000</td>\n",
              "      <td>2020-11-01 03:02:56</td>\n",
              "      <td>model_1</td>\n",
              "      <td>04.16.3553</td>\n",
              "      <td>22</td>\n",
              "      <td>1</td>\n",
              "    </tr>\n",
              "    <tr>\n",
              "      <th>4</th>\n",
              "      <td>4</td>\n",
              "      <td>30000</td>\n",
              "      <td>2020-11-01 03:03:00</td>\n",
              "      <td>model_1</td>\n",
              "      <td>04.16.3553</td>\n",
              "      <td>11</td>\n",
              "      <td>1</td>\n",
              "    </tr>\n",
              "  </tbody>\n",
              "</table>\n",
              "</div>\n",
              "      <button class=\"colab-df-convert\" onclick=\"convertToInteractive('df-ce06ea57-8bfc-4357-951f-2ed2cd616c2a')\"\n",
              "              title=\"Convert this dataframe to an interactive table.\"\n",
              "              style=\"display:none;\">\n",
              "        \n",
              "  <svg xmlns=\"http://www.w3.org/2000/svg\" height=\"24px\"viewBox=\"0 0 24 24\"\n",
              "       width=\"24px\">\n",
              "    <path d=\"M0 0h24v24H0V0z\" fill=\"none\"/>\n",
              "    <path d=\"M18.56 5.44l.94 2.06.94-2.06 2.06-.94-2.06-.94-.94-2.06-.94 2.06-2.06.94zm-11 1L8.5 8.5l.94-2.06 2.06-.94-2.06-.94L8.5 2.5l-.94 2.06-2.06.94zm10 10l.94 2.06.94-2.06 2.06-.94-2.06-.94-.94-2.06-.94 2.06-2.06.94z\"/><path d=\"M17.41 7.96l-1.37-1.37c-.4-.4-.92-.59-1.43-.59-.52 0-1.04.2-1.43.59L10.3 9.45l-7.72 7.72c-.78.78-.78 2.05 0 2.83L4 21.41c.39.39.9.59 1.41.59.51 0 1.02-.2 1.41-.59l7.78-7.78 2.81-2.81c.8-.78.8-2.07 0-2.86zM5.41 20L4 18.59l7.72-7.72 1.47 1.35L5.41 20z\"/>\n",
              "  </svg>\n",
              "      </button>\n",
              "      \n",
              "  <style>\n",
              "    .colab-df-container {\n",
              "      display:flex;\n",
              "      flex-wrap:wrap;\n",
              "      gap: 12px;\n",
              "    }\n",
              "\n",
              "    .colab-df-convert {\n",
              "      background-color: #E8F0FE;\n",
              "      border: none;\n",
              "      border-radius: 50%;\n",
              "      cursor: pointer;\n",
              "      display: none;\n",
              "      fill: #1967D2;\n",
              "      height: 32px;\n",
              "      padding: 0 0 0 0;\n",
              "      width: 32px;\n",
              "    }\n",
              "\n",
              "    .colab-df-convert:hover {\n",
              "      background-color: #E2EBFA;\n",
              "      box-shadow: 0px 1px 2px rgba(60, 64, 67, 0.3), 0px 1px 3px 1px rgba(60, 64, 67, 0.15);\n",
              "      fill: #174EA6;\n",
              "    }\n",
              "\n",
              "    [theme=dark] .colab-df-convert {\n",
              "      background-color: #3B4455;\n",
              "      fill: #D2E3FC;\n",
              "    }\n",
              "\n",
              "    [theme=dark] .colab-df-convert:hover {\n",
              "      background-color: #434B5C;\n",
              "      box-shadow: 0px 1px 3px 1px rgba(0, 0, 0, 0.15);\n",
              "      filter: drop-shadow(0px 1px 2px rgba(0, 0, 0, 0.3));\n",
              "      fill: #FFFFFF;\n",
              "    }\n",
              "  </style>\n",
              "\n",
              "      <script>\n",
              "        const buttonEl =\n",
              "          document.querySelector('#df-ce06ea57-8bfc-4357-951f-2ed2cd616c2a button.colab-df-convert');\n",
              "        buttonEl.style.display =\n",
              "          google.colab.kernel.accessAllowed ? 'block' : 'none';\n",
              "\n",
              "        async function convertToInteractive(key) {\n",
              "          const element = document.querySelector('#df-ce06ea57-8bfc-4357-951f-2ed2cd616c2a');\n",
              "          const dataTable =\n",
              "            await google.colab.kernel.invokeFunction('convertToInteractive',\n",
              "                                                     [key], {});\n",
              "          if (!dataTable) return;\n",
              "\n",
              "          const docLinkHtml = 'Like what you see? Visit the ' +\n",
              "            '<a target=\"_blank\" href=https://colab.research.google.com/notebooks/data_table.ipynb>data table notebook</a>'\n",
              "            + ' to learn more about interactive tables.';\n",
              "          element.innerHTML = '';\n",
              "          dataTable['output_type'] = 'display_data';\n",
              "          await google.colab.output.renderOutput(dataTable, element);\n",
              "          const docLink = document.createElement('div');\n",
              "          docLink.innerHTML = docLinkHtml;\n",
              "          element.appendChild(docLink);\n",
              "        }\n",
              "      </script>\n",
              "    </div>\n",
              "  </div>\n",
              "  "
            ]
          },
          "metadata": {},
          "execution_count": 38
        }
      ]
    },
    {
      "cell_type": "code",
      "source": [
        "test_error.model_nm.unique()"
      ],
      "metadata": {
        "colab": {
          "base_uri": "https://localhost:8080/"
        },
        "id": "aYMQj3k6uZb0",
        "outputId": "bdf48ad1-7b37-4ae5-e7bc-a8e647aefbf5"
      },
      "execution_count": null,
      "outputs": [
        {
          "output_type": "execute_result",
          "data": {
            "text/plain": [
              "array(['model_1', 'model_2', 'model_3', 'model_0', 'model_4', 'model_5',\n",
              "       'model_6', 'model_7', 'model_8'], dtype=object)"
            ]
          },
          "metadata": {},
          "execution_count": 39
        }
      ]
    },
    {
      "cell_type": "markdown",
      "source": [
        "### 시각화(데이터프레임 새로 생성 후)\n",
        "error data를 살펴보다보니 에러가 발생하는 모델과 펌웨어가 어느정도 정해져있다는거러 알게 되어서  \n",
        "모델은 가장많이 발생한 5개, 펌웨어는 8개로 추려 데이터프레임을 새로 만들었습니다.  \n",
        "아직은 error data만 살펴보았는데 추후 problem과 quality와의 접점을 잘 찾으면 유의미한 결과를 낼 수 도 있을 것 같습니다."
      ],
      "metadata": {
        "id": "9vqTe4QDJ3I-"
      }
    },
    {
      "cell_type": "code",
      "source": [
        "# 에러가 가장 많이 발생한 5개의 모델만 가지고 dataframe을 다시 만들어봤습니다.\n",
        "dferr = train_error.loc[(train_error['model_nm'] == 'model_0') | (train_error['model_nm'] == 'model_1') | (train_error['model_nm'] == 'model_2') | (train_error['model_nm'] == 'model_3') | (train_error['model_nm'] == 'model_4')]"
      ],
      "metadata": {
        "id": "QPWrvZMj_gzO"
      },
      "execution_count": null,
      "outputs": []
    },
    {
      "cell_type": "code",
      "source": [
        "# 여기서 다시 에러발생이 가장 빈번한 8개의 fwver을 기준으로 dataframe을 다시 생성해봅니다.\n",
        "dferr = dferr.loc[(dferr['fwver'] == '04.16.3553')|(dferr['fwver'] == '04.22.1750')|(dferr['fwver'] == '04.33.1261')|(dferr['fwver'] == '05.15.2138')|(dferr['fwver'] == '03.11.1167')|(dferr['fwver'] == '04.22.1778')|(dferr['fwver'] == '04.33.1185')|(dferr['fwver'] == '04.16.3571')]"
      ],
      "metadata": {
        "id": "usCLjV_yDEfx"
      },
      "execution_count": null,
      "outputs": []
    },
    {
      "cell_type": "code",
      "source": [
        "dferr.fwver.nunique()"
      ],
      "metadata": {
        "colab": {
          "base_uri": "https://localhost:8080/"
        },
        "id": "NWTknDK8BtkN",
        "outputId": "77435587-c77f-41ed-ccc1-b007bf7ad3b9"
      },
      "execution_count": null,
      "outputs": [
        {
          "output_type": "execute_result",
          "data": {
            "text/plain": [
              "8"
            ]
          },
          "metadata": {},
          "execution_count": 42
        }
      ]
    },
    {
      "cell_type": "code",
      "source": [
        "# 모델별 에러발생 시각화2\n",
        "plt.figure(figsize=(18,8))\n",
        "ax = sns.countplot(data=dferr, x='model_nm', palette=\"Set2\", order=dferr[\"model_nm\"].value_counts().index)\n",
        "for p in ax.patches:\n",
        "    height = int(round(p.get_height(), 0))\n",
        "    ax.text(p.get_x() + p.get_width() / 2.,y=height+0.01,s= height, ha = 'center', size = 12)\n",
        "plt.show()"
      ],
      "metadata": {
        "colab": {
          "base_uri": "https://localhost:8080/",
          "height": 510
        },
        "id": "2Avf1PswFCuK",
        "outputId": "da71b7b4-c13b-41d4-d044-cbd4264fff8a"
      },
      "execution_count": null,
      "outputs": [
        {
          "output_type": "display_data",
          "data": {
            "text/plain": [
              "<Figure size 1296x576 with 1 Axes>"
            ],
            "image/png": "[encoded data removed]"
          },
          "metadata": {
            "needs_background": "light"
          }
        }
      ]
    },
    {
      "cell_type": "code",
      "source": [
        "# 펌웨어버전별 에러발생량 시각화2\n",
        "plt.figure(figsize=(14,14))\n",
        "ax = sns.countplot(data=dferr, y='fwver', palette=\"Set2\", order=dferr[\"fwver\"].value_counts().index)"
      ],
      "metadata": {
        "colab": {
          "base_uri": "https://localhost:8080/",
          "height": 823
        },
        "id": "PCelPaOiFKN3",
        "outputId": "d0acd991-89ad-42f8-8f40-0010640f8a11"
      },
      "execution_count": null,
      "outputs": [
        {
          "output_type": "display_data",
          "data": {
            "text/plain": [
              "<Figure size 1008x1008 with 1 Axes>"
            ],
            "image/png": "[encoded data removed]"
          },
          "metadata": {
            "needs_background": "light"
          }
        }
      ]
    },
    {
      "cell_type": "code",
      "source": [
        "# 새로 만든 dataframe으로 에러타입별 발생량 시각화\n",
        "plt.figure(figsize=(14,14))\n",
        "ax = sns.countplot(data=dferr, x='errtype', palette=\"Set2\", order=train_error[\"errtype\"].value_counts().index)"
      ],
      "metadata": {
        "colab": {
          "base_uri": "https://localhost:8080/",
          "height": 834
        },
        "id": "ptFdxmzGD_YR",
        "outputId": "7b386289-cffb-49b5-9064-e5dc4aebe596"
      },
      "execution_count": null,
      "outputs": [
        {
          "output_type": "display_data",
          "data": {
            "text/plain": [
              "<Figure size 1008x1008 with 1 Axes>"
            ],
            "image/png": "[encoded data removed]"
          },
          "metadata": {
            "needs_background": "light"
          }
        }
      ]
    },
    {
      "cell_type": "code",
      "source": [
        "dferr.head(10)"
      ],
      "metadata": {
        "colab": {
          "base_uri": "https://localhost:8080/",
          "height": 363
        },
        "id": "xEU2r6CVEP3s",
        "outputId": "f5261f3b-b7f2-425a-cb37-3b4ffceb5bc8"
      },
      "execution_count": null,
      "outputs": [
        {
          "output_type": "execute_result",
          "data": {
            "text/plain": [
              "   Unnamed: 0  user_id                 time model_nm       fwver  errtype  \\\n",
              "0           0    10000  2020-11-01 02:56:16  model_3  05.15.2138       15   \n",
              "1           1    10000  2020-11-01 03:03:09  model_3  05.15.2138       12   \n",
              "2           2    10000  2020-11-01 03:03:09  model_3  05.15.2138       11   \n",
              "3           3    10000  2020-11-01 05:05:14  model_3  05.15.2138       16   \n",
              "4           4    10000  2020-11-01 05:05:15  model_3  05.15.2138        4   \n",
              "5           5    10000  2020-11-01 05:05:16  model_3  05.15.2138       26   \n",
              "6           6    10000  2020-11-01 05:05:22  model_3  05.15.2138        4   \n",
              "7           7    10000  2020-11-01 06:09:03  model_3  05.15.2138       15   \n",
              "8           8    10000  2020-11-01 17:47:54  model_3  05.15.2138       16   \n",
              "9           9    10000  2020-11-01 17:47:56  model_3  05.15.2138        4   \n",
              "\n",
              "  errcode  \n",
              "0       1  \n",
              "1       1  \n",
              "2       1  \n",
              "3       1  \n",
              "4       0  \n",
              "5       1  \n",
              "6       0  \n",
              "7       1  \n",
              "8       1  \n",
              "9       0  "
            ],
            "text/html": [
              "\n",
              "  <div id=\"df-c694d127-1476-4a32-9ab5-b7948211122f\">\n",
              "    <div class=\"colab-df-container\">\n",
              "      <div>\n",
              "<style scoped>\n",
              "    .dataframe tbody tr th:only-of-type {\n",
              "        vertical-align: middle;\n",
              "    }\n",
              "\n",
              "    .dataframe tbody tr th {\n",
              "        vertical-align: top;\n",
              "    }\n",
              "\n",
              "    .dataframe thead th {\n",
              "        text-align: right;\n",
              "    }\n",
              "</style>\n",
              "<table border=\"1\" class=\"dataframe\">\n",
              "  <thead>\n",
              "    <tr style=\"text-align: right;\">\n",
              "      <th></th>\n",
              "      <th>Unnamed: 0</th>\n",
              "      <th>user_id</th>\n",
              "      <th>time</th>\n",
              "      <th>model_nm</th>\n",
              "      <th>fwver</th>\n",
              "      <th>errtype</th>\n",
              "      <th>errcode</th>\n",
              "    </tr>\n",
              "  </thead>\n",
              "  <tbody>\n",
              "    <tr>\n",
              "      <th>0</th>\n",
              "      <td>0</td>\n",
              "      <td>10000</td>\n",
              "      <td>2020-11-01 02:56:16</td>\n",
              "      <td>model_3</td>\n",
              "      <td>05.15.2138</td>\n",
              "      <td>15</td>\n",
              "      <td>1</td>\n",
              "    </tr>\n",
              "    <tr>\n",
              "      <th>1</th>\n",
              "      <td>1</td>\n",
              "      <td>10000</td>\n",
              "      <td>2020-11-01 03:03:09</td>\n",
              "      <td>model_3</td>\n",
              "      <td>05.15.2138</td>\n",
              "      <td>12</td>\n",
              "      <td>1</td>\n",
              "    </tr>\n",
              "    <tr>\n",
              "      <th>2</th>\n",
              "      <td>2</td>\n",
              "      <td>10000</td>\n",
              "      <td>2020-11-01 03:03:09</td>\n",
              "      <td>model_3</td>\n",
              "      <td>05.15.2138</td>\n",
              "      <td>11</td>\n",
              "      <td>1</td>\n",
              "    </tr>\n",
              "    <tr>\n",
              "      <th>3</th>\n",
              "      <td>3</td>\n",
              "      <td>10000</td>\n",
              "      <td>2020-11-01 05:05:14</td>\n",
              "      <td>model_3</td>\n",
              "      <td>05.15.2138</td>\n",
              "      <td>16</td>\n",
              "      <td>1</td>\n",
              "    </tr>\n",
              "    <tr>\n",
              "      <th>4</th>\n",
              "      <td>4</td>\n",
              "      <td>10000</td>\n",
              "      <td>2020-11-01 05:05:15</td>\n",
              "      <td>model_3</td>\n",
              "      <td>05.15.2138</td>\n",
              "      <td>4</td>\n",
              "      <td>0</td>\n",
              "    </tr>\n",
              "    <tr>\n",
              "      <th>5</th>\n",
              "      <td>5</td>\n",
              "      <td>10000</td>\n",
              "      <td>2020-11-01 05:05:16</td>\n",
              "      <td>model_3</td>\n",
              "      <td>05.15.2138</td>\n",
              "      <td>26</td>\n",
              "      <td>1</td>\n",
              "    </tr>\n",
              "    <tr>\n",
              "      <th>6</th>\n",
              "      <td>6</td>\n",
              "      <td>10000</td>\n",
              "      <td>2020-11-01 05:05:22</td>\n",
              "      <td>model_3</td>\n",
              "      <td>05.15.2138</td>\n",
              "      <td>4</td>\n",
              "      <td>0</td>\n",
              "    </tr>\n",
              "    <tr>\n",
              "      <th>7</th>\n",
              "      <td>7</td>\n",
              "      <td>10000</td>\n",
              "      <td>2020-11-01 06:09:03</td>\n",
              "      <td>model_3</td>\n",
              "      <td>05.15.2138</td>\n",
              "      <td>15</td>\n",
              "      <td>1</td>\n",
              "    </tr>\n",
              "    <tr>\n",
              "      <th>8</th>\n",
              "      <td>8</td>\n",
              "      <td>10000</td>\n",
              "      <td>2020-11-01 17:47:54</td>\n",
              "      <td>model_3</td>\n",
              "      <td>05.15.2138</td>\n",
              "      <td>16</td>\n",
              "      <td>1</td>\n",
              "    </tr>\n",
              "    <tr>\n",
              "      <th>9</th>\n",
              "      <td>9</td>\n",
              "      <td>10000</td>\n",
              "      <td>2020-11-01 17:47:56</td>\n",
              "      <td>model_3</td>\n",
              "      <td>05.15.2138</td>\n",
              "      <td>4</td>\n",
              "      <td>0</td>\n",
              "    </tr>\n",
              "  </tbody>\n",
              "</table>\n",
              "</div>\n",
              "      <button class=\"colab-df-convert\" onclick=\"convertToInteractive('df-c694d127-1476-4a32-9ab5-b7948211122f')\"\n",
              "              title=\"Convert this dataframe to an interactive table.\"\n",
              "              style=\"display:none;\">\n",
              "        \n",
              "  <svg xmlns=\"http://www.w3.org/2000/svg\" height=\"24px\"viewBox=\"0 0 24 24\"\n",
              "       width=\"24px\">\n",
              "    <path d=\"M0 0h24v24H0V0z\" fill=\"none\"/>\n",
              "    <path d=\"M18.56 5.44l.94 2.06.94-2.06 2.06-.94-2.06-.94-.94-2.06-.94 2.06-2.06.94zm-11 1L8.5 8.5l.94-2.06 2.06-.94-2.06-.94L8.5 2.5l-.94 2.06-2.06.94zm10 10l.94 2.06.94-2.06 2.06-.94-2.06-.94-.94-2.06-.94 2.06-2.06.94z\"/><path d=\"M17.41 7.96l-1.37-1.37c-.4-.4-.92-.59-1.43-.59-.52 0-1.04.2-1.43.59L10.3 9.45l-7.72 7.72c-.78.78-.78 2.05 0 2.83L4 21.41c.39.39.9.59 1.41.59.51 0 1.02-.2 1.41-.59l7.78-7.78 2.81-2.81c.8-.78.8-2.07 0-2.86zM5.41 20L4 18.59l7.72-7.72 1.47 1.35L5.41 20z\"/>\n",
              "  </svg>\n",
              "      </button>\n",
              "      \n",
              "  <style>\n",
              "    .colab-df-container {\n",
              "      display:flex;\n",
              "      flex-wrap:wrap;\n",
              "      gap: 12px;\n",
              "    }\n",
              "\n",
              "    .colab-df-convert {\n",
              "      background-color: #E8F0FE;\n",
              "      border: none;\n",
              "      border-radius: 50%;\n",
              "      cursor: pointer;\n",
              "      display: none;\n",
              "      fill: #1967D2;\n",
              "      height: 32px;\n",
              "      padding: 0 0 0 0;\n",
              "      width: 32px;\n",
              "    }\n",
              "\n",
              "    .colab-df-convert:hover {\n",
              "      background-color: #E2EBFA;\n",
              "      box-shadow: 0px 1px 2px rgba(60, 64, 67, 0.3), 0px 1px 3px 1px rgba(60, 64, 67, 0.15);\n",
              "      fill: #174EA6;\n",
              "    }\n",
              "\n",
              "    [theme=dark] .colab-df-convert {\n",
              "      background-color: #3B4455;\n",
              "      fill: #D2E3FC;\n",
              "    }\n",
              "\n",
              "    [theme=dark] .colab-df-convert:hover {\n",
              "      background-color: #434B5C;\n",
              "      box-shadow: 0px 1px 3px 1px rgba(0, 0, 0, 0.15);\n",
              "      filter: drop-shadow(0px 1px 2px rgba(0, 0, 0, 0.3));\n",
              "      fill: #FFFFFF;\n",
              "    }\n",
              "  </style>\n",
              "\n",
              "      <script>\n",
              "        const buttonEl =\n",
              "          document.querySelector('#df-c694d127-1476-4a32-9ab5-b7948211122f button.colab-df-convert');\n",
              "        buttonEl.style.display =\n",
              "          google.colab.kernel.accessAllowed ? 'block' : 'none';\n",
              "\n",
              "        async function convertToInteractive(key) {\n",
              "          const element = document.querySelector('#df-c694d127-1476-4a32-9ab5-b7948211122f');\n",
              "          const dataTable =\n",
              "            await google.colab.kernel.invokeFunction('convertToInteractive',\n",
              "                                                     [key], {});\n",
              "          if (!dataTable) return;\n",
              "\n",
              "          const docLinkHtml = 'Like what you see? Visit the ' +\n",
              "            '<a target=\"_blank\" href=https://colab.research.google.com/notebooks/data_table.ipynb>data table notebook</a>'\n",
              "            + ' to learn more about interactive tables.';\n",
              "          element.innerHTML = '';\n",
              "          dataTable['output_type'] = 'display_data';\n",
              "          await google.colab.output.renderOutput(dataTable, element);\n",
              "          const docLink = document.createElement('div');\n",
              "          docLink.innerHTML = docLinkHtml;\n",
              "          element.appendChild(docLink);\n",
              "        }\n",
              "      </script>\n",
              "    </div>\n",
              "  </div>\n",
              "  "
            ]
          },
          "metadata": {},
          "execution_count": 46
        }
      ]
    },
    {
      "cell_type": "code",
      "source": [
        "dferr.user_id.nunique()"
      ],
      "metadata": {
        "colab": {
          "base_uri": "https://localhost:8080/"
        },
        "id": "px__Wo0iEVf5",
        "outputId": "d50b6a1b-497f-47f9-c575-73cb272c6adb"
      },
      "execution_count": null,
      "outputs": [
        {
          "output_type": "execute_result",
          "data": {
            "text/plain": [
              "14763"
            ]
          },
          "metadata": {},
          "execution_count": 47
        }
      ]
    },
    {
      "cell_type": "code",
      "source": [
        "dferr.time.max()"
      ],
      "metadata": {
        "colab": {
          "base_uri": "https://localhost:8080/",
          "height": 36
        },
        "id": "MnfFT-LbGEic",
        "outputId": "7557255e-e962-4190-800f-b8f940e155ac"
      },
      "execution_count": null,
      "outputs": [
        {
          "output_type": "execute_result",
          "data": {
            "text/plain": [
              "'2020-12-02 18:51:52'"
            ],
            "application/vnd.google.colaboratory.intrinsic+json": {
              "type": "string"
            }
          },
          "metadata": {},
          "execution_count": 48
        }
      ]
    },
    {
      "cell_type": "code",
      "source": [
        "dferr.time.min()"
      ],
      "metadata": {
        "colab": {
          "base_uri": "https://localhost:8080/",
          "height": 36
        },
        "id": "ZNicOo2nGhFw",
        "outputId": "490043a4-597f-4bbd-c0f9-25fff438294d"
      },
      "execution_count": null,
      "outputs": [
        {
          "output_type": "execute_result",
          "data": {
            "text/plain": [
              "'2020-10-31 23:59:59'"
            ],
            "application/vnd.google.colaboratory.intrinsic+json": {
              "type": "string"
            }
          },
          "metadata": {},
          "execution_count": 49
        }
      ]
    },
    {
      "cell_type": "markdown",
      "source": [
        "# Summary"
      ],
      "metadata": {
        "id": "XvGcQwenxWVi"
      }
    },
    {
      "cell_type": "markdown",
      "source": [
        "### quality data의 time : 2020년 10월 31일 23:50 ~ 2020년 11월 29일 09:00\n",
        "### problem data의 time : 2020년 11월 01일 00:00 ~ 2020년 11월 30일 23:00\n",
        "### error data의 time : 2020년 10월 31일 23:59:59 ~ 2020년 12월 02일 18:51:52\n"
      ],
      "metadata": {
        "id": "pqo9062UwgcK"
      }
    },
    {
      "cell_type": "markdown",
      "source": [
        "# 모델링 (baseline)"
      ],
      "metadata": {
        "id": "camWOrM677fv"
      }
    },
    {
      "cell_type": "code",
      "source": [
        "\n",
        "import datetime as dt\n",
        "from tqdm import tqdm\n",
        "import gc\n",
        "import random\n",
        "import lightgbm as lgb\n",
        "import re\n",
        "from sklearn.metrics import *\n",
        "from sklearn.model_selection import KFold\n",
        "import warnings\n",
        "warnings.filterwarnings(action='ignore')\n",
        "\n",
        "# 필요한 함수 정의\n",
        "def make_datetime(x):\n",
        "    # string 타입의 Time column을 datetime 타입으로 변경\n",
        "    x     = str(x)\n",
        "    year  = int(x[:4])\n",
        "    month = int(x[4:6])\n",
        "    day   = int(x[6:8])\n",
        "    hour  = int(x[8:10])\n",
        "    #mim  = int(x[10:12])\n",
        "    #sec  = int(x[12:])\n",
        "    return dt.datetime(year, month, day, hour)\n",
        "\n",
        "def string2num(x):\n",
        "    # (,)( )과 같은 불필요한 데이터 정제\n",
        "    x = re.sub(r\"[^0-9]+\", '', str(x))\n",
        "    if x =='':\n",
        "        return 0\n",
        "    else:\n",
        "        return int(x)\n",
        "\n",
        "\n",
        "PATH = '{데이터가 저장된 폴더 경로}'"
      ],
      "metadata": {
        "id": "J7Bnjjq31zn9"
      },
      "execution_count": null,
      "outputs": []
    },
    {
      "cell_type": "code",
      "source": [
        "# 데이터 설명을 확인하면\n",
        "# ueser_id가 10000부터 24999까지 총 15000개가 연속적으로 존재.\n",
        "display(train_error.head())\n",
        "train_user_id_max = 24999\n",
        "train_user_id_min = 10000\n",
        "train_user_number = 15000"
      ],
      "metadata": {
        "id": "ND7cxXRw-Oe0",
        "colab": {
          "base_uri": "https://localhost:8080/",
          "height": 206
        },
        "outputId": "40e4974d-7e22-4544-c1c4-b649bbb18484"
      },
      "execution_count": null,
      "outputs": [
        {
          "output_type": "display_data",
          "data": {
            "text/plain": [
              "   Unnamed: 0  user_id                 time model_nm       fwver  errtype  \\\n",
              "0           0    10000  2020-11-01 02:56:16  model_3  05.15.2138       15   \n",
              "1           1    10000  2020-11-01 03:03:09  model_3  05.15.2138       12   \n",
              "2           2    10000  2020-11-01 03:03:09  model_3  05.15.2138       11   \n",
              "3           3    10000  2020-11-01 05:05:14  model_3  05.15.2138       16   \n",
              "4           4    10000  2020-11-01 05:05:15  model_3  05.15.2138        4   \n",
              "\n",
              "  errcode  \n",
              "0       1  \n",
              "1       1  \n",
              "2       1  \n",
              "3       1  \n",
              "4       0  "
            ],
            "text/html": [
              "\n",
              "  <div id=\"df-db7689c9-3d10-444d-818e-4ed28e20f7da\">\n",
              "    <div class=\"colab-df-container\">\n",
              "      <div>\n",
              "<style scoped>\n",
              "    .dataframe tbody tr th:only-of-type {\n",
              "        vertical-align: middle;\n",
              "    }\n",
              "\n",
              "    .dataframe tbody tr th {\n",
              "        vertical-align: top;\n",
              "    }\n",
              "\n",
              "    .dataframe thead th {\n",
              "        text-align: right;\n",
              "    }\n",
              "</style>\n",
              "<table border=\"1\" class=\"dataframe\">\n",
              "  <thead>\n",
              "    <tr style=\"text-align: right;\">\n",
              "      <th></th>\n",
              "      <th>Unnamed: 0</th>\n",
              "      <th>user_id</th>\n",
              "      <th>time</th>\n",
              "      <th>model_nm</th>\n",
              "      <th>fwver</th>\n",
              "      <th>errtype</th>\n",
              "      <th>errcode</th>\n",
              "    </tr>\n",
              "  </thead>\n",
              "  <tbody>\n",
              "    <tr>\n",
              "      <th>0</th>\n",
              "      <td>0</td>\n",
              "      <td>10000</td>\n",
              "      <td>2020-11-01 02:56:16</td>\n",
              "      <td>model_3</td>\n",
              "      <td>05.15.2138</td>\n",
              "      <td>15</td>\n",
              "      <td>1</td>\n",
              "    </tr>\n",
              "    <tr>\n",
              "      <th>1</th>\n",
              "      <td>1</td>\n",
              "      <td>10000</td>\n",
              "      <td>2020-11-01 03:03:09</td>\n",
              "      <td>model_3</td>\n",
              "      <td>05.15.2138</td>\n",
              "      <td>12</td>\n",
              "      <td>1</td>\n",
              "    </tr>\n",
              "    <tr>\n",
              "      <th>2</th>\n",
              "      <td>2</td>\n",
              "      <td>10000</td>\n",
              "      <td>2020-11-01 03:03:09</td>\n",
              "      <td>model_3</td>\n",
              "      <td>05.15.2138</td>\n",
              "      <td>11</td>\n",
              "      <td>1</td>\n",
              "    </tr>\n",
              "    <tr>\n",
              "      <th>3</th>\n",
              "      <td>3</td>\n",
              "      <td>10000</td>\n",
              "      <td>2020-11-01 05:05:14</td>\n",
              "      <td>model_3</td>\n",
              "      <td>05.15.2138</td>\n",
              "      <td>16</td>\n",
              "      <td>1</td>\n",
              "    </tr>\n",
              "    <tr>\n",
              "      <th>4</th>\n",
              "      <td>4</td>\n",
              "      <td>10000</td>\n",
              "      <td>2020-11-01 05:05:15</td>\n",
              "      <td>model_3</td>\n",
              "      <td>05.15.2138</td>\n",
              "      <td>4</td>\n",
              "      <td>0</td>\n",
              "    </tr>\n",
              "  </tbody>\n",
              "</table>\n",
              "</div>\n",
              "      <button class=\"colab-df-convert\" onclick=\"convertToInteractive('df-db7689c9-3d10-444d-818e-4ed28e20f7da')\"\n",
              "              title=\"Convert this dataframe to an interactive table.\"\n",
              "              style=\"display:none;\">\n",
              "        \n",
              "  <svg xmlns=\"http://www.w3.org/2000/svg\" height=\"24px\"viewBox=\"0 0 24 24\"\n",
              "       width=\"24px\">\n",
              "    <path d=\"M0 0h24v24H0V0z\" fill=\"none\"/>\n",
              "    <path d=\"M18.56 5.44l.94 2.06.94-2.06 2.06-.94-2.06-.94-.94-2.06-.94 2.06-2.06.94zm-11 1L8.5 8.5l.94-2.06 2.06-.94-2.06-.94L8.5 2.5l-.94 2.06-2.06.94zm10 10l.94 2.06.94-2.06 2.06-.94-2.06-.94-.94-2.06-.94 2.06-2.06.94z\"/><path d=\"M17.41 7.96l-1.37-1.37c-.4-.4-.92-.59-1.43-.59-.52 0-1.04.2-1.43.59L10.3 9.45l-7.72 7.72c-.78.78-.78 2.05 0 2.83L4 21.41c.39.39.9.59 1.41.59.51 0 1.02-.2 1.41-.59l7.78-7.78 2.81-2.81c.8-.78.8-2.07 0-2.86zM5.41 20L4 18.59l7.72-7.72 1.47 1.35L5.41 20z\"/>\n",
              "  </svg>\n",
              "      </button>\n",
              "      \n",
              "  <style>\n",
              "    .colab-df-container {\n",
              "      display:flex;\n",
              "      flex-wrap:wrap;\n",
              "      gap: 12px;\n",
              "    }\n",
              "\n",
              "    .colab-df-convert {\n",
              "      background-color: #E8F0FE;\n",
              "      border: none;\n",
              "      border-radius: 50%;\n",
              "      cursor: pointer;\n",
              "      display: none;\n",
              "      fill: #1967D2;\n",
              "      height: 32px;\n",
              "      padding: 0 0 0 0;\n",
              "      width: 32px;\n",
              "    }\n",
              "\n",
              "    .colab-df-convert:hover {\n",
              "      background-color: #E2EBFA;\n",
              "      box-shadow: 0px 1px 2px rgba(60, 64, 67, 0.3), 0px 1px 3px 1px rgba(60, 64, 67, 0.15);\n",
              "      fill: #174EA6;\n",
              "    }\n",
              "\n",
              "    [theme=dark] .colab-df-convert {\n",
              "      background-color: #3B4455;\n",
              "      fill: #D2E3FC;\n",
              "    }\n",
              "\n",
              "    [theme=dark] .colab-df-convert:hover {\n",
              "      background-color: #434B5C;\n",
              "      box-shadow: 0px 1px 3px 1px rgba(0, 0, 0, 0.15);\n",
              "      filter: drop-shadow(0px 1px 2px rgba(0, 0, 0, 0.3));\n",
              "      fill: #FFFFFF;\n",
              "    }\n",
              "  </style>\n",
              "\n",
              "      <script>\n",
              "        const buttonEl =\n",
              "          document.querySelector('#df-db7689c9-3d10-444d-818e-4ed28e20f7da button.colab-df-convert');\n",
              "        buttonEl.style.display =\n",
              "          google.colab.kernel.accessAllowed ? 'block' : 'none';\n",
              "\n",
              "        async function convertToInteractive(key) {\n",
              "          const element = document.querySelector('#df-db7689c9-3d10-444d-818e-4ed28e20f7da');\n",
              "          const dataTable =\n",
              "            await google.colab.kernel.invokeFunction('convertToInteractive',\n",
              "                                                     [key], {});\n",
              "          if (!dataTable) return;\n",
              "\n",
              "          const docLinkHtml = 'Like what you see? Visit the ' +\n",
              "            '<a target=\"_blank\" href=https://colab.research.google.com/notebooks/data_table.ipynb>data table notebook</a>'\n",
              "            + ' to learn more about interactive tables.';\n",
              "          element.innerHTML = '';\n",
              "          dataTable['output_type'] = 'display_data';\n",
              "          await google.colab.output.renderOutput(dataTable, element);\n",
              "          const docLink = document.createElement('div');\n",
              "          docLink.innerHTML = docLinkHtml;\n",
              "          element.appendChild(docLink);\n",
              "        }\n",
              "      </script>\n",
              "    </div>\n",
              "  </div>\n",
              "  "
            ]
          },
          "metadata": {}
        }
      ]
    },
    {
      "cell_type": "code",
      "source": [
        "print(np.sort(train_error.errtype.unique()))\n",
        "# errtype이 1부터 42까지 29를 제외한 41개가 존재."
      ],
      "metadata": {
        "id": "Yud-1eM8-ZBC",
        "colab": {
          "base_uri": "https://localhost:8080/"
        },
        "outputId": "7fdb8b16-5bae-4139-b566-321a4d1205be"
      },
      "execution_count": null,
      "outputs": [
        {
          "output_type": "stream",
          "name": "stdout",
          "text": [
            "[ 1  2  3  4  5  6  7  8  9 10 11 12 13 14 15 16 17 18 19 20 21 22 23 24\n",
            " 25 26 27 28 30 31 32 33 34 35 36 37 38 39 40 41 42]\n"
          ]
        }
      ]
    },
    {
      "cell_type": "code",
      "source": [
        "# user_id와 errtype만을 사용하여 데이터 셋 생성\n",
        "# 모든 일자에 대해서 errtype별 발생 건수를 count\n",
        "# pandas의 groupby를 활용할 경우 큰 연산 자원이 필요.\n",
        "# numpy로 placeholder를 만들어 구현함.\n",
        "id_error = train_error[['user_id','errtype']].values\n",
        "error = np.zeros((train_user_number,42))\n",
        "\n",
        "for person_idx, err in tqdm(id_error):\n",
        "    # person_idx - train_user_id_min 위치에 person_idx, errtype에 해당하는 error값을 +1\n",
        "    error[person_idx - train_user_id_min,err - 1] += 1\n",
        "error.shape"
      ],
      "metadata": {
        "id": "zeM55UtB-b6z",
        "colab": {
          "base_uri": "https://localhost:8080/"
        },
        "outputId": "fa853626-084c-4912-e1f4-a82eff672d40"
      },
      "execution_count": null,
      "outputs": [
        {
          "output_type": "stream",
          "name": "stderr",
          "text": [
            "100%|██████████| 16554663/16554663 [00:45<00:00, 364948.49it/s]\n"
          ]
        },
        {
          "output_type": "execute_result",
          "data": {
            "text/plain": [
              "(15000, 42)"
            ]
          },
          "metadata": {},
          "execution_count": 53
        }
      ]
    },
    {
      "cell_type": "code",
      "source": [
        "problem = np.zeros(15000)\n",
        "# error와 동일한 방법으로 person_idx - 10000 위치에 \n",
        "# person_idx의 problem이 한 번이라도 발생했다면 1\n",
        "# 없다면 0\n",
        "problem[train_problem.user_id.unique()-10000] = 1\n",
        "problem.shape"
      ],
      "metadata": {
        "id": "3_n-5epE-jB5",
        "colab": {
          "base_uri": "https://localhost:8080/"
        },
        "outputId": "db5c01ad-c5a6-4e23-d0c6-3c967462e087"
      },
      "execution_count": null,
      "outputs": [
        {
          "output_type": "execute_result",
          "data": {
            "text/plain": [
              "(15000,)"
            ]
          },
          "metadata": {},
          "execution_count": 54
        }
      ]
    },
    {
      "cell_type": "code",
      "source": [
        "# 변수 이름 변경\n",
        "# error  -> train_x\n",
        "# problem-> train_y\n",
        "\n",
        "train_x = error\n",
        "train_y = problem\n",
        "del error, problem\n",
        "print(train_x.shape)\n",
        "print(train_y.shape)"
      ],
      "metadata": {
        "id": "8JYrhUFX-2sx",
        "colab": {
          "base_uri": "https://localhost:8080/"
        },
        "outputId": "e2e51321-e6fb-4dd3-9643-70f31ee1d047"
      },
      "execution_count": null,
      "outputs": [
        {
          "output_type": "stream",
          "name": "stdout",
          "text": [
            "(15000, 42)\n",
            "(15000,)\n"
          ]
        }
      ]
    },
    {
      "cell_type": "code",
      "source": [
        "# Light-gbm 모델 훈련\n",
        "# Train\n",
        "#-------------------------------------------------------------------------------------\n",
        "# validation auc score를 확인하기 위해 정의\n",
        "def f_pr_auc(probas_pred, y_true):\n",
        "    labels=y_true.get_label()\n",
        "    p, r, _ = precision_recall_curve(labels, probas_pred)\n",
        "    score=auc(r,p) \n",
        "    return \"pr_auc\", score, True\n",
        "#-------------------------------------------------------------------------------------\n",
        "models     = []\n",
        "recalls    = []\n",
        "precisions = []\n",
        "auc_scores   = []\n",
        "threshold = 0.5\n",
        "# 파라미터 설정\n",
        "params =      {\n",
        "                'boosting_type' : 'gbdt',\n",
        "                'objective'     : 'binary',\n",
        "                'metric'        : 'auc',\n",
        "                'seed': 1015\n",
        "                }\n",
        "#-------------------------------------------------------------------------------------\n",
        "# 5 Kfold cross validation\n",
        "k_fold = KFold(n_splits=5, shuffle=True, random_state=42)\n",
        "for train_idx, val_idx in k_fold.split(train_x):\n",
        "\n",
        "    # split train, validation set\n",
        "    X = train_x[train_idx]\n",
        "    y = train_y[train_idx]\n",
        "    valid_x = train_x[val_idx]\n",
        "    valid_y = train_y[val_idx]\n",
        "\n",
        "    d_train= lgb.Dataset(X, y)\n",
        "    d_val  = lgb.Dataset(valid_x, valid_y)\n",
        "    \n",
        "    #run traning\n",
        "    model = lgb.train(\n",
        "                        params,\n",
        "                        train_set       = d_train,\n",
        "                        num_boost_round = 1000,\n",
        "                        valid_sets      = d_val,\n",
        "                        feval           = f_pr_auc,\n",
        "                        verbose_eval    = 20, \n",
        "                        early_stopping_rounds = 3\n",
        "                       )\n",
        "    \n",
        "    # cal valid prediction\n",
        "    valid_prob = model.predict(valid_x)\n",
        "    valid_pred = np.where(valid_prob > threshold, 1, 0)\n",
        "    \n",
        "    # cal scores\n",
        "    recall    = recall_score(    valid_y, valid_pred)\n",
        "    precision = precision_score( valid_y, valid_pred)\n",
        "    auc_score = roc_auc_score(   valid_y, valid_prob)\n",
        "\n",
        "    # append scores\n",
        "    models.append(model)\n",
        "    recalls.append(recall)\n",
        "    precisions.append(precision)\n",
        "    auc_scores.append(auc_score)\n",
        "\n",
        "    print('==========================================================')"
      ],
      "metadata": {
        "id": "oA_DrRskAABM",
        "colab": {
          "base_uri": "https://localhost:8080/"
        },
        "outputId": "a2162a52-b80e-49c3-cc2c-138a2e3ecbe1"
      },
      "execution_count": null,
      "outputs": [
        {
          "output_type": "stream",
          "name": "stdout",
          "text": [
            "Training until validation scores don't improve for 3 rounds.\n",
            "[20]\tvalid_0's auc: 0.797673\tvalid_0's pr_auc: 0.792522\n",
            "Early stopping, best iteration is:\n",
            "[25]\tvalid_0's auc: 0.801171\tvalid_0's pr_auc: 0.797338\n",
            "==========================================================\n",
            "Training until validation scores don't improve for 3 rounds.\n",
            "Early stopping, best iteration is:\n",
            "[2]\tvalid_0's auc: 0.788479\tvalid_0's pr_auc: 0.318902\n",
            "==========================================================\n",
            "Training until validation scores don't improve for 3 rounds.\n",
            "Early stopping, best iteration is:\n",
            "[2]\tvalid_0's auc: 0.758498\tvalid_0's pr_auc: 0.358092\n",
            "==========================================================\n",
            "Training until validation scores don't improve for 3 rounds.\n",
            "Early stopping, best iteration is:\n",
            "[10]\tvalid_0's auc: 0.807468\tvalid_0's pr_auc: 0.551358\n",
            "==========================================================\n",
            "Training until validation scores don't improve for 3 rounds.\n",
            "Early stopping, best iteration is:\n",
            "[14]\tvalid_0's auc: 0.802301\tvalid_0's pr_auc: 0.974445\n",
            "==========================================================\n"
          ]
        }
      ]
    },
    {
      "cell_type": "code",
      "source": [
        "# 교차검증 점수 확인\n",
        "print(np.mean(auc_scores))"
      ],
      "metadata": {
        "id": "KeQExn6cAK8Z",
        "colab": {
          "base_uri": "https://localhost:8080/"
        },
        "outputId": "aba0700a-1632-4ffd-8565-b095f7d9ae8f"
      },
      "execution_count": null,
      "outputs": [
        {
          "output_type": "stream",
          "name": "stdout",
          "text": [
            "0.7915834292563759\n"
          ]
        }
      ]
    },
    {
      "cell_type": "code",
      "source": [
        "# 제출 파일 생성\n",
        "test_err  = pd.read_csv(base_path+'test_err_data.csv')\n",
        "display(test_err.head())"
      ],
      "metadata": {
        "id": "XFStcQ8UBEql",
        "colab": {
          "base_uri": "https://localhost:8080/",
          "height": 354
        },
        "outputId": "9465fe41-ba4b-4b43-b8ee-9d0b62a254ad"
      },
      "execution_count": null,
      "outputs": [
        {
          "output_type": "error",
          "ename": "FileNotFoundError",
          "evalue": "ignored",
          "traceback": [
            "\u001b[0;31m---------------------------------------------------------------------------\u001b[0m",
            "\u001b[0;31mFileNotFoundError\u001b[0m                         Traceback (most recent call last)",
            "\u001b[0;32m<ipython-input-58-a8ac5c027bc0>\u001b[0m in \u001b[0;36m<module>\u001b[0;34m()\u001b[0m\n\u001b[1;32m      1\u001b[0m \u001b[0;31m# 제출 파일 생성\u001b[0m\u001b[0;34m\u001b[0m\u001b[0;34m\u001b[0m\u001b[0;34m\u001b[0m\u001b[0m\n\u001b[0;32m----> 2\u001b[0;31m \u001b[0mtest_err\u001b[0m  \u001b[0;34m=\u001b[0m \u001b[0mpd\u001b[0m\u001b[0;34m.\u001b[0m\u001b[0mread_csv\u001b[0m\u001b[0;34m(\u001b[0m\u001b[0mbase_path\u001b[0m\u001b[0;34m+\u001b[0m\u001b[0;34m'test_err_data.csv'\u001b[0m\u001b[0;34m)\u001b[0m\u001b[0;34m\u001b[0m\u001b[0;34m\u001b[0m\u001b[0m\n\u001b[0m\u001b[1;32m      3\u001b[0m \u001b[0mdisplay\u001b[0m\u001b[0;34m(\u001b[0m\u001b[0mtest_err\u001b[0m\u001b[0;34m.\u001b[0m\u001b[0mhead\u001b[0m\u001b[0;34m(\u001b[0m\u001b[0;34m)\u001b[0m\u001b[0;34m)\u001b[0m\u001b[0;34m\u001b[0m\u001b[0;34m\u001b[0m\u001b[0m\n",
            "\u001b[0;32m/usr/local/lib/python3.7/dist-packages/pandas/util/_decorators.py\u001b[0m in \u001b[0;36mwrapper\u001b[0;34m(*args, **kwargs)\u001b[0m\n\u001b[1;32m    309\u001b[0m                     \u001b[0mstacklevel\u001b[0m\u001b[0;34m=\u001b[0m\u001b[0mstacklevel\u001b[0m\u001b[0;34m,\u001b[0m\u001b[0;34m\u001b[0m\u001b[0;34m\u001b[0m\u001b[0m\n\u001b[1;32m    310\u001b[0m                 )\n\u001b[0;32m--> 311\u001b[0;31m             \u001b[0;32mreturn\u001b[0m \u001b[0mfunc\u001b[0m\u001b[0;34m(\u001b[0m\u001b[0;34m*\u001b[0m\u001b[0margs\u001b[0m\u001b[0;34m,\u001b[0m \u001b[0;34m**\u001b[0m\u001b[0mkwargs\u001b[0m\u001b[0;34m)\u001b[0m\u001b[0;34m\u001b[0m\u001b[0;34m\u001b[0m\u001b[0m\n\u001b[0m\u001b[1;32m    312\u001b[0m \u001b[0;34m\u001b[0m\u001b[0m\n\u001b[1;32m    313\u001b[0m         \u001b[0;32mreturn\u001b[0m \u001b[0mwrapper\u001b[0m\u001b[0;34m\u001b[0m\u001b[0;34m\u001b[0m\u001b[0m\n",
            "\u001b[0;32m/usr/local/lib/python3.7/dist-packages/pandas/io/parsers/readers.py\u001b[0m in \u001b[0;36mread_csv\u001b[0;34m(filepath_or_buffer, sep, delimiter, header, names, index_col, usecols, squeeze, prefix, mangle_dupe_cols, dtype, engine, converters, true_values, false_values, skipinitialspace, skiprows, skipfooter, nrows, na_values, keep_default_na, na_filter, verbose, skip_blank_lines, parse_dates, infer_datetime_format, keep_date_col, date_parser, dayfirst, cache_dates, iterator, chunksize, compression, thousands, decimal, lineterminator, quotechar, quoting, doublequote, escapechar, comment, encoding, encoding_errors, dialect, error_bad_lines, warn_bad_lines, on_bad_lines, delim_whitespace, low_memory, memory_map, float_precision, storage_options)\u001b[0m\n\u001b[1;32m    584\u001b[0m     \u001b[0mkwds\u001b[0m\u001b[0;34m.\u001b[0m\u001b[0mupdate\u001b[0m\u001b[0;34m(\u001b[0m\u001b[0mkwds_defaults\u001b[0m\u001b[0;34m)\u001b[0m\u001b[0;34m\u001b[0m\u001b[0;34m\u001b[0m\u001b[0m\n\u001b[1;32m    585\u001b[0m \u001b[0;34m\u001b[0m\u001b[0m\n\u001b[0;32m--> 586\u001b[0;31m     \u001b[0;32mreturn\u001b[0m \u001b[0m_read\u001b[0m\u001b[0;34m(\u001b[0m\u001b[0mfilepath_or_buffer\u001b[0m\u001b[0;34m,\u001b[0m \u001b[0mkwds\u001b[0m\u001b[0;34m)\u001b[0m\u001b[0;34m\u001b[0m\u001b[0;34m\u001b[0m\u001b[0m\n\u001b[0m\u001b[1;32m    587\u001b[0m \u001b[0;34m\u001b[0m\u001b[0m\n\u001b[1;32m    588\u001b[0m \u001b[0;34m\u001b[0m\u001b[0m\n",
            "\u001b[0;32m/usr/local/lib/python3.7/dist-packages/pandas/io/parsers/readers.py\u001b[0m in \u001b[0;36m_read\u001b[0;34m(filepath_or_buffer, kwds)\u001b[0m\n\u001b[1;32m    480\u001b[0m \u001b[0;34m\u001b[0m\u001b[0m\n\u001b[1;32m    481\u001b[0m     \u001b[0;31m# Create the parser.\u001b[0m\u001b[0;34m\u001b[0m\u001b[0;34m\u001b[0m\u001b[0;34m\u001b[0m\u001b[0m\n\u001b[0;32m--> 482\u001b[0;31m     \u001b[0mparser\u001b[0m \u001b[0;34m=\u001b[0m \u001b[0mTextFileReader\u001b[0m\u001b[0;34m(\u001b[0m\u001b[0mfilepath_or_buffer\u001b[0m\u001b[0;34m,\u001b[0m \u001b[0;34m**\u001b[0m\u001b[0mkwds\u001b[0m\u001b[0;34m)\u001b[0m\u001b[0;34m\u001b[0m\u001b[0;34m\u001b[0m\u001b[0m\n\u001b[0m\u001b[1;32m    483\u001b[0m \u001b[0;34m\u001b[0m\u001b[0m\n\u001b[1;32m    484\u001b[0m     \u001b[0;32mif\u001b[0m \u001b[0mchunksize\u001b[0m \u001b[0;32mor\u001b[0m \u001b[0miterator\u001b[0m\u001b[0;34m:\u001b[0m\u001b[0;34m\u001b[0m\u001b[0;34m\u001b[0m\u001b[0m\n",
            "\u001b[0;32m/usr/local/lib/python3.7/dist-packages/pandas/io/parsers/readers.py\u001b[0m in \u001b[0;36m__init__\u001b[0;34m(self, f, engine, **kwds)\u001b[0m\n\u001b[1;32m    809\u001b[0m             \u001b[0mself\u001b[0m\u001b[0;34m.\u001b[0m\u001b[0moptions\u001b[0m\u001b[0;34m[\u001b[0m\u001b[0;34m\"has_index_names\"\u001b[0m\u001b[0;34m]\u001b[0m \u001b[0;34m=\u001b[0m \u001b[0mkwds\u001b[0m\u001b[0;34m[\u001b[0m\u001b[0;34m\"has_index_names\"\u001b[0m\u001b[0;34m]\u001b[0m\u001b[0;34m\u001b[0m\u001b[0;34m\u001b[0m\u001b[0m\n\u001b[1;32m    810\u001b[0m \u001b[0;34m\u001b[0m\u001b[0m\n\u001b[0;32m--> 811\u001b[0;31m         \u001b[0mself\u001b[0m\u001b[0;34m.\u001b[0m\u001b[0m_engine\u001b[0m \u001b[0;34m=\u001b[0m \u001b[0mself\u001b[0m\u001b[0;34m.\u001b[0m\u001b[0m_make_engine\u001b[0m\u001b[0;34m(\u001b[0m\u001b[0mself\u001b[0m\u001b[0;34m.\u001b[0m\u001b[0mengine\u001b[0m\u001b[0;34m)\u001b[0m\u001b[0;34m\u001b[0m\u001b[0;34m\u001b[0m\u001b[0m\n\u001b[0m\u001b[1;32m    812\u001b[0m \u001b[0;34m\u001b[0m\u001b[0m\n\u001b[1;32m    813\u001b[0m     \u001b[0;32mdef\u001b[0m \u001b[0mclose\u001b[0m\u001b[0;34m(\u001b[0m\u001b[0mself\u001b[0m\u001b[0;34m)\u001b[0m\u001b[0;34m:\u001b[0m\u001b[0;34m\u001b[0m\u001b[0;34m\u001b[0m\u001b[0m\n",
            "\u001b[0;32m/usr/local/lib/python3.7/dist-packages/pandas/io/parsers/readers.py\u001b[0m in \u001b[0;36m_make_engine\u001b[0;34m(self, engine)\u001b[0m\n\u001b[1;32m   1038\u001b[0m             )\n\u001b[1;32m   1039\u001b[0m         \u001b[0;31m# error: Too many arguments for \"ParserBase\"\u001b[0m\u001b[0;34m\u001b[0m\u001b[0;34m\u001b[0m\u001b[0;34m\u001b[0m\u001b[0m\n\u001b[0;32m-> 1040\u001b[0;31m         \u001b[0;32mreturn\u001b[0m \u001b[0mmapping\u001b[0m\u001b[0;34m[\u001b[0m\u001b[0mengine\u001b[0m\u001b[0;34m]\u001b[0m\u001b[0;34m(\u001b[0m\u001b[0mself\u001b[0m\u001b[0;34m.\u001b[0m\u001b[0mf\u001b[0m\u001b[0;34m,\u001b[0m \u001b[0;34m**\u001b[0m\u001b[0mself\u001b[0m\u001b[0;34m.\u001b[0m\u001b[0moptions\u001b[0m\u001b[0;34m)\u001b[0m  \u001b[0;31m# type: ignore[call-arg]\u001b[0m\u001b[0;34m\u001b[0m\u001b[0;34m\u001b[0m\u001b[0m\n\u001b[0m\u001b[1;32m   1041\u001b[0m \u001b[0;34m\u001b[0m\u001b[0m\n\u001b[1;32m   1042\u001b[0m     \u001b[0;32mdef\u001b[0m \u001b[0m_failover_to_python\u001b[0m\u001b[0;34m(\u001b[0m\u001b[0mself\u001b[0m\u001b[0;34m)\u001b[0m\u001b[0;34m:\u001b[0m\u001b[0;34m\u001b[0m\u001b[0;34m\u001b[0m\u001b[0m\n",
            "\u001b[0;32m/usr/local/lib/python3.7/dist-packages/pandas/io/parsers/c_parser_wrapper.py\u001b[0m in \u001b[0;36m__init__\u001b[0;34m(self, src, **kwds)\u001b[0m\n\u001b[1;32m     49\u001b[0m \u001b[0;34m\u001b[0m\u001b[0m\n\u001b[1;32m     50\u001b[0m         \u001b[0;31m# open handles\u001b[0m\u001b[0;34m\u001b[0m\u001b[0;34m\u001b[0m\u001b[0;34m\u001b[0m\u001b[0m\n\u001b[0;32m---> 51\u001b[0;31m         \u001b[0mself\u001b[0m\u001b[0;34m.\u001b[0m\u001b[0m_open_handles\u001b[0m\u001b[0;34m(\u001b[0m\u001b[0msrc\u001b[0m\u001b[0;34m,\u001b[0m \u001b[0mkwds\u001b[0m\u001b[0;34m)\u001b[0m\u001b[0;34m\u001b[0m\u001b[0;34m\u001b[0m\u001b[0m\n\u001b[0m\u001b[1;32m     52\u001b[0m         \u001b[0;32massert\u001b[0m \u001b[0mself\u001b[0m\u001b[0;34m.\u001b[0m\u001b[0mhandles\u001b[0m \u001b[0;32mis\u001b[0m \u001b[0;32mnot\u001b[0m \u001b[0;32mNone\u001b[0m\u001b[0;34m\u001b[0m\u001b[0;34m\u001b[0m\u001b[0m\n\u001b[1;32m     53\u001b[0m \u001b[0;34m\u001b[0m\u001b[0m\n",
            "\u001b[0;32m/usr/local/lib/python3.7/dist-packages/pandas/io/parsers/base_parser.py\u001b[0m in \u001b[0;36m_open_handles\u001b[0;34m(self, src, kwds)\u001b[0m\n\u001b[1;32m    227\u001b[0m             \u001b[0mmemory_map\u001b[0m\u001b[0;34m=\u001b[0m\u001b[0mkwds\u001b[0m\u001b[0;34m.\u001b[0m\u001b[0mget\u001b[0m\u001b[0;34m(\u001b[0m\u001b[0;34m\"memory_map\"\u001b[0m\u001b[0;34m,\u001b[0m \u001b[0;32mFalse\u001b[0m\u001b[0;34m)\u001b[0m\u001b[0;34m,\u001b[0m\u001b[0;34m\u001b[0m\u001b[0;34m\u001b[0m\u001b[0m\n\u001b[1;32m    228\u001b[0m             \u001b[0mstorage_options\u001b[0m\u001b[0;34m=\u001b[0m\u001b[0mkwds\u001b[0m\u001b[0;34m.\u001b[0m\u001b[0mget\u001b[0m\u001b[0;34m(\u001b[0m\u001b[0;34m\"storage_options\"\u001b[0m\u001b[0;34m,\u001b[0m \u001b[0;32mNone\u001b[0m\u001b[0;34m)\u001b[0m\u001b[0;34m,\u001b[0m\u001b[0;34m\u001b[0m\u001b[0;34m\u001b[0m\u001b[0m\n\u001b[0;32m--> 229\u001b[0;31m             \u001b[0merrors\u001b[0m\u001b[0;34m=\u001b[0m\u001b[0mkwds\u001b[0m\u001b[0;34m.\u001b[0m\u001b[0mget\u001b[0m\u001b[0;34m(\u001b[0m\u001b[0;34m\"encoding_errors\"\u001b[0m\u001b[0;34m,\u001b[0m \u001b[0;34m\"strict\"\u001b[0m\u001b[0;34m)\u001b[0m\u001b[0;34m,\u001b[0m\u001b[0;34m\u001b[0m\u001b[0;34m\u001b[0m\u001b[0m\n\u001b[0m\u001b[1;32m    230\u001b[0m         )\n\u001b[1;32m    231\u001b[0m \u001b[0;34m\u001b[0m\u001b[0m\n",
            "\u001b[0;32m/usr/local/lib/python3.7/dist-packages/pandas/io/common.py\u001b[0m in \u001b[0;36mget_handle\u001b[0;34m(path_or_buf, mode, encoding, compression, memory_map, is_text, errors, storage_options)\u001b[0m\n\u001b[1;32m    705\u001b[0m                 \u001b[0mencoding\u001b[0m\u001b[0;34m=\u001b[0m\u001b[0mioargs\u001b[0m\u001b[0;34m.\u001b[0m\u001b[0mencoding\u001b[0m\u001b[0;34m,\u001b[0m\u001b[0;34m\u001b[0m\u001b[0;34m\u001b[0m\u001b[0m\n\u001b[1;32m    706\u001b[0m                 \u001b[0merrors\u001b[0m\u001b[0;34m=\u001b[0m\u001b[0merrors\u001b[0m\u001b[0;34m,\u001b[0m\u001b[0;34m\u001b[0m\u001b[0;34m\u001b[0m\u001b[0m\n\u001b[0;32m--> 707\u001b[0;31m                 \u001b[0mnewline\u001b[0m\u001b[0;34m=\u001b[0m\u001b[0;34m\"\"\u001b[0m\u001b[0;34m,\u001b[0m\u001b[0;34m\u001b[0m\u001b[0;34m\u001b[0m\u001b[0m\n\u001b[0m\u001b[1;32m    708\u001b[0m             )\n\u001b[1;32m    709\u001b[0m         \u001b[0;32melse\u001b[0m\u001b[0;34m:\u001b[0m\u001b[0;34m\u001b[0m\u001b[0;34m\u001b[0m\u001b[0m\n",
            "\u001b[0;31mFileNotFoundError\u001b[0m: [Errno 2] No such file or directory: '/content/drive/MyDrive/Colab Notebooks/data/235687_시스템 품질 변화로 인한 사용자 불편 예지 AI 경진대회_data/convert/test_err_data.csv'"
          ]
        }
      ]
    },
    {
      "cell_type": "code",
      "source": [
        "# 데이터 설명을 확인하면\n",
        "# test 데이터는 ueser_id가 30000부터 44998까지 총 14999개가 존재.\n",
        "test_user_id_max = 44998\n",
        "test_user_id_min = 30000\n",
        "test_user_number = 14999"
      ],
      "metadata": {
        "id": "ydqIIhpfBOna"
      },
      "execution_count": null,
      "outputs": []
    },
    {
      "cell_type": "code",
      "source": [
        "id_error = test_err[['user_id','errtype']].values\n",
        "test_x = np.zeros((test_user_number,42))\n",
        "for person_idx, err in tqdm(id_error):\n",
        "    # person_idx - test_user_id_min 위치에 person_idx, errtype에 해당하는 error값을 +1\n",
        "    test_x[person_idx - test_user_id_min,err - 1] += 1\n",
        "test_x = test_x.reshape(test_x.shape[0],-1)\n",
        "print(test_x.shape)"
      ],
      "metadata": {
        "id": "eM2ahkPcBRrP"
      },
      "execution_count": null,
      "outputs": []
    },
    {
      "cell_type": "code",
      "source": [
        "# 예측\n",
        "pred_y_list = []\n",
        "for model in models:\n",
        "    pred_y = model.predict(test_x)\n",
        "    pred_y_list.append(pred_y.reshape(-1,1))\n",
        "    \n",
        "pred_ensemble = np.mean(pred_y_list, axis = 0)"
      ],
      "metadata": {
        "id": "IH6JGi72BSzY"
      },
      "execution_count": null,
      "outputs": []
    },
    {
      "cell_type": "code",
      "source": [
        "pred_ensemble"
      ],
      "metadata": {
        "id": "QvOkDet6BUkp"
      },
      "execution_count": null,
      "outputs": []
    },
    {
      "cell_type": "code",
      "source": [
        "sample_submssion = pd.read_csv(base_path+'sample_submission.csv')"
      ],
      "metadata": {
        "id": "gKQBkauJBWy1"
      },
      "execution_count": null,
      "outputs": []
    },
    {
      "cell_type": "code",
      "source": [
        "sample_submssion['problem'] = pred_ensemble.reshape(-1)"
      ],
      "metadata": {
        "id": "2LdlVQU8Bbcv"
      },
      "execution_count": null,
      "outputs": []
    },
    {
      "cell_type": "code",
      "source": [
        "sample_submssion.to_csv(\"dacon_baseline.csv\", index = False)\n",
        "sample_submssion"
      ],
      "metadata": {
        "id": "H98V_GupBbLz"
      },
      "execution_count": null,
      "outputs": []
    },
    {
      "cell_type": "code",
      "source": [
        ""
      ],
      "metadata": {
        "id": "hu1RtqxDBea1"
      },
      "execution_count": null,
      "outputs": []
    }
  ]
}